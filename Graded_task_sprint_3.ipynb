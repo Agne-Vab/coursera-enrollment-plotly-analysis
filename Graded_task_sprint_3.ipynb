{
 "cells": [
  {
   "cell_type": "markdown",
   "metadata": {},
   "source": [
    "# Data Visualization with Python\n",
    "## Coursera Course Dataset Analysis\n",
    "\n",
    "### Table of Contents\n",
    "1. [Introduction](#introduction)\n",
    "2. [Data Import](#data-import)\n",
    "3. [Data Cleaning](#data-cleaning)\n",
    "4. [Exploratory Data Analysis (EDA)](#exploratory-data-analysis-eda)"
   ]
  },
  {
   "cell_type": "markdown",
   "metadata": {},
   "source": [
    "<a id=\"introduction\"></a>\n",
    "\n",
    "---\n",
    "\n",
    "### Introduction"
   ]
  },
  {
   "cell_type": "markdown",
   "metadata": {},
   "source": [
    "### Data Import\n",
    "Importing all needed libraries for analysis and visualization. Also, making sure that plots are displayed inline and work with Jupiter notebook format.  "
   ]
  },
  {
   "cell_type": "code",
   "execution_count": 19,
   "metadata": {},
   "outputs": [
    {
     "data": {
      "text/html": [
       "        <script type=\"text/javascript\">\n",
       "        window.PlotlyConfig = {MathJaxConfig: 'local'};\n",
       "        if (window.MathJax && window.MathJax.Hub && window.MathJax.Hub.Config) {window.MathJax.Hub.Config({SVG: {font: \"STIX-Web\"}});}\n",
       "        if (typeof require !== 'undefined') {\n",
       "        require.undef(\"plotly\");\n",
       "        requirejs.config({\n",
       "            paths: {\n",
       "                'plotly': ['https://cdn.plot.ly/plotly-2.35.2.min']\n",
       "            }\n",
       "        });\n",
       "        require(['plotly'], function(Plotly) {\n",
       "            window._Plotly = Plotly;\n",
       "        });\n",
       "        }\n",
       "        </script>\n",
       "        "
      ]
     },
     "metadata": {},
     "output_type": "display_data"
    },
    {
     "data": {
      "text/html": [
       "        <script type=\"text/javascript\">\n",
       "        window.PlotlyConfig = {MathJaxConfig: 'local'};\n",
       "        if (window.MathJax && window.MathJax.Hub && window.MathJax.Hub.Config) {window.MathJax.Hub.Config({SVG: {font: \"STIX-Web\"}});}\n",
       "        if (typeof require !== 'undefined') {\n",
       "        require.undef(\"plotly\");\n",
       "        requirejs.config({\n",
       "            paths: {\n",
       "                'plotly': ['https://cdn.plot.ly/plotly-2.35.2.min']\n",
       "            }\n",
       "        });\n",
       "        require(['plotly'], function(Plotly) {\n",
       "            window._Plotly = Plotly;\n",
       "        });\n",
       "        }\n",
       "        </script>\n",
       "        "
      ]
     },
     "metadata": {},
     "output_type": "display_data"
    }
   ],
   "source": [
    "import pandas as pd\n",
    "import numpy as np\n",
    "from rapidfuzz import fuzz\n",
    "import matplotlib.pyplot as plt\n",
    "import seaborn as sns\n",
    "import cufflinks as cf\n",
    "import seaborn as sns\n",
    "import plotly.express as px\n",
    "%matplotlib inline\n",
    "from plotly.offline import init_notebook_mode\n",
    "init_notebook_mode(connected=True)\n",
    "cf.go_offline()"
   ]
  },
  {
   "cell_type": "markdown",
   "metadata": {},
   "source": [
    "Next, importing data and seeing preview of it. "
   ]
  },
  {
   "cell_type": "code",
   "execution_count": 20,
   "metadata": {},
   "outputs": [
    {
     "data": {
      "text/html": [
       "<div>\n",
       "<style scoped>\n",
       "    .dataframe tbody tr th:only-of-type {\n",
       "        vertical-align: middle;\n",
       "    }\n",
       "\n",
       "    .dataframe tbody tr th {\n",
       "        vertical-align: top;\n",
       "    }\n",
       "\n",
       "    .dataframe thead th {\n",
       "        text-align: right;\n",
       "    }\n",
       "</style>\n",
       "<table border=\"1\" class=\"dataframe\">\n",
       "  <thead>\n",
       "    <tr style=\"text-align: right;\">\n",
       "      <th></th>\n",
       "      <th>course_title</th>\n",
       "      <th>course_organization</th>\n",
       "      <th>course_Certificate_type</th>\n",
       "      <th>course_rating</th>\n",
       "      <th>course_difficulty</th>\n",
       "      <th>course_students_enrolled</th>\n",
       "    </tr>\n",
       "  </thead>\n",
       "  <tbody>\n",
       "    <tr>\n",
       "      <th>0</th>\n",
       "      <td>IBM Data Science</td>\n",
       "      <td>IBM</td>\n",
       "      <td>PROFESSIONAL CERTIFICATE</td>\n",
       "      <td>4.6</td>\n",
       "      <td>Beginner</td>\n",
       "      <td>480k</td>\n",
       "    </tr>\n",
       "    <tr>\n",
       "      <th>1</th>\n",
       "      <td>Introduction to Data Science</td>\n",
       "      <td>IBM</td>\n",
       "      <td>SPECIALIZATION</td>\n",
       "      <td>4.6</td>\n",
       "      <td>Beginner</td>\n",
       "      <td>310k</td>\n",
       "    </tr>\n",
       "    <tr>\n",
       "      <th>2</th>\n",
       "      <td>The Science of Well-Being</td>\n",
       "      <td>Yale University</td>\n",
       "      <td>COURSE</td>\n",
       "      <td>4.9</td>\n",
       "      <td>Mixed</td>\n",
       "      <td>2.5m</td>\n",
       "    </tr>\n",
       "    <tr>\n",
       "      <th>3</th>\n",
       "      <td>Python for Everybody</td>\n",
       "      <td>University of Michigan</td>\n",
       "      <td>SPECIALIZATION</td>\n",
       "      <td>4.8</td>\n",
       "      <td>Beginner</td>\n",
       "      <td>1.5m</td>\n",
       "    </tr>\n",
       "    <tr>\n",
       "      <th>4</th>\n",
       "      <td>Google IT Support</td>\n",
       "      <td>Google</td>\n",
       "      <td>PROFESSIONAL CERTIFICATE</td>\n",
       "      <td>4.8</td>\n",
       "      <td>Beginner</td>\n",
       "      <td>350k</td>\n",
       "    </tr>\n",
       "  </tbody>\n",
       "</table>\n",
       "</div>"
      ],
      "text/plain": [
       "                   course_title     course_organization  \\\n",
       "0              IBM Data Science                     IBM   \n",
       "1  Introduction to Data Science                     IBM   \n",
       "2     The Science of Well-Being         Yale University   \n",
       "3          Python for Everybody  University of Michigan   \n",
       "4             Google IT Support                  Google   \n",
       "\n",
       "    course_Certificate_type  course_rating course_difficulty  \\\n",
       "0  PROFESSIONAL CERTIFICATE            4.6          Beginner   \n",
       "1            SPECIALIZATION            4.6          Beginner   \n",
       "2                    COURSE            4.9             Mixed   \n",
       "3            SPECIALIZATION            4.8          Beginner   \n",
       "4  PROFESSIONAL CERTIFICATE            4.8          Beginner   \n",
       "\n",
       "  course_students_enrolled  \n",
       "0                     480k  \n",
       "1                     310k  \n",
       "2                     2.5m  \n",
       "3                     1.5m  \n",
       "4                     350k  "
      ]
     },
     "execution_count": 20,
     "metadata": {},
     "output_type": "execute_result"
    }
   ],
   "source": [
    "df = pd.read_csv(\"coursea_data.csv\", index_col=0)\n",
    "df.sort_index(inplace=True)\n",
    "df.head()"
   ]
  },
  {
   "cell_type": "code",
   "execution_count": 21,
   "metadata": {},
   "outputs": [
    {
     "data": {
      "text/plain": [
       "(891, 6)"
      ]
     },
     "execution_count": 21,
     "metadata": {},
     "output_type": "execute_result"
    }
   ],
   "source": [
    "df.shape"
   ]
  },
  {
   "cell_type": "markdown",
   "metadata": {},
   "source": [
    "### Data cleaning\n",
    "\n",
    "#### Data types\n",
    "First, need to fix incorrect data types. "
   ]
  },
  {
   "cell_type": "code",
   "execution_count": 22,
   "metadata": {},
   "outputs": [
    {
     "data": {
      "text/plain": [
       "course_title                 object\n",
       "course_organization          object\n",
       "course_Certificate_type      object\n",
       "course_rating               float64\n",
       "course_difficulty            object\n",
       "course_students_enrolled     object\n",
       "dtype: object"
      ]
     },
     "execution_count": 22,
     "metadata": {},
     "output_type": "execute_result"
    }
   ],
   "source": [
    "df.dtypes"
   ]
  },
  {
   "cell_type": "markdown",
   "metadata": {},
   "source": [
    "String data is set to object type. Will convert it to categorical pandas extension type. It's good practice for performance improvement.  \n",
    "Also, column \"course_students_enrolled\" should be numeric but is object type right now due to having \"k\" and \"m\" values instead of zeros. Need to make it numeric instead. "
   ]
  },
  {
   "cell_type": "code",
   "execution_count": 23,
   "metadata": {},
   "outputs": [
    {
     "data": {
      "text/plain": [
       "array(['k', 'm'], dtype=object)"
      ]
     },
     "execution_count": 23,
     "metadata": {},
     "output_type": "execute_result"
    }
   ],
   "source": [
    "df[[\"course_title\", \"course_organization\", \"course_Certificate_type\", \"course_difficulty\"]] = df[[\"course_title\", \"course_organization\", \"course_Certificate_type\", \"course_difficulty\"]].astype('category')\n",
    "values = df[\"course_students_enrolled\"].str[-1]\n",
    "values.unique()"
   ]
  },
  {
   "cell_type": "code",
   "execution_count": 24,
   "metadata": {},
   "outputs": [],
   "source": [
    "df[\"course_students_enrolled\"] = df[\"course_students_enrolled\"].apply(lambda value: int(float(value[:-1])*1000) if value.endswith(\"k\") else int(float(value[:-1])*1000000))"
   ]
  },
  {
   "cell_type": "code",
   "execution_count": 25,
   "metadata": {},
   "outputs": [
    {
     "data": {
      "text/html": [
       "<div>\n",
       "<style scoped>\n",
       "    .dataframe tbody tr th:only-of-type {\n",
       "        vertical-align: middle;\n",
       "    }\n",
       "\n",
       "    .dataframe tbody tr th {\n",
       "        vertical-align: top;\n",
       "    }\n",
       "\n",
       "    .dataframe thead th {\n",
       "        text-align: right;\n",
       "    }\n",
       "</style>\n",
       "<table border=\"1\" class=\"dataframe\">\n",
       "  <thead>\n",
       "    <tr style=\"text-align: right;\">\n",
       "      <th></th>\n",
       "      <th>course_title</th>\n",
       "      <th>course_organization</th>\n",
       "      <th>course_Certificate_type</th>\n",
       "      <th>course_rating</th>\n",
       "      <th>course_difficulty</th>\n",
       "      <th>course_students_enrolled</th>\n",
       "    </tr>\n",
       "  </thead>\n",
       "  <tbody>\n",
       "    <tr>\n",
       "      <th>0</th>\n",
       "      <td>IBM Data Science</td>\n",
       "      <td>IBM</td>\n",
       "      <td>PROFESSIONAL CERTIFICATE</td>\n",
       "      <td>4.6</td>\n",
       "      <td>Beginner</td>\n",
       "      <td>480000</td>\n",
       "    </tr>\n",
       "    <tr>\n",
       "      <th>1</th>\n",
       "      <td>Introduction to Data Science</td>\n",
       "      <td>IBM</td>\n",
       "      <td>SPECIALIZATION</td>\n",
       "      <td>4.6</td>\n",
       "      <td>Beginner</td>\n",
       "      <td>310000</td>\n",
       "    </tr>\n",
       "    <tr>\n",
       "      <th>2</th>\n",
       "      <td>The Science of Well-Being</td>\n",
       "      <td>Yale University</td>\n",
       "      <td>COURSE</td>\n",
       "      <td>4.9</td>\n",
       "      <td>Mixed</td>\n",
       "      <td>2500000</td>\n",
       "    </tr>\n",
       "  </tbody>\n",
       "</table>\n",
       "</div>"
      ],
      "text/plain": [
       "                   course_title course_organization   course_Certificate_type  \\\n",
       "0              IBM Data Science                 IBM  PROFESSIONAL CERTIFICATE   \n",
       "1  Introduction to Data Science                 IBM            SPECIALIZATION   \n",
       "2     The Science of Well-Being     Yale University                    COURSE   \n",
       "\n",
       "   course_rating course_difficulty  course_students_enrolled  \n",
       "0            4.6          Beginner                    480000  \n",
       "1            4.6          Beginner                    310000  \n",
       "2            4.9             Mixed                   2500000  "
      ]
     },
     "execution_count": 25,
     "metadata": {},
     "output_type": "execute_result"
    }
   ],
   "source": [
    "df.head(3)"
   ]
  },
  {
   "cell_type": "code",
   "execution_count": 26,
   "metadata": {},
   "outputs": [
    {
     "name": "stdout",
     "output_type": "stream",
     "text": [
      "<class 'pandas.core.frame.DataFrame'>\n",
      "Index: 891 entries, 0 to 890\n",
      "Data columns (total 6 columns):\n",
      " #   Column                    Non-Null Count  Dtype   \n",
      "---  ------                    --------------  -----   \n",
      " 0   course_title              891 non-null    category\n",
      " 1   course_organization       891 non-null    category\n",
      " 2   course_Certificate_type   891 non-null    category\n",
      " 3   course_rating             891 non-null    float64 \n",
      " 4   course_difficulty         891 non-null    category\n",
      " 5   course_students_enrolled  891 non-null    int64   \n",
      "dtypes: category(4), float64(1), int64(1)\n",
      "memory usage: 70.9 KB\n"
     ]
    }
   ],
   "source": [
    "df.info()"
   ]
  },
  {
   "cell_type": "markdown",
   "metadata": {},
   "source": [
    "#### Missing values\n",
    "From above it's visible that that there are no nulls. Just in case, can check again using this code."
   ]
  },
  {
   "cell_type": "code",
   "execution_count": 27,
   "metadata": {},
   "outputs": [
    {
     "data": {
      "text/plain": [
       "np.False_"
      ]
     },
     "execution_count": 27,
     "metadata": {},
     "output_type": "execute_result"
    }
   ],
   "source": [
    "df.isnull().any().any()"
   ]
  },
  {
   "cell_type": "markdown",
   "metadata": {},
   "source": [
    "Seems there are none. \n",
    "#### Duplicates\n",
    "First, need to check general overview of the data. Will need to redo type casting because str functions change output back to object type."
   ]
  },
  {
   "cell_type": "code",
   "execution_count": 28,
   "metadata": {},
   "outputs": [
    {
     "data": {
      "text/html": [
       "<div>\n",
       "<style scoped>\n",
       "    .dataframe tbody tr th:only-of-type {\n",
       "        vertical-align: middle;\n",
       "    }\n",
       "\n",
       "    .dataframe tbody tr th {\n",
       "        vertical-align: top;\n",
       "    }\n",
       "\n",
       "    .dataframe thead th {\n",
       "        text-align: right;\n",
       "    }\n",
       "</style>\n",
       "<table border=\"1\" class=\"dataframe\">\n",
       "  <thead>\n",
       "    <tr style=\"text-align: right;\">\n",
       "      <th></th>\n",
       "      <th>course_title</th>\n",
       "      <th>course_organization</th>\n",
       "      <th>course_Certificate_type</th>\n",
       "      <th>course_rating</th>\n",
       "      <th>course_difficulty</th>\n",
       "      <th>course_students_enrolled</th>\n",
       "    </tr>\n",
       "  </thead>\n",
       "  <tbody>\n",
       "    <tr>\n",
       "      <th>count</th>\n",
       "      <td>891</td>\n",
       "      <td>891</td>\n",
       "      <td>891</td>\n",
       "      <td>891.000000</td>\n",
       "      <td>891</td>\n",
       "      <td>8.910000e+02</td>\n",
       "    </tr>\n",
       "    <tr>\n",
       "      <th>unique</th>\n",
       "      <td>888</td>\n",
       "      <td>154</td>\n",
       "      <td>3</td>\n",
       "      <td>NaN</td>\n",
       "      <td>4</td>\n",
       "      <td>NaN</td>\n",
       "    </tr>\n",
       "    <tr>\n",
       "      <th>top</th>\n",
       "      <td>developing your musicianship</td>\n",
       "      <td>university of pennsylvania</td>\n",
       "      <td>course</td>\n",
       "      <td>NaN</td>\n",
       "      <td>beginner</td>\n",
       "      <td>NaN</td>\n",
       "    </tr>\n",
       "    <tr>\n",
       "      <th>freq</th>\n",
       "      <td>2</td>\n",
       "      <td>59</td>\n",
       "      <td>582</td>\n",
       "      <td>NaN</td>\n",
       "      <td>487</td>\n",
       "      <td>NaN</td>\n",
       "    </tr>\n",
       "    <tr>\n",
       "      <th>mean</th>\n",
       "      <td>NaN</td>\n",
       "      <td>NaN</td>\n",
       "      <td>NaN</td>\n",
       "      <td>4.677329</td>\n",
       "      <td>NaN</td>\n",
       "      <td>9.055208e+04</td>\n",
       "    </tr>\n",
       "    <tr>\n",
       "      <th>std</th>\n",
       "      <td>NaN</td>\n",
       "      <td>NaN</td>\n",
       "      <td>NaN</td>\n",
       "      <td>0.162225</td>\n",
       "      <td>NaN</td>\n",
       "      <td>1.819365e+05</td>\n",
       "    </tr>\n",
       "    <tr>\n",
       "      <th>min</th>\n",
       "      <td>NaN</td>\n",
       "      <td>NaN</td>\n",
       "      <td>NaN</td>\n",
       "      <td>3.300000</td>\n",
       "      <td>NaN</td>\n",
       "      <td>1.500000e+03</td>\n",
       "    </tr>\n",
       "    <tr>\n",
       "      <th>25%</th>\n",
       "      <td>NaN</td>\n",
       "      <td>NaN</td>\n",
       "      <td>NaN</td>\n",
       "      <td>4.600000</td>\n",
       "      <td>NaN</td>\n",
       "      <td>1.750000e+04</td>\n",
       "    </tr>\n",
       "    <tr>\n",
       "      <th>50%</th>\n",
       "      <td>NaN</td>\n",
       "      <td>NaN</td>\n",
       "      <td>NaN</td>\n",
       "      <td>4.700000</td>\n",
       "      <td>NaN</td>\n",
       "      <td>4.200000e+04</td>\n",
       "    </tr>\n",
       "    <tr>\n",
       "      <th>75%</th>\n",
       "      <td>NaN</td>\n",
       "      <td>NaN</td>\n",
       "      <td>NaN</td>\n",
       "      <td>4.800000</td>\n",
       "      <td>NaN</td>\n",
       "      <td>9.950000e+04</td>\n",
       "    </tr>\n",
       "    <tr>\n",
       "      <th>max</th>\n",
       "      <td>NaN</td>\n",
       "      <td>NaN</td>\n",
       "      <td>NaN</td>\n",
       "      <td>5.000000</td>\n",
       "      <td>NaN</td>\n",
       "      <td>3.200000e+06</td>\n",
       "    </tr>\n",
       "  </tbody>\n",
       "</table>\n",
       "</div>"
      ],
      "text/plain": [
       "                        course_title         course_organization  \\\n",
       "count                            891                         891   \n",
       "unique                           888                         154   \n",
       "top     developing your musicianship  university of pennsylvania   \n",
       "freq                               2                          59   \n",
       "mean                             NaN                         NaN   \n",
       "std                              NaN                         NaN   \n",
       "min                              NaN                         NaN   \n",
       "25%                              NaN                         NaN   \n",
       "50%                              NaN                         NaN   \n",
       "75%                              NaN                         NaN   \n",
       "max                              NaN                         NaN   \n",
       "\n",
       "       course_Certificate_type  course_rating course_difficulty  \\\n",
       "count                      891     891.000000               891   \n",
       "unique                       3            NaN                 4   \n",
       "top                     course            NaN          beginner   \n",
       "freq                       582            NaN               487   \n",
       "mean                       NaN       4.677329               NaN   \n",
       "std                        NaN       0.162225               NaN   \n",
       "min                        NaN       3.300000               NaN   \n",
       "25%                        NaN       4.600000               NaN   \n",
       "50%                        NaN       4.700000               NaN   \n",
       "75%                        NaN       4.800000               NaN   \n",
       "max                        NaN       5.000000               NaN   \n",
       "\n",
       "        course_students_enrolled  \n",
       "count               8.910000e+02  \n",
       "unique                       NaN  \n",
       "top                          NaN  \n",
       "freq                         NaN  \n",
       "mean                9.055208e+04  \n",
       "std                 1.819365e+05  \n",
       "min                 1.500000e+03  \n",
       "25%                 1.750000e+04  \n",
       "50%                 4.200000e+04  \n",
       "75%                 9.950000e+04  \n",
       "max                 3.200000e+06  "
      ]
     },
     "execution_count": 28,
     "metadata": {},
     "output_type": "execute_result"
    }
   ],
   "source": [
    "df = df.apply(lambda x: x.str.lower().str.strip() if x.dtype == \"category\" else x)\n",
    "df[[\"course_title\", \"course_organization\", \"course_Certificate_type\", \"course_difficulty\"]] = df[[\"course_title\", \"course_organization\", \"course_Certificate_type\", \"course_difficulty\"]].astype('category')\n",
    "df.describe(include=\"all\")"
   ]
  },
  {
   "cell_type": "markdown",
   "metadata": {},
   "source": [
    "It's visible, that almost all course titles are unique, but not all. Need to check which and why."
   ]
  },
  {
   "cell_type": "code",
   "execution_count": 29,
   "metadata": {},
   "outputs": [
    {
     "data": {
      "text/html": [
       "<div>\n",
       "<style scoped>\n",
       "    .dataframe tbody tr th:only-of-type {\n",
       "        vertical-align: middle;\n",
       "    }\n",
       "\n",
       "    .dataframe tbody tr th {\n",
       "        vertical-align: top;\n",
       "    }\n",
       "\n",
       "    .dataframe thead th {\n",
       "        text-align: right;\n",
       "    }\n",
       "</style>\n",
       "<table border=\"1\" class=\"dataframe\">\n",
       "  <thead>\n",
       "    <tr style=\"text-align: right;\">\n",
       "      <th></th>\n",
       "      <th>course_title</th>\n",
       "      <th>course_organization</th>\n",
       "      <th>course_Certificate_type</th>\n",
       "      <th>course_rating</th>\n",
       "      <th>course_difficulty</th>\n",
       "      <th>course_students_enrolled</th>\n",
       "    </tr>\n",
       "  </thead>\n",
       "  <tbody>\n",
       "    <tr>\n",
       "      <th>205</th>\n",
       "      <td>developing your musicianship</td>\n",
       "      <td>berklee college of music</td>\n",
       "      <td>specialization</td>\n",
       "      <td>4.8</td>\n",
       "      <td>beginner</td>\n",
       "      <td>54000</td>\n",
       "    </tr>\n",
       "    <tr>\n",
       "      <th>756</th>\n",
       "      <td>developing your musicianship</td>\n",
       "      <td>berklee college of music</td>\n",
       "      <td>course</td>\n",
       "      <td>4.8</td>\n",
       "      <td>mixed</td>\n",
       "      <td>41000</td>\n",
       "    </tr>\n",
       "    <tr>\n",
       "      <th>6</th>\n",
       "      <td>machine learning</td>\n",
       "      <td>stanford university</td>\n",
       "      <td>course</td>\n",
       "      <td>4.9</td>\n",
       "      <td>mixed</td>\n",
       "      <td>3200000</td>\n",
       "    </tr>\n",
       "    <tr>\n",
       "      <th>181</th>\n",
       "      <td>machine learning</td>\n",
       "      <td>university of washington</td>\n",
       "      <td>specialization</td>\n",
       "      <td>4.6</td>\n",
       "      <td>intermediate</td>\n",
       "      <td>290000</td>\n",
       "    </tr>\n",
       "    <tr>\n",
       "      <th>241</th>\n",
       "      <td>marketing digital</td>\n",
       "      <td>universidade de são paulo</td>\n",
       "      <td>course</td>\n",
       "      <td>4.8</td>\n",
       "      <td>beginner</td>\n",
       "      <td>81000</td>\n",
       "    </tr>\n",
       "    <tr>\n",
       "      <th>325</th>\n",
       "      <td>marketing digital</td>\n",
       "      <td>universidad austral</td>\n",
       "      <td>specialization</td>\n",
       "      <td>4.7</td>\n",
       "      <td>beginner</td>\n",
       "      <td>39000</td>\n",
       "    </tr>\n",
       "  </tbody>\n",
       "</table>\n",
       "</div>"
      ],
      "text/plain": [
       "                     course_title        course_organization  \\\n",
       "205  developing your musicianship   berklee college of music   \n",
       "756  developing your musicianship   berklee college of music   \n",
       "6                machine learning        stanford university   \n",
       "181              machine learning   university of washington   \n",
       "241             marketing digital  universidade de são paulo   \n",
       "325             marketing digital        universidad austral   \n",
       "\n",
       "    course_Certificate_type  course_rating course_difficulty  \\\n",
       "205          specialization            4.8          beginner   \n",
       "756                  course            4.8             mixed   \n",
       "6                    course            4.9             mixed   \n",
       "181          specialization            4.6      intermediate   \n",
       "241                  course            4.8          beginner   \n",
       "325          specialization            4.7          beginner   \n",
       "\n",
       "     course_students_enrolled  \n",
       "205                     54000  \n",
       "756                     41000  \n",
       "6                     3200000  \n",
       "181                    290000  \n",
       "241                     81000  \n",
       "325                     39000  "
      ]
     },
     "execution_count": 29,
     "metadata": {},
     "output_type": "execute_result"
    }
   ],
   "source": [
    "titles = df[\"course_title\"].value_counts()\n",
    "titles = titles[titles > 1] \n",
    "titles = titles.index.tolist()\n",
    "df[df[\"course_title\"].isin(titles)].sort_values(by=\"course_title\")"
   ]
  },
  {
   "cell_type": "markdown",
   "metadata": {},
   "source": [
    "It's visible that some courses from different organizations have just generic repeatable titles, thus are not duplicates, just called the same way. When it comes to \"developing your musicianship\" course from \"berklee college of music\", it's a different case. I went to [Coursera site](https://www.coursera.org/learn/develop-your-musicianship?specialization=musicianship-specialization) to check this data. Turns out this course is part of \"Developing Your Musicianship Specialization\", thus they course and specialization share the same name. \n",
    "\n",
    "Thus, there are no duplicate values.\n",
    "\n",
    "#### Inconsistent Data Entry\n",
    "\n",
    "Need to check for inconsistent definitions of values if any are left. For this, checking unique values count."
   ]
  },
  {
   "cell_type": "code",
   "execution_count": 30,
   "metadata": {},
   "outputs": [
    {
     "data": {
      "text/plain": [
       "course_difficulty\n",
       "beginner        487\n",
       "intermediate    198\n",
       "mixed           187\n",
       "advanced         19\n",
       "Name: count, dtype: int64"
      ]
     },
     "execution_count": 30,
     "metadata": {},
     "output_type": "execute_result"
    }
   ],
   "source": [
    "df[\"course_difficulty\"].value_counts()"
   ]
  },
  {
   "cell_type": "code",
   "execution_count": 31,
   "metadata": {},
   "outputs": [
    {
     "data": {
      "text/plain": [
       "course_Certificate_type\n",
       "course                      582\n",
       "specialization              297\n",
       "professional certificate     12\n",
       "Name: count, dtype: int64"
      ]
     },
     "execution_count": 31,
     "metadata": {},
     "output_type": "execute_result"
    }
   ],
   "source": [
    "df[\"course_Certificate_type\"].value_counts()"
   ]
  },
  {
   "cell_type": "markdown",
   "metadata": {},
   "source": [
    "All few unique values available are indeed distinct. \n",
    "For columns with they more unique values, will need to use fuzz ratio calculation. To start with I picked 90. \n",
    "\n",
    "First - \"course_title\"."
   ]
  },
  {
   "cell_type": "code",
   "execution_count": 32,
   "metadata": {},
   "outputs": [
    {
     "data": {
      "text/html": [
       "<div>\n",
       "<style scoped>\n",
       "    .dataframe tbody tr th:only-of-type {\n",
       "        vertical-align: middle;\n",
       "    }\n",
       "\n",
       "    .dataframe tbody tr th {\n",
       "        vertical-align: top;\n",
       "    }\n",
       "\n",
       "    .dataframe thead th {\n",
       "        text-align: right;\n",
       "    }\n",
       "</style>\n",
       "<table border=\"1\" class=\"dataframe\">\n",
       "  <thead>\n",
       "    <tr style=\"text-align: right;\">\n",
       "      <th></th>\n",
       "      <th>Value 1</th>\n",
       "      <th>Value 2</th>\n",
       "      <th>Similarity</th>\n",
       "    </tr>\n",
       "  </thead>\n",
       "  <tbody>\n",
       "    <tr>\n",
       "      <th>0</th>\n",
       "      <td>excel skills for business: intermediate i</td>\n",
       "      <td>excel skills for business: intermediate ii</td>\n",
       "      <td>98.795181</td>\n",
       "    </tr>\n",
       "    <tr>\n",
       "      <th>1</th>\n",
       "      <td>the power of macroeconomics: economic principles in the real world</td>\n",
       "      <td>the power of microeconomics: economic principles in the real world</td>\n",
       "      <td>98.484848</td>\n",
       "    </tr>\n",
       "    <tr>\n",
       "      <th>2</th>\n",
       "      <td>tesol certificate, part 1: teach english now!</td>\n",
       "      <td>tesol certificate, part 2: teach english now!</td>\n",
       "      <td>97.777778</td>\n",
       "    </tr>\n",
       "    <tr>\n",
       "      <th>3</th>\n",
       "      <td>developing applications with google cloud platform</td>\n",
       "      <td>developing applications with google cloud platform 日本語版</td>\n",
       "      <td>95.238095</td>\n",
       "    </tr>\n",
       "    <tr>\n",
       "      <th>4</th>\n",
       "      <td>introduction to financial accounting</td>\n",
       "      <td>more introduction to financial accounting</td>\n",
       "      <td>93.506494</td>\n",
       "    </tr>\n",
       "    <tr>\n",
       "      <th>5</th>\n",
       "      <td>mathematics for machine learning</td>\n",
       "      <td>mathematics for machine learning: pca</td>\n",
       "      <td>92.753623</td>\n",
       "    </tr>\n",
       "    <tr>\n",
       "      <th>6</th>\n",
       "      <td>machine learning with tensorflow on google cloud platform</td>\n",
       "      <td>advanced machine learning with tensorflow on google cloud platform</td>\n",
       "      <td>92.682927</td>\n",
       "    </tr>\n",
       "    <tr>\n",
       "      <th>7</th>\n",
       "      <td>introduction to web development</td>\n",
       "      <td>introduction to game development</td>\n",
       "      <td>92.063492</td>\n",
       "    </tr>\n",
       "    <tr>\n",
       "      <th>8</th>\n",
       "      <td>excel/vba for creative problem solving</td>\n",
       "      <td>excel/vba for creative problem solving, part 1</td>\n",
       "      <td>90.476190</td>\n",
       "    </tr>\n",
       "    <tr>\n",
       "      <th>9</th>\n",
       "      <td>fundamentals of computing</td>\n",
       "      <td>fundamentals of accounting</td>\n",
       "      <td>90.196078</td>\n",
       "    </tr>\n",
       "  </tbody>\n",
       "</table>\n",
       "</div>"
      ],
      "text/plain": [
       "                                                              Value 1  \\\n",
       "0                           excel skills for business: intermediate i   \n",
       "1  the power of macroeconomics: economic principles in the real world   \n",
       "2                       tesol certificate, part 1: teach english now!   \n",
       "3                  developing applications with google cloud platform   \n",
       "4                                introduction to financial accounting   \n",
       "5                                    mathematics for machine learning   \n",
       "6           machine learning with tensorflow on google cloud platform   \n",
       "7                                     introduction to web development   \n",
       "8                              excel/vba for creative problem solving   \n",
       "9                                           fundamentals of computing   \n",
       "\n",
       "                                                              Value 2  \\\n",
       "0                          excel skills for business: intermediate ii   \n",
       "1  the power of microeconomics: economic principles in the real world   \n",
       "2                       tesol certificate, part 2: teach english now!   \n",
       "3             developing applications with google cloud platform 日本語版   \n",
       "4                           more introduction to financial accounting   \n",
       "5                               mathematics for machine learning: pca   \n",
       "6  advanced machine learning with tensorflow on google cloud platform   \n",
       "7                                    introduction to game development   \n",
       "8                      excel/vba for creative problem solving, part 1   \n",
       "9                                          fundamentals of accounting   \n",
       "\n",
       "   Similarity  \n",
       "0   98.795181  \n",
       "1   98.484848  \n",
       "2   97.777778  \n",
       "3   95.238095  \n",
       "4   93.506494  \n",
       "5   92.753623  \n",
       "6   92.682927  \n",
       "7   92.063492  \n",
       "8   90.476190  \n",
       "9   90.196078  "
      ]
     },
     "execution_count": 32,
     "metadata": {},
     "output_type": "execute_result"
    }
   ],
   "source": [
    "course_title_matches = []\n",
    "\n",
    "course_title_values = df[\"course_title\"].unique()\n",
    "\n",
    "for first in range(len(course_title_values)):\n",
    "    for second in range(first+1, len(course_title_values)):\n",
    "        value1 = course_title_values[first]\n",
    "        value2 = course_title_values[second]\n",
    "        similarity_ratio = fuzz.ratio(value1, value2)  \n",
    "\n",
    "        if similarity_ratio > 90:\n",
    "            course_title_matches.append({\n",
    "                'Value 1': value1,\n",
    "                'Value 2': value2,\n",
    "                'Similarity': similarity_ratio\n",
    "            })\n",
    "\n",
    "course_title_matches = pd.DataFrame(course_title_matches).sort_values(by='Similarity', ascending=False).reset_index(drop=True)\n",
    "pd.set_option('display.max_colwidth', None)\n",
    "course_title_matches"
   ]
  },
  {
   "cell_type": "markdown",
   "metadata": {},
   "source": [
    "After checking these values, they appear to be similar namings for courses of same specialization. Thus, no inconsistent data entries were found. \n",
    "\n",
    "Next - \"course_organization\"."
   ]
  },
  {
   "cell_type": "code",
   "execution_count": 33,
   "metadata": {},
   "outputs": [
    {
     "data": {
      "text/html": [
       "<div>\n",
       "<style scoped>\n",
       "    .dataframe tbody tr th:only-of-type {\n",
       "        vertical-align: middle;\n",
       "    }\n",
       "\n",
       "    .dataframe tbody tr th {\n",
       "        vertical-align: top;\n",
       "    }\n",
       "\n",
       "    .dataframe thead th {\n",
       "        text-align: right;\n",
       "    }\n",
       "</style>\n",
       "<table border=\"1\" class=\"dataframe\">\n",
       "  <thead>\n",
       "    <tr style=\"text-align: right;\">\n",
       "      <th></th>\n",
       "      <th>Value 1</th>\n",
       "      <th>Value 2</th>\n",
       "      <th>Similarity</th>\n",
       "    </tr>\n",
       "  </thead>\n",
       "  <tbody>\n",
       "    <tr>\n",
       "      <th>0</th>\n",
       "      <td>ie business school</td>\n",
       "      <td>iese business school</td>\n",
       "      <td>94.736842</td>\n",
       "    </tr>\n",
       "    <tr>\n",
       "      <th>1</th>\n",
       "      <td>essec business school</td>\n",
       "      <td>iese business school</td>\n",
       "      <td>92.682927</td>\n",
       "    </tr>\n",
       "    <tr>\n",
       "      <th>2</th>\n",
       "      <td>essec business school</td>\n",
       "      <td>escp business school</td>\n",
       "      <td>92.682927</td>\n",
       "    </tr>\n",
       "    <tr>\n",
       "      <th>3</th>\n",
       "      <td>edhec business school</td>\n",
       "      <td>essec business school</td>\n",
       "      <td>90.476190</td>\n",
       "    </tr>\n",
       "  </tbody>\n",
       "</table>\n",
       "</div>"
      ],
      "text/plain": [
       "                 Value 1                Value 2  Similarity\n",
       "0     ie business school   iese business school   94.736842\n",
       "1  essec business school   iese business school   92.682927\n",
       "2  essec business school   escp business school   92.682927\n",
       "3  edhec business school  essec business school   90.476190"
      ]
     },
     "execution_count": 33,
     "metadata": {},
     "output_type": "execute_result"
    }
   ],
   "source": [
    "course_organization_matches = []\n",
    "\n",
    "course_organization_values = df[\"course_organization\"].unique()\n",
    "\n",
    "for first in range(len(course_organization_values)):\n",
    "    for second in range(first+1, len(course_organization_values)):\n",
    "        value1 = course_organization_values[first]\n",
    "        value2 = course_organization_values[second]\n",
    "        similarity_ratio = fuzz.ratio(value1, value2)  \n",
    "\n",
    "        if similarity_ratio > 90:\n",
    "            course_organization_matches.append({\n",
    "                'Value 1': value1,\n",
    "                'Value 2': value2,\n",
    "                'Similarity': similarity_ratio\n",
    "            })\n",
    "\n",
    "course_organization_matches = pd.DataFrame(course_organization_matches).sort_values(by='Similarity', ascending=False).reset_index(drop=True)\n",
    "pd.set_option('display.max_colwidth', None)\n",
    "course_organization_matches"
   ]
  },
  {
   "cell_type": "markdown",
   "metadata": {},
   "source": [
    "After checking on Coursera, these are indeed different business schools. Thus, no inconsistent data entries were found. \n",
    "\n",
    "Will apply title formatting back for future visualizations. It will change to object type again, so have to recast to category one. "
   ]
  },
  {
   "cell_type": "code",
   "execution_count": 34,
   "metadata": {},
   "outputs": [],
   "source": [
    "df = df.apply(lambda x: x.str.title() if x.dtype == \"category\" else x)\n",
    "df[[\"course_title\", \"course_organization\", \"course_Certificate_type\", \"course_difficulty\"]] = df[[\"course_title\", \"course_organization\", \"course_Certificate_type\", \"course_difficulty\"]].astype('category')"
   ]
  },
  {
   "cell_type": "markdown",
   "metadata": {},
   "source": [
    "#### Outliers\n",
    "Will check what kind of outliers are in numerical columns. To have broader overview, will segment based on certification type and it's difficulty. \n",
    "##### Sudents enrolled"
   ]
  },
  {
   "cell_type": "code",
   "execution_count": 2,
   "metadata": {},
   "outputs": [
    {
     "data": {
      "text/plain": [
       "'\\nfig = px.box(df, y = \"course_difficulty\", x=\"course_students_enrolled\", color = \"course_Certificate_type\", custom_data=[\"course_title\", \"course_rating\", \"course_organization\"])\\nfig.update_layout(\\n    title = \"Distribution of students enrolled\",\\n    xaxis_title = \"Students enrolled\",\\n    yaxis_title = \"Difficulty\",\\n    legend_title = \"Certificate type\",\\n    plot_bgcolor= \"white\",\\n    hoverlabel=dict(\\n        bgcolor=\"white\",\\n        bordercolor = \"white\",\\n        font=dict(\\n            color=\"#494a5e\"\\n        )\\n    ),\\n    legend=dict(\\n    orientation=\"h\",\\n    yanchor=\"bottom\",\\n    y=1.02,\\n    xanchor=\"right\",\\n    x=1\\n    )\\n)         \\nfig.update_traces(\\n    hovertemplate=\"Title: <b>%{customdata[0]}</b><br>\" +\\n                  \"Students Enrolled: %{x:,.0f}<br>\" +\\n                  \"Organization: %{customdata[2]}<br>\" +\\n                  \"Rating: %{customdata[1]}<br>\",\\n    boxmean=True\\n)\\n  \\nfig.show()\\n'"
      ]
     },
     "execution_count": 2,
     "metadata": {},
     "output_type": "execute_result"
    }
   ],
   "source": [
    "'''\n",
    "fig = px.box(df, y = \"course_difficulty\", x=\"course_students_enrolled\", color = \"course_Certificate_type\", custom_data=[\"course_title\", \"course_rating\", \"course_organization\"])\n",
    "fig.update_layout(\n",
    "    title = \"Distribution of students enrolled\",\n",
    "    xaxis_title = \"Students enrolled\",\n",
    "    yaxis_title = \"Difficulty\",\n",
    "    legend_title = \"Certificate type\",\n",
    "    plot_bgcolor= \"white\",\n",
    "    hoverlabel=dict(\n",
    "        bgcolor=\"white\",\n",
    "        bordercolor = \"white\",\n",
    "        font=dict(\n",
    "            color=\"#494a5e\"\n",
    "        )\n",
    "    ),\n",
    "    legend=dict(\n",
    "    orientation=\"h\",\n",
    "    yanchor=\"bottom\",\n",
    "    y=1.02,\n",
    "    xanchor=\"right\",\n",
    "    x=1\n",
    "    )\n",
    ")         \n",
    "fig.update_traces(\n",
    "    hovertemplate=\"Title: <b>%{customdata[0]}</b><br>\" +\n",
    "                  \"Students Enrolled: %{x:,.0f}<br>\" +\n",
    "                  \"Organization: %{customdata[2]}<br>\" +\n",
    "                  \"Rating: %{customdata[1]}<br>\",\n",
    "    boxmean=True\n",
    ")\n",
    "  \n",
    "fig.show()\n",
    "'''"
   ]
  },
  {
   "cell_type": "markdown",
   "metadata": {},
   "source": [
    "Can see that certain courses have really high enrolment numbers. To verify this is correct, I looked up their current status on Coursera. For example, [\"The Science Of Well-Being\"](https://www.coursera.org/learn/the-science-of-well-being#modules) mixed difficulty course has now above 4 million enrollments even. Thus, keeping it and cleanliness of the data so far these values seem to be correct. I will keep them fpr further analysis.\n",
    "\n",
    "##### Ratings"
   ]
  },
  {
   "cell_type": "code",
   "execution_count": 1,
   "metadata": {},
   "outputs": [
    {
     "data": {
      "text/plain": [
       "'\\nfig = px.box(df, y = \"course_difficulty\", x=\"course_rating\", color = \"course_Certificate_type\", custom_data=[\"course_title\", \"course_students_enrolled\", \"course_organization\"])\\nfig.update_layout(\\n    title = \"Distribution of course ratings\",\\n    xaxis=dict(\\n        title=\"Rating\",\\n        range=[0, 5] \\n    ),\\n    yaxis_title = \"Difficulty\",\\n    legend_title = \"Certificate type\",\\n    plot_bgcolor= \"white\",\\n    hoverlabel=dict(\\n        bgcolor=\"white\",\\n        bordercolor = \"white\",\\n        font=dict(\\n            color=\"#494a5e\"\\n        )\\n    ),\\n    legend=dict(\\n    orientation=\"h\",\\n    yanchor=\"bottom\",\\n    y=1.02,\\n    xanchor=\"right\",\\n    x=1\\n    )\\n)         \\nfig.update_traces(\\n    hovertemplate=\"Title: <b>%{customdata[0]}</b><br>\" + \\n                \"Students Enrolled: %{customdata[1]:,.0f}<br>\" +\\n                  \"Organization: %{customdata[2]}<br>\" +\\n                  \"Rating: %{x}<br>\",\\n    boxmean=True\\n)\\n\\nfig.show()\\n'"
      ]
     },
     "execution_count": 1,
     "metadata": {},
     "output_type": "execute_result"
    }
   ],
   "source": [
    "'''\n",
    "fig = px.box(df, y = \"course_difficulty\", x=\"course_rating\", color = \"course_Certificate_type\", custom_data=[\"course_title\", \"course_students_enrolled\", \"course_organization\"])\n",
    "fig.update_layout(\n",
    "    title = \"Distribution of course ratings\",\n",
    "    xaxis=dict(\n",
    "        title=\"Rating\",\n",
    "        range=[0, 5] \n",
    "    ),\n",
    "    yaxis_title = \"Difficulty\",\n",
    "    legend_title = \"Certificate type\",\n",
    "    plot_bgcolor= \"white\",\n",
    "    hoverlabel=dict(\n",
    "        bgcolor=\"white\",\n",
    "        bordercolor = \"white\",\n",
    "        font=dict(\n",
    "            color=\"#494a5e\"\n",
    "        )\n",
    "    ),\n",
    "    legend=dict(\n",
    "    orientation=\"h\",\n",
    "    yanchor=\"bottom\",\n",
    "    y=1.02,\n",
    "    xanchor=\"right\",\n",
    "    x=1\n",
    "    )\n",
    ")         \n",
    "fig.update_traces(\n",
    "    hovertemplate=\"Title: <b>%{customdata[0]}</b><br>\" + \n",
    "                \"Students Enrolled: %{customdata[1]:,.0f}<br>\" +\n",
    "                  \"Organization: %{customdata[2]}<br>\" +\n",
    "                  \"Rating: %{x}<br>\",\n",
    "    boxmean=True\n",
    ")\n",
    "\n",
    "fig.show()\n",
    "'''"
   ]
  },
  {
   "cell_type": "markdown",
   "metadata": {},
   "source": [
    "Most courses have higher than 4 stars ratings. I checked couple which have way lower ones like [\"How To Create A Website In A Weekend! (Project-Centered Course)\"](https://www.coursera.org/learn/how-to-create-a-website) and ratings are indeed correct to be this low. Thus, same as before, I will keep them fpr further analysis."
   ]
  },
  {
   "cell_type": "markdown",
   "metadata": {},
   "source": [
    "### Exploratory Data Analysis (EDA)"
   ]
  }
 ],
 "metadata": {
  "kernelspec": {
   "display_name": "turing",
   "language": "python",
   "name": "python3"
  },
  "language_info": {
   "codemirror_mode": {
    "name": "ipython",
    "version": 3
   },
   "file_extension": ".py",
   "mimetype": "text/x-python",
   "name": "python",
   "nbconvert_exporter": "python",
   "pygments_lexer": "ipython3",
   "version": "3.12.4"
  }
 },
 "nbformat": 4,
 "nbformat_minor": 2
}
