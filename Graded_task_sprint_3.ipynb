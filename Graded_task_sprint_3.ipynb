{
 "cells": [
  {
   "cell_type": "markdown",
   "metadata": {},
   "source": [
    "# Data Visualization with Python\n",
    "## Coursera Course Dataset Analysis\n",
    "\n",
    "### Table of Contents\n",
    "1. [Introduction](#introduction)\n",
    "2. [Data Import](#data-import)\n",
    "3. [Data Cleaning](#data-cleaning)\n",
    "4. [Exploratory Data Analysis (EDA)](#exploratory-data-analysis-eda)\n",
    "\n",
    "*P.S. Clickable function works in Jupiter notebook environment.*"
   ]
  },
  {
   "cell_type": "markdown",
   "metadata": {},
   "source": [
    "<a id=\"introduction\"></a>\n",
    "\n",
    "---\n",
    "\n",
    "### Introduction"
   ]
  },
  {
   "cell_type": "markdown",
   "metadata": {},
   "source": [
    "### Data Import\n",
    "Importing all needed libraries for analysis and visualization. Also, making sure that plots are displayed inline and work with Jupiter notebook format.  "
   ]
  },
  {
   "cell_type": "code",
   "execution_count": 22,
   "metadata": {},
   "outputs": [
    {
     "data": {
      "text/html": [
       "        <script type=\"text/javascript\">\n",
       "        window.PlotlyConfig = {MathJaxConfig: 'local'};\n",
       "        if (window.MathJax && window.MathJax.Hub && window.MathJax.Hub.Config) {window.MathJax.Hub.Config({SVG: {font: \"STIX-Web\"}});}\n",
       "        if (typeof require !== 'undefined') {\n",
       "        require.undef(\"plotly\");\n",
       "        requirejs.config({\n",
       "            paths: {\n",
       "                'plotly': ['https://cdn.plot.ly/plotly-2.35.2.min']\n",
       "            }\n",
       "        });\n",
       "        require(['plotly'], function(Plotly) {\n",
       "            window._Plotly = Plotly;\n",
       "        });\n",
       "        }\n",
       "        </script>\n",
       "        "
      ]
     },
     "metadata": {},
     "output_type": "display_data"
    },
    {
     "data": {
      "text/html": [
       "        <script type=\"text/javascript\">\n",
       "        window.PlotlyConfig = {MathJaxConfig: 'local'};\n",
       "        if (window.MathJax && window.MathJax.Hub && window.MathJax.Hub.Config) {window.MathJax.Hub.Config({SVG: {font: \"STIX-Web\"}});}\n",
       "        if (typeof require !== 'undefined') {\n",
       "        require.undef(\"plotly\");\n",
       "        requirejs.config({\n",
       "            paths: {\n",
       "                'plotly': ['https://cdn.plot.ly/plotly-2.35.2.min']\n",
       "            }\n",
       "        });\n",
       "        require(['plotly'], function(Plotly) {\n",
       "            window._Plotly = Plotly;\n",
       "        });\n",
       "        }\n",
       "        </script>\n",
       "        "
      ]
     },
     "metadata": {},
     "output_type": "display_data"
    }
   ],
   "source": [
    "import pandas as pd\n",
    "import numpy as np\n",
    "from rapidfuzz import fuzz\n",
    "import kaleido as kld\n",
    "import matplotlib.pyplot as plt\n",
    "import seaborn as sns\n",
    "import cufflinks as cf\n",
    "import seaborn as sns\n",
    "import plotly.express as px\n",
    "%matplotlib inline\n",
    "from plotly.offline import init_notebook_mode\n",
    "init_notebook_mode(connected=True)\n",
    "cf.go_offline()\n",
    "import plotly.io as pio\n",
    "pio.renderers.default = \"vscode+png\"\n"
   ]
  },
  {
   "cell_type": "markdown",
   "metadata": {},
   "source": [
    "Next, importing data and seeing preview of it. "
   ]
  },
  {
   "cell_type": "code",
   "execution_count": 23,
   "metadata": {},
   "outputs": [
    {
     "data": {
      "text/html": [
       "<div>\n",
       "<style scoped>\n",
       "    .dataframe tbody tr th:only-of-type {\n",
       "        vertical-align: middle;\n",
       "    }\n",
       "\n",
       "    .dataframe tbody tr th {\n",
       "        vertical-align: top;\n",
       "    }\n",
       "\n",
       "    .dataframe thead th {\n",
       "        text-align: right;\n",
       "    }\n",
       "</style>\n",
       "<table border=\"1\" class=\"dataframe\">\n",
       "  <thead>\n",
       "    <tr style=\"text-align: right;\">\n",
       "      <th></th>\n",
       "      <th>course_title</th>\n",
       "      <th>course_organization</th>\n",
       "      <th>course_Certificate_type</th>\n",
       "      <th>course_rating</th>\n",
       "      <th>course_difficulty</th>\n",
       "      <th>course_students_enrolled</th>\n",
       "    </tr>\n",
       "  </thead>\n",
       "  <tbody>\n",
       "    <tr>\n",
       "      <th>0</th>\n",
       "      <td>IBM Data Science</td>\n",
       "      <td>IBM</td>\n",
       "      <td>PROFESSIONAL CERTIFICATE</td>\n",
       "      <td>4.6</td>\n",
       "      <td>Beginner</td>\n",
       "      <td>480k</td>\n",
       "    </tr>\n",
       "    <tr>\n",
       "      <th>1</th>\n",
       "      <td>Introduction to Data Science</td>\n",
       "      <td>IBM</td>\n",
       "      <td>SPECIALIZATION</td>\n",
       "      <td>4.6</td>\n",
       "      <td>Beginner</td>\n",
       "      <td>310k</td>\n",
       "    </tr>\n",
       "    <tr>\n",
       "      <th>2</th>\n",
       "      <td>The Science of Well-Being</td>\n",
       "      <td>Yale University</td>\n",
       "      <td>COURSE</td>\n",
       "      <td>4.9</td>\n",
       "      <td>Mixed</td>\n",
       "      <td>2.5m</td>\n",
       "    </tr>\n",
       "    <tr>\n",
       "      <th>3</th>\n",
       "      <td>Python for Everybody</td>\n",
       "      <td>University of Michigan</td>\n",
       "      <td>SPECIALIZATION</td>\n",
       "      <td>4.8</td>\n",
       "      <td>Beginner</td>\n",
       "      <td>1.5m</td>\n",
       "    </tr>\n",
       "    <tr>\n",
       "      <th>4</th>\n",
       "      <td>Google IT Support</td>\n",
       "      <td>Google</td>\n",
       "      <td>PROFESSIONAL CERTIFICATE</td>\n",
       "      <td>4.8</td>\n",
       "      <td>Beginner</td>\n",
       "      <td>350k</td>\n",
       "    </tr>\n",
       "  </tbody>\n",
       "</table>\n",
       "</div>"
      ],
      "text/plain": [
       "                   course_title     course_organization  \\\n",
       "0              IBM Data Science                     IBM   \n",
       "1  Introduction to Data Science                     IBM   \n",
       "2     The Science of Well-Being         Yale University   \n",
       "3          Python for Everybody  University of Michigan   \n",
       "4             Google IT Support                  Google   \n",
       "\n",
       "    course_Certificate_type  course_rating course_difficulty  \\\n",
       "0  PROFESSIONAL CERTIFICATE            4.6          Beginner   \n",
       "1            SPECIALIZATION            4.6          Beginner   \n",
       "2                    COURSE            4.9             Mixed   \n",
       "3            SPECIALIZATION            4.8          Beginner   \n",
       "4  PROFESSIONAL CERTIFICATE            4.8          Beginner   \n",
       "\n",
       "  course_students_enrolled  \n",
       "0                     480k  \n",
       "1                     310k  \n",
       "2                     2.5m  \n",
       "3                     1.5m  \n",
       "4                     350k  "
      ]
     },
     "execution_count": 23,
     "metadata": {},
     "output_type": "execute_result"
    }
   ],
   "source": [
    "df = pd.read_csv(\"coursea_data.csv\", index_col=0)\n",
    "df.sort_index(inplace=True)\n",
    "df.head()"
   ]
  },
  {
   "cell_type": "code",
   "execution_count": 24,
   "metadata": {},
   "outputs": [
    {
     "data": {
      "text/plain": [
       "(891, 6)"
      ]
     },
     "execution_count": 24,
     "metadata": {},
     "output_type": "execute_result"
    }
   ],
   "source": [
    "df.shape"
   ]
  },
  {
   "cell_type": "markdown",
   "metadata": {},
   "source": [
    "### Data cleaning\n",
    "\n",
    "#### Data types\n",
    "First, need to fix incorrect data types. "
   ]
  },
  {
   "cell_type": "code",
   "execution_count": 25,
   "metadata": {},
   "outputs": [
    {
     "data": {
      "text/plain": [
       "course_title                 object\n",
       "course_organization          object\n",
       "course_Certificate_type      object\n",
       "course_rating               float64\n",
       "course_difficulty            object\n",
       "course_students_enrolled     object\n",
       "dtype: object"
      ]
     },
     "execution_count": 25,
     "metadata": {},
     "output_type": "execute_result"
    }
   ],
   "source": [
    "df.dtypes"
   ]
  },
  {
   "cell_type": "markdown",
   "metadata": {},
   "source": [
    "String data is set to object type. Will convert it to categorical pandas extension type. It's good practice for performance improvement.  \n",
    "Also, column \"course_students_enrolled\" should be numeric but is object type right now due to having \"k\" and \"m\" values instead of zeros. Need to make it numeric instead. "
   ]
  },
  {
   "cell_type": "code",
   "execution_count": 26,
   "metadata": {},
   "outputs": [
    {
     "data": {
      "text/plain": [
       "array(['k', 'm'], dtype=object)"
      ]
     },
     "execution_count": 26,
     "metadata": {},
     "output_type": "execute_result"
    }
   ],
   "source": [
    "df[[\"course_title\", \"course_organization\", \"course_Certificate_type\", \"course_difficulty\"]] = df[[\"course_title\", \"course_organization\", \"course_Certificate_type\", \"course_difficulty\"]].astype('category')\n",
    "values = df[\"course_students_enrolled\"].str[-1]\n",
    "values.unique()"
   ]
  },
  {
   "cell_type": "code",
   "execution_count": 27,
   "metadata": {},
   "outputs": [],
   "source": [
    "df[\"course_students_enrolled\"] = df[\"course_students_enrolled\"].apply(lambda value: int(float(value[:-1])*1000) if value.endswith(\"k\") else int(float(value[:-1])*1000000))"
   ]
  },
  {
   "cell_type": "code",
   "execution_count": 28,
   "metadata": {},
   "outputs": [
    {
     "data": {
      "text/html": [
       "<div>\n",
       "<style scoped>\n",
       "    .dataframe tbody tr th:only-of-type {\n",
       "        vertical-align: middle;\n",
       "    }\n",
       "\n",
       "    .dataframe tbody tr th {\n",
       "        vertical-align: top;\n",
       "    }\n",
       "\n",
       "    .dataframe thead th {\n",
       "        text-align: right;\n",
       "    }\n",
       "</style>\n",
       "<table border=\"1\" class=\"dataframe\">\n",
       "  <thead>\n",
       "    <tr style=\"text-align: right;\">\n",
       "      <th></th>\n",
       "      <th>course_title</th>\n",
       "      <th>course_organization</th>\n",
       "      <th>course_Certificate_type</th>\n",
       "      <th>course_rating</th>\n",
       "      <th>course_difficulty</th>\n",
       "      <th>course_students_enrolled</th>\n",
       "    </tr>\n",
       "  </thead>\n",
       "  <tbody>\n",
       "    <tr>\n",
       "      <th>0</th>\n",
       "      <td>IBM Data Science</td>\n",
       "      <td>IBM</td>\n",
       "      <td>PROFESSIONAL CERTIFICATE</td>\n",
       "      <td>4.6</td>\n",
       "      <td>Beginner</td>\n",
       "      <td>480000</td>\n",
       "    </tr>\n",
       "    <tr>\n",
       "      <th>1</th>\n",
       "      <td>Introduction to Data Science</td>\n",
       "      <td>IBM</td>\n",
       "      <td>SPECIALIZATION</td>\n",
       "      <td>4.6</td>\n",
       "      <td>Beginner</td>\n",
       "      <td>310000</td>\n",
       "    </tr>\n",
       "    <tr>\n",
       "      <th>2</th>\n",
       "      <td>The Science of Well-Being</td>\n",
       "      <td>Yale University</td>\n",
       "      <td>COURSE</td>\n",
       "      <td>4.9</td>\n",
       "      <td>Mixed</td>\n",
       "      <td>2500000</td>\n",
       "    </tr>\n",
       "  </tbody>\n",
       "</table>\n",
       "</div>"
      ],
      "text/plain": [
       "                   course_title course_organization   course_Certificate_type  \\\n",
       "0              IBM Data Science                 IBM  PROFESSIONAL CERTIFICATE   \n",
       "1  Introduction to Data Science                 IBM            SPECIALIZATION   \n",
       "2     The Science of Well-Being     Yale University                    COURSE   \n",
       "\n",
       "   course_rating course_difficulty  course_students_enrolled  \n",
       "0            4.6          Beginner                    480000  \n",
       "1            4.6          Beginner                    310000  \n",
       "2            4.9             Mixed                   2500000  "
      ]
     },
     "execution_count": 28,
     "metadata": {},
     "output_type": "execute_result"
    }
   ],
   "source": [
    "df.head(3)"
   ]
  },
  {
   "cell_type": "code",
   "execution_count": 29,
   "metadata": {},
   "outputs": [
    {
     "name": "stdout",
     "output_type": "stream",
     "text": [
      "<class 'pandas.core.frame.DataFrame'>\n",
      "Index: 891 entries, 0 to 890\n",
      "Data columns (total 6 columns):\n",
      " #   Column                    Non-Null Count  Dtype   \n",
      "---  ------                    --------------  -----   \n",
      " 0   course_title              891 non-null    category\n",
      " 1   course_organization       891 non-null    category\n",
      " 2   course_Certificate_type   891 non-null    category\n",
      " 3   course_rating             891 non-null    float64 \n",
      " 4   course_difficulty         891 non-null    category\n",
      " 5   course_students_enrolled  891 non-null    int64   \n",
      "dtypes: category(4), float64(1), int64(1)\n",
      "memory usage: 70.9 KB\n"
     ]
    }
   ],
   "source": [
    "df.info()"
   ]
  },
  {
   "cell_type": "markdown",
   "metadata": {},
   "source": [
    "#### Missing values\n",
    "From above it's visible that that there are no nulls. Just in case, can check again using this code."
   ]
  },
  {
   "cell_type": "code",
   "execution_count": 30,
   "metadata": {},
   "outputs": [
    {
     "data": {
      "text/plain": [
       "np.False_"
      ]
     },
     "execution_count": 30,
     "metadata": {},
     "output_type": "execute_result"
    }
   ],
   "source": [
    "df.isnull().any().any()"
   ]
  },
  {
   "cell_type": "markdown",
   "metadata": {},
   "source": [
    "Seems there are none. \n",
    "#### Duplicates\n",
    "First, need to check general overview of the data. Will need to redo type casting because str functions change output back to object type."
   ]
  },
  {
   "cell_type": "code",
   "execution_count": 31,
   "metadata": {},
   "outputs": [
    {
     "data": {
      "text/html": [
       "<div>\n",
       "<style scoped>\n",
       "    .dataframe tbody tr th:only-of-type {\n",
       "        vertical-align: middle;\n",
       "    }\n",
       "\n",
       "    .dataframe tbody tr th {\n",
       "        vertical-align: top;\n",
       "    }\n",
       "\n",
       "    .dataframe thead th {\n",
       "        text-align: right;\n",
       "    }\n",
       "</style>\n",
       "<table border=\"1\" class=\"dataframe\">\n",
       "  <thead>\n",
       "    <tr style=\"text-align: right;\">\n",
       "      <th></th>\n",
       "      <th>course_title</th>\n",
       "      <th>course_organization</th>\n",
       "      <th>course_Certificate_type</th>\n",
       "      <th>course_rating</th>\n",
       "      <th>course_difficulty</th>\n",
       "      <th>course_students_enrolled</th>\n",
       "    </tr>\n",
       "  </thead>\n",
       "  <tbody>\n",
       "    <tr>\n",
       "      <th>count</th>\n",
       "      <td>891</td>\n",
       "      <td>891</td>\n",
       "      <td>891</td>\n",
       "      <td>891.000000</td>\n",
       "      <td>891</td>\n",
       "      <td>8.910000e+02</td>\n",
       "    </tr>\n",
       "    <tr>\n",
       "      <th>unique</th>\n",
       "      <td>888</td>\n",
       "      <td>154</td>\n",
       "      <td>3</td>\n",
       "      <td>NaN</td>\n",
       "      <td>4</td>\n",
       "      <td>NaN</td>\n",
       "    </tr>\n",
       "    <tr>\n",
       "      <th>top</th>\n",
       "      <td>developing your musicianship</td>\n",
       "      <td>university of pennsylvania</td>\n",
       "      <td>course</td>\n",
       "      <td>NaN</td>\n",
       "      <td>beginner</td>\n",
       "      <td>NaN</td>\n",
       "    </tr>\n",
       "    <tr>\n",
       "      <th>freq</th>\n",
       "      <td>2</td>\n",
       "      <td>59</td>\n",
       "      <td>582</td>\n",
       "      <td>NaN</td>\n",
       "      <td>487</td>\n",
       "      <td>NaN</td>\n",
       "    </tr>\n",
       "    <tr>\n",
       "      <th>mean</th>\n",
       "      <td>NaN</td>\n",
       "      <td>NaN</td>\n",
       "      <td>NaN</td>\n",
       "      <td>4.677329</td>\n",
       "      <td>NaN</td>\n",
       "      <td>9.055208e+04</td>\n",
       "    </tr>\n",
       "    <tr>\n",
       "      <th>std</th>\n",
       "      <td>NaN</td>\n",
       "      <td>NaN</td>\n",
       "      <td>NaN</td>\n",
       "      <td>0.162225</td>\n",
       "      <td>NaN</td>\n",
       "      <td>1.819365e+05</td>\n",
       "    </tr>\n",
       "    <tr>\n",
       "      <th>min</th>\n",
       "      <td>NaN</td>\n",
       "      <td>NaN</td>\n",
       "      <td>NaN</td>\n",
       "      <td>3.300000</td>\n",
       "      <td>NaN</td>\n",
       "      <td>1.500000e+03</td>\n",
       "    </tr>\n",
       "    <tr>\n",
       "      <th>25%</th>\n",
       "      <td>NaN</td>\n",
       "      <td>NaN</td>\n",
       "      <td>NaN</td>\n",
       "      <td>4.600000</td>\n",
       "      <td>NaN</td>\n",
       "      <td>1.750000e+04</td>\n",
       "    </tr>\n",
       "    <tr>\n",
       "      <th>50%</th>\n",
       "      <td>NaN</td>\n",
       "      <td>NaN</td>\n",
       "      <td>NaN</td>\n",
       "      <td>4.700000</td>\n",
       "      <td>NaN</td>\n",
       "      <td>4.200000e+04</td>\n",
       "    </tr>\n",
       "    <tr>\n",
       "      <th>75%</th>\n",
       "      <td>NaN</td>\n",
       "      <td>NaN</td>\n",
       "      <td>NaN</td>\n",
       "      <td>4.800000</td>\n",
       "      <td>NaN</td>\n",
       "      <td>9.950000e+04</td>\n",
       "    </tr>\n",
       "    <tr>\n",
       "      <th>max</th>\n",
       "      <td>NaN</td>\n",
       "      <td>NaN</td>\n",
       "      <td>NaN</td>\n",
       "      <td>5.000000</td>\n",
       "      <td>NaN</td>\n",
       "      <td>3.200000e+06</td>\n",
       "    </tr>\n",
       "  </tbody>\n",
       "</table>\n",
       "</div>"
      ],
      "text/plain": [
       "                        course_title         course_organization  \\\n",
       "count                            891                         891   \n",
       "unique                           888                         154   \n",
       "top     developing your musicianship  university of pennsylvania   \n",
       "freq                               2                          59   \n",
       "mean                             NaN                         NaN   \n",
       "std                              NaN                         NaN   \n",
       "min                              NaN                         NaN   \n",
       "25%                              NaN                         NaN   \n",
       "50%                              NaN                         NaN   \n",
       "75%                              NaN                         NaN   \n",
       "max                              NaN                         NaN   \n",
       "\n",
       "       course_Certificate_type  course_rating course_difficulty  \\\n",
       "count                      891     891.000000               891   \n",
       "unique                       3            NaN                 4   \n",
       "top                     course            NaN          beginner   \n",
       "freq                       582            NaN               487   \n",
       "mean                       NaN       4.677329               NaN   \n",
       "std                        NaN       0.162225               NaN   \n",
       "min                        NaN       3.300000               NaN   \n",
       "25%                        NaN       4.600000               NaN   \n",
       "50%                        NaN       4.700000               NaN   \n",
       "75%                        NaN       4.800000               NaN   \n",
       "max                        NaN       5.000000               NaN   \n",
       "\n",
       "        course_students_enrolled  \n",
       "count               8.910000e+02  \n",
       "unique                       NaN  \n",
       "top                          NaN  \n",
       "freq                         NaN  \n",
       "mean                9.055208e+04  \n",
       "std                 1.819365e+05  \n",
       "min                 1.500000e+03  \n",
       "25%                 1.750000e+04  \n",
       "50%                 4.200000e+04  \n",
       "75%                 9.950000e+04  \n",
       "max                 3.200000e+06  "
      ]
     },
     "execution_count": 31,
     "metadata": {},
     "output_type": "execute_result"
    }
   ],
   "source": [
    "df = df.apply(lambda x: x.str.lower().str.strip() if x.dtype == \"category\" else x)\n",
    "df[[\"course_title\", \"course_organization\", \"course_Certificate_type\", \"course_difficulty\"]] = df[[\"course_title\", \"course_organization\", \"course_Certificate_type\", \"course_difficulty\"]].astype('category')\n",
    "df.describe(include=\"all\")"
   ]
  },
  {
   "cell_type": "markdown",
   "metadata": {},
   "source": [
    "It's visible, that almost all course titles are unique, but not all. Need to check which and why."
   ]
  },
  {
   "cell_type": "code",
   "execution_count": 32,
   "metadata": {},
   "outputs": [
    {
     "data": {
      "text/html": [
       "<div>\n",
       "<style scoped>\n",
       "    .dataframe tbody tr th:only-of-type {\n",
       "        vertical-align: middle;\n",
       "    }\n",
       "\n",
       "    .dataframe tbody tr th {\n",
       "        vertical-align: top;\n",
       "    }\n",
       "\n",
       "    .dataframe thead th {\n",
       "        text-align: right;\n",
       "    }\n",
       "</style>\n",
       "<table border=\"1\" class=\"dataframe\">\n",
       "  <thead>\n",
       "    <tr style=\"text-align: right;\">\n",
       "      <th></th>\n",
       "      <th>course_title</th>\n",
       "      <th>course_organization</th>\n",
       "      <th>course_Certificate_type</th>\n",
       "      <th>course_rating</th>\n",
       "      <th>course_difficulty</th>\n",
       "      <th>course_students_enrolled</th>\n",
       "    </tr>\n",
       "  </thead>\n",
       "  <tbody>\n",
       "    <tr>\n",
       "      <th>205</th>\n",
       "      <td>developing your musicianship</td>\n",
       "      <td>berklee college of music</td>\n",
       "      <td>specialization</td>\n",
       "      <td>4.8</td>\n",
       "      <td>beginner</td>\n",
       "      <td>54000</td>\n",
       "    </tr>\n",
       "    <tr>\n",
       "      <th>756</th>\n",
       "      <td>developing your musicianship</td>\n",
       "      <td>berklee college of music</td>\n",
       "      <td>course</td>\n",
       "      <td>4.8</td>\n",
       "      <td>mixed</td>\n",
       "      <td>41000</td>\n",
       "    </tr>\n",
       "    <tr>\n",
       "      <th>6</th>\n",
       "      <td>machine learning</td>\n",
       "      <td>stanford university</td>\n",
       "      <td>course</td>\n",
       "      <td>4.9</td>\n",
       "      <td>mixed</td>\n",
       "      <td>3200000</td>\n",
       "    </tr>\n",
       "    <tr>\n",
       "      <th>181</th>\n",
       "      <td>machine learning</td>\n",
       "      <td>university of washington</td>\n",
       "      <td>specialization</td>\n",
       "      <td>4.6</td>\n",
       "      <td>intermediate</td>\n",
       "      <td>290000</td>\n",
       "    </tr>\n",
       "    <tr>\n",
       "      <th>241</th>\n",
       "      <td>marketing digital</td>\n",
       "      <td>universidade de são paulo</td>\n",
       "      <td>course</td>\n",
       "      <td>4.8</td>\n",
       "      <td>beginner</td>\n",
       "      <td>81000</td>\n",
       "    </tr>\n",
       "    <tr>\n",
       "      <th>325</th>\n",
       "      <td>marketing digital</td>\n",
       "      <td>universidad austral</td>\n",
       "      <td>specialization</td>\n",
       "      <td>4.7</td>\n",
       "      <td>beginner</td>\n",
       "      <td>39000</td>\n",
       "    </tr>\n",
       "  </tbody>\n",
       "</table>\n",
       "</div>"
      ],
      "text/plain": [
       "                     course_title        course_organization  \\\n",
       "205  developing your musicianship   berklee college of music   \n",
       "756  developing your musicianship   berklee college of music   \n",
       "6                machine learning        stanford university   \n",
       "181              machine learning   university of washington   \n",
       "241             marketing digital  universidade de são paulo   \n",
       "325             marketing digital        universidad austral   \n",
       "\n",
       "    course_Certificate_type  course_rating course_difficulty  \\\n",
       "205          specialization            4.8          beginner   \n",
       "756                  course            4.8             mixed   \n",
       "6                    course            4.9             mixed   \n",
       "181          specialization            4.6      intermediate   \n",
       "241                  course            4.8          beginner   \n",
       "325          specialization            4.7          beginner   \n",
       "\n",
       "     course_students_enrolled  \n",
       "205                     54000  \n",
       "756                     41000  \n",
       "6                     3200000  \n",
       "181                    290000  \n",
       "241                     81000  \n",
       "325                     39000  "
      ]
     },
     "execution_count": 32,
     "metadata": {},
     "output_type": "execute_result"
    }
   ],
   "source": [
    "titles = df[\"course_title\"].value_counts()\n",
    "titles = titles[titles > 1] \n",
    "titles = titles.index.tolist()\n",
    "df[df[\"course_title\"].isin(titles)].sort_values(by=\"course_title\")"
   ]
  },
  {
   "cell_type": "markdown",
   "metadata": {},
   "source": [
    "It's visible that some courses from different organizations have just generic repeatable titles, thus are not duplicates, just called the same way. When it comes to \"developing your musicianship\" course from \"berklee college of music\", it's a different case. I went to [Coursera site](https://www.coursera.org/learn/develop-your-musicianship?specialization=musicianship-specialization) to check this data. Turns out this course is part of \"Developing Your Musicianship Specialization\", thus they course and specialization share the same name. \n",
    "\n",
    "Thus, there are no duplicate values.\n",
    "\n",
    "#### Inconsistent Data Entry\n",
    "\n",
    "Need to check for inconsistent definitions of values if any are left. For this, checking unique values count."
   ]
  },
  {
   "cell_type": "code",
   "execution_count": 33,
   "metadata": {},
   "outputs": [
    {
     "data": {
      "text/plain": [
       "course_difficulty\n",
       "beginner        487\n",
       "intermediate    198\n",
       "mixed           187\n",
       "advanced         19\n",
       "Name: count, dtype: int64"
      ]
     },
     "execution_count": 33,
     "metadata": {},
     "output_type": "execute_result"
    }
   ],
   "source": [
    "df[\"course_difficulty\"].value_counts()"
   ]
  },
  {
   "cell_type": "code",
   "execution_count": 34,
   "metadata": {},
   "outputs": [
    {
     "data": {
      "text/plain": [
       "course_Certificate_type\n",
       "course                      582\n",
       "specialization              297\n",
       "professional certificate     12\n",
       "Name: count, dtype: int64"
      ]
     },
     "execution_count": 34,
     "metadata": {},
     "output_type": "execute_result"
    }
   ],
   "source": [
    "df[\"course_Certificate_type\"].value_counts()"
   ]
  },
  {
   "cell_type": "markdown",
   "metadata": {},
   "source": [
    "All few unique values available are indeed distinct. \n",
    "For columns with they more unique values, will need to use fuzz ratio calculation. To start with I picked 90. \n",
    "\n",
    "First - \"course_title\"."
   ]
  },
  {
   "cell_type": "code",
   "execution_count": 35,
   "metadata": {},
   "outputs": [
    {
     "data": {
      "text/html": [
       "<div>\n",
       "<style scoped>\n",
       "    .dataframe tbody tr th:only-of-type {\n",
       "        vertical-align: middle;\n",
       "    }\n",
       "\n",
       "    .dataframe tbody tr th {\n",
       "        vertical-align: top;\n",
       "    }\n",
       "\n",
       "    .dataframe thead th {\n",
       "        text-align: right;\n",
       "    }\n",
       "</style>\n",
       "<table border=\"1\" class=\"dataframe\">\n",
       "  <thead>\n",
       "    <tr style=\"text-align: right;\">\n",
       "      <th></th>\n",
       "      <th>Value 1</th>\n",
       "      <th>Value 2</th>\n",
       "      <th>Similarity</th>\n",
       "    </tr>\n",
       "  </thead>\n",
       "  <tbody>\n",
       "    <tr>\n",
       "      <th>0</th>\n",
       "      <td>excel skills for business: intermediate i</td>\n",
       "      <td>excel skills for business: intermediate ii</td>\n",
       "      <td>98.795181</td>\n",
       "    </tr>\n",
       "    <tr>\n",
       "      <th>1</th>\n",
       "      <td>the power of macroeconomics: economic principles in the real world</td>\n",
       "      <td>the power of microeconomics: economic principles in the real world</td>\n",
       "      <td>98.484848</td>\n",
       "    </tr>\n",
       "    <tr>\n",
       "      <th>2</th>\n",
       "      <td>tesol certificate, part 1: teach english now!</td>\n",
       "      <td>tesol certificate, part 2: teach english now!</td>\n",
       "      <td>97.777778</td>\n",
       "    </tr>\n",
       "    <tr>\n",
       "      <th>3</th>\n",
       "      <td>developing applications with google cloud platform</td>\n",
       "      <td>developing applications with google cloud platform 日本語版</td>\n",
       "      <td>95.238095</td>\n",
       "    </tr>\n",
       "    <tr>\n",
       "      <th>4</th>\n",
       "      <td>introduction to financial accounting</td>\n",
       "      <td>more introduction to financial accounting</td>\n",
       "      <td>93.506494</td>\n",
       "    </tr>\n",
       "    <tr>\n",
       "      <th>5</th>\n",
       "      <td>mathematics for machine learning</td>\n",
       "      <td>mathematics for machine learning: pca</td>\n",
       "      <td>92.753623</td>\n",
       "    </tr>\n",
       "    <tr>\n",
       "      <th>6</th>\n",
       "      <td>machine learning with tensorflow on google cloud platform</td>\n",
       "      <td>advanced machine learning with tensorflow on google cloud platform</td>\n",
       "      <td>92.682927</td>\n",
       "    </tr>\n",
       "    <tr>\n",
       "      <th>7</th>\n",
       "      <td>introduction to web development</td>\n",
       "      <td>introduction to game development</td>\n",
       "      <td>92.063492</td>\n",
       "    </tr>\n",
       "    <tr>\n",
       "      <th>8</th>\n",
       "      <td>excel/vba for creative problem solving</td>\n",
       "      <td>excel/vba for creative problem solving, part 1</td>\n",
       "      <td>90.476190</td>\n",
       "    </tr>\n",
       "    <tr>\n",
       "      <th>9</th>\n",
       "      <td>fundamentals of computing</td>\n",
       "      <td>fundamentals of accounting</td>\n",
       "      <td>90.196078</td>\n",
       "    </tr>\n",
       "  </tbody>\n",
       "</table>\n",
       "</div>"
      ],
      "text/plain": [
       "                                                              Value 1  \\\n",
       "0                           excel skills for business: intermediate i   \n",
       "1  the power of macroeconomics: economic principles in the real world   \n",
       "2                       tesol certificate, part 1: teach english now!   \n",
       "3                  developing applications with google cloud platform   \n",
       "4                                introduction to financial accounting   \n",
       "5                                    mathematics for machine learning   \n",
       "6           machine learning with tensorflow on google cloud platform   \n",
       "7                                     introduction to web development   \n",
       "8                              excel/vba for creative problem solving   \n",
       "9                                           fundamentals of computing   \n",
       "\n",
       "                                                              Value 2  \\\n",
       "0                          excel skills for business: intermediate ii   \n",
       "1  the power of microeconomics: economic principles in the real world   \n",
       "2                       tesol certificate, part 2: teach english now!   \n",
       "3             developing applications with google cloud platform 日本語版   \n",
       "4                           more introduction to financial accounting   \n",
       "5                               mathematics for machine learning: pca   \n",
       "6  advanced machine learning with tensorflow on google cloud platform   \n",
       "7                                    introduction to game development   \n",
       "8                      excel/vba for creative problem solving, part 1   \n",
       "9                                          fundamentals of accounting   \n",
       "\n",
       "   Similarity  \n",
       "0   98.795181  \n",
       "1   98.484848  \n",
       "2   97.777778  \n",
       "3   95.238095  \n",
       "4   93.506494  \n",
       "5   92.753623  \n",
       "6   92.682927  \n",
       "7   92.063492  \n",
       "8   90.476190  \n",
       "9   90.196078  "
      ]
     },
     "execution_count": 35,
     "metadata": {},
     "output_type": "execute_result"
    }
   ],
   "source": [
    "course_title_matches = []\n",
    "\n",
    "course_title_values = df[\"course_title\"].unique()\n",
    "\n",
    "for first in range(len(course_title_values)):\n",
    "    for second in range(first+1, len(course_title_values)):\n",
    "        value1 = course_title_values[first]\n",
    "        value2 = course_title_values[second]\n",
    "        similarity_ratio = fuzz.ratio(value1, value2)  \n",
    "\n",
    "        if similarity_ratio > 90:\n",
    "            course_title_matches.append({\n",
    "                'Value 1': value1,\n",
    "                'Value 2': value2,\n",
    "                'Similarity': similarity_ratio\n",
    "            })\n",
    "\n",
    "course_title_matches = pd.DataFrame(course_title_matches).sort_values(by='Similarity', ascending=False).reset_index(drop=True)\n",
    "pd.set_option('display.max_colwidth', None)\n",
    "course_title_matches"
   ]
  },
  {
   "cell_type": "markdown",
   "metadata": {},
   "source": [
    "After checking these values, they appear to be similar namings for courses of same specialization. Thus, no inconsistent data entries were found. \n",
    "\n",
    "Next - \"course_organization\"."
   ]
  },
  {
   "cell_type": "code",
   "execution_count": 36,
   "metadata": {},
   "outputs": [
    {
     "data": {
      "text/html": [
       "<div>\n",
       "<style scoped>\n",
       "    .dataframe tbody tr th:only-of-type {\n",
       "        vertical-align: middle;\n",
       "    }\n",
       "\n",
       "    .dataframe tbody tr th {\n",
       "        vertical-align: top;\n",
       "    }\n",
       "\n",
       "    .dataframe thead th {\n",
       "        text-align: right;\n",
       "    }\n",
       "</style>\n",
       "<table border=\"1\" class=\"dataframe\">\n",
       "  <thead>\n",
       "    <tr style=\"text-align: right;\">\n",
       "      <th></th>\n",
       "      <th>Value 1</th>\n",
       "      <th>Value 2</th>\n",
       "      <th>Similarity</th>\n",
       "    </tr>\n",
       "  </thead>\n",
       "  <tbody>\n",
       "    <tr>\n",
       "      <th>0</th>\n",
       "      <td>ie business school</td>\n",
       "      <td>iese business school</td>\n",
       "      <td>94.736842</td>\n",
       "    </tr>\n",
       "    <tr>\n",
       "      <th>1</th>\n",
       "      <td>essec business school</td>\n",
       "      <td>iese business school</td>\n",
       "      <td>92.682927</td>\n",
       "    </tr>\n",
       "    <tr>\n",
       "      <th>2</th>\n",
       "      <td>essec business school</td>\n",
       "      <td>escp business school</td>\n",
       "      <td>92.682927</td>\n",
       "    </tr>\n",
       "    <tr>\n",
       "      <th>3</th>\n",
       "      <td>edhec business school</td>\n",
       "      <td>essec business school</td>\n",
       "      <td>90.476190</td>\n",
       "    </tr>\n",
       "  </tbody>\n",
       "</table>\n",
       "</div>"
      ],
      "text/plain": [
       "                 Value 1                Value 2  Similarity\n",
       "0     ie business school   iese business school   94.736842\n",
       "1  essec business school   iese business school   92.682927\n",
       "2  essec business school   escp business school   92.682927\n",
       "3  edhec business school  essec business school   90.476190"
      ]
     },
     "execution_count": 36,
     "metadata": {},
     "output_type": "execute_result"
    }
   ],
   "source": [
    "course_organization_matches = []\n",
    "\n",
    "course_organization_values = df[\"course_organization\"].unique()\n",
    "\n",
    "for first in range(len(course_organization_values)):\n",
    "    for second in range(first+1, len(course_organization_values)):\n",
    "        value1 = course_organization_values[first]\n",
    "        value2 = course_organization_values[second]\n",
    "        similarity_ratio = fuzz.ratio(value1, value2)  \n",
    "\n",
    "        if similarity_ratio > 90:\n",
    "            course_organization_matches.append({\n",
    "                'Value 1': value1,\n",
    "                'Value 2': value2,\n",
    "                'Similarity': similarity_ratio\n",
    "            })\n",
    "\n",
    "course_organization_matches = pd.DataFrame(course_organization_matches).sort_values(by='Similarity', ascending=False).reset_index(drop=True)\n",
    "pd.set_option('display.max_colwidth', None)\n",
    "course_organization_matches"
   ]
  },
  {
   "cell_type": "markdown",
   "metadata": {},
   "source": [
    "After checking on Coursera, these are indeed different business schools. Thus, no inconsistent data entries were found. \n",
    "\n",
    "Will apply title formatting back for future visualizations. It will change to object type again, so have to recast to category one. "
   ]
  },
  {
   "cell_type": "code",
   "execution_count": 37,
   "metadata": {},
   "outputs": [],
   "source": [
    "df = df.apply(lambda x: x.str.title() if x.dtype == \"category\" else x)\n",
    "df[[\"course_title\", \"course_organization\", \"course_Certificate_type\", \"course_difficulty\"]] = df[[\"course_title\", \"course_organization\", \"course_Certificate_type\", \"course_difficulty\"]].astype('category')"
   ]
  },
  {
   "cell_type": "markdown",
   "metadata": {},
   "source": [
    "#### Outliers\n",
    "Will check what kind of outliers are in numerical columns. To have broader overview, will segment based on certification type and it's difficulty. \n",
    "##### Sudents enrolled"
   ]
  },
  {
   "cell_type": "code",
   "execution_count": 38,
   "metadata": {},
   "outputs": [
    {
     "data": {
      "application/vnd.plotly.v1+json": {
       "config": {
        "plotlyServerURL": "https://plot.ly"
       },
       "data": [
        {
         "alignmentgroup": "True",
         "boxmean": true,
         "customdata": [
          [
           "Ibm Data Science",
           4.6,
           "Ibm"
          ],
          [
           "Google It Support",
           4.8,
           "Google"
          ],
          [
           "Cloud Engineering With Google Cloud",
           4.7,
           "Google Cloud"
          ],
          [
           "Ibm Applied Ai",
           4.6,
           "Ibm"
          ],
          [
           "Data Engineering With Google Cloud",
           4.6,
           "Google Cloud"
          ],
          [
           "Google It Automation With Python",
           4.7,
           "Google"
          ],
          [
           "Ibm Ai Engineering",
           4.6,
           "Ibm"
          ],
          [
           "Arizona State University Tesol",
           4.9,
           "Arizona State University"
          ],
          [
           "Uci Project Management",
           4.6,
           "University Of California, Irvine"
          ],
          [
           "Sas Programmer",
           4.8,
           "Sas"
          ],
          [
           "Soporte De Tecnologías De La Información De Google",
           4.9,
           "Crece Con Google"
          ],
          [
           "Sas Visual Business Analytics",
           4.6,
           "Sas"
          ]
         ],
         "hovertemplate": "Title: <b>%{customdata[0]}</b><br>Students Enrolled: %{x:,.0f}<br>Organization: %{customdata[2]}<br>Rating: %{customdata[1]}<br>",
         "legendgroup": "Professional Certificate",
         "marker": {
          "color": "#636efa"
         },
         "name": "Professional Certificate",
         "notched": false,
         "offsetgroup": "Professional Certificate",
         "orientation": "h",
         "showlegend": true,
         "type": "box",
         "x": [
          480000,
          350000,
          310000,
          220000,
          120000,
          93000,
          140000,
          150000,
          44000,
          370000,
          8800,
          2600
         ],
         "x0": " ",
         "xaxis": "x",
         "y": [
          "Beginner",
          "Beginner",
          "Intermediate",
          "Beginner",
          "Intermediate",
          "Beginner",
          "Intermediate",
          "Beginner",
          "Beginner",
          "Beginner",
          "Beginner",
          "Beginner"
         ],
         "y0": " ",
         "yaxis": "y"
        },
        {
         "alignmentgroup": "True",
         "boxmean": true,
         "customdata": [
          [
           "Introduction To Data Science",
           4.6,
           "Ibm"
          ],
          [
           "Python For Everybody",
           4.8,
           "University Of Michigan"
          ],
          [
           "Deep Learning",
           4.8,
           "Deeplearning.Ai"
          ],
          [
           "Business Foundations",
           4.7,
           "University Of Pennsylvania"
          ],
          [
           "Applied Data Science",
           4.6,
           "Ibm"
          ],
          [
           "Architecting With Google Compute Engine",
           4.7,
           "Google Cloud"
          ],
          [
           "Excel Skills For Business",
           4.9,
           "Macquarie University"
          ],
          [
           "Data Science",
           4.5,
           "Johns Hopkins University"
          ],
          [
           "Data Science: Foundations Using R",
           4.6,
           "Johns Hopkins University"
          ],
          [
           "Finance & Quantitative Modeling For Analysts",
           4.5,
           "University Of Pennsylvania"
          ],
          [
           "Business Analytics",
           4.6,
           "University Of Pennsylvania"
          ],
          [
           "Developing Applications With Google Cloud Platform",
           4.7,
           "Google Cloud"
          ],
          [
           "Security In Google Cloud Platform",
           4.7,
           "Google Cloud"
          ],
          [
           "Networking In Google Cloud",
           4.7,
           "Google Cloud"
          ],
          [
           "Business And Financial Modeling",
           4.5,
           "University Of Pennsylvania"
          ],
          [
           "Data Engineering, Big Data, And Machine Learning On Gcp",
           4.6,
           "Google Cloud"
          ],
          [
           "Applied Data Science With Python",
           4.5,
           "University Of Michigan"
          ],
          [
           "Tensorflow In Practice",
           4.7,
           "Deeplearning.Ai"
          ],
          [
           "Digital Marketing",
           4.6,
           "University Of Illinois At Urbana-Champaign"
          ],
          [
           "Project Management Principles And Practices",
           4.7,
           "University Of California, Irvine"
          ],
          [
           "Project Management & Other Tools For Career Development",
           4.6,
           "University Of California, Irvine"
          ],
          [
           "Foundations Of Positive Psychology",
           4.8,
           "University Of Pennsylvania"
          ],
          [
           "Entrepreneurship",
           4.8,
           "University Of Pennsylvania"
          ],
          [
           "Ai For Medicine",
           4.7,
           "Deeplearning.Ai"
          ],
          [
           "Improve Your English Communication Skills",
           4.7,
           "Georgia Institute Of Technology"
          ],
          [
           "Excel To Mysql: Analytic Techniques For Business",
           4.6,
           "Duke University"
          ],
          [
           "Data Analysis And Presentation Skills: The Pwc Approach",
           4.6,
           "Pwc"
          ],
          [
           "Web Design For Everybody: Basics Of Web Development & Coding",
           4.7,
           "University Of Michigan"
          ],
          [
           "Aws Fundamentals",
           4.6,
           "Amazon Web Services"
          ],
          [
           "Career Success",
           4.4,
           "University Of California, Irvine"
          ],
          [
           "Java Programming And Software Engineering Fundamentals",
           4.6,
           "Duke University"
          ],
          [
           "Ui / Ux Design",
           4.7,
           "California Institute Of The Arts"
          ],
          [
           "Construction Management",
           4.7,
           "Columbia University"
          ],
          [
           "Social Media Marketing",
           4.6,
           "Northwestern University"
          ],
          [
           "Supply Chain Management",
           4.7,
           "Rutgers The State University Of New Jersey"
          ],
          [
           "Achieving Personal And Professional Success",
           4.7,
           "University Of Pennsylvania"
          ],
          [
           "Human Resource Management: Hr For People Managers",
           4.7,
           "University Of Minnesota"
          ],
          [
           "Digital Product Management",
           4.7,
           "University Of Virginia"
          ],
          [
           "Mathematics For Machine Learning",
           4.6,
           "Imperial College London"
          ],
          [
           "Ai Foundations For Everyone",
           4.7,
           "Ibm"
          ],
          [
           "Creative Writing",
           4.6,
           "Wesleyan University"
          ],
          [
           "Epidemiology In Public Health Practice",
           4.7,
           "Johns Hopkins University"
          ],
          [
           "Leading People And Teams",
           4.7,
           "University Of Michigan"
          ],
          [
           "Academic English: Writing",
           4.7,
           "University Of California, Irvine"
          ],
          [
           "Software Product Management",
           4.6,
           "University Of Alberta"
          ],
          [
           "The Business Of Health Care",
           4.6,
           "University Of Pennsylvania"
          ],
          [
           "Fintech: Foundations & Applications Of Financial Technology",
           4.6,
           "University Of Pennsylvania"
          ],
          [
           "Tesol Certificate, Part 1: Teach English Now!",
           4.9,
           "Arizona State University"
          ],
          [
           "Data Visualization With Tableau",
           4.5,
           "University Of California, Davis"
          ],
          [
           "Learn Sql Basics For Data Science",
           4.6,
           "University Of California, Davis"
          ],
          [
           "Agile Development",
           4.7,
           "University Of Virginia"
          ],
          [
           "Genomic Data Science",
           4.4,
           "Johns Hopkins University"
          ],
          [
           "Algorithms",
           4.8,
           "Stanford University"
          ],
          [
           "Geographic Information Systems  (Gis)",
           4.8,
           "University Of California, Davis"
          ],
          [
           "Investment Management",
           4.7,
           "University Of Geneva"
          ],
          [
           "The Diy Musician",
           4.8,
           "Berklee College Of Music"
          ],
          [
           "Reinforcement Learning",
           4.7,
           "University Of Alberta"
          ],
          [
           "Statistics With R",
           4.7,
           "Duke University"
          ],
          [
           "Object Oriented Programming In Java",
           4.6,
           "Duke University"
          ],
          [
           "Methods And Statistics In Social Sciences",
           4.6,
           "University Of Amsterdam"
          ],
          [
           "Full-Stack Web Development With React",
           4.7,
           "The Hong Kong University Of Science And Technology"
          ],
          [
           "Managing Innovation And Design Thinking",
           4.7,
           "Hec Paris"
          ],
          [
           "Strategic Leadership And Management",
           4.7,
           "University Of Illinois At Urbana-Champaign"
          ],
          [
           "Music Production",
           4.8,
           "Berklee College Of Music"
          ],
          [
           "Cisco Networking Basics",
           4.7,
           "Cisco"
          ],
          [
           "Business Statistics And Analysis",
           4.7,
           "Rice University"
          ],
          [
           "The Business Of Music Production",
           4.8,
           "Berklee College Of Music"
          ],
          [
           "It Fundamentals For Cybersecurity",
           4.5,
           "Ibm"
          ],
          [
           "Advanced Machine Learning",
           4.5,
           "National Research University Higher School Of Economics"
          ],
          [
           "Business Strategy",
           4.7,
           "University Of Virginia"
          ],
          [
           "Photography Basics And Beyond: From Smartphone To Dslr",
           4.7,
           "Michigan State University"
          ],
          [
           "Full Stack Web And Multiplatform Mobile App Development",
           4.7,
           "The Hong Kong University Of Science And Technology"
          ],
          [
           "Learn Spanish: Basic Spanish Vocabulary",
           4.6,
           "University Of California, Davis"
          ],
          [
           "G Suite Administration",
           4.7,
           "Google Cloud"
          ],
          [
           "Organizational Leadership",
           4.7,
           "Northwestern University"
          ],
          [
           "User Experience Research And Design",
           4.8,
           "University Of Michigan"
          ],
          [
           "The Singer Songwriter",
           4.8,
           "Berklee College Of Music"
          ],
          [
           "Anatomy",
           4.8,
           "University Of Michigan"
          ],
          [
           "Intellectual Property Law",
           4.8,
           "University Of Pennsylvania"
          ],
          [
           "Electronic Music Production",
           4.8,
           "Berklee College Of Music"
          ],
          [
           "Excel/Vba For Creative Problem Solving",
           4.8,
           "University Of Colorado Boulder"
          ],
          [
           "Machine Learning With Tensorflow On Google Cloud Platform",
           4.5,
           "Google Cloud"
          ],
          [
           "Business Strategies For A Better World",
           4.7,
           "University Of Pennsylvania"
          ],
          [
           "Statistics With Python",
           4.6,
           "University Of Michigan"
          ],
          [
           "Interaction Design",
           4.5,
           "University Of California San Diego"
          ],
          [
           "Fundamentals Of Immunology",
           4.7,
           "Rice University"
          ],
          [
           "Biostatistics In Public Health",
           4.8,
           "Johns Hopkins University"
          ],
          [
           "Машинное Обучение И Анализ Данных",
           4.7,
           "E-Learning Development Fund"
          ],
          [
           "The Art Of Sales: Mastering The Selling Process",
           4.7,
           "Northwestern University"
          ],
          [
           "(Isc)² Systems Security Certified Practitioner (Sscp)",
           4.7,
           "(Isc)²"
          ],
          [
           "Executive Data Science",
           4.5,
           "Johns Hopkins University"
          ],
          [
           "Marketing Mix Implementation",
           4.6,
           "Ie Business School"
          ],
          [
           "Accelerated Computer Science Fundamentals",
           4.7,
           "University Of Illinois At Urbana-Champaign"
          ],
          [
           "Blockchain Revolution",
           4.7,
           "Insead"
          ],
          [
           "Futures Thinking",
           4.8,
           "Institute For The Future"
          ],
          [
           "Investment Management With Python And Machine Learning",
           4.6,
           "Edhec Business School"
          ],
          [
           "Data Science: Statistics And Machine Learning",
           4.4,
           "Johns Hopkins University"
          ],
          [
           "Financial Management",
           4.7,
           "University Of Illinois At Urbana-Champaign"
          ],
          [
           "Functional Programming In Scala",
           4.7,
           "École Polytechnique Fédérale De Lausanne"
          ],
          [
           "An Introduction To Programming The Internet Of Things (Iot)",
           4.6,
           "University Of California, Irvine"
          ],
          [
           "Self-Driving Cars",
           4.7,
           "University Of Toronto"
          ],
          [
           "Learn Chinese: Hsk Test Preparation",
           4.8,
           "Peking University"
          ],
          [
           "Искусство Разработки На Современном C++",
           4.9,
           "E-Learning Development Fund"
          ],
          [
           "Advanced Data Science With Ibm",
           4.4,
           "Ibm"
          ],
          [
           "Финансовые Инструменты Для Частного Инвестора",
           4.7,
           "National Research University Higher School Of Economics"
          ],
          [
           "Fundamentals Of Computing",
           4.8,
           "Rice University"
          ],
          [
           "Dynamic Public Speaking",
           4.7,
           "University Of Washington"
          ],
          [
           "Six Sigma Green Belt",
           4.7,
           "University System Of Georgia"
          ],
          [
           "Business English Communication Skills",
           4.7,
           "University Of Washington"
          ],
          [
           "Statistical Analysis With R For Public Health",
           4.7,
           "Imperial College London"
          ],
          [
           "Integrative Health And Medicine",
           4.8,
           "University Of Minnesota"
          ],
          [
           "Learn English: Intermediate Grammar",
           4.7,
           "University Of California, Irvine"
          ],
          [
           "Hotel Management: Distribution, Revenue And Demand Management",
           4.6,
           "Essec Business School"
          ],
          [
           "Machine Learning For Trading",
           3.9,
           "Google Cloud"
          ],
          [
           "Russian For Beginners А1. Русский Язык: A1",
           4.7,
           "Saint Petersburg State University"
          ],
          [
           "Machine Learning",
           4.6,
           "University Of Washington"
          ],
          [
           "Web Applications For Everybody",
           4.8,
           "University Of Michigan"
          ],
          [
           "Introduction To Cyber Security",
           4.7,
           "New York University"
          ],
          [
           "Inspired Leadership",
           4.7,
           "Case Western Reserve University"
          ],
          [
           "Software Design And Architecture",
           4.6,
           "University Of Alberta"
          ],
          [
           "Music Business",
           4.8,
           "Berklee College Of Music"
          ],
          [
           "Introduction To Programming In C",
           4.7,
           "Duke University"
          ],
          [
           "Investment And Portfolio Management",
           4.5,
           "Rice University"
          ],
          [
           "Introduction To Discrete Mathematics For Computer Science",
           4.4,
           "National Research University Higher School Of Economics"
          ],
          [
           "Claves De La Dirección De Empresas",
           4.8,
           "Iese Business School"
          ],
          [
           "Strategic Management And Innovation",
           4.7,
           "Copenhagen Business School"
          ],
          [
           "From Data To Insights With Google Cloud Platform",
           4.6,
           "Google Cloud"
          ],
          [
           "Developing Your Musicianship",
           4.8,
           "Berklee College Of Music"
          ],
          [
           "Game Design And Development",
           4.7,
           "Michigan State University"
          ],
          [
           "Programming With Google Go",
           4.6,
           "University Of California, Irvine"
          ],
          [
           "Foundations Of Management",
           4.8,
           "Iese Business School"
          ],
          [
           "Marketing Strategy",
           4.4,
           "Ie Business School"
          ],
          [
           "Pricing Strategy Optimization",
           4.8,
           "Bcg"
          ],
          [
           "Tensorflow: Data And Deployment",
           4.5,
           "Deeplearning.Ai"
          ],
          [
           "Inspirational Leadership: Leading With Sense",
           4.5,
           "Hec Paris"
          ],
          [
           "Trading Strategies In Emerging Markets",
           4.3,
           "Indian School Of Business"
          ],
          [
           "C# Programming For Unity Game Development",
           4.7,
           "University Of Colorado System"
          ],
          [
           "Influencing: Storytelling, Change Management And Governance",
           4.8,
           "Macquarie University"
          ],
          [
           "Negotiation, Mediation And Conflict Resolution",
           4.7,
           "Essec Business School"
          ],
          [
           "Habilidades Gerenciales",
           4.7,
           "Universidad Nacional Autónoma De México"
          ],
          [
           "Business Technology Management",
           4.5,
           "Indian School Of Business"
          ],
          [
           "Tesol Certificate, Part 2: Teach English Now!",
           4.9,
           "Arizona State University"
          ],
          [
           "Программирование На Python",
           4.5,
           "Mail.Ru Group"
          ],
          [
           "Digital Manufacturing & Design Technology",
           4.6,
           "University At Buffalo"
          ],
          [
           "Branding: The Creative Journey",
           4.6,
           "Ie Business School"
          ],
          [
           "Digital Advertising Strategy",
           4.4,
           "University Of Colorado Boulder"
          ],
          [
           "Algorithms For Battery Management Systems",
           4.8,
           "University Of Colorado System"
          ],
          [
           "Health Informatics",
           4.5,
           "Johns Hopkins University"
          ],
          [
           "U.S. Federal Taxation",
           4.8,
           "University Of Illinois At Urbana-Champaign"
          ],
          [
           "Advanced Business Analytics",
           4.5,
           "University Of Colorado Boulder"
          ],
          [
           "Culture-Driven Team Building",
           4.6,
           "University Of Pennsylvania"
          ],
          [
           "Blockchain",
           4.6,
           "University At Buffalo"
          ],
          [
           "Introduction To Computer Science And Programming",
           4.3,
           "Goldsmiths, University Of London"
          ],
          [
           "Object Oriented Java Programming: Data Structures And Beyond",
           4.7,
           "University Of California San Diego"
          ],
          [
           "Memoir And Personal Essay: Write About Yourself",
           4.3,
           "Wesleyan University"
          ],
          [
           "Financial Markets And Investment Strategy",
           4.5,
           "Indian School Of Business"
          ],
          [
           "Value Chain Management",
           4.7,
           "University Of Illinois At Urbana-Champaign"
          ],
          [
           "Energy Production, Distribution & Safety",
           4.7,
           "University At Buffalo"
          ],
          [
           "Learn English: Advanced Grammar And Punctuation",
           4.8,
           "University Of California, Irvine"
          ],
          [
           "Content Strategy For Professionals",
           4.5,
           "Northwestern University"
          ],
          [
           "Coaching Skills For Managers",
           4.7,
           "University Of California, Davis"
          ],
          [
           "Gis, Mapping, And Spatial Analysis",
           4.8,
           "University Of Toronto"
          ],
          [
           "Data Warehousing For Business Intelligence",
           4.5,
           "University Of Colorado System"
          ],
          [
           "Responsive Website Development And Design",
           4.5,
           "Goldsmiths, University Of London"
          ],
          [
           "Entrepreneurial Finance: Strategy And Innovation",
           4.5,
           "Duke University"
          ],
          [
           "Introduction To Scripting In Python",
           4.7,
           "Rice University"
          ],
          [
           "Become A Journalist: Report The News!",
           4.7,
           "Michigan State University"
          ],
          [
           "Fundamentals Of Accounting",
           4.6,
           "University Of Illinois At Urbana-Champaign"
          ],
          [
           "Modern Big Data Analysis With Sql",
           4.8,
           "Cloudera"
          ],
          [
           "Virtual Teacher",
           4.3,
           "University Of California, Irvine"
          ],
          [
           "Presentation Skills: Speechwriting, Slides And Delivery",
           4.6,
           "E-Learning Development Fund"
          ],
          [
           "Patient Safety",
           4.8,
           "Johns Hopkins University"
          ],
          [
           "Foundations Of Global Health",
           4.7,
           "Johns Hopkins University"
          ],
          [
           "Robotics",
           4.4,
           "University Of Pennsylvania"
          ],
          [
           "Practical Data Science With Matlab",
           4.7,
           "Mathworks"
          ],
          [
           "Advanced Machine Learning With Tensorflow On Google Cloud Platform",
           4.5,
           "Google Cloud"
          ],
          [
           "Marketing Digital",
           4.7,
           "Universidad Austral"
          ],
          [
           "Modern Robotics:  Mechanics, Planning, And Control",
           4.7,
           "Northwestern University"
          ],
          [
           "Medical Cannabis: The Health Effects Of Thc And Cbd",
           4.8,
           "University Of Colorado Boulder"
          ],
          [
           "Foundational Finance For Strategic Decision Making",
           4.8,
           "University Of Michigan"
          ],
          [
           "Developing Apis With Google Cloud'S Apigee Api Platform",
           4.6,
           "Google Cloud"
          ],
          [
           "Newborn Baby Care",
           4.8,
           "University Of Colorado System"
          ],
          [
           "Survey Data Collection And Analytics",
           4.3,
           "University Of Maryland, College Park"
          ],
          [
           "Power Electronics",
           4.8,
           "University Of Colorado Boulder"
          ],
          [
           "Cloud Computing",
           4.4,
           "University Of Illinois At Urbana-Champaign"
          ],
          [
           "Machine Learning And Reinforcement Learning In Finance",
           3.7,
           "New York University"
          ],
          [
           "Good With Words: Writing And Editing",
           4.6,
           "University Of Michigan"
          ],
          [
           "Financial Technology (Fintech) Innovations",
           4.7,
           "University Of Michigan"
          ],
          [
           "Learn Mandarin Chinese",
           4.8,
           "Shanghai Jiao Tong University"
          ],
          [
           "Finanzas Corporativas",
           4.6,
           "Universidad Nacional Autónoma De México"
          ],
          [
           "Marketing Con Redes Sociales",
           4.4,
           "Tecnológico De Monterrey"
          ],
          [
           "School Health For Children And Adolescents",
           4.8,
           "University Of Colorado System"
          ],
          [
           "Fundraising And Development",
           4.6,
           "University Of California, Davis"
          ],
          [
           "Cybersecurity",
           4.5,
           "University Of Maryland, College Park"
          ],
          [
           "Healthcare Law",
           4.7,
           "University Of Pennsylvania"
          ],
          [
           "Market Research",
           4.5,
           "University Of California, Davis"
          ],
          [
           "Swift 5 Ios Application Developer",
           4.5,
           "Learnquest"
          ],
          [
           "Android App Development",
           4.5,
           "Vanderbilt University"
          ],
          [
           "Computational Social Science",
           4.6,
           "University Of California, Davis"
          ],
          [
           "Learn English: Advanced Academic Speaking And Listening",
           4.5,
           "University Of California, Irvine"
          ],
          [
           "Infectious Disease Modelling",
           5,
           "Imperial College London"
          ],
          [
           "Software Development Lifecycle",
           4.6,
           "University Of Minnesota"
          ],
          [
           "Основы Digital Маркетинга",
           4.5,
           "National Research University Higher School Of Economics"
          ],
          [
           "Virtual Reality",
           4.7,
           "Goldsmiths, University Of London"
          ],
          [
           "Managerial Economics And Business Analysis",
           4.7,
           "University Of Illinois At Urbana-Champaign"
          ],
          [
           "Open Source Software Development, Linux And Git",
           4.4,
           "The Linux Foundation"
          ],
          [
           "Healthcare Marketplace",
           4.4,
           "University Of Minnesota"
          ],
          [
           "Epidemiology For Public Health",
           4.7,
           "Imperial College London"
          ],
          [
           "Supply Chain Finance And Blockchain Technology",
           4.6,
           "New York Institute Of Finance"
          ],
          [
           "Leading: Human Resource Management And Leadership",
           4.8,
           "Macquarie University"
          ],
          [
           "Data Mining",
           4.4,
           "University Of Illinois At Urbana-Champaign"
          ],
          [
           "Essentials Of Corporate Finance",
           4.6,
           "The University Of Melbourne"
          ],
          [
           "Architecting With Google Cloud Platform 日本語版",
           4.5,
           "Google Cloud"
          ],
          [
           "Conflict Management",
           4.3,
           "University Of California, Irvine"
          ],
          [
           "Parallel, Concurrent, And Distributed Programming In Java",
           4.5,
           "Rice University"
          ],
          [
           "International Business Essentials",
           4.5,
           "University Of London"
          ],
          [
           "Climate Change And Health: From Science To Action",
           4.6,
           "Yale University"
          ],
          [
           "The Teacher And Social And Emotional Learning (Sel)",
           4.7,
           "University Of Colorado Boulder"
          ],
          [
           "Blockchain Revolution In Financial Services",
           4.6,
           "Insead"
          ],
          [
           "Autodesk Cad/Cam/Cae For Mechanical Engineering",
           4.8,
           "Autodesk"
          ],
          [
           "Optical Engineering",
           4.2,
           "University Of Colorado Boulder"
          ],
          [
           "Competitive Strategy And Organization Design",
           4.7,
           "Ludwig-Maximilians-Universität München (Lmu)"
          ],
          [
           "Mathematics For Data Science",
           4.5,
           "National Research University Higher School Of Economics"
          ],
          [
           "Systems Biology And Biotechnology",
           4.4,
           "Icahn School Of Medicine At Mount Sinai"
          ],
          [
           "Information​ ​Systems",
           4.7,
           "University Of Minnesota"
          ],
          [
           "Искусство Ведения Бизнеса",
           4.6,
           "Saint Petersburg State University"
          ],
          [
           "Cybersecurity For Business",
           4.6,
           "University Of Colorado System"
          ],
          [
           "Big Data – Introducción Al Uso Práctico De Datos Masivos",
           4.5,
           "Universitat Autònoma De Barcelona"
          ],
          [
           "Entrepreneurship: Launching An Innovative Business",
           4.6,
           "University Of Maryland, College Park"
          ],
          [
           "Plant Bioinformatic Methods",
           4.7,
           "University Of Toronto"
          ],
          [
           "Graphic Design Elements For Non-Designers",
           4.7,
           "University Of Colorado Boulder"
          ],
          [
           "Foundations Of Public Health Practice",
           4.8,
           "Imperial College London"
          ],
          [
           "Palo Alto Networks Cybersecurity",
           4.6,
           "Palo Alto Networks"
          ],
          [
           "Fintech: Finance Industry Transformation And Regulation",
           4.6,
           "The Hong Kong University Of Science And Technology"
          ],
          [
           "Information Visualization",
           4.6,
           "New York University"
          ],
          [
           "Разработка Интерфейсов: Вёрстка И Javascript",
           4.5,
           "E-Learning Development Fund"
          ],
          [
           "English For Research Publication Purposes",
           4.6,
           "Moscow Institute Of Physics And Technology"
          ],
          [
           "Recommender Systems",
           4.3,
           "University Of Minnesota"
          ],
          [
           "Implementación Del Marketing Mix",
           4.7,
           "Ie Business School"
          ],
          [
           "Mastering Software Development In R",
           4.3,
           "Johns Hopkins University"
          ],
          [
           "Foundations Of Marketing Analytics",
           4.2,
           "Emory University"
          ],
          [
           "Ibm Ai Enterprise Workflow",
           4.4,
           "Ibm"
          ],
          [
           "Architecting With Google Kubernetes Engine 日本語版",
           4.5,
           "Google Cloud"
          ],
          [
           "Social Policy For Social Services & Health Practitioners",
           4.8,
           "Columbia University"
          ],
          [
           "Interviewing And Resume Writing In English",
           4.6,
           "University Of Maryland, College Park"
          ],
          [
           "Strategic Sales Management",
           4.5,
           "Fundação Instituto De Administração"
          ],
          [
           "Healthcare Organization Operations",
           4.6,
           "Rutgers The State University Of New Jersey"
          ],
          [
           "Sales Operations/Management",
           4.4,
           "West Virginia University"
          ],
          [
           "Éxito Profesional",
           4.5,
           "University Of California, Irvine"
          ],
          [
           "How To Start Your Own Business",
           4.1,
           "Michigan State University"
          ],
          [
           "Business English",
           4.7,
           "Arizona State University"
          ],
          [
           "User Interface Design",
           4.6,
           "University Of Minnesota"
          ],
          [
           "International Marketing & Cross Industry Growth",
           4.6,
           "Yonsei University"
          ],
          [
           "Unity Xr: How To Build Ar And Vr Apps",
           4.2,
           "Unity"
          ],
          [
           "Computer Security And Systems Management",
           4.6,
           "University Of Colorado System"
          ],
          [
           "Implementing Rpa With Cognitive Automation And Analytics",
           4.6,
           "Automation Anywhere"
          ],
          [
           "Developing Applications With Google Cloud Platform 日本語版",
           4.8,
           "Google Cloud"
          ],
          [
           "Strategic Business Analytics",
           4.3,
           "Essec Business School"
          ],
          [
           "Leadership Development For Engineers",
           4.7,
           "Rice University"
          ],
          [
           "Innovation: From Creativity To Entrepreneurship",
           4.8,
           "University Of Illinois At Urbana-Champaign"
          ],
          [
           "Diseño Instruccional: Aprendizaje Activo Y Pedagogía Digital",
           4.6,
           "Tecnológico De Monterrey"
          ],
          [
           "Data Engineering On Google Cloud Platform 日本語版",
           4.4,
           "Google Cloud"
          ],
          [
           "Financial Reporting",
           4.8,
           "University Of Illinois At Urbana-Champaign"
          ],
          [
           "Esports",
           4.5,
           "University Of California, Irvine"
          ],
          [
           "Liderazgo Efectivo Para El Siglo Xxi",
           4.8,
           "Universidad De Los Andes"
          ],
          [
           "Homeland Security And Cybersecurity",
           4.7,
           "University Of Colorado System"
          ],
          [
           "Communication Skills For Engineers",
           4.7,
           "Rice University"
          ],
          [
           "Globalization, Economic Growth And Stability",
           4.8,
           "Ie Business School"
          ],
          [
           "Developing Industrial Internet Of Things",
           4.6,
           "University Of Colorado Boulder"
          ],
          [
           "Корпоративные Финансы И Стоимость Компании",
           4.5,
           "National Research University Higher School Of Economics"
          ],
          [
           "Emerging Technologies: From Smartphones To Iot To Big Data",
           4.6,
           "Yonsei University"
          ],
          [
           "Health Information Literacy For Data Analytics",
           4.5,
           "University Of California, Davis"
          ],
          [
           "Introdução Aos Princípios E Práticas Da Gestão De Projetos",
           4.9,
           "Universidade De São Paulo"
          ],
          [
           "Fundamentos Empresariales",
           4.6,
           "University Of Pennsylvania"
          ],
          [
           "Improving Leadership & Governance In Nonprofit Organizations",
           4.4,
           "Luther College At The University Of Regina"
          ],
          [
           "L'Impact Investing, La Finance Qui Change Le Monde",
           4.6,
           "Essec Business School"
          ],
          [
           "Analysing: Numeric And Digital Literacies",
           4.6,
           "Macquarie University"
          ],
          [
           "Spacecraft Dynamics And Control",
           4.8,
           "University Of Colorado Boulder"
          ],
          [
           "Palliative Care: It'S Not Just Hospice Anymore",
           4.8,
           "University Of Colorado System"
          ],
          [
           "Ios App Development With Swift",
           3.9,
           "University Of Toronto"
          ],
          [
           "Sales Training For High Performing Teams",
           4.7,
           "Hubspot Academy"
          ],
          [
           "Learn English",
           4.3,
           "Tsinghua University"
          ],
          [
           "Creatividad, Diseño E Innovación: Técnicas Y Herramientas",
           4.7,
           "Arizona State University"
          ],
          [
           "Strategising: Management For Global Competitive Advantage",
           4.8,
           "Macquarie University"
          ],
          [
           "Become A Sustainable Business Change Agent",
           4.7,
           "University Of Colorado System"
          ],
          [
           "Data Analysis And Interpretation",
           4.4,
           "Wesleyan University"
          ],
          [
           "Social Entrepreneurship",
           4.6,
           "Copenhagen Business School"
          ],
          [
           "The Pronunciation Of American English",
           4.6,
           "University Of California, Irvine"
          ],
          [
           "Secure Coding Practices",
           4.4,
           "University Of California, Davis"
          ],
          [
           "Fundamentos Estratégicos Empresariales",
           4.6,
           "Universidad Nacional Autónoma De México"
          ],
          [
           "Unity Certified Programmer Exam Preparation",
           4.5,
           "Unity"
          ],
          [
           "Requirements Engineering: Secure Software  Specifications",
           4.6,
           "University Of Colorado System"
          ],
          [
           "Русский Как Иностранный",
           4.6,
           "Saint Petersburg State University"
          ],
          [
           "Evaluación Educativa",
           4.8,
           "Universidad Nacional Autónoma De México"
          ],
          [
           "Autodesk Cad/Cam For Manufacturing",
           4.8,
           "Autodesk"
          ],
          [
           "Understanding Modern Finance",
           4.4,
           "American Institute Of Business And Economics"
          ],
          [
           "Aprende A Programar Con Python",
           4.2,
           "Universidad Austral"
          ]
         ],
         "hovertemplate": "Title: <b>%{customdata[0]}</b><br>Students Enrolled: %{x:,.0f}<br>Organization: %{customdata[2]}<br>Rating: %{customdata[1]}<br>",
         "legendgroup": "Specialization",
         "marker": {
          "color": "#EF553B"
         },
         "name": "Specialization",
         "notched": false,
         "offsetgroup": "Specialization",
         "orientation": "h",
         "showlegend": true,
         "type": "box",
         "x": [
          310000,
          1500000,
          690000,
          510000,
          220000,
          310000,
          240000,
          830000,
          740000,
          260000,
          280000,
          300000,
          300000,
          290000,
          160000,
          120000,
          480000,
          170000,
          380000,
          230000,
          440000,
          89000,
          110000,
          13000,
          610000,
          490000,
          220000,
          280000,
          130000,
          790000,
          380000,
          68000,
          61000,
          130000,
          82000,
          110000,
          98000,
          140000,
          150000,
          61000,
          140000,
          31000,
          220000,
          540000,
          110000,
          22000,
          20000,
          100000,
          96000,
          160000,
          94000,
          80000,
          150000,
          97000,
          99000,
          120000,
          23000,
          220000,
          330000,
          260000,
          140000,
          23000,
          100000,
          70000,
          57000,
          110000,
          84000,
          35000,
          190000,
          89000,
          160000,
          150000,
          80000,
          10000,
          92000,
          23000,
          320000,
          30000,
          8700,
          110000,
          56000,
          72000,
          24000,
          34000,
          150000,
          20000,
          14000,
          77000,
          23000,
          5300,
          170000,
          93000,
          22000,
          21000,
          9400,
          14000,
          210000,
          76000,
          220000,
          270000,
          39000,
          43000,
          68000,
          320000,
          38000,
          200000,
          110000,
          18000,
          120000,
          16000,
          14000,
          120000,
          28000,
          15000,
          7000,
          290000,
          120000,
          32000,
          97000,
          60000,
          42000,
          82000,
          49000,
          75000,
          51000,
          68000,
          26000,
          54000,
          100000,
          18000,
          64000,
          57000,
          20000,
          12000,
          72000,
          68000,
          36000,
          22000,
          22000,
          43000,
          67000,
          62000,
          52000,
          37000,
          26000,
          9000,
          14000,
          8100,
          12000,
          78000,
          17000,
          68000,
          32000,
          250000,
          13000,
          60000,
          63000,
          37000,
          52000,
          27000,
          37000,
          140000,
          140000,
          170000,
          7900,
          49000,
          28000,
          39000,
          14000,
          23000,
          47000,
          8800,
          31000,
          120000,
          10000,
          35000,
          39000,
          21000,
          4800,
          14000,
          16000,
          5300,
          45000,
          67000,
          110000,
          29000,
          3800,
          6500,
          39000,
          30000,
          60000,
          9100,
          4900,
          99000,
          1700,
          22000,
          3900,
          120000,
          5800,
          78000,
          1600,
          34000,
          19000,
          37000,
          55000,
          13000,
          36000,
          6400,
          4900,
          16000,
          140000,
          54000,
          4200,
          66000,
          30000,
          22000,
          4800,
          5200,
          1600,
          9200,
          6200,
          350000,
          12000,
          48000,
          16000,
          14000,
          23000,
          8800,
          69000,
          83000,
          10000,
          3200,
          9100,
          13000,
          10000,
          30000,
          42000,
          29000,
          23000,
          52000,
          27000,
          3500,
          3900,
          4200,
          66000,
          9200,
          5500,
          5600,
          69000,
          34000,
          38000,
          43000,
          26000,
          12000,
          27000,
          2200,
          4000,
          60000,
          17000,
          25000,
          4000,
          3000,
          12000,
          1800,
          23000,
          5500,
          15000,
          44000,
          8000,
          16000,
          17000,
          5400,
          4500,
          25000,
          18000,
          6300,
          7900,
          12000,
          3200,
          76000,
          16000,
          22000,
          150000,
          30000,
          4200,
          100000,
          13000,
          1700,
          6400,
          56000,
          6100,
          7200,
          9800,
          13000,
          7300,
          11000,
          6600
         ],
         "x0": " ",
         "xaxis": "x",
         "y": [
          "Beginner",
          "Beginner",
          "Intermediate",
          "Beginner",
          "Beginner",
          "Intermediate",
          "Beginner",
          "Beginner",
          "Beginner",
          "Beginner",
          "Beginner",
          "Intermediate",
          "Intermediate",
          "Intermediate",
          "Beginner",
          "Intermediate",
          "Intermediate",
          "Intermediate",
          "Beginner",
          "Beginner",
          "Beginner",
          "Beginner",
          "Beginner",
          "Intermediate",
          "Beginner",
          "Beginner",
          "Beginner",
          "Beginner",
          "Beginner",
          "Beginner",
          "Beginner",
          "Beginner",
          "Beginner",
          "Beginner",
          "Beginner",
          "Beginner",
          "Beginner",
          "Beginner",
          "Beginner",
          "Beginner",
          "Beginner",
          "Beginner",
          "Beginner",
          "Beginner",
          "Beginner",
          "Beginner",
          "Beginner",
          "Beginner",
          "Beginner",
          "Beginner",
          "Beginner",
          "Intermediate",
          "Intermediate",
          "Beginner",
          "Beginner",
          "Beginner",
          "Intermediate",
          "Beginner",
          "Beginner",
          "Beginner",
          "Intermediate",
          "Beginner",
          "Beginner",
          "Beginner",
          "Beginner",
          "Beginner",
          "Beginner",
          "Beginner",
          "Advanced",
          "Beginner",
          "Beginner",
          "Intermediate",
          "Beginner",
          "Beginner",
          "Intermediate",
          "Beginner",
          "Beginner",
          "Beginner",
          "Intermediate",
          "Intermediate",
          "Beginner",
          "Intermediate",
          "Beginner",
          "Beginner",
          "Intermediate",
          "Intermediate",
          "Beginner",
          "Intermediate",
          "Beginner",
          "Beginner",
          "Beginner",
          "Beginner",
          "Intermediate",
          "Beginner",
          "Beginner",
          "Beginner",
          "Intermediate",
          "Intermediate",
          "Intermediate",
          "Beginner",
          "Advanced",
          "Beginner",
          "Intermediate",
          "Advanced",
          "Beginner",
          "Beginner",
          "Beginner",
          "Intermediate",
          "Intermediate",
          "Beginner",
          "Beginner",
          "Intermediate",
          "Beginner",
          "Intermediate",
          "Beginner",
          "Intermediate",
          "Intermediate",
          "Beginner",
          "Intermediate",
          "Beginner",
          "Beginner",
          "Beginner",
          "Beginner",
          "Beginner",
          "Beginner",
          "Beginner",
          "Beginner",
          "Beginner",
          "Intermediate",
          "Intermediate",
          "Beginner",
          "Beginner",
          "Beginner",
          "Intermediate",
          "Beginner",
          "Beginner",
          "Beginner",
          "Beginner",
          "Beginner",
          "Beginner",
          "Beginner",
          "Beginner",
          "Intermediate",
          "Beginner",
          "Beginner",
          "Beginner",
          "Intermediate",
          "Beginner",
          "Intermediate",
          "Intermediate",
          "Beginner",
          "Intermediate",
          "Beginner",
          "Intermediate",
          "Beginner",
          "Beginner",
          "Intermediate",
          "Beginner",
          "Advanced",
          "Beginner",
          "Intermediate",
          "Beginner",
          "Advanced",
          "Beginner",
          "Intermediate",
          "Beginner",
          "Beginner",
          "Beginner",
          "Beginner",
          "Beginner",
          "Beginner",
          "Beginner",
          "Beginner",
          "Beginner",
          "Beginner",
          "Advanced",
          "Beginner",
          "Intermediate",
          "Beginner",
          "Beginner",
          "Intermediate",
          "Beginner",
          "Beginner",
          "Intermediate",
          "Intermediate",
          "Intermediate",
          "Beginner",
          "Beginner",
          "Beginner",
          "Intermediate",
          "Intermediate",
          "Beginner",
          "Beginner",
          "Intermediate",
          "Intermediate",
          "Beginner",
          "Beginner",
          "Beginner",
          "Beginner",
          "Intermediate",
          "Intermediate",
          "Intermediate",
          "Intermediate",
          "Beginner",
          "Beginner",
          "Beginner",
          "Beginner",
          "Beginner",
          "Intermediate",
          "Intermediate",
          "Intermediate",
          "Intermediate",
          "Intermediate",
          "Beginner",
          "Intermediate",
          "Intermediate",
          "Beginner",
          "Beginner",
          "Beginner",
          "Intermediate",
          "Advanced",
          "Intermediate",
          "Beginner",
          "Intermediate",
          "Beginner",
          "Beginner",
          "Beginner",
          "Beginner",
          "Beginner",
          "Beginner",
          "Beginner",
          "Beginner",
          "Beginner",
          "Beginner",
          "Beginner",
          "Intermediate",
          "Intermediate",
          "Intermediate",
          "Beginner",
          "Beginner",
          "Intermediate",
          "Advanced",
          "Beginner",
          "Beginner",
          "Intermediate",
          "Intermediate",
          "Beginner",
          "Beginner",
          "Beginner",
          "Beginner",
          "Intermediate",
          "Intermediate",
          "Beginner",
          "Beginner",
          "Beginner",
          "Beginner",
          "Intermediate",
          "Advanced",
          "Beginner",
          "Beginner",
          "Beginner",
          "Intermediate",
          "Intermediate",
          "Beginner",
          "Intermediate",
          "Beginner",
          "Beginner",
          "Intermediate",
          "Intermediate",
          "Beginner",
          "Beginner",
          "Intermediate",
          "Beginner",
          "Beginner",
          "Beginner",
          "Beginner",
          "Beginner",
          "Advanced",
          "Beginner",
          "Intermediate",
          "Beginner",
          "Beginner",
          "Beginner",
          "Intermediate",
          "Intermediate",
          "Beginner",
          "Beginner",
          "Beginner",
          "Intermediate",
          "Beginner",
          "Intermediate",
          "Beginner",
          "Intermediate",
          "Beginner",
          "Intermediate",
          "Intermediate",
          "Beginner"
         ],
         "y0": " ",
         "yaxis": "y"
        },
        {
         "alignmentgroup": "True",
         "boxmean": true,
         "customdata": [
          [
           "The Science Of Well-Being",
           4.9,
           "Yale University"
          ],
          [
           "Machine Learning",
           4.9,
           "Stanford University"
          ],
          [
           "Financial Markets",
           4.8,
           "Yale University"
          ],
          [
           "Covid-19 Contact Tracing",
           4.9,
           "Johns Hopkins University"
          ],
          [
           "Introduction To Psychology",
           4.9,
           "Yale University"
          ],
          [
           "Psychological First Aid",
           4.8,
           "Johns Hopkins University"
          ],
          [
           "Successful Negotiation: Essential Strategies And Skills",
           4.8,
           "University Of Michigan"
          ],
          [
           "Technical Support Fundamentals",
           4.8,
           "Google"
          ],
          [
           "Programming For Everybody (Getting Started With Python)",
           4.8,
           "University Of Michigan"
          ],
          [
           "Ai For Everyone",
           4.8,
           "Deeplearning.Ai"
          ],
          [
           "Primeros Auxilios Psicológicos (Pap)",
           4.8,
           "Universitat Autònoma De Barcelona"
          ],
          [
           "Neural Networks And Deep Learning",
           4.9,
           "Deeplearning.Ai"
          ],
          [
           "Stanford Introduction To Food And Health",
           4.7,
           "Stanford University"
          ],
          [
           "Writing In The Sciences",
           4.9,
           "Stanford University"
          ],
          [
           "Viral Marketing And How To Craft Contagious Content",
           4.7,
           "University Of Pennsylvania"
          ],
          [
           "Brand Management: Aligning Business, Brand And Behaviour",
           4.9,
           "London Business School"
          ],
          [
           "Management Of Fashion And Luxury Companies",
           4.7,
           "Università Bocconi"
          ],
          [
           "Fundamentals Of Project Planning And Management",
           4.7,
           "University Of Virginia"
          ],
          [
           "Social Psychology",
           4.7,
           "Wesleyan University"
          ],
          [
           "Financial Accounting Fundamentals",
           4.8,
           "University Of Virginia"
          ],
          [
           "What Is Data Science?",
           4.7,
           "Ibm"
          ],
          [
           "Learning To Teach Online",
           4.7,
           "Unsw Sydney (The University Of New South Wales)"
          ],
          [
           "Excel Skills For Business: Essentials",
           4.9,
           "Macquarie University"
          ],
          [
           "Fashion As Design",
           4.8,
           "The Museum Of Modern Art"
          ],
          [
           "Design Thinking For Innovation",
           4.6,
           "University Of Virginia"
          ],
          [
           "Modern Art & Ideas",
           4.7,
           "The Museum Of Modern Art"
          ],
          [
           "Food & Beverage Management",
           4.8,
           "Università Bocconi"
          ],
          [
           "Become A Cbrs Certified Professional Installer By Google",
           4.9,
           "Google - Spectrum Sharing"
          ],
          [
           "Camino A La Excelencia En Gestión De Proyectos",
           4.7,
           "Pontificia Universidad Católica De Chile"
          ],
          [
           "Finding Purpose And Meaning In Life: Living For What Matters Most",
           4.7,
           "University Of Michigan"
          ],
          [
           "Indigenous Canada",
           4.8,
           "University Of Alberta"
          ],
          [
           "Python Data Structures",
           4.9,
           "University Of Michigan"
          ],
          [
           "First Step Korean",
           4.9,
           "Yonsei University"
          ],
          [
           "Private Equity And Venture Capital",
           4.8,
           "Università Bocconi"
          ],
          [
           "Science Of Exercise",
           4.8,
           "University Of Colorado Boulder"
          ],
          [
           "Improving Deep Neural Networks: Hyperparameter Tuning, Regularization And Optimization",
           4.9,
           "Deeplearning.Ai"
          ],
          [
           "Ai For Medical Diagnosis",
           4.7,
           "Deeplearning.Ai"
          ],
          [
           "The Bits And Bytes Of Computer Networking",
           4.7,
           "Google"
          ],
          [
           "Introduction To Marketing",
           4.8,
           "University Of Pennsylvania"
          ],
          [
           "The Strategy Of Content Marketing",
           4.5,
           "University Of California, Davis"
          ],
          [
           "Design And Interpretation Of Clinical Trials",
           4.7,
           "Johns Hopkins University"
          ],
          [
           "Game Theory",
           4.6,
           "Stanford University"
          ],
          [
           "What Is Contemporary Art?",
           4.7,
           "The Museum Of Modern Art"
          ],
          [
           "Tools For Data Science",
           4.6,
           "Ibm"
          ],
          [
           "Python For Data Science And Ai",
           4.6,
           "Ibm"
          ],
          [
           "Financial Engineering And Risk Management Part I",
           4.6,
           "Columbia University"
          ],
          [
           "An Introduction To American Law",
           4.8,
           "University Of Pennsylvania"
          ],
          [
           "Child Nutrition And Cooking",
           4.7,
           "Stanford University"
          ],
          [
           "Fundamentals Of Graphic Design",
           4.8,
           "California Institute Of The Arts"
          ],
          [
           "Fundamentals Of Quantitative Modeling",
           4.6,
           "University Of Pennsylvania"
          ],
          [
           "Initiating And Planning Projects",
           4.7,
           "University Of California, Irvine"
          ],
          [
           "Understanding Medical Research: Your Facebook Friend Is Wrong",
           4.8,
           "Yale University"
          ],
          [
           "Forensic Accounting And Fraud Examination",
           4.7,
           "West Virginia University"
          ],
          [
           "English For Career Development",
           4.8,
           "University Of Pennsylvania"
          ],
          [
           "Moral Foundations Of Politics",
           4.8,
           "Yale University"
          ],
          [
           "Crash Course On Python",
           4.8,
           "Google"
          ],
          [
           "Vital Signs: Understanding What The Body Is Telling Us",
           4.8,
           "University Of Pennsylvania"
          ],
          [
           "Introduction To Data Science In Python",
           4.5,
           "University Of Michigan"
          ],
          [
           "Structuring Machine Learning Projects",
           4.8,
           "Deeplearning.Ai"
          ],
          [
           "Étudier En France: French Intermediate Course B1-B2",
           4.8,
           "École Polytechnique"
          ],
          [
           "Global Diplomacy – Diplomacy In The Modern World",
           4.6,
           "Soas University Of London"
          ],
          [
           "International Women'S Health And Human Rights",
           4.9,
           "Stanford University"
          ],
          [
           "Introduction To The Biology Of Cancer",
           4.8,
           "Johns Hopkins University"
          ],
          [
           "Data Science Methodology",
           4.6,
           "Ibm"
          ],
          [
           "Using Python To Access Web Data",
           4.8,
           "University Of Michigan"
          ],
          [
           "Sports Marketing",
           4.7,
           "Northwestern University"
          ],
          [
           "Animal Behaviour And Welfare",
           4.8,
           "The University Of Edinburgh"
          ],
          [
           "Introduction To Financial Accounting",
           4.7,
           "University Of Pennsylvania"
          ],
          [
           "Convolutional Neural Networks",
           4.9,
           "Deeplearning.Ai"
          ],
          [
           "Autism Spectrum Disorder",
           4.6,
           "University Of California, Davis"
          ],
          [
           "Agile With Atlassian Jira",
           4.7,
           "Atlassian"
          ],
          [
           "Write Professional Emails In English",
           4.7,
           "Georgia Institute Of Technology"
          ],
          [
           "Medical Neuroscience",
           4.9,
           "Duke University"
          ],
          [
           "Positive Psychiatry And Mental Health",
           4.8,
           "The University Of Sydney"
          ],
          [
           "Excel Skills For Business: Intermediate I",
           4.9,
           "Macquarie University"
          ],
          [
           "Computational Thinking For Problem Solving",
           4.8,
           "University Of Pennsylvania"
          ],
          [
           "Mathematics For Machine Learning: Linear Algebra",
           4.7,
           "Imperial College London"
          ],
          [
           "English For Business And Entrepreneurship",
           4.8,
           "University Of Pennsylvania"
          ],
          [
           "Google Cloud Platform Big Data And Machine Learning Fundamentals",
           4.6,
           "Google Cloud"
          ],
          [
           "International Leadership And Organizational Behavior",
           4.8,
           "Università Bocconi"
          ],
          [
           "Economics Of Money And Banking",
           4.9,
           "Columbia University"
          ],
          [
           "Introduction To Tensorflow For Artificial Intelligence, Machine Learning, And Deep Learning",
           4.7,
           "Deeplearning.Ai"
          ],
          [
           "Wine Tasting: Sensory Techniques For Wine Analysis",
           4.7,
           "University Of California, Davis"
          ],
          [
           "Introduction To Philosophy",
           4.6,
           "The University Of Edinburgh"
          ],
          [
           "Positive Psychology: Martin E. P. Seligman’S Visionary Science",
           4.8,
           "University Of Pennsylvania"
          ],
          [
           "Marketing Digital",
           4.8,
           "Universidade De São Paulo"
          ],
          [
           "The Data Scientist’S Toolbox",
           4.6,
           "Johns Hopkins University"
          ],
          [
           "Entrepreneurship 1: Developing The Opportunity",
           4.8,
           "University Of Pennsylvania"
          ],
          [
           "Understanding The Brain: The Neurobiology Of Everyday Life",
           4.9,
           "The University Of Chicago"
          ],
          [
           "Introduction To Systematic Review And Meta-Analysis",
           4.8,
           "Johns Hopkins University"
          ],
          [
           "Nutrición Y Obesidad: Control De Sobrepeso",
           4.8,
           "Universidad Nacional Autónoma De México"
          ],
          [
           "Introduction To Dental Medicine",
           4.8,
           "University Of Pennsylvania"
          ],
          [
           "Everyday Excel, Part 1",
           4.8,
           "University Of Colorado Boulder"
          ],
          [
           "Finance For Non-Finance Professionals",
           4.8,
           "Rice University"
          ],
          [
           "Learn To Program: The Fundamentals",
           4.8,
           "University Of Toronto"
          ],
          [
           "Understanding Research Methods",
           4.5,
           "Soas University Of London"
          ],
          [
           "Databases And Sql For Data Science",
           4.7,
           "Ibm"
          ],
          [
           "Machine Learning For Business Professionals",
           4.6,
           "Google Cloud"
          ],
          [
           "An Introduction To Consumer Neuroscience & Neuromarketing",
           4.7,
           "Copenhagen Business School"
          ],
          [
           "Advanced Valuation And Strategy - M&A, Private Equity, And Venture Capital",
           4.7,
           "Erasmus University Rotterdam"
          ],
          [
           "Gamification",
           4.8,
           "University Of Pennsylvania"
          ],
          [
           "Behavioral Finance",
           4.4,
           "Duke University"
          ],
          [
           "Introductory Human Physiology",
           4.7,
           "Duke University"
          ],
          [
           "The Power Of Macroeconomics: Economic Principles In The Real World",
           4.6,
           "University Of California, Irvine"
          ],
          [
           "The Global Financial Crisis",
           4.8,
           "Yale University"
          ],
          [
           "Clinical Terminology For International And U.S. Students",
           4.8,
           "University Of Pittsburgh"
          ],
          [
           "Data Analysis With Python",
           4.7,
           "Ibm"
          ],
          [
           "Everyday Parenting: The Abcs Of Child Rearing",
           4.9,
           "Yale University"
          ],
          [
           "Python Basics",
           4.8,
           "University Of Michigan"
          ],
          [
           "International Law In Action: The Arbitration Of International Disputes",
           4.8,
           "Universiteit Leiden"
          ],
          [
           "Aws Fundamentals: Going Cloud-Native",
           4.7,
           "Amazon Web Services"
          ],
          [
           "The Manager'S Toolkit: A Practical Guide To Managing People At Work",
           4.6,
           "Birkbeck, University Of London"
          ],
          [
           "Ai For Medical Prognosis",
           4.6,
           "Deeplearning.Ai"
          ],
          [
           "Project Launch",
           4.7,
           "University Of California, Irvine"
          ],
          [
           "Sequence Models",
           4.8,
           "Deeplearning.Ai"
          ],
          [
           "Greek And Roman Mythology",
           4.8,
           "University Of Pennsylvania"
          ],
          [
           "Construction Project Management",
           4.8,
           "Columbia University"
          ],
          [
           "Positive Psychology",
           4.7,
           "The University Of North Carolina At Chapel Hill"
          ],
          [
           "Terrorism And Counterterrorism: Comparing Theory And Practice",
           4.8,
           "Universiteit Leiden"
          ],
          [
           "Contabilidad Para No Contadores",
           4.7,
           "Universidad Nacional Autónoma De México"
          ],
          [
           "Corporate Sustainability. Understanding And Seizing The Strategic Opportunity",
           4.6,
           "Università Bocconi"
          ],
          [
           "Anatomy Of The Chest, Abdomen, And Pelvis",
           4.8,
           "Yale University"
          ],
          [
           "English For Journalism",
           4.8,
           "University Of Pennsylvania"
          ],
          [
           "Site Reliability Engineering: Measuring And Managing Reliability",
           4.5,
           "Google Cloud"
          ],
          [
           "Communication Strategies For A Virtual Age",
           4.8,
           "University Of Toronto"
          ],
          [
           "Supply Chain Principles",
           4.6,
           "Georgia Institute Of Technology"
          ],
          [
           "Introduction To Html5",
           4.7,
           "University Of Michigan"
          ],
          [
           "Introduction To Programming With Matlab",
           4.8,
           "Vanderbilt University"
          ],
          [
           "Marketing In A Digital World",
           4.7,
           "University Of Illinois At Urbana-Champaign"
          ],
          [
           "Learn To Speak Korean 1",
           4.9,
           "Yonsei University"
          ],
          [
           "Introduction To Sustainability",
           4.8,
           "University Of Illinois At Urbana-Champaign"
          ],
          [
           "Essentials In Clinical Simulations Across The Health Professions",
           4.8,
           "The George Washington University"
          ],
          [
           "Operating Systems And You: Becoming A Power User",
           4.6,
           "Google"
          ],
          [
           "R Programming",
           4.6,
           "Johns Hopkins University"
          ],
          [
           "In The Studio: Postwar Abstract Painting",
           4.9,
           "The Museum Of Modern Art"
          ],
          [
           "Essentials Of Global Health",
           4.8,
           "Yale University"
          ],
          [
           "Machine Learning With Python",
           4.7,
           "Ibm"
          ],
          [
           "American Contract Law I",
           4.9,
           "Yale University"
          ],
          [
           "Oil & Gas Industry Operations And Markets",
           4.8,
           "Duke University"
          ],
          [
           "Arts And Heritage Management",
           4.8,
           "Università Bocconi"
          ],
          [
           "Introducción A La Programación En Python I: Aprendiendo A Programar Con Python",
           4.4,
           "Pontificia Universidad Católica De Chile"
          ],
          [
           "Supporting Children With Difficulties In Reading And Writing",
           4.8,
           "Ucl Institute Of Education"
          ],
          [
           "Html, Css, And Javascript For Web Developers",
           4.8,
           "Johns Hopkins University"
          ],
          [
           "Addiction Treatment: Clinical Skills For Healthcare Providers",
           4.8,
           "Yale University"
          ],
          [
           "Réussir Le Changement",
           4.5,
           "Essec Business School"
          ],
          [
           "Sql For Data Science",
           4.6,
           "University Of California, Davis"
          ],
          [
           "Speak English Professionally: In Person, Online & On The Phone",
           4.6,
           "Georgia Institute Of Technology"
          ],
          [
           "Introduction To Corporate Finance",
           4.6,
           "University Of Pennsylvania"
          ],
          [
           "Introduction To Spreadsheets And Models",
           4.2,
           "University Of Pennsylvania"
          ],
          [
           "Introduction To Mathematical Thinking",
           4.8,
           "Stanford University"
          ],
          [
           "Negociación Exitosa: Estrategias Y Habilidades Esenciales (En Español)",
           4.8,
           "University Of Michigan"
          ],
          [
           "Drug Discovery",
           4.6,
           "University Of California San Diego"
          ],
          [
           "Instructional Design Foundations And Applications",
           4.2,
           "University Of Illinois At Urbana-Champaign"
          ],
          [
           "International Organizations Management",
           4.8,
           "University Of Geneva"
          ],
          [
           "Essential Google Cloud Infrastructure: Foundation",
           4.7,
           "Google Cloud"
          ],
          [
           "Using Databases With Python",
           4.8,
           "University Of Michigan"
          ],
          [
           "Epidemiology: The Basic Science Of Public Health",
           4.6,
           "The University Of North Carolina At Chapel Hill"
          ],
          [
           "Understanding Clinical Research: Behind The Statistics",
           4.8,
           "University Of Cape Town"
          ],
          [
           "Weight Management: Beyond Balancing Calories",
           4.7,
           "Emory University"
          ],
          [
           "The Modern World, Part One: Global History From 1760 To 1910",
           4.8,
           "University Of Virginia"
          ],
          [
           "Convolutional Neural Networks In Tensorflow",
           4.7,
           "Deeplearning.Ai"
          ],
          [
           "E-Learning Ecologies: Innovative Approaches To Teaching And Learning For The Digital Age",
           4.5,
           "University Of Illinois At Urbana-Champaign"
          ],
          [
           "The Sustainable Development Goals – A Global, Transdisciplinary Vision For The Future",
           4.8,
           "University Of Copenhagen"
          ],
          [
           "People Analytics",
           4.5,
           "University Of Pennsylvania"
          ],
          [
           "Programming Foundations With Javascript, Html And Css",
           4.6,
           "Duke University"
          ],
          [
           "Innovation Management",
           4.6,
           "Erasmus University Rotterdam"
          ],
          [
           "Greening The Economy: Sustainable Cities",
           4.6,
           "Lund University"
          ],
          [
           "Creative Writing: The Craft Of Plot",
           4.7,
           "Wesleyan University"
          ],
          [
           "Python And Statistics For Financial Analysis",
           4.4,
           "The Hong Kong University Of Science And Technology"
          ],
          [
           "The Arts And Science Of Relationships: Understanding Human Needs",
           4.5,
           "University Of Toronto"
          ],
          [
           "Data-Driven Decision Making",
           4.6,
           "Pwc"
          ],
          [
           "Introduction To Forensic Science",
           4.9,
           "Nanyang Technological University, Singapore"
          ],
          [
           "Divide And Conquer, Sorting And Searching, And Randomized Algorithms",
           4.8,
           "Stanford University"
          ],
          [
           "What Is Social?",
           4.6,
           "Northwestern University"
          ],
          [
           "Digital Product Management: Modern Fundamentals",
           4.7,
           "University Of Virginia"
          ],
          [
           "Financing And Investing In Infrastructure",
           4.8,
           "Università Bocconi"
          ],
          [
           "Data Management For Clinical Research",
           4.7,
           "Vanderbilt University"
          ],
          [
           "Supply Chain Logistics",
           4.7,
           "Rutgers The State University Of New Jersey"
          ],
          [
           "Grammar And Punctuation",
           4.7,
           "University Of California, Irvine"
          ],
          [
           "Revisão Sistemática E Meta-Análise",
           4.9,
           "Universidade Estadual De Campinas"
          ],
          [
           "Fundamentos De Finanzas Empresariales",
           4.8,
           "Universidad De Los Andes"
          ],
          [
           "Preparing To Manage Human Resources",
           4.8,
           "University Of Minnesota"
          ],
          [
           "Dog Emotion And Cognition",
           4.6,
           "Duke University"
          ],
          [
           "Build A Modern Computer From First Principles: From Nand To Tetris (Project-Centered Course)",
           4.9,
           "Hebrew University Of Jerusalem"
          ],
          [
           "Financial Acumen For Non-Financial Managers",
           4.5,
           "University Of Pennsylvania"
          ],
          [
           "Devenir Entrepreneur Du Changement",
           4.7,
           "Ticket For Change"
          ],
          [
           "Operations Analytics",
           4.7,
           "University Of Pennsylvania"
          ],
          [
           "Data Science Math Skills",
           4.5,
           "Duke University"
          ],
          [
           "Global Diplomacy: The United Nations In The World",
           4.7,
           "Soas University Of London"
          ],
          [
           "System Administration And It Infrastructure Services",
           4.7,
           "Google"
          ],
          [
           "International Humanitarian Law In Theory And Practice",
           4.8,
           "Kalshoven-Gieskes Forum"
          ],
          [
           "Competencias Digitales. Herramientas De Ofimática (Microsoft Word, Excel, Power Point)",
           4.7,
           "Universitat Autònoma De Barcelona"
          ],
          [
           "Ibm Customer Engagement Specialist Professional Certificate",
           4.8,
           "Ibm"
          ],
          [
           "Business Model Innovation",
           4.7,
           "Hec Paris"
          ],
          [
           "Getting Started With Google Sheets",
           4.6,
           "Google Cloud"
          ],
          [
           "Introduction To Calculus",
           4.8,
           "The University Of Sydney"
          ],
          [
           "A Law Student'S Toolkit",
           4.7,
           "Yale University"
          ],
          [
           "Rethinking International Tax Law",
           4.9,
           "Universiteit Leiden"
          ],
          [
           "Fundamentals Of Immunology: Innate Immunity And B-Cell Function",
           4.7,
           "Rice University"
          ],
          [
           "Introduction To International Criminal Law",
           4.8,
           "Case Western Reserve University"
          ],
          [
           "Excel/Vba For Creative Problem Solving, Part 1",
           4.8,
           "University Of Colorado Boulder"
          ],
          [
           "Excel Skills For Business: Intermediate Ii",
           4.8,
           "Macquarie University"
          ],
          [
           "Data Visualization With Python",
           4.6,
           "Ibm"
          ],
          [
           "Introduction To Classical Music",
           4.9,
           "Yale University"
          ],
          [
           "Getting Started With Google Kubernetes Engine",
           4.5,
           "Google Cloud"
          ],
          [
           "Public Policy Challenges Of The 21St Century",
           4.6,
           "University Of Virginia"
          ],
          [
           "Fundamentals Of Gis",
           4.8,
           "University Of California, Davis"
          ],
          [
           "Introduction To Artificial Intelligence (Ai)",
           4.7,
           "Ibm"
          ],
          [
           "Introduction To User Experience Design",
           4.5,
           "Georgia Institute Of Technology"
          ],
          [
           "Healing With The Arts",
           4.6,
           "University Of Florida"
          ],
          [
           "Design-Led Strategy: Design Thinking For Business Strategy And Entrepreneurship",
           4.6,
           "The University Of Sydney"
          ],
          [
           "Natural Language Processing In Tensorflow",
           4.6,
           "Deeplearning.Ai"
          ],
          [
           "Making Architecture",
           4.7,
           "Ie School Of Architecture & Design"
          ],
          [
           "Troubles Du Spectre De L'Autisme : Diagnostic",
           4.9,
           "University Of Geneva"
          ],
          [
           "Social Norms, Social Change I",
           4.6,
           "University Of Pennsylvania"
          ],
          [
           "Fundamental Neuroscience For Neuroimaging",
           4.6,
           "Johns Hopkins University"
          ],
          [
           "Fintech Law And Policy",
           4.8,
           "Duke University"
          ],
          [
           "Inspiring And Motivating Individuals",
           4.8,
           "University Of Michigan"
          ],
          [
           "Equine Welfare And Management",
           4.8,
           "University Of California, Davis"
          ],
          [
           "Essential Google Cloud Infrastructure: Core Services",
           4.7,
           "Google Cloud"
          ],
          [
           "International Security Management",
           4.5,
           "Erasmus University Rotterdam"
          ],
          [
           "Continuous Delivery & Devops",
           4.6,
           "University Of Virginia"
          ],
          [
           "Marketing Gerencial",
           4.7,
           "Universidad De Chile"
          ],
          [
           "Covid-19: What You Need To Know (Cme Eligible)",
           4.8,
           "Osmosis"
          ],
          [
           "Art & Ideas: Teaching With Themes",
           4.8,
           "The Museum Of Modern Art"
          ],
          [
           "Fintech: Foundations, Payments, And Regulations",
           4.7,
           "University Of Pennsylvania"
          ],
          [
           "Essential Epidemiologic Tools For Public Health Practice",
           4.7,
           "Johns Hopkins University"
          ],
          [
           "Success",
           4.8,
           "University Of Pennsylvania"
          ],
          [
           "Beyond The Sustainable Development Goals (Sdgs): Addressing Sustainability And Development",
           4.6,
           "University Of Michigan"
          ],
          [
           "Corporate Finance Essentials",
           4.8,
           "Iese Business School"
          ],
          [
           "The Addicted Brain",
           4.6,
           "Emory University"
          ],
          [
           "Engineering Health: Introduction To Yoga And Physiology",
           4.8,
           "New York University"
          ],
          [
           "Creative Problem Solving",
           4.3,
           "University Of Minnesota"
          ],
          [
           "Microeconomics: The Power Of Markets",
           4.7,
           "University Of Pennsylvania"
          ],
          [
           "Understanding And Visualizing Data With Python",
           4.7,
           "University Of Michigan"
          ],
          [
           "Teamwork Skills: Communicating Effectively In Groups",
           4.8,
           "University Of Colorado Boulder"
          ],
          [
           "Managerial Accounting Fundamentals",
           4.9,
           "University Of Virginia"
          ],
          [
           "Introduction To Cybersecurity Tools & Cyber Attacks",
           4.5,
           "Ibm"
          ],
          [
           "Mindshift: Break Through Obstacles To Learning And Discover Your Hidden Potential",
           4.8,
           "Mcmaster University"
          ],
          [
           "Neurolinguistics",
           4.7,
           "Saint Petersburg State University"
          ],
          [
           "Introduction To Probability And Data",
           4.7,
           "Duke University"
          ],
          [
           "Fundamentals Of Reinforcement Learning",
           4.8,
           "University Of Alberta"
          ],
          [
           "It Security: Defense Against The Digital Dark Arts",
           4.8,
           "Google"
          ],
          [
           "Politics And Economics Of International Energy",
           4.7,
           "Sciences Po"
          ],
          [
           "Business Transformation With Google Cloud",
           4.7,
           "Google Cloud"
          ],
          [
           "Art & Activity: Interactive Strategies For Engaging With Art",
           4.8,
           "The Museum Of Modern Art"
          ],
          [
           "More Introduction To Financial Accounting",
           4.9,
           "University Of Pennsylvania"
          ],
          [
           "Agile Meets Design Thinking",
           4.7,
           "University Of Virginia"
          ],
          [
           "Supply Chain Analytics",
           4.7,
           "Rutgers The State University Of New Jersey"
          ],
          [
           "Budgeting And Scheduling Projects",
           4.7,
           "University Of California, Irvine"
          ],
          [
           "Drug Commercialization",
           4.7,
           "University Of California San Diego"
          ],
          [
           "Ai For Medical Treatment",
           4.8,
           "Deeplearning.Ai"
          ],
          [
           "Microeconomics Principles",
           4.9,
           "University Of Illinois At Urbana-Champaign"
          ],
          [
           "Dino 101: Dinosaur Paleobiology",
           4.5,
           "University Of Alberta"
          ],
          [
           "Applied Plotting, Charting & Data Representation In Python",
           4.6,
           "University Of Michigan"
          ],
          [
           "Bayesian Statistics: From Concept To Data Analysis",
           4.8,
           "University Of California, Santa Cruz"
          ],
          [
           "Ecology: Ecosystem Dynamics And Conservation",
           4.8,
           "American Museum Of Natural History"
          ],
          [
           "Introducción A Data Science: Programación Estadística Con R",
           4.7,
           "Universidad Nacional Autónoma De México"
          ],
          [
           "Entrepreneurship 2: Launching Your Start-Up",
           4.8,
           "University Of Pennsylvania"
          ],
          [
           "Introduction To Genetics And Evolution",
           4.8,
           "Duke University"
          ],
          [
           "Understanding Einstein: The Special Theory Of Relativity",
           4.9,
           "Stanford University"
          ],
          [
           "Front-End Web Ui Frameworks And Tools: Bootstrap 4",
           4.8,
           "The Hong Kong University Of Science And Technology"
          ],
          [
           "Spanish Vocabulary: Meeting People",
           4.6,
           "University Of California, Davis"
          ],
          [
           "Model Thinking",
           4.8,
           "University Of Michigan"
          ],
          [
           "Social And Economic Networks:  Models And Analysis",
           4.8,
           "Stanford University"
          ],
          [
           "The Art Of Music Production",
           4.8,
           "Berklee College Of Music"
          ],
          [
           "Anatomy: Musculoskeletal And Integumentary Systems",
           4.8,
           "University Of Michigan"
          ],
          [
           "Feminism And Social Justice",
           4.8,
           "University Of California, Santa Cruz"
          ],
          [
           "Object-Oriented Data Structures In C++",
           4.7,
           "University Of Illinois At Urbana-Champaign"
          ],
          [
           "Introduction To Environmental Law And Policy",
           4.8,
           "The University Of North Carolina At Chapel Hill"
          ],
          [
           "Aprender",
           4.8,
           "Universidad Nacional Autónoma De México"
          ],
          [
           "Anticorrupción: Introducción A Conceptos Y Perspectiva Práctica",
           4.8,
           "Universidad Nacional Autónoma De México"
          ],
          [
           "Solar Energy Basics",
           4.8,
           "The State University Of New York"
          ],
          [
           "L'Excellence Opérationnelle En Pratique",
           4.7,
           "Essec Business School"
          ],
          [
           "Miracles Of Human Language: An Introduction To Linguistics",
           4.7,
           "Universiteit Leiden"
          ],
          [
           "Java Programming: Solving Problems With Software",
           4.6,
           "Duke University"
          ],
          [
           "De-Mystifying Mindfulness",
           4.8,
           "Universiteit Leiden"
          ],
          [
           "Fundamentals Of Visualization With Tableau",
           4.5,
           "University Of California, Davis"
          ],
          [
           "Design And Make Infographics (Project-Centered Course)",
           4.7,
           "Michigan State University"
          ],
          [
           "Modernizing Data Lakes And Data Warehouses With Gcp",
           4.7,
           "Google Cloud"
          ],
          [
           "The Science Of Training Young Athletes",
           4.9,
           "University Of Florida"
          ],
          [
           "Cameras, Exposure, And Photography",
           4.7,
           "Michigan State University"
          ],
          [
           "Epidemics - The Dynamics Of Infectious Diseases",
           4.8,
           "The Pennsylvania State University"
          ],
          [
           "Mathematics For Machine Learning: Multivariate Calculus",
           4.7,
           "Imperial College London"
          ],
          [
           "Transmedia Storytelling: Narrative Worlds, Emerging Technologies, And Global Audiences",
           4.8,
           "Unsw Sydney (The University Of New South Wales)"
          ],
          [
           "Tricky American English Pronunciation",
           4.7,
           "University Of California, Irvine"
          ],
          [
           "Renewable Energy And Green Building Entrepreneurship",
           4.7,
           "Duke University"
          ],
          [
           "Introduction To Operations Management",
           4.5,
           "University Of Pennsylvania"
          ],
          [
           "The Power Of Microeconomics: Economic Principles In The Real World",
           4.7,
           "University Of California, Irvine"
          ],
          [
           "Nutrition And Lifestyle In Pregnancy",
           4.8,
           "Ludwig-Maximilians-Universität München (Lmu)"
          ],
          [
           "Capstone: Retrieving, Processing, And Visualizing Data With Python",
           4.6,
           "University Of Michigan"
          ],
          [
           "Getting Started With Sas Programming",
           4.9,
           "Sas"
          ],
          [
           "Business Writing",
           4.8,
           "University Of Colorado Boulder"
          ],
          [
           "Get Interactive: Practical Teaching With Technology",
           4.7,
           "Bloomsbury Learning Exchange"
          ],
          [
           "Les Fondamentaux De La Négociation",
           4.7,
           "Essec Business School"
          ],
          [
           "Introduction To Personal Branding",
           4.4,
           "University Of Virginia"
          ],
          [
           "What Is Compliance?",
           4.8,
           "University Of Pennsylvania"
          ],
          [
           "Costos Para Los Negocios",
           4.8,
           "Universidad De Chile"
          ],
          [
           "Kotlin For Java Developers",
           4.7,
           "Jetbrains"
          ],
          [
           "Introduction To Data Analysis Using Excel",
           4.7,
           "Rice University"
          ],
          [
           "Information Security: Context And Introduction",
           4.6,
           "Royal Holloway, University Of London"
          ],
          [
           "Mastering Data Analysis In Excel",
           4.2,
           "Duke University"
          ],
          [
           "Aprendiendo A Aprender: Poderosas Herramientas Mentales Con Las Que Podrás Dominar Temas Difíciles (Learning How To Learn)",
           4.9,
           "University Of California San Diego"
          ],
          [
           "Finanzas Personales",
           4.8,
           "Universidad Nacional Autónoma De México"
          ],
          [
           "How Things Work: An Introduction To Physics",
           4.8,
           "University Of Virginia"
          ],
          [
           "Python Functions, Files, And Dictionaries",
           4.8,
           "University Of Michigan"
          ],
          [
           "Managing Project Risks And Changes",
           4.7,
           "University Of California, Irvine"
          ],
          [
           "Introduction To Typography",
           4.8,
           "California Institute Of The Arts"
          ],
          [
           "Managing Social And Human Capital",
           4.5,
           "University Of Pennsylvania"
          ],
          [
           "Teach English Now! Foundational Principles",
           4.9,
           "Arizona State University"
          ],
          [
           "Engineering Project Management: Initiating And Planning",
           4.7,
           "Rice University"
          ],
          [
           "Algorithmic Toolbox",
           4.7,
           "University Of California San Diego"
          ],
          [
           "Elastic Google Cloud Infrastructure: Scaling And Automation",
           4.7,
           "Google Cloud"
          ],
          [
           "Biology Meets Programming: Bioinformatics For Beginners",
           4.4,
           "University Of California San Diego"
          ],
          [
           "Customer Segmentation And Prospecting",
           4.7,
           "Northwestern University"
          ],
          [
           "Geopolítica Y Gobernanza Global: Riesgos Y Oportunidades",
           4.8,
           "Esade Business And Law School"
          ],
          [
           "Getting Started With Aws Machine Learning",
           4.5,
           "Amazon Web Services"
          ],
          [
           "Epidemics, Pandemics And Outbreaks",
           4.7,
           "University Of Pittsburgh"
          ],
          [
           "Industrial Iot On Google Cloud Platform",
           4.5,
           "Google Cloud"
          ],
          [
           "Mastering Final Cut Pro",
           4.6,
           "Learnquest"
          ],
          [
           "The Oral Cavity: Portal To Health And Disease",
           4.9,
           "University Of Pennsylvania"
          ],
          [
           "Leadership In 21St Century Organizations",
           4.7,
           "Copenhagen Business School"
          ],
          [
           "Global Environmental Management",
           4.6,
           "Technical University Of Denmark (Dtu)"
          ],
          [
           "International Law In Action: A Guide To The International Courts And Tribunals In The Hague",
           4.8,
           "Universiteit Leiden"
          ],
          [
           "Sports And Society",
           4.8,
           "Duke University"
          ],
          [
           "Fundamentals Of Engineering Exam Review",
           4.7,
           "Georgia Institute Of Technology"
          ],
          [
           "Sustainable Tourism – Promoting Environmental Public Health",
           4.6,
           "University Of Copenhagen"
          ],
          [
           "Think Again I: How To Understand Arguments",
           4.6,
           "Duke University"
          ],
          [
           "Machine Learning For All",
           4.6,
           "University Of London"
          ],
          [
           "Julia Scientific Programming",
           4.5,
           "University Of Cape Town"
          ],
          [
           "The Horse Course: Introduction To Basic Care And Management",
           4.9,
           "University Of Florida"
          ],
          [
           "Summary Statistics In Public Health",
           4.8,
           "Johns Hopkins University"
          ],
          [
           "Version Control With Git",
           4.8,
           "Atlassian"
          ],
          [
           "Autodesk Certified Professional: Revit For Architectural Design Exam Prep",
           4.7,
           "Autodesk"
          ],
          [
           "Excel Skills For Business: Advanced",
           4.7,
           "Macquarie University"
          ],
          [
           "International Migrations: A Global Issue",
           4.6,
           "Sciences Po"
          ],
          [
           "Introduction To Cloud Computing",
           4.6,
           "Ibm"
          ],
          [
           "Ux Design Fundamentals",
           4.8,
           "California Institute Of The Arts"
          ],
          [
           "Municipal Solid Waste Management In Developing Countries",
           4.8,
           "École Polytechnique Fédérale De Lausanne"
          ],
          [
           "English For Science, Technology, Engineering, And Mathematics",
           4.8,
           "University Of Pennsylvania"
          ],
          [
           "Democracia Y Decisiones Públicas. Introducción Al Análisis De Políticas Públicas",
           4.8,
           "Universitat Autònoma De Barcelona"
          ],
          [
           "Songwriting: Writing The Lyrics",
           4.8,
           "Berklee College Of Music"
          ],
          [
           "Bayesian Statistics: Techniques And Models",
           4.8,
           "University Of California, Santa Cruz"
          ],
          [
           "Using Python To Interact With The Operating System",
           4.7,
           "Google"
          ],
          [
           "Accounting Analytics",
           4.5,
           "University Of Pennsylvania"
          ],
          [
           "Data Analytics For Lean Six Sigma",
           4.8,
           "University Of Amsterdam"
          ],
          [
           "Positive Psychology: Applications And Interventions",
           4.8,
           "University Of Pennsylvania"
          ],
          [
           "Introduction To Blockchain Technologies",
           4.7,
           "Insead"
          ],
          [
           "Building Scalable Java Microservices With Spring Boot And Spring Cloud",
           4.3,
           "Google Cloud"
          ],
          [
           "Access Controls",
           4.6,
           "(Isc)²"
          ],
          [
           "English Composition I",
           4.6,
           "Duke University"
          ],
          [
           "The Truth About Cats And Dogs",
           4.7,
           "The University Of Edinburgh"
          ],
          [
           "Introduction To Portfolio Construction And Analysis With Python",
           4.8,
           "Edhec Business School"
          ],
          [
           "Write A Feature Length Screenplay For Film Or Television",
           4.9,
           "Michigan State University"
          ],
          [
           "Introduction To Breast Cancer",
           4.9,
           "Yale University"
          ],
          [
           "Resilience In Children Exposed To Trauma, Disaster And War: Global Perspectives",
           4.8,
           "University Of Minnesota"
          ],
          [
           "Entrepreneurship Strategy: From Ideation To Exit",
           4.8,
           "Hec Paris"
          ],
          [
           "Driving Business Towards The Sustainable Development Goals",
           4.8,
           "Erasmus University Rotterdam"
          ],
          [
           "Introduction To Web Development",
           4.7,
           "University Of California, Davis"
          ],
          [
           "Process Mining: Data Science In Action",
           4.8,
           "Eindhoven University Of Technology"
          ],
          [
           "Dermatology: Trip To Skin",
           4.4,
           "Novosibirsk State University"
          ],
          [
           "Introduction To Engineering Mechanics",
           4.7,
           "Georgia Institute Of Technology"
          ],
          [
           "Search Engine Optimization Fundamentals",
           4.7,
           "University Of California, Davis"
          ],
          [
           "Applied Machine Learning In Python",
           4.6,
           "University Of Michigan"
          ],
          [
           "Aws Fundamentals: Addressing Security Risk",
           4.3,
           "Amazon Web Services"
          ],
          [
           "Roman Architecture",
           4.9,
           "Yale University"
          ],
          [
           "Fundamentals Of Music Theory",
           4.6,
           "The University Of Edinburgh"
          ],
          [
           "Reporting Extra-Financier Et Stratégie Rse",
           4.7,
           "Essec Business School"
          ],
          [
           "A Life Of Happiness And Fulfillment",
           4.8,
           "Indian School Of Business"
          ],
          [
           "Egiptología (Egyptology)",
           4.9,
           "Universitat Autònoma De Barcelona"
          ],
          [
           "Applied Data Science Capstone",
           4.7,
           "Ibm"
          ],
          [
           "Unraveling The Cycling City",
           4.9,
           "University Of Amsterdam"
          ],
          [
           "Japanese For Beginners 1",
           4.6,
           "Saint Petersburg State University"
          ],
          [
           "Econometrics: Methods And Applications",
           4.7,
           "Erasmus University Rotterdam"
          ],
          [
           "Basic Statistics",
           4.6,
           "University Of Amsterdam"
          ],
          [
           "Global Energy And Climate Policy",
           4.5,
           "Soas University Of London"
          ],
          [
           "Boosting Creativity For Innovation",
           4.9,
           "Hec Paris"
          ],
          [
           "Positive Psychology: Resilience Skills",
           4.6,
           "University Of Pennsylvania"
          ],
          [
           "Systems Thinking In Public Health",
           4.9,
           "Johns Hopkins University"
          ],
          [
           "Introduction To Embedded Systems Software And Development Environments",
           4.5,
           "University Of Colorado Boulder"
          ],
          [
           "Gestión De Organizaciones Efectivas",
           4.7,
           "Pontificia Universidad Católica De Chile"
          ],
          [
           "Arts And Culture Strategy",
           4.6,
           "National Arts Strategies"
          ],
          [
           "Mountains 101",
           4.9,
           "University Of Alberta"
          ],
          [
           "Building Batch Data Pipelines On Gcp",
           4.5,
           "Google Cloud"
          ],
          [
           "Code Yourself! An Introduction To Programming",
           4.7,
           "The University Of Edinburgh"
          ],
          [
           "Leading Healthcare Quality And Safety",
           4.8,
           "The George Washington University"
          ],
          [
           "Stories Of Infection",
           4.9,
           "Stanford University"
          ],
          [
           "Recruiting, Hiring, And Onboarding Employees",
           4.7,
           "University Of Minnesota"
          ],
          [
           "Introduction To Trading, Machine Learning & Gcp",
           4,
           "New York Institute Of Finance"
          ],
          [
           "Smart Cities – Management Of Smart Urban Infrastructures",
           4.6,
           "École Polytechnique Fédérale De Lausanne"
          ],
          [
           "Adhd: Everyday Strategies For Elementary Students",
           4.7,
           "University At Buffalo"
          ],
          [
           "C For Everyone: Programming Fundamentals",
           4.5,
           "University Of California, Santa Cruz"
          ],
          [
           "Antibiotic Stewardship",
           4.5,
           "Stanford University"
          ],
          [
           "Introduction To Css3",
           4.8,
           "University Of Michigan"
          ],
          [
           "Perfect Tenses And Modals",
           4.7,
           "University Of California, Irvine"
          ],
          [
           "The Technology Of Music Production",
           4.8,
           "Berklee College Of Music"
          ],
          [
           "Internet Connection: How To Get Online?",
           4.7,
           "Cisco"
          ],
          [
           "Periodismo Digital Y Combate A Las Fake News",
           4.9,
           "Universidad Nacional Autónoma De México"
          ],
          [
           "Marketing Verde",
           4.8,
           "Universidad De Los Andes"
          ],
          [
           "Building Conversational Experiences With Dialogflow",
           4.5,
           "Google Cloud"
          ],
          [
           "The Modern World, Part Two: Global History Since 1910",
           4.8,
           "University Of Virginia"
          ],
          [
           "Becoming A Changemaker: Introduction To Social Innovation",
           4.8,
           "University Of Cape Town"
          ],
          [
           "Design Thinking For The Greater Good: Innovation In The Social Sector",
           4.6,
           "University Of Virginia"
          ],
          [
           "Understanding Cancer Metastasis",
           4.8,
           "Johns Hopkins University"
          ],
          [
           "The Social Context Of Mental Health And Illness",
           4.6,
           "University Of Toronto"
          ],
          [
           "Cuidado De Heridas En El Ámbito Hospitalario",
           4.8,
           "Universidad Nacional Autónoma De México"
          ],
          [
           "Stanford'S Short Course On Breastfeeding",
           4.7,
           "Stanford University"
          ],
          [
           "Getting Started With Music Theory",
           4.5,
           "Michigan State University"
          ],
          [
           "Probabilistic Graphical Models 1: Representation",
           4.7,
           "Stanford University"
          ],
          [
           "Write Your First Novel",
           4.4,
           "Michigan State University"
          ],
          [
           "Nanotechnology: A Maker’S Course",
           4.8,
           "Duke University"
          ],
          [
           "Data Visualization And Communication With Tableau",
           4.7,
           "Duke University"
          ],
          [
           "Biohacking Your Brain'S Health",
           4.6,
           "Emory University"
          ],
          [
           "Bugs 101: Insect-Human Interactions",
           4.9,
           "University Of Alberta"
          ],
          [
           "Introduction To Intellectual Property",
           4.8,
           "University Of Pennsylvania"
          ],
          [
           "The Science Of Stem Cells",
           4.7,
           "American Museum Of Natural History"
          ],
          [
           "Corrección, Estilo Y  Variaciones De La Lengua Española",
           4.6,
           "Universitat Autònoma De Barcelona"
          ],
          [
           "Practical Time Series Analysis",
           4.6,
           "The State University Of New York"
          ],
          [
           "Geopolitics Of Europe",
           4.3,
           "Sciences Po"
          ],
          [
           "Sharpened Visions: A Poetry Workshop",
           4.7,
           "California Institute Of The Arts"
          ],
          [
           "The Science Of Success: What Researchers Know That You Should Know",
           4.8,
           "University Of Michigan"
          ],
          [
           "Discrete Optimization",
           4.9,
           "The University Of Melbourne"
          ],
          [
           "From The Big Bang To Dark Energy",
           4.8,
           "The University Of Tokyo"
          ],
          [
           "International Cyber Conflicts",
           4.4,
           "The State University Of New York"
          ],
          [
           "Autodesk Certified Professional: Autocad For Design And Drafting Exam Prep",
           4.7,
           "Autodesk"
          ],
          [
           "Основы Программирования На Python",
           4.6,
           "National Research University Higher School Of Economics"
          ],
          [
           "Entrepreneurship 3: Growth Strategies",
           4.7,
           "University Of Pennsylvania"
          ],
          [
           "Fundamentos De La Escritura",
           4.6,
           "Tecnológico De Monterrey"
          ],
          [
           "Modeling Risk And Realities",
           4.6,
           "University Of Pennsylvania"
          ],
          [
           "Ecosystem Services: A Method For Sustainable Development",
           4.7,
           "University Of Geneva"
          ],
          [
           "Epigenetic Control Of Gene Expression",
           4.8,
           "The University Of Melbourne"
          ],
          [
           "Gut Check: Exploring Your Microbiome",
           4.7,
           "University Of California San Diego"
          ],
          [
           "Diseño Y Creación De Un Emprendimiento Social",
           4.9,
           "Pontificia Universidad Católica De Chile"
          ],
          [
           "Security & Safety Challenges In A Globalized World",
           4.7,
           "Universiteit Leiden"
          ],
          [
           "Introduction To Business Analytics: Communicating With Data",
           4.7,
           "University Of Illinois At Urbana-Champaign"
          ],
          [
           "Corporate Strategy",
           4.8,
           "Ucl School Of Management"
          ],
          [
           "Probability And Statistics: To P Or Not To P?",
           4.6,
           "University Of London"
          ],
          [
           "The Hidden Value – Lean In Manufacturing And Services",
           4.7,
           "École Des Ponts Paristech"
          ],
          [
           "Chemicals And Health",
           4.7,
           "Johns Hopkins University"
          ],
          [
           "Blockchain: Foundations And Use Cases",
           4.7,
           "Consensys Academy"
          ],
          [
           "Foundations Of Business Strategy",
           4.8,
           "University Of Virginia"
          ],
          [
           "Introduction To Cyber Attacks",
           4.7,
           "New York University"
          ],
          [
           "Fundamentos De Excel Para Negocios",
           4.7,
           "Universidad Austral"
          ],
          [
           "Corporate & Commercial Law I: Contracts & Employment Law",
           4.8,
           "University Of Illinois At Urbana-Champaign"
          ],
          [
           "Chicken Behaviour And Welfare",
           4.7,
           "The University Of Edinburgh"
          ],
          [
           "Accounting For Decision Making",
           4.8,
           "University Of Michigan"
          ],
          [
           "Construction Cost Estimating And Cost Control",
           4.7,
           "Columbia University"
          ],
          [
           "Introduction To Self-Driving Cars",
           4.8,
           "University Of Toronto"
          ],
          [
           "Cuidados Y Procedimientos Generales En La Atención Del Recién Nacido",
           4.8,
           "Universidad De Chile"
          ],
          [
           "Project Execution",
           4.2,
           "University Of California, Irvine"
          ],
          [
           "Programming Fundamentals",
           4.7,
           "Duke University"
          ],
          [
           "Getting Started With Go",
           4.6,
           "University Of California, Irvine"
          ],
          [
           "Introduction To Thermodynamics: Transferring Energy From Here To There",
           4.8,
           "University Of Michigan"
          ],
          [
           "Challenging Forensic Science: How Science Should Speak To Court",
           4.8,
           "University Of Lausanne"
          ],
          [
           "Chinese For Hsk 1",
           4.8,
           "Peking University"
          ],
          [
           "Business English: Networking",
           4.7,
           "University Of Washington"
          ],
          [
           "Global Trends For Business And Society",
           4.8,
           "University Of Pennsylvania"
          ],
          [
           "A Crash Course In Causality:  Inferring Causal Effects From Observational Data",
           4.7,
           "University Of Pennsylvania"
          ],
          [
           "Introduction To User Experience Principles And Processes",
           4.8,
           "University Of Michigan"
          ],
          [
           "Introduction To Electronics",
           4.7,
           "Georgia Institute Of Technology"
          ],
          [
           "Understanding Plants - Part I: What A Plant Knows",
           4.8,
           "Tel Aviv University"
          ],
          [
           "Innovation Through Design: Think, Make, Break, Repeat",
           4.8,
           "The University Of Sydney"
          ],
          [
           "Strategy And Sustainability",
           4.6,
           "Iese Business School"
          ],
          [
           "Blended Language Learning: Design And Practice For Teachers",
           4.8,
           "University Of Colorado Boulder"
          ],
          [
           "Astrobiology And The Search For Extraterrestrial Life",
           4.7,
           "The University Of Edinburgh"
          ],
          [
           "Leading For Equity, Diversity And Inclusion In Higher Education",
           4.7,
           "University Of Michigan"
          ],
          [
           "Developing Your Musicianship",
           4.8,
           "Berklee College Of Music"
          ],
          [
           "Guitar For Beginners",
           4.8,
           "Berklee College Of Music"
          ],
          [
           "Introduction To Systems Engineering",
           4.7,
           "Unsw Sydney (The University Of New South Wales)"
          ],
          [
           "The Cycle: Management Of Successful Arts And Cultural Organizations",
           4.8,
           "University Of Maryland, College Park"
          ],
          [
           "Supply Chain Operations",
           4.8,
           "Rutgers The State University Of New Jersey"
          ],
          [
           "Global Financing Solutions  (By Edhec And Société Générale)",
           4.6,
           "Edhec Business School"
          ],
          [
           "Intercultural Management",
           4.6,
           "Escp Business School"
          ],
          [
           "Sample-Based Learning Methods",
           4.8,
           "University Of Alberta"
          ],
          [
           "Dairy Production And Management",
           4.8,
           "The Pennsylvania State University"
          ],
          [
           "Introduction To Statistics & Data Analysis In Public Health",
           4.7,
           "Imperial College London"
          ],
          [
           "How To Create A Website In A Weekend! (Project-Centered Course)",
           3.3,
           "The State University Of New York"
          ],
          [
           "The Changing Global Order",
           4.7,
           "Universiteit Leiden"
          ],
          [
           "Love As A Force For Social Justice",
           4.7,
           "Stanford University"
          ],
          [
           "Enterprise Architecture",
           4.4,
           "Peter The Great St. Petersburg Polytechnic University"
          ],
          [
           "Ready, Set, Future! Introduction To Futures Thinking",
           4.8,
           "Institute For The Future"
          ],
          [
           "Sexualidad...Mucho Más Que Sexo",
           4.8,
           "Universidad De Los Andes"
          ],
          [
           "Effective Compliance Programs",
           4.9,
           "University Of Pennsylvania"
          ],
          [
           "Introduction To Imagemaking",
           4.5,
           "California Institute Of The Arts"
          ],
          [
           "Foundations Of Everyday Leadership",
           4.8,
           "University Of Illinois At Urbana-Champaign"
          ],
          [
           "Becoming A Sports Agent",
           4.7,
           "Case Western Reserve University"
          ],
          [
           "Cloud Computing Basics (Cloud 101)",
           4.5,
           "Learnquest"
          ],
          [
           "Finance For Non-Financial Managers",
           4.4,
           "Emory University"
          ],
          [
           "Introduction To Computer Programming",
           4.3,
           "Goldsmiths, University Of London"
          ],
          [
           "Atención Primaria En Salud: El Desafío De Las Enfermedades No Transmisibles",
           4.8,
           "Pontificia Universidad Católica De Chile"
          ],
          [
           "Data Collection And Processing With Python",
           4.7,
           "University Of Michigan"
          ],
          [
           "Music Business Foundations",
           4.9,
           "Berklee College Of Music"
          ],
          [
           "Hacia Una Práctica Constructivista En El Aula",
           4.8,
           "Pontificia Universidad Católica De Chile"
          ],
          [
           "Wonders Of Ancient Egypt",
           4.8,
           "University Of Pennsylvania"
          ],
          [
           "Teaching Character And Creating Positive Classrooms",
           4.8,
           "Relay Graduate School Of Education"
          ],
          [
           "El Abogado Del Futuro: Legaltech Y La Transformación Digital Del Derecho",
           5,
           "Universidad Austral"
          ],
          [
           "Functional Programming Principles In Scala",
           4.8,
           "École Polytechnique Fédérale De Lausanne"
          ],
          [
           "Magic In The Middle Ages",
           4.6,
           "Universitat De Barcelona"
          ],
          [
           "Six Sigma And The Organization (Advanced)",
           4.7,
           "University System Of Georgia"
          ],
          [
           "Construction Scheduling",
           4.8,
           "Columbia University"
          ],
          [
           "New Approaches To Countering Terror: Countering Violent Extremism",
           4.7,
           "University Of Maryland, College Park"
          ],
          [
           "Managing Your Health: The Role Of Physical Therapy And Exercise",
           4.6,
           "University Of Toronto"
          ],
          [
           "Ancient Philosophy: Aristotle And His Successors",
           4.8,
           "University Of Pennsylvania"
          ],
          [
           "Antimicrobial Resistance - Theory And Methods",
           4.6,
           "Technical University Of Denmark (Dtu)"
          ],
          [
           "Cómo Hablar Bien En Público",
           4.8,
           "Universitat Autònoma De Barcelona"
          ],
          [
           "Strategic Management",
           4.7,
           "Copenhagen Business School"
          ],
          [
           "Gender And Sexuality: Diversity And Inclusion In The Workplace",
           4.7,
           "University Of Pittsburgh"
          ],
          [
           "Hardware Description Languages For Fpga Design",
           4.2,
           "University Of Colorado Boulder"
          ],
          [
           "Data Visualization With Advanced Excel",
           4.8,
           "Pwc"
          ],
          [
           "Influencer Marketing Strategy",
           4.4,
           "Rutgers The State University Of New Jersey"
          ],
          [
           "Dentistry 101",
           4.7,
           "University Of Michigan"
          ],
          [
           "Teach English Now! Teaching Language Online",
           4.4,
           "Arizona State University"
          ],
          [
           "Preparing For The Google Cloud Associate Cloud Engineer Exam",
           4.7,
           "Google Cloud"
          ],
          [
           "Patrocinio Deportivo",
           4.6,
           "Universitat Autònoma De Barcelona"
          ],
          [
           "Математика И Python Для Анализа Данных",
           4.8,
           "E-Learning Development Fund"
          ],
          [
           "Decision-Making And Scenarios",
           4.6,
           "University Of Pennsylvania"
          ],
          [
           "Sleep: Neurobiology, Medicine, And Society",
           4.8,
           "University Of Michigan"
          ],
          [
           "Control Of Mobile Robots",
           4.8,
           "Georgia Institute Of Technology"
          ],
          [
           "Bim Fundamentals For Engineers",
           4.6,
           "National Taiwan University"
          ],
          [
           "The Science Of Gastronomy",
           4.6,
           "The Hong Kong University Of Science And Technology"
          ],
          [
           "Aboriginal Worldviews And Education",
           4.7,
           "University Of Toronto"
          ],
          [
           "Curanderismo: Traditional Healing Using Plants",
           4.6,
           "University Of New Mexico"
          ],
          [
           "Cybersecurity And Its Ten Domains",
           4.2,
           "University System Of Georgia"
          ],
          [
           "Strategic Business Management - Microeconomics",
           4.7,
           "University Of California, Irvine"
          ],
          [
           "Quantitative Methods",
           4.7,
           "University Of Amsterdam"
          ],
          [
           "Building Your Leadership Skills",
           4.5,
           "Hec Paris"
          ],
          [
           "Advertising And Society",
           4.8,
           "Duke University"
          ],
          [
           "Queering Identities: Lgbtq+ Sexuality And Gender Identity",
           4.9,
           "University Of Colorado System"
          ],
          [
           "Aws Fundamentals: Migrating To The Cloud",
           4.5,
           "Amazon Web Services"
          ],
          [
           "What Future For Education?",
           4.7,
           "Ucl Institute Of Education"
          ],
          [
           "Introduction To Ableton Live",
           4.8,
           "Berklee College Of Music"
          ],
          [
           "Machine Learning Foundations: A Case Study Approach",
           4.6,
           "University Of Washington"
          ],
          [
           "Emt Foundations",
           4.8,
           "University Of Colorado System"
          ],
          [
           "Russian Alphabet",
           4.7,
           "Saint Petersburg State University"
          ],
          [
           "Internet Giants: The Law And Economics Of Media Platforms",
           4.8,
           "The University Of Chicago"
          ],
          [
           "Global Financial Markets And Instruments",
           4.6,
           "Rice University"
          ],
          [
           "Instructional Methods In Health Professions Education",
           4.6,
           "University Of Michigan"
          ],
          [
           "Actualización En El Manejo Del Paciente Con Diabetes Mellitus Tipo 2",
           4.8,
           "Universidad Nacional Autónoma De México"
          ],
          [
           "Legal Tech & Startups",
           4.5,
           "Ie Business School"
          ],
          [
           "Materials Science: 10 Things Every Engineer Should Know",
           4.7,
           "University Of California, Davis"
          ],
          [
           "Основы Разработки На C++: Белый Пояс",
           4.9,
           "E-Learning Development Fund"
          ],
          [
           "Networking And Security Architecture With Vmware Nsx",
           4.8,
           "Vmware"
          ],
          [
           "Linear Circuits 1: Dc Analysis",
           4.6,
           "Georgia Institute Of Technology"
          ],
          [
           "Introduction Aux Droits De L’Homme",
           4.8,
           "University Of Geneva"
          ],
          [
           "High Performance Collaboration: Leadership, Teamwork, And Negotiation",
           4.8,
           "Northwestern University"
          ],
          [
           "Agile И Scrum В Работе Над Проектами И Продуктами",
           4.9,
           "Scrumtrek"
          ],
          [
           "Estadística Y Probabilidad",
           4.7,
           "Universidad Nacional Autónoma De México"
          ],
          [
           "Classical Sociological Theory",
           4.8,
           "University Of Amsterdam"
          ],
          [
           "Google Cloud Platform Fundamentals For Aws Professionals",
           4.7,
           "Google Cloud"
          ],
          [
           "Introduction To Game Development",
           4.8,
           "Michigan State University"
          ],
          [
           "Formulación Y Evaluación De Proyectos Complejos",
           4.9,
           "Universidad De Los Andes"
          ],
          [
           "Digital Media And Marketing Strategies",
           4.4,
           "University Of Illinois At Urbana-Champaign"
          ],
          [
           "Age Of Cathedrals",
           4.7,
           "Yale University"
          ],
          [
           "Cost And Economics In Pricing Strategy",
           4.8,
           "University Of Virginia"
          ],
          [
           "Digital Business Models",
           4.5,
           "Lund University"
          ],
          [
           "Identifying, Monitoring, And Analyzing Risk And Incident Response And Recovery",
           4.9,
           "(Isc)²"
          ],
          [
           "¿Qué Hacen Los Buenos Directivos? Prioridades De La Alta Dirección",
           4.7,
           "Iese Business School"
          ],
          [
           "Software Processes And Agile Practices",
           4.7,
           "University Of Alberta"
          ],
          [
           "Scaling Operations: Linking Strategy And Execution",
           4.5,
           "Northwestern University"
          ],
          [
           "Aws Fundamentals: Building Serverless Applications",
           4.7,
           "Amazon Web Services"
          ],
          [
           "Introduction To Big Data",
           4.6,
           "University Of California San Diego"
          ],
          [
           "Front-End Web Development With React",
           4.7,
           "The Hong Kong University Of Science And Technology"
          ],
          [
           "The Economics Of Health Care Delivery",
           4.8,
           "University Of Pennsylvania"
          ],
          [
           "Introdução À Ciência Da Computação Com Python Parte 1",
           4.9,
           "Universidade De São Paulo"
          ],
          [
           "Osteoarchaeology: The Truth In Our Bones",
           4.7,
           "Universiteit Leiden"
          ],
          [
           "Python Classes And Inheritance",
           4.7,
           "University Of Michigan"
          ],
          [
           "Electric Industry Operations And Markets",
           4.8,
           "Duke University"
          ],
          [
           "Data And Health Indicators In Public Health Practice",
           4.7,
           "Johns Hopkins University"
          ],
          [
           "Particle Physics: An Introduction",
           4.5,
           "University Of Geneva"
          ],
          [
           "Mathematics For Machine Learning: Pca",
           4,
           "Imperial College London"
          ],
          [
           "A Crash Course In Data Science",
           4.5,
           "Johns Hopkins University"
          ],
          [
           "Research Data Management And Sharing",
           4.6,
           "The University Of Edinburgh"
          ],
          [
           "Aspectos Básicos De La Planificación Y La Gestión De Proyectos",
           4.9,
           "University Of Virginia"
          ],
          [
           "Introduction To Genomic Technologies",
           4.6,
           "Johns Hopkins University"
          ],
          [
           "Introduction To Chemistry:  Reactions And Ratios",
           4.8,
           "Duke University"
          ],
          [
           "Explorando La Energía Sustentable",
           4.8,
           "Pontificia Universidad Católica De Chile"
          ],
          [
           "University Teaching",
           4.8,
           "The University Of Hong Kong"
          ],
          [
           "Психолингвистика (Psycholinguistics)",
           4.8,
           "Saint Petersburg State University"
          ],
          [
           "Building Resilient Streaming Analytics Systems On Gcp",
           4.6,
           "Google Cloud"
          ],
          [
           "Object-Oriented Design",
           4.7,
           "University Of Alberta"
          ],
          [
           "Погружение В Python",
           4.7,
           "Moscow Institute Of Physics And Technology"
          ],
          [
           "Compassionate Leadership Through Service Learning With Jane Goodall And Roots & Shoots",
           4.9,
           "University Of Colorado Boulder"
          ]
         ],
         "hovertemplate": "Title: <b>%{customdata[0]}</b><br>Students Enrolled: %{x:,.0f}<br>Organization: %{customdata[2]}<br>Rating: %{customdata[1]}<br>",
         "legendgroup": "Course",
         "marker": {
          "color": "#00cc96"
         },
         "name": "Course",
         "notched": false,
         "offsetgroup": "Course",
         "orientation": "h",
         "showlegend": true,
         "type": "box",
         "x": [
          2500000,
          3200000,
          470000,
          220000,
          270000,
          190000,
          750000,
          280000,
          1300000,
          350000,
          280000,
          630000,
          370000,
          140000,
          150000,
          57000,
          120000,
          120000,
          220000,
          65000,
          260000,
          68000,
          200000,
          180000,
          240000,
          310000,
          57000,
          210000,
          340000,
          36000,
          51000,
          420000,
          400000,
          79000,
          140000,
          270000,
          12000,
          130000,
          220000,
          100000,
          67000,
          260000,
          120000,
          120000,
          170000,
          100000,
          23000,
          30000,
          290000,
          110000,
          180000,
          24000,
          42000,
          760000,
          100000,
          81000,
          190000,
          390000,
          220000,
          190000,
          79000,
          35000,
          110000,
          89000,
          310000,
          12000,
          71000,
          200000,
          240000,
          56000,
          40000,
          270000,
          170000,
          72000,
          76000,
          33000,
          140000,
          230000,
          120000,
          41000,
          83000,
          150000,
          32000,
          370000,
          50000,
          81000,
          420000,
          86000,
          130000,
          67000,
          100000,
          25000,
          11000,
          69000,
          180000,
          120000,
          110000,
          58000,
          69000,
          29000,
          110000,
          55000,
          270000,
          180000,
          84000,
          32000,
          110000,
          86000,
          110000,
          19000,
          110000,
          47000,
          4000,
          190000,
          14000,
          260000,
          43000,
          180000,
          90000,
          220000,
          10000,
          36000,
          130000,
          16000,
          43000,
          29000,
          220000,
          270000,
          310000,
          120000,
          69000,
          4100,
          76000,
          480000,
          79000,
          31000,
          120000,
          18000,
          57000,
          15000,
          100000,
          50000,
          240000,
          9200,
          33000,
          160000,
          430000,
          130000,
          76000,
          270000,
          95000,
          39000,
          12000,
          20000,
          83000,
          220000,
          130000,
          78000,
          34000,
          130000,
          46000,
          17000,
          26000,
          84000,
          250000,
          40000,
          56000,
          120000,
          41000,
          73000,
          120000,
          47000,
          130000,
          94000,
          58000,
          24000,
          42000,
          66000,
          430000,
          17000,
          110000,
          68000,
          150000,
          95000,
          10000,
          54000,
          80000,
          140000,
          29000,
          62000,
          22000,
          43000,
          3300,
          13000,
          18000,
          53000,
          91000,
          36000,
          18000,
          82000,
          54000,
          39000,
          66000,
          150000,
          75000,
          52000,
          86000,
          44000,
          87000,
          39000,
          19000,
          40000,
          43000,
          5400,
          78000,
          30000,
          9700,
          85000,
          7200,
          68000,
          2200,
          26000,
          49000,
          32000,
          31000,
          12000,
          14000,
          38000,
          2300,
          56000,
          130000,
          14000,
          140000,
          34000,
          30000,
          49000,
          11000,
          30000,
          230000,
          41000,
          160000,
          22000,
          62000,
          34000,
          10000,
          79000,
          40000,
          69000,
          7900,
          84000,
          17000,
          2400,
          73000,
          35000,
          97000,
          91000,
          18000,
          140000,
          38000,
          74000,
          89000,
          89000,
          71000,
          130000,
          42000,
          47000,
          20000,
          18000,
          21000,
          34000,
          200000,
          11000,
          17000,
          8000,
          120000,
          160000,
          150000,
          81000,
          97000,
          9100,
          13000,
          130000,
          45000,
          51000,
          45000,
          110000,
          24000,
          87000,
          120000,
          35000,
          82000,
          22000,
          48000,
          14000,
          10000,
          140000,
          6200,
          43000,
          37000,
          99000,
          32000,
          280000,
          180000,
          310000,
          170000,
          26000,
          71000,
          72000,
          27000,
          81000,
          23000,
          220000,
          57000,
          88000,
          18000,
          34000,
          73000,
          23000,
          34000,
          8400,
          9400,
          34000,
          22000,
          36000,
          16000,
          49000,
          9400,
          200000,
          19000,
          22000,
          29000,
          11000,
          40000,
          9700,
          39000,
          11000,
          2600,
          25000,
          59000,
          110000,
          44000,
          68000,
          29000,
          19000,
          80000,
          24000,
          23000,
          16000,
          24000,
          2900,
          200000,
          33000,
          11000,
          12000,
          27000,
          15000,
          20000,
          5600,
          76000,
          39000,
          8200,
          150000,
          47000,
          150000,
          11000,
          30000,
          180000,
          5200,
          320000,
          46000,
          42000,
          3900,
          4400,
          110000,
          180000,
          10000,
          9500,
          40000,
          33000,
          41000,
          47000,
          15000,
          44000,
          7300,
          120000,
          16000,
          28000,
          35000,
          13000,
          22000,
          39000,
          31000,
          11000,
          84000,
          79000,
          28000,
          36000,
          8900,
          58000,
          22000,
          47000,
          61000,
          17000,
          29000,
          19000,
          26000,
          17000,
          59000,
          68000,
          18000,
          21000,
          130000,
          35000,
          15000,
          6000,
          12000,
          75000,
          39000,
          19000,
          61000,
          59000,
          40000,
          52000,
          25000,
          22000,
          83000,
          31000,
          47000,
          36000,
          16000,
          35000,
          62000,
          21000,
          14000,
          14000,
          7800,
          36000,
          14000,
          23000,
          31000,
          63000,
          27000,
          150000,
          10000,
          19000,
          9900,
          19000,
          39000,
          22000,
          70000,
          19000,
          59000,
          4100,
          31000,
          22000,
          77000,
          7600,
          17000,
          16000,
          110000,
          49000,
          10000,
          11000,
          1900,
          66000,
          5900,
          41000,
          210000,
          33000,
          11000,
          24000,
          3600,
          6500,
          6800,
          23000,
          12000,
          140000,
          23000,
          14000,
          2400,
          7700,
          110000,
          3400,
          54000,
          62000,
          6500,
          37000,
          12000,
          20000,
          33000,
          19000,
          34000,
          62000,
          17000,
          53000,
          1500,
          170000,
          78000,
          15000,
          15000,
          12000,
          47000,
          8100,
          63000,
          55000,
          58000,
          14000,
          7400,
          60000,
          12000,
          4500,
          8500,
          22000,
          12000,
          67000,
          31000,
          20000,
          49000,
          13000,
          50000,
          6600,
          5500,
          140000,
          9500,
          69000,
          67000,
          14000,
          3000,
          13000,
          35000,
          60000,
          240000,
          7100,
          3200,
          38000,
          37000,
          9700,
          23000,
          7200,
          48000,
          41000,
          17000,
          29000,
          46000,
          46000,
          12000,
          27000,
          51000,
          36000,
          79000,
          4400,
          57000,
          21000,
          15000,
          21000,
          1700,
          25000,
          60000,
          12000,
          27000,
          160000,
          45000,
          7200,
          120000,
          22000,
          21000,
          12000,
          18000,
          42000,
          33000,
          130000,
          16000,
          10000,
          42000,
          46000,
          28000,
          9500,
          21000,
          5800,
          33000,
          45000,
          6400
         ],
         "x0": " ",
         "xaxis": "x",
         "y": [
          "Mixed",
          "Mixed",
          "Beginner",
          "Beginner",
          "Beginner",
          "Mixed",
          "Mixed",
          "Beginner",
          "Mixed",
          "Beginner",
          "Mixed",
          "Intermediate",
          "Beginner",
          "Beginner",
          "Mixed",
          "Beginner",
          "Mixed",
          "Beginner",
          "Beginner",
          "Beginner",
          "Beginner",
          "Beginner",
          "Beginner",
          "Beginner",
          "Beginner",
          "Beginner",
          "Mixed",
          "Mixed",
          "Beginner",
          "Beginner",
          "Mixed",
          "Mixed",
          "Beginner",
          "Mixed",
          "Beginner",
          "Beginner",
          "Intermediate",
          "Beginner",
          "Mixed",
          "Intermediate",
          "Mixed",
          "Beginner",
          "Beginner",
          "Beginner",
          "Beginner",
          "Mixed",
          "Beginner",
          "Beginner",
          "Beginner",
          "Mixed",
          "Mixed",
          "Beginner",
          "Mixed",
          "Mixed",
          "Mixed",
          "Beginner",
          "Mixed",
          "Intermediate",
          "Beginner",
          "Intermediate",
          "Mixed",
          "Beginner",
          "Beginner",
          "Beginner",
          "Mixed",
          "Intermediate",
          "Mixed",
          "Mixed",
          "Intermediate",
          "Mixed",
          "Beginner",
          "Mixed",
          "Advanced",
          "Mixed",
          "Intermediate",
          "Beginner",
          "Beginner",
          "Beginner",
          "Intermediate",
          "Mixed",
          "Mixed",
          "Intermediate",
          "Beginner",
          "Mixed",
          "Beginner",
          "Beginner",
          "Mixed",
          "Mixed",
          "Beginner",
          "Mixed",
          "Beginner",
          "Beginner",
          "Beginner",
          "Beginner",
          "Beginner",
          "Mixed",
          "Beginner",
          "Intermediate",
          "Beginner",
          "Advanced",
          "Mixed",
          "Mixed",
          "Mixed",
          "Mixed",
          "Mixed",
          "Beginner",
          "Beginner",
          "Beginner",
          "Beginner",
          "Mixed",
          "Beginner",
          "Mixed",
          "Intermediate",
          "Beginner",
          "Intermediate",
          "Mixed",
          "Beginner",
          "Mixed",
          "Beginner",
          "Beginner",
          "Mixed",
          "Intermediate",
          "Mixed",
          "Advanced",
          "Beginner",
          "Mixed",
          "Mixed",
          "Beginner",
          "Beginner",
          "Beginner",
          "Mixed",
          "Intermediate",
          "Beginner",
          "Intermediate",
          "Beginner",
          "Mixed",
          "Intermediate",
          "Beginner",
          "Mixed",
          "Mixed",
          "Beginner",
          "Mixed",
          "Mixed",
          "Beginner",
          "Mixed",
          "Beginner",
          "Mixed",
          "Mixed",
          "Mixed",
          "Intermediate",
          "Mixed",
          "Beginner",
          "Mixed",
          "Beginner",
          "Intermediate",
          "Mixed",
          "Mixed",
          "Mixed",
          "Beginner",
          "Beginner",
          "Intermediate",
          "Mixed",
          "Beginner",
          "Mixed",
          "Beginner",
          "Beginner",
          "Beginner",
          "Mixed",
          "Intermediate",
          "Beginner",
          "Beginner",
          "Mixed",
          "Intermediate",
          "Mixed",
          "Beginner",
          "Mixed",
          "Beginner",
          "Beginner",
          "Mixed",
          "Intermediate",
          "Beginner",
          "Mixed",
          "Mixed",
          "Mixed",
          "Beginner",
          "Mixed",
          "Mixed",
          "Beginner",
          "Beginner",
          "Beginner",
          "Beginner",
          "Beginner",
          "Beginner",
          "Mixed",
          "Beginner",
          "Intermediate",
          "Mixed",
          "Mixed",
          "Intermediate",
          "Mixed",
          "Beginner",
          "Intermediate",
          "Intermediate",
          "Mixed",
          "Intermediate",
          "Beginner",
          "Beginner",
          "Beginner",
          "Beginner",
          "Mixed",
          "Intermediate",
          "Intermediate",
          "Beginner",
          "Intermediate",
          "Beginner",
          "Beginner",
          "Beginner",
          "Mixed",
          "Beginner",
          "Intermediate",
          "Beginner",
          "Beginner",
          "Intermediate",
          "Beginner",
          "Mixed",
          "Beginner",
          "Beginner",
          "Beginner",
          "Mixed",
          "Mixed",
          "Beginner",
          "Beginner",
          "Mixed",
          "Mixed",
          "Beginner",
          "Beginner",
          "Beginner",
          "Beginner",
          "Beginner",
          "Mixed",
          "Beginner",
          "Intermediate",
          "Beginner",
          "Beginner",
          "Beginner",
          "Mixed",
          "Mixed",
          "Beginner",
          "Beginner",
          "Mixed",
          "Beginner",
          "Intermediate",
          "Beginner",
          "Beginner",
          "Intermediate",
          "Intermediate",
          "Intermediate",
          "Beginner",
          "Mixed",
          "Mixed",
          "Beginner",
          "Intermediate",
          "Beginner",
          "Mixed",
          "Advanced",
          "Intermediate",
          "Beginner",
          "Beginner",
          "Intermediate",
          "Mixed",
          "Mixed",
          "Beginner",
          "Beginner",
          "Beginner",
          "Beginner",
          "Beginner",
          "Beginner",
          "Beginner",
          "Mixed",
          "Intermediate",
          "Beginner",
          "Mixed",
          "Mixed",
          "Beginner",
          "Mixed",
          "Beginner",
          "Beginner",
          "Mixed",
          "Mixed",
          "Intermediate",
          "Mixed",
          "Beginner",
          "Beginner",
          "Beginner",
          "Beginner",
          "Beginner",
          "Mixed",
          "Intermediate",
          "Intermediate",
          "Mixed",
          "Beginner",
          "Mixed",
          "Beginner",
          "Mixed",
          "Intermediate",
          "Beginner",
          "Mixed",
          "Beginner",
          "Beginner",
          "Mixed",
          "Beginner",
          "Intermediate",
          "Intermediate",
          "Beginner",
          "Beginner",
          "Mixed",
          "Intermediate",
          "Mixed",
          "Beginner",
          "Beginner",
          "Intermediate",
          "Mixed",
          "Intermediate",
          "Mixed",
          "Mixed",
          "Mixed",
          "Beginner",
          "Beginner",
          "Beginner",
          "Beginner",
          "Mixed",
          "Beginner",
          "Mixed",
          "Advanced",
          "Intermediate",
          "Beginner",
          "Beginner",
          "Beginner",
          "Intermediate",
          "Beginner",
          "Beginner",
          "Beginner",
          "Intermediate",
          "Beginner",
          "Mixed",
          "Beginner",
          "Beginner",
          "Beginner",
          "Intermediate",
          "Beginner",
          "Beginner",
          "Mixed",
          "Mixed",
          "Beginner",
          "Mixed",
          "Mixed",
          "Beginner",
          "Beginner",
          "Beginner",
          "Intermediate",
          "Beginner",
          "Mixed",
          "Mixed",
          "Intermediate",
          "Beginner",
          "Beginner",
          "Beginner",
          "Beginner",
          "Mixed",
          "Beginner",
          "Intermediate",
          "Intermediate",
          "Beginner",
          "Mixed",
          "Beginner",
          "Beginner",
          "Beginner",
          "Beginner",
          "Mixed",
          "Intermediate",
          "Mixed",
          "Mixed",
          "Mixed",
          "Intermediate",
          "Beginner",
          "Beginner",
          "Intermediate",
          "Mixed",
          "Intermediate",
          "Beginner",
          "Beginner",
          "Beginner",
          "Advanced",
          "Mixed",
          "Intermediate",
          "Beginner",
          "Beginner",
          "Beginner",
          "Mixed",
          "Beginner",
          "Beginner",
          "Beginner",
          "Beginner",
          "Beginner",
          "Mixed",
          "Intermediate",
          "Beginner",
          "Beginner",
          "Advanced",
          "Beginner",
          "Mixed",
          "Mixed",
          "Beginner",
          "Beginner",
          "Beginner",
          "Intermediate",
          "Beginner",
          "Intermediate",
          "Mixed",
          "Beginner",
          "Beginner",
          "Intermediate",
          "Beginner",
          "Mixed",
          "Advanced",
          "Beginner",
          "Beginner",
          "Beginner",
          "Mixed",
          "Intermediate",
          "Mixed",
          "Mixed",
          "Beginner",
          "Beginner",
          "Intermediate",
          "Beginner",
          "Beginner",
          "Beginner",
          "Beginner",
          "Beginner",
          "Beginner",
          "Beginner",
          "Beginner",
          "Intermediate",
          "Mixed",
          "Intermediate",
          "Beginner",
          "Advanced",
          "Intermediate",
          "Beginner",
          "Beginner",
          "Intermediate",
          "Beginner",
          "Beginner",
          "Beginner",
          "Intermediate",
          "Mixed",
          "Intermediate",
          "Beginner",
          "Mixed",
          "Beginner",
          "Beginner",
          "Beginner",
          "Intermediate",
          "Mixed",
          "Intermediate",
          "Mixed",
          "Mixed",
          "Mixed",
          "Beginner",
          "Beginner",
          "Intermediate",
          "Beginner",
          "Intermediate",
          "Mixed",
          "Beginner",
          "Mixed",
          "Intermediate",
          "Beginner",
          "Beginner",
          "Beginner",
          "Beginner",
          "Mixed",
          "Beginner",
          "Mixed",
          "Beginner",
          "Beginner",
          "Intermediate",
          "Beginner",
          "Intermediate",
          "Intermediate",
          "Mixed",
          "Mixed",
          "Intermediate",
          "Mixed",
          "Beginner",
          "Intermediate",
          "Beginner",
          "Intermediate",
          "Beginner",
          "Beginner",
          "Beginner",
          "Mixed",
          "Intermediate",
          "Beginner",
          "Mixed",
          "Beginner",
          "Intermediate",
          "Beginner",
          "Intermediate",
          "Beginner",
          "Intermediate",
          "Beginner",
          "Beginner",
          "Beginner",
          "Mixed",
          "Beginner",
          "Mixed",
          "Beginner",
          "Mixed",
          "Mixed",
          "Beginner",
          "Beginner",
          "Beginner",
          "Mixed",
          "Mixed",
          "Mixed",
          "Beginner",
          "Intermediate",
          "Mixed",
          "Mixed",
          "Mixed",
          "Beginner",
          "Beginner",
          "Mixed",
          "Mixed",
          "Intermediate",
          "Mixed",
          "Intermediate",
          "Mixed",
          "Intermediate",
          "Intermediate",
          "Mixed",
          "Mixed",
          "Mixed",
          "Beginner",
          "Beginner",
          "Mixed",
          "Intermediate",
          "Mixed",
          "Intermediate",
          "Mixed",
          "Beginner",
          "Beginner",
          "Beginner",
          "Beginner",
          "Beginner",
          "Mixed",
          "Mixed",
          "Beginner",
          "Mixed",
          "Intermediate",
          "Mixed",
          "Beginner",
          "Beginner",
          "Intermediate",
          "Beginner",
          "Beginner",
          "Mixed",
          "Intermediate",
          "Mixed",
          "Mixed",
          "Beginner",
          "Mixed",
          "Beginner",
          "Beginner",
          "Beginner",
          "Mixed",
          "Intermediate",
          "Intermediate",
          "Intermediate",
          "Beginner"
         ],
         "y0": " ",
         "yaxis": "y"
        }
       ],
       "layout": {
        "boxmode": "group",
        "hoverlabel": {
         "bgcolor": "white",
         "bordercolor": "white",
         "font": {
          "color": "#494a5e"
         }
        },
        "legend": {
         "orientation": "h",
         "title": {
          "text": "Certificate type"
         },
         "tracegroupgap": 0,
         "x": 1,
         "xanchor": "right",
         "y": 1.02,
         "yanchor": "bottom"
        },
        "margin": {
         "t": 60
        },
        "plot_bgcolor": "white",
        "template": {
         "data": {
          "bar": [
           {
            "error_x": {
             "color": "#2a3f5f"
            },
            "error_y": {
             "color": "#2a3f5f"
            },
            "marker": {
             "line": {
              "color": "#E5ECF6",
              "width": 0.5
             },
             "pattern": {
              "fillmode": "overlay",
              "size": 10,
              "solidity": 0.2
             }
            },
            "type": "bar"
           }
          ],
          "barpolar": [
           {
            "marker": {
             "line": {
              "color": "#E5ECF6",
              "width": 0.5
             },
             "pattern": {
              "fillmode": "overlay",
              "size": 10,
              "solidity": 0.2
             }
            },
            "type": "barpolar"
           }
          ],
          "carpet": [
           {
            "aaxis": {
             "endlinecolor": "#2a3f5f",
             "gridcolor": "white",
             "linecolor": "white",
             "minorgridcolor": "white",
             "startlinecolor": "#2a3f5f"
            },
            "baxis": {
             "endlinecolor": "#2a3f5f",
             "gridcolor": "white",
             "linecolor": "white",
             "minorgridcolor": "white",
             "startlinecolor": "#2a3f5f"
            },
            "type": "carpet"
           }
          ],
          "choropleth": [
           {
            "colorbar": {
             "outlinewidth": 0,
             "ticks": ""
            },
            "type": "choropleth"
           }
          ],
          "contour": [
           {
            "colorbar": {
             "outlinewidth": 0,
             "ticks": ""
            },
            "colorscale": [
             [
              0,
              "#0d0887"
             ],
             [
              0.1111111111111111,
              "#46039f"
             ],
             [
              0.2222222222222222,
              "#7201a8"
             ],
             [
              0.3333333333333333,
              "#9c179e"
             ],
             [
              0.4444444444444444,
              "#bd3786"
             ],
             [
              0.5555555555555556,
              "#d8576b"
             ],
             [
              0.6666666666666666,
              "#ed7953"
             ],
             [
              0.7777777777777778,
              "#fb9f3a"
             ],
             [
              0.8888888888888888,
              "#fdca26"
             ],
             [
              1,
              "#f0f921"
             ]
            ],
            "type": "contour"
           }
          ],
          "contourcarpet": [
           {
            "colorbar": {
             "outlinewidth": 0,
             "ticks": ""
            },
            "type": "contourcarpet"
           }
          ],
          "heatmap": [
           {
            "colorbar": {
             "outlinewidth": 0,
             "ticks": ""
            },
            "colorscale": [
             [
              0,
              "#0d0887"
             ],
             [
              0.1111111111111111,
              "#46039f"
             ],
             [
              0.2222222222222222,
              "#7201a8"
             ],
             [
              0.3333333333333333,
              "#9c179e"
             ],
             [
              0.4444444444444444,
              "#bd3786"
             ],
             [
              0.5555555555555556,
              "#d8576b"
             ],
             [
              0.6666666666666666,
              "#ed7953"
             ],
             [
              0.7777777777777778,
              "#fb9f3a"
             ],
             [
              0.8888888888888888,
              "#fdca26"
             ],
             [
              1,
              "#f0f921"
             ]
            ],
            "type": "heatmap"
           }
          ],
          "heatmapgl": [
           {
            "colorbar": {
             "outlinewidth": 0,
             "ticks": ""
            },
            "colorscale": [
             [
              0,
              "#0d0887"
             ],
             [
              0.1111111111111111,
              "#46039f"
             ],
             [
              0.2222222222222222,
              "#7201a8"
             ],
             [
              0.3333333333333333,
              "#9c179e"
             ],
             [
              0.4444444444444444,
              "#bd3786"
             ],
             [
              0.5555555555555556,
              "#d8576b"
             ],
             [
              0.6666666666666666,
              "#ed7953"
             ],
             [
              0.7777777777777778,
              "#fb9f3a"
             ],
             [
              0.8888888888888888,
              "#fdca26"
             ],
             [
              1,
              "#f0f921"
             ]
            ],
            "type": "heatmapgl"
           }
          ],
          "histogram": [
           {
            "marker": {
             "pattern": {
              "fillmode": "overlay",
              "size": 10,
              "solidity": 0.2
             }
            },
            "type": "histogram"
           }
          ],
          "histogram2d": [
           {
            "colorbar": {
             "outlinewidth": 0,
             "ticks": ""
            },
            "colorscale": [
             [
              0,
              "#0d0887"
             ],
             [
              0.1111111111111111,
              "#46039f"
             ],
             [
              0.2222222222222222,
              "#7201a8"
             ],
             [
              0.3333333333333333,
              "#9c179e"
             ],
             [
              0.4444444444444444,
              "#bd3786"
             ],
             [
              0.5555555555555556,
              "#d8576b"
             ],
             [
              0.6666666666666666,
              "#ed7953"
             ],
             [
              0.7777777777777778,
              "#fb9f3a"
             ],
             [
              0.8888888888888888,
              "#fdca26"
             ],
             [
              1,
              "#f0f921"
             ]
            ],
            "type": "histogram2d"
           }
          ],
          "histogram2dcontour": [
           {
            "colorbar": {
             "outlinewidth": 0,
             "ticks": ""
            },
            "colorscale": [
             [
              0,
              "#0d0887"
             ],
             [
              0.1111111111111111,
              "#46039f"
             ],
             [
              0.2222222222222222,
              "#7201a8"
             ],
             [
              0.3333333333333333,
              "#9c179e"
             ],
             [
              0.4444444444444444,
              "#bd3786"
             ],
             [
              0.5555555555555556,
              "#d8576b"
             ],
             [
              0.6666666666666666,
              "#ed7953"
             ],
             [
              0.7777777777777778,
              "#fb9f3a"
             ],
             [
              0.8888888888888888,
              "#fdca26"
             ],
             [
              1,
              "#f0f921"
             ]
            ],
            "type": "histogram2dcontour"
           }
          ],
          "mesh3d": [
           {
            "colorbar": {
             "outlinewidth": 0,
             "ticks": ""
            },
            "type": "mesh3d"
           }
          ],
          "parcoords": [
           {
            "line": {
             "colorbar": {
              "outlinewidth": 0,
              "ticks": ""
             }
            },
            "type": "parcoords"
           }
          ],
          "pie": [
           {
            "automargin": true,
            "type": "pie"
           }
          ],
          "scatter": [
           {
            "fillpattern": {
             "fillmode": "overlay",
             "size": 10,
             "solidity": 0.2
            },
            "type": "scatter"
           }
          ],
          "scatter3d": [
           {
            "line": {
             "colorbar": {
              "outlinewidth": 0,
              "ticks": ""
             }
            },
            "marker": {
             "colorbar": {
              "outlinewidth": 0,
              "ticks": ""
             }
            },
            "type": "scatter3d"
           }
          ],
          "scattercarpet": [
           {
            "marker": {
             "colorbar": {
              "outlinewidth": 0,
              "ticks": ""
             }
            },
            "type": "scattercarpet"
           }
          ],
          "scattergeo": [
           {
            "marker": {
             "colorbar": {
              "outlinewidth": 0,
              "ticks": ""
             }
            },
            "type": "scattergeo"
           }
          ],
          "scattergl": [
           {
            "marker": {
             "colorbar": {
              "outlinewidth": 0,
              "ticks": ""
             }
            },
            "type": "scattergl"
           }
          ],
          "scattermapbox": [
           {
            "marker": {
             "colorbar": {
              "outlinewidth": 0,
              "ticks": ""
             }
            },
            "type": "scattermapbox"
           }
          ],
          "scatterpolar": [
           {
            "marker": {
             "colorbar": {
              "outlinewidth": 0,
              "ticks": ""
             }
            },
            "type": "scatterpolar"
           }
          ],
          "scatterpolargl": [
           {
            "marker": {
             "colorbar": {
              "outlinewidth": 0,
              "ticks": ""
             }
            },
            "type": "scatterpolargl"
           }
          ],
          "scatterternary": [
           {
            "marker": {
             "colorbar": {
              "outlinewidth": 0,
              "ticks": ""
             }
            },
            "type": "scatterternary"
           }
          ],
          "surface": [
           {
            "colorbar": {
             "outlinewidth": 0,
             "ticks": ""
            },
            "colorscale": [
             [
              0,
              "#0d0887"
             ],
             [
              0.1111111111111111,
              "#46039f"
             ],
             [
              0.2222222222222222,
              "#7201a8"
             ],
             [
              0.3333333333333333,
              "#9c179e"
             ],
             [
              0.4444444444444444,
              "#bd3786"
             ],
             [
              0.5555555555555556,
              "#d8576b"
             ],
             [
              0.6666666666666666,
              "#ed7953"
             ],
             [
              0.7777777777777778,
              "#fb9f3a"
             ],
             [
              0.8888888888888888,
              "#fdca26"
             ],
             [
              1,
              "#f0f921"
             ]
            ],
            "type": "surface"
           }
          ],
          "table": [
           {
            "cells": {
             "fill": {
              "color": "#EBF0F8"
             },
             "line": {
              "color": "white"
             }
            },
            "header": {
             "fill": {
              "color": "#C8D4E3"
             },
             "line": {
              "color": "white"
             }
            },
            "type": "table"
           }
          ]
         },
         "layout": {
          "annotationdefaults": {
           "arrowcolor": "#2a3f5f",
           "arrowhead": 0,
           "arrowwidth": 1
          },
          "autotypenumbers": "strict",
          "coloraxis": {
           "colorbar": {
            "outlinewidth": 0,
            "ticks": ""
           }
          },
          "colorscale": {
           "diverging": [
            [
             0,
             "#8e0152"
            ],
            [
             0.1,
             "#c51b7d"
            ],
            [
             0.2,
             "#de77ae"
            ],
            [
             0.3,
             "#f1b6da"
            ],
            [
             0.4,
             "#fde0ef"
            ],
            [
             0.5,
             "#f7f7f7"
            ],
            [
             0.6,
             "#e6f5d0"
            ],
            [
             0.7,
             "#b8e186"
            ],
            [
             0.8,
             "#7fbc41"
            ],
            [
             0.9,
             "#4d9221"
            ],
            [
             1,
             "#276419"
            ]
           ],
           "sequential": [
            [
             0,
             "#0d0887"
            ],
            [
             0.1111111111111111,
             "#46039f"
            ],
            [
             0.2222222222222222,
             "#7201a8"
            ],
            [
             0.3333333333333333,
             "#9c179e"
            ],
            [
             0.4444444444444444,
             "#bd3786"
            ],
            [
             0.5555555555555556,
             "#d8576b"
            ],
            [
             0.6666666666666666,
             "#ed7953"
            ],
            [
             0.7777777777777778,
             "#fb9f3a"
            ],
            [
             0.8888888888888888,
             "#fdca26"
            ],
            [
             1,
             "#f0f921"
            ]
           ],
           "sequentialminus": [
            [
             0,
             "#0d0887"
            ],
            [
             0.1111111111111111,
             "#46039f"
            ],
            [
             0.2222222222222222,
             "#7201a8"
            ],
            [
             0.3333333333333333,
             "#9c179e"
            ],
            [
             0.4444444444444444,
             "#bd3786"
            ],
            [
             0.5555555555555556,
             "#d8576b"
            ],
            [
             0.6666666666666666,
             "#ed7953"
            ],
            [
             0.7777777777777778,
             "#fb9f3a"
            ],
            [
             0.8888888888888888,
             "#fdca26"
            ],
            [
             1,
             "#f0f921"
            ]
           ]
          },
          "colorway": [
           "#636efa",
           "#EF553B",
           "#00cc96",
           "#ab63fa",
           "#FFA15A",
           "#19d3f3",
           "#FF6692",
           "#B6E880",
           "#FF97FF",
           "#FECB52"
          ],
          "font": {
           "color": "#2a3f5f"
          },
          "geo": {
           "bgcolor": "white",
           "lakecolor": "white",
           "landcolor": "#E5ECF6",
           "showlakes": true,
           "showland": true,
           "subunitcolor": "white"
          },
          "hoverlabel": {
           "align": "left"
          },
          "hovermode": "closest",
          "mapbox": {
           "style": "light"
          },
          "paper_bgcolor": "white",
          "plot_bgcolor": "#E5ECF6",
          "polar": {
           "angularaxis": {
            "gridcolor": "white",
            "linecolor": "white",
            "ticks": ""
           },
           "bgcolor": "#E5ECF6",
           "radialaxis": {
            "gridcolor": "white",
            "linecolor": "white",
            "ticks": ""
           }
          },
          "scene": {
           "xaxis": {
            "backgroundcolor": "#E5ECF6",
            "gridcolor": "white",
            "gridwidth": 2,
            "linecolor": "white",
            "showbackground": true,
            "ticks": "",
            "zerolinecolor": "white"
           },
           "yaxis": {
            "backgroundcolor": "#E5ECF6",
            "gridcolor": "white",
            "gridwidth": 2,
            "linecolor": "white",
            "showbackground": true,
            "ticks": "",
            "zerolinecolor": "white"
           },
           "zaxis": {
            "backgroundcolor": "#E5ECF6",
            "gridcolor": "white",
            "gridwidth": 2,
            "linecolor": "white",
            "showbackground": true,
            "ticks": "",
            "zerolinecolor": "white"
           }
          },
          "shapedefaults": {
           "line": {
            "color": "#2a3f5f"
           }
          },
          "ternary": {
           "aaxis": {
            "gridcolor": "white",
            "linecolor": "white",
            "ticks": ""
           },
           "baxis": {
            "gridcolor": "white",
            "linecolor": "white",
            "ticks": ""
           },
           "bgcolor": "#E5ECF6",
           "caxis": {
            "gridcolor": "white",
            "linecolor": "white",
            "ticks": ""
           }
          },
          "title": {
           "x": 0.05
          },
          "xaxis": {
           "automargin": true,
           "gridcolor": "white",
           "linecolor": "white",
           "ticks": "",
           "title": {
            "standoff": 15
           },
           "zerolinecolor": "white",
           "zerolinewidth": 2
          },
          "yaxis": {
           "automargin": true,
           "gridcolor": "white",
           "linecolor": "white",
           "ticks": "",
           "title": {
            "standoff": 15
           },
           "zerolinecolor": "white",
           "zerolinewidth": 2
          }
         }
        },
        "title": {
         "text": "Distribution of students enrolled"
        },
        "xaxis": {
         "anchor": "y",
         "domain": [
          0,
          1
         ],
         "title": {
          "text": "Students enrolled"
         }
        },
        "yaxis": {
         "anchor": "x",
         "domain": [
          0,
          1
         ],
         "title": {
          "text": "Difficulty"
         }
        }
       }
      },
      "image/png": "[encoded data removed]"
     },
     "metadata": {},
     "output_type": "display_data"
    }
   ],
   "source": [
    "fig = px.box(df, y = \"course_difficulty\", x=\"course_students_enrolled\", color = \"course_Certificate_type\", custom_data=[\"course_title\", \"course_rating\", \"course_organization\"])\n",
    "fig.update_layout(\n",
    "    title = \"Distribution of students enrolled\",\n",
    "    xaxis_title = \"Students enrolled\",\n",
    "    yaxis_title = \"Difficulty\",\n",
    "    legend_title = \"Certificate type\",\n",
    "    plot_bgcolor= \"white\",\n",
    "    hoverlabel=dict(\n",
    "        bgcolor=\"white\",\n",
    "        bordercolor = \"white\",\n",
    "        font=dict(\n",
    "            color=\"#494a5e\"\n",
    "        )\n",
    "    ),\n",
    "    legend=dict(\n",
    "    orientation=\"h\",\n",
    "    yanchor=\"bottom\",\n",
    "    y=1.02,\n",
    "    xanchor=\"right\",\n",
    "    x=1\n",
    "    )\n",
    ")         \n",
    "fig.update_traces(\n",
    "    hovertemplate=\"Title: <b>%{customdata[0]}</b><br>\" +\n",
    "                  \"Students Enrolled: %{x:,.0f}<br>\" +\n",
    "                  \"Organization: %{customdata[2]}<br>\" +\n",
    "                  \"Rating: %{customdata[1]}<br>\",\n",
    "    boxmean=True\n",
    ")\n",
    "  \n",
    "fig.show()"
   ]
  },
  {
   "cell_type": "markdown",
   "metadata": {},
   "source": [
    "Can see that certain courses have really high enrolment numbers. To verify this is correct, I looked up their current status on Coursera. For example, [\"The Science Of Well-Being\"](https://www.coursera.org/learn/the-science-of-well-being#modules) mixed difficulty course has now above 4 million enrollments even. Thus, keeping it and cleanliness of the data so far these values seem to be correct. I will keep them fpr further analysis.\n",
    "\n",
    "##### Ratings"
   ]
  },
  {
   "cell_type": "code",
   "execution_count": 40,
   "metadata": {},
   "outputs": [
    {
     "data": {
      "application/vnd.plotly.v1+json": {
       "config": {
        "plotlyServerURL": "https://plot.ly"
       },
       "data": [
        {
         "alignmentgroup": "True",
         "boxmean": true,
         "customdata": [
          [
           "Ibm Data Science",
           480000,
           "Ibm"
          ],
          [
           "Google It Support",
           350000,
           "Google"
          ],
          [
           "Cloud Engineering With Google Cloud",
           310000,
           "Google Cloud"
          ],
          [
           "Ibm Applied Ai",
           220000,
           "Ibm"
          ],
          [
           "Data Engineering With Google Cloud",
           120000,
           "Google Cloud"
          ],
          [
           "Google It Automation With Python",
           93000,
           "Google"
          ],
          [
           "Ibm Ai Engineering",
           140000,
           "Ibm"
          ],
          [
           "Arizona State University Tesol",
           150000,
           "Arizona State University"
          ],
          [
           "Uci Project Management",
           44000,
           "University Of California, Irvine"
          ],
          [
           "Sas Programmer",
           370000,
           "Sas"
          ],
          [
           "Soporte De Tecnologías De La Información De Google",
           8800,
           "Crece Con Google"
          ],
          [
           "Sas Visual Business Analytics",
           2600,
           "Sas"
          ]
         ],
         "hovertemplate": "Title: <b>%{customdata[0]}</b><br>Students Enrolled: %{customdata[1]:,.0f}<br>Organization: %{customdata[2]}<br>Rating: %{x}<br>",
         "legendgroup": "Professional Certificate",
         "marker": {
          "color": "#636efa"
         },
         "name": "Professional Certificate",
         "notched": false,
         "offsetgroup": "Professional Certificate",
         "orientation": "h",
         "showlegend": true,
         "type": "box",
         "x": [
          4.6,
          4.8,
          4.7,
          4.6,
          4.6,
          4.7,
          4.6,
          4.9,
          4.6,
          4.8,
          4.9,
          4.6
         ],
         "x0": " ",
         "xaxis": "x",
         "y": [
          "Beginner",
          "Beginner",
          "Intermediate",
          "Beginner",
          "Intermediate",
          "Beginner",
          "Intermediate",
          "Beginner",
          "Beginner",
          "Beginner",
          "Beginner",
          "Beginner"
         ],
         "y0": " ",
         "yaxis": "y"
        },
        {
         "alignmentgroup": "True",
         "boxmean": true,
         "customdata": [
          [
           "Introduction To Data Science",
           310000,
           "Ibm"
          ],
          [
           "Python For Everybody",
           1500000,
           "University Of Michigan"
          ],
          [
           "Deep Learning",
           690000,
           "Deeplearning.Ai"
          ],
          [
           "Business Foundations",
           510000,
           "University Of Pennsylvania"
          ],
          [
           "Applied Data Science",
           220000,
           "Ibm"
          ],
          [
           "Architecting With Google Compute Engine",
           310000,
           "Google Cloud"
          ],
          [
           "Excel Skills For Business",
           240000,
           "Macquarie University"
          ],
          [
           "Data Science",
           830000,
           "Johns Hopkins University"
          ],
          [
           "Data Science: Foundations Using R",
           740000,
           "Johns Hopkins University"
          ],
          [
           "Finance & Quantitative Modeling For Analysts",
           260000,
           "University Of Pennsylvania"
          ],
          [
           "Business Analytics",
           280000,
           "University Of Pennsylvania"
          ],
          [
           "Developing Applications With Google Cloud Platform",
           300000,
           "Google Cloud"
          ],
          [
           "Security In Google Cloud Platform",
           300000,
           "Google Cloud"
          ],
          [
           "Networking In Google Cloud",
           290000,
           "Google Cloud"
          ],
          [
           "Business And Financial Modeling",
           160000,
           "University Of Pennsylvania"
          ],
          [
           "Data Engineering, Big Data, And Machine Learning On Gcp",
           120000,
           "Google Cloud"
          ],
          [
           "Applied Data Science With Python",
           480000,
           "University Of Michigan"
          ],
          [
           "Tensorflow In Practice",
           170000,
           "Deeplearning.Ai"
          ],
          [
           "Digital Marketing",
           380000,
           "University Of Illinois At Urbana-Champaign"
          ],
          [
           "Project Management Principles And Practices",
           230000,
           "University Of California, Irvine"
          ],
          [
           "Project Management & Other Tools For Career Development",
           440000,
           "University Of California, Irvine"
          ],
          [
           "Foundations Of Positive Psychology",
           89000,
           "University Of Pennsylvania"
          ],
          [
           "Entrepreneurship",
           110000,
           "University Of Pennsylvania"
          ],
          [
           "Ai For Medicine",
           13000,
           "Deeplearning.Ai"
          ],
          [
           "Improve Your English Communication Skills",
           610000,
           "Georgia Institute Of Technology"
          ],
          [
           "Excel To Mysql: Analytic Techniques For Business",
           490000,
           "Duke University"
          ],
          [
           "Data Analysis And Presentation Skills: The Pwc Approach",
           220000,
           "Pwc"
          ],
          [
           "Web Design For Everybody: Basics Of Web Development & Coding",
           280000,
           "University Of Michigan"
          ],
          [
           "Aws Fundamentals",
           130000,
           "Amazon Web Services"
          ],
          [
           "Career Success",
           790000,
           "University Of California, Irvine"
          ],
          [
           "Java Programming And Software Engineering Fundamentals",
           380000,
           "Duke University"
          ],
          [
           "Ui / Ux Design",
           68000,
           "California Institute Of The Arts"
          ],
          [
           "Construction Management",
           61000,
           "Columbia University"
          ],
          [
           "Social Media Marketing",
           130000,
           "Northwestern University"
          ],
          [
           "Supply Chain Management",
           82000,
           "Rutgers The State University Of New Jersey"
          ],
          [
           "Achieving Personal And Professional Success",
           110000,
           "University Of Pennsylvania"
          ],
          [
           "Human Resource Management: Hr For People Managers",
           98000,
           "University Of Minnesota"
          ],
          [
           "Digital Product Management",
           140000,
           "University Of Virginia"
          ],
          [
           "Mathematics For Machine Learning",
           150000,
           "Imperial College London"
          ],
          [
           "Ai Foundations For Everyone",
           61000,
           "Ibm"
          ],
          [
           "Creative Writing",
           140000,
           "Wesleyan University"
          ],
          [
           "Epidemiology In Public Health Practice",
           31000,
           "Johns Hopkins University"
          ],
          [
           "Leading People And Teams",
           220000,
           "University Of Michigan"
          ],
          [
           "Academic English: Writing",
           540000,
           "University Of California, Irvine"
          ],
          [
           "Software Product Management",
           110000,
           "University Of Alberta"
          ],
          [
           "The Business Of Health Care",
           22000,
           "University Of Pennsylvania"
          ],
          [
           "Fintech: Foundations & Applications Of Financial Technology",
           20000,
           "University Of Pennsylvania"
          ],
          [
           "Tesol Certificate, Part 1: Teach English Now!",
           100000,
           "Arizona State University"
          ],
          [
           "Data Visualization With Tableau",
           96000,
           "University Of California, Davis"
          ],
          [
           "Learn Sql Basics For Data Science",
           160000,
           "University Of California, Davis"
          ],
          [
           "Agile Development",
           94000,
           "University Of Virginia"
          ],
          [
           "Genomic Data Science",
           80000,
           "Johns Hopkins University"
          ],
          [
           "Algorithms",
           150000,
           "Stanford University"
          ],
          [
           "Geographic Information Systems  (Gis)",
           97000,
           "University Of California, Davis"
          ],
          [
           "Investment Management",
           99000,
           "University Of Geneva"
          ],
          [
           "The Diy Musician",
           120000,
           "Berklee College Of Music"
          ],
          [
           "Reinforcement Learning",
           23000,
           "University Of Alberta"
          ],
          [
           "Statistics With R",
           220000,
           "Duke University"
          ],
          [
           "Object Oriented Programming In Java",
           330000,
           "Duke University"
          ],
          [
           "Methods And Statistics In Social Sciences",
           260000,
           "University Of Amsterdam"
          ],
          [
           "Full-Stack Web Development With React",
           140000,
           "The Hong Kong University Of Science And Technology"
          ],
          [
           "Managing Innovation And Design Thinking",
           23000,
           "Hec Paris"
          ],
          [
           "Strategic Leadership And Management",
           100000,
           "University Of Illinois At Urbana-Champaign"
          ],
          [
           "Music Production",
           70000,
           "Berklee College Of Music"
          ],
          [
           "Cisco Networking Basics",
           57000,
           "Cisco"
          ],
          [
           "Business Statistics And Analysis",
           110000,
           "Rice University"
          ],
          [
           "The Business Of Music Production",
           84000,
           "Berklee College Of Music"
          ],
          [
           "It Fundamentals For Cybersecurity",
           35000,
           "Ibm"
          ],
          [
           "Advanced Machine Learning",
           190000,
           "National Research University Higher School Of Economics"
          ],
          [
           "Business Strategy",
           89000,
           "University Of Virginia"
          ],
          [
           "Photography Basics And Beyond: From Smartphone To Dslr",
           160000,
           "Michigan State University"
          ],
          [
           "Full Stack Web And Multiplatform Mobile App Development",
           150000,
           "The Hong Kong University Of Science And Technology"
          ],
          [
           "Learn Spanish: Basic Spanish Vocabulary",
           80000,
           "University Of California, Davis"
          ],
          [
           "G Suite Administration",
           10000,
           "Google Cloud"
          ],
          [
           "Organizational Leadership",
           92000,
           "Northwestern University"
          ],
          [
           "User Experience Research And Design",
           23000,
           "University Of Michigan"
          ],
          [
           "The Singer Songwriter",
           320000,
           "Berklee College Of Music"
          ],
          [
           "Anatomy",
           30000,
           "University Of Michigan"
          ],
          [
           "Intellectual Property Law",
           8700,
           "University Of Pennsylvania"
          ],
          [
           "Electronic Music Production",
           110000,
           "Berklee College Of Music"
          ],
          [
           "Excel/Vba For Creative Problem Solving",
           56000,
           "University Of Colorado Boulder"
          ],
          [
           "Machine Learning With Tensorflow On Google Cloud Platform",
           72000,
           "Google Cloud"
          ],
          [
           "Business Strategies For A Better World",
           24000,
           "University Of Pennsylvania"
          ],
          [
           "Statistics With Python",
           34000,
           "University Of Michigan"
          ],
          [
           "Interaction Design",
           150000,
           "University Of California San Diego"
          ],
          [
           "Fundamentals Of Immunology",
           20000,
           "Rice University"
          ],
          [
           "Biostatistics In Public Health",
           14000,
           "Johns Hopkins University"
          ],
          [
           "Машинное Обучение И Анализ Данных",
           77000,
           "E-Learning Development Fund"
          ],
          [
           "The Art Of Sales: Mastering The Selling Process",
           23000,
           "Northwestern University"
          ],
          [
           "(Isc)² Systems Security Certified Practitioner (Sscp)",
           5300,
           "(Isc)²"
          ],
          [
           "Executive Data Science",
           170000,
           "Johns Hopkins University"
          ],
          [
           "Marketing Mix Implementation",
           93000,
           "Ie Business School"
          ],
          [
           "Accelerated Computer Science Fundamentals",
           22000,
           "University Of Illinois At Urbana-Champaign"
          ],
          [
           "Blockchain Revolution",
           21000,
           "Insead"
          ],
          [
           "Futures Thinking",
           9400,
           "Institute For The Future"
          ],
          [
           "Investment Management With Python And Machine Learning",
           14000,
           "Edhec Business School"
          ],
          [
           "Data Science: Statistics And Machine Learning",
           210000,
           "Johns Hopkins University"
          ],
          [
           "Financial Management",
           76000,
           "University Of Illinois At Urbana-Champaign"
          ],
          [
           "Functional Programming In Scala",
           220000,
           "École Polytechnique Fédérale De Lausanne"
          ],
          [
           "An Introduction To Programming The Internet Of Things (Iot)",
           270000,
           "University Of California, Irvine"
          ],
          [
           "Self-Driving Cars",
           39000,
           "University Of Toronto"
          ],
          [
           "Learn Chinese: Hsk Test Preparation",
           43000,
           "Peking University"
          ],
          [
           "Искусство Разработки На Современном C++",
           68000,
           "E-Learning Development Fund"
          ],
          [
           "Advanced Data Science With Ibm",
           320000,
           "Ibm"
          ],
          [
           "Финансовые Инструменты Для Частного Инвестора",
           38000,
           "National Research University Higher School Of Economics"
          ],
          [
           "Fundamentals Of Computing",
           200000,
           "Rice University"
          ],
          [
           "Dynamic Public Speaking",
           110000,
           "University Of Washington"
          ],
          [
           "Six Sigma Green Belt",
           18000,
           "University System Of Georgia"
          ],
          [
           "Business English Communication Skills",
           120000,
           "University Of Washington"
          ],
          [
           "Statistical Analysis With R For Public Health",
           16000,
           "Imperial College London"
          ],
          [
           "Integrative Health And Medicine",
           14000,
           "University Of Minnesota"
          ],
          [
           "Learn English: Intermediate Grammar",
           120000,
           "University Of California, Irvine"
          ],
          [
           "Hotel Management: Distribution, Revenue And Demand Management",
           28000,
           "Essec Business School"
          ],
          [
           "Machine Learning For Trading",
           15000,
           "Google Cloud"
          ],
          [
           "Russian For Beginners А1. Русский Язык: A1",
           7000,
           "Saint Petersburg State University"
          ],
          [
           "Machine Learning",
           290000,
           "University Of Washington"
          ],
          [
           "Web Applications For Everybody",
           120000,
           "University Of Michigan"
          ],
          [
           "Introduction To Cyber Security",
           32000,
           "New York University"
          ],
          [
           "Inspired Leadership",
           97000,
           "Case Western Reserve University"
          ],
          [
           "Software Design And Architecture",
           60000,
           "University Of Alberta"
          ],
          [
           "Music Business",
           42000,
           "Berklee College Of Music"
          ],
          [
           "Introduction To Programming In C",
           82000,
           "Duke University"
          ],
          [
           "Investment And Portfolio Management",
           49000,
           "Rice University"
          ],
          [
           "Introduction To Discrete Mathematics For Computer Science",
           75000,
           "National Research University Higher School Of Economics"
          ],
          [
           "Claves De La Dirección De Empresas",
           51000,
           "Iese Business School"
          ],
          [
           "Strategic Management And Innovation",
           68000,
           "Copenhagen Business School"
          ],
          [
           "From Data To Insights With Google Cloud Platform",
           26000,
           "Google Cloud"
          ],
          [
           "Developing Your Musicianship",
           54000,
           "Berklee College Of Music"
          ],
          [
           "Game Design And Development",
           100000,
           "Michigan State University"
          ],
          [
           "Programming With Google Go",
           18000,
           "University Of California, Irvine"
          ],
          [
           "Foundations Of Management",
           64000,
           "Iese Business School"
          ],
          [
           "Marketing Strategy",
           57000,
           "Ie Business School"
          ],
          [
           "Pricing Strategy Optimization",
           20000,
           "Bcg"
          ],
          [
           "Tensorflow: Data And Deployment",
           12000,
           "Deeplearning.Ai"
          ],
          [
           "Inspirational Leadership: Leading With Sense",
           72000,
           "Hec Paris"
          ],
          [
           "Trading Strategies In Emerging Markets",
           68000,
           "Indian School Of Business"
          ],
          [
           "C# Programming For Unity Game Development",
           36000,
           "University Of Colorado System"
          ],
          [
           "Influencing: Storytelling, Change Management And Governance",
           22000,
           "Macquarie University"
          ],
          [
           "Negotiation, Mediation And Conflict Resolution",
           22000,
           "Essec Business School"
          ],
          [
           "Habilidades Gerenciales",
           43000,
           "Universidad Nacional Autónoma De México"
          ],
          [
           "Business Technology Management",
           67000,
           "Indian School Of Business"
          ],
          [
           "Tesol Certificate, Part 2: Teach English Now!",
           62000,
           "Arizona State University"
          ],
          [
           "Программирование На Python",
           52000,
           "Mail.Ru Group"
          ],
          [
           "Digital Manufacturing & Design Technology",
           37000,
           "University At Buffalo"
          ],
          [
           "Branding: The Creative Journey",
           26000,
           "Ie Business School"
          ],
          [
           "Digital Advertising Strategy",
           9000,
           "University Of Colorado Boulder"
          ],
          [
           "Algorithms For Battery Management Systems",
           14000,
           "University Of Colorado System"
          ],
          [
           "Health Informatics",
           8100,
           "Johns Hopkins University"
          ],
          [
           "U.S. Federal Taxation",
           12000,
           "University Of Illinois At Urbana-Champaign"
          ],
          [
           "Advanced Business Analytics",
           78000,
           "University Of Colorado Boulder"
          ],
          [
           "Culture-Driven Team Building",
           17000,
           "University Of Pennsylvania"
          ],
          [
           "Blockchain",
           68000,
           "University At Buffalo"
          ],
          [
           "Introduction To Computer Science And Programming",
           32000,
           "Goldsmiths, University Of London"
          ],
          [
           "Object Oriented Java Programming: Data Structures And Beyond",
           250000,
           "University Of California San Diego"
          ],
          [
           "Memoir And Personal Essay: Write About Yourself",
           13000,
           "Wesleyan University"
          ],
          [
           "Financial Markets And Investment Strategy",
           60000,
           "Indian School Of Business"
          ],
          [
           "Value Chain Management",
           63000,
           "University Of Illinois At Urbana-Champaign"
          ],
          [
           "Energy Production, Distribution & Safety",
           37000,
           "University At Buffalo"
          ],
          [
           "Learn English: Advanced Grammar And Punctuation",
           52000,
           "University Of California, Irvine"
          ],
          [
           "Content Strategy For Professionals",
           27000,
           "Northwestern University"
          ],
          [
           "Coaching Skills For Managers",
           37000,
           "University Of California, Davis"
          ],
          [
           "Gis, Mapping, And Spatial Analysis",
           140000,
           "University Of Toronto"
          ],
          [
           "Data Warehousing For Business Intelligence",
           140000,
           "University Of Colorado System"
          ],
          [
           "Responsive Website Development And Design",
           170000,
           "Goldsmiths, University Of London"
          ],
          [
           "Entrepreneurial Finance: Strategy And Innovation",
           7900,
           "Duke University"
          ],
          [
           "Introduction To Scripting In Python",
           49000,
           "Rice University"
          ],
          [
           "Become A Journalist: Report The News!",
           28000,
           "Michigan State University"
          ],
          [
           "Fundamentals Of Accounting",
           39000,
           "University Of Illinois At Urbana-Champaign"
          ],
          [
           "Modern Big Data Analysis With Sql",
           14000,
           "Cloudera"
          ],
          [
           "Virtual Teacher",
           23000,
           "University Of California, Irvine"
          ],
          [
           "Presentation Skills: Speechwriting, Slides And Delivery",
           47000,
           "E-Learning Development Fund"
          ],
          [
           "Patient Safety",
           8800,
           "Johns Hopkins University"
          ],
          [
           "Foundations Of Global Health",
           31000,
           "Johns Hopkins University"
          ],
          [
           "Robotics",
           120000,
           "University Of Pennsylvania"
          ],
          [
           "Practical Data Science With Matlab",
           10000,
           "Mathworks"
          ],
          [
           "Advanced Machine Learning With Tensorflow On Google Cloud Platform",
           35000,
           "Google Cloud"
          ],
          [
           "Marketing Digital",
           39000,
           "Universidad Austral"
          ],
          [
           "Modern Robotics:  Mechanics, Planning, And Control",
           21000,
           "Northwestern University"
          ],
          [
           "Medical Cannabis: The Health Effects Of Thc And Cbd",
           4800,
           "University Of Colorado Boulder"
          ],
          [
           "Foundational Finance For Strategic Decision Making",
           14000,
           "University Of Michigan"
          ],
          [
           "Developing Apis With Google Cloud'S Apigee Api Platform",
           16000,
           "Google Cloud"
          ],
          [
           "Newborn Baby Care",
           5300,
           "University Of Colorado System"
          ],
          [
           "Survey Data Collection And Analytics",
           45000,
           "University Of Maryland, College Park"
          ],
          [
           "Power Electronics",
           67000,
           "University Of Colorado Boulder"
          ],
          [
           "Cloud Computing",
           110000,
           "University Of Illinois At Urbana-Champaign"
          ],
          [
           "Machine Learning And Reinforcement Learning In Finance",
           29000,
           "New York University"
          ],
          [
           "Good With Words: Writing And Editing",
           3800,
           "University Of Michigan"
          ],
          [
           "Financial Technology (Fintech) Innovations",
           6500,
           "University Of Michigan"
          ],
          [
           "Learn Mandarin Chinese",
           39000,
           "Shanghai Jiao Tong University"
          ],
          [
           "Finanzas Corporativas",
           30000,
           "Universidad Nacional Autónoma De México"
          ],
          [
           "Marketing Con Redes Sociales",
           60000,
           "Tecnológico De Monterrey"
          ],
          [
           "School Health For Children And Adolescents",
           9100,
           "University Of Colorado System"
          ],
          [
           "Fundraising And Development",
           4900,
           "University Of California, Davis"
          ],
          [
           "Cybersecurity",
           99000,
           "University Of Maryland, College Park"
          ],
          [
           "Healthcare Law",
           1700,
           "University Of Pennsylvania"
          ],
          [
           "Market Research",
           22000,
           "University Of California, Davis"
          ],
          [
           "Swift 5 Ios Application Developer",
           3900,
           "Learnquest"
          ],
          [
           "Android App Development",
           120000,
           "Vanderbilt University"
          ],
          [
           "Computational Social Science",
           5800,
           "University Of California, Davis"
          ],
          [
           "Learn English: Advanced Academic Speaking And Listening",
           78000,
           "University Of California, Irvine"
          ],
          [
           "Infectious Disease Modelling",
           1600,
           "Imperial College London"
          ],
          [
           "Software Development Lifecycle",
           34000,
           "University Of Minnesota"
          ],
          [
           "Основы Digital Маркетинга",
           19000,
           "National Research University Higher School Of Economics"
          ],
          [
           "Virtual Reality",
           37000,
           "Goldsmiths, University Of London"
          ],
          [
           "Managerial Economics And Business Analysis",
           55000,
           "University Of Illinois At Urbana-Champaign"
          ],
          [
           "Open Source Software Development, Linux And Git",
           13000,
           "The Linux Foundation"
          ],
          [
           "Healthcare Marketplace",
           36000,
           "University Of Minnesota"
          ],
          [
           "Epidemiology For Public Health",
           6400,
           "Imperial College London"
          ],
          [
           "Supply Chain Finance And Blockchain Technology",
           4900,
           "New York Institute Of Finance"
          ],
          [
           "Leading: Human Resource Management And Leadership",
           16000,
           "Macquarie University"
          ],
          [
           "Data Mining",
           140000,
           "University Of Illinois At Urbana-Champaign"
          ],
          [
           "Essentials Of Corporate Finance",
           54000,
           "The University Of Melbourne"
          ],
          [
           "Architecting With Google Cloud Platform 日本語版",
           4200,
           "Google Cloud"
          ],
          [
           "Conflict Management",
           66000,
           "University Of California, Irvine"
          ],
          [
           "Parallel, Concurrent, And Distributed Programming In Java",
           30000,
           "Rice University"
          ],
          [
           "International Business Essentials",
           22000,
           "University Of London"
          ],
          [
           "Climate Change And Health: From Science To Action",
           4800,
           "Yale University"
          ],
          [
           "The Teacher And Social And Emotional Learning (Sel)",
           5200,
           "University Of Colorado Boulder"
          ],
          [
           "Blockchain Revolution In Financial Services",
           1600,
           "Insead"
          ],
          [
           "Autodesk Cad/Cam/Cae For Mechanical Engineering",
           9200,
           "Autodesk"
          ],
          [
           "Optical Engineering",
           6200,
           "University Of Colorado Boulder"
          ],
          [
           "Competitive Strategy And Organization Design",
           350000,
           "Ludwig-Maximilians-Universität München (Lmu)"
          ],
          [
           "Mathematics For Data Science",
           12000,
           "National Research University Higher School Of Economics"
          ],
          [
           "Systems Biology And Biotechnology",
           48000,
           "Icahn School Of Medicine At Mount Sinai"
          ],
          [
           "Information​ ​Systems",
           16000,
           "University Of Minnesota"
          ],
          [
           "Искусство Ведения Бизнеса",
           14000,
           "Saint Petersburg State University"
          ],
          [
           "Cybersecurity For Business",
           23000,
           "University Of Colorado System"
          ],
          [
           "Big Data – Introducción Al Uso Práctico De Datos Masivos",
           8800,
           "Universitat Autònoma De Barcelona"
          ],
          [
           "Entrepreneurship: Launching An Innovative Business",
           69000,
           "University Of Maryland, College Park"
          ],
          [
           "Plant Bioinformatic Methods",
           83000,
           "University Of Toronto"
          ],
          [
           "Graphic Design Elements For Non-Designers",
           10000,
           "University Of Colorado Boulder"
          ],
          [
           "Foundations Of Public Health Practice",
           3200,
           "Imperial College London"
          ],
          [
           "Palo Alto Networks Cybersecurity",
           9100,
           "Palo Alto Networks"
          ],
          [
           "Fintech: Finance Industry Transformation And Regulation",
           13000,
           "The Hong Kong University Of Science And Technology"
          ],
          [
           "Information Visualization",
           10000,
           "New York University"
          ],
          [
           "Разработка Интерфейсов: Вёрстка И Javascript",
           30000,
           "E-Learning Development Fund"
          ],
          [
           "English For Research Publication Purposes",
           42000,
           "Moscow Institute Of Physics And Technology"
          ],
          [
           "Recommender Systems",
           29000,
           "University Of Minnesota"
          ],
          [
           "Implementación Del Marketing Mix",
           23000,
           "Ie Business School"
          ],
          [
           "Mastering Software Development In R",
           52000,
           "Johns Hopkins University"
          ],
          [
           "Foundations Of Marketing Analytics",
           27000,
           "Emory University"
          ],
          [
           "Ibm Ai Enterprise Workflow",
           3500,
           "Ibm"
          ],
          [
           "Architecting With Google Kubernetes Engine 日本語版",
           3900,
           "Google Cloud"
          ],
          [
           "Social Policy For Social Services & Health Practitioners",
           4200,
           "Columbia University"
          ],
          [
           "Interviewing And Resume Writing In English",
           66000,
           "University Of Maryland, College Park"
          ],
          [
           "Strategic Sales Management",
           9200,
           "Fundação Instituto De Administração"
          ],
          [
           "Healthcare Organization Operations",
           5500,
           "Rutgers The State University Of New Jersey"
          ],
          [
           "Sales Operations/Management",
           5600,
           "West Virginia University"
          ],
          [
           "Éxito Profesional",
           69000,
           "University Of California, Irvine"
          ],
          [
           "How To Start Your Own Business",
           34000,
           "Michigan State University"
          ],
          [
           "Business English",
           38000,
           "Arizona State University"
          ],
          [
           "User Interface Design",
           43000,
           "University Of Minnesota"
          ],
          [
           "International Marketing & Cross Industry Growth",
           26000,
           "Yonsei University"
          ],
          [
           "Unity Xr: How To Build Ar And Vr Apps",
           12000,
           "Unity"
          ],
          [
           "Computer Security And Systems Management",
           27000,
           "University Of Colorado System"
          ],
          [
           "Implementing Rpa With Cognitive Automation And Analytics",
           2200,
           "Automation Anywhere"
          ],
          [
           "Developing Applications With Google Cloud Platform 日本語版",
           4000,
           "Google Cloud"
          ],
          [
           "Strategic Business Analytics",
           60000,
           "Essec Business School"
          ],
          [
           "Leadership Development For Engineers",
           17000,
           "Rice University"
          ],
          [
           "Innovation: From Creativity To Entrepreneurship",
           25000,
           "University Of Illinois At Urbana-Champaign"
          ],
          [
           "Diseño Instruccional: Aprendizaje Activo Y Pedagogía Digital",
           4000,
           "Tecnológico De Monterrey"
          ],
          [
           "Data Engineering On Google Cloud Platform 日本語版",
           3000,
           "Google Cloud"
          ],
          [
           "Financial Reporting",
           12000,
           "University Of Illinois At Urbana-Champaign"
          ],
          [
           "Esports",
           1800,
           "University Of California, Irvine"
          ],
          [
           "Liderazgo Efectivo Para El Siglo Xxi",
           23000,
           "Universidad De Los Andes"
          ],
          [
           "Homeland Security And Cybersecurity",
           5500,
           "University Of Colorado System"
          ],
          [
           "Communication Skills For Engineers",
           15000,
           "Rice University"
          ],
          [
           "Globalization, Economic Growth And Stability",
           44000,
           "Ie Business School"
          ],
          [
           "Developing Industrial Internet Of Things",
           8000,
           "University Of Colorado Boulder"
          ],
          [
           "Корпоративные Финансы И Стоимость Компании",
           16000,
           "National Research University Higher School Of Economics"
          ],
          [
           "Emerging Technologies: From Smartphones To Iot To Big Data",
           17000,
           "Yonsei University"
          ],
          [
           "Health Information Literacy For Data Analytics",
           5400,
           "University Of California, Davis"
          ],
          [
           "Introdução Aos Princípios E Práticas Da Gestão De Projetos",
           4500,
           "Universidade De São Paulo"
          ],
          [
           "Fundamentos Empresariales",
           25000,
           "University Of Pennsylvania"
          ],
          [
           "Improving Leadership & Governance In Nonprofit Organizations",
           18000,
           "Luther College At The University Of Regina"
          ],
          [
           "L'Impact Investing, La Finance Qui Change Le Monde",
           6300,
           "Essec Business School"
          ],
          [
           "Analysing: Numeric And Digital Literacies",
           7900,
           "Macquarie University"
          ],
          [
           "Spacecraft Dynamics And Control",
           12000,
           "University Of Colorado Boulder"
          ],
          [
           "Palliative Care: It'S Not Just Hospice Anymore",
           3200,
           "University Of Colorado System"
          ],
          [
           "Ios App Development With Swift",
           76000,
           "University Of Toronto"
          ],
          [
           "Sales Training For High Performing Teams",
           16000,
           "Hubspot Academy"
          ],
          [
           "Learn English",
           22000,
           "Tsinghua University"
          ],
          [
           "Creatividad, Diseño E Innovación: Técnicas Y Herramientas",
           150000,
           "Arizona State University"
          ],
          [
           "Strategising: Management For Global Competitive Advantage",
           30000,
           "Macquarie University"
          ],
          [
           "Become A Sustainable Business Change Agent",
           4200,
           "University Of Colorado System"
          ],
          [
           "Data Analysis And Interpretation",
           100000,
           "Wesleyan University"
          ],
          [
           "Social Entrepreneurship",
           13000,
           "Copenhagen Business School"
          ],
          [
           "The Pronunciation Of American English",
           1700,
           "University Of California, Irvine"
          ],
          [
           "Secure Coding Practices",
           6400,
           "University Of California, Davis"
          ],
          [
           "Fundamentos Estratégicos Empresariales",
           56000,
           "Universidad Nacional Autónoma De México"
          ],
          [
           "Unity Certified Programmer Exam Preparation",
           6100,
           "Unity"
          ],
          [
           "Requirements Engineering: Secure Software  Specifications",
           7200,
           "University Of Colorado System"
          ],
          [
           "Русский Как Иностранный",
           9800,
           "Saint Petersburg State University"
          ],
          [
           "Evaluación Educativa",
           13000,
           "Universidad Nacional Autónoma De México"
          ],
          [
           "Autodesk Cad/Cam For Manufacturing",
           7300,
           "Autodesk"
          ],
          [
           "Understanding Modern Finance",
           11000,
           "American Institute Of Business And Economics"
          ],
          [
           "Aprende A Programar Con Python",
           6600,
           "Universidad Austral"
          ]
         ],
         "hovertemplate": "Title: <b>%{customdata[0]}</b><br>Students Enrolled: %{customdata[1]:,.0f}<br>Organization: %{customdata[2]}<br>Rating: %{x}<br>",
         "legendgroup": "Specialization",
         "marker": {
          "color": "#EF553B"
         },
         "name": "Specialization",
         "notched": false,
         "offsetgroup": "Specialization",
         "orientation": "h",
         "showlegend": true,
         "type": "box",
         "x": [
          4.6,
          4.8,
          4.8,
          4.7,
          4.6,
          4.7,
          4.9,
          4.5,
          4.6,
          4.5,
          4.6,
          4.7,
          4.7,
          4.7,
          4.5,
          4.6,
          4.5,
          4.7,
          4.6,
          4.7,
          4.6,
          4.8,
          4.8,
          4.7,
          4.7,
          4.6,
          4.6,
          4.7,
          4.6,
          4.4,
          4.6,
          4.7,
          4.7,
          4.6,
          4.7,
          4.7,
          4.7,
          4.7,
          4.6,
          4.7,
          4.6,
          4.7,
          4.7,
          4.7,
          4.6,
          4.6,
          4.6,
          4.9,
          4.5,
          4.6,
          4.7,
          4.4,
          4.8,
          4.8,
          4.7,
          4.8,
          4.7,
          4.7,
          4.6,
          4.6,
          4.7,
          4.7,
          4.7,
          4.8,
          4.7,
          4.7,
          4.8,
          4.5,
          4.5,
          4.7,
          4.7,
          4.7,
          4.6,
          4.7,
          4.7,
          4.8,
          4.8,
          4.8,
          4.8,
          4.8,
          4.8,
          4.5,
          4.7,
          4.6,
          4.5,
          4.7,
          4.8,
          4.7,
          4.7,
          4.7,
          4.5,
          4.6,
          4.7,
          4.7,
          4.8,
          4.6,
          4.4,
          4.7,
          4.7,
          4.6,
          4.7,
          4.8,
          4.9,
          4.4,
          4.7,
          4.8,
          4.7,
          4.7,
          4.7,
          4.7,
          4.8,
          4.7,
          4.6,
          3.9,
          4.7,
          4.6,
          4.8,
          4.7,
          4.7,
          4.6,
          4.8,
          4.7,
          4.5,
          4.4,
          4.8,
          4.7,
          4.6,
          4.8,
          4.7,
          4.6,
          4.8,
          4.4,
          4.8,
          4.5,
          4.5,
          4.3,
          4.7,
          4.8,
          4.7,
          4.7,
          4.5,
          4.9,
          4.5,
          4.6,
          4.6,
          4.4,
          4.8,
          4.5,
          4.8,
          4.5,
          4.6,
          4.6,
          4.3,
          4.7,
          4.3,
          4.5,
          4.7,
          4.7,
          4.8,
          4.5,
          4.7,
          4.8,
          4.5,
          4.5,
          4.5,
          4.7,
          4.7,
          4.6,
          4.8,
          4.3,
          4.6,
          4.8,
          4.7,
          4.4,
          4.7,
          4.5,
          4.7,
          4.7,
          4.8,
          4.8,
          4.6,
          4.8,
          4.3,
          4.8,
          4.4,
          3.7,
          4.6,
          4.7,
          4.8,
          4.6,
          4.4,
          4.8,
          4.6,
          4.5,
          4.7,
          4.5,
          4.5,
          4.5,
          4.6,
          4.5,
          5,
          4.6,
          4.5,
          4.7,
          4.7,
          4.4,
          4.4,
          4.7,
          4.6,
          4.8,
          4.4,
          4.6,
          4.5,
          4.3,
          4.5,
          4.5,
          4.6,
          4.7,
          4.6,
          4.8,
          4.2,
          4.7,
          4.5,
          4.4,
          4.7,
          4.6,
          4.6,
          4.5,
          4.6,
          4.7,
          4.7,
          4.8,
          4.6,
          4.6,
          4.6,
          4.5,
          4.6,
          4.3,
          4.7,
          4.3,
          4.2,
          4.4,
          4.5,
          4.8,
          4.6,
          4.5,
          4.6,
          4.4,
          4.5,
          4.1,
          4.7,
          4.6,
          4.6,
          4.2,
          4.6,
          4.6,
          4.8,
          4.3,
          4.7,
          4.8,
          4.6,
          4.4,
          4.8,
          4.5,
          4.8,
          4.7,
          4.7,
          4.8,
          4.6,
          4.5,
          4.6,
          4.5,
          4.9,
          4.6,
          4.4,
          4.6,
          4.6,
          4.8,
          4.8,
          3.9,
          4.7,
          4.3,
          4.7,
          4.8,
          4.7,
          4.4,
          4.6,
          4.6,
          4.4,
          4.6,
          4.5,
          4.6,
          4.6,
          4.8,
          4.8,
          4.4,
          4.2
         ],
         "x0": " ",
         "xaxis": "x",
         "y": [
          "Beginner",
          "Beginner",
          "Intermediate",
          "Beginner",
          "Beginner",
          "Intermediate",
          "Beginner",
          "Beginner",
          "Beginner",
          "Beginner",
          "Beginner",
          "Intermediate",
          "Intermediate",
          "Intermediate",
          "Beginner",
          "Intermediate",
          "Intermediate",
          "Intermediate",
          "Beginner",
          "Beginner",
          "Beginner",
          "Beginner",
          "Beginner",
          "Intermediate",
          "Beginner",
          "Beginner",
          "Beginner",
          "Beginner",
          "Beginner",
          "Beginner",
          "Beginner",
          "Beginner",
          "Beginner",
          "Beginner",
          "Beginner",
          "Beginner",
          "Beginner",
          "Beginner",
          "Beginner",
          "Beginner",
          "Beginner",
          "Beginner",
          "Beginner",
          "Beginner",
          "Beginner",
          "Beginner",
          "Beginner",
          "Beginner",
          "Beginner",
          "Beginner",
          "Beginner",
          "Intermediate",
          "Intermediate",
          "Beginner",
          "Beginner",
          "Beginner",
          "Intermediate",
          "Beginner",
          "Beginner",
          "Beginner",
          "Intermediate",
          "Beginner",
          "Beginner",
          "Beginner",
          "Beginner",
          "Beginner",
          "Beginner",
          "Beginner",
          "Advanced",
          "Beginner",
          "Beginner",
          "Intermediate",
          "Beginner",
          "Beginner",
          "Intermediate",
          "Beginner",
          "Beginner",
          "Beginner",
          "Intermediate",
          "Intermediate",
          "Beginner",
          "Intermediate",
          "Beginner",
          "Beginner",
          "Intermediate",
          "Intermediate",
          "Beginner",
          "Intermediate",
          "Beginner",
          "Beginner",
          "Beginner",
          "Beginner",
          "Intermediate",
          "Beginner",
          "Beginner",
          "Beginner",
          "Intermediate",
          "Intermediate",
          "Intermediate",
          "Beginner",
          "Advanced",
          "Beginner",
          "Intermediate",
          "Advanced",
          "Beginner",
          "Beginner",
          "Beginner",
          "Intermediate",
          "Intermediate",
          "Beginner",
          "Beginner",
          "Intermediate",
          "Beginner",
          "Intermediate",
          "Beginner",
          "Intermediate",
          "Intermediate",
          "Beginner",
          "Intermediate",
          "Beginner",
          "Beginner",
          "Beginner",
          "Beginner",
          "Beginner",
          "Beginner",
          "Beginner",
          "Beginner",
          "Beginner",
          "Intermediate",
          "Intermediate",
          "Beginner",
          "Beginner",
          "Beginner",
          "Intermediate",
          "Beginner",
          "Beginner",
          "Beginner",
          "Beginner",
          "Beginner",
          "Beginner",
          "Beginner",
          "Beginner",
          "Intermediate",
          "Beginner",
          "Beginner",
          "Beginner",
          "Intermediate",
          "Beginner",
          "Intermediate",
          "Intermediate",
          "Beginner",
          "Intermediate",
          "Beginner",
          "Intermediate",
          "Beginner",
          "Beginner",
          "Intermediate",
          "Beginner",
          "Advanced",
          "Beginner",
          "Intermediate",
          "Beginner",
          "Advanced",
          "Beginner",
          "Intermediate",
          "Beginner",
          "Beginner",
          "Beginner",
          "Beginner",
          "Beginner",
          "Beginner",
          "Beginner",
          "Beginner",
          "Beginner",
          "Beginner",
          "Advanced",
          "Beginner",
          "Intermediate",
          "Beginner",
          "Beginner",
          "Intermediate",
          "Beginner",
          "Beginner",
          "Intermediate",
          "Intermediate",
          "Intermediate",
          "Beginner",
          "Beginner",
          "Beginner",
          "Intermediate",
          "Intermediate",
          "Beginner",
          "Beginner",
          "Intermediate",
          "Intermediate",
          "Beginner",
          "Beginner",
          "Beginner",
          "Beginner",
          "Intermediate",
          "Intermediate",
          "Intermediate",
          "Intermediate",
          "Beginner",
          "Beginner",
          "Beginner",
          "Beginner",
          "Beginner",
          "Intermediate",
          "Intermediate",
          "Intermediate",
          "Intermediate",
          "Intermediate",
          "Beginner",
          "Intermediate",
          "Intermediate",
          "Beginner",
          "Beginner",
          "Beginner",
          "Intermediate",
          "Advanced",
          "Intermediate",
          "Beginner",
          "Intermediate",
          "Beginner",
          "Beginner",
          "Beginner",
          "Beginner",
          "Beginner",
          "Beginner",
          "Beginner",
          "Beginner",
          "Beginner",
          "Beginner",
          "Beginner",
          "Intermediate",
          "Intermediate",
          "Intermediate",
          "Beginner",
          "Beginner",
          "Intermediate",
          "Advanced",
          "Beginner",
          "Beginner",
          "Intermediate",
          "Intermediate",
          "Beginner",
          "Beginner",
          "Beginner",
          "Beginner",
          "Intermediate",
          "Intermediate",
          "Beginner",
          "Beginner",
          "Beginner",
          "Beginner",
          "Intermediate",
          "Advanced",
          "Beginner",
          "Beginner",
          "Beginner",
          "Intermediate",
          "Intermediate",
          "Beginner",
          "Intermediate",
          "Beginner",
          "Beginner",
          "Intermediate",
          "Intermediate",
          "Beginner",
          "Beginner",
          "Intermediate",
          "Beginner",
          "Beginner",
          "Beginner",
          "Beginner",
          "Beginner",
          "Advanced",
          "Beginner",
          "Intermediate",
          "Beginner",
          "Beginner",
          "Beginner",
          "Intermediate",
          "Intermediate",
          "Beginner",
          "Beginner",
          "Beginner",
          "Intermediate",
          "Beginner",
          "Intermediate",
          "Beginner",
          "Intermediate",
          "Beginner",
          "Intermediate",
          "Intermediate",
          "Beginner"
         ],
         "y0": " ",
         "yaxis": "y"
        },
        {
         "alignmentgroup": "True",
         "boxmean": true,
         "customdata": [
          [
           "The Science Of Well-Being",
           2500000,
           "Yale University"
          ],
          [
           "Machine Learning",
           3200000,
           "Stanford University"
          ],
          [
           "Financial Markets",
           470000,
           "Yale University"
          ],
          [
           "Covid-19 Contact Tracing",
           220000,
           "Johns Hopkins University"
          ],
          [
           "Introduction To Psychology",
           270000,
           "Yale University"
          ],
          [
           "Psychological First Aid",
           190000,
           "Johns Hopkins University"
          ],
          [
           "Successful Negotiation: Essential Strategies And Skills",
           750000,
           "University Of Michigan"
          ],
          [
           "Technical Support Fundamentals",
           280000,
           "Google"
          ],
          [
           "Programming For Everybody (Getting Started With Python)",
           1300000,
           "University Of Michigan"
          ],
          [
           "Ai For Everyone",
           350000,
           "Deeplearning.Ai"
          ],
          [
           "Primeros Auxilios Psicológicos (Pap)",
           280000,
           "Universitat Autònoma De Barcelona"
          ],
          [
           "Neural Networks And Deep Learning",
           630000,
           "Deeplearning.Ai"
          ],
          [
           "Stanford Introduction To Food And Health",
           370000,
           "Stanford University"
          ],
          [
           "Writing In The Sciences",
           140000,
           "Stanford University"
          ],
          [
           "Viral Marketing And How To Craft Contagious Content",
           150000,
           "University Of Pennsylvania"
          ],
          [
           "Brand Management: Aligning Business, Brand And Behaviour",
           57000,
           "London Business School"
          ],
          [
           "Management Of Fashion And Luxury Companies",
           120000,
           "Università Bocconi"
          ],
          [
           "Fundamentals Of Project Planning And Management",
           120000,
           "University Of Virginia"
          ],
          [
           "Social Psychology",
           220000,
           "Wesleyan University"
          ],
          [
           "Financial Accounting Fundamentals",
           65000,
           "University Of Virginia"
          ],
          [
           "What Is Data Science?",
           260000,
           "Ibm"
          ],
          [
           "Learning To Teach Online",
           68000,
           "Unsw Sydney (The University Of New South Wales)"
          ],
          [
           "Excel Skills For Business: Essentials",
           200000,
           "Macquarie University"
          ],
          [
           "Fashion As Design",
           180000,
           "The Museum Of Modern Art"
          ],
          [
           "Design Thinking For Innovation",
           240000,
           "University Of Virginia"
          ],
          [
           "Modern Art & Ideas",
           310000,
           "The Museum Of Modern Art"
          ],
          [
           "Food & Beverage Management",
           57000,
           "Università Bocconi"
          ],
          [
           "Become A Cbrs Certified Professional Installer By Google",
           210000,
           "Google - Spectrum Sharing"
          ],
          [
           "Camino A La Excelencia En Gestión De Proyectos",
           340000,
           "Pontificia Universidad Católica De Chile"
          ],
          [
           "Finding Purpose And Meaning In Life: Living For What Matters Most",
           36000,
           "University Of Michigan"
          ],
          [
           "Indigenous Canada",
           51000,
           "University Of Alberta"
          ],
          [
           "Python Data Structures",
           420000,
           "University Of Michigan"
          ],
          [
           "First Step Korean",
           400000,
           "Yonsei University"
          ],
          [
           "Private Equity And Venture Capital",
           79000,
           "Università Bocconi"
          ],
          [
           "Science Of Exercise",
           140000,
           "University Of Colorado Boulder"
          ],
          [
           "Improving Deep Neural Networks: Hyperparameter Tuning, Regularization And Optimization",
           270000,
           "Deeplearning.Ai"
          ],
          [
           "Ai For Medical Diagnosis",
           12000,
           "Deeplearning.Ai"
          ],
          [
           "The Bits And Bytes Of Computer Networking",
           130000,
           "Google"
          ],
          [
           "Introduction To Marketing",
           220000,
           "University Of Pennsylvania"
          ],
          [
           "The Strategy Of Content Marketing",
           100000,
           "University Of California, Davis"
          ],
          [
           "Design And Interpretation Of Clinical Trials",
           67000,
           "Johns Hopkins University"
          ],
          [
           "Game Theory",
           260000,
           "Stanford University"
          ],
          [
           "What Is Contemporary Art?",
           120000,
           "The Museum Of Modern Art"
          ],
          [
           "Tools For Data Science",
           120000,
           "Ibm"
          ],
          [
           "Python For Data Science And Ai",
           170000,
           "Ibm"
          ],
          [
           "Financial Engineering And Risk Management Part I",
           100000,
           "Columbia University"
          ],
          [
           "An Introduction To American Law",
           23000,
           "University Of Pennsylvania"
          ],
          [
           "Child Nutrition And Cooking",
           30000,
           "Stanford University"
          ],
          [
           "Fundamentals Of Graphic Design",
           290000,
           "California Institute Of The Arts"
          ],
          [
           "Fundamentals Of Quantitative Modeling",
           110000,
           "University Of Pennsylvania"
          ],
          [
           "Initiating And Planning Projects",
           180000,
           "University Of California, Irvine"
          ],
          [
           "Understanding Medical Research: Your Facebook Friend Is Wrong",
           24000,
           "Yale University"
          ],
          [
           "Forensic Accounting And Fraud Examination",
           42000,
           "West Virginia University"
          ],
          [
           "English For Career Development",
           760000,
           "University Of Pennsylvania"
          ],
          [
           "Moral Foundations Of Politics",
           100000,
           "Yale University"
          ],
          [
           "Crash Course On Python",
           81000,
           "Google"
          ],
          [
           "Vital Signs: Understanding What The Body Is Telling Us",
           190000,
           "University Of Pennsylvania"
          ],
          [
           "Introduction To Data Science In Python",
           390000,
           "University Of Michigan"
          ],
          [
           "Structuring Machine Learning Projects",
           220000,
           "Deeplearning.Ai"
          ],
          [
           "Étudier En France: French Intermediate Course B1-B2",
           190000,
           "École Polytechnique"
          ],
          [
           "Global Diplomacy – Diplomacy In The Modern World",
           79000,
           "Soas University Of London"
          ],
          [
           "International Women'S Health And Human Rights",
           35000,
           "Stanford University"
          ],
          [
           "Introduction To The Biology Of Cancer",
           110000,
           "Johns Hopkins University"
          ],
          [
           "Data Science Methodology",
           89000,
           "Ibm"
          ],
          [
           "Using Python To Access Web Data",
           310000,
           "University Of Michigan"
          ],
          [
           "Sports Marketing",
           12000,
           "Northwestern University"
          ],
          [
           "Animal Behaviour And Welfare",
           71000,
           "The University Of Edinburgh"
          ],
          [
           "Introduction To Financial Accounting",
           200000,
           "University Of Pennsylvania"
          ],
          [
           "Convolutional Neural Networks",
           240000,
           "Deeplearning.Ai"
          ],
          [
           "Autism Spectrum Disorder",
           56000,
           "University Of California, Davis"
          ],
          [
           "Agile With Atlassian Jira",
           40000,
           "Atlassian"
          ],
          [
           "Write Professional Emails In English",
           270000,
           "Georgia Institute Of Technology"
          ],
          [
           "Medical Neuroscience",
           170000,
           "Duke University"
          ],
          [
           "Positive Psychiatry And Mental Health",
           72000,
           "The University Of Sydney"
          ],
          [
           "Excel Skills For Business: Intermediate I",
           76000,
           "Macquarie University"
          ],
          [
           "Computational Thinking For Problem Solving",
           33000,
           "University Of Pennsylvania"
          ],
          [
           "Mathematics For Machine Learning: Linear Algebra",
           140000,
           "Imperial College London"
          ],
          [
           "English For Business And Entrepreneurship",
           230000,
           "University Of Pennsylvania"
          ],
          [
           "Google Cloud Platform Big Data And Machine Learning Fundamentals",
           120000,
           "Google Cloud"
          ],
          [
           "International Leadership And Organizational Behavior",
           41000,
           "Università Bocconi"
          ],
          [
           "Economics Of Money And Banking",
           83000,
           "Columbia University"
          ],
          [
           "Introduction To Tensorflow For Artificial Intelligence, Machine Learning, And Deep Learning",
           150000,
           "Deeplearning.Ai"
          ],
          [
           "Wine Tasting: Sensory Techniques For Wine Analysis",
           32000,
           "University Of California, Davis"
          ],
          [
           "Introduction To Philosophy",
           370000,
           "The University Of Edinburgh"
          ],
          [
           "Positive Psychology: Martin E. P. Seligman’S Visionary Science",
           50000,
           "University Of Pennsylvania"
          ],
          [
           "Marketing Digital",
           81000,
           "Universidade De São Paulo"
          ],
          [
           "The Data Scientist’S Toolbox",
           420000,
           "Johns Hopkins University"
          ],
          [
           "Entrepreneurship 1: Developing The Opportunity",
           86000,
           "University Of Pennsylvania"
          ],
          [
           "Understanding The Brain: The Neurobiology Of Everyday Life",
           130000,
           "The University Of Chicago"
          ],
          [
           "Introduction To Systematic Review And Meta-Analysis",
           67000,
           "Johns Hopkins University"
          ],
          [
           "Nutrición Y Obesidad: Control De Sobrepeso",
           100000,
           "Universidad Nacional Autónoma De México"
          ],
          [
           "Introduction To Dental Medicine",
           25000,
           "University Of Pennsylvania"
          ],
          [
           "Everyday Excel, Part 1",
           11000,
           "University Of Colorado Boulder"
          ],
          [
           "Finance For Non-Finance Professionals",
           69000,
           "Rice University"
          ],
          [
           "Learn To Program: The Fundamentals",
           180000,
           "University Of Toronto"
          ],
          [
           "Understanding Research Methods",
           120000,
           "Soas University Of London"
          ],
          [
           "Databases And Sql For Data Science",
           110000,
           "Ibm"
          ],
          [
           "Machine Learning For Business Professionals",
           58000,
           "Google Cloud"
          ],
          [
           "An Introduction To Consumer Neuroscience & Neuromarketing",
           69000,
           "Copenhagen Business School"
          ],
          [
           "Advanced Valuation And Strategy - M&A, Private Equity, And Venture Capital",
           29000,
           "Erasmus University Rotterdam"
          ],
          [
           "Gamification",
           110000,
           "University Of Pennsylvania"
          ],
          [
           "Behavioral Finance",
           55000,
           "Duke University"
          ],
          [
           "Introductory Human Physiology",
           270000,
           "Duke University"
          ],
          [
           "The Power Of Macroeconomics: Economic Principles In The Real World",
           180000,
           "University Of California, Irvine"
          ],
          [
           "The Global Financial Crisis",
           84000,
           "Yale University"
          ],
          [
           "Clinical Terminology For International And U.S. Students",
           32000,
           "University Of Pittsburgh"
          ],
          [
           "Data Analysis With Python",
           110000,
           "Ibm"
          ],
          [
           "Everyday Parenting: The Abcs Of Child Rearing",
           86000,
           "Yale University"
          ],
          [
           "Python Basics",
           110000,
           "University Of Michigan"
          ],
          [
           "International Law In Action: The Arbitration Of International Disputes",
           19000,
           "Universiteit Leiden"
          ],
          [
           "Aws Fundamentals: Going Cloud-Native",
           110000,
           "Amazon Web Services"
          ],
          [
           "The Manager'S Toolkit: A Practical Guide To Managing People At Work",
           47000,
           "Birkbeck, University Of London"
          ],
          [
           "Ai For Medical Prognosis",
           4000,
           "Deeplearning.Ai"
          ],
          [
           "Project Launch",
           190000,
           "University Of California, Irvine"
          ],
          [
           "Sequence Models",
           14000,
           "Deeplearning.Ai"
          ],
          [
           "Greek And Roman Mythology",
           260000,
           "University Of Pennsylvania"
          ],
          [
           "Construction Project Management",
           43000,
           "Columbia University"
          ],
          [
           "Positive Psychology",
           180000,
           "The University Of North Carolina At Chapel Hill"
          ],
          [
           "Terrorism And Counterterrorism: Comparing Theory And Practice",
           90000,
           "Universiteit Leiden"
          ],
          [
           "Contabilidad Para No Contadores",
           220000,
           "Universidad Nacional Autónoma De México"
          ],
          [
           "Corporate Sustainability. Understanding And Seizing The Strategic Opportunity",
           10000,
           "Università Bocconi"
          ],
          [
           "Anatomy Of The Chest, Abdomen, And Pelvis",
           36000,
           "Yale University"
          ],
          [
           "English For Journalism",
           130000,
           "University Of Pennsylvania"
          ],
          [
           "Site Reliability Engineering: Measuring And Managing Reliability",
           16000,
           "Google Cloud"
          ],
          [
           "Communication Strategies For A Virtual Age",
           43000,
           "University Of Toronto"
          ],
          [
           "Supply Chain Principles",
           29000,
           "Georgia Institute Of Technology"
          ],
          [
           "Introduction To Html5",
           220000,
           "University Of Michigan"
          ],
          [
           "Introduction To Programming With Matlab",
           270000,
           "Vanderbilt University"
          ],
          [
           "Marketing In A Digital World",
           310000,
           "University Of Illinois At Urbana-Champaign"
          ],
          [
           "Learn To Speak Korean 1",
           120000,
           "Yonsei University"
          ],
          [
           "Introduction To Sustainability",
           69000,
           "University Of Illinois At Urbana-Champaign"
          ],
          [
           "Essentials In Clinical Simulations Across The Health Professions",
           4100,
           "The George Washington University"
          ],
          [
           "Operating Systems And You: Becoming A Power User",
           76000,
           "Google"
          ],
          [
           "R Programming",
           480000,
           "Johns Hopkins University"
          ],
          [
           "In The Studio: Postwar Abstract Painting",
           79000,
           "The Museum Of Modern Art"
          ],
          [
           "Essentials Of Global Health",
           31000,
           "Yale University"
          ],
          [
           "Machine Learning With Python",
           120000,
           "Ibm"
          ],
          [
           "American Contract Law I",
           18000,
           "Yale University"
          ],
          [
           "Oil & Gas Industry Operations And Markets",
           57000,
           "Duke University"
          ],
          [
           "Arts And Heritage Management",
           15000,
           "Università Bocconi"
          ],
          [
           "Introducción A La Programación En Python I: Aprendiendo A Programar Con Python",
           100000,
           "Pontificia Universidad Católica De Chile"
          ],
          [
           "Supporting Children With Difficulties In Reading And Writing",
           50000,
           "Ucl Institute Of Education"
          ],
          [
           "Html, Css, And Javascript For Web Developers",
           240000,
           "Johns Hopkins University"
          ],
          [
           "Addiction Treatment: Clinical Skills For Healthcare Providers",
           9200,
           "Yale University"
          ],
          [
           "Réussir Le Changement",
           33000,
           "Essec Business School"
          ],
          [
           "Sql For Data Science",
           160000,
           "University Of California, Davis"
          ],
          [
           "Speak English Professionally: In Person, Online & On The Phone",
           430000,
           "Georgia Institute Of Technology"
          ],
          [
           "Introduction To Corporate Finance",
           130000,
           "University Of Pennsylvania"
          ],
          [
           "Introduction To Spreadsheets And Models",
           76000,
           "University Of Pennsylvania"
          ],
          [
           "Introduction To Mathematical Thinking",
           270000,
           "Stanford University"
          ],
          [
           "Negociación Exitosa: Estrategias Y Habilidades Esenciales (En Español)",
           95000,
           "University Of Michigan"
          ],
          [
           "Drug Discovery",
           39000,
           "University Of California San Diego"
          ],
          [
           "Instructional Design Foundations And Applications",
           12000,
           "University Of Illinois At Urbana-Champaign"
          ],
          [
           "International Organizations Management",
           20000,
           "University Of Geneva"
          ],
          [
           "Essential Google Cloud Infrastructure: Foundation",
           83000,
           "Google Cloud"
          ],
          [
           "Using Databases With Python",
           220000,
           "University Of Michigan"
          ],
          [
           "Epidemiology: The Basic Science Of Public Health",
           130000,
           "The University Of North Carolina At Chapel Hill"
          ],
          [
           "Understanding Clinical Research: Behind The Statistics",
           78000,
           "University Of Cape Town"
          ],
          [
           "Weight Management: Beyond Balancing Calories",
           34000,
           "Emory University"
          ],
          [
           "The Modern World, Part One: Global History From 1760 To 1910",
           130000,
           "University Of Virginia"
          ],
          [
           "Convolutional Neural Networks In Tensorflow",
           46000,
           "Deeplearning.Ai"
          ],
          [
           "E-Learning Ecologies: Innovative Approaches To Teaching And Learning For The Digital Age",
           17000,
           "University Of Illinois At Urbana-Champaign"
          ],
          [
           "The Sustainable Development Goals – A Global, Transdisciplinary Vision For The Future",
           26000,
           "University Of Copenhagen"
          ],
          [
           "People Analytics",
           84000,
           "University Of Pennsylvania"
          ],
          [
           "Programming Foundations With Javascript, Html And Css",
           250000,
           "Duke University"
          ],
          [
           "Innovation Management",
           40000,
           "Erasmus University Rotterdam"
          ],
          [
           "Greening The Economy: Sustainable Cities",
           56000,
           "Lund University"
          ],
          [
           "Creative Writing: The Craft Of Plot",
           120000,
           "Wesleyan University"
          ],
          [
           "Python And Statistics For Financial Analysis",
           41000,
           "The Hong Kong University Of Science And Technology"
          ],
          [
           "The Arts And Science Of Relationships: Understanding Human Needs",
           73000,
           "University Of Toronto"
          ],
          [
           "Data-Driven Decision Making",
           120000,
           "Pwc"
          ],
          [
           "Introduction To Forensic Science",
           47000,
           "Nanyang Technological University, Singapore"
          ],
          [
           "Divide And Conquer, Sorting And Searching, And Randomized Algorithms",
           130000,
           "Stanford University"
          ],
          [
           "What Is Social?",
           94000,
           "Northwestern University"
          ],
          [
           "Digital Product Management: Modern Fundamentals",
           58000,
           "University Of Virginia"
          ],
          [
           "Financing And Investing In Infrastructure",
           24000,
           "Università Bocconi"
          ],
          [
           "Data Management For Clinical Research",
           42000,
           "Vanderbilt University"
          ],
          [
           "Supply Chain Logistics",
           66000,
           "Rutgers The State University Of New Jersey"
          ],
          [
           "Grammar And Punctuation",
           430000,
           "University Of California, Irvine"
          ],
          [
           "Revisão Sistemática E Meta-Análise",
           17000,
           "Universidade Estadual De Campinas"
          ],
          [
           "Fundamentos De Finanzas Empresariales",
           110000,
           "Universidad De Los Andes"
          ],
          [
           "Preparing To Manage Human Resources",
           68000,
           "University Of Minnesota"
          ],
          [
           "Dog Emotion And Cognition",
           150000,
           "Duke University"
          ],
          [
           "Build A Modern Computer From First Principles: From Nand To Tetris (Project-Centered Course)",
           95000,
           "Hebrew University Of Jerusalem"
          ],
          [
           "Financial Acumen For Non-Financial Managers",
           10000,
           "University Of Pennsylvania"
          ],
          [
           "Devenir Entrepreneur Du Changement",
           54000,
           "Ticket For Change"
          ],
          [
           "Operations Analytics",
           80000,
           "University Of Pennsylvania"
          ],
          [
           "Data Science Math Skills",
           140000,
           "Duke University"
          ],
          [
           "Global Diplomacy: The United Nations In The World",
           29000,
           "Soas University Of London"
          ],
          [
           "System Administration And It Infrastructure Services",
           62000,
           "Google"
          ],
          [
           "International Humanitarian Law In Theory And Practice",
           22000,
           "Kalshoven-Gieskes Forum"
          ],
          [
           "Competencias Digitales. Herramientas De Ofimática (Microsoft Word, Excel, Power Point)",
           43000,
           "Universitat Autònoma De Barcelona"
          ],
          [
           "Ibm Customer Engagement Specialist Professional Certificate",
           3300,
           "Ibm"
          ],
          [
           "Business Model Innovation",
           13000,
           "Hec Paris"
          ],
          [
           "Getting Started With Google Sheets",
           18000,
           "Google Cloud"
          ],
          [
           "Introduction To Calculus",
           53000,
           "The University Of Sydney"
          ],
          [
           "A Law Student'S Toolkit",
           91000,
           "Yale University"
          ],
          [
           "Rethinking International Tax Law",
           36000,
           "Universiteit Leiden"
          ],
          [
           "Fundamentals Of Immunology: Innate Immunity And B-Cell Function",
           18000,
           "Rice University"
          ],
          [
           "Introduction To International Criminal Law",
           82000,
           "Case Western Reserve University"
          ],
          [
           "Excel/Vba For Creative Problem Solving, Part 1",
           54000,
           "University Of Colorado Boulder"
          ],
          [
           "Excel Skills For Business: Intermediate Ii",
           39000,
           "Macquarie University"
          ],
          [
           "Data Visualization With Python",
           66000,
           "Ibm"
          ],
          [
           "Introduction To Classical Music",
           150000,
           "Yale University"
          ],
          [
           "Getting Started With Google Kubernetes Engine",
           75000,
           "Google Cloud"
          ],
          [
           "Public Policy Challenges Of The 21St Century",
           52000,
           "University Of Virginia"
          ],
          [
           "Fundamentals Of Gis",
           86000,
           "University Of California, Davis"
          ],
          [
           "Introduction To Artificial Intelligence (Ai)",
           44000,
           "Ibm"
          ],
          [
           "Introduction To User Experience Design",
           87000,
           "Georgia Institute Of Technology"
          ],
          [
           "Healing With The Arts",
           39000,
           "University Of Florida"
          ],
          [
           "Design-Led Strategy: Design Thinking For Business Strategy And Entrepreneurship",
           19000,
           "The University Of Sydney"
          ],
          [
           "Natural Language Processing In Tensorflow",
           40000,
           "Deeplearning.Ai"
          ],
          [
           "Making Architecture",
           43000,
           "Ie School Of Architecture & Design"
          ],
          [
           "Troubles Du Spectre De L'Autisme : Diagnostic",
           5400,
           "University Of Geneva"
          ],
          [
           "Social Norms, Social Change I",
           78000,
           "University Of Pennsylvania"
          ],
          [
           "Fundamental Neuroscience For Neuroimaging",
           30000,
           "Johns Hopkins University"
          ],
          [
           "Fintech Law And Policy",
           9700,
           "Duke University"
          ],
          [
           "Inspiring And Motivating Individuals",
           85000,
           "University Of Michigan"
          ],
          [
           "Equine Welfare And Management",
           7200,
           "University Of California, Davis"
          ],
          [
           "Essential Google Cloud Infrastructure: Core Services",
           68000,
           "Google Cloud"
          ],
          [
           "International Security Management",
           2200,
           "Erasmus University Rotterdam"
          ],
          [
           "Continuous Delivery & Devops",
           26000,
           "University Of Virginia"
          ],
          [
           "Marketing Gerencial",
           49000,
           "Universidad De Chile"
          ],
          [
           "Covid-19: What You Need To Know (Cme Eligible)",
           32000,
           "Osmosis"
          ],
          [
           "Art & Ideas: Teaching With Themes",
           31000,
           "The Museum Of Modern Art"
          ],
          [
           "Fintech: Foundations, Payments, And Regulations",
           12000,
           "University Of Pennsylvania"
          ],
          [
           "Essential Epidemiologic Tools For Public Health Practice",
           14000,
           "Johns Hopkins University"
          ],
          [
           "Success",
           38000,
           "University Of Pennsylvania"
          ],
          [
           "Beyond The Sustainable Development Goals (Sdgs): Addressing Sustainability And Development",
           2300,
           "University Of Michigan"
          ],
          [
           "Corporate Finance Essentials",
           56000,
           "Iese Business School"
          ],
          [
           "The Addicted Brain",
           130000,
           "Emory University"
          ],
          [
           "Engineering Health: Introduction To Yoga And Physiology",
           14000,
           "New York University"
          ],
          [
           "Creative Problem Solving",
           140000,
           "University Of Minnesota"
          ],
          [
           "Microeconomics: The Power Of Markets",
           34000,
           "University Of Pennsylvania"
          ],
          [
           "Understanding And Visualizing Data With Python",
           30000,
           "University Of Michigan"
          ],
          [
           "Teamwork Skills: Communicating Effectively In Groups",
           49000,
           "University Of Colorado Boulder"
          ],
          [
           "Managerial Accounting Fundamentals",
           11000,
           "University Of Virginia"
          ],
          [
           "Introduction To Cybersecurity Tools & Cyber Attacks",
           30000,
           "Ibm"
          ],
          [
           "Mindshift: Break Through Obstacles To Learning And Discover Your Hidden Potential",
           230000,
           "Mcmaster University"
          ],
          [
           "Neurolinguistics",
           41000,
           "Saint Petersburg State University"
          ],
          [
           "Introduction To Probability And Data",
           160000,
           "Duke University"
          ],
          [
           "Fundamentals Of Reinforcement Learning",
           22000,
           "University Of Alberta"
          ],
          [
           "It Security: Defense Against The Digital Dark Arts",
           62000,
           "Google"
          ],
          [
           "Politics And Economics Of International Energy",
           34000,
           "Sciences Po"
          ],
          [
           "Business Transformation With Google Cloud",
           10000,
           "Google Cloud"
          ],
          [
           "Art & Activity: Interactive Strategies For Engaging With Art",
           79000,
           "The Museum Of Modern Art"
          ],
          [
           "More Introduction To Financial Accounting",
           40000,
           "University Of Pennsylvania"
          ],
          [
           "Agile Meets Design Thinking",
           69000,
           "University Of Virginia"
          ],
          [
           "Supply Chain Analytics",
           7900,
           "Rutgers The State University Of New Jersey"
          ],
          [
           "Budgeting And Scheduling Projects",
           84000,
           "University Of California, Irvine"
          ],
          [
           "Drug Commercialization",
           17000,
           "University Of California San Diego"
          ],
          [
           "Ai For Medical Treatment",
           2400,
           "Deeplearning.Ai"
          ],
          [
           "Microeconomics Principles",
           73000,
           "University Of Illinois At Urbana-Champaign"
          ],
          [
           "Dino 101: Dinosaur Paleobiology",
           35000,
           "University Of Alberta"
          ],
          [
           "Applied Plotting, Charting & Data Representation In Python",
           97000,
           "University Of Michigan"
          ],
          [
           "Bayesian Statistics: From Concept To Data Analysis",
           91000,
           "University Of California, Santa Cruz"
          ],
          [
           "Ecology: Ecosystem Dynamics And Conservation",
           18000,
           "American Museum Of Natural History"
          ],
          [
           "Introducción A Data Science: Programación Estadística Con R",
           140000,
           "Universidad Nacional Autónoma De México"
          ],
          [
           "Entrepreneurship 2: Launching Your Start-Up",
           38000,
           "University Of Pennsylvania"
          ],
          [
           "Introduction To Genetics And Evolution",
           74000,
           "Duke University"
          ],
          [
           "Understanding Einstein: The Special Theory Of Relativity",
           89000,
           "Stanford University"
          ],
          [
           "Front-End Web Ui Frameworks And Tools: Bootstrap 4",
           89000,
           "The Hong Kong University Of Science And Technology"
          ],
          [
           "Spanish Vocabulary: Meeting People",
           71000,
           "University Of California, Davis"
          ],
          [
           "Model Thinking",
           130000,
           "University Of Michigan"
          ],
          [
           "Social And Economic Networks:  Models And Analysis",
           42000,
           "Stanford University"
          ],
          [
           "The Art Of Music Production",
           47000,
           "Berklee College Of Music"
          ],
          [
           "Anatomy: Musculoskeletal And Integumentary Systems",
           20000,
           "University Of Michigan"
          ],
          [
           "Feminism And Social Justice",
           18000,
           "University Of California, Santa Cruz"
          ],
          [
           "Object-Oriented Data Structures In C++",
           21000,
           "University Of Illinois At Urbana-Champaign"
          ],
          [
           "Introduction To Environmental Law And Policy",
           34000,
           "The University Of North Carolina At Chapel Hill"
          ],
          [
           "Aprender",
           200000,
           "Universidad Nacional Autónoma De México"
          ],
          [
           "Anticorrupción: Introducción A Conceptos Y Perspectiva Práctica",
           11000,
           "Universidad Nacional Autónoma De México"
          ],
          [
           "Solar Energy Basics",
           17000,
           "The State University Of New York"
          ],
          [
           "L'Excellence Opérationnelle En Pratique",
           8000,
           "Essec Business School"
          ],
          [
           "Miracles Of Human Language: An Introduction To Linguistics",
           120000,
           "Universiteit Leiden"
          ],
          [
           "Java Programming: Solving Problems With Software",
           160000,
           "Duke University"
          ],
          [
           "De-Mystifying Mindfulness",
           150000,
           "Universiteit Leiden"
          ],
          [
           "Fundamentals Of Visualization With Tableau",
           81000,
           "University Of California, Davis"
          ],
          [
           "Design And Make Infographics (Project-Centered Course)",
           97000,
           "Michigan State University"
          ],
          [
           "Modernizing Data Lakes And Data Warehouses With Gcp",
           9100,
           "Google Cloud"
          ],
          [
           "The Science Of Training Young Athletes",
           13000,
           "University Of Florida"
          ],
          [
           "Cameras, Exposure, And Photography",
           130000,
           "Michigan State University"
          ],
          [
           "Epidemics - The Dynamics Of Infectious Diseases",
           45000,
           "The Pennsylvania State University"
          ],
          [
           "Mathematics For Machine Learning: Multivariate Calculus",
           51000,
           "Imperial College London"
          ],
          [
           "Transmedia Storytelling: Narrative Worlds, Emerging Technologies, And Global Audiences",
           45000,
           "Unsw Sydney (The University Of New South Wales)"
          ],
          [
           "Tricky American English Pronunciation",
           110000,
           "University Of California, Irvine"
          ],
          [
           "Renewable Energy And Green Building Entrepreneurship",
           24000,
           "Duke University"
          ],
          [
           "Introduction To Operations Management",
           87000,
           "University Of Pennsylvania"
          ],
          [
           "The Power Of Microeconomics: Economic Principles In The Real World",
           120000,
           "University Of California, Irvine"
          ],
          [
           "Nutrition And Lifestyle In Pregnancy",
           35000,
           "Ludwig-Maximilians-Universität München (Lmu)"
          ],
          [
           "Capstone: Retrieving, Processing, And Visualizing Data With Python",
           82000,
           "University Of Michigan"
          ],
          [
           "Getting Started With Sas Programming",
           22000,
           "Sas"
          ],
          [
           "Business Writing",
           48000,
           "University Of Colorado Boulder"
          ],
          [
           "Get Interactive: Practical Teaching With Technology",
           14000,
           "Bloomsbury Learning Exchange"
          ],
          [
           "Les Fondamentaux De La Négociation",
           10000,
           "Essec Business School"
          ],
          [
           "Introduction To Personal Branding",
           140000,
           "University Of Virginia"
          ],
          [
           "What Is Compliance?",
           6200,
           "University Of Pennsylvania"
          ],
          [
           "Costos Para Los Negocios",
           43000,
           "Universidad De Chile"
          ],
          [
           "Kotlin For Java Developers",
           37000,
           "Jetbrains"
          ],
          [
           "Introduction To Data Analysis Using Excel",
           99000,
           "Rice University"
          ],
          [
           "Information Security: Context And Introduction",
           32000,
           "Royal Holloway, University Of London"
          ],
          [
           "Mastering Data Analysis In Excel",
           280000,
           "Duke University"
          ],
          [
           "Aprendiendo A Aprender: Poderosas Herramientas Mentales Con Las Que Podrás Dominar Temas Difíciles (Learning How To Learn)",
           180000,
           "University Of California San Diego"
          ],
          [
           "Finanzas Personales",
           310000,
           "Universidad Nacional Autónoma De México"
          ],
          [
           "How Things Work: An Introduction To Physics",
           170000,
           "University Of Virginia"
          ],
          [
           "Python Functions, Files, And Dictionaries",
           26000,
           "University Of Michigan"
          ],
          [
           "Managing Project Risks And Changes",
           71000,
           "University Of California, Irvine"
          ],
          [
           "Introduction To Typography",
           72000,
           "California Institute Of The Arts"
          ],
          [
           "Managing Social And Human Capital",
           27000,
           "University Of Pennsylvania"
          ],
          [
           "Teach English Now! Foundational Principles",
           81000,
           "Arizona State University"
          ],
          [
           "Engineering Project Management: Initiating And Planning",
           23000,
           "Rice University"
          ],
          [
           "Algorithmic Toolbox",
           220000,
           "University Of California San Diego"
          ],
          [
           "Elastic Google Cloud Infrastructure: Scaling And Automation",
           57000,
           "Google Cloud"
          ],
          [
           "Biology Meets Programming: Bioinformatics For Beginners",
           88000,
           "University Of California San Diego"
          ],
          [
           "Customer Segmentation And Prospecting",
           18000,
           "Northwestern University"
          ],
          [
           "Geopolítica Y Gobernanza Global: Riesgos Y Oportunidades",
           34000,
           "Esade Business And Law School"
          ],
          [
           "Getting Started With Aws Machine Learning",
           73000,
           "Amazon Web Services"
          ],
          [
           "Epidemics, Pandemics And Outbreaks",
           23000,
           "University Of Pittsburgh"
          ],
          [
           "Industrial Iot On Google Cloud Platform",
           34000,
           "Google Cloud"
          ],
          [
           "Mastering Final Cut Pro",
           8400,
           "Learnquest"
          ],
          [
           "The Oral Cavity: Portal To Health And Disease",
           9400,
           "University Of Pennsylvania"
          ],
          [
           "Leadership In 21St Century Organizations",
           34000,
           "Copenhagen Business School"
          ],
          [
           "Global Environmental Management",
           22000,
           "Technical University Of Denmark (Dtu)"
          ],
          [
           "International Law In Action: A Guide To The International Courts And Tribunals In The Hague",
           36000,
           "Universiteit Leiden"
          ],
          [
           "Sports And Society",
           16000,
           "Duke University"
          ],
          [
           "Fundamentals Of Engineering Exam Review",
           49000,
           "Georgia Institute Of Technology"
          ],
          [
           "Sustainable Tourism – Promoting Environmental Public Health",
           9400,
           "University Of Copenhagen"
          ],
          [
           "Think Again I: How To Understand Arguments",
           200000,
           "Duke University"
          ],
          [
           "Machine Learning For All",
           19000,
           "University Of London"
          ],
          [
           "Julia Scientific Programming",
           22000,
           "University Of Cape Town"
          ],
          [
           "The Horse Course: Introduction To Basic Care And Management",
           29000,
           "University Of Florida"
          ],
          [
           "Summary Statistics In Public Health",
           11000,
           "Johns Hopkins University"
          ],
          [
           "Version Control With Git",
           40000,
           "Atlassian"
          ],
          [
           "Autodesk Certified Professional: Revit For Architectural Design Exam Prep",
           9700,
           "Autodesk"
          ],
          [
           "Excel Skills For Business: Advanced",
           39000,
           "Macquarie University"
          ],
          [
           "International Migrations: A Global Issue",
           11000,
           "Sciences Po"
          ],
          [
           "Introduction To Cloud Computing",
           2600,
           "Ibm"
          ],
          [
           "Ux Design Fundamentals",
           25000,
           "California Institute Of The Arts"
          ],
          [
           "Municipal Solid Waste Management In Developing Countries",
           59000,
           "École Polytechnique Fédérale De Lausanne"
          ],
          [
           "English For Science, Technology, Engineering, And Mathematics",
           110000,
           "University Of Pennsylvania"
          ],
          [
           "Democracia Y Decisiones Públicas. Introducción Al Análisis De Políticas Públicas",
           44000,
           "Universitat Autònoma De Barcelona"
          ],
          [
           "Songwriting: Writing The Lyrics",
           68000,
           "Berklee College Of Music"
          ],
          [
           "Bayesian Statistics: Techniques And Models",
           29000,
           "University Of California, Santa Cruz"
          ],
          [
           "Using Python To Interact With The Operating System",
           19000,
           "Google"
          ],
          [
           "Accounting Analytics",
           80000,
           "University Of Pennsylvania"
          ],
          [
           "Data Analytics For Lean Six Sigma",
           24000,
           "University Of Amsterdam"
          ],
          [
           "Positive Psychology: Applications And Interventions",
           23000,
           "University Of Pennsylvania"
          ],
          [
           "Introduction To Blockchain Technologies",
           16000,
           "Insead"
          ],
          [
           "Building Scalable Java Microservices With Spring Boot And Spring Cloud",
           24000,
           "Google Cloud"
          ],
          [
           "Access Controls",
           2900,
           "(Isc)²"
          ],
          [
           "English Composition I",
           200000,
           "Duke University"
          ],
          [
           "The Truth About Cats And Dogs",
           33000,
           "The University Of Edinburgh"
          ],
          [
           "Introduction To Portfolio Construction And Analysis With Python",
           11000,
           "Edhec Business School"
          ],
          [
           "Write A Feature Length Screenplay For Film Or Television",
           12000,
           "Michigan State University"
          ],
          [
           "Introduction To Breast Cancer",
           27000,
           "Yale University"
          ],
          [
           "Resilience In Children Exposed To Trauma, Disaster And War: Global Perspectives",
           15000,
           "University Of Minnesota"
          ],
          [
           "Entrepreneurship Strategy: From Ideation To Exit",
           20000,
           "Hec Paris"
          ],
          [
           "Driving Business Towards The Sustainable Development Goals",
           5600,
           "Erasmus University Rotterdam"
          ],
          [
           "Introduction To Web Development",
           76000,
           "University Of California, Davis"
          ],
          [
           "Process Mining: Data Science In Action",
           39000,
           "Eindhoven University Of Technology"
          ],
          [
           "Dermatology: Trip To Skin",
           8200,
           "Novosibirsk State University"
          ],
          [
           "Introduction To Engineering Mechanics",
           150000,
           "Georgia Institute Of Technology"
          ],
          [
           "Search Engine Optimization Fundamentals",
           47000,
           "University Of California, Davis"
          ],
          [
           "Applied Machine Learning In Python",
           150000,
           "University Of Michigan"
          ],
          [
           "Aws Fundamentals: Addressing Security Risk",
           11000,
           "Amazon Web Services"
          ],
          [
           "Roman Architecture",
           30000,
           "Yale University"
          ],
          [
           "Fundamentals Of Music Theory",
           180000,
           "The University Of Edinburgh"
          ],
          [
           "Reporting Extra-Financier Et Stratégie Rse",
           5200,
           "Essec Business School"
          ],
          [
           "A Life Of Happiness And Fulfillment",
           320000,
           "Indian School Of Business"
          ],
          [
           "Egiptología (Egyptology)",
           46000,
           "Universitat Autònoma De Barcelona"
          ],
          [
           "Applied Data Science Capstone",
           42000,
           "Ibm"
          ],
          [
           "Unraveling The Cycling City",
           3900,
           "University Of Amsterdam"
          ],
          [
           "Japanese For Beginners 1",
           4400,
           "Saint Petersburg State University"
          ],
          [
           "Econometrics: Methods And Applications",
           110000,
           "Erasmus University Rotterdam"
          ],
          [
           "Basic Statistics",
           180000,
           "University Of Amsterdam"
          ],
          [
           "Global Energy And Climate Policy",
           10000,
           "Soas University Of London"
          ],
          [
           "Boosting Creativity For Innovation",
           9500,
           "Hec Paris"
          ],
          [
           "Positive Psychology: Resilience Skills",
           40000,
           "University Of Pennsylvania"
          ],
          [
           "Systems Thinking In Public Health",
           33000,
           "Johns Hopkins University"
          ],
          [
           "Introduction To Embedded Systems Software And Development Environments",
           41000,
           "University Of Colorado Boulder"
          ],
          [
           "Gestión De Organizaciones Efectivas",
           47000,
           "Pontificia Universidad Católica De Chile"
          ],
          [
           "Arts And Culture Strategy",
           15000,
           "National Arts Strategies"
          ],
          [
           "Mountains 101",
           44000,
           "University Of Alberta"
          ],
          [
           "Building Batch Data Pipelines On Gcp",
           7300,
           "Google Cloud"
          ],
          [
           "Code Yourself! An Introduction To Programming",
           120000,
           "The University Of Edinburgh"
          ],
          [
           "Leading Healthcare Quality And Safety",
           16000,
           "The George Washington University"
          ],
          [
           "Stories Of Infection",
           28000,
           "Stanford University"
          ],
          [
           "Recruiting, Hiring, And Onboarding Employees",
           35000,
           "University Of Minnesota"
          ],
          [
           "Introduction To Trading, Machine Learning & Gcp",
           13000,
           "New York Institute Of Finance"
          ],
          [
           "Smart Cities – Management Of Smart Urban Infrastructures",
           22000,
           "École Polytechnique Fédérale De Lausanne"
          ],
          [
           "Adhd: Everyday Strategies For Elementary Students",
           39000,
           "University At Buffalo"
          ],
          [
           "C For Everyone: Programming Fundamentals",
           31000,
           "University Of California, Santa Cruz"
          ],
          [
           "Antibiotic Stewardship",
           11000,
           "Stanford University"
          ],
          [
           "Introduction To Css3",
           84000,
           "University Of Michigan"
          ],
          [
           "Perfect Tenses And Modals",
           79000,
           "University Of California, Irvine"
          ],
          [
           "The Technology Of Music Production",
           28000,
           "Berklee College Of Music"
          ],
          [
           "Internet Connection: How To Get Online?",
           36000,
           "Cisco"
          ],
          [
           "Periodismo Digital Y Combate A Las Fake News",
           8900,
           "Universidad Nacional Autónoma De México"
          ],
          [
           "Marketing Verde",
           58000,
           "Universidad De Los Andes"
          ],
          [
           "Building Conversational Experiences With Dialogflow",
           22000,
           "Google Cloud"
          ],
          [
           "The Modern World, Part Two: Global History Since 1910",
           47000,
           "University Of Virginia"
          ],
          [
           "Becoming A Changemaker: Introduction To Social Innovation",
           61000,
           "University Of Cape Town"
          ],
          [
           "Design Thinking For The Greater Good: Innovation In The Social Sector",
           17000,
           "University Of Virginia"
          ],
          [
           "Understanding Cancer Metastasis",
           29000,
           "Johns Hopkins University"
          ],
          [
           "The Social Context Of Mental Health And Illness",
           19000,
           "University Of Toronto"
          ],
          [
           "Cuidado De Heridas En El Ámbito Hospitalario",
           26000,
           "Universidad Nacional Autónoma De México"
          ],
          [
           "Stanford'S Short Course On Breastfeeding",
           17000,
           "Stanford University"
          ],
          [
           "Getting Started With Music Theory",
           59000,
           "Michigan State University"
          ],
          [
           "Probabilistic Graphical Models 1: Representation",
           68000,
           "Stanford University"
          ],
          [
           "Write Your First Novel",
           18000,
           "Michigan State University"
          ],
          [
           "Nanotechnology: A Maker’S Course",
           21000,
           "Duke University"
          ],
          [
           "Data Visualization And Communication With Tableau",
           130000,
           "Duke University"
          ],
          [
           "Biohacking Your Brain'S Health",
           35000,
           "Emory University"
          ],
          [
           "Bugs 101: Insect-Human Interactions",
           15000,
           "University Of Alberta"
          ],
          [
           "Introduction To Intellectual Property",
           6000,
           "University Of Pennsylvania"
          ],
          [
           "The Science Of Stem Cells",
           12000,
           "American Museum Of Natural History"
          ],
          [
           "Corrección, Estilo Y  Variaciones De La Lengua Española",
           75000,
           "Universitat Autònoma De Barcelona"
          ],
          [
           "Practical Time Series Analysis",
           39000,
           "The State University Of New York"
          ],
          [
           "Geopolitics Of Europe",
           19000,
           "Sciences Po"
          ],
          [
           "Sharpened Visions: A Poetry Workshop",
           61000,
           "California Institute Of The Arts"
          ],
          [
           "The Science Of Success: What Researchers Know That You Should Know",
           59000,
           "University Of Michigan"
          ],
          [
           "Discrete Optimization",
           40000,
           "The University Of Melbourne"
          ],
          [
           "From The Big Bang To Dark Energy",
           52000,
           "The University Of Tokyo"
          ],
          [
           "International Cyber Conflicts",
           25000,
           "The State University Of New York"
          ],
          [
           "Autodesk Certified Professional: Autocad For Design And Drafting Exam Prep",
           22000,
           "Autodesk"
          ],
          [
           "Основы Программирования На Python",
           83000,
           "National Research University Higher School Of Economics"
          ],
          [
           "Entrepreneurship 3: Growth Strategies",
           31000,
           "University Of Pennsylvania"
          ],
          [
           "Fundamentos De La Escritura",
           47000,
           "Tecnológico De Monterrey"
          ],
          [
           "Modeling Risk And Realities",
           36000,
           "University Of Pennsylvania"
          ],
          [
           "Ecosystem Services: A Method For Sustainable Development",
           16000,
           "University Of Geneva"
          ],
          [
           "Epigenetic Control Of Gene Expression",
           35000,
           "The University Of Melbourne"
          ],
          [
           "Gut Check: Exploring Your Microbiome",
           62000,
           "University Of California San Diego"
          ],
          [
           "Diseño Y Creación De Un Emprendimiento Social",
           21000,
           "Pontificia Universidad Católica De Chile"
          ],
          [
           "Security & Safety Challenges In A Globalized World",
           14000,
           "Universiteit Leiden"
          ],
          [
           "Introduction To Business Analytics: Communicating With Data",
           14000,
           "University Of Illinois At Urbana-Champaign"
          ],
          [
           "Corporate Strategy",
           7800,
           "Ucl School Of Management"
          ],
          [
           "Probability And Statistics: To P Or Not To P?",
           36000,
           "University Of London"
          ],
          [
           "The Hidden Value – Lean In Manufacturing And Services",
           14000,
           "École Des Ponts Paristech"
          ],
          [
           "Chemicals And Health",
           23000,
           "Johns Hopkins University"
          ],
          [
           "Blockchain: Foundations And Use Cases",
           31000,
           "Consensys Academy"
          ],
          [
           "Foundations Of Business Strategy",
           63000,
           "University Of Virginia"
          ],
          [
           "Introduction To Cyber Attacks",
           27000,
           "New York University"
          ],
          [
           "Fundamentos De Excel Para Negocios",
           150000,
           "Universidad Austral"
          ],
          [
           "Corporate & Commercial Law I: Contracts & Employment Law",
           10000,
           "University Of Illinois At Urbana-Champaign"
          ],
          [
           "Chicken Behaviour And Welfare",
           19000,
           "The University Of Edinburgh"
          ],
          [
           "Accounting For Decision Making",
           9900,
           "University Of Michigan"
          ],
          [
           "Construction Cost Estimating And Cost Control",
           19000,
           "Columbia University"
          ],
          [
           "Introduction To Self-Driving Cars",
           39000,
           "University Of Toronto"
          ],
          [
           "Cuidados Y Procedimientos Generales En La Atención Del Recién Nacido",
           22000,
           "Universidad De Chile"
          ],
          [
           "Project Execution",
           70000,
           "University Of California, Irvine"
          ],
          [
           "Programming Fundamentals",
           19000,
           "Duke University"
          ],
          [
           "Getting Started With Go",
           59000,
           "University Of California, Irvine"
          ],
          [
           "Introduction To Thermodynamics: Transferring Energy From Here To There",
           4100,
           "University Of Michigan"
          ],
          [
           "Challenging Forensic Science: How Science Should Speak To Court",
           31000,
           "University Of Lausanne"
          ],
          [
           "Chinese For Hsk 1",
           22000,
           "Peking University"
          ],
          [
           "Business English: Networking",
           77000,
           "University Of Washington"
          ],
          [
           "Global Trends For Business And Society",
           7600,
           "University Of Pennsylvania"
          ],
          [
           "A Crash Course In Causality:  Inferring Causal Effects From Observational Data",
           17000,
           "University Of Pennsylvania"
          ],
          [
           "Introduction To User Experience Principles And Processes",
           16000,
           "University Of Michigan"
          ],
          [
           "Introduction To Electronics",
           110000,
           "Georgia Institute Of Technology"
          ],
          [
           "Understanding Plants - Part I: What A Plant Knows",
           49000,
           "Tel Aviv University"
          ],
          [
           "Innovation Through Design: Think, Make, Break, Repeat",
           10000,
           "The University Of Sydney"
          ],
          [
           "Strategy And Sustainability",
           11000,
           "Iese Business School"
          ],
          [
           "Blended Language Learning: Design And Practice For Teachers",
           1900,
           "University Of Colorado Boulder"
          ],
          [
           "Astrobiology And The Search For Extraterrestrial Life",
           66000,
           "The University Of Edinburgh"
          ],
          [
           "Leading For Equity, Diversity And Inclusion In Higher Education",
           5900,
           "University Of Michigan"
          ],
          [
           "Developing Your Musicianship",
           41000,
           "Berklee College Of Music"
          ],
          [
           "Guitar For Beginners",
           210000,
           "Berklee College Of Music"
          ],
          [
           "Introduction To Systems Engineering",
           33000,
           "Unsw Sydney (The University Of New South Wales)"
          ],
          [
           "The Cycle: Management Of Successful Arts And Cultural Organizations",
           11000,
           "University Of Maryland, College Park"
          ],
          [
           "Supply Chain Operations",
           24000,
           "Rutgers The State University Of New Jersey"
          ],
          [
           "Global Financing Solutions  (By Edhec And Société Générale)",
           3600,
           "Edhec Business School"
          ],
          [
           "Intercultural Management",
           6500,
           "Escp Business School"
          ],
          [
           "Sample-Based Learning Methods",
           6800,
           "University Of Alberta"
          ],
          [
           "Dairy Production And Management",
           23000,
           "The Pennsylvania State University"
          ],
          [
           "Introduction To Statistics & Data Analysis In Public Health",
           12000,
           "Imperial College London"
          ],
          [
           "How To Create A Website In A Weekend! (Project-Centered Course)",
           140000,
           "The State University Of New York"
          ],
          [
           "The Changing Global Order",
           23000,
           "Universiteit Leiden"
          ],
          [
           "Love As A Force For Social Justice",
           14000,
           "Stanford University"
          ],
          [
           "Enterprise Architecture",
           2400,
           "Peter The Great St. Petersburg Polytechnic University"
          ],
          [
           "Ready, Set, Future! Introduction To Futures Thinking",
           7700,
           "Institute For The Future"
          ],
          [
           "Sexualidad...Mucho Más Que Sexo",
           110000,
           "Universidad De Los Andes"
          ],
          [
           "Effective Compliance Programs",
           3400,
           "University Of Pennsylvania"
          ],
          [
           "Introduction To Imagemaking",
           54000,
           "California Institute Of The Arts"
          ],
          [
           "Foundations Of Everyday Leadership",
           62000,
           "University Of Illinois At Urbana-Champaign"
          ],
          [
           "Becoming A Sports Agent",
           6500,
           "Case Western Reserve University"
          ],
          [
           "Cloud Computing Basics (Cloud 101)",
           37000,
           "Learnquest"
          ],
          [
           "Finance For Non-Financial Managers",
           12000,
           "Emory University"
          ],
          [
           "Introduction To Computer Programming",
           20000,
           "Goldsmiths, University Of London"
          ],
          [
           "Atención Primaria En Salud: El Desafío De Las Enfermedades No Transmisibles",
           33000,
           "Pontificia Universidad Católica De Chile"
          ],
          [
           "Data Collection And Processing With Python",
           19000,
           "University Of Michigan"
          ],
          [
           "Music Business Foundations",
           34000,
           "Berklee College Of Music"
          ],
          [
           "Hacia Una Práctica Constructivista En El Aula",
           62000,
           "Pontificia Universidad Católica De Chile"
          ],
          [
           "Wonders Of Ancient Egypt",
           17000,
           "University Of Pennsylvania"
          ],
          [
           "Teaching Character And Creating Positive Classrooms",
           53000,
           "Relay Graduate School Of Education"
          ],
          [
           "El Abogado Del Futuro: Legaltech Y La Transformación Digital Del Derecho",
           1500,
           "Universidad Austral"
          ],
          [
           "Functional Programming Principles In Scala",
           170000,
           "École Polytechnique Fédérale De Lausanne"
          ],
          [
           "Magic In The Middle Ages",
           78000,
           "Universitat De Barcelona"
          ],
          [
           "Six Sigma And The Organization (Advanced)",
           15000,
           "University System Of Georgia"
          ],
          [
           "Construction Scheduling",
           15000,
           "Columbia University"
          ],
          [
           "New Approaches To Countering Terror: Countering Violent Extremism",
           12000,
           "University Of Maryland, College Park"
          ],
          [
           "Managing Your Health: The Role Of Physical Therapy And Exercise",
           47000,
           "University Of Toronto"
          ],
          [
           "Ancient Philosophy: Aristotle And His Successors",
           8100,
           "University Of Pennsylvania"
          ],
          [
           "Antimicrobial Resistance - Theory And Methods",
           63000,
           "Technical University Of Denmark (Dtu)"
          ],
          [
           "Cómo Hablar Bien En Público",
           55000,
           "Universitat Autònoma De Barcelona"
          ],
          [
           "Strategic Management",
           58000,
           "Copenhagen Business School"
          ],
          [
           "Gender And Sexuality: Diversity And Inclusion In The Workplace",
           14000,
           "University Of Pittsburgh"
          ],
          [
           "Hardware Description Languages For Fpga Design",
           7400,
           "University Of Colorado Boulder"
          ],
          [
           "Data Visualization With Advanced Excel",
           60000,
           "Pwc"
          ],
          [
           "Influencer Marketing Strategy",
           12000,
           "Rutgers The State University Of New Jersey"
          ],
          [
           "Dentistry 101",
           4500,
           "University Of Michigan"
          ],
          [
           "Teach English Now! Teaching Language Online",
           8500,
           "Arizona State University"
          ],
          [
           "Preparing For The Google Cloud Associate Cloud Engineer Exam",
           22000,
           "Google Cloud"
          ],
          [
           "Patrocinio Deportivo",
           12000,
           "Universitat Autònoma De Barcelona"
          ],
          [
           "Математика И Python Для Анализа Данных",
           67000,
           "E-Learning Development Fund"
          ],
          [
           "Decision-Making And Scenarios",
           31000,
           "University Of Pennsylvania"
          ],
          [
           "Sleep: Neurobiology, Medicine, And Society",
           20000,
           "University Of Michigan"
          ],
          [
           "Control Of Mobile Robots",
           49000,
           "Georgia Institute Of Technology"
          ],
          [
           "Bim Fundamentals For Engineers",
           13000,
           "National Taiwan University"
          ],
          [
           "The Science Of Gastronomy",
           50000,
           "The Hong Kong University Of Science And Technology"
          ],
          [
           "Aboriginal Worldviews And Education",
           6600,
           "University Of Toronto"
          ],
          [
           "Curanderismo: Traditional Healing Using Plants",
           5500,
           "University Of New Mexico"
          ],
          [
           "Cybersecurity And Its Ten Domains",
           140000,
           "University System Of Georgia"
          ],
          [
           "Strategic Business Management - Microeconomics",
           9500,
           "University Of California, Irvine"
          ],
          [
           "Quantitative Methods",
           69000,
           "University Of Amsterdam"
          ],
          [
           "Building Your Leadership Skills",
           67000,
           "Hec Paris"
          ],
          [
           "Advertising And Society",
           14000,
           "Duke University"
          ],
          [
           "Queering Identities: Lgbtq+ Sexuality And Gender Identity",
           3000,
           "University Of Colorado System"
          ],
          [
           "Aws Fundamentals: Migrating To The Cloud",
           13000,
           "Amazon Web Services"
          ],
          [
           "What Future For Education?",
           35000,
           "Ucl Institute Of Education"
          ],
          [
           "Introduction To Ableton Live",
           60000,
           "Berklee College Of Music"
          ],
          [
           "Machine Learning Foundations: A Case Study Approach",
           240000,
           "University Of Washington"
          ],
          [
           "Emt Foundations",
           7100,
           "University Of Colorado System"
          ],
          [
           "Russian Alphabet",
           3200,
           "Saint Petersburg State University"
          ],
          [
           "Internet Giants: The Law And Economics Of Media Platforms",
           38000,
           "The University Of Chicago"
          ],
          [
           "Global Financial Markets And Instruments",
           37000,
           "Rice University"
          ],
          [
           "Instructional Methods In Health Professions Education",
           9700,
           "University Of Michigan"
          ],
          [
           "Actualización En El Manejo Del Paciente Con Diabetes Mellitus Tipo 2",
           23000,
           "Universidad Nacional Autónoma De México"
          ],
          [
           "Legal Tech & Startups",
           7200,
           "Ie Business School"
          ],
          [
           "Materials Science: 10 Things Every Engineer Should Know",
           48000,
           "University Of California, Davis"
          ],
          [
           "Основы Разработки На C++: Белый Пояс",
           41000,
           "E-Learning Development Fund"
          ],
          [
           "Networking And Security Architecture With Vmware Nsx",
           17000,
           "Vmware"
          ],
          [
           "Linear Circuits 1: Dc Analysis",
           29000,
           "Georgia Institute Of Technology"
          ],
          [
           "Introduction Aux Droits De L’Homme",
           46000,
           "University Of Geneva"
          ],
          [
           "High Performance Collaboration: Leadership, Teamwork, And Negotiation",
           46000,
           "Northwestern University"
          ],
          [
           "Agile И Scrum В Работе Над Проектами И Продуктами",
           12000,
           "Scrumtrek"
          ],
          [
           "Estadística Y Probabilidad",
           27000,
           "Universidad Nacional Autónoma De México"
          ],
          [
           "Classical Sociological Theory",
           51000,
           "University Of Amsterdam"
          ],
          [
           "Google Cloud Platform Fundamentals For Aws Professionals",
           36000,
           "Google Cloud"
          ],
          [
           "Introduction To Game Development",
           79000,
           "Michigan State University"
          ],
          [
           "Formulación Y Evaluación De Proyectos Complejos",
           4400,
           "Universidad De Los Andes"
          ],
          [
           "Digital Media And Marketing Strategies",
           57000,
           "University Of Illinois At Urbana-Champaign"
          ],
          [
           "Age Of Cathedrals",
           21000,
           "Yale University"
          ],
          [
           "Cost And Economics In Pricing Strategy",
           15000,
           "University Of Virginia"
          ],
          [
           "Digital Business Models",
           21000,
           "Lund University"
          ],
          [
           "Identifying, Monitoring, And Analyzing Risk And Incident Response And Recovery",
           1700,
           "(Isc)²"
          ],
          [
           "¿Qué Hacen Los Buenos Directivos? Prioridades De La Alta Dirección",
           25000,
           "Iese Business School"
          ],
          [
           "Software Processes And Agile Practices",
           60000,
           "University Of Alberta"
          ],
          [
           "Scaling Operations: Linking Strategy And Execution",
           12000,
           "Northwestern University"
          ],
          [
           "Aws Fundamentals: Building Serverless Applications",
           27000,
           "Amazon Web Services"
          ],
          [
           "Introduction To Big Data",
           160000,
           "University Of California San Diego"
          ],
          [
           "Front-End Web Development With React",
           45000,
           "The Hong Kong University Of Science And Technology"
          ],
          [
           "The Economics Of Health Care Delivery",
           7200,
           "University Of Pennsylvania"
          ],
          [
           "Introdução À Ciência Da Computação Com Python Parte 1",
           120000,
           "Universidade De São Paulo"
          ],
          [
           "Osteoarchaeology: The Truth In Our Bones",
           22000,
           "Universiteit Leiden"
          ],
          [
           "Python Classes And Inheritance",
           21000,
           "University Of Michigan"
          ],
          [
           "Electric Industry Operations And Markets",
           12000,
           "Duke University"
          ],
          [
           "Data And Health Indicators In Public Health Practice",
           18000,
           "Johns Hopkins University"
          ],
          [
           "Particle Physics: An Introduction",
           42000,
           "University Of Geneva"
          ],
          [
           "Mathematics For Machine Learning: Pca",
           33000,
           "Imperial College London"
          ],
          [
           "A Crash Course In Data Science",
           130000,
           "Johns Hopkins University"
          ],
          [
           "Research Data Management And Sharing",
           16000,
           "The University Of Edinburgh"
          ],
          [
           "Aspectos Básicos De La Planificación Y La Gestión De Proyectos",
           10000,
           "University Of Virginia"
          ],
          [
           "Introduction To Genomic Technologies",
           42000,
           "Johns Hopkins University"
          ],
          [
           "Introduction To Chemistry:  Reactions And Ratios",
           46000,
           "Duke University"
          ],
          [
           "Explorando La Energía Sustentable",
           28000,
           "Pontificia Universidad Católica De Chile"
          ],
          [
           "University Teaching",
           9500,
           "The University Of Hong Kong"
          ],
          [
           "Психолингвистика (Psycholinguistics)",
           21000,
           "Saint Petersburg State University"
          ],
          [
           "Building Resilient Streaming Analytics Systems On Gcp",
           5800,
           "Google Cloud"
          ],
          [
           "Object-Oriented Design",
           33000,
           "University Of Alberta"
          ],
          [
           "Погружение В Python",
           45000,
           "Moscow Institute Of Physics And Technology"
          ],
          [
           "Compassionate Leadership Through Service Learning With Jane Goodall And Roots & Shoots",
           6400,
           "University Of Colorado Boulder"
          ]
         ],
         "hovertemplate": "Title: <b>%{customdata[0]}</b><br>Students Enrolled: %{customdata[1]:,.0f}<br>Organization: %{customdata[2]}<br>Rating: %{x}<br>",
         "legendgroup": "Course",
         "marker": {
          "color": "#00cc96"
         },
         "name": "Course",
         "notched": false,
         "offsetgroup": "Course",
         "orientation": "h",
         "showlegend": true,
         "type": "box",
         "x": [
          4.9,
          4.9,
          4.8,
          4.9,
          4.9,
          4.8,
          4.8,
          4.8,
          4.8,
          4.8,
          4.8,
          4.9,
          4.7,
          4.9,
          4.7,
          4.9,
          4.7,
          4.7,
          4.7,
          4.8,
          4.7,
          4.7,
          4.9,
          4.8,
          4.6,
          4.7,
          4.8,
          4.9,
          4.7,
          4.7,
          4.8,
          4.9,
          4.9,
          4.8,
          4.8,
          4.9,
          4.7,
          4.7,
          4.8,
          4.5,
          4.7,
          4.6,
          4.7,
          4.6,
          4.6,
          4.6,
          4.8,
          4.7,
          4.8,
          4.6,
          4.7,
          4.8,
          4.7,
          4.8,
          4.8,
          4.8,
          4.8,
          4.5,
          4.8,
          4.8,
          4.6,
          4.9,
          4.8,
          4.6,
          4.8,
          4.7,
          4.8,
          4.7,
          4.9,
          4.6,
          4.7,
          4.7,
          4.9,
          4.8,
          4.9,
          4.8,
          4.7,
          4.8,
          4.6,
          4.8,
          4.9,
          4.7,
          4.7,
          4.6,
          4.8,
          4.8,
          4.6,
          4.8,
          4.9,
          4.8,
          4.8,
          4.8,
          4.8,
          4.8,
          4.8,
          4.5,
          4.7,
          4.6,
          4.7,
          4.7,
          4.8,
          4.4,
          4.7,
          4.6,
          4.8,
          4.8,
          4.7,
          4.9,
          4.8,
          4.8,
          4.7,
          4.6,
          4.6,
          4.7,
          4.8,
          4.8,
          4.8,
          4.7,
          4.8,
          4.7,
          4.6,
          4.8,
          4.8,
          4.5,
          4.8,
          4.6,
          4.7,
          4.8,
          4.7,
          4.9,
          4.8,
          4.8,
          4.6,
          4.6,
          4.9,
          4.8,
          4.7,
          4.9,
          4.8,
          4.8,
          4.4,
          4.8,
          4.8,
          4.8,
          4.5,
          4.6,
          4.6,
          4.6,
          4.2,
          4.8,
          4.8,
          4.6,
          4.2,
          4.8,
          4.7,
          4.8,
          4.6,
          4.8,
          4.7,
          4.8,
          4.7,
          4.5,
          4.8,
          4.5,
          4.6,
          4.6,
          4.6,
          4.7,
          4.4,
          4.5,
          4.6,
          4.9,
          4.8,
          4.6,
          4.7,
          4.8,
          4.7,
          4.7,
          4.7,
          4.9,
          4.8,
          4.8,
          4.6,
          4.9,
          4.5,
          4.7,
          4.7,
          4.5,
          4.7,
          4.7,
          4.8,
          4.7,
          4.8,
          4.7,
          4.6,
          4.8,
          4.7,
          4.9,
          4.7,
          4.8,
          4.8,
          4.8,
          4.6,
          4.9,
          4.5,
          4.6,
          4.8,
          4.7,
          4.5,
          4.6,
          4.6,
          4.6,
          4.7,
          4.9,
          4.6,
          4.6,
          4.8,
          4.8,
          4.8,
          4.7,
          4.5,
          4.6,
          4.7,
          4.8,
          4.8,
          4.7,
          4.7,
          4.8,
          4.6,
          4.8,
          4.6,
          4.8,
          4.3,
          4.7,
          4.7,
          4.8,
          4.9,
          4.5,
          4.8,
          4.7,
          4.7,
          4.8,
          4.8,
          4.7,
          4.7,
          4.8,
          4.9,
          4.7,
          4.7,
          4.7,
          4.7,
          4.8,
          4.9,
          4.5,
          4.6,
          4.8,
          4.8,
          4.7,
          4.8,
          4.8,
          4.9,
          4.8,
          4.6,
          4.8,
          4.8,
          4.8,
          4.8,
          4.8,
          4.7,
          4.8,
          4.8,
          4.8,
          4.8,
          4.7,
          4.7,
          4.6,
          4.8,
          4.5,
          4.7,
          4.7,
          4.9,
          4.7,
          4.8,
          4.7,
          4.8,
          4.7,
          4.7,
          4.5,
          4.7,
          4.8,
          4.6,
          4.9,
          4.8,
          4.7,
          4.7,
          4.4,
          4.8,
          4.8,
          4.7,
          4.7,
          4.6,
          4.2,
          4.9,
          4.8,
          4.8,
          4.8,
          4.7,
          4.8,
          4.5,
          4.9,
          4.7,
          4.7,
          4.7,
          4.4,
          4.7,
          4.8,
          4.5,
          4.7,
          4.5,
          4.6,
          4.9,
          4.7,
          4.6,
          4.8,
          4.8,
          4.7,
          4.6,
          4.6,
          4.6,
          4.5,
          4.9,
          4.8,
          4.8,
          4.7,
          4.7,
          4.6,
          4.6,
          4.8,
          4.8,
          4.8,
          4.8,
          4.8,
          4.8,
          4.7,
          4.5,
          4.8,
          4.8,
          4.7,
          4.3,
          4.6,
          4.6,
          4.7,
          4.8,
          4.9,
          4.9,
          4.8,
          4.8,
          4.8,
          4.7,
          4.8,
          4.4,
          4.7,
          4.7,
          4.6,
          4.3,
          4.9,
          4.6,
          4.7,
          4.8,
          4.9,
          4.7,
          4.9,
          4.6,
          4.7,
          4.6,
          4.5,
          4.9,
          4.6,
          4.9,
          4.5,
          4.7,
          4.6,
          4.9,
          4.5,
          4.7,
          4.8,
          4.9,
          4.7,
          4,
          4.6,
          4.7,
          4.5,
          4.5,
          4.8,
          4.7,
          4.8,
          4.7,
          4.9,
          4.8,
          4.5,
          4.8,
          4.8,
          4.6,
          4.8,
          4.6,
          4.8,
          4.7,
          4.5,
          4.7,
          4.4,
          4.8,
          4.7,
          4.6,
          4.9,
          4.8,
          4.7,
          4.6,
          4.6,
          4.3,
          4.7,
          4.8,
          4.9,
          4.8,
          4.4,
          4.7,
          4.6,
          4.7,
          4.6,
          4.6,
          4.7,
          4.8,
          4.7,
          4.9,
          4.7,
          4.7,
          4.8,
          4.6,
          4.7,
          4.7,
          4.7,
          4.8,
          4.7,
          4.7,
          4.8,
          4.7,
          4.8,
          4.7,
          4.8,
          4.8,
          4.2,
          4.7,
          4.6,
          4.8,
          4.8,
          4.8,
          4.7,
          4.8,
          4.7,
          4.8,
          4.7,
          4.8,
          4.8,
          4.6,
          4.8,
          4.7,
          4.7,
          4.8,
          4.8,
          4.7,
          4.8,
          4.8,
          4.6,
          4.6,
          4.8,
          4.8,
          4.7,
          3.3,
          4.7,
          4.7,
          4.4,
          4.8,
          4.8,
          4.9,
          4.5,
          4.8,
          4.7,
          4.5,
          4.4,
          4.3,
          4.8,
          4.7,
          4.9,
          4.8,
          4.8,
          4.8,
          5,
          4.8,
          4.6,
          4.7,
          4.8,
          4.7,
          4.6,
          4.8,
          4.6,
          4.8,
          4.7,
          4.7,
          4.2,
          4.8,
          4.4,
          4.7,
          4.4,
          4.7,
          4.6,
          4.8,
          4.6,
          4.8,
          4.8,
          4.6,
          4.6,
          4.7,
          4.6,
          4.2,
          4.7,
          4.7,
          4.5,
          4.8,
          4.9,
          4.5,
          4.7,
          4.8,
          4.6,
          4.8,
          4.7,
          4.8,
          4.6,
          4.6,
          4.8,
          4.5,
          4.7,
          4.9,
          4.8,
          4.6,
          4.8,
          4.8,
          4.9,
          4.7,
          4.8,
          4.7,
          4.8,
          4.9,
          4.4,
          4.7,
          4.8,
          4.5,
          4.9,
          4.7,
          4.7,
          4.5,
          4.7,
          4.6,
          4.7,
          4.8,
          4.9,
          4.7,
          4.7,
          4.8,
          4.7,
          4.5,
          4,
          4.5,
          4.6,
          4.9,
          4.6,
          4.8,
          4.8,
          4.8,
          4.8,
          4.6,
          4.7,
          4.7,
          4.9
         ],
         "x0": " ",
         "xaxis": "x",
         "y": [
          "Mixed",
          "Mixed",
          "Beginner",
          "Beginner",
          "Beginner",
          "Mixed",
          "Mixed",
          "Beginner",
          "Mixed",
          "Beginner",
          "Mixed",
          "Intermediate",
          "Beginner",
          "Beginner",
          "Mixed",
          "Beginner",
          "Mixed",
          "Beginner",
          "Beginner",
          "Beginner",
          "Beginner",
          "Beginner",
          "Beginner",
          "Beginner",
          "Beginner",
          "Beginner",
          "Mixed",
          "Mixed",
          "Beginner",
          "Beginner",
          "Mixed",
          "Mixed",
          "Beginner",
          "Mixed",
          "Beginner",
          "Beginner",
          "Intermediate",
          "Beginner",
          "Mixed",
          "Intermediate",
          "Mixed",
          "Beginner",
          "Beginner",
          "Beginner",
          "Beginner",
          "Mixed",
          "Beginner",
          "Beginner",
          "Beginner",
          "Mixed",
          "Mixed",
          "Beginner",
          "Mixed",
          "Mixed",
          "Mixed",
          "Beginner",
          "Mixed",
          "Intermediate",
          "Beginner",
          "Intermediate",
          "Mixed",
          "Beginner",
          "Beginner",
          "Beginner",
          "Mixed",
          "Intermediate",
          "Mixed",
          "Mixed",
          "Intermediate",
          "Mixed",
          "Beginner",
          "Mixed",
          "Advanced",
          "Mixed",
          "Intermediate",
          "Beginner",
          "Beginner",
          "Beginner",
          "Intermediate",
          "Mixed",
          "Mixed",
          "Intermediate",
          "Beginner",
          "Mixed",
          "Beginner",
          "Beginner",
          "Mixed",
          "Mixed",
          "Beginner",
          "Mixed",
          "Beginner",
          "Beginner",
          "Beginner",
          "Beginner",
          "Beginner",
          "Mixed",
          "Beginner",
          "Intermediate",
          "Beginner",
          "Advanced",
          "Mixed",
          "Mixed",
          "Mixed",
          "Mixed",
          "Mixed",
          "Beginner",
          "Beginner",
          "Beginner",
          "Beginner",
          "Mixed",
          "Beginner",
          "Mixed",
          "Intermediate",
          "Beginner",
          "Intermediate",
          "Mixed",
          "Beginner",
          "Mixed",
          "Beginner",
          "Beginner",
          "Mixed",
          "Intermediate",
          "Mixed",
          "Advanced",
          "Beginner",
          "Mixed",
          "Mixed",
          "Beginner",
          "Beginner",
          "Beginner",
          "Mixed",
          "Intermediate",
          "Beginner",
          "Intermediate",
          "Beginner",
          "Mixed",
          "Intermediate",
          "Beginner",
          "Mixed",
          "Mixed",
          "Beginner",
          "Mixed",
          "Mixed",
          "Beginner",
          "Mixed",
          "Beginner",
          "Mixed",
          "Mixed",
          "Mixed",
          "Intermediate",
          "Mixed",
          "Beginner",
          "Mixed",
          "Beginner",
          "Intermediate",
          "Mixed",
          "Mixed",
          "Mixed",
          "Beginner",
          "Beginner",
          "Intermediate",
          "Mixed",
          "Beginner",
          "Mixed",
          "Beginner",
          "Beginner",
          "Beginner",
          "Mixed",
          "Intermediate",
          "Beginner",
          "Beginner",
          "Mixed",
          "Intermediate",
          "Mixed",
          "Beginner",
          "Mixed",
          "Beginner",
          "Beginner",
          "Mixed",
          "Intermediate",
          "Beginner",
          "Mixed",
          "Mixed",
          "Mixed",
          "Beginner",
          "Mixed",
          "Mixed",
          "Beginner",
          "Beginner",
          "Beginner",
          "Beginner",
          "Beginner",
          "Beginner",
          "Mixed",
          "Beginner",
          "Intermediate",
          "Mixed",
          "Mixed",
          "Intermediate",
          "Mixed",
          "Beginner",
          "Intermediate",
          "Intermediate",
          "Mixed",
          "Intermediate",
          "Beginner",
          "Beginner",
          "Beginner",
          "Beginner",
          "Mixed",
          "Intermediate",
          "Intermediate",
          "Beginner",
          "Intermediate",
          "Beginner",
          "Beginner",
          "Beginner",
          "Mixed",
          "Beginner",
          "Intermediate",
          "Beginner",
          "Beginner",
          "Intermediate",
          "Beginner",
          "Mixed",
          "Beginner",
          "Beginner",
          "Beginner",
          "Mixed",
          "Mixed",
          "Beginner",
          "Beginner",
          "Mixed",
          "Mixed",
          "Beginner",
          "Beginner",
          "Beginner",
          "Beginner",
          "Beginner",
          "Mixed",
          "Beginner",
          "Intermediate",
          "Beginner",
          "Beginner",
          "Beginner",
          "Mixed",
          "Mixed",
          "Beginner",
          "Beginner",
          "Mixed",
          "Beginner",
          "Intermediate",
          "Beginner",
          "Beginner",
          "Intermediate",
          "Intermediate",
          "Intermediate",
          "Beginner",
          "Mixed",
          "Mixed",
          "Beginner",
          "Intermediate",
          "Beginner",
          "Mixed",
          "Advanced",
          "Intermediate",
          "Beginner",
          "Beginner",
          "Intermediate",
          "Mixed",
          "Mixed",
          "Beginner",
          "Beginner",
          "Beginner",
          "Beginner",
          "Beginner",
          "Beginner",
          "Beginner",
          "Mixed",
          "Intermediate",
          "Beginner",
          "Mixed",
          "Mixed",
          "Beginner",
          "Mixed",
          "Beginner",
          "Beginner",
          "Mixed",
          "Mixed",
          "Intermediate",
          "Mixed",
          "Beginner",
          "Beginner",
          "Beginner",
          "Beginner",
          "Beginner",
          "Mixed",
          "Intermediate",
          "Intermediate",
          "Mixed",
          "Beginner",
          "Mixed",
          "Beginner",
          "Mixed",
          "Intermediate",
          "Beginner",
          "Mixed",
          "Beginner",
          "Beginner",
          "Mixed",
          "Beginner",
          "Intermediate",
          "Intermediate",
          "Beginner",
          "Beginner",
          "Mixed",
          "Intermediate",
          "Mixed",
          "Beginner",
          "Beginner",
          "Intermediate",
          "Mixed",
          "Intermediate",
          "Mixed",
          "Mixed",
          "Mixed",
          "Beginner",
          "Beginner",
          "Beginner",
          "Beginner",
          "Mixed",
          "Beginner",
          "Mixed",
          "Advanced",
          "Intermediate",
          "Beginner",
          "Beginner",
          "Beginner",
          "Intermediate",
          "Beginner",
          "Beginner",
          "Beginner",
          "Intermediate",
          "Beginner",
          "Mixed",
          "Beginner",
          "Beginner",
          "Beginner",
          "Intermediate",
          "Beginner",
          "Beginner",
          "Mixed",
          "Mixed",
          "Beginner",
          "Mixed",
          "Mixed",
          "Beginner",
          "Beginner",
          "Beginner",
          "Intermediate",
          "Beginner",
          "Mixed",
          "Mixed",
          "Intermediate",
          "Beginner",
          "Beginner",
          "Beginner",
          "Beginner",
          "Mixed",
          "Beginner",
          "Intermediate",
          "Intermediate",
          "Beginner",
          "Mixed",
          "Beginner",
          "Beginner",
          "Beginner",
          "Beginner",
          "Mixed",
          "Intermediate",
          "Mixed",
          "Mixed",
          "Mixed",
          "Intermediate",
          "Beginner",
          "Beginner",
          "Intermediate",
          "Mixed",
          "Intermediate",
          "Beginner",
          "Beginner",
          "Beginner",
          "Advanced",
          "Mixed",
          "Intermediate",
          "Beginner",
          "Beginner",
          "Beginner",
          "Mixed",
          "Beginner",
          "Beginner",
          "Beginner",
          "Beginner",
          "Beginner",
          "Mixed",
          "Intermediate",
          "Beginner",
          "Beginner",
          "Advanced",
          "Beginner",
          "Mixed",
          "Mixed",
          "Beginner",
          "Beginner",
          "Beginner",
          "Intermediate",
          "Beginner",
          "Intermediate",
          "Mixed",
          "Beginner",
          "Beginner",
          "Intermediate",
          "Beginner",
          "Mixed",
          "Advanced",
          "Beginner",
          "Beginner",
          "Beginner",
          "Mixed",
          "Intermediate",
          "Mixed",
          "Mixed",
          "Beginner",
          "Beginner",
          "Intermediate",
          "Beginner",
          "Beginner",
          "Beginner",
          "Beginner",
          "Beginner",
          "Beginner",
          "Beginner",
          "Beginner",
          "Intermediate",
          "Mixed",
          "Intermediate",
          "Beginner",
          "Advanced",
          "Intermediate",
          "Beginner",
          "Beginner",
          "Intermediate",
          "Beginner",
          "Beginner",
          "Beginner",
          "Intermediate",
          "Mixed",
          "Intermediate",
          "Beginner",
          "Mixed",
          "Beginner",
          "Beginner",
          "Beginner",
          "Intermediate",
          "Mixed",
          "Intermediate",
          "Mixed",
          "Mixed",
          "Mixed",
          "Beginner",
          "Beginner",
          "Intermediate",
          "Beginner",
          "Intermediate",
          "Mixed",
          "Beginner",
          "Mixed",
          "Intermediate",
          "Beginner",
          "Beginner",
          "Beginner",
          "Beginner",
          "Mixed",
          "Beginner",
          "Mixed",
          "Beginner",
          "Beginner",
          "Intermediate",
          "Beginner",
          "Intermediate",
          "Intermediate",
          "Mixed",
          "Mixed",
          "Intermediate",
          "Mixed",
          "Beginner",
          "Intermediate",
          "Beginner",
          "Intermediate",
          "Beginner",
          "Beginner",
          "Beginner",
          "Mixed",
          "Intermediate",
          "Beginner",
          "Mixed",
          "Beginner",
          "Intermediate",
          "Beginner",
          "Intermediate",
          "Beginner",
          "Intermediate",
          "Beginner",
          "Beginner",
          "Beginner",
          "Mixed",
          "Beginner",
          "Mixed",
          "Beginner",
          "Mixed",
          "Mixed",
          "Beginner",
          "Beginner",
          "Beginner",
          "Mixed",
          "Mixed",
          "Mixed",
          "Beginner",
          "Intermediate",
          "Mixed",
          "Mixed",
          "Mixed",
          "Beginner",
          "Beginner",
          "Mixed",
          "Mixed",
          "Intermediate",
          "Mixed",
          "Intermediate",
          "Mixed",
          "Intermediate",
          "Intermediate",
          "Mixed",
          "Mixed",
          "Mixed",
          "Beginner",
          "Beginner",
          "Mixed",
          "Intermediate",
          "Mixed",
          "Intermediate",
          "Mixed",
          "Beginner",
          "Beginner",
          "Beginner",
          "Beginner",
          "Beginner",
          "Mixed",
          "Mixed",
          "Beginner",
          "Mixed",
          "Intermediate",
          "Mixed",
          "Beginner",
          "Beginner",
          "Intermediate",
          "Beginner",
          "Beginner",
          "Mixed",
          "Intermediate",
          "Mixed",
          "Mixed",
          "Beginner",
          "Mixed",
          "Beginner",
          "Beginner",
          "Beginner",
          "Mixed",
          "Intermediate",
          "Intermediate",
          "Intermediate",
          "Beginner"
         ],
         "y0": " ",
         "yaxis": "y"
        }
       ],
       "layout": {
        "boxmode": "group",
        "hoverlabel": {
         "bgcolor": "white",
         "bordercolor": "white",
         "font": {
          "color": "#494a5e"
         }
        },
        "legend": {
         "orientation": "h",
         "title": {
          "text": "Certificate type"
         },
         "tracegroupgap": 0,
         "x": 1,
         "xanchor": "right",
         "y": 1.02,
         "yanchor": "bottom"
        },
        "margin": {
         "t": 60
        },
        "plot_bgcolor": "white",
        "template": {
         "data": {
          "bar": [
           {
            "error_x": {
             "color": "#2a3f5f"
            },
            "error_y": {
             "color": "#2a3f5f"
            },
            "marker": {
             "line": {
              "color": "#E5ECF6",
              "width": 0.5
             },
             "pattern": {
              "fillmode": "overlay",
              "size": 10,
              "solidity": 0.2
             }
            },
            "type": "bar"
           }
          ],
          "barpolar": [
           {
            "marker": {
             "line": {
              "color": "#E5ECF6",
              "width": 0.5
             },
             "pattern": {
              "fillmode": "overlay",
              "size": 10,
              "solidity": 0.2
             }
            },
            "type": "barpolar"
           }
          ],
          "carpet": [
           {
            "aaxis": {
             "endlinecolor": "#2a3f5f",
             "gridcolor": "white",
             "linecolor": "white",
             "minorgridcolor": "white",
             "startlinecolor": "#2a3f5f"
            },
            "baxis": {
             "endlinecolor": "#2a3f5f",
             "gridcolor": "white",
             "linecolor": "white",
             "minorgridcolor": "white",
             "startlinecolor": "#2a3f5f"
            },
            "type": "carpet"
           }
          ],
          "choropleth": [
           {
            "colorbar": {
             "outlinewidth": 0,
             "ticks": ""
            },
            "type": "choropleth"
           }
          ],
          "contour": [
           {
            "colorbar": {
             "outlinewidth": 0,
             "ticks": ""
            },
            "colorscale": [
             [
              0,
              "#0d0887"
             ],
             [
              0.1111111111111111,
              "#46039f"
             ],
             [
              0.2222222222222222,
              "#7201a8"
             ],
             [
              0.3333333333333333,
              "#9c179e"
             ],
             [
              0.4444444444444444,
              "#bd3786"
             ],
             [
              0.5555555555555556,
              "#d8576b"
             ],
             [
              0.6666666666666666,
              "#ed7953"
             ],
             [
              0.7777777777777778,
              "#fb9f3a"
             ],
             [
              0.8888888888888888,
              "#fdca26"
             ],
             [
              1,
              "#f0f921"
             ]
            ],
            "type": "contour"
           }
          ],
          "contourcarpet": [
           {
            "colorbar": {
             "outlinewidth": 0,
             "ticks": ""
            },
            "type": "contourcarpet"
           }
          ],
          "heatmap": [
           {
            "colorbar": {
             "outlinewidth": 0,
             "ticks": ""
            },
            "colorscale": [
             [
              0,
              "#0d0887"
             ],
             [
              0.1111111111111111,
              "#46039f"
             ],
             [
              0.2222222222222222,
              "#7201a8"
             ],
             [
              0.3333333333333333,
              "#9c179e"
             ],
             [
              0.4444444444444444,
              "#bd3786"
             ],
             [
              0.5555555555555556,
              "#d8576b"
             ],
             [
              0.6666666666666666,
              "#ed7953"
             ],
             [
              0.7777777777777778,
              "#fb9f3a"
             ],
             [
              0.8888888888888888,
              "#fdca26"
             ],
             [
              1,
              "#f0f921"
             ]
            ],
            "type": "heatmap"
           }
          ],
          "heatmapgl": [
           {
            "colorbar": {
             "outlinewidth": 0,
             "ticks": ""
            },
            "colorscale": [
             [
              0,
              "#0d0887"
             ],
             [
              0.1111111111111111,
              "#46039f"
             ],
             [
              0.2222222222222222,
              "#7201a8"
             ],
             [
              0.3333333333333333,
              "#9c179e"
             ],
             [
              0.4444444444444444,
              "#bd3786"
             ],
             [
              0.5555555555555556,
              "#d8576b"
             ],
             [
              0.6666666666666666,
              "#ed7953"
             ],
             [
              0.7777777777777778,
              "#fb9f3a"
             ],
             [
              0.8888888888888888,
              "#fdca26"
             ],
             [
              1,
              "#f0f921"
             ]
            ],
            "type": "heatmapgl"
           }
          ],
          "histogram": [
           {
            "marker": {
             "pattern": {
              "fillmode": "overlay",
              "size": 10,
              "solidity": 0.2
             }
            },
            "type": "histogram"
           }
          ],
          "histogram2d": [
           {
            "colorbar": {
             "outlinewidth": 0,
             "ticks": ""
            },
            "colorscale": [
             [
              0,
              "#0d0887"
             ],
             [
              0.1111111111111111,
              "#46039f"
             ],
             [
              0.2222222222222222,
              "#7201a8"
             ],
             [
              0.3333333333333333,
              "#9c179e"
             ],
             [
              0.4444444444444444,
              "#bd3786"
             ],
             [
              0.5555555555555556,
              "#d8576b"
             ],
             [
              0.6666666666666666,
              "#ed7953"
             ],
             [
              0.7777777777777778,
              "#fb9f3a"
             ],
             [
              0.8888888888888888,
              "#fdca26"
             ],
             [
              1,
              "#f0f921"
             ]
            ],
            "type": "histogram2d"
           }
          ],
          "histogram2dcontour": [
           {
            "colorbar": {
             "outlinewidth": 0,
             "ticks": ""
            },
            "colorscale": [
             [
              0,
              "#0d0887"
             ],
             [
              0.1111111111111111,
              "#46039f"
             ],
             [
              0.2222222222222222,
              "#7201a8"
             ],
             [
              0.3333333333333333,
              "#9c179e"
             ],
             [
              0.4444444444444444,
              "#bd3786"
             ],
             [
              0.5555555555555556,
              "#d8576b"
             ],
             [
              0.6666666666666666,
              "#ed7953"
             ],
             [
              0.7777777777777778,
              "#fb9f3a"
             ],
             [
              0.8888888888888888,
              "#fdca26"
             ],
             [
              1,
              "#f0f921"
             ]
            ],
            "type": "histogram2dcontour"
           }
          ],
          "mesh3d": [
           {
            "colorbar": {
             "outlinewidth": 0,
             "ticks": ""
            },
            "type": "mesh3d"
           }
          ],
          "parcoords": [
           {
            "line": {
             "colorbar": {
              "outlinewidth": 0,
              "ticks": ""
             }
            },
            "type": "parcoords"
           }
          ],
          "pie": [
           {
            "automargin": true,
            "type": "pie"
           }
          ],
          "scatter": [
           {
            "fillpattern": {
             "fillmode": "overlay",
             "size": 10,
             "solidity": 0.2
            },
            "type": "scatter"
           }
          ],
          "scatter3d": [
           {
            "line": {
             "colorbar": {
              "outlinewidth": 0,
              "ticks": ""
             }
            },
            "marker": {
             "colorbar": {
              "outlinewidth": 0,
              "ticks": ""
             }
            },
            "type": "scatter3d"
           }
          ],
          "scattercarpet": [
           {
            "marker": {
             "colorbar": {
              "outlinewidth": 0,
              "ticks": ""
             }
            },
            "type": "scattercarpet"
           }
          ],
          "scattergeo": [
           {
            "marker": {
             "colorbar": {
              "outlinewidth": 0,
              "ticks": ""
             }
            },
            "type": "scattergeo"
           }
          ],
          "scattergl": [
           {
            "marker": {
             "colorbar": {
              "outlinewidth": 0,
              "ticks": ""
             }
            },
            "type": "scattergl"
           }
          ],
          "scattermapbox": [
           {
            "marker": {
             "colorbar": {
              "outlinewidth": 0,
              "ticks": ""
             }
            },
            "type": "scattermapbox"
           }
          ],
          "scatterpolar": [
           {
            "marker": {
             "colorbar": {
              "outlinewidth": 0,
              "ticks": ""
             }
            },
            "type": "scatterpolar"
           }
          ],
          "scatterpolargl": [
           {
            "marker": {
             "colorbar": {
              "outlinewidth": 0,
              "ticks": ""
             }
            },
            "type": "scatterpolargl"
           }
          ],
          "scatterternary": [
           {
            "marker": {
             "colorbar": {
              "outlinewidth": 0,
              "ticks": ""
             }
            },
            "type": "scatterternary"
           }
          ],
          "surface": [
           {
            "colorbar": {
             "outlinewidth": 0,
             "ticks": ""
            },
            "colorscale": [
             [
              0,
              "#0d0887"
             ],
             [
              0.1111111111111111,
              "#46039f"
             ],
             [
              0.2222222222222222,
              "#7201a8"
             ],
             [
              0.3333333333333333,
              "#9c179e"
             ],
             [
              0.4444444444444444,
              "#bd3786"
             ],
             [
              0.5555555555555556,
              "#d8576b"
             ],
             [
              0.6666666666666666,
              "#ed7953"
             ],
             [
              0.7777777777777778,
              "#fb9f3a"
             ],
             [
              0.8888888888888888,
              "#fdca26"
             ],
             [
              1,
              "#f0f921"
             ]
            ],
            "type": "surface"
           }
          ],
          "table": [
           {
            "cells": {
             "fill": {
              "color": "#EBF0F8"
             },
             "line": {
              "color": "white"
             }
            },
            "header": {
             "fill": {
              "color": "#C8D4E3"
             },
             "line": {
              "color": "white"
             }
            },
            "type": "table"
           }
          ]
         },
         "layout": {
          "annotationdefaults": {
           "arrowcolor": "#2a3f5f",
           "arrowhead": 0,
           "arrowwidth": 1
          },
          "autotypenumbers": "strict",
          "coloraxis": {
           "colorbar": {
            "outlinewidth": 0,
            "ticks": ""
           }
          },
          "colorscale": {
           "diverging": [
            [
             0,
             "#8e0152"
            ],
            [
             0.1,
             "#c51b7d"
            ],
            [
             0.2,
             "#de77ae"
            ],
            [
             0.3,
             "#f1b6da"
            ],
            [
             0.4,
             "#fde0ef"
            ],
            [
             0.5,
             "#f7f7f7"
            ],
            [
             0.6,
             "#e6f5d0"
            ],
            [
             0.7,
             "#b8e186"
            ],
            [
             0.8,
             "#7fbc41"
            ],
            [
             0.9,
             "#4d9221"
            ],
            [
             1,
             "#276419"
            ]
           ],
           "sequential": [
            [
             0,
             "#0d0887"
            ],
            [
             0.1111111111111111,
             "#46039f"
            ],
            [
             0.2222222222222222,
             "#7201a8"
            ],
            [
             0.3333333333333333,
             "#9c179e"
            ],
            [
             0.4444444444444444,
             "#bd3786"
            ],
            [
             0.5555555555555556,
             "#d8576b"
            ],
            [
             0.6666666666666666,
             "#ed7953"
            ],
            [
             0.7777777777777778,
             "#fb9f3a"
            ],
            [
             0.8888888888888888,
             "#fdca26"
            ],
            [
             1,
             "#f0f921"
            ]
           ],
           "sequentialminus": [
            [
             0,
             "#0d0887"
            ],
            [
             0.1111111111111111,
             "#46039f"
            ],
            [
             0.2222222222222222,
             "#7201a8"
            ],
            [
             0.3333333333333333,
             "#9c179e"
            ],
            [
             0.4444444444444444,
             "#bd3786"
            ],
            [
             0.5555555555555556,
             "#d8576b"
            ],
            [
             0.6666666666666666,
             "#ed7953"
            ],
            [
             0.7777777777777778,
             "#fb9f3a"
            ],
            [
             0.8888888888888888,
             "#fdca26"
            ],
            [
             1,
             "#f0f921"
            ]
           ]
          },
          "colorway": [
           "#636efa",
           "#EF553B",
           "#00cc96",
           "#ab63fa",
           "#FFA15A",
           "#19d3f3",
           "#FF6692",
           "#B6E880",
           "#FF97FF",
           "#FECB52"
          ],
          "font": {
           "color": "#2a3f5f"
          },
          "geo": {
           "bgcolor": "white",
           "lakecolor": "white",
           "landcolor": "#E5ECF6",
           "showlakes": true,
           "showland": true,
           "subunitcolor": "white"
          },
          "hoverlabel": {
           "align": "left"
          },
          "hovermode": "closest",
          "mapbox": {
           "style": "light"
          },
          "paper_bgcolor": "white",
          "plot_bgcolor": "#E5ECF6",
          "polar": {
           "angularaxis": {
            "gridcolor": "white",
            "linecolor": "white",
            "ticks": ""
           },
           "bgcolor": "#E5ECF6",
           "radialaxis": {
            "gridcolor": "white",
            "linecolor": "white",
            "ticks": ""
           }
          },
          "scene": {
           "xaxis": {
            "backgroundcolor": "#E5ECF6",
            "gridcolor": "white",
            "gridwidth": 2,
            "linecolor": "white",
            "showbackground": true,
            "ticks": "",
            "zerolinecolor": "white"
           },
           "yaxis": {
            "backgroundcolor": "#E5ECF6",
            "gridcolor": "white",
            "gridwidth": 2,
            "linecolor": "white",
            "showbackground": true,
            "ticks": "",
            "zerolinecolor": "white"
           },
           "zaxis": {
            "backgroundcolor": "#E5ECF6",
            "gridcolor": "white",
            "gridwidth": 2,
            "linecolor": "white",
            "showbackground": true,
            "ticks": "",
            "zerolinecolor": "white"
           }
          },
          "shapedefaults": {
           "line": {
            "color": "#2a3f5f"
           }
          },
          "ternary": {
           "aaxis": {
            "gridcolor": "white",
            "linecolor": "white",
            "ticks": ""
           },
           "baxis": {
            "gridcolor": "white",
            "linecolor": "white",
            "ticks": ""
           },
           "bgcolor": "#E5ECF6",
           "caxis": {
            "gridcolor": "white",
            "linecolor": "white",
            "ticks": ""
           }
          },
          "title": {
           "x": 0.05
          },
          "xaxis": {
           "automargin": true,
           "gridcolor": "white",
           "linecolor": "white",
           "ticks": "",
           "title": {
            "standoff": 15
           },
           "zerolinecolor": "white",
           "zerolinewidth": 2
          },
          "yaxis": {
           "automargin": true,
           "gridcolor": "white",
           "linecolor": "white",
           "ticks": "",
           "title": {
            "standoff": 15
           },
           "zerolinecolor": "white",
           "zerolinewidth": 2
          }
         }
        },
        "title": {
         "text": "Distribution of course ratings"
        },
        "xaxis": {
         "anchor": "y",
         "domain": [
          0,
          1
         ],
         "range": [
          0,
          5
         ],
         "title": {
          "text": "Rating"
         }
        },
        "yaxis": {
         "anchor": "x",
         "domain": [
          0,
          1
         ],
         "title": {
          "text": "Difficulty"
         }
        }
       }
      },
      "image/png": "[encoded data removed]"
     },
     "metadata": {},
     "output_type": "display_data"
    }
   ],
   "source": [
    "fig = px.box(df, y = \"course_difficulty\", x=\"course_rating\", color = \"course_Certificate_type\", custom_data=[\"course_title\", \"course_students_enrolled\", \"course_organization\"])\n",
    "fig.update_layout(\n",
    "    title = \"Distribution of course ratings\",\n",
    "    xaxis=dict(\n",
    "        title=\"Rating\",\n",
    "        range=[0, 5] \n",
    "    ),\n",
    "    yaxis_title = \"Difficulty\",\n",
    "    legend_title = \"Certificate type\",\n",
    "    plot_bgcolor= \"white\",\n",
    "    hoverlabel=dict(\n",
    "        bgcolor=\"white\",\n",
    "        bordercolor = \"white\",\n",
    "        font=dict(\n",
    "            color=\"#494a5e\"\n",
    "        )\n",
    "    ),\n",
    "    legend=dict(\n",
    "    orientation=\"h\",\n",
    "    yanchor=\"bottom\",\n",
    "    y=1.02,\n",
    "    xanchor=\"right\",\n",
    "    x=1\n",
    "    )\n",
    ")         \n",
    "fig.update_traces(\n",
    "    hovertemplate=\"Title: <b>%{customdata[0]}</b><br>\" + \n",
    "                \"Students Enrolled: %{customdata[1]:,.0f}<br>\" +\n",
    "                  \"Organization: %{customdata[2]}<br>\" +\n",
    "                  \"Rating: %{x}<br>\",\n",
    "    boxmean=True\n",
    ")\n",
    "\n",
    "fig.show()"
   ]
  },
  {
   "cell_type": "markdown",
   "metadata": {},
   "source": [
    "Most courses have higher than 4 stars ratings. I checked couple which have way lower ones like [\"How To Create A Website In A Weekend! (Project-Centered Course)\"](https://www.coursera.org/learn/how-to-create-a-website) and ratings are indeed correct to be this low. Thus, same as before, I will keep them fpr further analysis."
   ]
  },
  {
   "cell_type": "markdown",
   "metadata": {},
   "source": [
    "### Exploratory Data Analysis (EDA)"
   ]
  }
 ],
 "metadata": {
  "kernelspec": {
   "display_name": "turing",
   "language": "python",
   "name": "python3"
  },
  "language_info": {
   "codemirror_mode": {
    "name": "ipython",
    "version": 3
   },
   "file_extension": ".py",
   "mimetype": "text/x-python",
   "name": "python",
   "nbconvert_exporter": "python",
   "pygments_lexer": "ipython3",
   "version": "3.12.4"
  }
 },
 "nbformat": 4,
 "nbformat_minor": 2
}
