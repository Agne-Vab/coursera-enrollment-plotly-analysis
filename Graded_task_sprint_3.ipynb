{
 "cells": [
  {
   "cell_type": "markdown",
   "metadata": {},
   "source": [
    "# Sprint: Data Visualization with Python\n",
    "## Coursera Course Dataset Analysis\n",
    "\n",
    "### Table of Contents\n",
    "1. [Introduction](#introduction)\n",
    "2. [Data Import](#data-import)\n",
    "3. [Data Cleaning](#data-cleaning)\n",
    "4. [Exploratory Data Analysis (EDA)](#exploratory-data-analysis-eda)\n",
    "\n",
    "*P.S. Clickable ToC function works in Jupiter notebook environment.*\n",
    "\n",
    "*P.P.S. To be able to interact with Plotly generated plots and see hover labels, make sure to download the notebook.*"
   ]
  },
  {
   "cell_type": "markdown",
   "metadata": {},
   "source": [
    "<a id=\"introduction\"></a>\n",
    "\n",
    "---\n",
    "\n",
    "### Introduction\n",
    "\n",
    "**Goal of this analysis**  is to provide useful insight to Coursera organization on how to increase student enrolment numbers. In order to do that, I will explore several research questions:\n",
    "- Are there organizations that tend to attract more students to their courses? \n",
    "- How do course ratings correlate with the number of students enrolled?\n",
    "- What are the enrollment patterns associated with different certificate types?\n",
    "- How does course difficulty relate to the number of students enrolled in courses?"
   ]
  },
  {
   "cell_type": "markdown",
   "metadata": {},
   "source": [
    "### Data Import\n",
    "Importing all needed libraries for analysis and visualization. Also, making sure that plots are displayed inline and work with Jupiter notebook format. Plotly interactive plots do not get displayed on Github, was adding svg file formate to be used as an alternative one for them. For context, this notebook as created in VS Code environment. "
   ]
  },
  {
   "cell_type": "code",
   "execution_count": 511,
   "metadata": {},
   "outputs": [
    {
     "data": {
      "text/html": [
       "        <script type=\"text/javascript\">\n",
       "        window.PlotlyConfig = {MathJaxConfig: 'local'};\n",
       "        if (window.MathJax && window.MathJax.Hub && window.MathJax.Hub.Config) {window.MathJax.Hub.Config({SVG: {font: \"STIX-Web\"}});}\n",
       "        if (typeof require !== 'undefined') {\n",
       "        require.undef(\"plotly\");\n",
       "        requirejs.config({\n",
       "            paths: {\n",
       "                'plotly': ['https://cdn.plot.ly/plotly-2.35.2.min']\n",
       "            }\n",
       "        });\n",
       "        require(['plotly'], function(Plotly) {\n",
       "            window._Plotly = Plotly;\n",
       "        });\n",
       "        }\n",
       "        </script>\n",
       "        "
      ]
     },
     "metadata": {},
     "output_type": "display_data"
    },
    {
     "data": {
      "text/html": [
       "        <script type=\"text/javascript\">\n",
       "        window.PlotlyConfig = {MathJaxConfig: 'local'};\n",
       "        if (window.MathJax && window.MathJax.Hub && window.MathJax.Hub.Config) {window.MathJax.Hub.Config({SVG: {font: \"STIX-Web\"}});}\n",
       "        if (typeof require !== 'undefined') {\n",
       "        require.undef(\"plotly\");\n",
       "        requirejs.config({\n",
       "            paths: {\n",
       "                'plotly': ['https://cdn.plot.ly/plotly-2.35.2.min']\n",
       "            }\n",
       "        });\n",
       "        require(['plotly'], function(Plotly) {\n",
       "            window._Plotly = Plotly;\n",
       "        });\n",
       "        }\n",
       "        </script>\n",
       "        "
      ]
     },
     "metadata": {},
     "output_type": "display_data"
    }
   ],
   "source": [
    "import pandas as pd\n",
    "import numpy as np\n",
    "from rapidfuzz import fuzz\n",
    "import kaleido as kld\n",
    "import matplotlib.pyplot as plt\n",
    "import seaborn as sns\n",
    "import cufflinks as cf\n",
    "import plotly.express as px\n",
    "import plotly.graph_objects as go\n",
    "%matplotlib inline\n",
    "from plotly.offline import init_notebook_mode\n",
    "init_notebook_mode(connected=True)\n",
    "cf.go_offline()\n",
    "import plotly.io as pio\n",
    "pio.renderers.default = \"vscode+svg\"\n"
   ]
  },
  {
   "cell_type": "markdown",
   "metadata": {},
   "source": [
    "Next, importing data and seeing preview of it. "
   ]
  },
  {
   "cell_type": "code",
   "execution_count": 512,
   "metadata": {},
   "outputs": [
    {
     "data": {
      "text/html": [
       "<div>\n",
       "<style scoped>\n",
       "    .dataframe tbody tr th:only-of-type {\n",
       "        vertical-align: middle;\n",
       "    }\n",
       "\n",
       "    .dataframe tbody tr th {\n",
       "        vertical-align: top;\n",
       "    }\n",
       "\n",
       "    .dataframe thead th {\n",
       "        text-align: right;\n",
       "    }\n",
       "</style>\n",
       "<table border=\"1\" class=\"dataframe\">\n",
       "  <thead>\n",
       "    <tr style=\"text-align: right;\">\n",
       "      <th></th>\n",
       "      <th>course_title</th>\n",
       "      <th>course_organization</th>\n",
       "      <th>course_Certificate_type</th>\n",
       "      <th>course_rating</th>\n",
       "      <th>course_difficulty</th>\n",
       "      <th>course_students_enrolled</th>\n",
       "    </tr>\n",
       "  </thead>\n",
       "  <tbody>\n",
       "    <tr>\n",
       "      <th>0</th>\n",
       "      <td>IBM Data Science</td>\n",
       "      <td>IBM</td>\n",
       "      <td>PROFESSIONAL CERTIFICATE</td>\n",
       "      <td>4.6</td>\n",
       "      <td>Beginner</td>\n",
       "      <td>480k</td>\n",
       "    </tr>\n",
       "    <tr>\n",
       "      <th>1</th>\n",
       "      <td>Introduction to Data Science</td>\n",
       "      <td>IBM</td>\n",
       "      <td>SPECIALIZATION</td>\n",
       "      <td>4.6</td>\n",
       "      <td>Beginner</td>\n",
       "      <td>310k</td>\n",
       "    </tr>\n",
       "    <tr>\n",
       "      <th>2</th>\n",
       "      <td>The Science of Well-Being</td>\n",
       "      <td>Yale University</td>\n",
       "      <td>COURSE</td>\n",
       "      <td>4.9</td>\n",
       "      <td>Mixed</td>\n",
       "      <td>2.5m</td>\n",
       "    </tr>\n",
       "    <tr>\n",
       "      <th>3</th>\n",
       "      <td>Python for Everybody</td>\n",
       "      <td>University of Michigan</td>\n",
       "      <td>SPECIALIZATION</td>\n",
       "      <td>4.8</td>\n",
       "      <td>Beginner</td>\n",
       "      <td>1.5m</td>\n",
       "    </tr>\n",
       "    <tr>\n",
       "      <th>4</th>\n",
       "      <td>Google IT Support</td>\n",
       "      <td>Google</td>\n",
       "      <td>PROFESSIONAL CERTIFICATE</td>\n",
       "      <td>4.8</td>\n",
       "      <td>Beginner</td>\n",
       "      <td>350k</td>\n",
       "    </tr>\n",
       "  </tbody>\n",
       "</table>\n",
       "</div>"
      ],
      "text/plain": [
       "                   course_title     course_organization  \\\n",
       "0              IBM Data Science                     IBM   \n",
       "1  Introduction to Data Science                     IBM   \n",
       "2     The Science of Well-Being         Yale University   \n",
       "3          Python for Everybody  University of Michigan   \n",
       "4             Google IT Support                  Google   \n",
       "\n",
       "    course_Certificate_type  course_rating course_difficulty  \\\n",
       "0  PROFESSIONAL CERTIFICATE            4.6          Beginner   \n",
       "1            SPECIALIZATION            4.6          Beginner   \n",
       "2                    COURSE            4.9             Mixed   \n",
       "3            SPECIALIZATION            4.8          Beginner   \n",
       "4  PROFESSIONAL CERTIFICATE            4.8          Beginner   \n",
       "\n",
       "  course_students_enrolled  \n",
       "0                     480k  \n",
       "1                     310k  \n",
       "2                     2.5m  \n",
       "3                     1.5m  \n",
       "4                     350k  "
      ]
     },
     "execution_count": 512,
     "metadata": {},
     "output_type": "execute_result"
    }
   ],
   "source": [
    "df = pd.read_csv(\"coursea_data.csv\", index_col=0)\n",
    "df.sort_index(inplace=True)\n",
    "df.head()"
   ]
  },
  {
   "cell_type": "code",
   "execution_count": 513,
   "metadata": {},
   "outputs": [
    {
     "data": {
      "text/plain": [
       "(891, 6)"
      ]
     },
     "execution_count": 513,
     "metadata": {},
     "output_type": "execute_result"
    }
   ],
   "source": [
    "df.shape"
   ]
  },
  {
   "cell_type": "markdown",
   "metadata": {},
   "source": [
    "### Data cleaning\n",
    "\n",
    "#### Data types\n",
    "First, need to fix incorrect data types. "
   ]
  },
  {
   "cell_type": "code",
   "execution_count": 514,
   "metadata": {},
   "outputs": [
    {
     "data": {
      "text/plain": [
       "course_title                 object\n",
       "course_organization          object\n",
       "course_Certificate_type      object\n",
       "course_rating               float64\n",
       "course_difficulty            object\n",
       "course_students_enrolled     object\n",
       "dtype: object"
      ]
     },
     "execution_count": 514,
     "metadata": {},
     "output_type": "execute_result"
    }
   ],
   "source": [
    "df.dtypes"
   ]
  },
  {
   "cell_type": "markdown",
   "metadata": {},
   "source": [
    "String data is set to object type. Will convert it to categorical pandas extension type. It's good practice for performance improvement.  \n",
    "Also, column \"course_students_enrolled\" should be numeric but is object type right now due to having \"k\" and \"m\" values instead of zeros. Need to make it numeric instead. "
   ]
  },
  {
   "cell_type": "code",
   "execution_count": 515,
   "metadata": {},
   "outputs": [
    {
     "data": {
      "text/plain": [
       "array(['k', 'm'], dtype=object)"
      ]
     },
     "execution_count": 515,
     "metadata": {},
     "output_type": "execute_result"
    }
   ],
   "source": [
    "category_columns = [\"course_title\", \"course_organization\", \"course_Certificate_type\", \"course_difficulty\"]\n",
    "df[category_columns] = df[category_columns].astype('category')\n",
    "values = df[\"course_students_enrolled\"].str[-1]\n",
    "values.unique()"
   ]
  },
  {
   "cell_type": "code",
   "execution_count": 516,
   "metadata": {},
   "outputs": [],
   "source": [
    "df[\"course_students_enrolled\"] = df[\"course_students_enrolled\"].apply(lambda value: int(float(value[:-1])*1000) if value.endswith(\"k\") else int(float(value[:-1])*1000000))"
   ]
  },
  {
   "cell_type": "code",
   "execution_count": 517,
   "metadata": {},
   "outputs": [
    {
     "data": {
      "text/html": [
       "<div>\n",
       "<style scoped>\n",
       "    .dataframe tbody tr th:only-of-type {\n",
       "        vertical-align: middle;\n",
       "    }\n",
       "\n",
       "    .dataframe tbody tr th {\n",
       "        vertical-align: top;\n",
       "    }\n",
       "\n",
       "    .dataframe thead th {\n",
       "        text-align: right;\n",
       "    }\n",
       "</style>\n",
       "<table border=\"1\" class=\"dataframe\">\n",
       "  <thead>\n",
       "    <tr style=\"text-align: right;\">\n",
       "      <th></th>\n",
       "      <th>course_title</th>\n",
       "      <th>course_organization</th>\n",
       "      <th>course_Certificate_type</th>\n",
       "      <th>course_rating</th>\n",
       "      <th>course_difficulty</th>\n",
       "      <th>course_students_enrolled</th>\n",
       "    </tr>\n",
       "  </thead>\n",
       "  <tbody>\n",
       "    <tr>\n",
       "      <th>0</th>\n",
       "      <td>IBM Data Science</td>\n",
       "      <td>IBM</td>\n",
       "      <td>PROFESSIONAL CERTIFICATE</td>\n",
       "      <td>4.6</td>\n",
       "      <td>Beginner</td>\n",
       "      <td>480000</td>\n",
       "    </tr>\n",
       "    <tr>\n",
       "      <th>1</th>\n",
       "      <td>Introduction to Data Science</td>\n",
       "      <td>IBM</td>\n",
       "      <td>SPECIALIZATION</td>\n",
       "      <td>4.6</td>\n",
       "      <td>Beginner</td>\n",
       "      <td>310000</td>\n",
       "    </tr>\n",
       "    <tr>\n",
       "      <th>2</th>\n",
       "      <td>The Science of Well-Being</td>\n",
       "      <td>Yale University</td>\n",
       "      <td>COURSE</td>\n",
       "      <td>4.9</td>\n",
       "      <td>Mixed</td>\n",
       "      <td>2500000</td>\n",
       "    </tr>\n",
       "  </tbody>\n",
       "</table>\n",
       "</div>"
      ],
      "text/plain": [
       "                   course_title course_organization   course_Certificate_type  \\\n",
       "0              IBM Data Science                 IBM  PROFESSIONAL CERTIFICATE   \n",
       "1  Introduction to Data Science                 IBM            SPECIALIZATION   \n",
       "2     The Science of Well-Being     Yale University                    COURSE   \n",
       "\n",
       "   course_rating course_difficulty  course_students_enrolled  \n",
       "0            4.6          Beginner                    480000  \n",
       "1            4.6          Beginner                    310000  \n",
       "2            4.9             Mixed                   2500000  "
      ]
     },
     "execution_count": 517,
     "metadata": {},
     "output_type": "execute_result"
    }
   ],
   "source": [
    "df.head(3)"
   ]
  },
  {
   "cell_type": "code",
   "execution_count": 518,
   "metadata": {},
   "outputs": [
    {
     "name": "stdout",
     "output_type": "stream",
     "text": [
      "<class 'pandas.core.frame.DataFrame'>\n",
      "Index: 891 entries, 0 to 890\n",
      "Data columns (total 6 columns):\n",
      " #   Column                    Non-Null Count  Dtype   \n",
      "---  ------                    --------------  -----   \n",
      " 0   course_title              891 non-null    category\n",
      " 1   course_organization       891 non-null    category\n",
      " 2   course_Certificate_type   891 non-null    category\n",
      " 3   course_rating             891 non-null    float64 \n",
      " 4   course_difficulty         891 non-null    category\n",
      " 5   course_students_enrolled  891 non-null    int64   \n",
      "dtypes: category(4), float64(1), int64(1)\n",
      "memory usage: 70.9 KB\n"
     ]
    }
   ],
   "source": [
    "df.info()"
   ]
  },
  {
   "cell_type": "markdown",
   "metadata": {},
   "source": [
    "#### Missing values\n",
    "From above it's visible that that there are no nulls. Just in case, can check again using this code."
   ]
  },
  {
   "cell_type": "code",
   "execution_count": 519,
   "metadata": {},
   "outputs": [
    {
     "data": {
      "text/plain": [
       "np.False_"
      ]
     },
     "execution_count": 519,
     "metadata": {},
     "output_type": "execute_result"
    }
   ],
   "source": [
    "df.isnull().any().any()"
   ]
  },
  {
   "cell_type": "markdown",
   "metadata": {},
   "source": [
    "Seems there are none. \n",
    "#### Duplicates\n",
    "First, need to check general overview of the data. Will need to redo type casting because str functions change output back to object type."
   ]
  },
  {
   "cell_type": "code",
   "execution_count": 520,
   "metadata": {},
   "outputs": [
    {
     "data": {
      "text/html": [
       "<div>\n",
       "<style scoped>\n",
       "    .dataframe tbody tr th:only-of-type {\n",
       "        vertical-align: middle;\n",
       "    }\n",
       "\n",
       "    .dataframe tbody tr th {\n",
       "        vertical-align: top;\n",
       "    }\n",
       "\n",
       "    .dataframe thead th {\n",
       "        text-align: right;\n",
       "    }\n",
       "</style>\n",
       "<table border=\"1\" class=\"dataframe\">\n",
       "  <thead>\n",
       "    <tr style=\"text-align: right;\">\n",
       "      <th></th>\n",
       "      <th>course_title</th>\n",
       "      <th>course_organization</th>\n",
       "      <th>course_Certificate_type</th>\n",
       "      <th>course_rating</th>\n",
       "      <th>course_difficulty</th>\n",
       "      <th>course_students_enrolled</th>\n",
       "    </tr>\n",
       "  </thead>\n",
       "  <tbody>\n",
       "    <tr>\n",
       "      <th>count</th>\n",
       "      <td>891</td>\n",
       "      <td>891</td>\n",
       "      <td>891</td>\n",
       "      <td>891.000000</td>\n",
       "      <td>891</td>\n",
       "      <td>8.910000e+02</td>\n",
       "    </tr>\n",
       "    <tr>\n",
       "      <th>unique</th>\n",
       "      <td>888</td>\n",
       "      <td>154</td>\n",
       "      <td>3</td>\n",
       "      <td>NaN</td>\n",
       "      <td>4</td>\n",
       "      <td>NaN</td>\n",
       "    </tr>\n",
       "    <tr>\n",
       "      <th>top</th>\n",
       "      <td>developing your musicianship</td>\n",
       "      <td>university of pennsylvania</td>\n",
       "      <td>course</td>\n",
       "      <td>NaN</td>\n",
       "      <td>beginner</td>\n",
       "      <td>NaN</td>\n",
       "    </tr>\n",
       "    <tr>\n",
       "      <th>freq</th>\n",
       "      <td>2</td>\n",
       "      <td>59</td>\n",
       "      <td>582</td>\n",
       "      <td>NaN</td>\n",
       "      <td>487</td>\n",
       "      <td>NaN</td>\n",
       "    </tr>\n",
       "    <tr>\n",
       "      <th>mean</th>\n",
       "      <td>NaN</td>\n",
       "      <td>NaN</td>\n",
       "      <td>NaN</td>\n",
       "      <td>4.677329</td>\n",
       "      <td>NaN</td>\n",
       "      <td>9.055208e+04</td>\n",
       "    </tr>\n",
       "    <tr>\n",
       "      <th>std</th>\n",
       "      <td>NaN</td>\n",
       "      <td>NaN</td>\n",
       "      <td>NaN</td>\n",
       "      <td>0.162225</td>\n",
       "      <td>NaN</td>\n",
       "      <td>1.819365e+05</td>\n",
       "    </tr>\n",
       "    <tr>\n",
       "      <th>min</th>\n",
       "      <td>NaN</td>\n",
       "      <td>NaN</td>\n",
       "      <td>NaN</td>\n",
       "      <td>3.300000</td>\n",
       "      <td>NaN</td>\n",
       "      <td>1.500000e+03</td>\n",
       "    </tr>\n",
       "    <tr>\n",
       "      <th>25%</th>\n",
       "      <td>NaN</td>\n",
       "      <td>NaN</td>\n",
       "      <td>NaN</td>\n",
       "      <td>4.600000</td>\n",
       "      <td>NaN</td>\n",
       "      <td>1.750000e+04</td>\n",
       "    </tr>\n",
       "    <tr>\n",
       "      <th>50%</th>\n",
       "      <td>NaN</td>\n",
       "      <td>NaN</td>\n",
       "      <td>NaN</td>\n",
       "      <td>4.700000</td>\n",
       "      <td>NaN</td>\n",
       "      <td>4.200000e+04</td>\n",
       "    </tr>\n",
       "    <tr>\n",
       "      <th>75%</th>\n",
       "      <td>NaN</td>\n",
       "      <td>NaN</td>\n",
       "      <td>NaN</td>\n",
       "      <td>4.800000</td>\n",
       "      <td>NaN</td>\n",
       "      <td>9.950000e+04</td>\n",
       "    </tr>\n",
       "    <tr>\n",
       "      <th>max</th>\n",
       "      <td>NaN</td>\n",
       "      <td>NaN</td>\n",
       "      <td>NaN</td>\n",
       "      <td>5.000000</td>\n",
       "      <td>NaN</td>\n",
       "      <td>3.200000e+06</td>\n",
       "    </tr>\n",
       "  </tbody>\n",
       "</table>\n",
       "</div>"
      ],
      "text/plain": [
       "                        course_title         course_organization  \\\n",
       "count                            891                         891   \n",
       "unique                           888                         154   \n",
       "top     developing your musicianship  university of pennsylvania   \n",
       "freq                               2                          59   \n",
       "mean                             NaN                         NaN   \n",
       "std                              NaN                         NaN   \n",
       "min                              NaN                         NaN   \n",
       "25%                              NaN                         NaN   \n",
       "50%                              NaN                         NaN   \n",
       "75%                              NaN                         NaN   \n",
       "max                              NaN                         NaN   \n",
       "\n",
       "       course_Certificate_type  course_rating course_difficulty  \\\n",
       "count                      891     891.000000               891   \n",
       "unique                       3            NaN                 4   \n",
       "top                     course            NaN          beginner   \n",
       "freq                       582            NaN               487   \n",
       "mean                       NaN       4.677329               NaN   \n",
       "std                        NaN       0.162225               NaN   \n",
       "min                        NaN       3.300000               NaN   \n",
       "25%                        NaN       4.600000               NaN   \n",
       "50%                        NaN       4.700000               NaN   \n",
       "75%                        NaN       4.800000               NaN   \n",
       "max                        NaN       5.000000               NaN   \n",
       "\n",
       "        course_students_enrolled  \n",
       "count               8.910000e+02  \n",
       "unique                       NaN  \n",
       "top                          NaN  \n",
       "freq                         NaN  \n",
       "mean                9.055208e+04  \n",
       "std                 1.819365e+05  \n",
       "min                 1.500000e+03  \n",
       "25%                 1.750000e+04  \n",
       "50%                 4.200000e+04  \n",
       "75%                 9.950000e+04  \n",
       "max                 3.200000e+06  "
      ]
     },
     "execution_count": 520,
     "metadata": {},
     "output_type": "execute_result"
    }
   ],
   "source": [
    "df = df.apply(lambda x: x.str.lower().str.strip() if x.dtype == \"category\" else x)\n",
    "df[category_columns] = df[category_columns].astype('category')\n",
    "df.describe(include=\"all\")"
   ]
  },
  {
   "cell_type": "markdown",
   "metadata": {},
   "source": [
    "It's visible, that almost all course titles are unique, but not all. Need to check which and why."
   ]
  },
  {
   "cell_type": "code",
   "execution_count": 521,
   "metadata": {},
   "outputs": [
    {
     "data": {
      "text/html": [
       "<div>\n",
       "<style scoped>\n",
       "    .dataframe tbody tr th:only-of-type {\n",
       "        vertical-align: middle;\n",
       "    }\n",
       "\n",
       "    .dataframe tbody tr th {\n",
       "        vertical-align: top;\n",
       "    }\n",
       "\n",
       "    .dataframe thead th {\n",
       "        text-align: right;\n",
       "    }\n",
       "</style>\n",
       "<table border=\"1\" class=\"dataframe\">\n",
       "  <thead>\n",
       "    <tr style=\"text-align: right;\">\n",
       "      <th></th>\n",
       "      <th>course_title</th>\n",
       "      <th>course_organization</th>\n",
       "      <th>course_Certificate_type</th>\n",
       "      <th>course_rating</th>\n",
       "      <th>course_difficulty</th>\n",
       "      <th>course_students_enrolled</th>\n",
       "    </tr>\n",
       "  </thead>\n",
       "  <tbody>\n",
       "    <tr>\n",
       "      <th>205</th>\n",
       "      <td>developing your musicianship</td>\n",
       "      <td>berklee college of music</td>\n",
       "      <td>specialization</td>\n",
       "      <td>4.8</td>\n",
       "      <td>beginner</td>\n",
       "      <td>54000</td>\n",
       "    </tr>\n",
       "    <tr>\n",
       "      <th>756</th>\n",
       "      <td>developing your musicianship</td>\n",
       "      <td>berklee college of music</td>\n",
       "      <td>course</td>\n",
       "      <td>4.8</td>\n",
       "      <td>mixed</td>\n",
       "      <td>41000</td>\n",
       "    </tr>\n",
       "    <tr>\n",
       "      <th>6</th>\n",
       "      <td>machine learning</td>\n",
       "      <td>stanford university</td>\n",
       "      <td>course</td>\n",
       "      <td>4.9</td>\n",
       "      <td>mixed</td>\n",
       "      <td>3200000</td>\n",
       "    </tr>\n",
       "    <tr>\n",
       "      <th>181</th>\n",
       "      <td>machine learning</td>\n",
       "      <td>university of washington</td>\n",
       "      <td>specialization</td>\n",
       "      <td>4.6</td>\n",
       "      <td>intermediate</td>\n",
       "      <td>290000</td>\n",
       "    </tr>\n",
       "    <tr>\n",
       "      <th>241</th>\n",
       "      <td>marketing digital</td>\n",
       "      <td>universidade de são paulo</td>\n",
       "      <td>course</td>\n",
       "      <td>4.8</td>\n",
       "      <td>beginner</td>\n",
       "      <td>81000</td>\n",
       "    </tr>\n",
       "    <tr>\n",
       "      <th>325</th>\n",
       "      <td>marketing digital</td>\n",
       "      <td>universidad austral</td>\n",
       "      <td>specialization</td>\n",
       "      <td>4.7</td>\n",
       "      <td>beginner</td>\n",
       "      <td>39000</td>\n",
       "    </tr>\n",
       "  </tbody>\n",
       "</table>\n",
       "</div>"
      ],
      "text/plain": [
       "                     course_title        course_organization  \\\n",
       "205  developing your musicianship   berklee college of music   \n",
       "756  developing your musicianship   berklee college of music   \n",
       "6                machine learning        stanford university   \n",
       "181              machine learning   university of washington   \n",
       "241             marketing digital  universidade de são paulo   \n",
       "325             marketing digital        universidad austral   \n",
       "\n",
       "    course_Certificate_type  course_rating course_difficulty  \\\n",
       "205          specialization            4.8          beginner   \n",
       "756                  course            4.8             mixed   \n",
       "6                    course            4.9             mixed   \n",
       "181          specialization            4.6      intermediate   \n",
       "241                  course            4.8          beginner   \n",
       "325          specialization            4.7          beginner   \n",
       "\n",
       "     course_students_enrolled  \n",
       "205                     54000  \n",
       "756                     41000  \n",
       "6                     3200000  \n",
       "181                    290000  \n",
       "241                     81000  \n",
       "325                     39000  "
      ]
     },
     "execution_count": 521,
     "metadata": {},
     "output_type": "execute_result"
    }
   ],
   "source": [
    "titles = df[\"course_title\"].value_counts()\n",
    "titles = titles[titles > 1] \n",
    "titles = titles.index.tolist()\n",
    "df[df[\"course_title\"].isin(titles)].sort_values(by=\"course_title\")"
   ]
  },
  {
   "cell_type": "markdown",
   "metadata": {},
   "source": [
    "It's visible that some courses from different organizations have just generic repeatable titles, thus are not duplicates, just called the same way. When it comes to \"developing your musicianship\" course from \"berklee college of music\", it's a different case. I went to [Coursera site](https://www.coursera.org/learn/develop-your-musicianship?specialization=musicianship-specialization) to check this data. Turns out this course is part of \"Developing Your Musicianship Specialization\", thus they course and specialization share the same name. \n",
    "\n",
    "Thus, there are no duplicate values.\n",
    "\n",
    "#### Inconsistent Data Entry\n",
    "\n",
    "Need to check for inconsistent definitions of values if any are left. For this, checking unique values count."
   ]
  },
  {
   "cell_type": "code",
   "execution_count": 522,
   "metadata": {},
   "outputs": [
    {
     "data": {
      "text/plain": [
       "course_difficulty\n",
       "beginner        487\n",
       "intermediate    198\n",
       "mixed           187\n",
       "advanced         19\n",
       "Name: count, dtype: int64"
      ]
     },
     "execution_count": 522,
     "metadata": {},
     "output_type": "execute_result"
    }
   ],
   "source": [
    "df[\"course_difficulty\"].value_counts()"
   ]
  },
  {
   "cell_type": "code",
   "execution_count": 523,
   "metadata": {},
   "outputs": [
    {
     "data": {
      "text/plain": [
       "course_Certificate_type\n",
       "course                      582\n",
       "specialization              297\n",
       "professional certificate     12\n",
       "Name: count, dtype: int64"
      ]
     },
     "execution_count": 523,
     "metadata": {},
     "output_type": "execute_result"
    }
   ],
   "source": [
    "df[\"course_Certificate_type\"].value_counts()"
   ]
  },
  {
   "cell_type": "markdown",
   "metadata": {},
   "source": [
    "All few unique values available are indeed distinct. \n",
    "\n",
    "For columns with they more unique values, will I used fuzz ratio calculation to help identify any similar ones. To start with I picked 90. \n",
    "\n",
    "First - \"course_title\"."
   ]
  },
  {
   "cell_type": "code",
   "execution_count": 524,
   "metadata": {},
   "outputs": [
    {
     "data": {
      "text/html": [
       "<div>\n",
       "<style scoped>\n",
       "    .dataframe tbody tr th:only-of-type {\n",
       "        vertical-align: middle;\n",
       "    }\n",
       "\n",
       "    .dataframe tbody tr th {\n",
       "        vertical-align: top;\n",
       "    }\n",
       "\n",
       "    .dataframe thead th {\n",
       "        text-align: right;\n",
       "    }\n",
       "</style>\n",
       "<table border=\"1\" class=\"dataframe\">\n",
       "  <thead>\n",
       "    <tr style=\"text-align: right;\">\n",
       "      <th></th>\n",
       "      <th>Value 1</th>\n",
       "      <th>Value 2</th>\n",
       "      <th>Similarity</th>\n",
       "    </tr>\n",
       "  </thead>\n",
       "  <tbody>\n",
       "    <tr>\n",
       "      <th>0</th>\n",
       "      <td>excel skills for business: intermediate i</td>\n",
       "      <td>excel skills for business: intermediate ii</td>\n",
       "      <td>98.795181</td>\n",
       "    </tr>\n",
       "    <tr>\n",
       "      <th>1</th>\n",
       "      <td>the power of macroeconomics: economic principles in the real world</td>\n",
       "      <td>the power of microeconomics: economic principles in the real world</td>\n",
       "      <td>98.484848</td>\n",
       "    </tr>\n",
       "    <tr>\n",
       "      <th>2</th>\n",
       "      <td>tesol certificate, part 1: teach english now!</td>\n",
       "      <td>tesol certificate, part 2: teach english now!</td>\n",
       "      <td>97.777778</td>\n",
       "    </tr>\n",
       "    <tr>\n",
       "      <th>3</th>\n",
       "      <td>developing applications with google cloud platform</td>\n",
       "      <td>developing applications with google cloud platform 日本語版</td>\n",
       "      <td>95.238095</td>\n",
       "    </tr>\n",
       "    <tr>\n",
       "      <th>4</th>\n",
       "      <td>introduction to financial accounting</td>\n",
       "      <td>more introduction to financial accounting</td>\n",
       "      <td>93.506494</td>\n",
       "    </tr>\n",
       "    <tr>\n",
       "      <th>5</th>\n",
       "      <td>mathematics for machine learning</td>\n",
       "      <td>mathematics for machine learning: pca</td>\n",
       "      <td>92.753623</td>\n",
       "    </tr>\n",
       "    <tr>\n",
       "      <th>6</th>\n",
       "      <td>machine learning with tensorflow on google cloud platform</td>\n",
       "      <td>advanced machine learning with tensorflow on google cloud platform</td>\n",
       "      <td>92.682927</td>\n",
       "    </tr>\n",
       "    <tr>\n",
       "      <th>7</th>\n",
       "      <td>introduction to web development</td>\n",
       "      <td>introduction to game development</td>\n",
       "      <td>92.063492</td>\n",
       "    </tr>\n",
       "    <tr>\n",
       "      <th>8</th>\n",
       "      <td>excel/vba for creative problem solving</td>\n",
       "      <td>excel/vba for creative problem solving, part 1</td>\n",
       "      <td>90.476190</td>\n",
       "    </tr>\n",
       "    <tr>\n",
       "      <th>9</th>\n",
       "      <td>fundamentals of computing</td>\n",
       "      <td>fundamentals of accounting</td>\n",
       "      <td>90.196078</td>\n",
       "    </tr>\n",
       "  </tbody>\n",
       "</table>\n",
       "</div>"
      ],
      "text/plain": [
       "                                                              Value 1  \\\n",
       "0                           excel skills for business: intermediate i   \n",
       "1  the power of macroeconomics: economic principles in the real world   \n",
       "2                       tesol certificate, part 1: teach english now!   \n",
       "3                  developing applications with google cloud platform   \n",
       "4                                introduction to financial accounting   \n",
       "5                                    mathematics for machine learning   \n",
       "6           machine learning with tensorflow on google cloud platform   \n",
       "7                                     introduction to web development   \n",
       "8                              excel/vba for creative problem solving   \n",
       "9                                           fundamentals of computing   \n",
       "\n",
       "                                                              Value 2  \\\n",
       "0                          excel skills for business: intermediate ii   \n",
       "1  the power of microeconomics: economic principles in the real world   \n",
       "2                       tesol certificate, part 2: teach english now!   \n",
       "3             developing applications with google cloud platform 日本語版   \n",
       "4                           more introduction to financial accounting   \n",
       "5                               mathematics for machine learning: pca   \n",
       "6  advanced machine learning with tensorflow on google cloud platform   \n",
       "7                                    introduction to game development   \n",
       "8                      excel/vba for creative problem solving, part 1   \n",
       "9                                          fundamentals of accounting   \n",
       "\n",
       "   Similarity  \n",
       "0   98.795181  \n",
       "1   98.484848  \n",
       "2   97.777778  \n",
       "3   95.238095  \n",
       "4   93.506494  \n",
       "5   92.753623  \n",
       "6   92.682927  \n",
       "7   92.063492  \n",
       "8   90.476190  \n",
       "9   90.196078  "
      ]
     },
     "execution_count": 524,
     "metadata": {},
     "output_type": "execute_result"
    }
   ],
   "source": [
    "course_title_matches = []\n",
    "\n",
    "course_title_values = df[\"course_title\"].unique()\n",
    "\n",
    "for first in range(len(course_title_values)):\n",
    "    for second in range(first+1, len(course_title_values)):\n",
    "        value1 = course_title_values[first]\n",
    "        value2 = course_title_values[second]\n",
    "        similarity_ratio = fuzz.ratio(value1, value2)\n",
    "\n",
    "        if similarity_ratio > 90:\n",
    "            course_title_matches.append({\n",
    "                'Value 1': value1,\n",
    "                'Value 2': value2,\n",
    "                'Similarity': similarity_ratio\n",
    "            })\n",
    "\n",
    "course_title_matches = pd.DataFrame(course_title_matches).sort_values(by='Similarity', ascending=False).reset_index(drop=True)\n",
    "pd.set_option('display.max_colwidth', None)\n",
    "course_title_matches"
   ]
  },
  {
   "cell_type": "markdown",
   "metadata": {},
   "source": [
    "After checking these values, they appear to be similar namings for courses of same specialization. Thus, no inconsistent data entries were found. \n",
    "\n",
    "Next - \"course_organization\"."
   ]
  },
  {
   "cell_type": "code",
   "execution_count": 525,
   "metadata": {},
   "outputs": [
    {
     "data": {
      "text/html": [
       "<div>\n",
       "<style scoped>\n",
       "    .dataframe tbody tr th:only-of-type {\n",
       "        vertical-align: middle;\n",
       "    }\n",
       "\n",
       "    .dataframe tbody tr th {\n",
       "        vertical-align: top;\n",
       "    }\n",
       "\n",
       "    .dataframe thead th {\n",
       "        text-align: right;\n",
       "    }\n",
       "</style>\n",
       "<table border=\"1\" class=\"dataframe\">\n",
       "  <thead>\n",
       "    <tr style=\"text-align: right;\">\n",
       "      <th></th>\n",
       "      <th>Value 1</th>\n",
       "      <th>Value 2</th>\n",
       "      <th>Similarity</th>\n",
       "    </tr>\n",
       "  </thead>\n",
       "  <tbody>\n",
       "    <tr>\n",
       "      <th>0</th>\n",
       "      <td>ie business school</td>\n",
       "      <td>iese business school</td>\n",
       "      <td>94.736842</td>\n",
       "    </tr>\n",
       "    <tr>\n",
       "      <th>1</th>\n",
       "      <td>essec business school</td>\n",
       "      <td>iese business school</td>\n",
       "      <td>92.682927</td>\n",
       "    </tr>\n",
       "    <tr>\n",
       "      <th>2</th>\n",
       "      <td>essec business school</td>\n",
       "      <td>escp business school</td>\n",
       "      <td>92.682927</td>\n",
       "    </tr>\n",
       "    <tr>\n",
       "      <th>3</th>\n",
       "      <td>edhec business school</td>\n",
       "      <td>essec business school</td>\n",
       "      <td>90.476190</td>\n",
       "    </tr>\n",
       "  </tbody>\n",
       "</table>\n",
       "</div>"
      ],
      "text/plain": [
       "                 Value 1                Value 2  Similarity\n",
       "0     ie business school   iese business school   94.736842\n",
       "1  essec business school   iese business school   92.682927\n",
       "2  essec business school   escp business school   92.682927\n",
       "3  edhec business school  essec business school   90.476190"
      ]
     },
     "execution_count": 525,
     "metadata": {},
     "output_type": "execute_result"
    }
   ],
   "source": [
    "course_organization_matches = []\n",
    "\n",
    "course_organization_values = df[\"course_organization\"].unique()\n",
    "\n",
    "for first in range(len(course_organization_values)):\n",
    "    for second in range(first+1, len(course_organization_values)):\n",
    "        value1 = course_organization_values[first]\n",
    "        value2 = course_organization_values[second]\n",
    "        similarity_ratio = fuzz.ratio(value1, value2)  \n",
    "\n",
    "        if similarity_ratio > 90:\n",
    "            course_organization_matches.append({\n",
    "                'Value 1': value1,\n",
    "                'Value 2': value2,\n",
    "                'Similarity': similarity_ratio\n",
    "            })\n",
    "\n",
    "course_organization_matches = pd.DataFrame(course_organization_matches).sort_values(by='Similarity', ascending=False).reset_index(drop=True)\n",
    "pd.set_option('display.max_colwidth', None)\n",
    "course_organization_matches"
   ]
  },
  {
   "cell_type": "markdown",
   "metadata": {},
   "source": [
    "After checking on Coursera, these are indeed different business schools. Thus, no inconsistent data entries were found. \n",
    "\n",
    "Will apply title formatting back for future visualizations. It will change to object type again, so have to recast to category one. "
   ]
  },
  {
   "cell_type": "code",
   "execution_count": 526,
   "metadata": {},
   "outputs": [],
   "source": [
    "df = df.apply(lambda x: x.str.title() if x.dtype == \"category\" else x)\n",
    "df[category_columns] = df[category_columns].astype('category')"
   ]
  },
  {
   "cell_type": "markdown",
   "metadata": {},
   "source": [
    "#### Outliers\n",
    "Will check what kind of outliers are in numerical columns. To have broader overview, will segment based on certification type and it's difficulty. \n",
    "##### Sudents enrolled"
   ]
  },
  {
   "cell_type": "code",
   "execution_count": 527,
   "metadata": {},
   "outputs": [
    {
     "data": {
      "application/vnd.plotly.v1+json": {
       "config": {
        "plotlyServerURL": "https://plot.ly"
       },
       "data": [
        {
         "alignmentgroup": "True",
         "boxmean": true,
         "customdata": [
          [
           "Ibm Data Science",
           4.6,
           "Ibm"
          ],
          [
           "Google It Support",
           4.8,
           "Google"
          ],
          [
           "Cloud Engineering With Google Cloud",
           4.7,
           "Google Cloud"
          ],
          [
           "Ibm Applied Ai",
           4.6,
           "Ibm"
          ],
          [
           "Data Engineering With Google Cloud",
           4.6,
           "Google Cloud"
          ],
          [
           "Google It Automation With Python",
           4.7,
           "Google"
          ],
          [
           "Ibm Ai Engineering",
           4.6,
           "Ibm"
          ],
          [
           "Arizona State University Tesol",
           4.9,
           "Arizona State University"
          ],
          [
           "Uci Project Management",
           4.6,
           "University Of California, Irvine"
          ],
          [
           "Sas Programmer",
           4.8,
           "Sas"
          ],
          [
           "Soporte De Tecnologías De La Información De Google",
           4.9,
           "Crece Con Google"
          ],
          [
           "Sas Visual Business Analytics",
           4.6,
           "Sas"
          ]
         ],
         "hovertemplate": "Title: <b>%{customdata[0]}</b><br>Students Enrolled: %{x:,.0f}<br>Organization: %{customdata[2]}<br>Rating: %{customdata[1]}<br>",
         "legendgroup": "Professional Certificate",
         "marker": {
          "color": "rgb(95, 70, 144)"
         },
         "name": "Professional Certificate",
         "notched": false,
         "offsetgroup": "Professional Certificate",
         "orientation": "h",
         "showlegend": true,
         "type": "box",
         "x": [
          480000,
          350000,
          310000,
          220000,
          120000,
          93000,
          140000,
          150000,
          44000,
          370000,
          8800,
          2600
         ],
         "x0": " ",
         "xaxis": "x",
         "y": [
          "Beginner",
          "Beginner",
          "Intermediate",
          "Beginner",
          "Intermediate",
          "Beginner",
          "Intermediate",
          "Beginner",
          "Beginner",
          "Beginner",
          "Beginner",
          "Beginner"
         ],
         "y0": " ",
         "yaxis": "y"
        },
        {
         "alignmentgroup": "True",
         "boxmean": true,
         "customdata": [
          [
           "Introduction To Data Science",
           4.6,
           "Ibm"
          ],
          [
           "Python For Everybody",
           4.8,
           "University Of Michigan"
          ],
          [
           "Deep Learning",
           4.8,
           "Deeplearning.Ai"
          ],
          [
           "Business Foundations",
           4.7,
           "University Of Pennsylvania"
          ],
          [
           "Applied Data Science",
           4.6,
           "Ibm"
          ],
          [
           "Architecting With Google Compute Engine",
           4.7,
           "Google Cloud"
          ],
          [
           "Excel Skills For Business",
           4.9,
           "Macquarie University"
          ],
          [
           "Data Science",
           4.5,
           "Johns Hopkins University"
          ],
          [
           "Data Science: Foundations Using R",
           4.6,
           "Johns Hopkins University"
          ],
          [
           "Finance & Quantitative Modeling For Analysts",
           4.5,
           "University Of Pennsylvania"
          ],
          [
           "Business Analytics",
           4.6,
           "University Of Pennsylvania"
          ],
          [
           "Developing Applications With Google Cloud Platform",
           4.7,
           "Google Cloud"
          ],
          [
           "Security In Google Cloud Platform",
           4.7,
           "Google Cloud"
          ],
          [
           "Networking In Google Cloud",
           4.7,
           "Google Cloud"
          ],
          [
           "Business And Financial Modeling",
           4.5,
           "University Of Pennsylvania"
          ],
          [
           "Data Engineering, Big Data, And Machine Learning On Gcp",
           4.6,
           "Google Cloud"
          ],
          [
           "Applied Data Science With Python",
           4.5,
           "University Of Michigan"
          ],
          [
           "Tensorflow In Practice",
           4.7,
           "Deeplearning.Ai"
          ],
          [
           "Digital Marketing",
           4.6,
           "University Of Illinois At Urbana-Champaign"
          ],
          [
           "Project Management Principles And Practices",
           4.7,
           "University Of California, Irvine"
          ],
          [
           "Project Management & Other Tools For Career Development",
           4.6,
           "University Of California, Irvine"
          ],
          [
           "Foundations Of Positive Psychology",
           4.8,
           "University Of Pennsylvania"
          ],
          [
           "Entrepreneurship",
           4.8,
           "University Of Pennsylvania"
          ],
          [
           "Ai For Medicine",
           4.7,
           "Deeplearning.Ai"
          ],
          [
           "Improve Your English Communication Skills",
           4.7,
           "Georgia Institute Of Technology"
          ],
          [
           "Excel To Mysql: Analytic Techniques For Business",
           4.6,
           "Duke University"
          ],
          [
           "Data Analysis And Presentation Skills: The Pwc Approach",
           4.6,
           "Pwc"
          ],
          [
           "Web Design For Everybody: Basics Of Web Development & Coding",
           4.7,
           "University Of Michigan"
          ],
          [
           "Aws Fundamentals",
           4.6,
           "Amazon Web Services"
          ],
          [
           "Career Success",
           4.4,
           "University Of California, Irvine"
          ],
          [
           "Java Programming And Software Engineering Fundamentals",
           4.6,
           "Duke University"
          ],
          [
           "Ui / Ux Design",
           4.7,
           "California Institute Of The Arts"
          ],
          [
           "Construction Management",
           4.7,
           "Columbia University"
          ],
          [
           "Social Media Marketing",
           4.6,
           "Northwestern University"
          ],
          [
           "Supply Chain Management",
           4.7,
           "Rutgers The State University Of New Jersey"
          ],
          [
           "Achieving Personal And Professional Success",
           4.7,
           "University Of Pennsylvania"
          ],
          [
           "Human Resource Management: Hr For People Managers",
           4.7,
           "University Of Minnesota"
          ],
          [
           "Digital Product Management",
           4.7,
           "University Of Virginia"
          ],
          [
           "Mathematics For Machine Learning",
           4.6,
           "Imperial College London"
          ],
          [
           "Ai Foundations For Everyone",
           4.7,
           "Ibm"
          ],
          [
           "Creative Writing",
           4.6,
           "Wesleyan University"
          ],
          [
           "Epidemiology In Public Health Practice",
           4.7,
           "Johns Hopkins University"
          ],
          [
           "Leading People And Teams",
           4.7,
           "University Of Michigan"
          ],
          [
           "Academic English: Writing",
           4.7,
           "University Of California, Irvine"
          ],
          [
           "Software Product Management",
           4.6,
           "University Of Alberta"
          ],
          [
           "The Business Of Health Care",
           4.6,
           "University Of Pennsylvania"
          ],
          [
           "Fintech: Foundations & Applications Of Financial Technology",
           4.6,
           "University Of Pennsylvania"
          ],
          [
           "Tesol Certificate, Part 1: Teach English Now!",
           4.9,
           "Arizona State University"
          ],
          [
           "Data Visualization With Tableau",
           4.5,
           "University Of California, Davis"
          ],
          [
           "Learn Sql Basics For Data Science",
           4.6,
           "University Of California, Davis"
          ],
          [
           "Agile Development",
           4.7,
           "University Of Virginia"
          ],
          [
           "Genomic Data Science",
           4.4,
           "Johns Hopkins University"
          ],
          [
           "Algorithms",
           4.8,
           "Stanford University"
          ],
          [
           "Geographic Information Systems  (Gis)",
           4.8,
           "University Of California, Davis"
          ],
          [
           "Investment Management",
           4.7,
           "University Of Geneva"
          ],
          [
           "The Diy Musician",
           4.8,
           "Berklee College Of Music"
          ],
          [
           "Reinforcement Learning",
           4.7,
           "University Of Alberta"
          ],
          [
           "Statistics With R",
           4.7,
           "Duke University"
          ],
          [
           "Object Oriented Programming In Java",
           4.6,
           "Duke University"
          ],
          [
           "Methods And Statistics In Social Sciences",
           4.6,
           "University Of Amsterdam"
          ],
          [
           "Full-Stack Web Development With React",
           4.7,
           "The Hong Kong University Of Science And Technology"
          ],
          [
           "Managing Innovation And Design Thinking",
           4.7,
           "Hec Paris"
          ],
          [
           "Strategic Leadership And Management",
           4.7,
           "University Of Illinois At Urbana-Champaign"
          ],
          [
           "Music Production",
           4.8,
           "Berklee College Of Music"
          ],
          [
           "Cisco Networking Basics",
           4.7,
           "Cisco"
          ],
          [
           "Business Statistics And Analysis",
           4.7,
           "Rice University"
          ],
          [
           "The Business Of Music Production",
           4.8,
           "Berklee College Of Music"
          ],
          [
           "It Fundamentals For Cybersecurity",
           4.5,
           "Ibm"
          ],
          [
           "Advanced Machine Learning",
           4.5,
           "National Research University Higher School Of Economics"
          ],
          [
           "Business Strategy",
           4.7,
           "University Of Virginia"
          ],
          [
           "Photography Basics And Beyond: From Smartphone To Dslr",
           4.7,
           "Michigan State University"
          ],
          [
           "Full Stack Web And Multiplatform Mobile App Development",
           4.7,
           "The Hong Kong University Of Science And Technology"
          ],
          [
           "Learn Spanish: Basic Spanish Vocabulary",
           4.6,
           "University Of California, Davis"
          ],
          [
           "G Suite Administration",
           4.7,
           "Google Cloud"
          ],
          [
           "Organizational Leadership",
           4.7,
           "Northwestern University"
          ],
          [
           "User Experience Research And Design",
           4.8,
           "University Of Michigan"
          ],
          [
           "The Singer Songwriter",
           4.8,
           "Berklee College Of Music"
          ],
          [
           "Anatomy",
           4.8,
           "University Of Michigan"
          ],
          [
           "Intellectual Property Law",
           4.8,
           "University Of Pennsylvania"
          ],
          [
           "Electronic Music Production",
           4.8,
           "Berklee College Of Music"
          ],
          [
           "Excel/Vba For Creative Problem Solving",
           4.8,
           "University Of Colorado Boulder"
          ],
          [
           "Machine Learning With Tensorflow On Google Cloud Platform",
           4.5,
           "Google Cloud"
          ],
          [
           "Business Strategies For A Better World",
           4.7,
           "University Of Pennsylvania"
          ],
          [
           "Statistics With Python",
           4.6,
           "University Of Michigan"
          ],
          [
           "Interaction Design",
           4.5,
           "University Of California San Diego"
          ],
          [
           "Fundamentals Of Immunology",
           4.7,
           "Rice University"
          ],
          [
           "Biostatistics In Public Health",
           4.8,
           "Johns Hopkins University"
          ],
          [
           "Машинное Обучение И Анализ Данных",
           4.7,
           "E-Learning Development Fund"
          ],
          [
           "The Art Of Sales: Mastering The Selling Process",
           4.7,
           "Northwestern University"
          ],
          [
           "(Isc)² Systems Security Certified Practitioner (Sscp)",
           4.7,
           "(Isc)²"
          ],
          [
           "Executive Data Science",
           4.5,
           "Johns Hopkins University"
          ],
          [
           "Marketing Mix Implementation",
           4.6,
           "Ie Business School"
          ],
          [
           "Accelerated Computer Science Fundamentals",
           4.7,
           "University Of Illinois At Urbana-Champaign"
          ],
          [
           "Blockchain Revolution",
           4.7,
           "Insead"
          ],
          [
           "Futures Thinking",
           4.8,
           "Institute For The Future"
          ],
          [
           "Investment Management With Python And Machine Learning",
           4.6,
           "Edhec Business School"
          ],
          [
           "Data Science: Statistics And Machine Learning",
           4.4,
           "Johns Hopkins University"
          ],
          [
           "Financial Management",
           4.7,
           "University Of Illinois At Urbana-Champaign"
          ],
          [
           "Functional Programming In Scala",
           4.7,
           "École Polytechnique Fédérale De Lausanne"
          ],
          [
           "An Introduction To Programming The Internet Of Things (Iot)",
           4.6,
           "University Of California, Irvine"
          ],
          [
           "Self-Driving Cars",
           4.7,
           "University Of Toronto"
          ],
          [
           "Learn Chinese: Hsk Test Preparation",
           4.8,
           "Peking University"
          ],
          [
           "Искусство Разработки На Современном C++",
           4.9,
           "E-Learning Development Fund"
          ],
          [
           "Advanced Data Science With Ibm",
           4.4,
           "Ibm"
          ],
          [
           "Финансовые Инструменты Для Частного Инвестора",
           4.7,
           "National Research University Higher School Of Economics"
          ],
          [
           "Fundamentals Of Computing",
           4.8,
           "Rice University"
          ],
          [
           "Dynamic Public Speaking",
           4.7,
           "University Of Washington"
          ],
          [
           "Six Sigma Green Belt",
           4.7,
           "University System Of Georgia"
          ],
          [
           "Business English Communication Skills",
           4.7,
           "University Of Washington"
          ],
          [
           "Statistical Analysis With R For Public Health",
           4.7,
           "Imperial College London"
          ],
          [
           "Integrative Health And Medicine",
           4.8,
           "University Of Minnesota"
          ],
          [
           "Learn English: Intermediate Grammar",
           4.7,
           "University Of California, Irvine"
          ],
          [
           "Hotel Management: Distribution, Revenue And Demand Management",
           4.6,
           "Essec Business School"
          ],
          [
           "Machine Learning For Trading",
           3.9,
           "Google Cloud"
          ],
          [
           "Russian For Beginners А1. Русский Язык: A1",
           4.7,
           "Saint Petersburg State University"
          ],
          [
           "Machine Learning",
           4.6,
           "University Of Washington"
          ],
          [
           "Web Applications For Everybody",
           4.8,
           "University Of Michigan"
          ],
          [
           "Introduction To Cyber Security",
           4.7,
           "New York University"
          ],
          [
           "Inspired Leadership",
           4.7,
           "Case Western Reserve University"
          ],
          [
           "Software Design And Architecture",
           4.6,
           "University Of Alberta"
          ],
          [
           "Music Business",
           4.8,
           "Berklee College Of Music"
          ],
          [
           "Introduction To Programming In C",
           4.7,
           "Duke University"
          ],
          [
           "Investment And Portfolio Management",
           4.5,
           "Rice University"
          ],
          [
           "Introduction To Discrete Mathematics For Computer Science",
           4.4,
           "National Research University Higher School Of Economics"
          ],
          [
           "Claves De La Dirección De Empresas",
           4.8,
           "Iese Business School"
          ],
          [
           "Strategic Management And Innovation",
           4.7,
           "Copenhagen Business School"
          ],
          [
           "From Data To Insights With Google Cloud Platform",
           4.6,
           "Google Cloud"
          ],
          [
           "Developing Your Musicianship",
           4.8,
           "Berklee College Of Music"
          ],
          [
           "Game Design And Development",
           4.7,
           "Michigan State University"
          ],
          [
           "Programming With Google Go",
           4.6,
           "University Of California, Irvine"
          ],
          [
           "Foundations Of Management",
           4.8,
           "Iese Business School"
          ],
          [
           "Marketing Strategy",
           4.4,
           "Ie Business School"
          ],
          [
           "Pricing Strategy Optimization",
           4.8,
           "Bcg"
          ],
          [
           "Tensorflow: Data And Deployment",
           4.5,
           "Deeplearning.Ai"
          ],
          [
           "Inspirational Leadership: Leading With Sense",
           4.5,
           "Hec Paris"
          ],
          [
           "Trading Strategies In Emerging Markets",
           4.3,
           "Indian School Of Business"
          ],
          [
           "C# Programming For Unity Game Development",
           4.7,
           "University Of Colorado System"
          ],
          [
           "Influencing: Storytelling, Change Management And Governance",
           4.8,
           "Macquarie University"
          ],
          [
           "Negotiation, Mediation And Conflict Resolution",
           4.7,
           "Essec Business School"
          ],
          [
           "Habilidades Gerenciales",
           4.7,
           "Universidad Nacional Autónoma De México"
          ],
          [
           "Business Technology Management",
           4.5,
           "Indian School Of Business"
          ],
          [
           "Tesol Certificate, Part 2: Teach English Now!",
           4.9,
           "Arizona State University"
          ],
          [
           "Программирование На Python",
           4.5,
           "Mail.Ru Group"
          ],
          [
           "Digital Manufacturing & Design Technology",
           4.6,
           "University At Buffalo"
          ],
          [
           "Branding: The Creative Journey",
           4.6,
           "Ie Business School"
          ],
          [
           "Digital Advertising Strategy",
           4.4,
           "University Of Colorado Boulder"
          ],
          [
           "Algorithms For Battery Management Systems",
           4.8,
           "University Of Colorado System"
          ],
          [
           "Health Informatics",
           4.5,
           "Johns Hopkins University"
          ],
          [
           "U.S. Federal Taxation",
           4.8,
           "University Of Illinois At Urbana-Champaign"
          ],
          [
           "Advanced Business Analytics",
           4.5,
           "University Of Colorado Boulder"
          ],
          [
           "Culture-Driven Team Building",
           4.6,
           "University Of Pennsylvania"
          ],
          [
           "Blockchain",
           4.6,
           "University At Buffalo"
          ],
          [
           "Introduction To Computer Science And Programming",
           4.3,
           "Goldsmiths, University Of London"
          ],
          [
           "Object Oriented Java Programming: Data Structures And Beyond",
           4.7,
           "University Of California San Diego"
          ],
          [
           "Memoir And Personal Essay: Write About Yourself",
           4.3,
           "Wesleyan University"
          ],
          [
           "Financial Markets And Investment Strategy",
           4.5,
           "Indian School Of Business"
          ],
          [
           "Value Chain Management",
           4.7,
           "University Of Illinois At Urbana-Champaign"
          ],
          [
           "Energy Production, Distribution & Safety",
           4.7,
           "University At Buffalo"
          ],
          [
           "Learn English: Advanced Grammar And Punctuation",
           4.8,
           "University Of California, Irvine"
          ],
          [
           "Content Strategy For Professionals",
           4.5,
           "Northwestern University"
          ],
          [
           "Coaching Skills For Managers",
           4.7,
           "University Of California, Davis"
          ],
          [
           "Gis, Mapping, And Spatial Analysis",
           4.8,
           "University Of Toronto"
          ],
          [
           "Data Warehousing For Business Intelligence",
           4.5,
           "University Of Colorado System"
          ],
          [
           "Responsive Website Development And Design",
           4.5,
           "Goldsmiths, University Of London"
          ],
          [
           "Entrepreneurial Finance: Strategy And Innovation",
           4.5,
           "Duke University"
          ],
          [
           "Introduction To Scripting In Python",
           4.7,
           "Rice University"
          ],
          [
           "Become A Journalist: Report The News!",
           4.7,
           "Michigan State University"
          ],
          [
           "Fundamentals Of Accounting",
           4.6,
           "University Of Illinois At Urbana-Champaign"
          ],
          [
           "Modern Big Data Analysis With Sql",
           4.8,
           "Cloudera"
          ],
          [
           "Virtual Teacher",
           4.3,
           "University Of California, Irvine"
          ],
          [
           "Presentation Skills: Speechwriting, Slides And Delivery",
           4.6,
           "E-Learning Development Fund"
          ],
          [
           "Patient Safety",
           4.8,
           "Johns Hopkins University"
          ],
          [
           "Foundations Of Global Health",
           4.7,
           "Johns Hopkins University"
          ],
          [
           "Robotics",
           4.4,
           "University Of Pennsylvania"
          ],
          [
           "Practical Data Science With Matlab",
           4.7,
           "Mathworks"
          ],
          [
           "Advanced Machine Learning With Tensorflow On Google Cloud Platform",
           4.5,
           "Google Cloud"
          ],
          [
           "Marketing Digital",
           4.7,
           "Universidad Austral"
          ],
          [
           "Modern Robotics:  Mechanics, Planning, And Control",
           4.7,
           "Northwestern University"
          ],
          [
           "Medical Cannabis: The Health Effects Of Thc And Cbd",
           4.8,
           "University Of Colorado Boulder"
          ],
          [
           "Foundational Finance For Strategic Decision Making",
           4.8,
           "University Of Michigan"
          ],
          [
           "Developing Apis With Google Cloud'S Apigee Api Platform",
           4.6,
           "Google Cloud"
          ],
          [
           "Newborn Baby Care",
           4.8,
           "University Of Colorado System"
          ],
          [
           "Survey Data Collection And Analytics",
           4.3,
           "University Of Maryland, College Park"
          ],
          [
           "Power Electronics",
           4.8,
           "University Of Colorado Boulder"
          ],
          [
           "Cloud Computing",
           4.4,
           "University Of Illinois At Urbana-Champaign"
          ],
          [
           "Machine Learning And Reinforcement Learning In Finance",
           3.7,
           "New York University"
          ],
          [
           "Good With Words: Writing And Editing",
           4.6,
           "University Of Michigan"
          ],
          [
           "Financial Technology (Fintech) Innovations",
           4.7,
           "University Of Michigan"
          ],
          [
           "Learn Mandarin Chinese",
           4.8,
           "Shanghai Jiao Tong University"
          ],
          [
           "Finanzas Corporativas",
           4.6,
           "Universidad Nacional Autónoma De México"
          ],
          [
           "Marketing Con Redes Sociales",
           4.4,
           "Tecnológico De Monterrey"
          ],
          [
           "School Health For Children And Adolescents",
           4.8,
           "University Of Colorado System"
          ],
          [
           "Fundraising And Development",
           4.6,
           "University Of California, Davis"
          ],
          [
           "Cybersecurity",
           4.5,
           "University Of Maryland, College Park"
          ],
          [
           "Healthcare Law",
           4.7,
           "University Of Pennsylvania"
          ],
          [
           "Market Research",
           4.5,
           "University Of California, Davis"
          ],
          [
           "Swift 5 Ios Application Developer",
           4.5,
           "Learnquest"
          ],
          [
           "Android App Development",
           4.5,
           "Vanderbilt University"
          ],
          [
           "Computational Social Science",
           4.6,
           "University Of California, Davis"
          ],
          [
           "Learn English: Advanced Academic Speaking And Listening",
           4.5,
           "University Of California, Irvine"
          ],
          [
           "Infectious Disease Modelling",
           5,
           "Imperial College London"
          ],
          [
           "Software Development Lifecycle",
           4.6,
           "University Of Minnesota"
          ],
          [
           "Основы Digital Маркетинга",
           4.5,
           "National Research University Higher School Of Economics"
          ],
          [
           "Virtual Reality",
           4.7,
           "Goldsmiths, University Of London"
          ],
          [
           "Managerial Economics And Business Analysis",
           4.7,
           "University Of Illinois At Urbana-Champaign"
          ],
          [
           "Open Source Software Development, Linux And Git",
           4.4,
           "The Linux Foundation"
          ],
          [
           "Healthcare Marketplace",
           4.4,
           "University Of Minnesota"
          ],
          [
           "Epidemiology For Public Health",
           4.7,
           "Imperial College London"
          ],
          [
           "Supply Chain Finance And Blockchain Technology",
           4.6,
           "New York Institute Of Finance"
          ],
          [
           "Leading: Human Resource Management And Leadership",
           4.8,
           "Macquarie University"
          ],
          [
           "Data Mining",
           4.4,
           "University Of Illinois At Urbana-Champaign"
          ],
          [
           "Essentials Of Corporate Finance",
           4.6,
           "The University Of Melbourne"
          ],
          [
           "Architecting With Google Cloud Platform 日本語版",
           4.5,
           "Google Cloud"
          ],
          [
           "Conflict Management",
           4.3,
           "University Of California, Irvine"
          ],
          [
           "Parallel, Concurrent, And Distributed Programming In Java",
           4.5,
           "Rice University"
          ],
          [
           "International Business Essentials",
           4.5,
           "University Of London"
          ],
          [
           "Climate Change And Health: From Science To Action",
           4.6,
           "Yale University"
          ],
          [
           "The Teacher And Social And Emotional Learning (Sel)",
           4.7,
           "University Of Colorado Boulder"
          ],
          [
           "Blockchain Revolution In Financial Services",
           4.6,
           "Insead"
          ],
          [
           "Autodesk Cad/Cam/Cae For Mechanical Engineering",
           4.8,
           "Autodesk"
          ],
          [
           "Optical Engineering",
           4.2,
           "University Of Colorado Boulder"
          ],
          [
           "Competitive Strategy And Organization Design",
           4.7,
           "Ludwig-Maximilians-Universität München (Lmu)"
          ],
          [
           "Mathematics For Data Science",
           4.5,
           "National Research University Higher School Of Economics"
          ],
          [
           "Systems Biology And Biotechnology",
           4.4,
           "Icahn School Of Medicine At Mount Sinai"
          ],
          [
           "Information​ ​Systems",
           4.7,
           "University Of Minnesota"
          ],
          [
           "Искусство Ведения Бизнеса",
           4.6,
           "Saint Petersburg State University"
          ],
          [
           "Cybersecurity For Business",
           4.6,
           "University Of Colorado System"
          ],
          [
           "Big Data – Introducción Al Uso Práctico De Datos Masivos",
           4.5,
           "Universitat Autònoma De Barcelona"
          ],
          [
           "Entrepreneurship: Launching An Innovative Business",
           4.6,
           "University Of Maryland, College Park"
          ],
          [
           "Plant Bioinformatic Methods",
           4.7,
           "University Of Toronto"
          ],
          [
           "Graphic Design Elements For Non-Designers",
           4.7,
           "University Of Colorado Boulder"
          ],
          [
           "Foundations Of Public Health Practice",
           4.8,
           "Imperial College London"
          ],
          [
           "Palo Alto Networks Cybersecurity",
           4.6,
           "Palo Alto Networks"
          ],
          [
           "Fintech: Finance Industry Transformation And Regulation",
           4.6,
           "The Hong Kong University Of Science And Technology"
          ],
          [
           "Information Visualization",
           4.6,
           "New York University"
          ],
          [
           "Разработка Интерфейсов: Вёрстка И Javascript",
           4.5,
           "E-Learning Development Fund"
          ],
          [
           "English For Research Publication Purposes",
           4.6,
           "Moscow Institute Of Physics And Technology"
          ],
          [
           "Recommender Systems",
           4.3,
           "University Of Minnesota"
          ],
          [
           "Implementación Del Marketing Mix",
           4.7,
           "Ie Business School"
          ],
          [
           "Mastering Software Development In R",
           4.3,
           "Johns Hopkins University"
          ],
          [
           "Foundations Of Marketing Analytics",
           4.2,
           "Emory University"
          ],
          [
           "Ibm Ai Enterprise Workflow",
           4.4,
           "Ibm"
          ],
          [
           "Architecting With Google Kubernetes Engine 日本語版",
           4.5,
           "Google Cloud"
          ],
          [
           "Social Policy For Social Services & Health Practitioners",
           4.8,
           "Columbia University"
          ],
          [
           "Interviewing And Resume Writing In English",
           4.6,
           "University Of Maryland, College Park"
          ],
          [
           "Strategic Sales Management",
           4.5,
           "Fundação Instituto De Administração"
          ],
          [
           "Healthcare Organization Operations",
           4.6,
           "Rutgers The State University Of New Jersey"
          ],
          [
           "Sales Operations/Management",
           4.4,
           "West Virginia University"
          ],
          [
           "Éxito Profesional",
           4.5,
           "University Of California, Irvine"
          ],
          [
           "How To Start Your Own Business",
           4.1,
           "Michigan State University"
          ],
          [
           "Business English",
           4.7,
           "Arizona State University"
          ],
          [
           "User Interface Design",
           4.6,
           "University Of Minnesota"
          ],
          [
           "International Marketing & Cross Industry Growth",
           4.6,
           "Yonsei University"
          ],
          [
           "Unity Xr: How To Build Ar And Vr Apps",
           4.2,
           "Unity"
          ],
          [
           "Computer Security And Systems Management",
           4.6,
           "University Of Colorado System"
          ],
          [
           "Implementing Rpa With Cognitive Automation And Analytics",
           4.6,
           "Automation Anywhere"
          ],
          [
           "Developing Applications With Google Cloud Platform 日本語版",
           4.8,
           "Google Cloud"
          ],
          [
           "Strategic Business Analytics",
           4.3,
           "Essec Business School"
          ],
          [
           "Leadership Development For Engineers",
           4.7,
           "Rice University"
          ],
          [
           "Innovation: From Creativity To Entrepreneurship",
           4.8,
           "University Of Illinois At Urbana-Champaign"
          ],
          [
           "Diseño Instruccional: Aprendizaje Activo Y Pedagogía Digital",
           4.6,
           "Tecnológico De Monterrey"
          ],
          [
           "Data Engineering On Google Cloud Platform 日本語版",
           4.4,
           "Google Cloud"
          ],
          [
           "Financial Reporting",
           4.8,
           "University Of Illinois At Urbana-Champaign"
          ],
          [
           "Esports",
           4.5,
           "University Of California, Irvine"
          ],
          [
           "Liderazgo Efectivo Para El Siglo Xxi",
           4.8,
           "Universidad De Los Andes"
          ],
          [
           "Homeland Security And Cybersecurity",
           4.7,
           "University Of Colorado System"
          ],
          [
           "Communication Skills For Engineers",
           4.7,
           "Rice University"
          ],
          [
           "Globalization, Economic Growth And Stability",
           4.8,
           "Ie Business School"
          ],
          [
           "Developing Industrial Internet Of Things",
           4.6,
           "University Of Colorado Boulder"
          ],
          [
           "Корпоративные Финансы И Стоимость Компании",
           4.5,
           "National Research University Higher School Of Economics"
          ],
          [
           "Emerging Technologies: From Smartphones To Iot To Big Data",
           4.6,
           "Yonsei University"
          ],
          [
           "Health Information Literacy For Data Analytics",
           4.5,
           "University Of California, Davis"
          ],
          [
           "Introdução Aos Princípios E Práticas Da Gestão De Projetos",
           4.9,
           "Universidade De São Paulo"
          ],
          [
           "Fundamentos Empresariales",
           4.6,
           "University Of Pennsylvania"
          ],
          [
           "Improving Leadership & Governance In Nonprofit Organizations",
           4.4,
           "Luther College At The University Of Regina"
          ],
          [
           "L'Impact Investing, La Finance Qui Change Le Monde",
           4.6,
           "Essec Business School"
          ],
          [
           "Analysing: Numeric And Digital Literacies",
           4.6,
           "Macquarie University"
          ],
          [
           "Spacecraft Dynamics And Control",
           4.8,
           "University Of Colorado Boulder"
          ],
          [
           "Palliative Care: It'S Not Just Hospice Anymore",
           4.8,
           "University Of Colorado System"
          ],
          [
           "Ios App Development With Swift",
           3.9,
           "University Of Toronto"
          ],
          [
           "Sales Training For High Performing Teams",
           4.7,
           "Hubspot Academy"
          ],
          [
           "Learn English",
           4.3,
           "Tsinghua University"
          ],
          [
           "Creatividad, Diseño E Innovación: Técnicas Y Herramientas",
           4.7,
           "Arizona State University"
          ],
          [
           "Strategising: Management For Global Competitive Advantage",
           4.8,
           "Macquarie University"
          ],
          [
           "Become A Sustainable Business Change Agent",
           4.7,
           "University Of Colorado System"
          ],
          [
           "Data Analysis And Interpretation",
           4.4,
           "Wesleyan University"
          ],
          [
           "Social Entrepreneurship",
           4.6,
           "Copenhagen Business School"
          ],
          [
           "The Pronunciation Of American English",
           4.6,
           "University Of California, Irvine"
          ],
          [
           "Secure Coding Practices",
           4.4,
           "University Of California, Davis"
          ],
          [
           "Fundamentos Estratégicos Empresariales",
           4.6,
           "Universidad Nacional Autónoma De México"
          ],
          [
           "Unity Certified Programmer Exam Preparation",
           4.5,
           "Unity"
          ],
          [
           "Requirements Engineering: Secure Software  Specifications",
           4.6,
           "University Of Colorado System"
          ],
          [
           "Русский Как Иностранный",
           4.6,
           "Saint Petersburg State University"
          ],
          [
           "Evaluación Educativa",
           4.8,
           "Universidad Nacional Autónoma De México"
          ],
          [
           "Autodesk Cad/Cam For Manufacturing",
           4.8,
           "Autodesk"
          ],
          [
           "Understanding Modern Finance",
           4.4,
           "American Institute Of Business And Economics"
          ],
          [
           "Aprende A Programar Con Python",
           4.2,
           "Universidad Austral"
          ]
         ],
         "hovertemplate": "Title: <b>%{customdata[0]}</b><br>Students Enrolled: %{x:,.0f}<br>Organization: %{customdata[2]}<br>Rating: %{customdata[1]}<br>",
         "legendgroup": "Specialization",
         "marker": {
          "color": "rgb(29, 105, 150)"
         },
         "name": "Specialization",
         "notched": false,
         "offsetgroup": "Specialization",
         "orientation": "h",
         "showlegend": true,
         "type": "box",
         "x": [
          310000,
          1500000,
          690000,
          510000,
          220000,
          310000,
          240000,
          830000,
          740000,
          260000,
          280000,
          300000,
          300000,
          290000,
          160000,
          120000,
          480000,
          170000,
          380000,
          230000,
          440000,
          89000,
          110000,
          13000,
          610000,
          490000,
          220000,
          280000,
          130000,
          790000,
          380000,
          68000,
          61000,
          130000,
          82000,
          110000,
          98000,
          140000,
          150000,
          61000,
          140000,
          31000,
          220000,
          540000,
          110000,
          22000,
          20000,
          100000,
          96000,
          160000,
          94000,
          80000,
          150000,
          97000,
          99000,
          120000,
          23000,
          220000,
          330000,
          260000,
          140000,
          23000,
          100000,
          70000,
          57000,
          110000,
          84000,
          35000,
          190000,
          89000,
          160000,
          150000,
          80000,
          10000,
          92000,
          23000,
          320000,
          30000,
          8700,
          110000,
          56000,
          72000,
          24000,
          34000,
          150000,
          20000,
          14000,
          77000,
          23000,
          5300,
          170000,
          93000,
          22000,
          21000,
          9400,
          14000,
          210000,
          76000,
          220000,
          270000,
          39000,
          43000,
          68000,
          320000,
          38000,
          200000,
          110000,
          18000,
          120000,
          16000,
          14000,
          120000,
          28000,
          15000,
          7000,
          290000,
          120000,
          32000,
          97000,
          60000,
          42000,
          82000,
          49000,
          75000,
          51000,
          68000,
          26000,
          54000,
          100000,
          18000,
          64000,
          57000,
          20000,
          12000,
          72000,
          68000,
          36000,
          22000,
          22000,
          43000,
          67000,
          62000,
          52000,
          37000,
          26000,
          9000,
          14000,
          8100,
          12000,
          78000,
          17000,
          68000,
          32000,
          250000,
          13000,
          60000,
          63000,
          37000,
          52000,
          27000,
          37000,
          140000,
          140000,
          170000,
          7900,
          49000,
          28000,
          39000,
          14000,
          23000,
          47000,
          8800,
          31000,
          120000,
          10000,
          35000,
          39000,
          21000,
          4800,
          14000,
          16000,
          5300,
          45000,
          67000,
          110000,
          29000,
          3800,
          6500,
          39000,
          30000,
          60000,
          9100,
          4900,
          99000,
          1700,
          22000,
          3900,
          120000,
          5800,
          78000,
          1600,
          34000,
          19000,
          37000,
          55000,
          13000,
          36000,
          6400,
          4900,
          16000,
          140000,
          54000,
          4200,
          66000,
          30000,
          22000,
          4800,
          5200,
          1600,
          9200,
          6200,
          350000,
          12000,
          48000,
          16000,
          14000,
          23000,
          8800,
          69000,
          83000,
          10000,
          3200,
          9100,
          13000,
          10000,
          30000,
          42000,
          29000,
          23000,
          52000,
          27000,
          3500,
          3900,
          4200,
          66000,
          9200,
          5500,
          5600,
          69000,
          34000,
          38000,
          43000,
          26000,
          12000,
          27000,
          2200,
          4000,
          60000,
          17000,
          25000,
          4000,
          3000,
          12000,
          1800,
          23000,
          5500,
          15000,
          44000,
          8000,
          16000,
          17000,
          5400,
          4500,
          25000,
          18000,
          6300,
          7900,
          12000,
          3200,
          76000,
          16000,
          22000,
          150000,
          30000,
          4200,
          100000,
          13000,
          1700,
          6400,
          56000,
          6100,
          7200,
          9800,
          13000,
          7300,
          11000,
          6600
         ],
         "x0": " ",
         "xaxis": "x",
         "y": [
          "Beginner",
          "Beginner",
          "Intermediate",
          "Beginner",
          "Beginner",
          "Intermediate",
          "Beginner",
          "Beginner",
          "Beginner",
          "Beginner",
          "Beginner",
          "Intermediate",
          "Intermediate",
          "Intermediate",
          "Beginner",
          "Intermediate",
          "Intermediate",
          "Intermediate",
          "Beginner",
          "Beginner",
          "Beginner",
          "Beginner",
          "Beginner",
          "Intermediate",
          "Beginner",
          "Beginner",
          "Beginner",
          "Beginner",
          "Beginner",
          "Beginner",
          "Beginner",
          "Beginner",
          "Beginner",
          "Beginner",
          "Beginner",
          "Beginner",
          "Beginner",
          "Beginner",
          "Beginner",
          "Beginner",
          "Beginner",
          "Beginner",
          "Beginner",
          "Beginner",
          "Beginner",
          "Beginner",
          "Beginner",
          "Beginner",
          "Beginner",
          "Beginner",
          "Beginner",
          "Intermediate",
          "Intermediate",
          "Beginner",
          "Beginner",
          "Beginner",
          "Intermediate",
          "Beginner",
          "Beginner",
          "Beginner",
          "Intermediate",
          "Beginner",
          "Beginner",
          "Beginner",
          "Beginner",
          "Beginner",
          "Beginner",
          "Beginner",
          "Advanced",
          "Beginner",
          "Beginner",
          "Intermediate",
          "Beginner",
          "Beginner",
          "Intermediate",
          "Beginner",
          "Beginner",
          "Beginner",
          "Intermediate",
          "Intermediate",
          "Beginner",
          "Intermediate",
          "Beginner",
          "Beginner",
          "Intermediate",
          "Intermediate",
          "Beginner",
          "Intermediate",
          "Beginner",
          "Beginner",
          "Beginner",
          "Beginner",
          "Intermediate",
          "Beginner",
          "Beginner",
          "Beginner",
          "Intermediate",
          "Intermediate",
          "Intermediate",
          "Beginner",
          "Advanced",
          "Beginner",
          "Intermediate",
          "Advanced",
          "Beginner",
          "Beginner",
          "Beginner",
          "Intermediate",
          "Intermediate",
          "Beginner",
          "Beginner",
          "Intermediate",
          "Beginner",
          "Intermediate",
          "Beginner",
          "Intermediate",
          "Intermediate",
          "Beginner",
          "Intermediate",
          "Beginner",
          "Beginner",
          "Beginner",
          "Beginner",
          "Beginner",
          "Beginner",
          "Beginner",
          "Beginner",
          "Beginner",
          "Intermediate",
          "Intermediate",
          "Beginner",
          "Beginner",
          "Beginner",
          "Intermediate",
          "Beginner",
          "Beginner",
          "Beginner",
          "Beginner",
          "Beginner",
          "Beginner",
          "Beginner",
          "Beginner",
          "Intermediate",
          "Beginner",
          "Beginner",
          "Beginner",
          "Intermediate",
          "Beginner",
          "Intermediate",
          "Intermediate",
          "Beginner",
          "Intermediate",
          "Beginner",
          "Intermediate",
          "Beginner",
          "Beginner",
          "Intermediate",
          "Beginner",
          "Advanced",
          "Beginner",
          "Intermediate",
          "Beginner",
          "Advanced",
          "Beginner",
          "Intermediate",
          "Beginner",
          "Beginner",
          "Beginner",
          "Beginner",
          "Beginner",
          "Beginner",
          "Beginner",
          "Beginner",
          "Beginner",
          "Beginner",
          "Advanced",
          "Beginner",
          "Intermediate",
          "Beginner",
          "Beginner",
          "Intermediate",
          "Beginner",
          "Beginner",
          "Intermediate",
          "Intermediate",
          "Intermediate",
          "Beginner",
          "Beginner",
          "Beginner",
          "Intermediate",
          "Intermediate",
          "Beginner",
          "Beginner",
          "Intermediate",
          "Intermediate",
          "Beginner",
          "Beginner",
          "Beginner",
          "Beginner",
          "Intermediate",
          "Intermediate",
          "Intermediate",
          "Intermediate",
          "Beginner",
          "Beginner",
          "Beginner",
          "Beginner",
          "Beginner",
          "Intermediate",
          "Intermediate",
          "Intermediate",
          "Intermediate",
          "Intermediate",
          "Beginner",
          "Intermediate",
          "Intermediate",
          "Beginner",
          "Beginner",
          "Beginner",
          "Intermediate",
          "Advanced",
          "Intermediate",
          "Beginner",
          "Intermediate",
          "Beginner",
          "Beginner",
          "Beginner",
          "Beginner",
          "Beginner",
          "Beginner",
          "Beginner",
          "Beginner",
          "Beginner",
          "Beginner",
          "Beginner",
          "Intermediate",
          "Intermediate",
          "Intermediate",
          "Beginner",
          "Beginner",
          "Intermediate",
          "Advanced",
          "Beginner",
          "Beginner",
          "Intermediate",
          "Intermediate",
          "Beginner",
          "Beginner",
          "Beginner",
          "Beginner",
          "Intermediate",
          "Intermediate",
          "Beginner",
          "Beginner",
          "Beginner",
          "Beginner",
          "Intermediate",
          "Advanced",
          "Beginner",
          "Beginner",
          "Beginner",
          "Intermediate",
          "Intermediate",
          "Beginner",
          "Intermediate",
          "Beginner",
          "Beginner",
          "Intermediate",
          "Intermediate",
          "Beginner",
          "Beginner",
          "Intermediate",
          "Beginner",
          "Beginner",
          "Beginner",
          "Beginner",
          "Beginner",
          "Advanced",
          "Beginner",
          "Intermediate",
          "Beginner",
          "Beginner",
          "Beginner",
          "Intermediate",
          "Intermediate",
          "Beginner",
          "Beginner",
          "Beginner",
          "Intermediate",
          "Beginner",
          "Intermediate",
          "Beginner",
          "Intermediate",
          "Beginner",
          "Intermediate",
          "Intermediate",
          "Beginner"
         ],
         "y0": " ",
         "yaxis": "y"
        },
        {
         "alignmentgroup": "True",
         "boxmean": true,
         "customdata": [
          [
           "The Science Of Well-Being",
           4.9,
           "Yale University"
          ],
          [
           "Machine Learning",
           4.9,
           "Stanford University"
          ],
          [
           "Financial Markets",
           4.8,
           "Yale University"
          ],
          [
           "Covid-19 Contact Tracing",
           4.9,
           "Johns Hopkins University"
          ],
          [
           "Introduction To Psychology",
           4.9,
           "Yale University"
          ],
          [
           "Psychological First Aid",
           4.8,
           "Johns Hopkins University"
          ],
          [
           "Successful Negotiation: Essential Strategies And Skills",
           4.8,
           "University Of Michigan"
          ],
          [
           "Technical Support Fundamentals",
           4.8,
           "Google"
          ],
          [
           "Programming For Everybody (Getting Started With Python)",
           4.8,
           "University Of Michigan"
          ],
          [
           "Ai For Everyone",
           4.8,
           "Deeplearning.Ai"
          ],
          [
           "Primeros Auxilios Psicológicos (Pap)",
           4.8,
           "Universitat Autònoma De Barcelona"
          ],
          [
           "Neural Networks And Deep Learning",
           4.9,
           "Deeplearning.Ai"
          ],
          [
           "Stanford Introduction To Food And Health",
           4.7,
           "Stanford University"
          ],
          [
           "Writing In The Sciences",
           4.9,
           "Stanford University"
          ],
          [
           "Viral Marketing And How To Craft Contagious Content",
           4.7,
           "University Of Pennsylvania"
          ],
          [
           "Brand Management: Aligning Business, Brand And Behaviour",
           4.9,
           "London Business School"
          ],
          [
           "Management Of Fashion And Luxury Companies",
           4.7,
           "Università Bocconi"
          ],
          [
           "Fundamentals Of Project Planning And Management",
           4.7,
           "University Of Virginia"
          ],
          [
           "Social Psychology",
           4.7,
           "Wesleyan University"
          ],
          [
           "Financial Accounting Fundamentals",
           4.8,
           "University Of Virginia"
          ],
          [
           "What Is Data Science?",
           4.7,
           "Ibm"
          ],
          [
           "Learning To Teach Online",
           4.7,
           "Unsw Sydney (The University Of New South Wales)"
          ],
          [
           "Excel Skills For Business: Essentials",
           4.9,
           "Macquarie University"
          ],
          [
           "Fashion As Design",
           4.8,
           "The Museum Of Modern Art"
          ],
          [
           "Design Thinking For Innovation",
           4.6,
           "University Of Virginia"
          ],
          [
           "Modern Art & Ideas",
           4.7,
           "The Museum Of Modern Art"
          ],
          [
           "Food & Beverage Management",
           4.8,
           "Università Bocconi"
          ],
          [
           "Become A Cbrs Certified Professional Installer By Google",
           4.9,
           "Google - Spectrum Sharing"
          ],
          [
           "Camino A La Excelencia En Gestión De Proyectos",
           4.7,
           "Pontificia Universidad Católica De Chile"
          ],
          [
           "Finding Purpose And Meaning In Life: Living For What Matters Most",
           4.7,
           "University Of Michigan"
          ],
          [
           "Indigenous Canada",
           4.8,
           "University Of Alberta"
          ],
          [
           "Python Data Structures",
           4.9,
           "University Of Michigan"
          ],
          [
           "First Step Korean",
           4.9,
           "Yonsei University"
          ],
          [
           "Private Equity And Venture Capital",
           4.8,
           "Università Bocconi"
          ],
          [
           "Science Of Exercise",
           4.8,
           "University Of Colorado Boulder"
          ],
          [
           "Improving Deep Neural Networks: Hyperparameter Tuning, Regularization And Optimization",
           4.9,
           "Deeplearning.Ai"
          ],
          [
           "Ai For Medical Diagnosis",
           4.7,
           "Deeplearning.Ai"
          ],
          [
           "The Bits And Bytes Of Computer Networking",
           4.7,
           "Google"
          ],
          [
           "Introduction To Marketing",
           4.8,
           "University Of Pennsylvania"
          ],
          [
           "The Strategy Of Content Marketing",
           4.5,
           "University Of California, Davis"
          ],
          [
           "Design And Interpretation Of Clinical Trials",
           4.7,
           "Johns Hopkins University"
          ],
          [
           "Game Theory",
           4.6,
           "Stanford University"
          ],
          [
           "What Is Contemporary Art?",
           4.7,
           "The Museum Of Modern Art"
          ],
          [
           "Tools For Data Science",
           4.6,
           "Ibm"
          ],
          [
           "Python For Data Science And Ai",
           4.6,
           "Ibm"
          ],
          [
           "Financial Engineering And Risk Management Part I",
           4.6,
           "Columbia University"
          ],
          [
           "An Introduction To American Law",
           4.8,
           "University Of Pennsylvania"
          ],
          [
           "Child Nutrition And Cooking",
           4.7,
           "Stanford University"
          ],
          [
           "Fundamentals Of Graphic Design",
           4.8,
           "California Institute Of The Arts"
          ],
          [
           "Fundamentals Of Quantitative Modeling",
           4.6,
           "University Of Pennsylvania"
          ],
          [
           "Initiating And Planning Projects",
           4.7,
           "University Of California, Irvine"
          ],
          [
           "Understanding Medical Research: Your Facebook Friend Is Wrong",
           4.8,
           "Yale University"
          ],
          [
           "Forensic Accounting And Fraud Examination",
           4.7,
           "West Virginia University"
          ],
          [
           "English For Career Development",
           4.8,
           "University Of Pennsylvania"
          ],
          [
           "Moral Foundations Of Politics",
           4.8,
           "Yale University"
          ],
          [
           "Crash Course On Python",
           4.8,
           "Google"
          ],
          [
           "Vital Signs: Understanding What The Body Is Telling Us",
           4.8,
           "University Of Pennsylvania"
          ],
          [
           "Introduction To Data Science In Python",
           4.5,
           "University Of Michigan"
          ],
          [
           "Structuring Machine Learning Projects",
           4.8,
           "Deeplearning.Ai"
          ],
          [
           "Étudier En France: French Intermediate Course B1-B2",
           4.8,
           "École Polytechnique"
          ],
          [
           "Global Diplomacy – Diplomacy In The Modern World",
           4.6,
           "Soas University Of London"
          ],
          [
           "International Women'S Health And Human Rights",
           4.9,
           "Stanford University"
          ],
          [
           "Introduction To The Biology Of Cancer",
           4.8,
           "Johns Hopkins University"
          ],
          [
           "Data Science Methodology",
           4.6,
           "Ibm"
          ],
          [
           "Using Python To Access Web Data",
           4.8,
           "University Of Michigan"
          ],
          [
           "Sports Marketing",
           4.7,
           "Northwestern University"
          ],
          [
           "Animal Behaviour And Welfare",
           4.8,
           "The University Of Edinburgh"
          ],
          [
           "Introduction To Financial Accounting",
           4.7,
           "University Of Pennsylvania"
          ],
          [
           "Convolutional Neural Networks",
           4.9,
           "Deeplearning.Ai"
          ],
          [
           "Autism Spectrum Disorder",
           4.6,
           "University Of California, Davis"
          ],
          [
           "Agile With Atlassian Jira",
           4.7,
           "Atlassian"
          ],
          [
           "Write Professional Emails In English",
           4.7,
           "Georgia Institute Of Technology"
          ],
          [
           "Medical Neuroscience",
           4.9,
           "Duke University"
          ],
          [
           "Positive Psychiatry And Mental Health",
           4.8,
           "The University Of Sydney"
          ],
          [
           "Excel Skills For Business: Intermediate I",
           4.9,
           "Macquarie University"
          ],
          [
           "Computational Thinking For Problem Solving",
           4.8,
           "University Of Pennsylvania"
          ],
          [
           "Mathematics For Machine Learning: Linear Algebra",
           4.7,
           "Imperial College London"
          ],
          [
           "English For Business And Entrepreneurship",
           4.8,
           "University Of Pennsylvania"
          ],
          [
           "Google Cloud Platform Big Data And Machine Learning Fundamentals",
           4.6,
           "Google Cloud"
          ],
          [
           "International Leadership And Organizational Behavior",
           4.8,
           "Università Bocconi"
          ],
          [
           "Economics Of Money And Banking",
           4.9,
           "Columbia University"
          ],
          [
           "Introduction To Tensorflow For Artificial Intelligence, Machine Learning, And Deep Learning",
           4.7,
           "Deeplearning.Ai"
          ],
          [
           "Wine Tasting: Sensory Techniques For Wine Analysis",
           4.7,
           "University Of California, Davis"
          ],
          [
           "Introduction To Philosophy",
           4.6,
           "The University Of Edinburgh"
          ],
          [
           "Positive Psychology: Martin E. P. Seligman’S Visionary Science",
           4.8,
           "University Of Pennsylvania"
          ],
          [
           "Marketing Digital",
           4.8,
           "Universidade De São Paulo"
          ],
          [
           "The Data Scientist’S Toolbox",
           4.6,
           "Johns Hopkins University"
          ],
          [
           "Entrepreneurship 1: Developing The Opportunity",
           4.8,
           "University Of Pennsylvania"
          ],
          [
           "Understanding The Brain: The Neurobiology Of Everyday Life",
           4.9,
           "The University Of Chicago"
          ],
          [
           "Introduction To Systematic Review And Meta-Analysis",
           4.8,
           "Johns Hopkins University"
          ],
          [
           "Nutrición Y Obesidad: Control De Sobrepeso",
           4.8,
           "Universidad Nacional Autónoma De México"
          ],
          [
           "Introduction To Dental Medicine",
           4.8,
           "University Of Pennsylvania"
          ],
          [
           "Everyday Excel, Part 1",
           4.8,
           "University Of Colorado Boulder"
          ],
          [
           "Finance For Non-Finance Professionals",
           4.8,
           "Rice University"
          ],
          [
           "Learn To Program: The Fundamentals",
           4.8,
           "University Of Toronto"
          ],
          [
           "Understanding Research Methods",
           4.5,
           "Soas University Of London"
          ],
          [
           "Databases And Sql For Data Science",
           4.7,
           "Ibm"
          ],
          [
           "Machine Learning For Business Professionals",
           4.6,
           "Google Cloud"
          ],
          [
           "An Introduction To Consumer Neuroscience & Neuromarketing",
           4.7,
           "Copenhagen Business School"
          ],
          [
           "Advanced Valuation And Strategy - M&A, Private Equity, And Venture Capital",
           4.7,
           "Erasmus University Rotterdam"
          ],
          [
           "Gamification",
           4.8,
           "University Of Pennsylvania"
          ],
          [
           "Behavioral Finance",
           4.4,
           "Duke University"
          ],
          [
           "Introductory Human Physiology",
           4.7,
           "Duke University"
          ],
          [
           "The Power Of Macroeconomics: Economic Principles In The Real World",
           4.6,
           "University Of California, Irvine"
          ],
          [
           "The Global Financial Crisis",
           4.8,
           "Yale University"
          ],
          [
           "Clinical Terminology For International And U.S. Students",
           4.8,
           "University Of Pittsburgh"
          ],
          [
           "Data Analysis With Python",
           4.7,
           "Ibm"
          ],
          [
           "Everyday Parenting: The Abcs Of Child Rearing",
           4.9,
           "Yale University"
          ],
          [
           "Python Basics",
           4.8,
           "University Of Michigan"
          ],
          [
           "International Law In Action: The Arbitration Of International Disputes",
           4.8,
           "Universiteit Leiden"
          ],
          [
           "Aws Fundamentals: Going Cloud-Native",
           4.7,
           "Amazon Web Services"
          ],
          [
           "The Manager'S Toolkit: A Practical Guide To Managing People At Work",
           4.6,
           "Birkbeck, University Of London"
          ],
          [
           "Ai For Medical Prognosis",
           4.6,
           "Deeplearning.Ai"
          ],
          [
           "Project Launch",
           4.7,
           "University Of California, Irvine"
          ],
          [
           "Sequence Models",
           4.8,
           "Deeplearning.Ai"
          ],
          [
           "Greek And Roman Mythology",
           4.8,
           "University Of Pennsylvania"
          ],
          [
           "Construction Project Management",
           4.8,
           "Columbia University"
          ],
          [
           "Positive Psychology",
           4.7,
           "The University Of North Carolina At Chapel Hill"
          ],
          [
           "Terrorism And Counterterrorism: Comparing Theory And Practice",
           4.8,
           "Universiteit Leiden"
          ],
          [
           "Contabilidad Para No Contadores",
           4.7,
           "Universidad Nacional Autónoma De México"
          ],
          [
           "Corporate Sustainability. Understanding And Seizing The Strategic Opportunity",
           4.6,
           "Università Bocconi"
          ],
          [
           "Anatomy Of The Chest, Abdomen, And Pelvis",
           4.8,
           "Yale University"
          ],
          [
           "English For Journalism",
           4.8,
           "University Of Pennsylvania"
          ],
          [
           "Site Reliability Engineering: Measuring And Managing Reliability",
           4.5,
           "Google Cloud"
          ],
          [
           "Communication Strategies For A Virtual Age",
           4.8,
           "University Of Toronto"
          ],
          [
           "Supply Chain Principles",
           4.6,
           "Georgia Institute Of Technology"
          ],
          [
           "Introduction To Html5",
           4.7,
           "University Of Michigan"
          ],
          [
           "Introduction To Programming With Matlab",
           4.8,
           "Vanderbilt University"
          ],
          [
           "Marketing In A Digital World",
           4.7,
           "University Of Illinois At Urbana-Champaign"
          ],
          [
           "Learn To Speak Korean 1",
           4.9,
           "Yonsei University"
          ],
          [
           "Introduction To Sustainability",
           4.8,
           "University Of Illinois At Urbana-Champaign"
          ],
          [
           "Essentials In Clinical Simulations Across The Health Professions",
           4.8,
           "The George Washington University"
          ],
          [
           "Operating Systems And You: Becoming A Power User",
           4.6,
           "Google"
          ],
          [
           "R Programming",
           4.6,
           "Johns Hopkins University"
          ],
          [
           "In The Studio: Postwar Abstract Painting",
           4.9,
           "The Museum Of Modern Art"
          ],
          [
           "Essentials Of Global Health",
           4.8,
           "Yale University"
          ],
          [
           "Machine Learning With Python",
           4.7,
           "Ibm"
          ],
          [
           "American Contract Law I",
           4.9,
           "Yale University"
          ],
          [
           "Oil & Gas Industry Operations And Markets",
           4.8,
           "Duke University"
          ],
          [
           "Arts And Heritage Management",
           4.8,
           "Università Bocconi"
          ],
          [
           "Introducción A La Programación En Python I: Aprendiendo A Programar Con Python",
           4.4,
           "Pontificia Universidad Católica De Chile"
          ],
          [
           "Supporting Children With Difficulties In Reading And Writing",
           4.8,
           "Ucl Institute Of Education"
          ],
          [
           "Html, Css, And Javascript For Web Developers",
           4.8,
           "Johns Hopkins University"
          ],
          [
           "Addiction Treatment: Clinical Skills For Healthcare Providers",
           4.8,
           "Yale University"
          ],
          [
           "Réussir Le Changement",
           4.5,
           "Essec Business School"
          ],
          [
           "Sql For Data Science",
           4.6,
           "University Of California, Davis"
          ],
          [
           "Speak English Professionally: In Person, Online & On The Phone",
           4.6,
           "Georgia Institute Of Technology"
          ],
          [
           "Introduction To Corporate Finance",
           4.6,
           "University Of Pennsylvania"
          ],
          [
           "Introduction To Spreadsheets And Models",
           4.2,
           "University Of Pennsylvania"
          ],
          [
           "Introduction To Mathematical Thinking",
           4.8,
           "Stanford University"
          ],
          [
           "Negociación Exitosa: Estrategias Y Habilidades Esenciales (En Español)",
           4.8,
           "University Of Michigan"
          ],
          [
           "Drug Discovery",
           4.6,
           "University Of California San Diego"
          ],
          [
           "Instructional Design Foundations And Applications",
           4.2,
           "University Of Illinois At Urbana-Champaign"
          ],
          [
           "International Organizations Management",
           4.8,
           "University Of Geneva"
          ],
          [
           "Essential Google Cloud Infrastructure: Foundation",
           4.7,
           "Google Cloud"
          ],
          [
           "Using Databases With Python",
           4.8,
           "University Of Michigan"
          ],
          [
           "Epidemiology: The Basic Science Of Public Health",
           4.6,
           "The University Of North Carolina At Chapel Hill"
          ],
          [
           "Understanding Clinical Research: Behind The Statistics",
           4.8,
           "University Of Cape Town"
          ],
          [
           "Weight Management: Beyond Balancing Calories",
           4.7,
           "Emory University"
          ],
          [
           "The Modern World, Part One: Global History From 1760 To 1910",
           4.8,
           "University Of Virginia"
          ],
          [
           "Convolutional Neural Networks In Tensorflow",
           4.7,
           "Deeplearning.Ai"
          ],
          [
           "E-Learning Ecologies: Innovative Approaches To Teaching And Learning For The Digital Age",
           4.5,
           "University Of Illinois At Urbana-Champaign"
          ],
          [
           "The Sustainable Development Goals – A Global, Transdisciplinary Vision For The Future",
           4.8,
           "University Of Copenhagen"
          ],
          [
           "People Analytics",
           4.5,
           "University Of Pennsylvania"
          ],
          [
           "Programming Foundations With Javascript, Html And Css",
           4.6,
           "Duke University"
          ],
          [
           "Innovation Management",
           4.6,
           "Erasmus University Rotterdam"
          ],
          [
           "Greening The Economy: Sustainable Cities",
           4.6,
           "Lund University"
          ],
          [
           "Creative Writing: The Craft Of Plot",
           4.7,
           "Wesleyan University"
          ],
          [
           "Python And Statistics For Financial Analysis",
           4.4,
           "The Hong Kong University Of Science And Technology"
          ],
          [
           "The Arts And Science Of Relationships: Understanding Human Needs",
           4.5,
           "University Of Toronto"
          ],
          [
           "Data-Driven Decision Making",
           4.6,
           "Pwc"
          ],
          [
           "Introduction To Forensic Science",
           4.9,
           "Nanyang Technological University, Singapore"
          ],
          [
           "Divide And Conquer, Sorting And Searching, And Randomized Algorithms",
           4.8,
           "Stanford University"
          ],
          [
           "What Is Social?",
           4.6,
           "Northwestern University"
          ],
          [
           "Digital Product Management: Modern Fundamentals",
           4.7,
           "University Of Virginia"
          ],
          [
           "Financing And Investing In Infrastructure",
           4.8,
           "Università Bocconi"
          ],
          [
           "Data Management For Clinical Research",
           4.7,
           "Vanderbilt University"
          ],
          [
           "Supply Chain Logistics",
           4.7,
           "Rutgers The State University Of New Jersey"
          ],
          [
           "Grammar And Punctuation",
           4.7,
           "University Of California, Irvine"
          ],
          [
           "Revisão Sistemática E Meta-Análise",
           4.9,
           "Universidade Estadual De Campinas"
          ],
          [
           "Fundamentos De Finanzas Empresariales",
           4.8,
           "Universidad De Los Andes"
          ],
          [
           "Preparing To Manage Human Resources",
           4.8,
           "University Of Minnesota"
          ],
          [
           "Dog Emotion And Cognition",
           4.6,
           "Duke University"
          ],
          [
           "Build A Modern Computer From First Principles: From Nand To Tetris (Project-Centered Course)",
           4.9,
           "Hebrew University Of Jerusalem"
          ],
          [
           "Financial Acumen For Non-Financial Managers",
           4.5,
           "University Of Pennsylvania"
          ],
          [
           "Devenir Entrepreneur Du Changement",
           4.7,
           "Ticket For Change"
          ],
          [
           "Operations Analytics",
           4.7,
           "University Of Pennsylvania"
          ],
          [
           "Data Science Math Skills",
           4.5,
           "Duke University"
          ],
          [
           "Global Diplomacy: The United Nations In The World",
           4.7,
           "Soas University Of London"
          ],
          [
           "System Administration And It Infrastructure Services",
           4.7,
           "Google"
          ],
          [
           "International Humanitarian Law In Theory And Practice",
           4.8,
           "Kalshoven-Gieskes Forum"
          ],
          [
           "Competencias Digitales. Herramientas De Ofimática (Microsoft Word, Excel, Power Point)",
           4.7,
           "Universitat Autònoma De Barcelona"
          ],
          [
           "Ibm Customer Engagement Specialist Professional Certificate",
           4.8,
           "Ibm"
          ],
          [
           "Business Model Innovation",
           4.7,
           "Hec Paris"
          ],
          [
           "Getting Started With Google Sheets",
           4.6,
           "Google Cloud"
          ],
          [
           "Introduction To Calculus",
           4.8,
           "The University Of Sydney"
          ],
          [
           "A Law Student'S Toolkit",
           4.7,
           "Yale University"
          ],
          [
           "Rethinking International Tax Law",
           4.9,
           "Universiteit Leiden"
          ],
          [
           "Fundamentals Of Immunology: Innate Immunity And B-Cell Function",
           4.7,
           "Rice University"
          ],
          [
           "Introduction To International Criminal Law",
           4.8,
           "Case Western Reserve University"
          ],
          [
           "Excel/Vba For Creative Problem Solving, Part 1",
           4.8,
           "University Of Colorado Boulder"
          ],
          [
           "Excel Skills For Business: Intermediate Ii",
           4.8,
           "Macquarie University"
          ],
          [
           "Data Visualization With Python",
           4.6,
           "Ibm"
          ],
          [
           "Introduction To Classical Music",
           4.9,
           "Yale University"
          ],
          [
           "Getting Started With Google Kubernetes Engine",
           4.5,
           "Google Cloud"
          ],
          [
           "Public Policy Challenges Of The 21St Century",
           4.6,
           "University Of Virginia"
          ],
          [
           "Fundamentals Of Gis",
           4.8,
           "University Of California, Davis"
          ],
          [
           "Introduction To Artificial Intelligence (Ai)",
           4.7,
           "Ibm"
          ],
          [
           "Introduction To User Experience Design",
           4.5,
           "Georgia Institute Of Technology"
          ],
          [
           "Healing With The Arts",
           4.6,
           "University Of Florida"
          ],
          [
           "Design-Led Strategy: Design Thinking For Business Strategy And Entrepreneurship",
           4.6,
           "The University Of Sydney"
          ],
          [
           "Natural Language Processing In Tensorflow",
           4.6,
           "Deeplearning.Ai"
          ],
          [
           "Making Architecture",
           4.7,
           "Ie School Of Architecture & Design"
          ],
          [
           "Troubles Du Spectre De L'Autisme : Diagnostic",
           4.9,
           "University Of Geneva"
          ],
          [
           "Social Norms, Social Change I",
           4.6,
           "University Of Pennsylvania"
          ],
          [
           "Fundamental Neuroscience For Neuroimaging",
           4.6,
           "Johns Hopkins University"
          ],
          [
           "Fintech Law And Policy",
           4.8,
           "Duke University"
          ],
          [
           "Inspiring And Motivating Individuals",
           4.8,
           "University Of Michigan"
          ],
          [
           "Equine Welfare And Management",
           4.8,
           "University Of California, Davis"
          ],
          [
           "Essential Google Cloud Infrastructure: Core Services",
           4.7,
           "Google Cloud"
          ],
          [
           "International Security Management",
           4.5,
           "Erasmus University Rotterdam"
          ],
          [
           "Continuous Delivery & Devops",
           4.6,
           "University Of Virginia"
          ],
          [
           "Marketing Gerencial",
           4.7,
           "Universidad De Chile"
          ],
          [
           "Covid-19: What You Need To Know (Cme Eligible)",
           4.8,
           "Osmosis"
          ],
          [
           "Art & Ideas: Teaching With Themes",
           4.8,
           "The Museum Of Modern Art"
          ],
          [
           "Fintech: Foundations, Payments, And Regulations",
           4.7,
           "University Of Pennsylvania"
          ],
          [
           "Essential Epidemiologic Tools For Public Health Practice",
           4.7,
           "Johns Hopkins University"
          ],
          [
           "Success",
           4.8,
           "University Of Pennsylvania"
          ],
          [
           "Beyond The Sustainable Development Goals (Sdgs): Addressing Sustainability And Development",
           4.6,
           "University Of Michigan"
          ],
          [
           "Corporate Finance Essentials",
           4.8,
           "Iese Business School"
          ],
          [
           "The Addicted Brain",
           4.6,
           "Emory University"
          ],
          [
           "Engineering Health: Introduction To Yoga And Physiology",
           4.8,
           "New York University"
          ],
          [
           "Creative Problem Solving",
           4.3,
           "University Of Minnesota"
          ],
          [
           "Microeconomics: The Power Of Markets",
           4.7,
           "University Of Pennsylvania"
          ],
          [
           "Understanding And Visualizing Data With Python",
           4.7,
           "University Of Michigan"
          ],
          [
           "Teamwork Skills: Communicating Effectively In Groups",
           4.8,
           "University Of Colorado Boulder"
          ],
          [
           "Managerial Accounting Fundamentals",
           4.9,
           "University Of Virginia"
          ],
          [
           "Introduction To Cybersecurity Tools & Cyber Attacks",
           4.5,
           "Ibm"
          ],
          [
           "Mindshift: Break Through Obstacles To Learning And Discover Your Hidden Potential",
           4.8,
           "Mcmaster University"
          ],
          [
           "Neurolinguistics",
           4.7,
           "Saint Petersburg State University"
          ],
          [
           "Introduction To Probability And Data",
           4.7,
           "Duke University"
          ],
          [
           "Fundamentals Of Reinforcement Learning",
           4.8,
           "University Of Alberta"
          ],
          [
           "It Security: Defense Against The Digital Dark Arts",
           4.8,
           "Google"
          ],
          [
           "Politics And Economics Of International Energy",
           4.7,
           "Sciences Po"
          ],
          [
           "Business Transformation With Google Cloud",
           4.7,
           "Google Cloud"
          ],
          [
           "Art & Activity: Interactive Strategies For Engaging With Art",
           4.8,
           "The Museum Of Modern Art"
          ],
          [
           "More Introduction To Financial Accounting",
           4.9,
           "University Of Pennsylvania"
          ],
          [
           "Agile Meets Design Thinking",
           4.7,
           "University Of Virginia"
          ],
          [
           "Supply Chain Analytics",
           4.7,
           "Rutgers The State University Of New Jersey"
          ],
          [
           "Budgeting And Scheduling Projects",
           4.7,
           "University Of California, Irvine"
          ],
          [
           "Drug Commercialization",
           4.7,
           "University Of California San Diego"
          ],
          [
           "Ai For Medical Treatment",
           4.8,
           "Deeplearning.Ai"
          ],
          [
           "Microeconomics Principles",
           4.9,
           "University Of Illinois At Urbana-Champaign"
          ],
          [
           "Dino 101: Dinosaur Paleobiology",
           4.5,
           "University Of Alberta"
          ],
          [
           "Applied Plotting, Charting & Data Representation In Python",
           4.6,
           "University Of Michigan"
          ],
          [
           "Bayesian Statistics: From Concept To Data Analysis",
           4.8,
           "University Of California, Santa Cruz"
          ],
          [
           "Ecology: Ecosystem Dynamics And Conservation",
           4.8,
           "American Museum Of Natural History"
          ],
          [
           "Introducción A Data Science: Programación Estadística Con R",
           4.7,
           "Universidad Nacional Autónoma De México"
          ],
          [
           "Entrepreneurship 2: Launching Your Start-Up",
           4.8,
           "University Of Pennsylvania"
          ],
          [
           "Introduction To Genetics And Evolution",
           4.8,
           "Duke University"
          ],
          [
           "Understanding Einstein: The Special Theory Of Relativity",
           4.9,
           "Stanford University"
          ],
          [
           "Front-End Web Ui Frameworks And Tools: Bootstrap 4",
           4.8,
           "The Hong Kong University Of Science And Technology"
          ],
          [
           "Spanish Vocabulary: Meeting People",
           4.6,
           "University Of California, Davis"
          ],
          [
           "Model Thinking",
           4.8,
           "University Of Michigan"
          ],
          [
           "Social And Economic Networks:  Models And Analysis",
           4.8,
           "Stanford University"
          ],
          [
           "The Art Of Music Production",
           4.8,
           "Berklee College Of Music"
          ],
          [
           "Anatomy: Musculoskeletal And Integumentary Systems",
           4.8,
           "University Of Michigan"
          ],
          [
           "Feminism And Social Justice",
           4.8,
           "University Of California, Santa Cruz"
          ],
          [
           "Object-Oriented Data Structures In C++",
           4.7,
           "University Of Illinois At Urbana-Champaign"
          ],
          [
           "Introduction To Environmental Law And Policy",
           4.8,
           "The University Of North Carolina At Chapel Hill"
          ],
          [
           "Aprender",
           4.8,
           "Universidad Nacional Autónoma De México"
          ],
          [
           "Anticorrupción: Introducción A Conceptos Y Perspectiva Práctica",
           4.8,
           "Universidad Nacional Autónoma De México"
          ],
          [
           "Solar Energy Basics",
           4.8,
           "The State University Of New York"
          ],
          [
           "L'Excellence Opérationnelle En Pratique",
           4.7,
           "Essec Business School"
          ],
          [
           "Miracles Of Human Language: An Introduction To Linguistics",
           4.7,
           "Universiteit Leiden"
          ],
          [
           "Java Programming: Solving Problems With Software",
           4.6,
           "Duke University"
          ],
          [
           "De-Mystifying Mindfulness",
           4.8,
           "Universiteit Leiden"
          ],
          [
           "Fundamentals Of Visualization With Tableau",
           4.5,
           "University Of California, Davis"
          ],
          [
           "Design And Make Infographics (Project-Centered Course)",
           4.7,
           "Michigan State University"
          ],
          [
           "Modernizing Data Lakes And Data Warehouses With Gcp",
           4.7,
           "Google Cloud"
          ],
          [
           "The Science Of Training Young Athletes",
           4.9,
           "University Of Florida"
          ],
          [
           "Cameras, Exposure, And Photography",
           4.7,
           "Michigan State University"
          ],
          [
           "Epidemics - The Dynamics Of Infectious Diseases",
           4.8,
           "The Pennsylvania State University"
          ],
          [
           "Mathematics For Machine Learning: Multivariate Calculus",
           4.7,
           "Imperial College London"
          ],
          [
           "Transmedia Storytelling: Narrative Worlds, Emerging Technologies, And Global Audiences",
           4.8,
           "Unsw Sydney (The University Of New South Wales)"
          ],
          [
           "Tricky American English Pronunciation",
           4.7,
           "University Of California, Irvine"
          ],
          [
           "Renewable Energy And Green Building Entrepreneurship",
           4.7,
           "Duke University"
          ],
          [
           "Introduction To Operations Management",
           4.5,
           "University Of Pennsylvania"
          ],
          [
           "The Power Of Microeconomics: Economic Principles In The Real World",
           4.7,
           "University Of California, Irvine"
          ],
          [
           "Nutrition And Lifestyle In Pregnancy",
           4.8,
           "Ludwig-Maximilians-Universität München (Lmu)"
          ],
          [
           "Capstone: Retrieving, Processing, And Visualizing Data With Python",
           4.6,
           "University Of Michigan"
          ],
          [
           "Getting Started With Sas Programming",
           4.9,
           "Sas"
          ],
          [
           "Business Writing",
           4.8,
           "University Of Colorado Boulder"
          ],
          [
           "Get Interactive: Practical Teaching With Technology",
           4.7,
           "Bloomsbury Learning Exchange"
          ],
          [
           "Les Fondamentaux De La Négociation",
           4.7,
           "Essec Business School"
          ],
          [
           "Introduction To Personal Branding",
           4.4,
           "University Of Virginia"
          ],
          [
           "What Is Compliance?",
           4.8,
           "University Of Pennsylvania"
          ],
          [
           "Costos Para Los Negocios",
           4.8,
           "Universidad De Chile"
          ],
          [
           "Kotlin For Java Developers",
           4.7,
           "Jetbrains"
          ],
          [
           "Introduction To Data Analysis Using Excel",
           4.7,
           "Rice University"
          ],
          [
           "Information Security: Context And Introduction",
           4.6,
           "Royal Holloway, University Of London"
          ],
          [
           "Mastering Data Analysis In Excel",
           4.2,
           "Duke University"
          ],
          [
           "Aprendiendo A Aprender: Poderosas Herramientas Mentales Con Las Que Podrás Dominar Temas Difíciles (Learning How To Learn)",
           4.9,
           "University Of California San Diego"
          ],
          [
           "Finanzas Personales",
           4.8,
           "Universidad Nacional Autónoma De México"
          ],
          [
           "How Things Work: An Introduction To Physics",
           4.8,
           "University Of Virginia"
          ],
          [
           "Python Functions, Files, And Dictionaries",
           4.8,
           "University Of Michigan"
          ],
          [
           "Managing Project Risks And Changes",
           4.7,
           "University Of California, Irvine"
          ],
          [
           "Introduction To Typography",
           4.8,
           "California Institute Of The Arts"
          ],
          [
           "Managing Social And Human Capital",
           4.5,
           "University Of Pennsylvania"
          ],
          [
           "Teach English Now! Foundational Principles",
           4.9,
           "Arizona State University"
          ],
          [
           "Engineering Project Management: Initiating And Planning",
           4.7,
           "Rice University"
          ],
          [
           "Algorithmic Toolbox",
           4.7,
           "University Of California San Diego"
          ],
          [
           "Elastic Google Cloud Infrastructure: Scaling And Automation",
           4.7,
           "Google Cloud"
          ],
          [
           "Biology Meets Programming: Bioinformatics For Beginners",
           4.4,
           "University Of California San Diego"
          ],
          [
           "Customer Segmentation And Prospecting",
           4.7,
           "Northwestern University"
          ],
          [
           "Geopolítica Y Gobernanza Global: Riesgos Y Oportunidades",
           4.8,
           "Esade Business And Law School"
          ],
          [
           "Getting Started With Aws Machine Learning",
           4.5,
           "Amazon Web Services"
          ],
          [
           "Epidemics, Pandemics And Outbreaks",
           4.7,
           "University Of Pittsburgh"
          ],
          [
           "Industrial Iot On Google Cloud Platform",
           4.5,
           "Google Cloud"
          ],
          [
           "Mastering Final Cut Pro",
           4.6,
           "Learnquest"
          ],
          [
           "The Oral Cavity: Portal To Health And Disease",
           4.9,
           "University Of Pennsylvania"
          ],
          [
           "Leadership In 21St Century Organizations",
           4.7,
           "Copenhagen Business School"
          ],
          [
           "Global Environmental Management",
           4.6,
           "Technical University Of Denmark (Dtu)"
          ],
          [
           "International Law In Action: A Guide To The International Courts And Tribunals In The Hague",
           4.8,
           "Universiteit Leiden"
          ],
          [
           "Sports And Society",
           4.8,
           "Duke University"
          ],
          [
           "Fundamentals Of Engineering Exam Review",
           4.7,
           "Georgia Institute Of Technology"
          ],
          [
           "Sustainable Tourism – Promoting Environmental Public Health",
           4.6,
           "University Of Copenhagen"
          ],
          [
           "Think Again I: How To Understand Arguments",
           4.6,
           "Duke University"
          ],
          [
           "Machine Learning For All",
           4.6,
           "University Of London"
          ],
          [
           "Julia Scientific Programming",
           4.5,
           "University Of Cape Town"
          ],
          [
           "The Horse Course: Introduction To Basic Care And Management",
           4.9,
           "University Of Florida"
          ],
          [
           "Summary Statistics In Public Health",
           4.8,
           "Johns Hopkins University"
          ],
          [
           "Version Control With Git",
           4.8,
           "Atlassian"
          ],
          [
           "Autodesk Certified Professional: Revit For Architectural Design Exam Prep",
           4.7,
           "Autodesk"
          ],
          [
           "Excel Skills For Business: Advanced",
           4.7,
           "Macquarie University"
          ],
          [
           "International Migrations: A Global Issue",
           4.6,
           "Sciences Po"
          ],
          [
           "Introduction To Cloud Computing",
           4.6,
           "Ibm"
          ],
          [
           "Ux Design Fundamentals",
           4.8,
           "California Institute Of The Arts"
          ],
          [
           "Municipal Solid Waste Management In Developing Countries",
           4.8,
           "École Polytechnique Fédérale De Lausanne"
          ],
          [
           "English For Science, Technology, Engineering, And Mathematics",
           4.8,
           "University Of Pennsylvania"
          ],
          [
           "Democracia Y Decisiones Públicas. Introducción Al Análisis De Políticas Públicas",
           4.8,
           "Universitat Autònoma De Barcelona"
          ],
          [
           "Songwriting: Writing The Lyrics",
           4.8,
           "Berklee College Of Music"
          ],
          [
           "Bayesian Statistics: Techniques And Models",
           4.8,
           "University Of California, Santa Cruz"
          ],
          [
           "Using Python To Interact With The Operating System",
           4.7,
           "Google"
          ],
          [
           "Accounting Analytics",
           4.5,
           "University Of Pennsylvania"
          ],
          [
           "Data Analytics For Lean Six Sigma",
           4.8,
           "University Of Amsterdam"
          ],
          [
           "Positive Psychology: Applications And Interventions",
           4.8,
           "University Of Pennsylvania"
          ],
          [
           "Introduction To Blockchain Technologies",
           4.7,
           "Insead"
          ],
          [
           "Building Scalable Java Microservices With Spring Boot And Spring Cloud",
           4.3,
           "Google Cloud"
          ],
          [
           "Access Controls",
           4.6,
           "(Isc)²"
          ],
          [
           "English Composition I",
           4.6,
           "Duke University"
          ],
          [
           "The Truth About Cats And Dogs",
           4.7,
           "The University Of Edinburgh"
          ],
          [
           "Introduction To Portfolio Construction And Analysis With Python",
           4.8,
           "Edhec Business School"
          ],
          [
           "Write A Feature Length Screenplay For Film Or Television",
           4.9,
           "Michigan State University"
          ],
          [
           "Introduction To Breast Cancer",
           4.9,
           "Yale University"
          ],
          [
           "Resilience In Children Exposed To Trauma, Disaster And War: Global Perspectives",
           4.8,
           "University Of Minnesota"
          ],
          [
           "Entrepreneurship Strategy: From Ideation To Exit",
           4.8,
           "Hec Paris"
          ],
          [
           "Driving Business Towards The Sustainable Development Goals",
           4.8,
           "Erasmus University Rotterdam"
          ],
          [
           "Introduction To Web Development",
           4.7,
           "University Of California, Davis"
          ],
          [
           "Process Mining: Data Science In Action",
           4.8,
           "Eindhoven University Of Technology"
          ],
          [
           "Dermatology: Trip To Skin",
           4.4,
           "Novosibirsk State University"
          ],
          [
           "Introduction To Engineering Mechanics",
           4.7,
           "Georgia Institute Of Technology"
          ],
          [
           "Search Engine Optimization Fundamentals",
           4.7,
           "University Of California, Davis"
          ],
          [
           "Applied Machine Learning In Python",
           4.6,
           "University Of Michigan"
          ],
          [
           "Aws Fundamentals: Addressing Security Risk",
           4.3,
           "Amazon Web Services"
          ],
          [
           "Roman Architecture",
           4.9,
           "Yale University"
          ],
          [
           "Fundamentals Of Music Theory",
           4.6,
           "The University Of Edinburgh"
          ],
          [
           "Reporting Extra-Financier Et Stratégie Rse",
           4.7,
           "Essec Business School"
          ],
          [
           "A Life Of Happiness And Fulfillment",
           4.8,
           "Indian School Of Business"
          ],
          [
           "Egiptología (Egyptology)",
           4.9,
           "Universitat Autònoma De Barcelona"
          ],
          [
           "Applied Data Science Capstone",
           4.7,
           "Ibm"
          ],
          [
           "Unraveling The Cycling City",
           4.9,
           "University Of Amsterdam"
          ],
          [
           "Japanese For Beginners 1",
           4.6,
           "Saint Petersburg State University"
          ],
          [
           "Econometrics: Methods And Applications",
           4.7,
           "Erasmus University Rotterdam"
          ],
          [
           "Basic Statistics",
           4.6,
           "University Of Amsterdam"
          ],
          [
           "Global Energy And Climate Policy",
           4.5,
           "Soas University Of London"
          ],
          [
           "Boosting Creativity For Innovation",
           4.9,
           "Hec Paris"
          ],
          [
           "Positive Psychology: Resilience Skills",
           4.6,
           "University Of Pennsylvania"
          ],
          [
           "Systems Thinking In Public Health",
           4.9,
           "Johns Hopkins University"
          ],
          [
           "Introduction To Embedded Systems Software And Development Environments",
           4.5,
           "University Of Colorado Boulder"
          ],
          [
           "Gestión De Organizaciones Efectivas",
           4.7,
           "Pontificia Universidad Católica De Chile"
          ],
          [
           "Arts And Culture Strategy",
           4.6,
           "National Arts Strategies"
          ],
          [
           "Mountains 101",
           4.9,
           "University Of Alberta"
          ],
          [
           "Building Batch Data Pipelines On Gcp",
           4.5,
           "Google Cloud"
          ],
          [
           "Code Yourself! An Introduction To Programming",
           4.7,
           "The University Of Edinburgh"
          ],
          [
           "Leading Healthcare Quality And Safety",
           4.8,
           "The George Washington University"
          ],
          [
           "Stories Of Infection",
           4.9,
           "Stanford University"
          ],
          [
           "Recruiting, Hiring, And Onboarding Employees",
           4.7,
           "University Of Minnesota"
          ],
          [
           "Introduction To Trading, Machine Learning & Gcp",
           4,
           "New York Institute Of Finance"
          ],
          [
           "Smart Cities – Management Of Smart Urban Infrastructures",
           4.6,
           "École Polytechnique Fédérale De Lausanne"
          ],
          [
           "Adhd: Everyday Strategies For Elementary Students",
           4.7,
           "University At Buffalo"
          ],
          [
           "C For Everyone: Programming Fundamentals",
           4.5,
           "University Of California, Santa Cruz"
          ],
          [
           "Antibiotic Stewardship",
           4.5,
           "Stanford University"
          ],
          [
           "Introduction To Css3",
           4.8,
           "University Of Michigan"
          ],
          [
           "Perfect Tenses And Modals",
           4.7,
           "University Of California, Irvine"
          ],
          [
           "The Technology Of Music Production",
           4.8,
           "Berklee College Of Music"
          ],
          [
           "Internet Connection: How To Get Online?",
           4.7,
           "Cisco"
          ],
          [
           "Periodismo Digital Y Combate A Las Fake News",
           4.9,
           "Universidad Nacional Autónoma De México"
          ],
          [
           "Marketing Verde",
           4.8,
           "Universidad De Los Andes"
          ],
          [
           "Building Conversational Experiences With Dialogflow",
           4.5,
           "Google Cloud"
          ],
          [
           "The Modern World, Part Two: Global History Since 1910",
           4.8,
           "University Of Virginia"
          ],
          [
           "Becoming A Changemaker: Introduction To Social Innovation",
           4.8,
           "University Of Cape Town"
          ],
          [
           "Design Thinking For The Greater Good: Innovation In The Social Sector",
           4.6,
           "University Of Virginia"
          ],
          [
           "Understanding Cancer Metastasis",
           4.8,
           "Johns Hopkins University"
          ],
          [
           "The Social Context Of Mental Health And Illness",
           4.6,
           "University Of Toronto"
          ],
          [
           "Cuidado De Heridas En El Ámbito Hospitalario",
           4.8,
           "Universidad Nacional Autónoma De México"
          ],
          [
           "Stanford'S Short Course On Breastfeeding",
           4.7,
           "Stanford University"
          ],
          [
           "Getting Started With Music Theory",
           4.5,
           "Michigan State University"
          ],
          [
           "Probabilistic Graphical Models 1: Representation",
           4.7,
           "Stanford University"
          ],
          [
           "Write Your First Novel",
           4.4,
           "Michigan State University"
          ],
          [
           "Nanotechnology: A Maker’S Course",
           4.8,
           "Duke University"
          ],
          [
           "Data Visualization And Communication With Tableau",
           4.7,
           "Duke University"
          ],
          [
           "Biohacking Your Brain'S Health",
           4.6,
           "Emory University"
          ],
          [
           "Bugs 101: Insect-Human Interactions",
           4.9,
           "University Of Alberta"
          ],
          [
           "Introduction To Intellectual Property",
           4.8,
           "University Of Pennsylvania"
          ],
          [
           "The Science Of Stem Cells",
           4.7,
           "American Museum Of Natural History"
          ],
          [
           "Corrección, Estilo Y  Variaciones De La Lengua Española",
           4.6,
           "Universitat Autònoma De Barcelona"
          ],
          [
           "Practical Time Series Analysis",
           4.6,
           "The State University Of New York"
          ],
          [
           "Geopolitics Of Europe",
           4.3,
           "Sciences Po"
          ],
          [
           "Sharpened Visions: A Poetry Workshop",
           4.7,
           "California Institute Of The Arts"
          ],
          [
           "The Science Of Success: What Researchers Know That You Should Know",
           4.8,
           "University Of Michigan"
          ],
          [
           "Discrete Optimization",
           4.9,
           "The University Of Melbourne"
          ],
          [
           "From The Big Bang To Dark Energy",
           4.8,
           "The University Of Tokyo"
          ],
          [
           "International Cyber Conflicts",
           4.4,
           "The State University Of New York"
          ],
          [
           "Autodesk Certified Professional: Autocad For Design And Drafting Exam Prep",
           4.7,
           "Autodesk"
          ],
          [
           "Основы Программирования На Python",
           4.6,
           "National Research University Higher School Of Economics"
          ],
          [
           "Entrepreneurship 3: Growth Strategies",
           4.7,
           "University Of Pennsylvania"
          ],
          [
           "Fundamentos De La Escritura",
           4.6,
           "Tecnológico De Monterrey"
          ],
          [
           "Modeling Risk And Realities",
           4.6,
           "University Of Pennsylvania"
          ],
          [
           "Ecosystem Services: A Method For Sustainable Development",
           4.7,
           "University Of Geneva"
          ],
          [
           "Epigenetic Control Of Gene Expression",
           4.8,
           "The University Of Melbourne"
          ],
          [
           "Gut Check: Exploring Your Microbiome",
           4.7,
           "University Of California San Diego"
          ],
          [
           "Diseño Y Creación De Un Emprendimiento Social",
           4.9,
           "Pontificia Universidad Católica De Chile"
          ],
          [
           "Security & Safety Challenges In A Globalized World",
           4.7,
           "Universiteit Leiden"
          ],
          [
           "Introduction To Business Analytics: Communicating With Data",
           4.7,
           "University Of Illinois At Urbana-Champaign"
          ],
          [
           "Corporate Strategy",
           4.8,
           "Ucl School Of Management"
          ],
          [
           "Probability And Statistics: To P Or Not To P?",
           4.6,
           "University Of London"
          ],
          [
           "The Hidden Value – Lean In Manufacturing And Services",
           4.7,
           "École Des Ponts Paristech"
          ],
          [
           "Chemicals And Health",
           4.7,
           "Johns Hopkins University"
          ],
          [
           "Blockchain: Foundations And Use Cases",
           4.7,
           "Consensys Academy"
          ],
          [
           "Foundations Of Business Strategy",
           4.8,
           "University Of Virginia"
          ],
          [
           "Introduction To Cyber Attacks",
           4.7,
           "New York University"
          ],
          [
           "Fundamentos De Excel Para Negocios",
           4.7,
           "Universidad Austral"
          ],
          [
           "Corporate & Commercial Law I: Contracts & Employment Law",
           4.8,
           "University Of Illinois At Urbana-Champaign"
          ],
          [
           "Chicken Behaviour And Welfare",
           4.7,
           "The University Of Edinburgh"
          ],
          [
           "Accounting For Decision Making",
           4.8,
           "University Of Michigan"
          ],
          [
           "Construction Cost Estimating And Cost Control",
           4.7,
           "Columbia University"
          ],
          [
           "Introduction To Self-Driving Cars",
           4.8,
           "University Of Toronto"
          ],
          [
           "Cuidados Y Procedimientos Generales En La Atención Del Recién Nacido",
           4.8,
           "Universidad De Chile"
          ],
          [
           "Project Execution",
           4.2,
           "University Of California, Irvine"
          ],
          [
           "Programming Fundamentals",
           4.7,
           "Duke University"
          ],
          [
           "Getting Started With Go",
           4.6,
           "University Of California, Irvine"
          ],
          [
           "Introduction To Thermodynamics: Transferring Energy From Here To There",
           4.8,
           "University Of Michigan"
          ],
          [
           "Challenging Forensic Science: How Science Should Speak To Court",
           4.8,
           "University Of Lausanne"
          ],
          [
           "Chinese For Hsk 1",
           4.8,
           "Peking University"
          ],
          [
           "Business English: Networking",
           4.7,
           "University Of Washington"
          ],
          [
           "Global Trends For Business And Society",
           4.8,
           "University Of Pennsylvania"
          ],
          [
           "A Crash Course In Causality:  Inferring Causal Effects From Observational Data",
           4.7,
           "University Of Pennsylvania"
          ],
          [
           "Introduction To User Experience Principles And Processes",
           4.8,
           "University Of Michigan"
          ],
          [
           "Introduction To Electronics",
           4.7,
           "Georgia Institute Of Technology"
          ],
          [
           "Understanding Plants - Part I: What A Plant Knows",
           4.8,
           "Tel Aviv University"
          ],
          [
           "Innovation Through Design: Think, Make, Break, Repeat",
           4.8,
           "The University Of Sydney"
          ],
          [
           "Strategy And Sustainability",
           4.6,
           "Iese Business School"
          ],
          [
           "Blended Language Learning: Design And Practice For Teachers",
           4.8,
           "University Of Colorado Boulder"
          ],
          [
           "Astrobiology And The Search For Extraterrestrial Life",
           4.7,
           "The University Of Edinburgh"
          ],
          [
           "Leading For Equity, Diversity And Inclusion In Higher Education",
           4.7,
           "University Of Michigan"
          ],
          [
           "Developing Your Musicianship",
           4.8,
           "Berklee College Of Music"
          ],
          [
           "Guitar For Beginners",
           4.8,
           "Berklee College Of Music"
          ],
          [
           "Introduction To Systems Engineering",
           4.7,
           "Unsw Sydney (The University Of New South Wales)"
          ],
          [
           "The Cycle: Management Of Successful Arts And Cultural Organizations",
           4.8,
           "University Of Maryland, College Park"
          ],
          [
           "Supply Chain Operations",
           4.8,
           "Rutgers The State University Of New Jersey"
          ],
          [
           "Global Financing Solutions  (By Edhec And Société Générale)",
           4.6,
           "Edhec Business School"
          ],
          [
           "Intercultural Management",
           4.6,
           "Escp Business School"
          ],
          [
           "Sample-Based Learning Methods",
           4.8,
           "University Of Alberta"
          ],
          [
           "Dairy Production And Management",
           4.8,
           "The Pennsylvania State University"
          ],
          [
           "Introduction To Statistics & Data Analysis In Public Health",
           4.7,
           "Imperial College London"
          ],
          [
           "How To Create A Website In A Weekend! (Project-Centered Course)",
           3.3,
           "The State University Of New York"
          ],
          [
           "The Changing Global Order",
           4.7,
           "Universiteit Leiden"
          ],
          [
           "Love As A Force For Social Justice",
           4.7,
           "Stanford University"
          ],
          [
           "Enterprise Architecture",
           4.4,
           "Peter The Great St. Petersburg Polytechnic University"
          ],
          [
           "Ready, Set, Future! Introduction To Futures Thinking",
           4.8,
           "Institute For The Future"
          ],
          [
           "Sexualidad...Mucho Más Que Sexo",
           4.8,
           "Universidad De Los Andes"
          ],
          [
           "Effective Compliance Programs",
           4.9,
           "University Of Pennsylvania"
          ],
          [
           "Introduction To Imagemaking",
           4.5,
           "California Institute Of The Arts"
          ],
          [
           "Foundations Of Everyday Leadership",
           4.8,
           "University Of Illinois At Urbana-Champaign"
          ],
          [
           "Becoming A Sports Agent",
           4.7,
           "Case Western Reserve University"
          ],
          [
           "Cloud Computing Basics (Cloud 101)",
           4.5,
           "Learnquest"
          ],
          [
           "Finance For Non-Financial Managers",
           4.4,
           "Emory University"
          ],
          [
           "Introduction To Computer Programming",
           4.3,
           "Goldsmiths, University Of London"
          ],
          [
           "Atención Primaria En Salud: El Desafío De Las Enfermedades No Transmisibles",
           4.8,
           "Pontificia Universidad Católica De Chile"
          ],
          [
           "Data Collection And Processing With Python",
           4.7,
           "University Of Michigan"
          ],
          [
           "Music Business Foundations",
           4.9,
           "Berklee College Of Music"
          ],
          [
           "Hacia Una Práctica Constructivista En El Aula",
           4.8,
           "Pontificia Universidad Católica De Chile"
          ],
          [
           "Wonders Of Ancient Egypt",
           4.8,
           "University Of Pennsylvania"
          ],
          [
           "Teaching Character And Creating Positive Classrooms",
           4.8,
           "Relay Graduate School Of Education"
          ],
          [
           "El Abogado Del Futuro: Legaltech Y La Transformación Digital Del Derecho",
           5,
           "Universidad Austral"
          ],
          [
           "Functional Programming Principles In Scala",
           4.8,
           "École Polytechnique Fédérale De Lausanne"
          ],
          [
           "Magic In The Middle Ages",
           4.6,
           "Universitat De Barcelona"
          ],
          [
           "Six Sigma And The Organization (Advanced)",
           4.7,
           "University System Of Georgia"
          ],
          [
           "Construction Scheduling",
           4.8,
           "Columbia University"
          ],
          [
           "New Approaches To Countering Terror: Countering Violent Extremism",
           4.7,
           "University Of Maryland, College Park"
          ],
          [
           "Managing Your Health: The Role Of Physical Therapy And Exercise",
           4.6,
           "University Of Toronto"
          ],
          [
           "Ancient Philosophy: Aristotle And His Successors",
           4.8,
           "University Of Pennsylvania"
          ],
          [
           "Antimicrobial Resistance - Theory And Methods",
           4.6,
           "Technical University Of Denmark (Dtu)"
          ],
          [
           "Cómo Hablar Bien En Público",
           4.8,
           "Universitat Autònoma De Barcelona"
          ],
          [
           "Strategic Management",
           4.7,
           "Copenhagen Business School"
          ],
          [
           "Gender And Sexuality: Diversity And Inclusion In The Workplace",
           4.7,
           "University Of Pittsburgh"
          ],
          [
           "Hardware Description Languages For Fpga Design",
           4.2,
           "University Of Colorado Boulder"
          ],
          [
           "Data Visualization With Advanced Excel",
           4.8,
           "Pwc"
          ],
          [
           "Influencer Marketing Strategy",
           4.4,
           "Rutgers The State University Of New Jersey"
          ],
          [
           "Dentistry 101",
           4.7,
           "University Of Michigan"
          ],
          [
           "Teach English Now! Teaching Language Online",
           4.4,
           "Arizona State University"
          ],
          [
           "Preparing For The Google Cloud Associate Cloud Engineer Exam",
           4.7,
           "Google Cloud"
          ],
          [
           "Patrocinio Deportivo",
           4.6,
           "Universitat Autònoma De Barcelona"
          ],
          [
           "Математика И Python Для Анализа Данных",
           4.8,
           "E-Learning Development Fund"
          ],
          [
           "Decision-Making And Scenarios",
           4.6,
           "University Of Pennsylvania"
          ],
          [
           "Sleep: Neurobiology, Medicine, And Society",
           4.8,
           "University Of Michigan"
          ],
          [
           "Control Of Mobile Robots",
           4.8,
           "Georgia Institute Of Technology"
          ],
          [
           "Bim Fundamentals For Engineers",
           4.6,
           "National Taiwan University"
          ],
          [
           "The Science Of Gastronomy",
           4.6,
           "The Hong Kong University Of Science And Technology"
          ],
          [
           "Aboriginal Worldviews And Education",
           4.7,
           "University Of Toronto"
          ],
          [
           "Curanderismo: Traditional Healing Using Plants",
           4.6,
           "University Of New Mexico"
          ],
          [
           "Cybersecurity And Its Ten Domains",
           4.2,
           "University System Of Georgia"
          ],
          [
           "Strategic Business Management - Microeconomics",
           4.7,
           "University Of California, Irvine"
          ],
          [
           "Quantitative Methods",
           4.7,
           "University Of Amsterdam"
          ],
          [
           "Building Your Leadership Skills",
           4.5,
           "Hec Paris"
          ],
          [
           "Advertising And Society",
           4.8,
           "Duke University"
          ],
          [
           "Queering Identities: Lgbtq+ Sexuality And Gender Identity",
           4.9,
           "University Of Colorado System"
          ],
          [
           "Aws Fundamentals: Migrating To The Cloud",
           4.5,
           "Amazon Web Services"
          ],
          [
           "What Future For Education?",
           4.7,
           "Ucl Institute Of Education"
          ],
          [
           "Introduction To Ableton Live",
           4.8,
           "Berklee College Of Music"
          ],
          [
           "Machine Learning Foundations: A Case Study Approach",
           4.6,
           "University Of Washington"
          ],
          [
           "Emt Foundations",
           4.8,
           "University Of Colorado System"
          ],
          [
           "Russian Alphabet",
           4.7,
           "Saint Petersburg State University"
          ],
          [
           "Internet Giants: The Law And Economics Of Media Platforms",
           4.8,
           "The University Of Chicago"
          ],
          [
           "Global Financial Markets And Instruments",
           4.6,
           "Rice University"
          ],
          [
           "Instructional Methods In Health Professions Education",
           4.6,
           "University Of Michigan"
          ],
          [
           "Actualización En El Manejo Del Paciente Con Diabetes Mellitus Tipo 2",
           4.8,
           "Universidad Nacional Autónoma De México"
          ],
          [
           "Legal Tech & Startups",
           4.5,
           "Ie Business School"
          ],
          [
           "Materials Science: 10 Things Every Engineer Should Know",
           4.7,
           "University Of California, Davis"
          ],
          [
           "Основы Разработки На C++: Белый Пояс",
           4.9,
           "E-Learning Development Fund"
          ],
          [
           "Networking And Security Architecture With Vmware Nsx",
           4.8,
           "Vmware"
          ],
          [
           "Linear Circuits 1: Dc Analysis",
           4.6,
           "Georgia Institute Of Technology"
          ],
          [
           "Introduction Aux Droits De L’Homme",
           4.8,
           "University Of Geneva"
          ],
          [
           "High Performance Collaboration: Leadership, Teamwork, And Negotiation",
           4.8,
           "Northwestern University"
          ],
          [
           "Agile И Scrum В Работе Над Проектами И Продуктами",
           4.9,
           "Scrumtrek"
          ],
          [
           "Estadística Y Probabilidad",
           4.7,
           "Universidad Nacional Autónoma De México"
          ],
          [
           "Classical Sociological Theory",
           4.8,
           "University Of Amsterdam"
          ],
          [
           "Google Cloud Platform Fundamentals For Aws Professionals",
           4.7,
           "Google Cloud"
          ],
          [
           "Introduction To Game Development",
           4.8,
           "Michigan State University"
          ],
          [
           "Formulación Y Evaluación De Proyectos Complejos",
           4.9,
           "Universidad De Los Andes"
          ],
          [
           "Digital Media And Marketing Strategies",
           4.4,
           "University Of Illinois At Urbana-Champaign"
          ],
          [
           "Age Of Cathedrals",
           4.7,
           "Yale University"
          ],
          [
           "Cost And Economics In Pricing Strategy",
           4.8,
           "University Of Virginia"
          ],
          [
           "Digital Business Models",
           4.5,
           "Lund University"
          ],
          [
           "Identifying, Monitoring, And Analyzing Risk And Incident Response And Recovery",
           4.9,
           "(Isc)²"
          ],
          [
           "¿Qué Hacen Los Buenos Directivos? Prioridades De La Alta Dirección",
           4.7,
           "Iese Business School"
          ],
          [
           "Software Processes And Agile Practices",
           4.7,
           "University Of Alberta"
          ],
          [
           "Scaling Operations: Linking Strategy And Execution",
           4.5,
           "Northwestern University"
          ],
          [
           "Aws Fundamentals: Building Serverless Applications",
           4.7,
           "Amazon Web Services"
          ],
          [
           "Introduction To Big Data",
           4.6,
           "University Of California San Diego"
          ],
          [
           "Front-End Web Development With React",
           4.7,
           "The Hong Kong University Of Science And Technology"
          ],
          [
           "The Economics Of Health Care Delivery",
           4.8,
           "University Of Pennsylvania"
          ],
          [
           "Introdução À Ciência Da Computação Com Python Parte 1",
           4.9,
           "Universidade De São Paulo"
          ],
          [
           "Osteoarchaeology: The Truth In Our Bones",
           4.7,
           "Universiteit Leiden"
          ],
          [
           "Python Classes And Inheritance",
           4.7,
           "University Of Michigan"
          ],
          [
           "Electric Industry Operations And Markets",
           4.8,
           "Duke University"
          ],
          [
           "Data And Health Indicators In Public Health Practice",
           4.7,
           "Johns Hopkins University"
          ],
          [
           "Particle Physics: An Introduction",
           4.5,
           "University Of Geneva"
          ],
          [
           "Mathematics For Machine Learning: Pca",
           4,
           "Imperial College London"
          ],
          [
           "A Crash Course In Data Science",
           4.5,
           "Johns Hopkins University"
          ],
          [
           "Research Data Management And Sharing",
           4.6,
           "The University Of Edinburgh"
          ],
          [
           "Aspectos Básicos De La Planificación Y La Gestión De Proyectos",
           4.9,
           "University Of Virginia"
          ],
          [
           "Introduction To Genomic Technologies",
           4.6,
           "Johns Hopkins University"
          ],
          [
           "Introduction To Chemistry:  Reactions And Ratios",
           4.8,
           "Duke University"
          ],
          [
           "Explorando La Energía Sustentable",
           4.8,
           "Pontificia Universidad Católica De Chile"
          ],
          [
           "University Teaching",
           4.8,
           "The University Of Hong Kong"
          ],
          [
           "Психолингвистика (Psycholinguistics)",
           4.8,
           "Saint Petersburg State University"
          ],
          [
           "Building Resilient Streaming Analytics Systems On Gcp",
           4.6,
           "Google Cloud"
          ],
          [
           "Object-Oriented Design",
           4.7,
           "University Of Alberta"
          ],
          [
           "Погружение В Python",
           4.7,
           "Moscow Institute Of Physics And Technology"
          ],
          [
           "Compassionate Leadership Through Service Learning With Jane Goodall And Roots & Shoots",
           4.9,
           "University Of Colorado Boulder"
          ]
         ],
         "hovertemplate": "Title: <b>%{customdata[0]}</b><br>Students Enrolled: %{x:,.0f}<br>Organization: %{customdata[2]}<br>Rating: %{customdata[1]}<br>",
         "legendgroup": "Course",
         "marker": {
          "color": "rgb(56, 166, 165)"
         },
         "name": "Course",
         "notched": false,
         "offsetgroup": "Course",
         "orientation": "h",
         "showlegend": true,
         "type": "box",
         "x": [
          2500000,
          3200000,
          470000,
          220000,
          270000,
          190000,
          750000,
          280000,
          1300000,
          350000,
          280000,
          630000,
          370000,
          140000,
          150000,
          57000,
          120000,
          120000,
          220000,
          65000,
          260000,
          68000,
          200000,
          180000,
          240000,
          310000,
          57000,
          210000,
          340000,
          36000,
          51000,
          420000,
          400000,
          79000,
          140000,
          270000,
          12000,
          130000,
          220000,
          100000,
          67000,
          260000,
          120000,
          120000,
          170000,
          100000,
          23000,
          30000,
          290000,
          110000,
          180000,
          24000,
          42000,
          760000,
          100000,
          81000,
          190000,
          390000,
          220000,
          190000,
          79000,
          35000,
          110000,
          89000,
          310000,
          12000,
          71000,
          200000,
          240000,
          56000,
          40000,
          270000,
          170000,
          72000,
          76000,
          33000,
          140000,
          230000,
          120000,
          41000,
          83000,
          150000,
          32000,
          370000,
          50000,
          81000,
          420000,
          86000,
          130000,
          67000,
          100000,
          25000,
          11000,
          69000,
          180000,
          120000,
          110000,
          58000,
          69000,
          29000,
          110000,
          55000,
          270000,
          180000,
          84000,
          32000,
          110000,
          86000,
          110000,
          19000,
          110000,
          47000,
          4000,
          190000,
          14000,
          260000,
          43000,
          180000,
          90000,
          220000,
          10000,
          36000,
          130000,
          16000,
          43000,
          29000,
          220000,
          270000,
          310000,
          120000,
          69000,
          4100,
          76000,
          480000,
          79000,
          31000,
          120000,
          18000,
          57000,
          15000,
          100000,
          50000,
          240000,
          9200,
          33000,
          160000,
          430000,
          130000,
          76000,
          270000,
          95000,
          39000,
          12000,
          20000,
          83000,
          220000,
          130000,
          78000,
          34000,
          130000,
          46000,
          17000,
          26000,
          84000,
          250000,
          40000,
          56000,
          120000,
          41000,
          73000,
          120000,
          47000,
          130000,
          94000,
          58000,
          24000,
          42000,
          66000,
          430000,
          17000,
          110000,
          68000,
          150000,
          95000,
          10000,
          54000,
          80000,
          140000,
          29000,
          62000,
          22000,
          43000,
          3300,
          13000,
          18000,
          53000,
          91000,
          36000,
          18000,
          82000,
          54000,
          39000,
          66000,
          150000,
          75000,
          52000,
          86000,
          44000,
          87000,
          39000,
          19000,
          40000,
          43000,
          5400,
          78000,
          30000,
          9700,
          85000,
          7200,
          68000,
          2200,
          26000,
          49000,
          32000,
          31000,
          12000,
          14000,
          38000,
          2300,
          56000,
          130000,
          14000,
          140000,
          34000,
          30000,
          49000,
          11000,
          30000,
          230000,
          41000,
          160000,
          22000,
          62000,
          34000,
          10000,
          79000,
          40000,
          69000,
          7900,
          84000,
          17000,
          2400,
          73000,
          35000,
          97000,
          91000,
          18000,
          140000,
          38000,
          74000,
          89000,
          89000,
          71000,
          130000,
          42000,
          47000,
          20000,
          18000,
          21000,
          34000,
          200000,
          11000,
          17000,
          8000,
          120000,
          160000,
          150000,
          81000,
          97000,
          9100,
          13000,
          130000,
          45000,
          51000,
          45000,
          110000,
          24000,
          87000,
          120000,
          35000,
          82000,
          22000,
          48000,
          14000,
          10000,
          140000,
          6200,
          43000,
          37000,
          99000,
          32000,
          280000,
          180000,
          310000,
          170000,
          26000,
          71000,
          72000,
          27000,
          81000,
          23000,
          220000,
          57000,
          88000,
          18000,
          34000,
          73000,
          23000,
          34000,
          8400,
          9400,
          34000,
          22000,
          36000,
          16000,
          49000,
          9400,
          200000,
          19000,
          22000,
          29000,
          11000,
          40000,
          9700,
          39000,
          11000,
          2600,
          25000,
          59000,
          110000,
          44000,
          68000,
          29000,
          19000,
          80000,
          24000,
          23000,
          16000,
          24000,
          2900,
          200000,
          33000,
          11000,
          12000,
          27000,
          15000,
          20000,
          5600,
          76000,
          39000,
          8200,
          150000,
          47000,
          150000,
          11000,
          30000,
          180000,
          5200,
          320000,
          46000,
          42000,
          3900,
          4400,
          110000,
          180000,
          10000,
          9500,
          40000,
          33000,
          41000,
          47000,
          15000,
          44000,
          7300,
          120000,
          16000,
          28000,
          35000,
          13000,
          22000,
          39000,
          31000,
          11000,
          84000,
          79000,
          28000,
          36000,
          8900,
          58000,
          22000,
          47000,
          61000,
          17000,
          29000,
          19000,
          26000,
          17000,
          59000,
          68000,
          18000,
          21000,
          130000,
          35000,
          15000,
          6000,
          12000,
          75000,
          39000,
          19000,
          61000,
          59000,
          40000,
          52000,
          25000,
          22000,
          83000,
          31000,
          47000,
          36000,
          16000,
          35000,
          62000,
          21000,
          14000,
          14000,
          7800,
          36000,
          14000,
          23000,
          31000,
          63000,
          27000,
          150000,
          10000,
          19000,
          9900,
          19000,
          39000,
          22000,
          70000,
          19000,
          59000,
          4100,
          31000,
          22000,
          77000,
          7600,
          17000,
          16000,
          110000,
          49000,
          10000,
          11000,
          1900,
          66000,
          5900,
          41000,
          210000,
          33000,
          11000,
          24000,
          3600,
          6500,
          6800,
          23000,
          12000,
          140000,
          23000,
          14000,
          2400,
          7700,
          110000,
          3400,
          54000,
          62000,
          6500,
          37000,
          12000,
          20000,
          33000,
          19000,
          34000,
          62000,
          17000,
          53000,
          1500,
          170000,
          78000,
          15000,
          15000,
          12000,
          47000,
          8100,
          63000,
          55000,
          58000,
          14000,
          7400,
          60000,
          12000,
          4500,
          8500,
          22000,
          12000,
          67000,
          31000,
          20000,
          49000,
          13000,
          50000,
          6600,
          5500,
          140000,
          9500,
          69000,
          67000,
          14000,
          3000,
          13000,
          35000,
          60000,
          240000,
          7100,
          3200,
          38000,
          37000,
          9700,
          23000,
          7200,
          48000,
          41000,
          17000,
          29000,
          46000,
          46000,
          12000,
          27000,
          51000,
          36000,
          79000,
          4400,
          57000,
          21000,
          15000,
          21000,
          1700,
          25000,
          60000,
          12000,
          27000,
          160000,
          45000,
          7200,
          120000,
          22000,
          21000,
          12000,
          18000,
          42000,
          33000,
          130000,
          16000,
          10000,
          42000,
          46000,
          28000,
          9500,
          21000,
          5800,
          33000,
          45000,
          6400
         ],
         "x0": " ",
         "xaxis": "x",
         "y": [
          "Mixed",
          "Mixed",
          "Beginner",
          "Beginner",
          "Beginner",
          "Mixed",
          "Mixed",
          "Beginner",
          "Mixed",
          "Beginner",
          "Mixed",
          "Intermediate",
          "Beginner",
          "Beginner",
          "Mixed",
          "Beginner",
          "Mixed",
          "Beginner",
          "Beginner",
          "Beginner",
          "Beginner",
          "Beginner",
          "Beginner",
          "Beginner",
          "Beginner",
          "Beginner",
          "Mixed",
          "Mixed",
          "Beginner",
          "Beginner",
          "Mixed",
          "Mixed",
          "Beginner",
          "Mixed",
          "Beginner",
          "Beginner",
          "Intermediate",
          "Beginner",
          "Mixed",
          "Intermediate",
          "Mixed",
          "Beginner",
          "Beginner",
          "Beginner",
          "Beginner",
          "Mixed",
          "Beginner",
          "Beginner",
          "Beginner",
          "Mixed",
          "Mixed",
          "Beginner",
          "Mixed",
          "Mixed",
          "Mixed",
          "Beginner",
          "Mixed",
          "Intermediate",
          "Beginner",
          "Intermediate",
          "Mixed",
          "Beginner",
          "Beginner",
          "Beginner",
          "Mixed",
          "Intermediate",
          "Mixed",
          "Mixed",
          "Intermediate",
          "Mixed",
          "Beginner",
          "Mixed",
          "Advanced",
          "Mixed",
          "Intermediate",
          "Beginner",
          "Beginner",
          "Beginner",
          "Intermediate",
          "Mixed",
          "Mixed",
          "Intermediate",
          "Beginner",
          "Mixed",
          "Beginner",
          "Beginner",
          "Mixed",
          "Mixed",
          "Beginner",
          "Mixed",
          "Beginner",
          "Beginner",
          "Beginner",
          "Beginner",
          "Beginner",
          "Mixed",
          "Beginner",
          "Intermediate",
          "Beginner",
          "Advanced",
          "Mixed",
          "Mixed",
          "Mixed",
          "Mixed",
          "Mixed",
          "Beginner",
          "Beginner",
          "Beginner",
          "Beginner",
          "Mixed",
          "Beginner",
          "Mixed",
          "Intermediate",
          "Beginner",
          "Intermediate",
          "Mixed",
          "Beginner",
          "Mixed",
          "Beginner",
          "Beginner",
          "Mixed",
          "Intermediate",
          "Mixed",
          "Advanced",
          "Beginner",
          "Mixed",
          "Mixed",
          "Beginner",
          "Beginner",
          "Beginner",
          "Mixed",
          "Intermediate",
          "Beginner",
          "Intermediate",
          "Beginner",
          "Mixed",
          "Intermediate",
          "Beginner",
          "Mixed",
          "Mixed",
          "Beginner",
          "Mixed",
          "Mixed",
          "Beginner",
          "Mixed",
          "Beginner",
          "Mixed",
          "Mixed",
          "Mixed",
          "Intermediate",
          "Mixed",
          "Beginner",
          "Mixed",
          "Beginner",
          "Intermediate",
          "Mixed",
          "Mixed",
          "Mixed",
          "Beginner",
          "Beginner",
          "Intermediate",
          "Mixed",
          "Beginner",
          "Mixed",
          "Beginner",
          "Beginner",
          "Beginner",
          "Mixed",
          "Intermediate",
          "Beginner",
          "Beginner",
          "Mixed",
          "Intermediate",
          "Mixed",
          "Beginner",
          "Mixed",
          "Beginner",
          "Beginner",
          "Mixed",
          "Intermediate",
          "Beginner",
          "Mixed",
          "Mixed",
          "Mixed",
          "Beginner",
          "Mixed",
          "Mixed",
          "Beginner",
          "Beginner",
          "Beginner",
          "Beginner",
          "Beginner",
          "Beginner",
          "Mixed",
          "Beginner",
          "Intermediate",
          "Mixed",
          "Mixed",
          "Intermediate",
          "Mixed",
          "Beginner",
          "Intermediate",
          "Intermediate",
          "Mixed",
          "Intermediate",
          "Beginner",
          "Beginner",
          "Beginner",
          "Beginner",
          "Mixed",
          "Intermediate",
          "Intermediate",
          "Beginner",
          "Intermediate",
          "Beginner",
          "Beginner",
          "Beginner",
          "Mixed",
          "Beginner",
          "Intermediate",
          "Beginner",
          "Beginner",
          "Intermediate",
          "Beginner",
          "Mixed",
          "Beginner",
          "Beginner",
          "Beginner",
          "Mixed",
          "Mixed",
          "Beginner",
          "Beginner",
          "Mixed",
          "Mixed",
          "Beginner",
          "Beginner",
          "Beginner",
          "Beginner",
          "Beginner",
          "Mixed",
          "Beginner",
          "Intermediate",
          "Beginner",
          "Beginner",
          "Beginner",
          "Mixed",
          "Mixed",
          "Beginner",
          "Beginner",
          "Mixed",
          "Beginner",
          "Intermediate",
          "Beginner",
          "Beginner",
          "Intermediate",
          "Intermediate",
          "Intermediate",
          "Beginner",
          "Mixed",
          "Mixed",
          "Beginner",
          "Intermediate",
          "Beginner",
          "Mixed",
          "Advanced",
          "Intermediate",
          "Beginner",
          "Beginner",
          "Intermediate",
          "Mixed",
          "Mixed",
          "Beginner",
          "Beginner",
          "Beginner",
          "Beginner",
          "Beginner",
          "Beginner",
          "Beginner",
          "Mixed",
          "Intermediate",
          "Beginner",
          "Mixed",
          "Mixed",
          "Beginner",
          "Mixed",
          "Beginner",
          "Beginner",
          "Mixed",
          "Mixed",
          "Intermediate",
          "Mixed",
          "Beginner",
          "Beginner",
          "Beginner",
          "Beginner",
          "Beginner",
          "Mixed",
          "Intermediate",
          "Intermediate",
          "Mixed",
          "Beginner",
          "Mixed",
          "Beginner",
          "Mixed",
          "Intermediate",
          "Beginner",
          "Mixed",
          "Beginner",
          "Beginner",
          "Mixed",
          "Beginner",
          "Intermediate",
          "Intermediate",
          "Beginner",
          "Beginner",
          "Mixed",
          "Intermediate",
          "Mixed",
          "Beginner",
          "Beginner",
          "Intermediate",
          "Mixed",
          "Intermediate",
          "Mixed",
          "Mixed",
          "Mixed",
          "Beginner",
          "Beginner",
          "Beginner",
          "Beginner",
          "Mixed",
          "Beginner",
          "Mixed",
          "Advanced",
          "Intermediate",
          "Beginner",
          "Beginner",
          "Beginner",
          "Intermediate",
          "Beginner",
          "Beginner",
          "Beginner",
          "Intermediate",
          "Beginner",
          "Mixed",
          "Beginner",
          "Beginner",
          "Beginner",
          "Intermediate",
          "Beginner",
          "Beginner",
          "Mixed",
          "Mixed",
          "Beginner",
          "Mixed",
          "Mixed",
          "Beginner",
          "Beginner",
          "Beginner",
          "Intermediate",
          "Beginner",
          "Mixed",
          "Mixed",
          "Intermediate",
          "Beginner",
          "Beginner",
          "Beginner",
          "Beginner",
          "Mixed",
          "Beginner",
          "Intermediate",
          "Intermediate",
          "Beginner",
          "Mixed",
          "Beginner",
          "Beginner",
          "Beginner",
          "Beginner",
          "Mixed",
          "Intermediate",
          "Mixed",
          "Mixed",
          "Mixed",
          "Intermediate",
          "Beginner",
          "Beginner",
          "Intermediate",
          "Mixed",
          "Intermediate",
          "Beginner",
          "Beginner",
          "Beginner",
          "Advanced",
          "Mixed",
          "Intermediate",
          "Beginner",
          "Beginner",
          "Beginner",
          "Mixed",
          "Beginner",
          "Beginner",
          "Beginner",
          "Beginner",
          "Beginner",
          "Mixed",
          "Intermediate",
          "Beginner",
          "Beginner",
          "Advanced",
          "Beginner",
          "Mixed",
          "Mixed",
          "Beginner",
          "Beginner",
          "Beginner",
          "Intermediate",
          "Beginner",
          "Intermediate",
          "Mixed",
          "Beginner",
          "Beginner",
          "Intermediate",
          "Beginner",
          "Mixed",
          "Advanced",
          "Beginner",
          "Beginner",
          "Beginner",
          "Mixed",
          "Intermediate",
          "Mixed",
          "Mixed",
          "Beginner",
          "Beginner",
          "Intermediate",
          "Beginner",
          "Beginner",
          "Beginner",
          "Beginner",
          "Beginner",
          "Beginner",
          "Beginner",
          "Beginner",
          "Intermediate",
          "Mixed",
          "Intermediate",
          "Beginner",
          "Advanced",
          "Intermediate",
          "Beginner",
          "Beginner",
          "Intermediate",
          "Beginner",
          "Beginner",
          "Beginner",
          "Intermediate",
          "Mixed",
          "Intermediate",
          "Beginner",
          "Mixed",
          "Beginner",
          "Beginner",
          "Beginner",
          "Intermediate",
          "Mixed",
          "Intermediate",
          "Mixed",
          "Mixed",
          "Mixed",
          "Beginner",
          "Beginner",
          "Intermediate",
          "Beginner",
          "Intermediate",
          "Mixed",
          "Beginner",
          "Mixed",
          "Intermediate",
          "Beginner",
          "Beginner",
          "Beginner",
          "Beginner",
          "Mixed",
          "Beginner",
          "Mixed",
          "Beginner",
          "Beginner",
          "Intermediate",
          "Beginner",
          "Intermediate",
          "Intermediate",
          "Mixed",
          "Mixed",
          "Intermediate",
          "Mixed",
          "Beginner",
          "Intermediate",
          "Beginner",
          "Intermediate",
          "Beginner",
          "Beginner",
          "Beginner",
          "Mixed",
          "Intermediate",
          "Beginner",
          "Mixed",
          "Beginner",
          "Intermediate",
          "Beginner",
          "Intermediate",
          "Beginner",
          "Intermediate",
          "Beginner",
          "Beginner",
          "Beginner",
          "Mixed",
          "Beginner",
          "Mixed",
          "Beginner",
          "Mixed",
          "Mixed",
          "Beginner",
          "Beginner",
          "Beginner",
          "Mixed",
          "Mixed",
          "Mixed",
          "Beginner",
          "Intermediate",
          "Mixed",
          "Mixed",
          "Mixed",
          "Beginner",
          "Beginner",
          "Mixed",
          "Mixed",
          "Intermediate",
          "Mixed",
          "Intermediate",
          "Mixed",
          "Intermediate",
          "Intermediate",
          "Mixed",
          "Mixed",
          "Mixed",
          "Beginner",
          "Beginner",
          "Mixed",
          "Intermediate",
          "Mixed",
          "Intermediate",
          "Mixed",
          "Beginner",
          "Beginner",
          "Beginner",
          "Beginner",
          "Beginner",
          "Mixed",
          "Mixed",
          "Beginner",
          "Mixed",
          "Intermediate",
          "Mixed",
          "Beginner",
          "Beginner",
          "Intermediate",
          "Beginner",
          "Beginner",
          "Mixed",
          "Intermediate",
          "Mixed",
          "Mixed",
          "Beginner",
          "Mixed",
          "Beginner",
          "Beginner",
          "Beginner",
          "Mixed",
          "Intermediate",
          "Intermediate",
          "Intermediate",
          "Beginner"
         ],
         "y0": " ",
         "yaxis": "y"
        }
       ],
       "layout": {
        "boxmode": "group",
        "height": 700,
        "hoverlabel": {
         "bgcolor": "white",
         "bordercolor": "white",
         "font": {
          "color": "#494a5e"
         }
        },
        "legend": {
         "orientation": "h",
         "title": {
          "text": "Certificate type"
         },
         "tracegroupgap": 0,
         "x": 1,
         "xanchor": "right",
         "y": 1.02,
         "yanchor": "bottom"
        },
        "margin": {
         "t": 60
        },
        "plot_bgcolor": "white",
        "template": {
         "data": {
          "bar": [
           {
            "error_x": {
             "color": "#2a3f5f"
            },
            "error_y": {
             "color": "#2a3f5f"
            },
            "marker": {
             "line": {
              "color": "#E5ECF6",
              "width": 0.5
             },
             "pattern": {
              "fillmode": "overlay",
              "size": 10,
              "solidity": 0.2
             }
            },
            "type": "bar"
           }
          ],
          "barpolar": [
           {
            "marker": {
             "line": {
              "color": "#E5ECF6",
              "width": 0.5
             },
             "pattern": {
              "fillmode": "overlay",
              "size": 10,
              "solidity": 0.2
             }
            },
            "type": "barpolar"
           }
          ],
          "carpet": [
           {
            "aaxis": {
             "endlinecolor": "#2a3f5f",
             "gridcolor": "white",
             "linecolor": "white",
             "minorgridcolor": "white",
             "startlinecolor": "#2a3f5f"
            },
            "baxis": {
             "endlinecolor": "#2a3f5f",
             "gridcolor": "white",
             "linecolor": "white",
             "minorgridcolor": "white",
             "startlinecolor": "#2a3f5f"
            },
            "type": "carpet"
           }
          ],
          "choropleth": [
           {
            "colorbar": {
             "outlinewidth": 0,
             "ticks": ""
            },
            "type": "choropleth"
           }
          ],
          "contour": [
           {
            "colorbar": {
             "outlinewidth": 0,
             "ticks": ""
            },
            "colorscale": [
             [
              0,
              "#0d0887"
             ],
             [
              0.1111111111111111,
              "#46039f"
             ],
             [
              0.2222222222222222,
              "#7201a8"
             ],
             [
              0.3333333333333333,
              "#9c179e"
             ],
             [
              0.4444444444444444,
              "#bd3786"
             ],
             [
              0.5555555555555556,
              "#d8576b"
             ],
             [
              0.6666666666666666,
              "#ed7953"
             ],
             [
              0.7777777777777778,
              "#fb9f3a"
             ],
             [
              0.8888888888888888,
              "#fdca26"
             ],
             [
              1,
              "#f0f921"
             ]
            ],
            "type": "contour"
           }
          ],
          "contourcarpet": [
           {
            "colorbar": {
             "outlinewidth": 0,
             "ticks": ""
            },
            "type": "contourcarpet"
           }
          ],
          "heatmap": [
           {
            "colorbar": {
             "outlinewidth": 0,
             "ticks": ""
            },
            "colorscale": [
             [
              0,
              "#0d0887"
             ],
             [
              0.1111111111111111,
              "#46039f"
             ],
             [
              0.2222222222222222,
              "#7201a8"
             ],
             [
              0.3333333333333333,
              "#9c179e"
             ],
             [
              0.4444444444444444,
              "#bd3786"
             ],
             [
              0.5555555555555556,
              "#d8576b"
             ],
             [
              0.6666666666666666,
              "#ed7953"
             ],
             [
              0.7777777777777778,
              "#fb9f3a"
             ],
             [
              0.8888888888888888,
              "#fdca26"
             ],
             [
              1,
              "#f0f921"
             ]
            ],
            "type": "heatmap"
           }
          ],
          "heatmapgl": [
           {
            "colorbar": {
             "outlinewidth": 0,
             "ticks": ""
            },
            "colorscale": [
             [
              0,
              "#0d0887"
             ],
             [
              0.1111111111111111,
              "#46039f"
             ],
             [
              0.2222222222222222,
              "#7201a8"
             ],
             [
              0.3333333333333333,
              "#9c179e"
             ],
             [
              0.4444444444444444,
              "#bd3786"
             ],
             [
              0.5555555555555556,
              "#d8576b"
             ],
             [
              0.6666666666666666,
              "#ed7953"
             ],
             [
              0.7777777777777778,
              "#fb9f3a"
             ],
             [
              0.8888888888888888,
              "#fdca26"
             ],
             [
              1,
              "#f0f921"
             ]
            ],
            "type": "heatmapgl"
           }
          ],
          "histogram": [
           {
            "marker": {
             "pattern": {
              "fillmode": "overlay",
              "size": 10,
              "solidity": 0.2
             }
            },
            "type": "histogram"
           }
          ],
          "histogram2d": [
           {
            "colorbar": {
             "outlinewidth": 0,
             "ticks": ""
            },
            "colorscale": [
             [
              0,
              "#0d0887"
             ],
             [
              0.1111111111111111,
              "#46039f"
             ],
             [
              0.2222222222222222,
              "#7201a8"
             ],
             [
              0.3333333333333333,
              "#9c179e"
             ],
             [
              0.4444444444444444,
              "#bd3786"
             ],
             [
              0.5555555555555556,
              "#d8576b"
             ],
             [
              0.6666666666666666,
              "#ed7953"
             ],
             [
              0.7777777777777778,
              "#fb9f3a"
             ],
             [
              0.8888888888888888,
              "#fdca26"
             ],
             [
              1,
              "#f0f921"
             ]
            ],
            "type": "histogram2d"
           }
          ],
          "histogram2dcontour": [
           {
            "colorbar": {
             "outlinewidth": 0,
             "ticks": ""
            },
            "colorscale": [
             [
              0,
              "#0d0887"
             ],
             [
              0.1111111111111111,
              "#46039f"
             ],
             [
              0.2222222222222222,
              "#7201a8"
             ],
             [
              0.3333333333333333,
              "#9c179e"
             ],
             [
              0.4444444444444444,
              "#bd3786"
             ],
             [
              0.5555555555555556,
              "#d8576b"
             ],
             [
              0.6666666666666666,
              "#ed7953"
             ],
             [
              0.7777777777777778,
              "#fb9f3a"
             ],
             [
              0.8888888888888888,
              "#fdca26"
             ],
             [
              1,
              "#f0f921"
             ]
            ],
            "type": "histogram2dcontour"
           }
          ],
          "mesh3d": [
           {
            "colorbar": {
             "outlinewidth": 0,
             "ticks": ""
            },
            "type": "mesh3d"
           }
          ],
          "parcoords": [
           {
            "line": {
             "colorbar": {
              "outlinewidth": 0,
              "ticks": ""
             }
            },
            "type": "parcoords"
           }
          ],
          "pie": [
           {
            "automargin": true,
            "type": "pie"
           }
          ],
          "scatter": [
           {
            "fillpattern": {
             "fillmode": "overlay",
             "size": 10,
             "solidity": 0.2
            },
            "type": "scatter"
           }
          ],
          "scatter3d": [
           {
            "line": {
             "colorbar": {
              "outlinewidth": 0,
              "ticks": ""
             }
            },
            "marker": {
             "colorbar": {
              "outlinewidth": 0,
              "ticks": ""
             }
            },
            "type": "scatter3d"
           }
          ],
          "scattercarpet": [
           {
            "marker": {
             "colorbar": {
              "outlinewidth": 0,
              "ticks": ""
             }
            },
            "type": "scattercarpet"
           }
          ],
          "scattergeo": [
           {
            "marker": {
             "colorbar": {
              "outlinewidth": 0,
              "ticks": ""
             }
            },
            "type": "scattergeo"
           }
          ],
          "scattergl": [
           {
            "marker": {
             "colorbar": {
              "outlinewidth": 0,
              "ticks": ""
             }
            },
            "type": "scattergl"
           }
          ],
          "scattermapbox": [
           {
            "marker": {
             "colorbar": {
              "outlinewidth": 0,
              "ticks": ""
             }
            },
            "type": "scattermapbox"
           }
          ],
          "scatterpolar": [
           {
            "marker": {
             "colorbar": {
              "outlinewidth": 0,
              "ticks": ""
             }
            },
            "type": "scatterpolar"
           }
          ],
          "scatterpolargl": [
           {
            "marker": {
             "colorbar": {
              "outlinewidth": 0,
              "ticks": ""
             }
            },
            "type": "scatterpolargl"
           }
          ],
          "scatterternary": [
           {
            "marker": {
             "colorbar": {
              "outlinewidth": 0,
              "ticks": ""
             }
            },
            "type": "scatterternary"
           }
          ],
          "surface": [
           {
            "colorbar": {
             "outlinewidth": 0,
             "ticks": ""
            },
            "colorscale": [
             [
              0,
              "#0d0887"
             ],
             [
              0.1111111111111111,
              "#46039f"
             ],
             [
              0.2222222222222222,
              "#7201a8"
             ],
             [
              0.3333333333333333,
              "#9c179e"
             ],
             [
              0.4444444444444444,
              "#bd3786"
             ],
             [
              0.5555555555555556,
              "#d8576b"
             ],
             [
              0.6666666666666666,
              "#ed7953"
             ],
             [
              0.7777777777777778,
              "#fb9f3a"
             ],
             [
              0.8888888888888888,
              "#fdca26"
             ],
             [
              1,
              "#f0f921"
             ]
            ],
            "type": "surface"
           }
          ],
          "table": [
           {
            "cells": {
             "fill": {
              "color": "#EBF0F8"
             },
             "line": {
              "color": "white"
             }
            },
            "header": {
             "fill": {
              "color": "#C8D4E3"
             },
             "line": {
              "color": "white"
             }
            },
            "type": "table"
           }
          ]
         },
         "layout": {
          "annotationdefaults": {
           "arrowcolor": "#2a3f5f",
           "arrowhead": 0,
           "arrowwidth": 1
          },
          "autotypenumbers": "strict",
          "coloraxis": {
           "colorbar": {
            "outlinewidth": 0,
            "ticks": ""
           }
          },
          "colorscale": {
           "diverging": [
            [
             0,
             "#8e0152"
            ],
            [
             0.1,
             "#c51b7d"
            ],
            [
             0.2,
             "#de77ae"
            ],
            [
             0.3,
             "#f1b6da"
            ],
            [
             0.4,
             "#fde0ef"
            ],
            [
             0.5,
             "#f7f7f7"
            ],
            [
             0.6,
             "#e6f5d0"
            ],
            [
             0.7,
             "#b8e186"
            ],
            [
             0.8,
             "#7fbc41"
            ],
            [
             0.9,
             "#4d9221"
            ],
            [
             1,
             "#276419"
            ]
           ],
           "sequential": [
            [
             0,
             "#0d0887"
            ],
            [
             0.1111111111111111,
             "#46039f"
            ],
            [
             0.2222222222222222,
             "#7201a8"
            ],
            [
             0.3333333333333333,
             "#9c179e"
            ],
            [
             0.4444444444444444,
             "#bd3786"
            ],
            [
             0.5555555555555556,
             "#d8576b"
            ],
            [
             0.6666666666666666,
             "#ed7953"
            ],
            [
             0.7777777777777778,
             "#fb9f3a"
            ],
            [
             0.8888888888888888,
             "#fdca26"
            ],
            [
             1,
             "#f0f921"
            ]
           ],
           "sequentialminus": [
            [
             0,
             "#0d0887"
            ],
            [
             0.1111111111111111,
             "#46039f"
            ],
            [
             0.2222222222222222,
             "#7201a8"
            ],
            [
             0.3333333333333333,
             "#9c179e"
            ],
            [
             0.4444444444444444,
             "#bd3786"
            ],
            [
             0.5555555555555556,
             "#d8576b"
            ],
            [
             0.6666666666666666,
             "#ed7953"
            ],
            [
             0.7777777777777778,
             "#fb9f3a"
            ],
            [
             0.8888888888888888,
             "#fdca26"
            ],
            [
             1,
             "#f0f921"
            ]
           ]
          },
          "colorway": [
           "#636efa",
           "#EF553B",
           "#00cc96",
           "#ab63fa",
           "#FFA15A",
           "#19d3f3",
           "#FF6692",
           "#B6E880",
           "#FF97FF",
           "#FECB52"
          ],
          "font": {
           "color": "#2a3f5f"
          },
          "geo": {
           "bgcolor": "white",
           "lakecolor": "white",
           "landcolor": "#E5ECF6",
           "showlakes": true,
           "showland": true,
           "subunitcolor": "white"
          },
          "hoverlabel": {
           "align": "left"
          },
          "hovermode": "closest",
          "mapbox": {
           "style": "light"
          },
          "paper_bgcolor": "white",
          "plot_bgcolor": "#E5ECF6",
          "polar": {
           "angularaxis": {
            "gridcolor": "white",
            "linecolor": "white",
            "ticks": ""
           },
           "bgcolor": "#E5ECF6",
           "radialaxis": {
            "gridcolor": "white",
            "linecolor": "white",
            "ticks": ""
           }
          },
          "scene": {
           "xaxis": {
            "backgroundcolor": "#E5ECF6",
            "gridcolor": "white",
            "gridwidth": 2,
            "linecolor": "white",
            "showbackground": true,
            "ticks": "",
            "zerolinecolor": "white"
           },
           "yaxis": {
            "backgroundcolor": "#E5ECF6",
            "gridcolor": "white",
            "gridwidth": 2,
            "linecolor": "white",
            "showbackground": true,
            "ticks": "",
            "zerolinecolor": "white"
           },
           "zaxis": {
            "backgroundcolor": "#E5ECF6",
            "gridcolor": "white",
            "gridwidth": 2,
            "linecolor": "white",
            "showbackground": true,
            "ticks": "",
            "zerolinecolor": "white"
           }
          },
          "shapedefaults": {
           "line": {
            "color": "#2a3f5f"
           }
          },
          "ternary": {
           "aaxis": {
            "gridcolor": "white",
            "linecolor": "white",
            "ticks": ""
           },
           "baxis": {
            "gridcolor": "white",
            "linecolor": "white",
            "ticks": ""
           },
           "bgcolor": "#E5ECF6",
           "caxis": {
            "gridcolor": "white",
            "linecolor": "white",
            "ticks": ""
           }
          },
          "title": {
           "x": 0.05
          },
          "xaxis": {
           "automargin": true,
           "gridcolor": "white",
           "linecolor": "white",
           "ticks": "",
           "title": {
            "standoff": 15
           },
           "zerolinecolor": "white",
           "zerolinewidth": 2
          },
          "yaxis": {
           "automargin": true,
           "gridcolor": "white",
           "linecolor": "white",
           "ticks": "",
           "title": {
            "standoff": 15
           },
           "zerolinecolor": "white",
           "zerolinewidth": 2
          }
         }
        },
        "title": {
         "text": "Distribution of students enrolled"
        },
        "width": 1000,
        "xaxis": {
         "anchor": "y",
         "domain": [
          0,
          1
         ],
         "title": {
          "text": "Students enrolled"
         }
        },
        "yaxis": {
         "anchor": "x",
         "domain": [
          0,
          1
         ],
         "title": {
          "text": "Difficulty"
         }
        }
       }
      },
      "image/svg+xml": [
       "<svg class=\"main-svg\" xmlns=\"http://www.w3.org/2000/svg\" xmlns:xlink=\"http://www.w3.org/1999/xlink\" width=\"1000\" height=\"700\" style=\"\" viewBox=\"0 0 1000 700\"><rect x=\"0\" y=\"0\" width=\"1000\" height=\"700\" style=\"fill: rgb(255, 255, 255); fill-opacity: 1;\"/><defs id=\"defs-938baa\"><g class=\"clips\"><clipPath id=\"clip938baaxyplot\" class=\"plotclip\"><rect width=\"804\" height=\"560\"/></clipPath><clipPath class=\"axesclip\" id=\"clip938baax\"><rect x=\"116\" y=\"0\" width=\"804\" height=\"700\"/></clipPath><clipPath class=\"axesclip\" id=\"clip938baay\"><rect x=\"0\" y=\"60\" width=\"1000\" height=\"560\"/></clipPath><clipPath class=\"axesclip\" id=\"clip938baaxy\"><rect x=\"116\" y=\"60\" width=\"804\" height=\"560\"/></clipPath></g><g class=\"gradients\"/><g class=\"patterns\"/></defs><g class=\"bglayer\"/><g class=\"layer-below\"><g class=\"imagelayer\"/><g class=\"shapelayer\"/></g><g class=\"cartesianlayer\"><g class=\"subplot xy\"><g class=\"layer-subplot\"><g class=\"shapelayer\"/><g class=\"imagelayer\"/></g><g class=\"minor-gridlayer\"><g class=\"x\"/><g class=\"y\"/></g><g class=\"gridlayer\"><g class=\"x\"><path class=\"xgrid crisp\" transform=\"translate(268.98,0)\" d=\"M0,60v560\" style=\"stroke: rgb(255, 255, 255); stroke-opacity: 1; stroke-width: 1px;\"/><path class=\"xgrid crisp\" transform=\"translate(382.09,0)\" d=\"M0,60v560\" style=\"stroke: rgb(255, 255, 255); stroke-opacity: 1; stroke-width: 1px;\"/><path class=\"xgrid crisp\" transform=\"translate(495.21,0)\" d=\"M0,60v560\" style=\"stroke: rgb(255, 255, 255); stroke-opacity: 1; stroke-width: 1px;\"/><path class=\"xgrid crisp\" transform=\"translate(608.3199999999999,0)\" d=\"M0,60v560\" style=\"stroke: rgb(255, 255, 255); stroke-opacity: 1; stroke-width: 1px;\"/><path class=\"xgrid crisp\" transform=\"translate(721.44,0)\" d=\"M0,60v560\" style=\"stroke: rgb(255, 255, 255); stroke-opacity: 1; stroke-width: 1px;\"/><path class=\"xgrid crisp\" transform=\"translate(834.55,0)\" d=\"M0,60v560\" style=\"stroke: rgb(255, 255, 255); stroke-opacity: 1; stroke-width: 1px;\"/></g><g class=\"y\"/></g><g class=\"zerolinelayer\"><path class=\"xzl zl crisp\" transform=\"translate(155.86,0)\" d=\"M0,60v560\" style=\"stroke: rgb(255, 255, 255); stroke-opacity: 1; stroke-width: 2px;\"/></g><g class=\"layer-between\"><g class=\"shapelayer\"/><g class=\"imagelayer\"/></g><path class=\"xlines-below\"/><path class=\"ylines-below\"/><g class=\"overlines-below\"/><g class=\"xaxislayer-below\"/><g class=\"yaxislayer-below\"/><g class=\"overaxes-below\"/><g class=\"overplot\"><g class=\"xy\" transform=\"translate(116,60)\" clip-path=\"url(#clip938baaxyplot)\"><g class=\"boxlayer mlayer\"><g class=\"trace boxes\" style=\"opacity: 1;\"><path class=\"box\" d=\"M73.8,531.38V508.76M47.82,531.38V508.76H120.17V531.38ZM47.82,520.07H40.45M120.17,520.07H148.45M40.45,525.72V514.41M148.45,525.72V514.41\" style=\"vector-effect: none; stroke-width: 2px; stroke: rgb(95, 70, 144); stroke-opacity: 1; fill: rgb(95, 70, 144); fill-opacity: 0.5;\"/><path class=\"box\" d=\"M71.53,392.88V370.26M68.14,392.88V370.26H100.38V392.88ZM68.14,381.57H67.01M100.38,381.57H109.99M67.01,387.22V375.91M109.99,387.22V375.91\" style=\"vector-effect: none; stroke-width: 2px; stroke: rgb(95, 70, 144); stroke-opacity: 1; fill: rgb(95, 70, 144); fill-opacity: 0.5;\"/><g class=\"points\"/><g class=\"points\"/><path class=\"mean\" d=\"M83.06,531.38V508.76\" style=\"fill: none; vector-effect: non-scaling-stroke; stroke-width: 2; stroke-dasharray: 4px, 2px; stroke: rgb(95, 70, 144); stroke-opacity: 1;\"/><path class=\"mean\" d=\"M82.84,392.88V370.26\" style=\"fill: none; vector-effect: non-scaling-stroke; stroke-width: 2; stroke-dasharray: 4px, 2px; stroke: rgb(95, 70, 144); stroke-opacity: 1;\"/></g><g class=\"trace boxes\" style=\"opacity: 1;\"><path class=\"box\" d=\"M48.23,499.06V476.44M43.03,499.06V476.44H62.37V499.06ZM43.03,487.75H40.22M62.37,487.75H89.63M40.22,493.41V482.09M89.63,493.41V482.09\" style=\"vector-effect: none; stroke-width: 2px; stroke: rgb(29, 105, 150); stroke-opacity: 1; fill: rgb(29, 105, 150); fill-opacity: 0.5;\"/><path class=\"box\" d=\"M49.36,360.56V337.94M43.08,360.56V337.94H64.18V360.56ZM43.08,349.25H40.22M64.18,349.25H89.63M40.22,354.91V343.59M89.63,354.91V343.59\" style=\"vector-effect: none; stroke-width: 2px; stroke: rgb(29, 105, 150); stroke-opacity: 1; fill: rgb(29, 105, 150); fill-opacity: 0.5;\"/><path class=\"box\" d=\"M50.15,222.06V199.44M42.58,222.06V199.44H71.53V222.06ZM42.58,210.75H40.65M71.53,210.75H112.25M40.65,216.41V205.09M112.25,216.41V205.09\" style=\"vector-effect: none; stroke-width: 2px; stroke: rgb(29, 105, 150); stroke-opacity: 1; fill: rgb(29, 105, 150); fill-opacity: 0.5;\"/><g class=\"points\"><path class=\"point\" transform=\"translate(91.89,487.75)\" d=\"M3,0A3,3 0 1,1 0,-3A3,3 0 0,1 3,0Z\" style=\"opacity: 1; stroke-width: 0px; fill: rgb(29, 105, 150); fill-opacity: 1;\"/><path class=\"point\" transform=\"translate(94.16,487.75)\" d=\"M3,0A3,3 0 1,1 0,-3A3,3 0 0,1 3,0Z\" style=\"opacity: 1; stroke-width: 0px; fill: rgb(29, 105, 150); fill-opacity: 1;\"/><path class=\"point\" transform=\"translate(98.68,487.75)\" d=\"M3,0A3,3 0 1,1 0,-3A3,3 0 0,1 3,0Z\" style=\"opacity: 1; stroke-width: 0px; fill: rgb(29, 105, 150); fill-opacity: 1;\"/><path class=\"point\" transform=\"translate(98.68,487.75)\" d=\"M3,0A3,3 0 1,1 0,-3A3,3 0 0,1 3,0Z\" style=\"opacity: 1; stroke-width: 0px; fill: rgb(29, 105, 150); fill-opacity: 1;\"/><path class=\"point\" transform=\"translate(100.94,487.75)\" d=\"M3,0A3,3 0 1,1 0,-3A3,3 0 0,1 3,0Z\" style=\"opacity: 1; stroke-width: 0px; fill: rgb(29, 105, 150); fill-opacity: 1;\"/><path class=\"point\" transform=\"translate(103.21,487.75)\" d=\"M3,0A3,3 0 1,1 0,-3A3,3 0 0,1 3,0Z\" style=\"opacity: 1; stroke-width: 0px; fill: rgb(29, 105, 150); fill-opacity: 1;\"/><path class=\"point\" transform=\"translate(103.21,487.75)\" d=\"M3,0A3,3 0 1,1 0,-3A3,3 0 0,1 3,0Z\" style=\"opacity: 1; stroke-width: 0px; fill: rgb(29, 105, 150); fill-opacity: 1;\"/><path class=\"point\" transform=\"translate(109.99,487.75)\" d=\"M3,0A3,3 0 1,1 0,-3A3,3 0 0,1 3,0Z\" style=\"opacity: 1; stroke-width: 0px; fill: rgb(29, 105, 150); fill-opacity: 1;\"/><path class=\"point\" transform=\"translate(112.25,487.75)\" d=\"M3,0A3,3 0 1,1 0,-3A3,3 0 0,1 3,0Z\" style=\"opacity: 1; stroke-width: 0px; fill: rgb(29, 105, 150); fill-opacity: 1;\"/><path class=\"point\" transform=\"translate(114.52,487.75)\" d=\"M3,0A3,3 0 1,1 0,-3A3,3 0 0,1 3,0Z\" style=\"opacity: 1; stroke-width: 0px; fill: rgb(29, 105, 150); fill-opacity: 1;\"/><path class=\"point\" transform=\"translate(125.83,487.75)\" d=\"M3,0A3,3 0 1,1 0,-3A3,3 0 0,1 3,0Z\" style=\"opacity: 1; stroke-width: 0px; fill: rgb(29, 105, 150); fill-opacity: 1;\"/><path class=\"point\" transform=\"translate(125.83,487.75)\" d=\"M3,0A3,3 0 1,1 0,-3A3,3 0 0,1 3,0Z\" style=\"opacity: 1; stroke-width: 0px; fill: rgb(29, 105, 150); fill-opacity: 1;\"/><path class=\"point\" transform=\"translate(139.4,487.75)\" d=\"M3,0A3,3 0 1,1 0,-3A3,3 0 0,1 3,0Z\" style=\"opacity: 1; stroke-width: 0px; fill: rgb(29, 105, 150); fill-opacity: 1;\"/><path class=\"point\" transform=\"translate(150.71,487.75)\" d=\"M3,0A3,3 0 1,1 0,-3A3,3 0 0,1 3,0Z\" style=\"opacity: 1; stroke-width: 0px; fill: rgb(29, 105, 150); fill-opacity: 1;\"/><path class=\"point\" transform=\"translate(155.24,487.75)\" d=\"M3,0A3,3 0 1,1 0,-3A3,3 0 0,1 3,0Z\" style=\"opacity: 1; stroke-width: 0px; fill: rgb(29, 105, 150); fill-opacity: 1;\"/><path class=\"point\" transform=\"translate(162.03,487.75)\" d=\"M3,0A3,3 0 1,1 0,-3A3,3 0 0,1 3,0Z\" style=\"opacity: 1; stroke-width: 0px; fill: rgb(29, 105, 150); fill-opacity: 1;\"/><path class=\"point\" transform=\"translate(177.86,487.75)\" d=\"M3,0A3,3 0 1,1 0,-3A3,3 0 0,1 3,0Z\" style=\"opacity: 1; stroke-width: 0px; fill: rgb(29, 105, 150); fill-opacity: 1;\"/><path class=\"point\" transform=\"translate(207.27,487.75)\" d=\"M3,0A3,3 0 1,1 0,-3A3,3 0 0,1 3,0Z\" style=\"opacity: 1; stroke-width: 0px; fill: rgb(29, 105, 150); fill-opacity: 1;\"/><path class=\"point\" transform=\"translate(218.58,487.75)\" d=\"M3,0A3,3 0 1,1 0,-3A3,3 0 0,1 3,0Z\" style=\"opacity: 1; stroke-width: 0px; fill: rgb(29, 105, 150); fill-opacity: 1;\"/><path class=\"point\" transform=\"translate(227.63,487.75)\" d=\"M3,0A3,3 0 1,1 0,-3A3,3 0 0,1 3,0Z\" style=\"opacity: 1; stroke-width: 0px; fill: rgb(29, 105, 150); fill-opacity: 1;\"/><path class=\"point\" transform=\"translate(379.21,487.75)\" d=\"M3,0A3,3 0 1,1 0,-3A3,3 0 0,1 3,0Z\" style=\"opacity: 1; stroke-width: 0px; fill: rgb(29, 105, 150); fill-opacity: 1;\"/></g><g class=\"points\"><path class=\"point\" transform=\"translate(96.42,349.25)\" d=\"M3,0A3,3 0 1,1 0,-3A3,3 0 0,1 3,0Z\" style=\"opacity: 1; stroke-width: 0px; fill: rgb(29, 105, 150); fill-opacity: 1;\"/><path class=\"point\" transform=\"translate(105.47,349.25)\" d=\"M3,0A3,3 0 1,1 0,-3A3,3 0 0,1 3,0Z\" style=\"opacity: 1; stroke-width: 0px; fill: rgb(29, 105, 150); fill-opacity: 1;\"/><path class=\"point\" transform=\"translate(105.47,349.25)\" d=\"M3,0A3,3 0 1,1 0,-3A3,3 0 0,1 3,0Z\" style=\"opacity: 1; stroke-width: 0px; fill: rgb(29, 105, 150); fill-opacity: 1;\"/><path class=\"point\" transform=\"translate(107.73,349.25)\" d=\"M3,0A3,3 0 1,1 0,-3A3,3 0 0,1 3,0Z\" style=\"opacity: 1; stroke-width: 0px; fill: rgb(29, 105, 150); fill-opacity: 1;\"/><path class=\"point\" transform=\"translate(107.73,349.25)\" d=\"M3,0A3,3 0 1,1 0,-3A3,3 0 0,1 3,0Z\" style=\"opacity: 1; stroke-width: 0px; fill: rgb(29, 105, 150); fill-opacity: 1;\"/><path class=\"point\" transform=\"translate(109.99,349.25)\" d=\"M3,0A3,3 0 1,1 0,-3A3,3 0 0,1 3,0Z\" style=\"opacity: 1; stroke-width: 0px; fill: rgb(29, 105, 150); fill-opacity: 1;\"/><path class=\"point\" transform=\"translate(119.04,349.25)\" d=\"M3,0A3,3 0 1,1 0,-3A3,3 0 0,1 3,0Z\" style=\"opacity: 1; stroke-width: 0px; fill: rgb(29, 105, 150); fill-opacity: 1;\"/><path class=\"point\" transform=\"translate(148.45,349.25)\" d=\"M3,0A3,3 0 1,1 0,-3A3,3 0 0,1 3,0Z\" style=\"opacity: 1; stroke-width: 0px; fill: rgb(29, 105, 150); fill-opacity: 1;\"/><path class=\"point\" transform=\"translate(195.96,349.25)\" d=\"M3,0A3,3 0 1,1 0,-3A3,3 0 0,1 3,0Z\" style=\"opacity: 1; stroke-width: 0px; fill: rgb(29, 105, 150); fill-opacity: 1;\"/></g><g class=\"points\"/><path class=\"mean\" d=\"M61.55,499.06V476.44\" style=\"fill: none; vector-effect: non-scaling-stroke; stroke-width: 2; stroke-dasharray: 4px, 2px; stroke: rgb(29, 105, 150); stroke-opacity: 1;\"/><path class=\"mean\" d=\"M58.79,360.56V337.94\" style=\"fill: none; vector-effect: non-scaling-stroke; stroke-width: 2; stroke-dasharray: 4px, 2px; stroke: rgb(29, 105, 150); stroke-opacity: 1;\"/><path class=\"mean\" d=\"M59.26,222.06V199.44\" style=\"fill: none; vector-effect: non-scaling-stroke; stroke-width: 2; stroke-dasharray: 4px, 2px; stroke: rgb(29, 105, 150); stroke-opacity: 1;\"/></g><g class=\"trace boxes\" style=\"opacity: 1;\"><path class=\"box\" d=\"M47.78,466.74V444.12M43.71,466.74V444.12H59.77V466.74ZM43.71,455.43H40.2M59.77,455.43H82.84M40.2,461.09V449.78M82.84,461.09V449.78\" style=\"vector-effect: none; stroke-width: 2px; stroke: rgb(56, 166, 165); stroke-opacity: 1; fill: rgb(56, 166, 165); fill-opacity: 0.5;\"/><path class=\"box\" d=\"M47.55,328.24V305.62M42.8,328.24V305.62H54.45V328.24ZM42.8,316.93H40.29M54.45,316.93H69.27M40.29,322.59V311.28M69.27,322.59V311.28\" style=\"vector-effect: none; stroke-width: 2px; stroke: rgb(56, 166, 165); stroke-opacity: 1; fill: rgb(56, 166, 165); fill-opacity: 0.5;\"/><path class=\"box\" d=\"M46.42,189.74V167.12M43.2,189.74V167.12H50.83V189.74ZM43.2,178.43H42.06M50.83,178.43H55.24M42.06,184.09V172.78M55.24,184.09V172.78\" style=\"vector-effect: none; stroke-width: 2px; stroke: rgb(56, 166, 165); stroke-opacity: 1; fill: rgb(56, 166, 165); fill-opacity: 0.5;\"/><path class=\"box\" d=\"M53.89,51.24V28.62M47.78,51.24V28.62H67.01V51.24ZM47.78,39.93H40.38M67.01,39.93H94.16M40.38,45.59V34.28M94.16,45.59V34.28\" style=\"vector-effect: none; stroke-width: 2px; stroke: rgb(56, 166, 165); stroke-opacity: 1; fill: rgb(56, 166, 165); fill-opacity: 0.5;\"/><g class=\"points\"><path class=\"point\" transform=\"translate(85.11,455.43)\" d=\"M3,0A3,3 0 1,1 0,-3A3,3 0 0,1 3,0Z\" style=\"opacity: 1; stroke-width: 0px; fill: rgb(56, 166, 165); fill-opacity: 1;\"/><path class=\"point\" transform=\"translate(85.11,455.43)\" d=\"M3,0A3,3 0 1,1 0,-3A3,3 0 0,1 3,0Z\" style=\"opacity: 1; stroke-width: 0px; fill: rgb(56, 166, 165); fill-opacity: 1;\"/><path class=\"point\" transform=\"translate(85.11,455.43)\" d=\"M3,0A3,3 0 1,1 0,-3A3,3 0 0,1 3,0Z\" style=\"opacity: 1; stroke-width: 0px; fill: rgb(56, 166, 165); fill-opacity: 1;\"/><path class=\"point\" transform=\"translate(89.63,455.43)\" d=\"M3,0A3,3 0 1,1 0,-3A3,3 0 0,1 3,0Z\" style=\"opacity: 1; stroke-width: 0px; fill: rgb(56, 166, 165); fill-opacity: 1;\"/><path class=\"point\" transform=\"translate(89.63,455.43)\" d=\"M3,0A3,3 0 1,1 0,-3A3,3 0 0,1 3,0Z\" style=\"opacity: 1; stroke-width: 0px; fill: rgb(56, 166, 165); fill-opacity: 1;\"/><path class=\"point\" transform=\"translate(89.63,455.43)\" d=\"M3,0A3,3 0 1,1 0,-3A3,3 0 0,1 3,0Z\" style=\"opacity: 1; stroke-width: 0px; fill: rgb(56, 166, 165); fill-opacity: 1;\"/><path class=\"point\" transform=\"translate(89.63,455.43)\" d=\"M3,0A3,3 0 1,1 0,-3A3,3 0 0,1 3,0Z\" style=\"opacity: 1; stroke-width: 0px; fill: rgb(56, 166, 165); fill-opacity: 1;\"/><path class=\"point\" transform=\"translate(91.89,455.43)\" d=\"M3,0A3,3 0 1,1 0,-3A3,3 0 0,1 3,0Z\" style=\"opacity: 1; stroke-width: 0px; fill: rgb(56, 166, 165); fill-opacity: 1;\"/><path class=\"point\" transform=\"translate(91.89,455.43)\" d=\"M3,0A3,3 0 1,1 0,-3A3,3 0 0,1 3,0Z\" style=\"opacity: 1; stroke-width: 0px; fill: rgb(56, 166, 165); fill-opacity: 1;\"/><path class=\"point\" transform=\"translate(94.16,455.43)\" d=\"M3,0A3,3 0 1,1 0,-3A3,3 0 0,1 3,0Z\" style=\"opacity: 1; stroke-width: 0px; fill: rgb(56, 166, 165); fill-opacity: 1;\"/><path class=\"point\" transform=\"translate(96.42,455.43)\" d=\"M3,0A3,3 0 1,1 0,-3A3,3 0 0,1 3,0Z\" style=\"opacity: 1; stroke-width: 0px; fill: rgb(56, 166, 165); fill-opacity: 1;\"/><path class=\"point\" transform=\"translate(98.68,455.43)\" d=\"M3,0A3,3 0 1,1 0,-3A3,3 0 0,1 3,0Z\" style=\"opacity: 1; stroke-width: 0px; fill: rgb(56, 166, 165); fill-opacity: 1;\"/><path class=\"point\" transform=\"translate(98.68,455.43)\" d=\"M3,0A3,3 0 1,1 0,-3A3,3 0 0,1 3,0Z\" style=\"opacity: 1; stroke-width: 0px; fill: rgb(56, 166, 165); fill-opacity: 1;\"/><path class=\"point\" transform=\"translate(100.94,455.43)\" d=\"M3,0A3,3 0 1,1 0,-3A3,3 0 0,1 3,0Z\" style=\"opacity: 1; stroke-width: 0px; fill: rgb(56, 166, 165); fill-opacity: 1;\"/><path class=\"point\" transform=\"translate(100.94,455.43)\" d=\"M3,0A3,3 0 1,1 0,-3A3,3 0 0,1 3,0Z\" style=\"opacity: 1; stroke-width: 0px; fill: rgb(56, 166, 165); fill-opacity: 1;\"/><path class=\"point\" transform=\"translate(100.94,455.43)\" d=\"M3,0A3,3 0 1,1 0,-3A3,3 0 0,1 3,0Z\" style=\"opacity: 1; stroke-width: 0px; fill: rgb(56, 166, 165); fill-opacity: 1;\"/><path class=\"point\" transform=\"translate(103.21,455.43)\" d=\"M3,0A3,3 0 1,1 0,-3A3,3 0 0,1 3,0Z\" style=\"opacity: 1; stroke-width: 0px; fill: rgb(56, 166, 165); fill-opacity: 1;\"/><path class=\"point\" transform=\"translate(105.47,455.43)\" d=\"M3,0A3,3 0 1,1 0,-3A3,3 0 0,1 3,0Z\" style=\"opacity: 1; stroke-width: 0px; fill: rgb(56, 166, 165); fill-opacity: 1;\"/><path class=\"point\" transform=\"translate(109.99,455.43)\" d=\"M3,0A3,3 0 1,1 0,-3A3,3 0 0,1 3,0Z\" style=\"opacity: 1; stroke-width: 0px; fill: rgb(56, 166, 165); fill-opacity: 1;\"/><path class=\"point\" transform=\"translate(109.99,455.43)\" d=\"M3,0A3,3 0 1,1 0,-3A3,3 0 0,1 3,0Z\" style=\"opacity: 1; stroke-width: 0px; fill: rgb(56, 166, 165); fill-opacity: 1;\"/><path class=\"point\" transform=\"translate(116.78,455.43)\" d=\"M3,0A3,3 0 1,1 0,-3A3,3 0 0,1 3,0Z\" style=\"opacity: 1; stroke-width: 0px; fill: rgb(56, 166, 165); fill-opacity: 1;\"/><path class=\"point\" transform=\"translate(119.04,455.43)\" d=\"M3,0A3,3 0 1,1 0,-3A3,3 0 0,1 3,0Z\" style=\"opacity: 1; stroke-width: 0px; fill: rgb(56, 166, 165); fill-opacity: 1;\"/><path class=\"point\" transform=\"translate(123.57,455.43)\" d=\"M3,0A3,3 0 1,1 0,-3A3,3 0 0,1 3,0Z\" style=\"opacity: 1; stroke-width: 0px; fill: rgb(56, 166, 165); fill-opacity: 1;\"/><path class=\"point\" transform=\"translate(130.35,455.43)\" d=\"M3,0A3,3 0 1,1 0,-3A3,3 0 0,1 3,0Z\" style=\"opacity: 1; stroke-width: 0px; fill: rgb(56, 166, 165); fill-opacity: 1;\"/><path class=\"point\" transform=\"translate(146.19,455.43)\" d=\"M3,0A3,3 0 1,1 0,-3A3,3 0 0,1 3,0Z\" style=\"opacity: 1; stroke-width: 0px; fill: rgb(56, 166, 165); fill-opacity: 1;\"/></g><g class=\"points\"><path class=\"point\" transform=\"translate(73.8,316.93)\" d=\"M3,0A3,3 0 1,1 0,-3A3,3 0 0,1 3,0Z\" style=\"opacity: 1; stroke-width: 0px; fill: rgb(56, 166, 165); fill-opacity: 1;\"/><path class=\"point\" transform=\"translate(73.8,316.93)\" d=\"M3,0A3,3 0 1,1 0,-3A3,3 0 0,1 3,0Z\" style=\"opacity: 1; stroke-width: 0px; fill: rgb(56, 166, 165); fill-opacity: 1;\"/><path class=\"point\" transform=\"translate(78.32,316.93)\" d=\"M3,0A3,3 0 1,1 0,-3A3,3 0 0,1 3,0Z\" style=\"opacity: 1; stroke-width: 0px; fill: rgb(56, 166, 165); fill-opacity: 1;\"/><path class=\"point\" transform=\"translate(78.32,316.93)\" d=\"M3,0A3,3 0 1,1 0,-3A3,3 0 0,1 3,0Z\" style=\"opacity: 1; stroke-width: 0px; fill: rgb(56, 166, 165); fill-opacity: 1;\"/><path class=\"point\" transform=\"translate(82.84,316.93)\" d=\"M3,0A3,3 0 1,1 0,-3A3,3 0 0,1 3,0Z\" style=\"opacity: 1; stroke-width: 0px; fill: rgb(56, 166, 165); fill-opacity: 1;\"/><path class=\"point\" transform=\"translate(89.63,316.93)\" d=\"M3,0A3,3 0 1,1 0,-3A3,3 0 0,1 3,0Z\" style=\"opacity: 1; stroke-width: 0px; fill: rgb(56, 166, 165); fill-opacity: 1;\"/><path class=\"point\" transform=\"translate(94.16,316.93)\" d=\"M3,0A3,3 0 1,1 0,-3A3,3 0 0,1 3,0Z\" style=\"opacity: 1; stroke-width: 0px; fill: rgb(56, 166, 165); fill-opacity: 1;\"/><path class=\"point\" transform=\"translate(100.94,316.93)\" d=\"M3,0A3,3 0 1,1 0,-3A3,3 0 0,1 3,0Z\" style=\"opacity: 1; stroke-width: 0px; fill: rgb(56, 166, 165); fill-opacity: 1;\"/><path class=\"point\" transform=\"translate(128.09,316.93)\" d=\"M3,0A3,3 0 1,1 0,-3A3,3 0 0,1 3,0Z\" style=\"opacity: 1; stroke-width: 0px; fill: rgb(56, 166, 165); fill-opacity: 1;\"/><path class=\"point\" transform=\"translate(148.45,316.93)\" d=\"M3,0A3,3 0 1,1 0,-3A3,3 0 0,1 3,0Z\" style=\"opacity: 1; stroke-width: 0px; fill: rgb(56, 166, 165); fill-opacity: 1;\"/><path class=\"point\" transform=\"translate(182.39,316.93)\" d=\"M3,0A3,3 0 1,1 0,-3A3,3 0 0,1 3,0Z\" style=\"opacity: 1; stroke-width: 0px; fill: rgb(56, 166, 165); fill-opacity: 1;\"/></g><g class=\"points\"><path class=\"point\" transform=\"translate(78.32,178.43)\" d=\"M3,0A3,3 0 1,1 0,-3A3,3 0 0,1 3,0Z\" style=\"opacity: 1; stroke-width: 0px; fill: rgb(56, 166, 165); fill-opacity: 1;\"/></g><g class=\"points\"><path class=\"point\" transform=\"translate(98.68,39.93)\" d=\"M3,0A3,3 0 1,1 0,-3A3,3 0 0,1 3,0Z\" style=\"opacity: 1; stroke-width: 0px; fill: rgb(56, 166, 165); fill-opacity: 1;\"/><path class=\"point\" transform=\"translate(100.94,39.93)\" d=\"M3,0A3,3 0 1,1 0,-3A3,3 0 0,1 3,0Z\" style=\"opacity: 1; stroke-width: 0px; fill: rgb(56, 166, 165); fill-opacity: 1;\"/><path class=\"point\" transform=\"translate(100.94,39.93)\" d=\"M3,0A3,3 0 1,1 0,-3A3,3 0 0,1 3,0Z\" style=\"opacity: 1; stroke-width: 0px; fill: rgb(56, 166, 165); fill-opacity: 1;\"/><path class=\"point\" transform=\"translate(103.21,39.93)\" d=\"M3,0A3,3 0 1,1 0,-3A3,3 0 0,1 3,0Z\" style=\"opacity: 1; stroke-width: 0px; fill: rgb(56, 166, 165); fill-opacity: 1;\"/><path class=\"point\" transform=\"translate(103.21,39.93)\" d=\"M3,0A3,3 0 1,1 0,-3A3,3 0 0,1 3,0Z\" style=\"opacity: 1; stroke-width: 0px; fill: rgb(56, 166, 165); fill-opacity: 1;\"/><path class=\"point\" transform=\"translate(109.99,39.93)\" d=\"M3,0A3,3 0 1,1 0,-3A3,3 0 0,1 3,0Z\" style=\"opacity: 1; stroke-width: 0px; fill: rgb(56, 166, 165); fill-opacity: 1;\"/><path class=\"point\" transform=\"translate(109.99,39.93)\" d=\"M3,0A3,3 0 1,1 0,-3A3,3 0 0,1 3,0Z\" style=\"opacity: 1; stroke-width: 0px; fill: rgb(56, 166, 165); fill-opacity: 1;\"/><path class=\"point\" transform=\"translate(112.25,39.93)\" d=\"M3,0A3,3 0 1,1 0,-3A3,3 0 0,1 3,0Z\" style=\"opacity: 1; stroke-width: 0px; fill: rgb(56, 166, 165); fill-opacity: 1;\"/><path class=\"point\" transform=\"translate(123.57,39.93)\" d=\"M3,0A3,3 0 1,1 0,-3A3,3 0 0,1 3,0Z\" style=\"opacity: 1; stroke-width: 0px; fill: rgb(56, 166, 165); fill-opacity: 1;\"/><path class=\"point\" transform=\"translate(134.88,39.93)\" d=\"M3,0A3,3 0 1,1 0,-3A3,3 0 0,1 3,0Z\" style=\"opacity: 1; stroke-width: 0px; fill: rgb(56, 166, 165); fill-opacity: 1;\"/><path class=\"point\" transform=\"translate(134.88,39.93)\" d=\"M3,0A3,3 0 1,1 0,-3A3,3 0 0,1 3,0Z\" style=\"opacity: 1; stroke-width: 0px; fill: rgb(56, 166, 165); fill-opacity: 1;\"/><path class=\"point\" transform=\"translate(137.14,39.93)\" d=\"M3,0A3,3 0 1,1 0,-3A3,3 0 0,1 3,0Z\" style=\"opacity: 1; stroke-width: 0px; fill: rgb(56, 166, 165); fill-opacity: 1;\"/><path class=\"point\" transform=\"translate(137.14,39.93)\" d=\"M3,0A3,3 0 1,1 0,-3A3,3 0 0,1 3,0Z\" style=\"opacity: 1; stroke-width: 0px; fill: rgb(56, 166, 165); fill-opacity: 1;\"/><path class=\"point\" transform=\"translate(209.53,39.93)\" d=\"M3,0A3,3 0 1,1 0,-3A3,3 0 0,1 3,0Z\" style=\"opacity: 1; stroke-width: 0px; fill: rgb(56, 166, 165); fill-opacity: 1;\"/><path class=\"point\" transform=\"translate(211.8,39.93)\" d=\"M3,0A3,3 0 1,1 0,-3A3,3 0 0,1 3,0Z\" style=\"opacity: 1; stroke-width: 0px; fill: rgb(56, 166, 165); fill-opacity: 1;\"/><path class=\"point\" transform=\"translate(333.96,39.93)\" d=\"M3,0A3,3 0 1,1 0,-3A3,3 0 0,1 3,0Z\" style=\"opacity: 1; stroke-width: 0px; fill: rgb(56, 166, 165); fill-opacity: 1;\"/><path class=\"point\" transform=\"translate(605.44,39.93)\" d=\"M3,0A3,3 0 1,1 0,-3A3,3 0 0,1 3,0Z\" style=\"opacity: 1; stroke-width: 0px; fill: rgb(56, 166, 165); fill-opacity: 1;\"/><path class=\"point\" transform=\"translate(763.8,39.93)\" d=\"M3,0A3,3 0 1,1 0,-3A3,3 0 0,1 3,0Z\" style=\"opacity: 1; stroke-width: 0px; fill: rgb(56, 166, 165); fill-opacity: 1;\"/></g><path class=\"mean\" d=\"M55.43,466.74V444.12\" style=\"fill: none; vector-effect: non-scaling-stroke; stroke-width: 2; stroke-dasharray: 4px, 2px; stroke: rgb(56, 166, 165); stroke-opacity: 1;\"/><path class=\"mean\" d=\"M53.62,328.24V305.62\" style=\"fill: none; vector-effect: non-scaling-stroke; stroke-width: 2; stroke-dasharray: 4px, 2px; stroke: rgb(56, 166, 165); stroke-opacity: 1;\"/><path class=\"mean\" d=\"M50.08,189.74V167.12\" style=\"fill: none; vector-effect: non-scaling-stroke; stroke-width: 2; stroke-dasharray: 4px, 2px; stroke: rgb(56, 166, 165); stroke-opacity: 1;\"/><path class=\"mean\" d=\"M70.09,51.24V28.62\" style=\"fill: none; vector-effect: non-scaling-stroke; stroke-width: 2; stroke-dasharray: 4px, 2px; stroke: rgb(56, 166, 165); stroke-opacity: 1;\"/></g></g></g></g><path class=\"xlines-above crisp\" d=\"M0,0\" style=\"fill: none;\"/><path class=\"ylines-above crisp\" d=\"M0,0\" style=\"fill: none;\"/><g class=\"overlines-above\"/><g class=\"xaxislayer-above\"><g class=\"xtick\"><text text-anchor=\"middle\" x=\"0\" y=\"633\" transform=\"translate(155.86,0)\" style=\"font-family: 'Open Sans', verdana, arial, sans-serif; font-size: 12px; fill: rgb(42, 63, 95); fill-opacity: 1; white-space: pre; opacity: 1;\">0</text></g><g class=\"xtick\"><text text-anchor=\"middle\" x=\"0\" y=\"633\" style=\"font-family: 'Open Sans', verdana, arial, sans-serif; font-size: 12px; fill: rgb(42, 63, 95); fill-opacity: 1; white-space: pre; opacity: 1;\" transform=\"translate(268.98,0)\">0.5M</text></g><g class=\"xtick\"><text text-anchor=\"middle\" x=\"0\" y=\"633\" style=\"font-family: 'Open Sans', verdana, arial, sans-serif; font-size: 12px; fill: rgb(42, 63, 95); fill-opacity: 1; white-space: pre; opacity: 1;\" transform=\"translate(382.09,0)\">1M</text></g><g class=\"xtick\"><text text-anchor=\"middle\" x=\"0\" y=\"633\" style=\"font-family: 'Open Sans', verdana, arial, sans-serif; font-size: 12px; fill: rgb(42, 63, 95); fill-opacity: 1; white-space: pre; opacity: 1;\" transform=\"translate(495.21,0)\">1.5M</text></g><g class=\"xtick\"><text text-anchor=\"middle\" x=\"0\" y=\"633\" style=\"font-family: 'Open Sans', verdana, arial, sans-serif; font-size: 12px; fill: rgb(42, 63, 95); fill-opacity: 1; white-space: pre; opacity: 1;\" transform=\"translate(608.3199999999999,0)\">2M</text></g><g class=\"xtick\"><text text-anchor=\"middle\" x=\"0\" y=\"633\" style=\"font-family: 'Open Sans', verdana, arial, sans-serif; font-size: 12px; fill: rgb(42, 63, 95); fill-opacity: 1; white-space: pre; opacity: 1;\" transform=\"translate(721.44,0)\">2.5M</text></g><g class=\"xtick\"><text text-anchor=\"middle\" x=\"0\" y=\"633\" style=\"font-family: 'Open Sans', verdana, arial, sans-serif; font-size: 12px; fill: rgb(42, 63, 95); fill-opacity: 1; white-space: pre; opacity: 1;\" transform=\"translate(834.55,0)\">3M</text></g></g><g class=\"yaxislayer-above\"><g class=\"ytick\"><text text-anchor=\"end\" x=\"115\" y=\"4.199999999999999\" transform=\"translate(0,547.75)\" style=\"font-family: 'Open Sans', verdana, arial, sans-serif; font-size: 12px; fill: rgb(42, 63, 95); fill-opacity: 1; white-space: pre; opacity: 1;\">Beginner</text></g><g class=\"ytick\"><text text-anchor=\"end\" x=\"115\" y=\"4.199999999999999\" transform=\"translate(0,409.25)\" style=\"font-family: 'Open Sans', verdana, arial, sans-serif; font-size: 12px; fill: rgb(42, 63, 95); fill-opacity: 1; white-space: pre; opacity: 1;\">Intermediate</text></g><g class=\"ytick\"><text text-anchor=\"end\" x=\"115\" y=\"4.199999999999999\" transform=\"translate(0,270.75)\" style=\"font-family: 'Open Sans', verdana, arial, sans-serif; font-size: 12px; fill: rgb(42, 63, 95); fill-opacity: 1; white-space: pre; opacity: 1;\">Advanced</text></g><g class=\"ytick\"><text text-anchor=\"end\" x=\"115\" y=\"4.199999999999999\" transform=\"translate(0,132.25)\" style=\"font-family: 'Open Sans', verdana, arial, sans-serif; font-size: 12px; fill: rgb(42, 63, 95); fill-opacity: 1; white-space: pre; opacity: 1;\">Mixed</text></g></g><g class=\"overaxes-above\"/></g></g><g class=\"polarlayer\"/><g class=\"smithlayer\"/><g class=\"ternarylayer\"/><g class=\"geolayer\"/><g class=\"funnelarealayer\"/><g class=\"pielayer\"/><g class=\"iciclelayer\"/><g class=\"treemaplayer\"/><g class=\"sunburstlayer\"/><g class=\"glimages\"/><defs id=\"topdefs-938baa\"><g class=\"clips\"/><clipPath id=\"legend938baa\"><rect width=\"515\" height=\"29\" x=\"0\" y=\"0\"/></clipPath></defs><g class=\"layer-above\"><g class=\"imagelayer\"/><g class=\"shapelayer\"/></g><g class=\"infolayer\"><g class=\"legend\" pointer-events=\"all\" transform=\"translate(405,19.79999999999999)\"><rect class=\"bg\" shape-rendering=\"crispEdges\" width=\"515\" height=\"29\" x=\"0\" y=\"0\" style=\"stroke: rgb(68, 68, 68); stroke-opacity: 1; fill: rgb(255, 255, 255); fill-opacity: 1; stroke-width: 0px;\"/><g class=\"scrollbox\" transform=\"\" clip-path=\"url(#legend938baa)\"><text class=\"legendtitletext\" text-anchor=\"start\" x=\"2\" y=\"18.2\" style=\"font-family: 'Open Sans', verdana, arial, sans-serif; font-size: 14px; fill: rgb(42, 63, 95); fill-opacity: 1; white-space: pre;\">Certificate type</text><g class=\"groups\" transform=\"\"><g class=\"traces\" transform=\"translate(117.5,14.5)\" style=\"opacity: 1;\"><text class=\"legendtext\" text-anchor=\"start\" x=\"40\" y=\"4.680000000000001\" style=\"font-family: 'Open Sans', verdana, arial, sans-serif; font-size: 12px; fill: rgb(42, 63, 95); fill-opacity: 1; white-space: pre;\">Professional Certificate</text><g class=\"layers\" style=\"opacity: 1;\"><g class=\"legendfill\"/><g class=\"legendlines\"/><g class=\"legendsymbols\"><g class=\"legendpoints\"><path class=\"legendbox\" d=\"M6,6H-6V-6H6Z\" transform=\"translate(20,0)\" style=\"stroke-width: 2px; fill: rgb(95, 70, 144); fill-opacity: 0.5; stroke: rgb(95, 70, 144); stroke-opacity: 1;\"/></g></g></g><rect class=\"legendtoggle\" x=\"0\" y=\"-9.5\" width=\"180.421875\" height=\"19\" style=\"fill: rgb(0, 0, 0); fill-opacity: 0;\"/></g></g><g class=\"groups\" transform=\"translate(182.921875,0)\"><g class=\"traces\" transform=\"translate(117.5,14.5)\" style=\"opacity: 1;\"><text class=\"legendtext\" text-anchor=\"start\" x=\"40\" y=\"4.680000000000001\" style=\"font-family: 'Open Sans', verdana, arial, sans-serif; font-size: 12px; fill: rgb(42, 63, 95); fill-opacity: 1; white-space: pre;\">Specialization</text><g class=\"layers\" style=\"opacity: 1;\"><g class=\"legendfill\"/><g class=\"legendlines\"/><g class=\"legendsymbols\"><g class=\"legendpoints\"><path class=\"legendbox\" d=\"M6,6H-6V-6H6Z\" transform=\"translate(20,0)\" style=\"stroke-width: 2px; fill: rgb(29, 105, 150); fill-opacity: 0.5; stroke: rgb(29, 105, 150); stroke-opacity: 1;\"/></g></g></g><rect class=\"legendtoggle\" x=\"0\" y=\"-9.5\" width=\"125.078125\" height=\"19\" style=\"fill: rgb(0, 0, 0); fill-opacity: 0;\"/></g></g><g class=\"groups\" transform=\"translate(310.5,0)\"><g class=\"traces\" transform=\"translate(117.5,14.5)\" style=\"opacity: 1;\"><text class=\"legendtext\" text-anchor=\"start\" x=\"40\" y=\"4.680000000000001\" style=\"font-family: 'Open Sans', verdana, arial, sans-serif; font-size: 12px; fill: rgb(42, 63, 95); fill-opacity: 1; white-space: pre;\">Course</text><g class=\"layers\" style=\"opacity: 1;\"><g class=\"legendfill\"/><g class=\"legendlines\"/><g class=\"legendsymbols\"><g class=\"legendpoints\"><path class=\"legendbox\" d=\"M6,6H-6V-6H6Z\" transform=\"translate(20,0)\" style=\"stroke-width: 2px; fill: rgb(56, 166, 165); fill-opacity: 0.5; stroke: rgb(56, 166, 165); stroke-opacity: 1;\"/></g></g></g><rect class=\"legendtoggle\" x=\"0\" y=\"-9.5\" width=\"84.28125\" height=\"19\" style=\"fill: rgb(0, 0, 0); fill-opacity: 0;\"/></g></g></g><rect class=\"scrollbar\" rx=\"20\" ry=\"3\" width=\"0\" height=\"0\" x=\"0\" y=\"0\" style=\"fill: rgb(128, 139, 164); fill-opacity: 1;\"/></g><g class=\"g-gtitle\"><text class=\"gtitle\" x=\"50\" y=\"30\" text-anchor=\"start\" dy=\"0em\" style=\"opacity: 1; font-family: 'Open Sans', verdana, arial, sans-serif; font-size: 17px; fill: rgb(42, 63, 95); fill-opacity: 1; white-space: pre;\">Distribution of students enrolled</text></g><g class=\"g-xtitle\"><text class=\"xtitle\" x=\"518\" y=\"660.3\" text-anchor=\"middle\" style=\"opacity: 1; font-family: 'Open Sans', verdana, arial, sans-serif; font-size: 14px; fill: rgb(42, 63, 95); fill-opacity: 1; white-space: pre;\">Students enrolled</text></g><g class=\"g-ytitle\"><text class=\"ytitle\" transform=\"rotate(-90,17.271874999999994,340)\" x=\"17.271874999999994\" y=\"340\" text-anchor=\"middle\" style=\"opacity: 1; font-family: 'Open Sans', verdana, arial, sans-serif; font-size: 14px; fill: rgb(42, 63, 95); fill-opacity: 1; white-space: pre;\">Difficulty</text></g></g></svg>"
      ]
     },
     "metadata": {},
     "output_type": "display_data"
    }
   ],
   "source": [
    "fig = px.box(\n",
    "    df, \n",
    "    y = \"course_difficulty\", \n",
    "    x=\"course_students_enrolled\", \n",
    "    color = \"course_Certificate_type\", \n",
    "    custom_data=[\"course_title\", \"course_rating\", \"course_organization\"], \n",
    "    width=1000, \n",
    "    height=700,\n",
    "    color_discrete_sequence=px.colors.qualitative.Prism\n",
    ")\n",
    "\n",
    "fig.update_layout(\n",
    "    title = \"Distribution of students enrolled\",\n",
    "    xaxis_title = \"Students enrolled\",\n",
    "    yaxis_title = \"Difficulty\",\n",
    "    legend_title = \"Certificate type\",\n",
    "    plot_bgcolor= \"white\",\n",
    "    hoverlabel=dict(\n",
    "        bgcolor=\"white\",\n",
    "        bordercolor = \"white\",\n",
    "        font=dict(\n",
    "            color=\"#494a5e\"\n",
    "        )\n",
    "    ),\n",
    "    legend=dict(\n",
    "        orientation=\"h\",\n",
    "        yanchor=\"bottom\",\n",
    "        y=1.02,\n",
    "        xanchor=\"right\",\n",
    "        x=1\n",
    "    )\n",
    ")  \n",
    "       \n",
    "fig.update_traces(\n",
    "    hovertemplate=\"Title: <b>%{customdata[0]}</b><br>\" +\n",
    "                  \"Students Enrolled: %{x:,.0f}<br>\" +\n",
    "                  \"Organization: %{customdata[2]}<br>\" +\n",
    "                  \"Rating: %{customdata[1]}<br>\",\n",
    "    boxmean=True\n",
    ")\n",
    "  \n",
    "fig.show()"
   ]
  },
  {
   "cell_type": "markdown",
   "metadata": {},
   "source": [
    "Can see that certain courses have really high enrolment numbers. To verify this is correct, I looked up their current status on Coursera. For example, [\"The Science Of Well-Being\"](https://www.coursera.org/learn/the-science-of-well-being#modules) mixed difficulty course has now above 4 million enrollments even. Thus, keeping it and cleanliness of the data so far these values seem to be correct. \n",
    "\n",
    "Since these values even if valid, are quite extreme it will affect the analysis. Due to that, I will analyze them separately from the main ones. For that, since this is not normal distributed data, I will use inner quartile range to identify and separate them. "
   ]
  },
  {
   "cell_type": "code",
   "execution_count": 528,
   "metadata": {},
   "outputs": [
    {
     "data": {
      "text/plain": [
       "(78, 6)"
      ]
     },
     "execution_count": 528,
     "metadata": {},
     "output_type": "execute_result"
    }
   ],
   "source": [
    "Q1 = df[\"course_students_enrolled\"].quantile(0.25)\n",
    "Q3 = df[\"course_students_enrolled\"].quantile(0.75)\n",
    "IQR = Q3 - Q1\n",
    "threshold = 1.5\n",
    "\n",
    "outliers_enrollment = df[(df[\"course_students_enrolled\"] < (Q1 - threshold * IQR)) | (df[\"course_students_enrolled\"] > (Q3 + threshold * IQR))]\n",
    "outliers_enrollment.shape"
   ]
  },
  {
   "cell_type": "markdown",
   "metadata": {},
   "source": [
    "##### Ratings"
   ]
  },
  {
   "cell_type": "code",
   "execution_count": 529,
   "metadata": {},
   "outputs": [
    {
     "data": {
      "application/vnd.plotly.v1+json": {
       "config": {
        "plotlyServerURL": "https://plot.ly"
       },
       "data": [
        {
         "alignmentgroup": "True",
         "boxmean": true,
         "customdata": [
          [
           "Ibm Data Science",
           480000,
           "Ibm"
          ],
          [
           "Google It Support",
           350000,
           "Google"
          ],
          [
           "Cloud Engineering With Google Cloud",
           310000,
           "Google Cloud"
          ],
          [
           "Ibm Applied Ai",
           220000,
           "Ibm"
          ],
          [
           "Data Engineering With Google Cloud",
           120000,
           "Google Cloud"
          ],
          [
           "Google It Automation With Python",
           93000,
           "Google"
          ],
          [
           "Ibm Ai Engineering",
           140000,
           "Ibm"
          ],
          [
           "Arizona State University Tesol",
           150000,
           "Arizona State University"
          ],
          [
           "Uci Project Management",
           44000,
           "University Of California, Irvine"
          ],
          [
           "Sas Programmer",
           370000,
           "Sas"
          ],
          [
           "Soporte De Tecnologías De La Información De Google",
           8800,
           "Crece Con Google"
          ],
          [
           "Sas Visual Business Analytics",
           2600,
           "Sas"
          ]
         ],
         "hovertemplate": "Title: <b>%{customdata[0]}</b><br>Students Enrolled: %{customdata[1]:,.0f}<br>Organization: %{customdata[2]}<br>Rating: %{x}<br>",
         "legendgroup": "Professional Certificate",
         "marker": {
          "color": "rgb(95, 70, 144)"
         },
         "name": "Professional Certificate",
         "notched": false,
         "offsetgroup": "Professional Certificate",
         "orientation": "h",
         "showlegend": true,
         "type": "box",
         "x": [
          4.6,
          4.8,
          4.7,
          4.6,
          4.6,
          4.7,
          4.6,
          4.9,
          4.6,
          4.8,
          4.9,
          4.6
         ],
         "x0": " ",
         "xaxis": "x",
         "y": [
          "Beginner",
          "Beginner",
          "Intermediate",
          "Beginner",
          "Intermediate",
          "Beginner",
          "Intermediate",
          "Beginner",
          "Beginner",
          "Beginner",
          "Beginner",
          "Beginner"
         ],
         "y0": " ",
         "yaxis": "y"
        },
        {
         "alignmentgroup": "True",
         "boxmean": true,
         "customdata": [
          [
           "Introduction To Data Science",
           310000,
           "Ibm"
          ],
          [
           "Python For Everybody",
           1500000,
           "University Of Michigan"
          ],
          [
           "Deep Learning",
           690000,
           "Deeplearning.Ai"
          ],
          [
           "Business Foundations",
           510000,
           "University Of Pennsylvania"
          ],
          [
           "Applied Data Science",
           220000,
           "Ibm"
          ],
          [
           "Architecting With Google Compute Engine",
           310000,
           "Google Cloud"
          ],
          [
           "Excel Skills For Business",
           240000,
           "Macquarie University"
          ],
          [
           "Data Science",
           830000,
           "Johns Hopkins University"
          ],
          [
           "Data Science: Foundations Using R",
           740000,
           "Johns Hopkins University"
          ],
          [
           "Finance & Quantitative Modeling For Analysts",
           260000,
           "University Of Pennsylvania"
          ],
          [
           "Business Analytics",
           280000,
           "University Of Pennsylvania"
          ],
          [
           "Developing Applications With Google Cloud Platform",
           300000,
           "Google Cloud"
          ],
          [
           "Security In Google Cloud Platform",
           300000,
           "Google Cloud"
          ],
          [
           "Networking In Google Cloud",
           290000,
           "Google Cloud"
          ],
          [
           "Business And Financial Modeling",
           160000,
           "University Of Pennsylvania"
          ],
          [
           "Data Engineering, Big Data, And Machine Learning On Gcp",
           120000,
           "Google Cloud"
          ],
          [
           "Applied Data Science With Python",
           480000,
           "University Of Michigan"
          ],
          [
           "Tensorflow In Practice",
           170000,
           "Deeplearning.Ai"
          ],
          [
           "Digital Marketing",
           380000,
           "University Of Illinois At Urbana-Champaign"
          ],
          [
           "Project Management Principles And Practices",
           230000,
           "University Of California, Irvine"
          ],
          [
           "Project Management & Other Tools For Career Development",
           440000,
           "University Of California, Irvine"
          ],
          [
           "Foundations Of Positive Psychology",
           89000,
           "University Of Pennsylvania"
          ],
          [
           "Entrepreneurship",
           110000,
           "University Of Pennsylvania"
          ],
          [
           "Ai For Medicine",
           13000,
           "Deeplearning.Ai"
          ],
          [
           "Improve Your English Communication Skills",
           610000,
           "Georgia Institute Of Technology"
          ],
          [
           "Excel To Mysql: Analytic Techniques For Business",
           490000,
           "Duke University"
          ],
          [
           "Data Analysis And Presentation Skills: The Pwc Approach",
           220000,
           "Pwc"
          ],
          [
           "Web Design For Everybody: Basics Of Web Development & Coding",
           280000,
           "University Of Michigan"
          ],
          [
           "Aws Fundamentals",
           130000,
           "Amazon Web Services"
          ],
          [
           "Career Success",
           790000,
           "University Of California, Irvine"
          ],
          [
           "Java Programming And Software Engineering Fundamentals",
           380000,
           "Duke University"
          ],
          [
           "Ui / Ux Design",
           68000,
           "California Institute Of The Arts"
          ],
          [
           "Construction Management",
           61000,
           "Columbia University"
          ],
          [
           "Social Media Marketing",
           130000,
           "Northwestern University"
          ],
          [
           "Supply Chain Management",
           82000,
           "Rutgers The State University Of New Jersey"
          ],
          [
           "Achieving Personal And Professional Success",
           110000,
           "University Of Pennsylvania"
          ],
          [
           "Human Resource Management: Hr For People Managers",
           98000,
           "University Of Minnesota"
          ],
          [
           "Digital Product Management",
           140000,
           "University Of Virginia"
          ],
          [
           "Mathematics For Machine Learning",
           150000,
           "Imperial College London"
          ],
          [
           "Ai Foundations For Everyone",
           61000,
           "Ibm"
          ],
          [
           "Creative Writing",
           140000,
           "Wesleyan University"
          ],
          [
           "Epidemiology In Public Health Practice",
           31000,
           "Johns Hopkins University"
          ],
          [
           "Leading People And Teams",
           220000,
           "University Of Michigan"
          ],
          [
           "Academic English: Writing",
           540000,
           "University Of California, Irvine"
          ],
          [
           "Software Product Management",
           110000,
           "University Of Alberta"
          ],
          [
           "The Business Of Health Care",
           22000,
           "University Of Pennsylvania"
          ],
          [
           "Fintech: Foundations & Applications Of Financial Technology",
           20000,
           "University Of Pennsylvania"
          ],
          [
           "Tesol Certificate, Part 1: Teach English Now!",
           100000,
           "Arizona State University"
          ],
          [
           "Data Visualization With Tableau",
           96000,
           "University Of California, Davis"
          ],
          [
           "Learn Sql Basics For Data Science",
           160000,
           "University Of California, Davis"
          ],
          [
           "Agile Development",
           94000,
           "University Of Virginia"
          ],
          [
           "Genomic Data Science",
           80000,
           "Johns Hopkins University"
          ],
          [
           "Algorithms",
           150000,
           "Stanford University"
          ],
          [
           "Geographic Information Systems  (Gis)",
           97000,
           "University Of California, Davis"
          ],
          [
           "Investment Management",
           99000,
           "University Of Geneva"
          ],
          [
           "The Diy Musician",
           120000,
           "Berklee College Of Music"
          ],
          [
           "Reinforcement Learning",
           23000,
           "University Of Alberta"
          ],
          [
           "Statistics With R",
           220000,
           "Duke University"
          ],
          [
           "Object Oriented Programming In Java",
           330000,
           "Duke University"
          ],
          [
           "Methods And Statistics In Social Sciences",
           260000,
           "University Of Amsterdam"
          ],
          [
           "Full-Stack Web Development With React",
           140000,
           "The Hong Kong University Of Science And Technology"
          ],
          [
           "Managing Innovation And Design Thinking",
           23000,
           "Hec Paris"
          ],
          [
           "Strategic Leadership And Management",
           100000,
           "University Of Illinois At Urbana-Champaign"
          ],
          [
           "Music Production",
           70000,
           "Berklee College Of Music"
          ],
          [
           "Cisco Networking Basics",
           57000,
           "Cisco"
          ],
          [
           "Business Statistics And Analysis",
           110000,
           "Rice University"
          ],
          [
           "The Business Of Music Production",
           84000,
           "Berklee College Of Music"
          ],
          [
           "It Fundamentals For Cybersecurity",
           35000,
           "Ibm"
          ],
          [
           "Advanced Machine Learning",
           190000,
           "National Research University Higher School Of Economics"
          ],
          [
           "Business Strategy",
           89000,
           "University Of Virginia"
          ],
          [
           "Photography Basics And Beyond: From Smartphone To Dslr",
           160000,
           "Michigan State University"
          ],
          [
           "Full Stack Web And Multiplatform Mobile App Development",
           150000,
           "The Hong Kong University Of Science And Technology"
          ],
          [
           "Learn Spanish: Basic Spanish Vocabulary",
           80000,
           "University Of California, Davis"
          ],
          [
           "G Suite Administration",
           10000,
           "Google Cloud"
          ],
          [
           "Organizational Leadership",
           92000,
           "Northwestern University"
          ],
          [
           "User Experience Research And Design",
           23000,
           "University Of Michigan"
          ],
          [
           "The Singer Songwriter",
           320000,
           "Berklee College Of Music"
          ],
          [
           "Anatomy",
           30000,
           "University Of Michigan"
          ],
          [
           "Intellectual Property Law",
           8700,
           "University Of Pennsylvania"
          ],
          [
           "Electronic Music Production",
           110000,
           "Berklee College Of Music"
          ],
          [
           "Excel/Vba For Creative Problem Solving",
           56000,
           "University Of Colorado Boulder"
          ],
          [
           "Machine Learning With Tensorflow On Google Cloud Platform",
           72000,
           "Google Cloud"
          ],
          [
           "Business Strategies For A Better World",
           24000,
           "University Of Pennsylvania"
          ],
          [
           "Statistics With Python",
           34000,
           "University Of Michigan"
          ],
          [
           "Interaction Design",
           150000,
           "University Of California San Diego"
          ],
          [
           "Fundamentals Of Immunology",
           20000,
           "Rice University"
          ],
          [
           "Biostatistics In Public Health",
           14000,
           "Johns Hopkins University"
          ],
          [
           "Машинное Обучение И Анализ Данных",
           77000,
           "E-Learning Development Fund"
          ],
          [
           "The Art Of Sales: Mastering The Selling Process",
           23000,
           "Northwestern University"
          ],
          [
           "(Isc)² Systems Security Certified Practitioner (Sscp)",
           5300,
           "(Isc)²"
          ],
          [
           "Executive Data Science",
           170000,
           "Johns Hopkins University"
          ],
          [
           "Marketing Mix Implementation",
           93000,
           "Ie Business School"
          ],
          [
           "Accelerated Computer Science Fundamentals",
           22000,
           "University Of Illinois At Urbana-Champaign"
          ],
          [
           "Blockchain Revolution",
           21000,
           "Insead"
          ],
          [
           "Futures Thinking",
           9400,
           "Institute For The Future"
          ],
          [
           "Investment Management With Python And Machine Learning",
           14000,
           "Edhec Business School"
          ],
          [
           "Data Science: Statistics And Machine Learning",
           210000,
           "Johns Hopkins University"
          ],
          [
           "Financial Management",
           76000,
           "University Of Illinois At Urbana-Champaign"
          ],
          [
           "Functional Programming In Scala",
           220000,
           "École Polytechnique Fédérale De Lausanne"
          ],
          [
           "An Introduction To Programming The Internet Of Things (Iot)",
           270000,
           "University Of California, Irvine"
          ],
          [
           "Self-Driving Cars",
           39000,
           "University Of Toronto"
          ],
          [
           "Learn Chinese: Hsk Test Preparation",
           43000,
           "Peking University"
          ],
          [
           "Искусство Разработки На Современном C++",
           68000,
           "E-Learning Development Fund"
          ],
          [
           "Advanced Data Science With Ibm",
           320000,
           "Ibm"
          ],
          [
           "Финансовые Инструменты Для Частного Инвестора",
           38000,
           "National Research University Higher School Of Economics"
          ],
          [
           "Fundamentals Of Computing",
           200000,
           "Rice University"
          ],
          [
           "Dynamic Public Speaking",
           110000,
           "University Of Washington"
          ],
          [
           "Six Sigma Green Belt",
           18000,
           "University System Of Georgia"
          ],
          [
           "Business English Communication Skills",
           120000,
           "University Of Washington"
          ],
          [
           "Statistical Analysis With R For Public Health",
           16000,
           "Imperial College London"
          ],
          [
           "Integrative Health And Medicine",
           14000,
           "University Of Minnesota"
          ],
          [
           "Learn English: Intermediate Grammar",
           120000,
           "University Of California, Irvine"
          ],
          [
           "Hotel Management: Distribution, Revenue And Demand Management",
           28000,
           "Essec Business School"
          ],
          [
           "Machine Learning For Trading",
           15000,
           "Google Cloud"
          ],
          [
           "Russian For Beginners А1. Русский Язык: A1",
           7000,
           "Saint Petersburg State University"
          ],
          [
           "Machine Learning",
           290000,
           "University Of Washington"
          ],
          [
           "Web Applications For Everybody",
           120000,
           "University Of Michigan"
          ],
          [
           "Introduction To Cyber Security",
           32000,
           "New York University"
          ],
          [
           "Inspired Leadership",
           97000,
           "Case Western Reserve University"
          ],
          [
           "Software Design And Architecture",
           60000,
           "University Of Alberta"
          ],
          [
           "Music Business",
           42000,
           "Berklee College Of Music"
          ],
          [
           "Introduction To Programming In C",
           82000,
           "Duke University"
          ],
          [
           "Investment And Portfolio Management",
           49000,
           "Rice University"
          ],
          [
           "Introduction To Discrete Mathematics For Computer Science",
           75000,
           "National Research University Higher School Of Economics"
          ],
          [
           "Claves De La Dirección De Empresas",
           51000,
           "Iese Business School"
          ],
          [
           "Strategic Management And Innovation",
           68000,
           "Copenhagen Business School"
          ],
          [
           "From Data To Insights With Google Cloud Platform",
           26000,
           "Google Cloud"
          ],
          [
           "Developing Your Musicianship",
           54000,
           "Berklee College Of Music"
          ],
          [
           "Game Design And Development",
           100000,
           "Michigan State University"
          ],
          [
           "Programming With Google Go",
           18000,
           "University Of California, Irvine"
          ],
          [
           "Foundations Of Management",
           64000,
           "Iese Business School"
          ],
          [
           "Marketing Strategy",
           57000,
           "Ie Business School"
          ],
          [
           "Pricing Strategy Optimization",
           20000,
           "Bcg"
          ],
          [
           "Tensorflow: Data And Deployment",
           12000,
           "Deeplearning.Ai"
          ],
          [
           "Inspirational Leadership: Leading With Sense",
           72000,
           "Hec Paris"
          ],
          [
           "Trading Strategies In Emerging Markets",
           68000,
           "Indian School Of Business"
          ],
          [
           "C# Programming For Unity Game Development",
           36000,
           "University Of Colorado System"
          ],
          [
           "Influencing: Storytelling, Change Management And Governance",
           22000,
           "Macquarie University"
          ],
          [
           "Negotiation, Mediation And Conflict Resolution",
           22000,
           "Essec Business School"
          ],
          [
           "Habilidades Gerenciales",
           43000,
           "Universidad Nacional Autónoma De México"
          ],
          [
           "Business Technology Management",
           67000,
           "Indian School Of Business"
          ],
          [
           "Tesol Certificate, Part 2: Teach English Now!",
           62000,
           "Arizona State University"
          ],
          [
           "Программирование На Python",
           52000,
           "Mail.Ru Group"
          ],
          [
           "Digital Manufacturing & Design Technology",
           37000,
           "University At Buffalo"
          ],
          [
           "Branding: The Creative Journey",
           26000,
           "Ie Business School"
          ],
          [
           "Digital Advertising Strategy",
           9000,
           "University Of Colorado Boulder"
          ],
          [
           "Algorithms For Battery Management Systems",
           14000,
           "University Of Colorado System"
          ],
          [
           "Health Informatics",
           8100,
           "Johns Hopkins University"
          ],
          [
           "U.S. Federal Taxation",
           12000,
           "University Of Illinois At Urbana-Champaign"
          ],
          [
           "Advanced Business Analytics",
           78000,
           "University Of Colorado Boulder"
          ],
          [
           "Culture-Driven Team Building",
           17000,
           "University Of Pennsylvania"
          ],
          [
           "Blockchain",
           68000,
           "University At Buffalo"
          ],
          [
           "Introduction To Computer Science And Programming",
           32000,
           "Goldsmiths, University Of London"
          ],
          [
           "Object Oriented Java Programming: Data Structures And Beyond",
           250000,
           "University Of California San Diego"
          ],
          [
           "Memoir And Personal Essay: Write About Yourself",
           13000,
           "Wesleyan University"
          ],
          [
           "Financial Markets And Investment Strategy",
           60000,
           "Indian School Of Business"
          ],
          [
           "Value Chain Management",
           63000,
           "University Of Illinois At Urbana-Champaign"
          ],
          [
           "Energy Production, Distribution & Safety",
           37000,
           "University At Buffalo"
          ],
          [
           "Learn English: Advanced Grammar And Punctuation",
           52000,
           "University Of California, Irvine"
          ],
          [
           "Content Strategy For Professionals",
           27000,
           "Northwestern University"
          ],
          [
           "Coaching Skills For Managers",
           37000,
           "University Of California, Davis"
          ],
          [
           "Gis, Mapping, And Spatial Analysis",
           140000,
           "University Of Toronto"
          ],
          [
           "Data Warehousing For Business Intelligence",
           140000,
           "University Of Colorado System"
          ],
          [
           "Responsive Website Development And Design",
           170000,
           "Goldsmiths, University Of London"
          ],
          [
           "Entrepreneurial Finance: Strategy And Innovation",
           7900,
           "Duke University"
          ],
          [
           "Introduction To Scripting In Python",
           49000,
           "Rice University"
          ],
          [
           "Become A Journalist: Report The News!",
           28000,
           "Michigan State University"
          ],
          [
           "Fundamentals Of Accounting",
           39000,
           "University Of Illinois At Urbana-Champaign"
          ],
          [
           "Modern Big Data Analysis With Sql",
           14000,
           "Cloudera"
          ],
          [
           "Virtual Teacher",
           23000,
           "University Of California, Irvine"
          ],
          [
           "Presentation Skills: Speechwriting, Slides And Delivery",
           47000,
           "E-Learning Development Fund"
          ],
          [
           "Patient Safety",
           8800,
           "Johns Hopkins University"
          ],
          [
           "Foundations Of Global Health",
           31000,
           "Johns Hopkins University"
          ],
          [
           "Robotics",
           120000,
           "University Of Pennsylvania"
          ],
          [
           "Practical Data Science With Matlab",
           10000,
           "Mathworks"
          ],
          [
           "Advanced Machine Learning With Tensorflow On Google Cloud Platform",
           35000,
           "Google Cloud"
          ],
          [
           "Marketing Digital",
           39000,
           "Universidad Austral"
          ],
          [
           "Modern Robotics:  Mechanics, Planning, And Control",
           21000,
           "Northwestern University"
          ],
          [
           "Medical Cannabis: The Health Effects Of Thc And Cbd",
           4800,
           "University Of Colorado Boulder"
          ],
          [
           "Foundational Finance For Strategic Decision Making",
           14000,
           "University Of Michigan"
          ],
          [
           "Developing Apis With Google Cloud'S Apigee Api Platform",
           16000,
           "Google Cloud"
          ],
          [
           "Newborn Baby Care",
           5300,
           "University Of Colorado System"
          ],
          [
           "Survey Data Collection And Analytics",
           45000,
           "University Of Maryland, College Park"
          ],
          [
           "Power Electronics",
           67000,
           "University Of Colorado Boulder"
          ],
          [
           "Cloud Computing",
           110000,
           "University Of Illinois At Urbana-Champaign"
          ],
          [
           "Machine Learning And Reinforcement Learning In Finance",
           29000,
           "New York University"
          ],
          [
           "Good With Words: Writing And Editing",
           3800,
           "University Of Michigan"
          ],
          [
           "Financial Technology (Fintech) Innovations",
           6500,
           "University Of Michigan"
          ],
          [
           "Learn Mandarin Chinese",
           39000,
           "Shanghai Jiao Tong University"
          ],
          [
           "Finanzas Corporativas",
           30000,
           "Universidad Nacional Autónoma De México"
          ],
          [
           "Marketing Con Redes Sociales",
           60000,
           "Tecnológico De Monterrey"
          ],
          [
           "School Health For Children And Adolescents",
           9100,
           "University Of Colorado System"
          ],
          [
           "Fundraising And Development",
           4900,
           "University Of California, Davis"
          ],
          [
           "Cybersecurity",
           99000,
           "University Of Maryland, College Park"
          ],
          [
           "Healthcare Law",
           1700,
           "University Of Pennsylvania"
          ],
          [
           "Market Research",
           22000,
           "University Of California, Davis"
          ],
          [
           "Swift 5 Ios Application Developer",
           3900,
           "Learnquest"
          ],
          [
           "Android App Development",
           120000,
           "Vanderbilt University"
          ],
          [
           "Computational Social Science",
           5800,
           "University Of California, Davis"
          ],
          [
           "Learn English: Advanced Academic Speaking And Listening",
           78000,
           "University Of California, Irvine"
          ],
          [
           "Infectious Disease Modelling",
           1600,
           "Imperial College London"
          ],
          [
           "Software Development Lifecycle",
           34000,
           "University Of Minnesota"
          ],
          [
           "Основы Digital Маркетинга",
           19000,
           "National Research University Higher School Of Economics"
          ],
          [
           "Virtual Reality",
           37000,
           "Goldsmiths, University Of London"
          ],
          [
           "Managerial Economics And Business Analysis",
           55000,
           "University Of Illinois At Urbana-Champaign"
          ],
          [
           "Open Source Software Development, Linux And Git",
           13000,
           "The Linux Foundation"
          ],
          [
           "Healthcare Marketplace",
           36000,
           "University Of Minnesota"
          ],
          [
           "Epidemiology For Public Health",
           6400,
           "Imperial College London"
          ],
          [
           "Supply Chain Finance And Blockchain Technology",
           4900,
           "New York Institute Of Finance"
          ],
          [
           "Leading: Human Resource Management And Leadership",
           16000,
           "Macquarie University"
          ],
          [
           "Data Mining",
           140000,
           "University Of Illinois At Urbana-Champaign"
          ],
          [
           "Essentials Of Corporate Finance",
           54000,
           "The University Of Melbourne"
          ],
          [
           "Architecting With Google Cloud Platform 日本語版",
           4200,
           "Google Cloud"
          ],
          [
           "Conflict Management",
           66000,
           "University Of California, Irvine"
          ],
          [
           "Parallel, Concurrent, And Distributed Programming In Java",
           30000,
           "Rice University"
          ],
          [
           "International Business Essentials",
           22000,
           "University Of London"
          ],
          [
           "Climate Change And Health: From Science To Action",
           4800,
           "Yale University"
          ],
          [
           "The Teacher And Social And Emotional Learning (Sel)",
           5200,
           "University Of Colorado Boulder"
          ],
          [
           "Blockchain Revolution In Financial Services",
           1600,
           "Insead"
          ],
          [
           "Autodesk Cad/Cam/Cae For Mechanical Engineering",
           9200,
           "Autodesk"
          ],
          [
           "Optical Engineering",
           6200,
           "University Of Colorado Boulder"
          ],
          [
           "Competitive Strategy And Organization Design",
           350000,
           "Ludwig-Maximilians-Universität München (Lmu)"
          ],
          [
           "Mathematics For Data Science",
           12000,
           "National Research University Higher School Of Economics"
          ],
          [
           "Systems Biology And Biotechnology",
           48000,
           "Icahn School Of Medicine At Mount Sinai"
          ],
          [
           "Information​ ​Systems",
           16000,
           "University Of Minnesota"
          ],
          [
           "Искусство Ведения Бизнеса",
           14000,
           "Saint Petersburg State University"
          ],
          [
           "Cybersecurity For Business",
           23000,
           "University Of Colorado System"
          ],
          [
           "Big Data – Introducción Al Uso Práctico De Datos Masivos",
           8800,
           "Universitat Autònoma De Barcelona"
          ],
          [
           "Entrepreneurship: Launching An Innovative Business",
           69000,
           "University Of Maryland, College Park"
          ],
          [
           "Plant Bioinformatic Methods",
           83000,
           "University Of Toronto"
          ],
          [
           "Graphic Design Elements For Non-Designers",
           10000,
           "University Of Colorado Boulder"
          ],
          [
           "Foundations Of Public Health Practice",
           3200,
           "Imperial College London"
          ],
          [
           "Palo Alto Networks Cybersecurity",
           9100,
           "Palo Alto Networks"
          ],
          [
           "Fintech: Finance Industry Transformation And Regulation",
           13000,
           "The Hong Kong University Of Science And Technology"
          ],
          [
           "Information Visualization",
           10000,
           "New York University"
          ],
          [
           "Разработка Интерфейсов: Вёрстка И Javascript",
           30000,
           "E-Learning Development Fund"
          ],
          [
           "English For Research Publication Purposes",
           42000,
           "Moscow Institute Of Physics And Technology"
          ],
          [
           "Recommender Systems",
           29000,
           "University Of Minnesota"
          ],
          [
           "Implementación Del Marketing Mix",
           23000,
           "Ie Business School"
          ],
          [
           "Mastering Software Development In R",
           52000,
           "Johns Hopkins University"
          ],
          [
           "Foundations Of Marketing Analytics",
           27000,
           "Emory University"
          ],
          [
           "Ibm Ai Enterprise Workflow",
           3500,
           "Ibm"
          ],
          [
           "Architecting With Google Kubernetes Engine 日本語版",
           3900,
           "Google Cloud"
          ],
          [
           "Social Policy For Social Services & Health Practitioners",
           4200,
           "Columbia University"
          ],
          [
           "Interviewing And Resume Writing In English",
           66000,
           "University Of Maryland, College Park"
          ],
          [
           "Strategic Sales Management",
           9200,
           "Fundação Instituto De Administração"
          ],
          [
           "Healthcare Organization Operations",
           5500,
           "Rutgers The State University Of New Jersey"
          ],
          [
           "Sales Operations/Management",
           5600,
           "West Virginia University"
          ],
          [
           "Éxito Profesional",
           69000,
           "University Of California, Irvine"
          ],
          [
           "How To Start Your Own Business",
           34000,
           "Michigan State University"
          ],
          [
           "Business English",
           38000,
           "Arizona State University"
          ],
          [
           "User Interface Design",
           43000,
           "University Of Minnesota"
          ],
          [
           "International Marketing & Cross Industry Growth",
           26000,
           "Yonsei University"
          ],
          [
           "Unity Xr: How To Build Ar And Vr Apps",
           12000,
           "Unity"
          ],
          [
           "Computer Security And Systems Management",
           27000,
           "University Of Colorado System"
          ],
          [
           "Implementing Rpa With Cognitive Automation And Analytics",
           2200,
           "Automation Anywhere"
          ],
          [
           "Developing Applications With Google Cloud Platform 日本語版",
           4000,
           "Google Cloud"
          ],
          [
           "Strategic Business Analytics",
           60000,
           "Essec Business School"
          ],
          [
           "Leadership Development For Engineers",
           17000,
           "Rice University"
          ],
          [
           "Innovation: From Creativity To Entrepreneurship",
           25000,
           "University Of Illinois At Urbana-Champaign"
          ],
          [
           "Diseño Instruccional: Aprendizaje Activo Y Pedagogía Digital",
           4000,
           "Tecnológico De Monterrey"
          ],
          [
           "Data Engineering On Google Cloud Platform 日本語版",
           3000,
           "Google Cloud"
          ],
          [
           "Financial Reporting",
           12000,
           "University Of Illinois At Urbana-Champaign"
          ],
          [
           "Esports",
           1800,
           "University Of California, Irvine"
          ],
          [
           "Liderazgo Efectivo Para El Siglo Xxi",
           23000,
           "Universidad De Los Andes"
          ],
          [
           "Homeland Security And Cybersecurity",
           5500,
           "University Of Colorado System"
          ],
          [
           "Communication Skills For Engineers",
           15000,
           "Rice University"
          ],
          [
           "Globalization, Economic Growth And Stability",
           44000,
           "Ie Business School"
          ],
          [
           "Developing Industrial Internet Of Things",
           8000,
           "University Of Colorado Boulder"
          ],
          [
           "Корпоративные Финансы И Стоимость Компании",
           16000,
           "National Research University Higher School Of Economics"
          ],
          [
           "Emerging Technologies: From Smartphones To Iot To Big Data",
           17000,
           "Yonsei University"
          ],
          [
           "Health Information Literacy For Data Analytics",
           5400,
           "University Of California, Davis"
          ],
          [
           "Introdução Aos Princípios E Práticas Da Gestão De Projetos",
           4500,
           "Universidade De São Paulo"
          ],
          [
           "Fundamentos Empresariales",
           25000,
           "University Of Pennsylvania"
          ],
          [
           "Improving Leadership & Governance In Nonprofit Organizations",
           18000,
           "Luther College At The University Of Regina"
          ],
          [
           "L'Impact Investing, La Finance Qui Change Le Monde",
           6300,
           "Essec Business School"
          ],
          [
           "Analysing: Numeric And Digital Literacies",
           7900,
           "Macquarie University"
          ],
          [
           "Spacecraft Dynamics And Control",
           12000,
           "University Of Colorado Boulder"
          ],
          [
           "Palliative Care: It'S Not Just Hospice Anymore",
           3200,
           "University Of Colorado System"
          ],
          [
           "Ios App Development With Swift",
           76000,
           "University Of Toronto"
          ],
          [
           "Sales Training For High Performing Teams",
           16000,
           "Hubspot Academy"
          ],
          [
           "Learn English",
           22000,
           "Tsinghua University"
          ],
          [
           "Creatividad, Diseño E Innovación: Técnicas Y Herramientas",
           150000,
           "Arizona State University"
          ],
          [
           "Strategising: Management For Global Competitive Advantage",
           30000,
           "Macquarie University"
          ],
          [
           "Become A Sustainable Business Change Agent",
           4200,
           "University Of Colorado System"
          ],
          [
           "Data Analysis And Interpretation",
           100000,
           "Wesleyan University"
          ],
          [
           "Social Entrepreneurship",
           13000,
           "Copenhagen Business School"
          ],
          [
           "The Pronunciation Of American English",
           1700,
           "University Of California, Irvine"
          ],
          [
           "Secure Coding Practices",
           6400,
           "University Of California, Davis"
          ],
          [
           "Fundamentos Estratégicos Empresariales",
           56000,
           "Universidad Nacional Autónoma De México"
          ],
          [
           "Unity Certified Programmer Exam Preparation",
           6100,
           "Unity"
          ],
          [
           "Requirements Engineering: Secure Software  Specifications",
           7200,
           "University Of Colorado System"
          ],
          [
           "Русский Как Иностранный",
           9800,
           "Saint Petersburg State University"
          ],
          [
           "Evaluación Educativa",
           13000,
           "Universidad Nacional Autónoma De México"
          ],
          [
           "Autodesk Cad/Cam For Manufacturing",
           7300,
           "Autodesk"
          ],
          [
           "Understanding Modern Finance",
           11000,
           "American Institute Of Business And Economics"
          ],
          [
           "Aprende A Programar Con Python",
           6600,
           "Universidad Austral"
          ]
         ],
         "hovertemplate": "Title: <b>%{customdata[0]}</b><br>Students Enrolled: %{customdata[1]:,.0f}<br>Organization: %{customdata[2]}<br>Rating: %{x}<br>",
         "legendgroup": "Specialization",
         "marker": {
          "color": "rgb(29, 105, 150)"
         },
         "name": "Specialization",
         "notched": false,
         "offsetgroup": "Specialization",
         "orientation": "h",
         "showlegend": true,
         "type": "box",
         "x": [
          4.6,
          4.8,
          4.8,
          4.7,
          4.6,
          4.7,
          4.9,
          4.5,
          4.6,
          4.5,
          4.6,
          4.7,
          4.7,
          4.7,
          4.5,
          4.6,
          4.5,
          4.7,
          4.6,
          4.7,
          4.6,
          4.8,
          4.8,
          4.7,
          4.7,
          4.6,
          4.6,
          4.7,
          4.6,
          4.4,
          4.6,
          4.7,
          4.7,
          4.6,
          4.7,
          4.7,
          4.7,
          4.7,
          4.6,
          4.7,
          4.6,
          4.7,
          4.7,
          4.7,
          4.6,
          4.6,
          4.6,
          4.9,
          4.5,
          4.6,
          4.7,
          4.4,
          4.8,
          4.8,
          4.7,
          4.8,
          4.7,
          4.7,
          4.6,
          4.6,
          4.7,
          4.7,
          4.7,
          4.8,
          4.7,
          4.7,
          4.8,
          4.5,
          4.5,
          4.7,
          4.7,
          4.7,
          4.6,
          4.7,
          4.7,
          4.8,
          4.8,
          4.8,
          4.8,
          4.8,
          4.8,
          4.5,
          4.7,
          4.6,
          4.5,
          4.7,
          4.8,
          4.7,
          4.7,
          4.7,
          4.5,
          4.6,
          4.7,
          4.7,
          4.8,
          4.6,
          4.4,
          4.7,
          4.7,
          4.6,
          4.7,
          4.8,
          4.9,
          4.4,
          4.7,
          4.8,
          4.7,
          4.7,
          4.7,
          4.7,
          4.8,
          4.7,
          4.6,
          3.9,
          4.7,
          4.6,
          4.8,
          4.7,
          4.7,
          4.6,
          4.8,
          4.7,
          4.5,
          4.4,
          4.8,
          4.7,
          4.6,
          4.8,
          4.7,
          4.6,
          4.8,
          4.4,
          4.8,
          4.5,
          4.5,
          4.3,
          4.7,
          4.8,
          4.7,
          4.7,
          4.5,
          4.9,
          4.5,
          4.6,
          4.6,
          4.4,
          4.8,
          4.5,
          4.8,
          4.5,
          4.6,
          4.6,
          4.3,
          4.7,
          4.3,
          4.5,
          4.7,
          4.7,
          4.8,
          4.5,
          4.7,
          4.8,
          4.5,
          4.5,
          4.5,
          4.7,
          4.7,
          4.6,
          4.8,
          4.3,
          4.6,
          4.8,
          4.7,
          4.4,
          4.7,
          4.5,
          4.7,
          4.7,
          4.8,
          4.8,
          4.6,
          4.8,
          4.3,
          4.8,
          4.4,
          3.7,
          4.6,
          4.7,
          4.8,
          4.6,
          4.4,
          4.8,
          4.6,
          4.5,
          4.7,
          4.5,
          4.5,
          4.5,
          4.6,
          4.5,
          5,
          4.6,
          4.5,
          4.7,
          4.7,
          4.4,
          4.4,
          4.7,
          4.6,
          4.8,
          4.4,
          4.6,
          4.5,
          4.3,
          4.5,
          4.5,
          4.6,
          4.7,
          4.6,
          4.8,
          4.2,
          4.7,
          4.5,
          4.4,
          4.7,
          4.6,
          4.6,
          4.5,
          4.6,
          4.7,
          4.7,
          4.8,
          4.6,
          4.6,
          4.6,
          4.5,
          4.6,
          4.3,
          4.7,
          4.3,
          4.2,
          4.4,
          4.5,
          4.8,
          4.6,
          4.5,
          4.6,
          4.4,
          4.5,
          4.1,
          4.7,
          4.6,
          4.6,
          4.2,
          4.6,
          4.6,
          4.8,
          4.3,
          4.7,
          4.8,
          4.6,
          4.4,
          4.8,
          4.5,
          4.8,
          4.7,
          4.7,
          4.8,
          4.6,
          4.5,
          4.6,
          4.5,
          4.9,
          4.6,
          4.4,
          4.6,
          4.6,
          4.8,
          4.8,
          3.9,
          4.7,
          4.3,
          4.7,
          4.8,
          4.7,
          4.4,
          4.6,
          4.6,
          4.4,
          4.6,
          4.5,
          4.6,
          4.6,
          4.8,
          4.8,
          4.4,
          4.2
         ],
         "x0": " ",
         "xaxis": "x",
         "y": [
          "Beginner",
          "Beginner",
          "Intermediate",
          "Beginner",
          "Beginner",
          "Intermediate",
          "Beginner",
          "Beginner",
          "Beginner",
          "Beginner",
          "Beginner",
          "Intermediate",
          "Intermediate",
          "Intermediate",
          "Beginner",
          "Intermediate",
          "Intermediate",
          "Intermediate",
          "Beginner",
          "Beginner",
          "Beginner",
          "Beginner",
          "Beginner",
          "Intermediate",
          "Beginner",
          "Beginner",
          "Beginner",
          "Beginner",
          "Beginner",
          "Beginner",
          "Beginner",
          "Beginner",
          "Beginner",
          "Beginner",
          "Beginner",
          "Beginner",
          "Beginner",
          "Beginner",
          "Beginner",
          "Beginner",
          "Beginner",
          "Beginner",
          "Beginner",
          "Beginner",
          "Beginner",
          "Beginner",
          "Beginner",
          "Beginner",
          "Beginner",
          "Beginner",
          "Beginner",
          "Intermediate",
          "Intermediate",
          "Beginner",
          "Beginner",
          "Beginner",
          "Intermediate",
          "Beginner",
          "Beginner",
          "Beginner",
          "Intermediate",
          "Beginner",
          "Beginner",
          "Beginner",
          "Beginner",
          "Beginner",
          "Beginner",
          "Beginner",
          "Advanced",
          "Beginner",
          "Beginner",
          "Intermediate",
          "Beginner",
          "Beginner",
          "Intermediate",
          "Beginner",
          "Beginner",
          "Beginner",
          "Intermediate",
          "Intermediate",
          "Beginner",
          "Intermediate",
          "Beginner",
          "Beginner",
          "Intermediate",
          "Intermediate",
          "Beginner",
          "Intermediate",
          "Beginner",
          "Beginner",
          "Beginner",
          "Beginner",
          "Intermediate",
          "Beginner",
          "Beginner",
          "Beginner",
          "Intermediate",
          "Intermediate",
          "Intermediate",
          "Beginner",
          "Advanced",
          "Beginner",
          "Intermediate",
          "Advanced",
          "Beginner",
          "Beginner",
          "Beginner",
          "Intermediate",
          "Intermediate",
          "Beginner",
          "Beginner",
          "Intermediate",
          "Beginner",
          "Intermediate",
          "Beginner",
          "Intermediate",
          "Intermediate",
          "Beginner",
          "Intermediate",
          "Beginner",
          "Beginner",
          "Beginner",
          "Beginner",
          "Beginner",
          "Beginner",
          "Beginner",
          "Beginner",
          "Beginner",
          "Intermediate",
          "Intermediate",
          "Beginner",
          "Beginner",
          "Beginner",
          "Intermediate",
          "Beginner",
          "Beginner",
          "Beginner",
          "Beginner",
          "Beginner",
          "Beginner",
          "Beginner",
          "Beginner",
          "Intermediate",
          "Beginner",
          "Beginner",
          "Beginner",
          "Intermediate",
          "Beginner",
          "Intermediate",
          "Intermediate",
          "Beginner",
          "Intermediate",
          "Beginner",
          "Intermediate",
          "Beginner",
          "Beginner",
          "Intermediate",
          "Beginner",
          "Advanced",
          "Beginner",
          "Intermediate",
          "Beginner",
          "Advanced",
          "Beginner",
          "Intermediate",
          "Beginner",
          "Beginner",
          "Beginner",
          "Beginner",
          "Beginner",
          "Beginner",
          "Beginner",
          "Beginner",
          "Beginner",
          "Beginner",
          "Advanced",
          "Beginner",
          "Intermediate",
          "Beginner",
          "Beginner",
          "Intermediate",
          "Beginner",
          "Beginner",
          "Intermediate",
          "Intermediate",
          "Intermediate",
          "Beginner",
          "Beginner",
          "Beginner",
          "Intermediate",
          "Intermediate",
          "Beginner",
          "Beginner",
          "Intermediate",
          "Intermediate",
          "Beginner",
          "Beginner",
          "Beginner",
          "Beginner",
          "Intermediate",
          "Intermediate",
          "Intermediate",
          "Intermediate",
          "Beginner",
          "Beginner",
          "Beginner",
          "Beginner",
          "Beginner",
          "Intermediate",
          "Intermediate",
          "Intermediate",
          "Intermediate",
          "Intermediate",
          "Beginner",
          "Intermediate",
          "Intermediate",
          "Beginner",
          "Beginner",
          "Beginner",
          "Intermediate",
          "Advanced",
          "Intermediate",
          "Beginner",
          "Intermediate",
          "Beginner",
          "Beginner",
          "Beginner",
          "Beginner",
          "Beginner",
          "Beginner",
          "Beginner",
          "Beginner",
          "Beginner",
          "Beginner",
          "Beginner",
          "Intermediate",
          "Intermediate",
          "Intermediate",
          "Beginner",
          "Beginner",
          "Intermediate",
          "Advanced",
          "Beginner",
          "Beginner",
          "Intermediate",
          "Intermediate",
          "Beginner",
          "Beginner",
          "Beginner",
          "Beginner",
          "Intermediate",
          "Intermediate",
          "Beginner",
          "Beginner",
          "Beginner",
          "Beginner",
          "Intermediate",
          "Advanced",
          "Beginner",
          "Beginner",
          "Beginner",
          "Intermediate",
          "Intermediate",
          "Beginner",
          "Intermediate",
          "Beginner",
          "Beginner",
          "Intermediate",
          "Intermediate",
          "Beginner",
          "Beginner",
          "Intermediate",
          "Beginner",
          "Beginner",
          "Beginner",
          "Beginner",
          "Beginner",
          "Advanced",
          "Beginner",
          "Intermediate",
          "Beginner",
          "Beginner",
          "Beginner",
          "Intermediate",
          "Intermediate",
          "Beginner",
          "Beginner",
          "Beginner",
          "Intermediate",
          "Beginner",
          "Intermediate",
          "Beginner",
          "Intermediate",
          "Beginner",
          "Intermediate",
          "Intermediate",
          "Beginner"
         ],
         "y0": " ",
         "yaxis": "y"
        },
        {
         "alignmentgroup": "True",
         "boxmean": true,
         "customdata": [
          [
           "The Science Of Well-Being",
           2500000,
           "Yale University"
          ],
          [
           "Machine Learning",
           3200000,
           "Stanford University"
          ],
          [
           "Financial Markets",
           470000,
           "Yale University"
          ],
          [
           "Covid-19 Contact Tracing",
           220000,
           "Johns Hopkins University"
          ],
          [
           "Introduction To Psychology",
           270000,
           "Yale University"
          ],
          [
           "Psychological First Aid",
           190000,
           "Johns Hopkins University"
          ],
          [
           "Successful Negotiation: Essential Strategies And Skills",
           750000,
           "University Of Michigan"
          ],
          [
           "Technical Support Fundamentals",
           280000,
           "Google"
          ],
          [
           "Programming For Everybody (Getting Started With Python)",
           1300000,
           "University Of Michigan"
          ],
          [
           "Ai For Everyone",
           350000,
           "Deeplearning.Ai"
          ],
          [
           "Primeros Auxilios Psicológicos (Pap)",
           280000,
           "Universitat Autònoma De Barcelona"
          ],
          [
           "Neural Networks And Deep Learning",
           630000,
           "Deeplearning.Ai"
          ],
          [
           "Stanford Introduction To Food And Health",
           370000,
           "Stanford University"
          ],
          [
           "Writing In The Sciences",
           140000,
           "Stanford University"
          ],
          [
           "Viral Marketing And How To Craft Contagious Content",
           150000,
           "University Of Pennsylvania"
          ],
          [
           "Brand Management: Aligning Business, Brand And Behaviour",
           57000,
           "London Business School"
          ],
          [
           "Management Of Fashion And Luxury Companies",
           120000,
           "Università Bocconi"
          ],
          [
           "Fundamentals Of Project Planning And Management",
           120000,
           "University Of Virginia"
          ],
          [
           "Social Psychology",
           220000,
           "Wesleyan University"
          ],
          [
           "Financial Accounting Fundamentals",
           65000,
           "University Of Virginia"
          ],
          [
           "What Is Data Science?",
           260000,
           "Ibm"
          ],
          [
           "Learning To Teach Online",
           68000,
           "Unsw Sydney (The University Of New South Wales)"
          ],
          [
           "Excel Skills For Business: Essentials",
           200000,
           "Macquarie University"
          ],
          [
           "Fashion As Design",
           180000,
           "The Museum Of Modern Art"
          ],
          [
           "Design Thinking For Innovation",
           240000,
           "University Of Virginia"
          ],
          [
           "Modern Art & Ideas",
           310000,
           "The Museum Of Modern Art"
          ],
          [
           "Food & Beverage Management",
           57000,
           "Università Bocconi"
          ],
          [
           "Become A Cbrs Certified Professional Installer By Google",
           210000,
           "Google - Spectrum Sharing"
          ],
          [
           "Camino A La Excelencia En Gestión De Proyectos",
           340000,
           "Pontificia Universidad Católica De Chile"
          ],
          [
           "Finding Purpose And Meaning In Life: Living For What Matters Most",
           36000,
           "University Of Michigan"
          ],
          [
           "Indigenous Canada",
           51000,
           "University Of Alberta"
          ],
          [
           "Python Data Structures",
           420000,
           "University Of Michigan"
          ],
          [
           "First Step Korean",
           400000,
           "Yonsei University"
          ],
          [
           "Private Equity And Venture Capital",
           79000,
           "Università Bocconi"
          ],
          [
           "Science Of Exercise",
           140000,
           "University Of Colorado Boulder"
          ],
          [
           "Improving Deep Neural Networks: Hyperparameter Tuning, Regularization And Optimization",
           270000,
           "Deeplearning.Ai"
          ],
          [
           "Ai For Medical Diagnosis",
           12000,
           "Deeplearning.Ai"
          ],
          [
           "The Bits And Bytes Of Computer Networking",
           130000,
           "Google"
          ],
          [
           "Introduction To Marketing",
           220000,
           "University Of Pennsylvania"
          ],
          [
           "The Strategy Of Content Marketing",
           100000,
           "University Of California, Davis"
          ],
          [
           "Design And Interpretation Of Clinical Trials",
           67000,
           "Johns Hopkins University"
          ],
          [
           "Game Theory",
           260000,
           "Stanford University"
          ],
          [
           "What Is Contemporary Art?",
           120000,
           "The Museum Of Modern Art"
          ],
          [
           "Tools For Data Science",
           120000,
           "Ibm"
          ],
          [
           "Python For Data Science And Ai",
           170000,
           "Ibm"
          ],
          [
           "Financial Engineering And Risk Management Part I",
           100000,
           "Columbia University"
          ],
          [
           "An Introduction To American Law",
           23000,
           "University Of Pennsylvania"
          ],
          [
           "Child Nutrition And Cooking",
           30000,
           "Stanford University"
          ],
          [
           "Fundamentals Of Graphic Design",
           290000,
           "California Institute Of The Arts"
          ],
          [
           "Fundamentals Of Quantitative Modeling",
           110000,
           "University Of Pennsylvania"
          ],
          [
           "Initiating And Planning Projects",
           180000,
           "University Of California, Irvine"
          ],
          [
           "Understanding Medical Research: Your Facebook Friend Is Wrong",
           24000,
           "Yale University"
          ],
          [
           "Forensic Accounting And Fraud Examination",
           42000,
           "West Virginia University"
          ],
          [
           "English For Career Development",
           760000,
           "University Of Pennsylvania"
          ],
          [
           "Moral Foundations Of Politics",
           100000,
           "Yale University"
          ],
          [
           "Crash Course On Python",
           81000,
           "Google"
          ],
          [
           "Vital Signs: Understanding What The Body Is Telling Us",
           190000,
           "University Of Pennsylvania"
          ],
          [
           "Introduction To Data Science In Python",
           390000,
           "University Of Michigan"
          ],
          [
           "Structuring Machine Learning Projects",
           220000,
           "Deeplearning.Ai"
          ],
          [
           "Étudier En France: French Intermediate Course B1-B2",
           190000,
           "École Polytechnique"
          ],
          [
           "Global Diplomacy – Diplomacy In The Modern World",
           79000,
           "Soas University Of London"
          ],
          [
           "International Women'S Health And Human Rights",
           35000,
           "Stanford University"
          ],
          [
           "Introduction To The Biology Of Cancer",
           110000,
           "Johns Hopkins University"
          ],
          [
           "Data Science Methodology",
           89000,
           "Ibm"
          ],
          [
           "Using Python To Access Web Data",
           310000,
           "University Of Michigan"
          ],
          [
           "Sports Marketing",
           12000,
           "Northwestern University"
          ],
          [
           "Animal Behaviour And Welfare",
           71000,
           "The University Of Edinburgh"
          ],
          [
           "Introduction To Financial Accounting",
           200000,
           "University Of Pennsylvania"
          ],
          [
           "Convolutional Neural Networks",
           240000,
           "Deeplearning.Ai"
          ],
          [
           "Autism Spectrum Disorder",
           56000,
           "University Of California, Davis"
          ],
          [
           "Agile With Atlassian Jira",
           40000,
           "Atlassian"
          ],
          [
           "Write Professional Emails In English",
           270000,
           "Georgia Institute Of Technology"
          ],
          [
           "Medical Neuroscience",
           170000,
           "Duke University"
          ],
          [
           "Positive Psychiatry And Mental Health",
           72000,
           "The University Of Sydney"
          ],
          [
           "Excel Skills For Business: Intermediate I",
           76000,
           "Macquarie University"
          ],
          [
           "Computational Thinking For Problem Solving",
           33000,
           "University Of Pennsylvania"
          ],
          [
           "Mathematics For Machine Learning: Linear Algebra",
           140000,
           "Imperial College London"
          ],
          [
           "English For Business And Entrepreneurship",
           230000,
           "University Of Pennsylvania"
          ],
          [
           "Google Cloud Platform Big Data And Machine Learning Fundamentals",
           120000,
           "Google Cloud"
          ],
          [
           "International Leadership And Organizational Behavior",
           41000,
           "Università Bocconi"
          ],
          [
           "Economics Of Money And Banking",
           83000,
           "Columbia University"
          ],
          [
           "Introduction To Tensorflow For Artificial Intelligence, Machine Learning, And Deep Learning",
           150000,
           "Deeplearning.Ai"
          ],
          [
           "Wine Tasting: Sensory Techniques For Wine Analysis",
           32000,
           "University Of California, Davis"
          ],
          [
           "Introduction To Philosophy",
           370000,
           "The University Of Edinburgh"
          ],
          [
           "Positive Psychology: Martin E. P. Seligman’S Visionary Science",
           50000,
           "University Of Pennsylvania"
          ],
          [
           "Marketing Digital",
           81000,
           "Universidade De São Paulo"
          ],
          [
           "The Data Scientist’S Toolbox",
           420000,
           "Johns Hopkins University"
          ],
          [
           "Entrepreneurship 1: Developing The Opportunity",
           86000,
           "University Of Pennsylvania"
          ],
          [
           "Understanding The Brain: The Neurobiology Of Everyday Life",
           130000,
           "The University Of Chicago"
          ],
          [
           "Introduction To Systematic Review And Meta-Analysis",
           67000,
           "Johns Hopkins University"
          ],
          [
           "Nutrición Y Obesidad: Control De Sobrepeso",
           100000,
           "Universidad Nacional Autónoma De México"
          ],
          [
           "Introduction To Dental Medicine",
           25000,
           "University Of Pennsylvania"
          ],
          [
           "Everyday Excel, Part 1",
           11000,
           "University Of Colorado Boulder"
          ],
          [
           "Finance For Non-Finance Professionals",
           69000,
           "Rice University"
          ],
          [
           "Learn To Program: The Fundamentals",
           180000,
           "University Of Toronto"
          ],
          [
           "Understanding Research Methods",
           120000,
           "Soas University Of London"
          ],
          [
           "Databases And Sql For Data Science",
           110000,
           "Ibm"
          ],
          [
           "Machine Learning For Business Professionals",
           58000,
           "Google Cloud"
          ],
          [
           "An Introduction To Consumer Neuroscience & Neuromarketing",
           69000,
           "Copenhagen Business School"
          ],
          [
           "Advanced Valuation And Strategy - M&A, Private Equity, And Venture Capital",
           29000,
           "Erasmus University Rotterdam"
          ],
          [
           "Gamification",
           110000,
           "University Of Pennsylvania"
          ],
          [
           "Behavioral Finance",
           55000,
           "Duke University"
          ],
          [
           "Introductory Human Physiology",
           270000,
           "Duke University"
          ],
          [
           "The Power Of Macroeconomics: Economic Principles In The Real World",
           180000,
           "University Of California, Irvine"
          ],
          [
           "The Global Financial Crisis",
           84000,
           "Yale University"
          ],
          [
           "Clinical Terminology For International And U.S. Students",
           32000,
           "University Of Pittsburgh"
          ],
          [
           "Data Analysis With Python",
           110000,
           "Ibm"
          ],
          [
           "Everyday Parenting: The Abcs Of Child Rearing",
           86000,
           "Yale University"
          ],
          [
           "Python Basics",
           110000,
           "University Of Michigan"
          ],
          [
           "International Law In Action: The Arbitration Of International Disputes",
           19000,
           "Universiteit Leiden"
          ],
          [
           "Aws Fundamentals: Going Cloud-Native",
           110000,
           "Amazon Web Services"
          ],
          [
           "The Manager'S Toolkit: A Practical Guide To Managing People At Work",
           47000,
           "Birkbeck, University Of London"
          ],
          [
           "Ai For Medical Prognosis",
           4000,
           "Deeplearning.Ai"
          ],
          [
           "Project Launch",
           190000,
           "University Of California, Irvine"
          ],
          [
           "Sequence Models",
           14000,
           "Deeplearning.Ai"
          ],
          [
           "Greek And Roman Mythology",
           260000,
           "University Of Pennsylvania"
          ],
          [
           "Construction Project Management",
           43000,
           "Columbia University"
          ],
          [
           "Positive Psychology",
           180000,
           "The University Of North Carolina At Chapel Hill"
          ],
          [
           "Terrorism And Counterterrorism: Comparing Theory And Practice",
           90000,
           "Universiteit Leiden"
          ],
          [
           "Contabilidad Para No Contadores",
           220000,
           "Universidad Nacional Autónoma De México"
          ],
          [
           "Corporate Sustainability. Understanding And Seizing The Strategic Opportunity",
           10000,
           "Università Bocconi"
          ],
          [
           "Anatomy Of The Chest, Abdomen, And Pelvis",
           36000,
           "Yale University"
          ],
          [
           "English For Journalism",
           130000,
           "University Of Pennsylvania"
          ],
          [
           "Site Reliability Engineering: Measuring And Managing Reliability",
           16000,
           "Google Cloud"
          ],
          [
           "Communication Strategies For A Virtual Age",
           43000,
           "University Of Toronto"
          ],
          [
           "Supply Chain Principles",
           29000,
           "Georgia Institute Of Technology"
          ],
          [
           "Introduction To Html5",
           220000,
           "University Of Michigan"
          ],
          [
           "Introduction To Programming With Matlab",
           270000,
           "Vanderbilt University"
          ],
          [
           "Marketing In A Digital World",
           310000,
           "University Of Illinois At Urbana-Champaign"
          ],
          [
           "Learn To Speak Korean 1",
           120000,
           "Yonsei University"
          ],
          [
           "Introduction To Sustainability",
           69000,
           "University Of Illinois At Urbana-Champaign"
          ],
          [
           "Essentials In Clinical Simulations Across The Health Professions",
           4100,
           "The George Washington University"
          ],
          [
           "Operating Systems And You: Becoming A Power User",
           76000,
           "Google"
          ],
          [
           "R Programming",
           480000,
           "Johns Hopkins University"
          ],
          [
           "In The Studio: Postwar Abstract Painting",
           79000,
           "The Museum Of Modern Art"
          ],
          [
           "Essentials Of Global Health",
           31000,
           "Yale University"
          ],
          [
           "Machine Learning With Python",
           120000,
           "Ibm"
          ],
          [
           "American Contract Law I",
           18000,
           "Yale University"
          ],
          [
           "Oil & Gas Industry Operations And Markets",
           57000,
           "Duke University"
          ],
          [
           "Arts And Heritage Management",
           15000,
           "Università Bocconi"
          ],
          [
           "Introducción A La Programación En Python I: Aprendiendo A Programar Con Python",
           100000,
           "Pontificia Universidad Católica De Chile"
          ],
          [
           "Supporting Children With Difficulties In Reading And Writing",
           50000,
           "Ucl Institute Of Education"
          ],
          [
           "Html, Css, And Javascript For Web Developers",
           240000,
           "Johns Hopkins University"
          ],
          [
           "Addiction Treatment: Clinical Skills For Healthcare Providers",
           9200,
           "Yale University"
          ],
          [
           "Réussir Le Changement",
           33000,
           "Essec Business School"
          ],
          [
           "Sql For Data Science",
           160000,
           "University Of California, Davis"
          ],
          [
           "Speak English Professionally: In Person, Online & On The Phone",
           430000,
           "Georgia Institute Of Technology"
          ],
          [
           "Introduction To Corporate Finance",
           130000,
           "University Of Pennsylvania"
          ],
          [
           "Introduction To Spreadsheets And Models",
           76000,
           "University Of Pennsylvania"
          ],
          [
           "Introduction To Mathematical Thinking",
           270000,
           "Stanford University"
          ],
          [
           "Negociación Exitosa: Estrategias Y Habilidades Esenciales (En Español)",
           95000,
           "University Of Michigan"
          ],
          [
           "Drug Discovery",
           39000,
           "University Of California San Diego"
          ],
          [
           "Instructional Design Foundations And Applications",
           12000,
           "University Of Illinois At Urbana-Champaign"
          ],
          [
           "International Organizations Management",
           20000,
           "University Of Geneva"
          ],
          [
           "Essential Google Cloud Infrastructure: Foundation",
           83000,
           "Google Cloud"
          ],
          [
           "Using Databases With Python",
           220000,
           "University Of Michigan"
          ],
          [
           "Epidemiology: The Basic Science Of Public Health",
           130000,
           "The University Of North Carolina At Chapel Hill"
          ],
          [
           "Understanding Clinical Research: Behind The Statistics",
           78000,
           "University Of Cape Town"
          ],
          [
           "Weight Management: Beyond Balancing Calories",
           34000,
           "Emory University"
          ],
          [
           "The Modern World, Part One: Global History From 1760 To 1910",
           130000,
           "University Of Virginia"
          ],
          [
           "Convolutional Neural Networks In Tensorflow",
           46000,
           "Deeplearning.Ai"
          ],
          [
           "E-Learning Ecologies: Innovative Approaches To Teaching And Learning For The Digital Age",
           17000,
           "University Of Illinois At Urbana-Champaign"
          ],
          [
           "The Sustainable Development Goals – A Global, Transdisciplinary Vision For The Future",
           26000,
           "University Of Copenhagen"
          ],
          [
           "People Analytics",
           84000,
           "University Of Pennsylvania"
          ],
          [
           "Programming Foundations With Javascript, Html And Css",
           250000,
           "Duke University"
          ],
          [
           "Innovation Management",
           40000,
           "Erasmus University Rotterdam"
          ],
          [
           "Greening The Economy: Sustainable Cities",
           56000,
           "Lund University"
          ],
          [
           "Creative Writing: The Craft Of Plot",
           120000,
           "Wesleyan University"
          ],
          [
           "Python And Statistics For Financial Analysis",
           41000,
           "The Hong Kong University Of Science And Technology"
          ],
          [
           "The Arts And Science Of Relationships: Understanding Human Needs",
           73000,
           "University Of Toronto"
          ],
          [
           "Data-Driven Decision Making",
           120000,
           "Pwc"
          ],
          [
           "Introduction To Forensic Science",
           47000,
           "Nanyang Technological University, Singapore"
          ],
          [
           "Divide And Conquer, Sorting And Searching, And Randomized Algorithms",
           130000,
           "Stanford University"
          ],
          [
           "What Is Social?",
           94000,
           "Northwestern University"
          ],
          [
           "Digital Product Management: Modern Fundamentals",
           58000,
           "University Of Virginia"
          ],
          [
           "Financing And Investing In Infrastructure",
           24000,
           "Università Bocconi"
          ],
          [
           "Data Management For Clinical Research",
           42000,
           "Vanderbilt University"
          ],
          [
           "Supply Chain Logistics",
           66000,
           "Rutgers The State University Of New Jersey"
          ],
          [
           "Grammar And Punctuation",
           430000,
           "University Of California, Irvine"
          ],
          [
           "Revisão Sistemática E Meta-Análise",
           17000,
           "Universidade Estadual De Campinas"
          ],
          [
           "Fundamentos De Finanzas Empresariales",
           110000,
           "Universidad De Los Andes"
          ],
          [
           "Preparing To Manage Human Resources",
           68000,
           "University Of Minnesota"
          ],
          [
           "Dog Emotion And Cognition",
           150000,
           "Duke University"
          ],
          [
           "Build A Modern Computer From First Principles: From Nand To Tetris (Project-Centered Course)",
           95000,
           "Hebrew University Of Jerusalem"
          ],
          [
           "Financial Acumen For Non-Financial Managers",
           10000,
           "University Of Pennsylvania"
          ],
          [
           "Devenir Entrepreneur Du Changement",
           54000,
           "Ticket For Change"
          ],
          [
           "Operations Analytics",
           80000,
           "University Of Pennsylvania"
          ],
          [
           "Data Science Math Skills",
           140000,
           "Duke University"
          ],
          [
           "Global Diplomacy: The United Nations In The World",
           29000,
           "Soas University Of London"
          ],
          [
           "System Administration And It Infrastructure Services",
           62000,
           "Google"
          ],
          [
           "International Humanitarian Law In Theory And Practice",
           22000,
           "Kalshoven-Gieskes Forum"
          ],
          [
           "Competencias Digitales. Herramientas De Ofimática (Microsoft Word, Excel, Power Point)",
           43000,
           "Universitat Autònoma De Barcelona"
          ],
          [
           "Ibm Customer Engagement Specialist Professional Certificate",
           3300,
           "Ibm"
          ],
          [
           "Business Model Innovation",
           13000,
           "Hec Paris"
          ],
          [
           "Getting Started With Google Sheets",
           18000,
           "Google Cloud"
          ],
          [
           "Introduction To Calculus",
           53000,
           "The University Of Sydney"
          ],
          [
           "A Law Student'S Toolkit",
           91000,
           "Yale University"
          ],
          [
           "Rethinking International Tax Law",
           36000,
           "Universiteit Leiden"
          ],
          [
           "Fundamentals Of Immunology: Innate Immunity And B-Cell Function",
           18000,
           "Rice University"
          ],
          [
           "Introduction To International Criminal Law",
           82000,
           "Case Western Reserve University"
          ],
          [
           "Excel/Vba For Creative Problem Solving, Part 1",
           54000,
           "University Of Colorado Boulder"
          ],
          [
           "Excel Skills For Business: Intermediate Ii",
           39000,
           "Macquarie University"
          ],
          [
           "Data Visualization With Python",
           66000,
           "Ibm"
          ],
          [
           "Introduction To Classical Music",
           150000,
           "Yale University"
          ],
          [
           "Getting Started With Google Kubernetes Engine",
           75000,
           "Google Cloud"
          ],
          [
           "Public Policy Challenges Of The 21St Century",
           52000,
           "University Of Virginia"
          ],
          [
           "Fundamentals Of Gis",
           86000,
           "University Of California, Davis"
          ],
          [
           "Introduction To Artificial Intelligence (Ai)",
           44000,
           "Ibm"
          ],
          [
           "Introduction To User Experience Design",
           87000,
           "Georgia Institute Of Technology"
          ],
          [
           "Healing With The Arts",
           39000,
           "University Of Florida"
          ],
          [
           "Design-Led Strategy: Design Thinking For Business Strategy And Entrepreneurship",
           19000,
           "The University Of Sydney"
          ],
          [
           "Natural Language Processing In Tensorflow",
           40000,
           "Deeplearning.Ai"
          ],
          [
           "Making Architecture",
           43000,
           "Ie School Of Architecture & Design"
          ],
          [
           "Troubles Du Spectre De L'Autisme : Diagnostic",
           5400,
           "University Of Geneva"
          ],
          [
           "Social Norms, Social Change I",
           78000,
           "University Of Pennsylvania"
          ],
          [
           "Fundamental Neuroscience For Neuroimaging",
           30000,
           "Johns Hopkins University"
          ],
          [
           "Fintech Law And Policy",
           9700,
           "Duke University"
          ],
          [
           "Inspiring And Motivating Individuals",
           85000,
           "University Of Michigan"
          ],
          [
           "Equine Welfare And Management",
           7200,
           "University Of California, Davis"
          ],
          [
           "Essential Google Cloud Infrastructure: Core Services",
           68000,
           "Google Cloud"
          ],
          [
           "International Security Management",
           2200,
           "Erasmus University Rotterdam"
          ],
          [
           "Continuous Delivery & Devops",
           26000,
           "University Of Virginia"
          ],
          [
           "Marketing Gerencial",
           49000,
           "Universidad De Chile"
          ],
          [
           "Covid-19: What You Need To Know (Cme Eligible)",
           32000,
           "Osmosis"
          ],
          [
           "Art & Ideas: Teaching With Themes",
           31000,
           "The Museum Of Modern Art"
          ],
          [
           "Fintech: Foundations, Payments, And Regulations",
           12000,
           "University Of Pennsylvania"
          ],
          [
           "Essential Epidemiologic Tools For Public Health Practice",
           14000,
           "Johns Hopkins University"
          ],
          [
           "Success",
           38000,
           "University Of Pennsylvania"
          ],
          [
           "Beyond The Sustainable Development Goals (Sdgs): Addressing Sustainability And Development",
           2300,
           "University Of Michigan"
          ],
          [
           "Corporate Finance Essentials",
           56000,
           "Iese Business School"
          ],
          [
           "The Addicted Brain",
           130000,
           "Emory University"
          ],
          [
           "Engineering Health: Introduction To Yoga And Physiology",
           14000,
           "New York University"
          ],
          [
           "Creative Problem Solving",
           140000,
           "University Of Minnesota"
          ],
          [
           "Microeconomics: The Power Of Markets",
           34000,
           "University Of Pennsylvania"
          ],
          [
           "Understanding And Visualizing Data With Python",
           30000,
           "University Of Michigan"
          ],
          [
           "Teamwork Skills: Communicating Effectively In Groups",
           49000,
           "University Of Colorado Boulder"
          ],
          [
           "Managerial Accounting Fundamentals",
           11000,
           "University Of Virginia"
          ],
          [
           "Introduction To Cybersecurity Tools & Cyber Attacks",
           30000,
           "Ibm"
          ],
          [
           "Mindshift: Break Through Obstacles To Learning And Discover Your Hidden Potential",
           230000,
           "Mcmaster University"
          ],
          [
           "Neurolinguistics",
           41000,
           "Saint Petersburg State University"
          ],
          [
           "Introduction To Probability And Data",
           160000,
           "Duke University"
          ],
          [
           "Fundamentals Of Reinforcement Learning",
           22000,
           "University Of Alberta"
          ],
          [
           "It Security: Defense Against The Digital Dark Arts",
           62000,
           "Google"
          ],
          [
           "Politics And Economics Of International Energy",
           34000,
           "Sciences Po"
          ],
          [
           "Business Transformation With Google Cloud",
           10000,
           "Google Cloud"
          ],
          [
           "Art & Activity: Interactive Strategies For Engaging With Art",
           79000,
           "The Museum Of Modern Art"
          ],
          [
           "More Introduction To Financial Accounting",
           40000,
           "University Of Pennsylvania"
          ],
          [
           "Agile Meets Design Thinking",
           69000,
           "University Of Virginia"
          ],
          [
           "Supply Chain Analytics",
           7900,
           "Rutgers The State University Of New Jersey"
          ],
          [
           "Budgeting And Scheduling Projects",
           84000,
           "University Of California, Irvine"
          ],
          [
           "Drug Commercialization",
           17000,
           "University Of California San Diego"
          ],
          [
           "Ai For Medical Treatment",
           2400,
           "Deeplearning.Ai"
          ],
          [
           "Microeconomics Principles",
           73000,
           "University Of Illinois At Urbana-Champaign"
          ],
          [
           "Dino 101: Dinosaur Paleobiology",
           35000,
           "University Of Alberta"
          ],
          [
           "Applied Plotting, Charting & Data Representation In Python",
           97000,
           "University Of Michigan"
          ],
          [
           "Bayesian Statistics: From Concept To Data Analysis",
           91000,
           "University Of California, Santa Cruz"
          ],
          [
           "Ecology: Ecosystem Dynamics And Conservation",
           18000,
           "American Museum Of Natural History"
          ],
          [
           "Introducción A Data Science: Programación Estadística Con R",
           140000,
           "Universidad Nacional Autónoma De México"
          ],
          [
           "Entrepreneurship 2: Launching Your Start-Up",
           38000,
           "University Of Pennsylvania"
          ],
          [
           "Introduction To Genetics And Evolution",
           74000,
           "Duke University"
          ],
          [
           "Understanding Einstein: The Special Theory Of Relativity",
           89000,
           "Stanford University"
          ],
          [
           "Front-End Web Ui Frameworks And Tools: Bootstrap 4",
           89000,
           "The Hong Kong University Of Science And Technology"
          ],
          [
           "Spanish Vocabulary: Meeting People",
           71000,
           "University Of California, Davis"
          ],
          [
           "Model Thinking",
           130000,
           "University Of Michigan"
          ],
          [
           "Social And Economic Networks:  Models And Analysis",
           42000,
           "Stanford University"
          ],
          [
           "The Art Of Music Production",
           47000,
           "Berklee College Of Music"
          ],
          [
           "Anatomy: Musculoskeletal And Integumentary Systems",
           20000,
           "University Of Michigan"
          ],
          [
           "Feminism And Social Justice",
           18000,
           "University Of California, Santa Cruz"
          ],
          [
           "Object-Oriented Data Structures In C++",
           21000,
           "University Of Illinois At Urbana-Champaign"
          ],
          [
           "Introduction To Environmental Law And Policy",
           34000,
           "The University Of North Carolina At Chapel Hill"
          ],
          [
           "Aprender",
           200000,
           "Universidad Nacional Autónoma De México"
          ],
          [
           "Anticorrupción: Introducción A Conceptos Y Perspectiva Práctica",
           11000,
           "Universidad Nacional Autónoma De México"
          ],
          [
           "Solar Energy Basics",
           17000,
           "The State University Of New York"
          ],
          [
           "L'Excellence Opérationnelle En Pratique",
           8000,
           "Essec Business School"
          ],
          [
           "Miracles Of Human Language: An Introduction To Linguistics",
           120000,
           "Universiteit Leiden"
          ],
          [
           "Java Programming: Solving Problems With Software",
           160000,
           "Duke University"
          ],
          [
           "De-Mystifying Mindfulness",
           150000,
           "Universiteit Leiden"
          ],
          [
           "Fundamentals Of Visualization With Tableau",
           81000,
           "University Of California, Davis"
          ],
          [
           "Design And Make Infographics (Project-Centered Course)",
           97000,
           "Michigan State University"
          ],
          [
           "Modernizing Data Lakes And Data Warehouses With Gcp",
           9100,
           "Google Cloud"
          ],
          [
           "The Science Of Training Young Athletes",
           13000,
           "University Of Florida"
          ],
          [
           "Cameras, Exposure, And Photography",
           130000,
           "Michigan State University"
          ],
          [
           "Epidemics - The Dynamics Of Infectious Diseases",
           45000,
           "The Pennsylvania State University"
          ],
          [
           "Mathematics For Machine Learning: Multivariate Calculus",
           51000,
           "Imperial College London"
          ],
          [
           "Transmedia Storytelling: Narrative Worlds, Emerging Technologies, And Global Audiences",
           45000,
           "Unsw Sydney (The University Of New South Wales)"
          ],
          [
           "Tricky American English Pronunciation",
           110000,
           "University Of California, Irvine"
          ],
          [
           "Renewable Energy And Green Building Entrepreneurship",
           24000,
           "Duke University"
          ],
          [
           "Introduction To Operations Management",
           87000,
           "University Of Pennsylvania"
          ],
          [
           "The Power Of Microeconomics: Economic Principles In The Real World",
           120000,
           "University Of California, Irvine"
          ],
          [
           "Nutrition And Lifestyle In Pregnancy",
           35000,
           "Ludwig-Maximilians-Universität München (Lmu)"
          ],
          [
           "Capstone: Retrieving, Processing, And Visualizing Data With Python",
           82000,
           "University Of Michigan"
          ],
          [
           "Getting Started With Sas Programming",
           22000,
           "Sas"
          ],
          [
           "Business Writing",
           48000,
           "University Of Colorado Boulder"
          ],
          [
           "Get Interactive: Practical Teaching With Technology",
           14000,
           "Bloomsbury Learning Exchange"
          ],
          [
           "Les Fondamentaux De La Négociation",
           10000,
           "Essec Business School"
          ],
          [
           "Introduction To Personal Branding",
           140000,
           "University Of Virginia"
          ],
          [
           "What Is Compliance?",
           6200,
           "University Of Pennsylvania"
          ],
          [
           "Costos Para Los Negocios",
           43000,
           "Universidad De Chile"
          ],
          [
           "Kotlin For Java Developers",
           37000,
           "Jetbrains"
          ],
          [
           "Introduction To Data Analysis Using Excel",
           99000,
           "Rice University"
          ],
          [
           "Information Security: Context And Introduction",
           32000,
           "Royal Holloway, University Of London"
          ],
          [
           "Mastering Data Analysis In Excel",
           280000,
           "Duke University"
          ],
          [
           "Aprendiendo A Aprender: Poderosas Herramientas Mentales Con Las Que Podrás Dominar Temas Difíciles (Learning How To Learn)",
           180000,
           "University Of California San Diego"
          ],
          [
           "Finanzas Personales",
           310000,
           "Universidad Nacional Autónoma De México"
          ],
          [
           "How Things Work: An Introduction To Physics",
           170000,
           "University Of Virginia"
          ],
          [
           "Python Functions, Files, And Dictionaries",
           26000,
           "University Of Michigan"
          ],
          [
           "Managing Project Risks And Changes",
           71000,
           "University Of California, Irvine"
          ],
          [
           "Introduction To Typography",
           72000,
           "California Institute Of The Arts"
          ],
          [
           "Managing Social And Human Capital",
           27000,
           "University Of Pennsylvania"
          ],
          [
           "Teach English Now! Foundational Principles",
           81000,
           "Arizona State University"
          ],
          [
           "Engineering Project Management: Initiating And Planning",
           23000,
           "Rice University"
          ],
          [
           "Algorithmic Toolbox",
           220000,
           "University Of California San Diego"
          ],
          [
           "Elastic Google Cloud Infrastructure: Scaling And Automation",
           57000,
           "Google Cloud"
          ],
          [
           "Biology Meets Programming: Bioinformatics For Beginners",
           88000,
           "University Of California San Diego"
          ],
          [
           "Customer Segmentation And Prospecting",
           18000,
           "Northwestern University"
          ],
          [
           "Geopolítica Y Gobernanza Global: Riesgos Y Oportunidades",
           34000,
           "Esade Business And Law School"
          ],
          [
           "Getting Started With Aws Machine Learning",
           73000,
           "Amazon Web Services"
          ],
          [
           "Epidemics, Pandemics And Outbreaks",
           23000,
           "University Of Pittsburgh"
          ],
          [
           "Industrial Iot On Google Cloud Platform",
           34000,
           "Google Cloud"
          ],
          [
           "Mastering Final Cut Pro",
           8400,
           "Learnquest"
          ],
          [
           "The Oral Cavity: Portal To Health And Disease",
           9400,
           "University Of Pennsylvania"
          ],
          [
           "Leadership In 21St Century Organizations",
           34000,
           "Copenhagen Business School"
          ],
          [
           "Global Environmental Management",
           22000,
           "Technical University Of Denmark (Dtu)"
          ],
          [
           "International Law In Action: A Guide To The International Courts And Tribunals In The Hague",
           36000,
           "Universiteit Leiden"
          ],
          [
           "Sports And Society",
           16000,
           "Duke University"
          ],
          [
           "Fundamentals Of Engineering Exam Review",
           49000,
           "Georgia Institute Of Technology"
          ],
          [
           "Sustainable Tourism – Promoting Environmental Public Health",
           9400,
           "University Of Copenhagen"
          ],
          [
           "Think Again I: How To Understand Arguments",
           200000,
           "Duke University"
          ],
          [
           "Machine Learning For All",
           19000,
           "University Of London"
          ],
          [
           "Julia Scientific Programming",
           22000,
           "University Of Cape Town"
          ],
          [
           "The Horse Course: Introduction To Basic Care And Management",
           29000,
           "University Of Florida"
          ],
          [
           "Summary Statistics In Public Health",
           11000,
           "Johns Hopkins University"
          ],
          [
           "Version Control With Git",
           40000,
           "Atlassian"
          ],
          [
           "Autodesk Certified Professional: Revit For Architectural Design Exam Prep",
           9700,
           "Autodesk"
          ],
          [
           "Excel Skills For Business: Advanced",
           39000,
           "Macquarie University"
          ],
          [
           "International Migrations: A Global Issue",
           11000,
           "Sciences Po"
          ],
          [
           "Introduction To Cloud Computing",
           2600,
           "Ibm"
          ],
          [
           "Ux Design Fundamentals",
           25000,
           "California Institute Of The Arts"
          ],
          [
           "Municipal Solid Waste Management In Developing Countries",
           59000,
           "École Polytechnique Fédérale De Lausanne"
          ],
          [
           "English For Science, Technology, Engineering, And Mathematics",
           110000,
           "University Of Pennsylvania"
          ],
          [
           "Democracia Y Decisiones Públicas. Introducción Al Análisis De Políticas Públicas",
           44000,
           "Universitat Autònoma De Barcelona"
          ],
          [
           "Songwriting: Writing The Lyrics",
           68000,
           "Berklee College Of Music"
          ],
          [
           "Bayesian Statistics: Techniques And Models",
           29000,
           "University Of California, Santa Cruz"
          ],
          [
           "Using Python To Interact With The Operating System",
           19000,
           "Google"
          ],
          [
           "Accounting Analytics",
           80000,
           "University Of Pennsylvania"
          ],
          [
           "Data Analytics For Lean Six Sigma",
           24000,
           "University Of Amsterdam"
          ],
          [
           "Positive Psychology: Applications And Interventions",
           23000,
           "University Of Pennsylvania"
          ],
          [
           "Introduction To Blockchain Technologies",
           16000,
           "Insead"
          ],
          [
           "Building Scalable Java Microservices With Spring Boot And Spring Cloud",
           24000,
           "Google Cloud"
          ],
          [
           "Access Controls",
           2900,
           "(Isc)²"
          ],
          [
           "English Composition I",
           200000,
           "Duke University"
          ],
          [
           "The Truth About Cats And Dogs",
           33000,
           "The University Of Edinburgh"
          ],
          [
           "Introduction To Portfolio Construction And Analysis With Python",
           11000,
           "Edhec Business School"
          ],
          [
           "Write A Feature Length Screenplay For Film Or Television",
           12000,
           "Michigan State University"
          ],
          [
           "Introduction To Breast Cancer",
           27000,
           "Yale University"
          ],
          [
           "Resilience In Children Exposed To Trauma, Disaster And War: Global Perspectives",
           15000,
           "University Of Minnesota"
          ],
          [
           "Entrepreneurship Strategy: From Ideation To Exit",
           20000,
           "Hec Paris"
          ],
          [
           "Driving Business Towards The Sustainable Development Goals",
           5600,
           "Erasmus University Rotterdam"
          ],
          [
           "Introduction To Web Development",
           76000,
           "University Of California, Davis"
          ],
          [
           "Process Mining: Data Science In Action",
           39000,
           "Eindhoven University Of Technology"
          ],
          [
           "Dermatology: Trip To Skin",
           8200,
           "Novosibirsk State University"
          ],
          [
           "Introduction To Engineering Mechanics",
           150000,
           "Georgia Institute Of Technology"
          ],
          [
           "Search Engine Optimization Fundamentals",
           47000,
           "University Of California, Davis"
          ],
          [
           "Applied Machine Learning In Python",
           150000,
           "University Of Michigan"
          ],
          [
           "Aws Fundamentals: Addressing Security Risk",
           11000,
           "Amazon Web Services"
          ],
          [
           "Roman Architecture",
           30000,
           "Yale University"
          ],
          [
           "Fundamentals Of Music Theory",
           180000,
           "The University Of Edinburgh"
          ],
          [
           "Reporting Extra-Financier Et Stratégie Rse",
           5200,
           "Essec Business School"
          ],
          [
           "A Life Of Happiness And Fulfillment",
           320000,
           "Indian School Of Business"
          ],
          [
           "Egiptología (Egyptology)",
           46000,
           "Universitat Autònoma De Barcelona"
          ],
          [
           "Applied Data Science Capstone",
           42000,
           "Ibm"
          ],
          [
           "Unraveling The Cycling City",
           3900,
           "University Of Amsterdam"
          ],
          [
           "Japanese For Beginners 1",
           4400,
           "Saint Petersburg State University"
          ],
          [
           "Econometrics: Methods And Applications",
           110000,
           "Erasmus University Rotterdam"
          ],
          [
           "Basic Statistics",
           180000,
           "University Of Amsterdam"
          ],
          [
           "Global Energy And Climate Policy",
           10000,
           "Soas University Of London"
          ],
          [
           "Boosting Creativity For Innovation",
           9500,
           "Hec Paris"
          ],
          [
           "Positive Psychology: Resilience Skills",
           40000,
           "University Of Pennsylvania"
          ],
          [
           "Systems Thinking In Public Health",
           33000,
           "Johns Hopkins University"
          ],
          [
           "Introduction To Embedded Systems Software And Development Environments",
           41000,
           "University Of Colorado Boulder"
          ],
          [
           "Gestión De Organizaciones Efectivas",
           47000,
           "Pontificia Universidad Católica De Chile"
          ],
          [
           "Arts And Culture Strategy",
           15000,
           "National Arts Strategies"
          ],
          [
           "Mountains 101",
           44000,
           "University Of Alberta"
          ],
          [
           "Building Batch Data Pipelines On Gcp",
           7300,
           "Google Cloud"
          ],
          [
           "Code Yourself! An Introduction To Programming",
           120000,
           "The University Of Edinburgh"
          ],
          [
           "Leading Healthcare Quality And Safety",
           16000,
           "The George Washington University"
          ],
          [
           "Stories Of Infection",
           28000,
           "Stanford University"
          ],
          [
           "Recruiting, Hiring, And Onboarding Employees",
           35000,
           "University Of Minnesota"
          ],
          [
           "Introduction To Trading, Machine Learning & Gcp",
           13000,
           "New York Institute Of Finance"
          ],
          [
           "Smart Cities – Management Of Smart Urban Infrastructures",
           22000,
           "École Polytechnique Fédérale De Lausanne"
          ],
          [
           "Adhd: Everyday Strategies For Elementary Students",
           39000,
           "University At Buffalo"
          ],
          [
           "C For Everyone: Programming Fundamentals",
           31000,
           "University Of California, Santa Cruz"
          ],
          [
           "Antibiotic Stewardship",
           11000,
           "Stanford University"
          ],
          [
           "Introduction To Css3",
           84000,
           "University Of Michigan"
          ],
          [
           "Perfect Tenses And Modals",
           79000,
           "University Of California, Irvine"
          ],
          [
           "The Technology Of Music Production",
           28000,
           "Berklee College Of Music"
          ],
          [
           "Internet Connection: How To Get Online?",
           36000,
           "Cisco"
          ],
          [
           "Periodismo Digital Y Combate A Las Fake News",
           8900,
           "Universidad Nacional Autónoma De México"
          ],
          [
           "Marketing Verde",
           58000,
           "Universidad De Los Andes"
          ],
          [
           "Building Conversational Experiences With Dialogflow",
           22000,
           "Google Cloud"
          ],
          [
           "The Modern World, Part Two: Global History Since 1910",
           47000,
           "University Of Virginia"
          ],
          [
           "Becoming A Changemaker: Introduction To Social Innovation",
           61000,
           "University Of Cape Town"
          ],
          [
           "Design Thinking For The Greater Good: Innovation In The Social Sector",
           17000,
           "University Of Virginia"
          ],
          [
           "Understanding Cancer Metastasis",
           29000,
           "Johns Hopkins University"
          ],
          [
           "The Social Context Of Mental Health And Illness",
           19000,
           "University Of Toronto"
          ],
          [
           "Cuidado De Heridas En El Ámbito Hospitalario",
           26000,
           "Universidad Nacional Autónoma De México"
          ],
          [
           "Stanford'S Short Course On Breastfeeding",
           17000,
           "Stanford University"
          ],
          [
           "Getting Started With Music Theory",
           59000,
           "Michigan State University"
          ],
          [
           "Probabilistic Graphical Models 1: Representation",
           68000,
           "Stanford University"
          ],
          [
           "Write Your First Novel",
           18000,
           "Michigan State University"
          ],
          [
           "Nanotechnology: A Maker’S Course",
           21000,
           "Duke University"
          ],
          [
           "Data Visualization And Communication With Tableau",
           130000,
           "Duke University"
          ],
          [
           "Biohacking Your Brain'S Health",
           35000,
           "Emory University"
          ],
          [
           "Bugs 101: Insect-Human Interactions",
           15000,
           "University Of Alberta"
          ],
          [
           "Introduction To Intellectual Property",
           6000,
           "University Of Pennsylvania"
          ],
          [
           "The Science Of Stem Cells",
           12000,
           "American Museum Of Natural History"
          ],
          [
           "Corrección, Estilo Y  Variaciones De La Lengua Española",
           75000,
           "Universitat Autònoma De Barcelona"
          ],
          [
           "Practical Time Series Analysis",
           39000,
           "The State University Of New York"
          ],
          [
           "Geopolitics Of Europe",
           19000,
           "Sciences Po"
          ],
          [
           "Sharpened Visions: A Poetry Workshop",
           61000,
           "California Institute Of The Arts"
          ],
          [
           "The Science Of Success: What Researchers Know That You Should Know",
           59000,
           "University Of Michigan"
          ],
          [
           "Discrete Optimization",
           40000,
           "The University Of Melbourne"
          ],
          [
           "From The Big Bang To Dark Energy",
           52000,
           "The University Of Tokyo"
          ],
          [
           "International Cyber Conflicts",
           25000,
           "The State University Of New York"
          ],
          [
           "Autodesk Certified Professional: Autocad For Design And Drafting Exam Prep",
           22000,
           "Autodesk"
          ],
          [
           "Основы Программирования На Python",
           83000,
           "National Research University Higher School Of Economics"
          ],
          [
           "Entrepreneurship 3: Growth Strategies",
           31000,
           "University Of Pennsylvania"
          ],
          [
           "Fundamentos De La Escritura",
           47000,
           "Tecnológico De Monterrey"
          ],
          [
           "Modeling Risk And Realities",
           36000,
           "University Of Pennsylvania"
          ],
          [
           "Ecosystem Services: A Method For Sustainable Development",
           16000,
           "University Of Geneva"
          ],
          [
           "Epigenetic Control Of Gene Expression",
           35000,
           "The University Of Melbourne"
          ],
          [
           "Gut Check: Exploring Your Microbiome",
           62000,
           "University Of California San Diego"
          ],
          [
           "Diseño Y Creación De Un Emprendimiento Social",
           21000,
           "Pontificia Universidad Católica De Chile"
          ],
          [
           "Security & Safety Challenges In A Globalized World",
           14000,
           "Universiteit Leiden"
          ],
          [
           "Introduction To Business Analytics: Communicating With Data",
           14000,
           "University Of Illinois At Urbana-Champaign"
          ],
          [
           "Corporate Strategy",
           7800,
           "Ucl School Of Management"
          ],
          [
           "Probability And Statistics: To P Or Not To P?",
           36000,
           "University Of London"
          ],
          [
           "The Hidden Value – Lean In Manufacturing And Services",
           14000,
           "École Des Ponts Paristech"
          ],
          [
           "Chemicals And Health",
           23000,
           "Johns Hopkins University"
          ],
          [
           "Blockchain: Foundations And Use Cases",
           31000,
           "Consensys Academy"
          ],
          [
           "Foundations Of Business Strategy",
           63000,
           "University Of Virginia"
          ],
          [
           "Introduction To Cyber Attacks",
           27000,
           "New York University"
          ],
          [
           "Fundamentos De Excel Para Negocios",
           150000,
           "Universidad Austral"
          ],
          [
           "Corporate & Commercial Law I: Contracts & Employment Law",
           10000,
           "University Of Illinois At Urbana-Champaign"
          ],
          [
           "Chicken Behaviour And Welfare",
           19000,
           "The University Of Edinburgh"
          ],
          [
           "Accounting For Decision Making",
           9900,
           "University Of Michigan"
          ],
          [
           "Construction Cost Estimating And Cost Control",
           19000,
           "Columbia University"
          ],
          [
           "Introduction To Self-Driving Cars",
           39000,
           "University Of Toronto"
          ],
          [
           "Cuidados Y Procedimientos Generales En La Atención Del Recién Nacido",
           22000,
           "Universidad De Chile"
          ],
          [
           "Project Execution",
           70000,
           "University Of California, Irvine"
          ],
          [
           "Programming Fundamentals",
           19000,
           "Duke University"
          ],
          [
           "Getting Started With Go",
           59000,
           "University Of California, Irvine"
          ],
          [
           "Introduction To Thermodynamics: Transferring Energy From Here To There",
           4100,
           "University Of Michigan"
          ],
          [
           "Challenging Forensic Science: How Science Should Speak To Court",
           31000,
           "University Of Lausanne"
          ],
          [
           "Chinese For Hsk 1",
           22000,
           "Peking University"
          ],
          [
           "Business English: Networking",
           77000,
           "University Of Washington"
          ],
          [
           "Global Trends For Business And Society",
           7600,
           "University Of Pennsylvania"
          ],
          [
           "A Crash Course In Causality:  Inferring Causal Effects From Observational Data",
           17000,
           "University Of Pennsylvania"
          ],
          [
           "Introduction To User Experience Principles And Processes",
           16000,
           "University Of Michigan"
          ],
          [
           "Introduction To Electronics",
           110000,
           "Georgia Institute Of Technology"
          ],
          [
           "Understanding Plants - Part I: What A Plant Knows",
           49000,
           "Tel Aviv University"
          ],
          [
           "Innovation Through Design: Think, Make, Break, Repeat",
           10000,
           "The University Of Sydney"
          ],
          [
           "Strategy And Sustainability",
           11000,
           "Iese Business School"
          ],
          [
           "Blended Language Learning: Design And Practice For Teachers",
           1900,
           "University Of Colorado Boulder"
          ],
          [
           "Astrobiology And The Search For Extraterrestrial Life",
           66000,
           "The University Of Edinburgh"
          ],
          [
           "Leading For Equity, Diversity And Inclusion In Higher Education",
           5900,
           "University Of Michigan"
          ],
          [
           "Developing Your Musicianship",
           41000,
           "Berklee College Of Music"
          ],
          [
           "Guitar For Beginners",
           210000,
           "Berklee College Of Music"
          ],
          [
           "Introduction To Systems Engineering",
           33000,
           "Unsw Sydney (The University Of New South Wales)"
          ],
          [
           "The Cycle: Management Of Successful Arts And Cultural Organizations",
           11000,
           "University Of Maryland, College Park"
          ],
          [
           "Supply Chain Operations",
           24000,
           "Rutgers The State University Of New Jersey"
          ],
          [
           "Global Financing Solutions  (By Edhec And Société Générale)",
           3600,
           "Edhec Business School"
          ],
          [
           "Intercultural Management",
           6500,
           "Escp Business School"
          ],
          [
           "Sample-Based Learning Methods",
           6800,
           "University Of Alberta"
          ],
          [
           "Dairy Production And Management",
           23000,
           "The Pennsylvania State University"
          ],
          [
           "Introduction To Statistics & Data Analysis In Public Health",
           12000,
           "Imperial College London"
          ],
          [
           "How To Create A Website In A Weekend! (Project-Centered Course)",
           140000,
           "The State University Of New York"
          ],
          [
           "The Changing Global Order",
           23000,
           "Universiteit Leiden"
          ],
          [
           "Love As A Force For Social Justice",
           14000,
           "Stanford University"
          ],
          [
           "Enterprise Architecture",
           2400,
           "Peter The Great St. Petersburg Polytechnic University"
          ],
          [
           "Ready, Set, Future! Introduction To Futures Thinking",
           7700,
           "Institute For The Future"
          ],
          [
           "Sexualidad...Mucho Más Que Sexo",
           110000,
           "Universidad De Los Andes"
          ],
          [
           "Effective Compliance Programs",
           3400,
           "University Of Pennsylvania"
          ],
          [
           "Introduction To Imagemaking",
           54000,
           "California Institute Of The Arts"
          ],
          [
           "Foundations Of Everyday Leadership",
           62000,
           "University Of Illinois At Urbana-Champaign"
          ],
          [
           "Becoming A Sports Agent",
           6500,
           "Case Western Reserve University"
          ],
          [
           "Cloud Computing Basics (Cloud 101)",
           37000,
           "Learnquest"
          ],
          [
           "Finance For Non-Financial Managers",
           12000,
           "Emory University"
          ],
          [
           "Introduction To Computer Programming",
           20000,
           "Goldsmiths, University Of London"
          ],
          [
           "Atención Primaria En Salud: El Desafío De Las Enfermedades No Transmisibles",
           33000,
           "Pontificia Universidad Católica De Chile"
          ],
          [
           "Data Collection And Processing With Python",
           19000,
           "University Of Michigan"
          ],
          [
           "Music Business Foundations",
           34000,
           "Berklee College Of Music"
          ],
          [
           "Hacia Una Práctica Constructivista En El Aula",
           62000,
           "Pontificia Universidad Católica De Chile"
          ],
          [
           "Wonders Of Ancient Egypt",
           17000,
           "University Of Pennsylvania"
          ],
          [
           "Teaching Character And Creating Positive Classrooms",
           53000,
           "Relay Graduate School Of Education"
          ],
          [
           "El Abogado Del Futuro: Legaltech Y La Transformación Digital Del Derecho",
           1500,
           "Universidad Austral"
          ],
          [
           "Functional Programming Principles In Scala",
           170000,
           "École Polytechnique Fédérale De Lausanne"
          ],
          [
           "Magic In The Middle Ages",
           78000,
           "Universitat De Barcelona"
          ],
          [
           "Six Sigma And The Organization (Advanced)",
           15000,
           "University System Of Georgia"
          ],
          [
           "Construction Scheduling",
           15000,
           "Columbia University"
          ],
          [
           "New Approaches To Countering Terror: Countering Violent Extremism",
           12000,
           "University Of Maryland, College Park"
          ],
          [
           "Managing Your Health: The Role Of Physical Therapy And Exercise",
           47000,
           "University Of Toronto"
          ],
          [
           "Ancient Philosophy: Aristotle And His Successors",
           8100,
           "University Of Pennsylvania"
          ],
          [
           "Antimicrobial Resistance - Theory And Methods",
           63000,
           "Technical University Of Denmark (Dtu)"
          ],
          [
           "Cómo Hablar Bien En Público",
           55000,
           "Universitat Autònoma De Barcelona"
          ],
          [
           "Strategic Management",
           58000,
           "Copenhagen Business School"
          ],
          [
           "Gender And Sexuality: Diversity And Inclusion In The Workplace",
           14000,
           "University Of Pittsburgh"
          ],
          [
           "Hardware Description Languages For Fpga Design",
           7400,
           "University Of Colorado Boulder"
          ],
          [
           "Data Visualization With Advanced Excel",
           60000,
           "Pwc"
          ],
          [
           "Influencer Marketing Strategy",
           12000,
           "Rutgers The State University Of New Jersey"
          ],
          [
           "Dentistry 101",
           4500,
           "University Of Michigan"
          ],
          [
           "Teach English Now! Teaching Language Online",
           8500,
           "Arizona State University"
          ],
          [
           "Preparing For The Google Cloud Associate Cloud Engineer Exam",
           22000,
           "Google Cloud"
          ],
          [
           "Patrocinio Deportivo",
           12000,
           "Universitat Autònoma De Barcelona"
          ],
          [
           "Математика И Python Для Анализа Данных",
           67000,
           "E-Learning Development Fund"
          ],
          [
           "Decision-Making And Scenarios",
           31000,
           "University Of Pennsylvania"
          ],
          [
           "Sleep: Neurobiology, Medicine, And Society",
           20000,
           "University Of Michigan"
          ],
          [
           "Control Of Mobile Robots",
           49000,
           "Georgia Institute Of Technology"
          ],
          [
           "Bim Fundamentals For Engineers",
           13000,
           "National Taiwan University"
          ],
          [
           "The Science Of Gastronomy",
           50000,
           "The Hong Kong University Of Science And Technology"
          ],
          [
           "Aboriginal Worldviews And Education",
           6600,
           "University Of Toronto"
          ],
          [
           "Curanderismo: Traditional Healing Using Plants",
           5500,
           "University Of New Mexico"
          ],
          [
           "Cybersecurity And Its Ten Domains",
           140000,
           "University System Of Georgia"
          ],
          [
           "Strategic Business Management - Microeconomics",
           9500,
           "University Of California, Irvine"
          ],
          [
           "Quantitative Methods",
           69000,
           "University Of Amsterdam"
          ],
          [
           "Building Your Leadership Skills",
           67000,
           "Hec Paris"
          ],
          [
           "Advertising And Society",
           14000,
           "Duke University"
          ],
          [
           "Queering Identities: Lgbtq+ Sexuality And Gender Identity",
           3000,
           "University Of Colorado System"
          ],
          [
           "Aws Fundamentals: Migrating To The Cloud",
           13000,
           "Amazon Web Services"
          ],
          [
           "What Future For Education?",
           35000,
           "Ucl Institute Of Education"
          ],
          [
           "Introduction To Ableton Live",
           60000,
           "Berklee College Of Music"
          ],
          [
           "Machine Learning Foundations: A Case Study Approach",
           240000,
           "University Of Washington"
          ],
          [
           "Emt Foundations",
           7100,
           "University Of Colorado System"
          ],
          [
           "Russian Alphabet",
           3200,
           "Saint Petersburg State University"
          ],
          [
           "Internet Giants: The Law And Economics Of Media Platforms",
           38000,
           "The University Of Chicago"
          ],
          [
           "Global Financial Markets And Instruments",
           37000,
           "Rice University"
          ],
          [
           "Instructional Methods In Health Professions Education",
           9700,
           "University Of Michigan"
          ],
          [
           "Actualización En El Manejo Del Paciente Con Diabetes Mellitus Tipo 2",
           23000,
           "Universidad Nacional Autónoma De México"
          ],
          [
           "Legal Tech & Startups",
           7200,
           "Ie Business School"
          ],
          [
           "Materials Science: 10 Things Every Engineer Should Know",
           48000,
           "University Of California, Davis"
          ],
          [
           "Основы Разработки На C++: Белый Пояс",
           41000,
           "E-Learning Development Fund"
          ],
          [
           "Networking And Security Architecture With Vmware Nsx",
           17000,
           "Vmware"
          ],
          [
           "Linear Circuits 1: Dc Analysis",
           29000,
           "Georgia Institute Of Technology"
          ],
          [
           "Introduction Aux Droits De L’Homme",
           46000,
           "University Of Geneva"
          ],
          [
           "High Performance Collaboration: Leadership, Teamwork, And Negotiation",
           46000,
           "Northwestern University"
          ],
          [
           "Agile И Scrum В Работе Над Проектами И Продуктами",
           12000,
           "Scrumtrek"
          ],
          [
           "Estadística Y Probabilidad",
           27000,
           "Universidad Nacional Autónoma De México"
          ],
          [
           "Classical Sociological Theory",
           51000,
           "University Of Amsterdam"
          ],
          [
           "Google Cloud Platform Fundamentals For Aws Professionals",
           36000,
           "Google Cloud"
          ],
          [
           "Introduction To Game Development",
           79000,
           "Michigan State University"
          ],
          [
           "Formulación Y Evaluación De Proyectos Complejos",
           4400,
           "Universidad De Los Andes"
          ],
          [
           "Digital Media And Marketing Strategies",
           57000,
           "University Of Illinois At Urbana-Champaign"
          ],
          [
           "Age Of Cathedrals",
           21000,
           "Yale University"
          ],
          [
           "Cost And Economics In Pricing Strategy",
           15000,
           "University Of Virginia"
          ],
          [
           "Digital Business Models",
           21000,
           "Lund University"
          ],
          [
           "Identifying, Monitoring, And Analyzing Risk And Incident Response And Recovery",
           1700,
           "(Isc)²"
          ],
          [
           "¿Qué Hacen Los Buenos Directivos? Prioridades De La Alta Dirección",
           25000,
           "Iese Business School"
          ],
          [
           "Software Processes And Agile Practices",
           60000,
           "University Of Alberta"
          ],
          [
           "Scaling Operations: Linking Strategy And Execution",
           12000,
           "Northwestern University"
          ],
          [
           "Aws Fundamentals: Building Serverless Applications",
           27000,
           "Amazon Web Services"
          ],
          [
           "Introduction To Big Data",
           160000,
           "University Of California San Diego"
          ],
          [
           "Front-End Web Development With React",
           45000,
           "The Hong Kong University Of Science And Technology"
          ],
          [
           "The Economics Of Health Care Delivery",
           7200,
           "University Of Pennsylvania"
          ],
          [
           "Introdução À Ciência Da Computação Com Python Parte 1",
           120000,
           "Universidade De São Paulo"
          ],
          [
           "Osteoarchaeology: The Truth In Our Bones",
           22000,
           "Universiteit Leiden"
          ],
          [
           "Python Classes And Inheritance",
           21000,
           "University Of Michigan"
          ],
          [
           "Electric Industry Operations And Markets",
           12000,
           "Duke University"
          ],
          [
           "Data And Health Indicators In Public Health Practice",
           18000,
           "Johns Hopkins University"
          ],
          [
           "Particle Physics: An Introduction",
           42000,
           "University Of Geneva"
          ],
          [
           "Mathematics For Machine Learning: Pca",
           33000,
           "Imperial College London"
          ],
          [
           "A Crash Course In Data Science",
           130000,
           "Johns Hopkins University"
          ],
          [
           "Research Data Management And Sharing",
           16000,
           "The University Of Edinburgh"
          ],
          [
           "Aspectos Básicos De La Planificación Y La Gestión De Proyectos",
           10000,
           "University Of Virginia"
          ],
          [
           "Introduction To Genomic Technologies",
           42000,
           "Johns Hopkins University"
          ],
          [
           "Introduction To Chemistry:  Reactions And Ratios",
           46000,
           "Duke University"
          ],
          [
           "Explorando La Energía Sustentable",
           28000,
           "Pontificia Universidad Católica De Chile"
          ],
          [
           "University Teaching",
           9500,
           "The University Of Hong Kong"
          ],
          [
           "Психолингвистика (Psycholinguistics)",
           21000,
           "Saint Petersburg State University"
          ],
          [
           "Building Resilient Streaming Analytics Systems On Gcp",
           5800,
           "Google Cloud"
          ],
          [
           "Object-Oriented Design",
           33000,
           "University Of Alberta"
          ],
          [
           "Погружение В Python",
           45000,
           "Moscow Institute Of Physics And Technology"
          ],
          [
           "Compassionate Leadership Through Service Learning With Jane Goodall And Roots & Shoots",
           6400,
           "University Of Colorado Boulder"
          ]
         ],
         "hovertemplate": "Title: <b>%{customdata[0]}</b><br>Students Enrolled: %{customdata[1]:,.0f}<br>Organization: %{customdata[2]}<br>Rating: %{x}<br>",
         "legendgroup": "Course",
         "marker": {
          "color": "rgb(56, 166, 165)"
         },
         "name": "Course",
         "notched": false,
         "offsetgroup": "Course",
         "orientation": "h",
         "showlegend": true,
         "type": "box",
         "x": [
          4.9,
          4.9,
          4.8,
          4.9,
          4.9,
          4.8,
          4.8,
          4.8,
          4.8,
          4.8,
          4.8,
          4.9,
          4.7,
          4.9,
          4.7,
          4.9,
          4.7,
          4.7,
          4.7,
          4.8,
          4.7,
          4.7,
          4.9,
          4.8,
          4.6,
          4.7,
          4.8,
          4.9,
          4.7,
          4.7,
          4.8,
          4.9,
          4.9,
          4.8,
          4.8,
          4.9,
          4.7,
          4.7,
          4.8,
          4.5,
          4.7,
          4.6,
          4.7,
          4.6,
          4.6,
          4.6,
          4.8,
          4.7,
          4.8,
          4.6,
          4.7,
          4.8,
          4.7,
          4.8,
          4.8,
          4.8,
          4.8,
          4.5,
          4.8,
          4.8,
          4.6,
          4.9,
          4.8,
          4.6,
          4.8,
          4.7,
          4.8,
          4.7,
          4.9,
          4.6,
          4.7,
          4.7,
          4.9,
          4.8,
          4.9,
          4.8,
          4.7,
          4.8,
          4.6,
          4.8,
          4.9,
          4.7,
          4.7,
          4.6,
          4.8,
          4.8,
          4.6,
          4.8,
          4.9,
          4.8,
          4.8,
          4.8,
          4.8,
          4.8,
          4.8,
          4.5,
          4.7,
          4.6,
          4.7,
          4.7,
          4.8,
          4.4,
          4.7,
          4.6,
          4.8,
          4.8,
          4.7,
          4.9,
          4.8,
          4.8,
          4.7,
          4.6,
          4.6,
          4.7,
          4.8,
          4.8,
          4.8,
          4.7,
          4.8,
          4.7,
          4.6,
          4.8,
          4.8,
          4.5,
          4.8,
          4.6,
          4.7,
          4.8,
          4.7,
          4.9,
          4.8,
          4.8,
          4.6,
          4.6,
          4.9,
          4.8,
          4.7,
          4.9,
          4.8,
          4.8,
          4.4,
          4.8,
          4.8,
          4.8,
          4.5,
          4.6,
          4.6,
          4.6,
          4.2,
          4.8,
          4.8,
          4.6,
          4.2,
          4.8,
          4.7,
          4.8,
          4.6,
          4.8,
          4.7,
          4.8,
          4.7,
          4.5,
          4.8,
          4.5,
          4.6,
          4.6,
          4.6,
          4.7,
          4.4,
          4.5,
          4.6,
          4.9,
          4.8,
          4.6,
          4.7,
          4.8,
          4.7,
          4.7,
          4.7,
          4.9,
          4.8,
          4.8,
          4.6,
          4.9,
          4.5,
          4.7,
          4.7,
          4.5,
          4.7,
          4.7,
          4.8,
          4.7,
          4.8,
          4.7,
          4.6,
          4.8,
          4.7,
          4.9,
          4.7,
          4.8,
          4.8,
          4.8,
          4.6,
          4.9,
          4.5,
          4.6,
          4.8,
          4.7,
          4.5,
          4.6,
          4.6,
          4.6,
          4.7,
          4.9,
          4.6,
          4.6,
          4.8,
          4.8,
          4.8,
          4.7,
          4.5,
          4.6,
          4.7,
          4.8,
          4.8,
          4.7,
          4.7,
          4.8,
          4.6,
          4.8,
          4.6,
          4.8,
          4.3,
          4.7,
          4.7,
          4.8,
          4.9,
          4.5,
          4.8,
          4.7,
          4.7,
          4.8,
          4.8,
          4.7,
          4.7,
          4.8,
          4.9,
          4.7,
          4.7,
          4.7,
          4.7,
          4.8,
          4.9,
          4.5,
          4.6,
          4.8,
          4.8,
          4.7,
          4.8,
          4.8,
          4.9,
          4.8,
          4.6,
          4.8,
          4.8,
          4.8,
          4.8,
          4.8,
          4.7,
          4.8,
          4.8,
          4.8,
          4.8,
          4.7,
          4.7,
          4.6,
          4.8,
          4.5,
          4.7,
          4.7,
          4.9,
          4.7,
          4.8,
          4.7,
          4.8,
          4.7,
          4.7,
          4.5,
          4.7,
          4.8,
          4.6,
          4.9,
          4.8,
          4.7,
          4.7,
          4.4,
          4.8,
          4.8,
          4.7,
          4.7,
          4.6,
          4.2,
          4.9,
          4.8,
          4.8,
          4.8,
          4.7,
          4.8,
          4.5,
          4.9,
          4.7,
          4.7,
          4.7,
          4.4,
          4.7,
          4.8,
          4.5,
          4.7,
          4.5,
          4.6,
          4.9,
          4.7,
          4.6,
          4.8,
          4.8,
          4.7,
          4.6,
          4.6,
          4.6,
          4.5,
          4.9,
          4.8,
          4.8,
          4.7,
          4.7,
          4.6,
          4.6,
          4.8,
          4.8,
          4.8,
          4.8,
          4.8,
          4.8,
          4.7,
          4.5,
          4.8,
          4.8,
          4.7,
          4.3,
          4.6,
          4.6,
          4.7,
          4.8,
          4.9,
          4.9,
          4.8,
          4.8,
          4.8,
          4.7,
          4.8,
          4.4,
          4.7,
          4.7,
          4.6,
          4.3,
          4.9,
          4.6,
          4.7,
          4.8,
          4.9,
          4.7,
          4.9,
          4.6,
          4.7,
          4.6,
          4.5,
          4.9,
          4.6,
          4.9,
          4.5,
          4.7,
          4.6,
          4.9,
          4.5,
          4.7,
          4.8,
          4.9,
          4.7,
          4,
          4.6,
          4.7,
          4.5,
          4.5,
          4.8,
          4.7,
          4.8,
          4.7,
          4.9,
          4.8,
          4.5,
          4.8,
          4.8,
          4.6,
          4.8,
          4.6,
          4.8,
          4.7,
          4.5,
          4.7,
          4.4,
          4.8,
          4.7,
          4.6,
          4.9,
          4.8,
          4.7,
          4.6,
          4.6,
          4.3,
          4.7,
          4.8,
          4.9,
          4.8,
          4.4,
          4.7,
          4.6,
          4.7,
          4.6,
          4.6,
          4.7,
          4.8,
          4.7,
          4.9,
          4.7,
          4.7,
          4.8,
          4.6,
          4.7,
          4.7,
          4.7,
          4.8,
          4.7,
          4.7,
          4.8,
          4.7,
          4.8,
          4.7,
          4.8,
          4.8,
          4.2,
          4.7,
          4.6,
          4.8,
          4.8,
          4.8,
          4.7,
          4.8,
          4.7,
          4.8,
          4.7,
          4.8,
          4.8,
          4.6,
          4.8,
          4.7,
          4.7,
          4.8,
          4.8,
          4.7,
          4.8,
          4.8,
          4.6,
          4.6,
          4.8,
          4.8,
          4.7,
          3.3,
          4.7,
          4.7,
          4.4,
          4.8,
          4.8,
          4.9,
          4.5,
          4.8,
          4.7,
          4.5,
          4.4,
          4.3,
          4.8,
          4.7,
          4.9,
          4.8,
          4.8,
          4.8,
          5,
          4.8,
          4.6,
          4.7,
          4.8,
          4.7,
          4.6,
          4.8,
          4.6,
          4.8,
          4.7,
          4.7,
          4.2,
          4.8,
          4.4,
          4.7,
          4.4,
          4.7,
          4.6,
          4.8,
          4.6,
          4.8,
          4.8,
          4.6,
          4.6,
          4.7,
          4.6,
          4.2,
          4.7,
          4.7,
          4.5,
          4.8,
          4.9,
          4.5,
          4.7,
          4.8,
          4.6,
          4.8,
          4.7,
          4.8,
          4.6,
          4.6,
          4.8,
          4.5,
          4.7,
          4.9,
          4.8,
          4.6,
          4.8,
          4.8,
          4.9,
          4.7,
          4.8,
          4.7,
          4.8,
          4.9,
          4.4,
          4.7,
          4.8,
          4.5,
          4.9,
          4.7,
          4.7,
          4.5,
          4.7,
          4.6,
          4.7,
          4.8,
          4.9,
          4.7,
          4.7,
          4.8,
          4.7,
          4.5,
          4,
          4.5,
          4.6,
          4.9,
          4.6,
          4.8,
          4.8,
          4.8,
          4.8,
          4.6,
          4.7,
          4.7,
          4.9
         ],
         "x0": " ",
         "xaxis": "x",
         "y": [
          "Mixed",
          "Mixed",
          "Beginner",
          "Beginner",
          "Beginner",
          "Mixed",
          "Mixed",
          "Beginner",
          "Mixed",
          "Beginner",
          "Mixed",
          "Intermediate",
          "Beginner",
          "Beginner",
          "Mixed",
          "Beginner",
          "Mixed",
          "Beginner",
          "Beginner",
          "Beginner",
          "Beginner",
          "Beginner",
          "Beginner",
          "Beginner",
          "Beginner",
          "Beginner",
          "Mixed",
          "Mixed",
          "Beginner",
          "Beginner",
          "Mixed",
          "Mixed",
          "Beginner",
          "Mixed",
          "Beginner",
          "Beginner",
          "Intermediate",
          "Beginner",
          "Mixed",
          "Intermediate",
          "Mixed",
          "Beginner",
          "Beginner",
          "Beginner",
          "Beginner",
          "Mixed",
          "Beginner",
          "Beginner",
          "Beginner",
          "Mixed",
          "Mixed",
          "Beginner",
          "Mixed",
          "Mixed",
          "Mixed",
          "Beginner",
          "Mixed",
          "Intermediate",
          "Beginner",
          "Intermediate",
          "Mixed",
          "Beginner",
          "Beginner",
          "Beginner",
          "Mixed",
          "Intermediate",
          "Mixed",
          "Mixed",
          "Intermediate",
          "Mixed",
          "Beginner",
          "Mixed",
          "Advanced",
          "Mixed",
          "Intermediate",
          "Beginner",
          "Beginner",
          "Beginner",
          "Intermediate",
          "Mixed",
          "Mixed",
          "Intermediate",
          "Beginner",
          "Mixed",
          "Beginner",
          "Beginner",
          "Mixed",
          "Mixed",
          "Beginner",
          "Mixed",
          "Beginner",
          "Beginner",
          "Beginner",
          "Beginner",
          "Beginner",
          "Mixed",
          "Beginner",
          "Intermediate",
          "Beginner",
          "Advanced",
          "Mixed",
          "Mixed",
          "Mixed",
          "Mixed",
          "Mixed",
          "Beginner",
          "Beginner",
          "Beginner",
          "Beginner",
          "Mixed",
          "Beginner",
          "Mixed",
          "Intermediate",
          "Beginner",
          "Intermediate",
          "Mixed",
          "Beginner",
          "Mixed",
          "Beginner",
          "Beginner",
          "Mixed",
          "Intermediate",
          "Mixed",
          "Advanced",
          "Beginner",
          "Mixed",
          "Mixed",
          "Beginner",
          "Beginner",
          "Beginner",
          "Mixed",
          "Intermediate",
          "Beginner",
          "Intermediate",
          "Beginner",
          "Mixed",
          "Intermediate",
          "Beginner",
          "Mixed",
          "Mixed",
          "Beginner",
          "Mixed",
          "Mixed",
          "Beginner",
          "Mixed",
          "Beginner",
          "Mixed",
          "Mixed",
          "Mixed",
          "Intermediate",
          "Mixed",
          "Beginner",
          "Mixed",
          "Beginner",
          "Intermediate",
          "Mixed",
          "Mixed",
          "Mixed",
          "Beginner",
          "Beginner",
          "Intermediate",
          "Mixed",
          "Beginner",
          "Mixed",
          "Beginner",
          "Beginner",
          "Beginner",
          "Mixed",
          "Intermediate",
          "Beginner",
          "Beginner",
          "Mixed",
          "Intermediate",
          "Mixed",
          "Beginner",
          "Mixed",
          "Beginner",
          "Beginner",
          "Mixed",
          "Intermediate",
          "Beginner",
          "Mixed",
          "Mixed",
          "Mixed",
          "Beginner",
          "Mixed",
          "Mixed",
          "Beginner",
          "Beginner",
          "Beginner",
          "Beginner",
          "Beginner",
          "Beginner",
          "Mixed",
          "Beginner",
          "Intermediate",
          "Mixed",
          "Mixed",
          "Intermediate",
          "Mixed",
          "Beginner",
          "Intermediate",
          "Intermediate",
          "Mixed",
          "Intermediate",
          "Beginner",
          "Beginner",
          "Beginner",
          "Beginner",
          "Mixed",
          "Intermediate",
          "Intermediate",
          "Beginner",
          "Intermediate",
          "Beginner",
          "Beginner",
          "Beginner",
          "Mixed",
          "Beginner",
          "Intermediate",
          "Beginner",
          "Beginner",
          "Intermediate",
          "Beginner",
          "Mixed",
          "Beginner",
          "Beginner",
          "Beginner",
          "Mixed",
          "Mixed",
          "Beginner",
          "Beginner",
          "Mixed",
          "Mixed",
          "Beginner",
          "Beginner",
          "Beginner",
          "Beginner",
          "Beginner",
          "Mixed",
          "Beginner",
          "Intermediate",
          "Beginner",
          "Beginner",
          "Beginner",
          "Mixed",
          "Mixed",
          "Beginner",
          "Beginner",
          "Mixed",
          "Beginner",
          "Intermediate",
          "Beginner",
          "Beginner",
          "Intermediate",
          "Intermediate",
          "Intermediate",
          "Beginner",
          "Mixed",
          "Mixed",
          "Beginner",
          "Intermediate",
          "Beginner",
          "Mixed",
          "Advanced",
          "Intermediate",
          "Beginner",
          "Beginner",
          "Intermediate",
          "Mixed",
          "Mixed",
          "Beginner",
          "Beginner",
          "Beginner",
          "Beginner",
          "Beginner",
          "Beginner",
          "Beginner",
          "Mixed",
          "Intermediate",
          "Beginner",
          "Mixed",
          "Mixed",
          "Beginner",
          "Mixed",
          "Beginner",
          "Beginner",
          "Mixed",
          "Mixed",
          "Intermediate",
          "Mixed",
          "Beginner",
          "Beginner",
          "Beginner",
          "Beginner",
          "Beginner",
          "Mixed",
          "Intermediate",
          "Intermediate",
          "Mixed",
          "Beginner",
          "Mixed",
          "Beginner",
          "Mixed",
          "Intermediate",
          "Beginner",
          "Mixed",
          "Beginner",
          "Beginner",
          "Mixed",
          "Beginner",
          "Intermediate",
          "Intermediate",
          "Beginner",
          "Beginner",
          "Mixed",
          "Intermediate",
          "Mixed",
          "Beginner",
          "Beginner",
          "Intermediate",
          "Mixed",
          "Intermediate",
          "Mixed",
          "Mixed",
          "Mixed",
          "Beginner",
          "Beginner",
          "Beginner",
          "Beginner",
          "Mixed",
          "Beginner",
          "Mixed",
          "Advanced",
          "Intermediate",
          "Beginner",
          "Beginner",
          "Beginner",
          "Intermediate",
          "Beginner",
          "Beginner",
          "Beginner",
          "Intermediate",
          "Beginner",
          "Mixed",
          "Beginner",
          "Beginner",
          "Beginner",
          "Intermediate",
          "Beginner",
          "Beginner",
          "Mixed",
          "Mixed",
          "Beginner",
          "Mixed",
          "Mixed",
          "Beginner",
          "Beginner",
          "Beginner",
          "Intermediate",
          "Beginner",
          "Mixed",
          "Mixed",
          "Intermediate",
          "Beginner",
          "Beginner",
          "Beginner",
          "Beginner",
          "Mixed",
          "Beginner",
          "Intermediate",
          "Intermediate",
          "Beginner",
          "Mixed",
          "Beginner",
          "Beginner",
          "Beginner",
          "Beginner",
          "Mixed",
          "Intermediate",
          "Mixed",
          "Mixed",
          "Mixed",
          "Intermediate",
          "Beginner",
          "Beginner",
          "Intermediate",
          "Mixed",
          "Intermediate",
          "Beginner",
          "Beginner",
          "Beginner",
          "Advanced",
          "Mixed",
          "Intermediate",
          "Beginner",
          "Beginner",
          "Beginner",
          "Mixed",
          "Beginner",
          "Beginner",
          "Beginner",
          "Beginner",
          "Beginner",
          "Mixed",
          "Intermediate",
          "Beginner",
          "Beginner",
          "Advanced",
          "Beginner",
          "Mixed",
          "Mixed",
          "Beginner",
          "Beginner",
          "Beginner",
          "Intermediate",
          "Beginner",
          "Intermediate",
          "Mixed",
          "Beginner",
          "Beginner",
          "Intermediate",
          "Beginner",
          "Mixed",
          "Advanced",
          "Beginner",
          "Beginner",
          "Beginner",
          "Mixed",
          "Intermediate",
          "Mixed",
          "Mixed",
          "Beginner",
          "Beginner",
          "Intermediate",
          "Beginner",
          "Beginner",
          "Beginner",
          "Beginner",
          "Beginner",
          "Beginner",
          "Beginner",
          "Beginner",
          "Intermediate",
          "Mixed",
          "Intermediate",
          "Beginner",
          "Advanced",
          "Intermediate",
          "Beginner",
          "Beginner",
          "Intermediate",
          "Beginner",
          "Beginner",
          "Beginner",
          "Intermediate",
          "Mixed",
          "Intermediate",
          "Beginner",
          "Mixed",
          "Beginner",
          "Beginner",
          "Beginner",
          "Intermediate",
          "Mixed",
          "Intermediate",
          "Mixed",
          "Mixed",
          "Mixed",
          "Beginner",
          "Beginner",
          "Intermediate",
          "Beginner",
          "Intermediate",
          "Mixed",
          "Beginner",
          "Mixed",
          "Intermediate",
          "Beginner",
          "Beginner",
          "Beginner",
          "Beginner",
          "Mixed",
          "Beginner",
          "Mixed",
          "Beginner",
          "Beginner",
          "Intermediate",
          "Beginner",
          "Intermediate",
          "Intermediate",
          "Mixed",
          "Mixed",
          "Intermediate",
          "Mixed",
          "Beginner",
          "Intermediate",
          "Beginner",
          "Intermediate",
          "Beginner",
          "Beginner",
          "Beginner",
          "Mixed",
          "Intermediate",
          "Beginner",
          "Mixed",
          "Beginner",
          "Intermediate",
          "Beginner",
          "Intermediate",
          "Beginner",
          "Intermediate",
          "Beginner",
          "Beginner",
          "Beginner",
          "Mixed",
          "Beginner",
          "Mixed",
          "Beginner",
          "Mixed",
          "Mixed",
          "Beginner",
          "Beginner",
          "Beginner",
          "Mixed",
          "Mixed",
          "Mixed",
          "Beginner",
          "Intermediate",
          "Mixed",
          "Mixed",
          "Mixed",
          "Beginner",
          "Beginner",
          "Mixed",
          "Mixed",
          "Intermediate",
          "Mixed",
          "Intermediate",
          "Mixed",
          "Intermediate",
          "Intermediate",
          "Mixed",
          "Mixed",
          "Mixed",
          "Beginner",
          "Beginner",
          "Mixed",
          "Intermediate",
          "Mixed",
          "Intermediate",
          "Mixed",
          "Beginner",
          "Beginner",
          "Beginner",
          "Beginner",
          "Beginner",
          "Mixed",
          "Mixed",
          "Beginner",
          "Mixed",
          "Intermediate",
          "Mixed",
          "Beginner",
          "Beginner",
          "Intermediate",
          "Beginner",
          "Beginner",
          "Mixed",
          "Intermediate",
          "Mixed",
          "Mixed",
          "Beginner",
          "Mixed",
          "Beginner",
          "Beginner",
          "Beginner",
          "Mixed",
          "Intermediate",
          "Intermediate",
          "Intermediate",
          "Beginner"
         ],
         "y0": " ",
         "yaxis": "y"
        }
       ],
       "layout": {
        "boxmode": "group",
        "height": 700,
        "hoverlabel": {
         "bgcolor": "white",
         "bordercolor": "white",
         "font": {
          "color": "#494a5e"
         }
        },
        "legend": {
         "orientation": "h",
         "title": {
          "text": "Certificate type"
         },
         "tracegroupgap": 0,
         "x": 1,
         "xanchor": "right",
         "y": 1.02,
         "yanchor": "bottom"
        },
        "margin": {
         "t": 60
        },
        "plot_bgcolor": "white",
        "template": {
         "data": {
          "bar": [
           {
            "error_x": {
             "color": "#2a3f5f"
            },
            "error_y": {
             "color": "#2a3f5f"
            },
            "marker": {
             "line": {
              "color": "#E5ECF6",
              "width": 0.5
             },
             "pattern": {
              "fillmode": "overlay",
              "size": 10,
              "solidity": 0.2
             }
            },
            "type": "bar"
           }
          ],
          "barpolar": [
           {
            "marker": {
             "line": {
              "color": "#E5ECF6",
              "width": 0.5
             },
             "pattern": {
              "fillmode": "overlay",
              "size": 10,
              "solidity": 0.2
             }
            },
            "type": "barpolar"
           }
          ],
          "carpet": [
           {
            "aaxis": {
             "endlinecolor": "#2a3f5f",
             "gridcolor": "white",
             "linecolor": "white",
             "minorgridcolor": "white",
             "startlinecolor": "#2a3f5f"
            },
            "baxis": {
             "endlinecolor": "#2a3f5f",
             "gridcolor": "white",
             "linecolor": "white",
             "minorgridcolor": "white",
             "startlinecolor": "#2a3f5f"
            },
            "type": "carpet"
           }
          ],
          "choropleth": [
           {
            "colorbar": {
             "outlinewidth": 0,
             "ticks": ""
            },
            "type": "choropleth"
           }
          ],
          "contour": [
           {
            "colorbar": {
             "outlinewidth": 0,
             "ticks": ""
            },
            "colorscale": [
             [
              0,
              "#0d0887"
             ],
             [
              0.1111111111111111,
              "#46039f"
             ],
             [
              0.2222222222222222,
              "#7201a8"
             ],
             [
              0.3333333333333333,
              "#9c179e"
             ],
             [
              0.4444444444444444,
              "#bd3786"
             ],
             [
              0.5555555555555556,
              "#d8576b"
             ],
             [
              0.6666666666666666,
              "#ed7953"
             ],
             [
              0.7777777777777778,
              "#fb9f3a"
             ],
             [
              0.8888888888888888,
              "#fdca26"
             ],
             [
              1,
              "#f0f921"
             ]
            ],
            "type": "contour"
           }
          ],
          "contourcarpet": [
           {
            "colorbar": {
             "outlinewidth": 0,
             "ticks": ""
            },
            "type": "contourcarpet"
           }
          ],
          "heatmap": [
           {
            "colorbar": {
             "outlinewidth": 0,
             "ticks": ""
            },
            "colorscale": [
             [
              0,
              "#0d0887"
             ],
             [
              0.1111111111111111,
              "#46039f"
             ],
             [
              0.2222222222222222,
              "#7201a8"
             ],
             [
              0.3333333333333333,
              "#9c179e"
             ],
             [
              0.4444444444444444,
              "#bd3786"
             ],
             [
              0.5555555555555556,
              "#d8576b"
             ],
             [
              0.6666666666666666,
              "#ed7953"
             ],
             [
              0.7777777777777778,
              "#fb9f3a"
             ],
             [
              0.8888888888888888,
              "#fdca26"
             ],
             [
              1,
              "#f0f921"
             ]
            ],
            "type": "heatmap"
           }
          ],
          "heatmapgl": [
           {
            "colorbar": {
             "outlinewidth": 0,
             "ticks": ""
            },
            "colorscale": [
             [
              0,
              "#0d0887"
             ],
             [
              0.1111111111111111,
              "#46039f"
             ],
             [
              0.2222222222222222,
              "#7201a8"
             ],
             [
              0.3333333333333333,
              "#9c179e"
             ],
             [
              0.4444444444444444,
              "#bd3786"
             ],
             [
              0.5555555555555556,
              "#d8576b"
             ],
             [
              0.6666666666666666,
              "#ed7953"
             ],
             [
              0.7777777777777778,
              "#fb9f3a"
             ],
             [
              0.8888888888888888,
              "#fdca26"
             ],
             [
              1,
              "#f0f921"
             ]
            ],
            "type": "heatmapgl"
           }
          ],
          "histogram": [
           {
            "marker": {
             "pattern": {
              "fillmode": "overlay",
              "size": 10,
              "solidity": 0.2
             }
            },
            "type": "histogram"
           }
          ],
          "histogram2d": [
           {
            "colorbar": {
             "outlinewidth": 0,
             "ticks": ""
            },
            "colorscale": [
             [
              0,
              "#0d0887"
             ],
             [
              0.1111111111111111,
              "#46039f"
             ],
             [
              0.2222222222222222,
              "#7201a8"
             ],
             [
              0.3333333333333333,
              "#9c179e"
             ],
             [
              0.4444444444444444,
              "#bd3786"
             ],
             [
              0.5555555555555556,
              "#d8576b"
             ],
             [
              0.6666666666666666,
              "#ed7953"
             ],
             [
              0.7777777777777778,
              "#fb9f3a"
             ],
             [
              0.8888888888888888,
              "#fdca26"
             ],
             [
              1,
              "#f0f921"
             ]
            ],
            "type": "histogram2d"
           }
          ],
          "histogram2dcontour": [
           {
            "colorbar": {
             "outlinewidth": 0,
             "ticks": ""
            },
            "colorscale": [
             [
              0,
              "#0d0887"
             ],
             [
              0.1111111111111111,
              "#46039f"
             ],
             [
              0.2222222222222222,
              "#7201a8"
             ],
             [
              0.3333333333333333,
              "#9c179e"
             ],
             [
              0.4444444444444444,
              "#bd3786"
             ],
             [
              0.5555555555555556,
              "#d8576b"
             ],
             [
              0.6666666666666666,
              "#ed7953"
             ],
             [
              0.7777777777777778,
              "#fb9f3a"
             ],
             [
              0.8888888888888888,
              "#fdca26"
             ],
             [
              1,
              "#f0f921"
             ]
            ],
            "type": "histogram2dcontour"
           }
          ],
          "mesh3d": [
           {
            "colorbar": {
             "outlinewidth": 0,
             "ticks": ""
            },
            "type": "mesh3d"
           }
          ],
          "parcoords": [
           {
            "line": {
             "colorbar": {
              "outlinewidth": 0,
              "ticks": ""
             }
            },
            "type": "parcoords"
           }
          ],
          "pie": [
           {
            "automargin": true,
            "type": "pie"
           }
          ],
          "scatter": [
           {
            "fillpattern": {
             "fillmode": "overlay",
             "size": 10,
             "solidity": 0.2
            },
            "type": "scatter"
           }
          ],
          "scatter3d": [
           {
            "line": {
             "colorbar": {
              "outlinewidth": 0,
              "ticks": ""
             }
            },
            "marker": {
             "colorbar": {
              "outlinewidth": 0,
              "ticks": ""
             }
            },
            "type": "scatter3d"
           }
          ],
          "scattercarpet": [
           {
            "marker": {
             "colorbar": {
              "outlinewidth": 0,
              "ticks": ""
             }
            },
            "type": "scattercarpet"
           }
          ],
          "scattergeo": [
           {
            "marker": {
             "colorbar": {
              "outlinewidth": 0,
              "ticks": ""
             }
            },
            "type": "scattergeo"
           }
          ],
          "scattergl": [
           {
            "marker": {
             "colorbar": {
              "outlinewidth": 0,
              "ticks": ""
             }
            },
            "type": "scattergl"
           }
          ],
          "scattermapbox": [
           {
            "marker": {
             "colorbar": {
              "outlinewidth": 0,
              "ticks": ""
             }
            },
            "type": "scattermapbox"
           }
          ],
          "scatterpolar": [
           {
            "marker": {
             "colorbar": {
              "outlinewidth": 0,
              "ticks": ""
             }
            },
            "type": "scatterpolar"
           }
          ],
          "scatterpolargl": [
           {
            "marker": {
             "colorbar": {
              "outlinewidth": 0,
              "ticks": ""
             }
            },
            "type": "scatterpolargl"
           }
          ],
          "scatterternary": [
           {
            "marker": {
             "colorbar": {
              "outlinewidth": 0,
              "ticks": ""
             }
            },
            "type": "scatterternary"
           }
          ],
          "surface": [
           {
            "colorbar": {
             "outlinewidth": 0,
             "ticks": ""
            },
            "colorscale": [
             [
              0,
              "#0d0887"
             ],
             [
              0.1111111111111111,
              "#46039f"
             ],
             [
              0.2222222222222222,
              "#7201a8"
             ],
             [
              0.3333333333333333,
              "#9c179e"
             ],
             [
              0.4444444444444444,
              "#bd3786"
             ],
             [
              0.5555555555555556,
              "#d8576b"
             ],
             [
              0.6666666666666666,
              "#ed7953"
             ],
             [
              0.7777777777777778,
              "#fb9f3a"
             ],
             [
              0.8888888888888888,
              "#fdca26"
             ],
             [
              1,
              "#f0f921"
             ]
            ],
            "type": "surface"
           }
          ],
          "table": [
           {
            "cells": {
             "fill": {
              "color": "#EBF0F8"
             },
             "line": {
              "color": "white"
             }
            },
            "header": {
             "fill": {
              "color": "#C8D4E3"
             },
             "line": {
              "color": "white"
             }
            },
            "type": "table"
           }
          ]
         },
         "layout": {
          "annotationdefaults": {
           "arrowcolor": "#2a3f5f",
           "arrowhead": 0,
           "arrowwidth": 1
          },
          "autotypenumbers": "strict",
          "coloraxis": {
           "colorbar": {
            "outlinewidth": 0,
            "ticks": ""
           }
          },
          "colorscale": {
           "diverging": [
            [
             0,
             "#8e0152"
            ],
            [
             0.1,
             "#c51b7d"
            ],
            [
             0.2,
             "#de77ae"
            ],
            [
             0.3,
             "#f1b6da"
            ],
            [
             0.4,
             "#fde0ef"
            ],
            [
             0.5,
             "#f7f7f7"
            ],
            [
             0.6,
             "#e6f5d0"
            ],
            [
             0.7,
             "#b8e186"
            ],
            [
             0.8,
             "#7fbc41"
            ],
            [
             0.9,
             "#4d9221"
            ],
            [
             1,
             "#276419"
            ]
           ],
           "sequential": [
            [
             0,
             "#0d0887"
            ],
            [
             0.1111111111111111,
             "#46039f"
            ],
            [
             0.2222222222222222,
             "#7201a8"
            ],
            [
             0.3333333333333333,
             "#9c179e"
            ],
            [
             0.4444444444444444,
             "#bd3786"
            ],
            [
             0.5555555555555556,
             "#d8576b"
            ],
            [
             0.6666666666666666,
             "#ed7953"
            ],
            [
             0.7777777777777778,
             "#fb9f3a"
            ],
            [
             0.8888888888888888,
             "#fdca26"
            ],
            [
             1,
             "#f0f921"
            ]
           ],
           "sequentialminus": [
            [
             0,
             "#0d0887"
            ],
            [
             0.1111111111111111,
             "#46039f"
            ],
            [
             0.2222222222222222,
             "#7201a8"
            ],
            [
             0.3333333333333333,
             "#9c179e"
            ],
            [
             0.4444444444444444,
             "#bd3786"
            ],
            [
             0.5555555555555556,
             "#d8576b"
            ],
            [
             0.6666666666666666,
             "#ed7953"
            ],
            [
             0.7777777777777778,
             "#fb9f3a"
            ],
            [
             0.8888888888888888,
             "#fdca26"
            ],
            [
             1,
             "#f0f921"
            ]
           ]
          },
          "colorway": [
           "#636efa",
           "#EF553B",
           "#00cc96",
           "#ab63fa",
           "#FFA15A",
           "#19d3f3",
           "#FF6692",
           "#B6E880",
           "#FF97FF",
           "#FECB52"
          ],
          "font": {
           "color": "#2a3f5f"
          },
          "geo": {
           "bgcolor": "white",
           "lakecolor": "white",
           "landcolor": "#E5ECF6",
           "showlakes": true,
           "showland": true,
           "subunitcolor": "white"
          },
          "hoverlabel": {
           "align": "left"
          },
          "hovermode": "closest",
          "mapbox": {
           "style": "light"
          },
          "paper_bgcolor": "white",
          "plot_bgcolor": "#E5ECF6",
          "polar": {
           "angularaxis": {
            "gridcolor": "white",
            "linecolor": "white",
            "ticks": ""
           },
           "bgcolor": "#E5ECF6",
           "radialaxis": {
            "gridcolor": "white",
            "linecolor": "white",
            "ticks": ""
           }
          },
          "scene": {
           "xaxis": {
            "backgroundcolor": "#E5ECF6",
            "gridcolor": "white",
            "gridwidth": 2,
            "linecolor": "white",
            "showbackground": true,
            "ticks": "",
            "zerolinecolor": "white"
           },
           "yaxis": {
            "backgroundcolor": "#E5ECF6",
            "gridcolor": "white",
            "gridwidth": 2,
            "linecolor": "white",
            "showbackground": true,
            "ticks": "",
            "zerolinecolor": "white"
           },
           "zaxis": {
            "backgroundcolor": "#E5ECF6",
            "gridcolor": "white",
            "gridwidth": 2,
            "linecolor": "white",
            "showbackground": true,
            "ticks": "",
            "zerolinecolor": "white"
           }
          },
          "shapedefaults": {
           "line": {
            "color": "#2a3f5f"
           }
          },
          "ternary": {
           "aaxis": {
            "gridcolor": "white",
            "linecolor": "white",
            "ticks": ""
           },
           "baxis": {
            "gridcolor": "white",
            "linecolor": "white",
            "ticks": ""
           },
           "bgcolor": "#E5ECF6",
           "caxis": {
            "gridcolor": "white",
            "linecolor": "white",
            "ticks": ""
           }
          },
          "title": {
           "x": 0.05
          },
          "xaxis": {
           "automargin": true,
           "gridcolor": "white",
           "linecolor": "white",
           "ticks": "",
           "title": {
            "standoff": 15
           },
           "zerolinecolor": "white",
           "zerolinewidth": 2
          },
          "yaxis": {
           "automargin": true,
           "gridcolor": "white",
           "linecolor": "white",
           "ticks": "",
           "title": {
            "standoff": 15
           },
           "zerolinecolor": "white",
           "zerolinewidth": 2
          }
         }
        },
        "title": {
         "text": "Distribution of course ratings"
        },
        "width": 1000,
        "xaxis": {
         "anchor": "y",
         "domain": [
          0,
          1
         ],
         "range": [
          0,
          5
         ],
         "title": {
          "text": "Rating"
         }
        },
        "yaxis": {
         "anchor": "x",
         "domain": [
          0,
          1
         ],
         "title": {
          "text": "Difficulty"
         }
        }
       }
      },
      "image/svg+xml": [
       "<svg class=\"main-svg\" xmlns=\"http://www.w3.org/2000/svg\" xmlns:xlink=\"http://www.w3.org/1999/xlink\" width=\"1000\" height=\"700\" style=\"\" viewBox=\"0 0 1000 700\"><rect x=\"0\" y=\"0\" width=\"1000\" height=\"700\" style=\"fill: rgb(255, 255, 255); fill-opacity: 1;\"/><defs id=\"defs-083f39\"><g class=\"clips\"><clipPath id=\"clip083f39xyplot\" class=\"plotclip\"><rect width=\"804\" height=\"560\"/></clipPath><clipPath class=\"axesclip\" id=\"clip083f39x\"><rect x=\"116\" y=\"0\" width=\"804\" height=\"700\"/></clipPath><clipPath class=\"axesclip\" id=\"clip083f39y\"><rect x=\"0\" y=\"60\" width=\"1000\" height=\"560\"/></clipPath><clipPath class=\"axesclip\" id=\"clip083f39xy\"><rect x=\"116\" y=\"60\" width=\"804\" height=\"560\"/></clipPath></g><g class=\"gradients\"/><g class=\"patterns\"/></defs><g class=\"bglayer\"/><g class=\"layer-below\"><g class=\"imagelayer\"/><g class=\"shapelayer\"/></g><g class=\"cartesianlayer\"><g class=\"subplot xy\"><g class=\"layer-subplot\"><g class=\"shapelayer\"/><g class=\"imagelayer\"/></g><g class=\"minor-gridlayer\"><g class=\"x\"/><g class=\"y\"/></g><g class=\"gridlayer\"><g class=\"x\"><path class=\"xgrid crisp\" transform=\"translate(276.8,0)\" d=\"M0,60v560\" style=\"stroke: rgb(255, 255, 255); stroke-opacity: 1; stroke-width: 1px;\"/><path class=\"xgrid crisp\" transform=\"translate(437.6,0)\" d=\"M0,60v560\" style=\"stroke: rgb(255, 255, 255); stroke-opacity: 1; stroke-width: 1px;\"/><path class=\"xgrid crisp\" transform=\"translate(598.4,0)\" d=\"M0,60v560\" style=\"stroke: rgb(255, 255, 255); stroke-opacity: 1; stroke-width: 1px;\"/><path class=\"xgrid crisp\" transform=\"translate(759.2,0)\" d=\"M0,60v560\" style=\"stroke: rgb(255, 255, 255); stroke-opacity: 1; stroke-width: 1px;\"/></g><g class=\"y\"/></g><g class=\"zerolinelayer\"><path class=\"xzl zl crisp\" transform=\"translate(116,0)\" d=\"M0,60v560\" style=\"stroke: rgb(255, 255, 255); stroke-opacity: 1; stroke-width: 2px;\"/></g><g class=\"layer-between\"><g class=\"shapelayer\"/><g class=\"imagelayer\"/></g><path class=\"xlines-below\"/><path class=\"ylines-below\"/><g class=\"overlines-below\"/><g class=\"xaxislayer-below\"/><g class=\"yaxislayer-below\"/><g class=\"overaxes-below\"/><g class=\"overplot\"><g class=\"xy\" transform=\"translate(116,60)\" clip-path=\"url(#clip083f39xyplot)\"><g class=\"boxlayer mlayer\"><g class=\"trace boxes\" style=\"opacity: 1;\"><path class=\"box\" d=\"M755.76,531.38V508.76M739.68,531.38V508.76H775.86V531.38ZM739.68,520.07H739.68M775.86,520.07H787.92M739.68,525.72V514.41M787.92,525.72V514.41\" style=\"vector-effect: none; stroke-width: 2px; stroke: rgb(95, 70, 144); stroke-opacity: 1; fill: rgb(95, 70, 144); fill-opacity: 0.5;\"/><path class=\"box\" d=\"M740.68,392.88V370.26M739.68,392.88V370.26H751.74V392.88ZM739.68,381.57H739.68M751.74,381.57H755.76M739.68,387.22V375.91M755.76,387.22V375.91\" style=\"vector-effect: none; stroke-width: 2px; stroke: rgb(95, 70, 144); stroke-opacity: 1; fill: rgb(95, 70, 144); fill-opacity: 0.5;\"/><g class=\"points\"/><g class=\"points\"/><path class=\"mean\" d=\"M759.33,531.38V508.76\" style=\"fill: none; vector-effect: non-scaling-stroke; stroke-width: 2; stroke-dasharray: 4px, 2px; stroke: rgb(95, 70, 144); stroke-opacity: 1;\"/><path class=\"mean\" d=\"M745.04,392.88V370.26\" style=\"fill: none; vector-effect: non-scaling-stroke; stroke-width: 2; stroke-dasharray: 4px, 2px; stroke: rgb(95, 70, 144); stroke-opacity: 1;\"/></g><g class=\"trace boxes\" style=\"opacity: 1;\"><path class=\"box\" d=\"M740.68,499.06V476.44M739.68,499.06V476.44H755.76V499.06ZM739.68,487.75H723.6M755.76,487.75H771.84M723.6,493.41V482.09M771.84,493.41V482.09\" style=\"vector-effect: none; stroke-width: 2px; stroke: rgb(29, 105, 150); stroke-opacity: 1; fill: rgb(29, 105, 150); fill-opacity: 0.5;\"/><path class=\"box\" d=\"M754.76,360.56V337.94M723.6,360.56V337.94H755.76V360.56ZM723.6,349.25H675.36M755.76,349.25H804M675.36,354.91V343.59M804,354.91V343.59\" style=\"vector-effect: none; stroke-width: 2px; stroke: rgb(29, 105, 150); stroke-opacity: 1; fill: rgb(29, 105, 150); fill-opacity: 0.5;\"/><path class=\"box\" d=\"M723.6,222.06V199.44M707.52,222.06V199.44H755.76V222.06ZM707.52,210.75H675.36M755.76,210.75H771.84M675.36,216.41V205.09M771.84,216.41V205.09\" style=\"vector-effect: none; stroke-width: 2px; stroke: rgb(29, 105, 150); stroke-opacity: 1; fill: rgb(29, 105, 150); fill-opacity: 0.5;\"/><g class=\"points\"><path class=\"point\" transform=\"translate(659.28,487.75)\" d=\"M3,0A3,3 0 1,1 0,-3A3,3 0 0,1 3,0Z\" style=\"opacity: 1; stroke-width: 0px; fill: rgb(29, 105, 150); fill-opacity: 1;\"/><path class=\"point\" transform=\"translate(675.36,487.75)\" d=\"M3,0A3,3 0 1,1 0,-3A3,3 0 0,1 3,0Z\" style=\"opacity: 1; stroke-width: 0px; fill: rgb(29, 105, 150); fill-opacity: 1;\"/><path class=\"point\" transform=\"translate(675.36,487.75)\" d=\"M3,0A3,3 0 1,1 0,-3A3,3 0 0,1 3,0Z\" style=\"opacity: 1; stroke-width: 0px; fill: rgb(29, 105, 150); fill-opacity: 1;\"/><path class=\"point\" transform=\"translate(691.44,487.75)\" d=\"M3,0A3,3 0 1,1 0,-3A3,3 0 0,1 3,0Z\" style=\"opacity: 1; stroke-width: 0px; fill: rgb(29, 105, 150); fill-opacity: 1;\"/><path class=\"point\" transform=\"translate(691.44,487.75)\" d=\"M3,0A3,3 0 1,1 0,-3A3,3 0 0,1 3,0Z\" style=\"opacity: 1; stroke-width: 0px; fill: rgb(29, 105, 150); fill-opacity: 1;\"/><path class=\"point\" transform=\"translate(691.44,487.75)\" d=\"M3,0A3,3 0 1,1 0,-3A3,3 0 0,1 3,0Z\" style=\"opacity: 1; stroke-width: 0px; fill: rgb(29, 105, 150); fill-opacity: 1;\"/><path class=\"point\" transform=\"translate(691.44,487.75)\" d=\"M3,0A3,3 0 1,1 0,-3A3,3 0 0,1 3,0Z\" style=\"opacity: 1; stroke-width: 0px; fill: rgb(29, 105, 150); fill-opacity: 1;\"/><path class=\"point\" transform=\"translate(691.44,487.75)\" d=\"M3,0A3,3 0 1,1 0,-3A3,3 0 0,1 3,0Z\" style=\"opacity: 1; stroke-width: 0px; fill: rgb(29, 105, 150); fill-opacity: 1;\"/><path class=\"point\" transform=\"translate(691.44,487.75)\" d=\"M3,0A3,3 0 1,1 0,-3A3,3 0 0,1 3,0Z\" style=\"opacity: 1; stroke-width: 0px; fill: rgb(29, 105, 150); fill-opacity: 1;\"/><path class=\"point\" transform=\"translate(691.44,487.75)\" d=\"M3,0A3,3 0 1,1 0,-3A3,3 0 0,1 3,0Z\" style=\"opacity: 1; stroke-width: 0px; fill: rgb(29, 105, 150); fill-opacity: 1;\"/><path class=\"point\" transform=\"translate(691.44,487.75)\" d=\"M3,0A3,3 0 1,1 0,-3A3,3 0 0,1 3,0Z\" style=\"opacity: 1; stroke-width: 0px; fill: rgb(29, 105, 150); fill-opacity: 1;\"/><path class=\"point\" transform=\"translate(707.52,487.75)\" d=\"M3,0A3,3 0 1,1 0,-3A3,3 0 0,1 3,0Z\" style=\"opacity: 1; stroke-width: 0px; fill: rgb(29, 105, 150); fill-opacity: 1;\"/><path class=\"point\" transform=\"translate(707.52,487.75)\" d=\"M3,0A3,3 0 1,1 0,-3A3,3 0 0,1 3,0Z\" style=\"opacity: 1; stroke-width: 0px; fill: rgb(29, 105, 150); fill-opacity: 1;\"/><path class=\"point\" transform=\"translate(707.52,487.75)\" d=\"M3,0A3,3 0 1,1 0,-3A3,3 0 0,1 3,0Z\" style=\"opacity: 1; stroke-width: 0px; fill: rgb(29, 105, 150); fill-opacity: 1;\"/><path class=\"point\" transform=\"translate(707.52,487.75)\" d=\"M3,0A3,3 0 1,1 0,-3A3,3 0 0,1 3,0Z\" style=\"opacity: 1; stroke-width: 0px; fill: rgb(29, 105, 150); fill-opacity: 1;\"/><path class=\"point\" transform=\"translate(707.52,487.75)\" d=\"M3,0A3,3 0 1,1 0,-3A3,3 0 0,1 3,0Z\" style=\"opacity: 1; stroke-width: 0px; fill: rgb(29, 105, 150); fill-opacity: 1;\"/><path class=\"point\" transform=\"translate(707.52,487.75)\" d=\"M3,0A3,3 0 1,1 0,-3A3,3 0 0,1 3,0Z\" style=\"opacity: 1; stroke-width: 0px; fill: rgb(29, 105, 150); fill-opacity: 1;\"/><path class=\"point\" transform=\"translate(707.52,487.75)\" d=\"M3,0A3,3 0 1,1 0,-3A3,3 0 0,1 3,0Z\" style=\"opacity: 1; stroke-width: 0px; fill: rgb(29, 105, 150); fill-opacity: 1;\"/><path class=\"point\" transform=\"translate(707.52,487.75)\" d=\"M3,0A3,3 0 1,1 0,-3A3,3 0 0,1 3,0Z\" style=\"opacity: 1; stroke-width: 0px; fill: rgb(29, 105, 150); fill-opacity: 1;\"/><path class=\"point\" transform=\"translate(707.52,487.75)\" d=\"M3,0A3,3 0 1,1 0,-3A3,3 0 0,1 3,0Z\" style=\"opacity: 1; stroke-width: 0px; fill: rgb(29, 105, 150); fill-opacity: 1;\"/><path class=\"point\" transform=\"translate(707.52,487.75)\" d=\"M3,0A3,3 0 1,1 0,-3A3,3 0 0,1 3,0Z\" style=\"opacity: 1; stroke-width: 0px; fill: rgb(29, 105, 150); fill-opacity: 1;\"/><path class=\"point\" transform=\"translate(787.92,487.75)\" d=\"M3,0A3,3 0 1,1 0,-3A3,3 0 0,1 3,0Z\" style=\"opacity: 1; stroke-width: 0px; fill: rgb(29, 105, 150); fill-opacity: 1;\"/><path class=\"point\" transform=\"translate(787.92,487.75)\" d=\"M3,0A3,3 0 1,1 0,-3A3,3 0 0,1 3,0Z\" style=\"opacity: 1; stroke-width: 0px; fill: rgb(29, 105, 150); fill-opacity: 1;\"/><path class=\"point\" transform=\"translate(787.92,487.75)\" d=\"M3,0A3,3 0 1,1 0,-3A3,3 0 0,1 3,0Z\" style=\"opacity: 1; stroke-width: 0px; fill: rgb(29, 105, 150); fill-opacity: 1;\"/><path class=\"point\" transform=\"translate(787.92,487.75)\" d=\"M3,0A3,3 0 1,1 0,-3A3,3 0 0,1 3,0Z\" style=\"opacity: 1; stroke-width: 0px; fill: rgb(29, 105, 150); fill-opacity: 1;\"/></g><g class=\"points\"><path class=\"point\" transform=\"translate(594.96,349.25)\" d=\"M3,0A3,3 0 1,1 0,-3A3,3 0 0,1 3,0Z\" style=\"opacity: 1; stroke-width: 0px; fill: rgb(29, 105, 150); fill-opacity: 1;\"/><path class=\"point\" transform=\"translate(627.12,349.25)\" d=\"M3,0A3,3 0 1,1 0,-3A3,3 0 0,1 3,0Z\" style=\"opacity: 1; stroke-width: 0px; fill: rgb(29, 105, 150); fill-opacity: 1;\"/><path class=\"point\" transform=\"translate(627.12,349.25)\" d=\"M3,0A3,3 0 1,1 0,-3A3,3 0 0,1 3,0Z\" style=\"opacity: 1; stroke-width: 0px; fill: rgb(29, 105, 150); fill-opacity: 1;\"/></g><g class=\"points\"/><path class=\"mean\" d=\"M744.68,499.06V476.44\" style=\"fill: none; vector-effect: non-scaling-stroke; stroke-width: 2; stroke-dasharray: 4px, 2px; stroke: rgb(29, 105, 150); stroke-opacity: 1;\"/><path class=\"mean\" d=\"M740.03,360.56V337.94\" style=\"fill: none; vector-effect: non-scaling-stroke; stroke-width: 2; stroke-dasharray: 4px, 2px; stroke: rgb(29, 105, 150); stroke-opacity: 1;\"/><path class=\"mean\" d=\"M725.21,222.06V199.44\" style=\"fill: none; vector-effect: non-scaling-stroke; stroke-width: 2; stroke-dasharray: 4px, 2px; stroke: rgb(29, 105, 150); stroke-opacity: 1;\"/></g><g class=\"trace boxes\" style=\"opacity: 1;\"><path class=\"box\" d=\"M755.76,466.74V444.12M739.68,466.74V444.12H771.84V466.74ZM739.68,455.43H691.44M771.84,455.43H804M691.44,461.09V449.78M804,461.09V449.78\" style=\"vector-effect: none; stroke-width: 2px; stroke: rgb(56, 166, 165); stroke-opacity: 1; fill: rgb(56, 166, 165); fill-opacity: 0.5;\"/><path class=\"box\" d=\"M755.76,328.24V305.62M739.68,328.24V305.62H771.84V328.24ZM739.68,316.93H691.44M771.84,316.93H787.92M691.44,322.59V311.28M787.92,322.59V311.28\" style=\"vector-effect: none; stroke-width: 2px; stroke: rgb(56, 166, 165); stroke-opacity: 1; fill: rgb(56, 166, 165); fill-opacity: 0.5;\"/><path class=\"box\" d=\"M755.76,189.74V167.12M747.72,189.74V167.12H771.84V189.74ZM747.72,178.43H723.6M771.84,178.43H787.92M723.6,184.09V172.78M787.92,184.09V172.78\" style=\"vector-effect: none; stroke-width: 2px; stroke: rgb(56, 166, 165); stroke-opacity: 1; fill: rgb(56, 166, 165); fill-opacity: 0.5;\"/><path class=\"box\" d=\"M770.84,51.24V28.62M739.68,51.24V28.62H771.84V51.24ZM739.68,39.93H691.44M771.84,39.93H787.92M691.44,45.59V34.28M787.92,45.59V34.28\" style=\"vector-effect: none; stroke-width: 2px; stroke: rgb(56, 166, 165); stroke-opacity: 1; fill: rgb(56, 166, 165); fill-opacity: 0.5;\"/><g class=\"points\"><path class=\"point\" transform=\"translate(675.36,455.43)\" d=\"M3,0A3,3 0 1,1 0,-3A3,3 0 0,1 3,0Z\" style=\"opacity: 1; stroke-width: 0px; fill: rgb(56, 166, 165); fill-opacity: 1;\"/><path class=\"point\" transform=\"translate(675.36,455.43)\" d=\"M3,0A3,3 0 1,1 0,-3A3,3 0 0,1 3,0Z\" style=\"opacity: 1; stroke-width: 0px; fill: rgb(56, 166, 165); fill-opacity: 1;\"/></g><g class=\"points\"><path class=\"point\" transform=\"translate(643.2,316.93)\" d=\"M3,0A3,3 0 1,1 0,-3A3,3 0 0,1 3,0Z\" style=\"opacity: 1; stroke-width: 0px; fill: rgb(56, 166, 165); fill-opacity: 1;\"/><path class=\"point\" transform=\"translate(643.2,316.93)\" d=\"M3,0A3,3 0 1,1 0,-3A3,3 0 0,1 3,0Z\" style=\"opacity: 1; stroke-width: 0px; fill: rgb(56, 166, 165); fill-opacity: 1;\"/><path class=\"point\" transform=\"translate(675.36,316.93)\" d=\"M3,0A3,3 0 1,1 0,-3A3,3 0 0,1 3,0Z\" style=\"opacity: 1; stroke-width: 0px; fill: rgb(56, 166, 165); fill-opacity: 1;\"/></g><g class=\"points\"/><g class=\"points\"><path class=\"point\" transform=\"translate(530.64,39.93)\" d=\"M3,0A3,3 0 1,1 0,-3A3,3 0 0,1 3,0Z\" style=\"opacity: 1; stroke-width: 0px; fill: rgb(56, 166, 165); fill-opacity: 1;\"/><path class=\"point\" transform=\"translate(675.36,39.93)\" d=\"M3,0A3,3 0 1,1 0,-3A3,3 0 0,1 3,0Z\" style=\"opacity: 1; stroke-width: 0px; fill: rgb(56, 166, 165); fill-opacity: 1;\"/><path class=\"point\" transform=\"translate(675.36,39.93)\" d=\"M3,0A3,3 0 1,1 0,-3A3,3 0 0,1 3,0Z\" style=\"opacity: 1; stroke-width: 0px; fill: rgb(56, 166, 165); fill-opacity: 1;\"/><path class=\"point\" transform=\"translate(675.36,39.93)\" d=\"M3,0A3,3 0 1,1 0,-3A3,3 0 0,1 3,0Z\" style=\"opacity: 1; stroke-width: 0px; fill: rgb(56, 166, 165); fill-opacity: 1;\"/></g><path class=\"mean\" d=\"M758.04,466.74V444.12\" style=\"fill: none; vector-effect: non-scaling-stroke; stroke-width: 2; stroke-dasharray: 4px, 2px; stroke: rgb(56, 166, 165); stroke-opacity: 1;\"/><path class=\"mean\" d=\"M753.44,328.24V305.62\" style=\"fill: none; vector-effect: non-scaling-stroke; stroke-width: 2; stroke-dasharray: 4px, 2px; stroke: rgb(56, 166, 165); stroke-opacity: 1;\"/><path class=\"mean\" d=\"M755.76,189.74V167.12\" style=\"fill: none; vector-effect: non-scaling-stroke; stroke-width: 2; stroke-dasharray: 4px, 2px; stroke: rgb(56, 166, 165); stroke-opacity: 1;\"/><path class=\"mean\" d=\"M757.14,51.24V28.62\" style=\"fill: none; vector-effect: non-scaling-stroke; stroke-width: 2; stroke-dasharray: 4px, 2px; stroke: rgb(56, 166, 165); stroke-opacity: 1;\"/></g></g></g></g><path class=\"xlines-above crisp\" d=\"M0,0\" style=\"fill: none;\"/><path class=\"ylines-above crisp\" d=\"M0,0\" style=\"fill: none;\"/><g class=\"overlines-above\"/><g class=\"xaxislayer-above\"><g class=\"xtick\"><text text-anchor=\"middle\" x=\"0\" y=\"633\" transform=\"translate(116,0)\" style=\"font-family: 'Open Sans', verdana, arial, sans-serif; font-size: 12px; fill: rgb(42, 63, 95); fill-opacity: 1; white-space: pre; opacity: 1;\">0</text></g><g class=\"xtick\"><text text-anchor=\"middle\" x=\"0\" y=\"633\" style=\"font-family: 'Open Sans', verdana, arial, sans-serif; font-size: 12px; fill: rgb(42, 63, 95); fill-opacity: 1; white-space: pre; opacity: 1;\" transform=\"translate(276.8,0)\">1</text></g><g class=\"xtick\"><text text-anchor=\"middle\" x=\"0\" y=\"633\" style=\"font-family: 'Open Sans', verdana, arial, sans-serif; font-size: 12px; fill: rgb(42, 63, 95); fill-opacity: 1; white-space: pre; opacity: 1;\" transform=\"translate(437.6,0)\">2</text></g><g class=\"xtick\"><text text-anchor=\"middle\" x=\"0\" y=\"633\" style=\"font-family: 'Open Sans', verdana, arial, sans-serif; font-size: 12px; fill: rgb(42, 63, 95); fill-opacity: 1; white-space: pre; opacity: 1;\" transform=\"translate(598.4,0)\">3</text></g><g class=\"xtick\"><text text-anchor=\"middle\" x=\"0\" y=\"633\" style=\"font-family: 'Open Sans', verdana, arial, sans-serif; font-size: 12px; fill: rgb(42, 63, 95); fill-opacity: 1; white-space: pre; opacity: 1;\" transform=\"translate(759.2,0)\">4</text></g><g class=\"xtick\"><text text-anchor=\"middle\" x=\"0\" y=\"633\" style=\"font-family: 'Open Sans', verdana, arial, sans-serif; font-size: 12px; fill: rgb(42, 63, 95); fill-opacity: 1; white-space: pre; opacity: 1;\" transform=\"translate(920,0)\">5</text></g></g><g class=\"yaxislayer-above\"><g class=\"ytick\"><text text-anchor=\"end\" x=\"115\" y=\"4.199999999999999\" transform=\"translate(0,547.75)\" style=\"font-family: 'Open Sans', verdana, arial, sans-serif; font-size: 12px; fill: rgb(42, 63, 95); fill-opacity: 1; white-space: pre; opacity: 1;\">Beginner</text></g><g class=\"ytick\"><text text-anchor=\"end\" x=\"115\" y=\"4.199999999999999\" transform=\"translate(0,409.25)\" style=\"font-family: 'Open Sans', verdana, arial, sans-serif; font-size: 12px; fill: rgb(42, 63, 95); fill-opacity: 1; white-space: pre; opacity: 1;\">Intermediate</text></g><g class=\"ytick\"><text text-anchor=\"end\" x=\"115\" y=\"4.199999999999999\" transform=\"translate(0,270.75)\" style=\"font-family: 'Open Sans', verdana, arial, sans-serif; font-size: 12px; fill: rgb(42, 63, 95); fill-opacity: 1; white-space: pre; opacity: 1;\">Advanced</text></g><g class=\"ytick\"><text text-anchor=\"end\" x=\"115\" y=\"4.199999999999999\" transform=\"translate(0,132.25)\" style=\"font-family: 'Open Sans', verdana, arial, sans-serif; font-size: 12px; fill: rgb(42, 63, 95); fill-opacity: 1; white-space: pre; opacity: 1;\">Mixed</text></g></g><g class=\"overaxes-above\"/></g></g><g class=\"polarlayer\"/><g class=\"smithlayer\"/><g class=\"ternarylayer\"/><g class=\"geolayer\"/><g class=\"funnelarealayer\"/><g class=\"pielayer\"/><g class=\"iciclelayer\"/><g class=\"treemaplayer\"/><g class=\"sunburstlayer\"/><g class=\"glimages\"/><defs id=\"topdefs-083f39\"><g class=\"clips\"/><clipPath id=\"legend083f39\"><rect width=\"515\" height=\"29\" x=\"0\" y=\"0\"/></clipPath></defs><g class=\"layer-above\"><g class=\"imagelayer\"/><g class=\"shapelayer\"/></g><g class=\"infolayer\"><g class=\"legend\" pointer-events=\"all\" transform=\"translate(405,19.79999999999999)\"><rect class=\"bg\" shape-rendering=\"crispEdges\" width=\"515\" height=\"29\" x=\"0\" y=\"0\" style=\"stroke: rgb(68, 68, 68); stroke-opacity: 1; fill: rgb(255, 255, 255); fill-opacity: 1; stroke-width: 0px;\"/><g class=\"scrollbox\" transform=\"\" clip-path=\"url(#legend083f39)\"><text class=\"legendtitletext\" text-anchor=\"start\" x=\"2\" y=\"18.2\" style=\"font-family: 'Open Sans', verdana, arial, sans-serif; font-size: 14px; fill: rgb(42, 63, 95); fill-opacity: 1; white-space: pre;\">Certificate type</text><g class=\"groups\" transform=\"\"><g class=\"traces\" transform=\"translate(117.5,14.5)\" style=\"opacity: 1;\"><text class=\"legendtext\" text-anchor=\"start\" x=\"40\" y=\"4.680000000000001\" style=\"font-family: 'Open Sans', verdana, arial, sans-serif; font-size: 12px; fill: rgb(42, 63, 95); fill-opacity: 1; white-space: pre;\">Professional Certificate</text><g class=\"layers\" style=\"opacity: 1;\"><g class=\"legendfill\"/><g class=\"legendlines\"/><g class=\"legendsymbols\"><g class=\"legendpoints\"><path class=\"legendbox\" d=\"M6,6H-6V-6H6Z\" transform=\"translate(20,0)\" style=\"stroke-width: 2px; fill: rgb(95, 70, 144); fill-opacity: 0.5; stroke: rgb(95, 70, 144); stroke-opacity: 1;\"/></g></g></g><rect class=\"legendtoggle\" x=\"0\" y=\"-9.5\" width=\"180.421875\" height=\"19\" style=\"fill: rgb(0, 0, 0); fill-opacity: 0;\"/></g></g><g class=\"groups\" transform=\"translate(182.921875,0)\"><g class=\"traces\" transform=\"translate(117.5,14.5)\" style=\"opacity: 1;\"><text class=\"legendtext\" text-anchor=\"start\" x=\"40\" y=\"4.680000000000001\" style=\"font-family: 'Open Sans', verdana, arial, sans-serif; font-size: 12px; fill: rgb(42, 63, 95); fill-opacity: 1; white-space: pre;\">Specialization</text><g class=\"layers\" style=\"opacity: 1;\"><g class=\"legendfill\"/><g class=\"legendlines\"/><g class=\"legendsymbols\"><g class=\"legendpoints\"><path class=\"legendbox\" d=\"M6,6H-6V-6H6Z\" transform=\"translate(20,0)\" style=\"stroke-width: 2px; fill: rgb(29, 105, 150); fill-opacity: 0.5; stroke: rgb(29, 105, 150); stroke-opacity: 1;\"/></g></g></g><rect class=\"legendtoggle\" x=\"0\" y=\"-9.5\" width=\"125.078125\" height=\"19\" style=\"fill: rgb(0, 0, 0); fill-opacity: 0;\"/></g></g><g class=\"groups\" transform=\"translate(310.5,0)\"><g class=\"traces\" transform=\"translate(117.5,14.5)\" style=\"opacity: 1;\"><text class=\"legendtext\" text-anchor=\"start\" x=\"40\" y=\"4.680000000000001\" style=\"font-family: 'Open Sans', verdana, arial, sans-serif; font-size: 12px; fill: rgb(42, 63, 95); fill-opacity: 1; white-space: pre;\">Course</text><g class=\"layers\" style=\"opacity: 1;\"><g class=\"legendfill\"/><g class=\"legendlines\"/><g class=\"legendsymbols\"><g class=\"legendpoints\"><path class=\"legendbox\" d=\"M6,6H-6V-6H6Z\" transform=\"translate(20,0)\" style=\"stroke-width: 2px; fill: rgb(56, 166, 165); fill-opacity: 0.5; stroke: rgb(56, 166, 165); stroke-opacity: 1;\"/></g></g></g><rect class=\"legendtoggle\" x=\"0\" y=\"-9.5\" width=\"84.28125\" height=\"19\" style=\"fill: rgb(0, 0, 0); fill-opacity: 0;\"/></g></g></g><rect class=\"scrollbar\" rx=\"20\" ry=\"3\" width=\"0\" height=\"0\" x=\"0\" y=\"0\" style=\"fill: rgb(128, 139, 164); fill-opacity: 1;\"/></g><g class=\"g-gtitle\"><text class=\"gtitle\" x=\"50\" y=\"30\" text-anchor=\"start\" dy=\"0em\" style=\"opacity: 1; font-family: 'Open Sans', verdana, arial, sans-serif; font-size: 17px; fill: rgb(42, 63, 95); fill-opacity: 1; white-space: pre;\">Distribution of course ratings</text></g><g class=\"g-xtitle\"><text class=\"xtitle\" x=\"518\" y=\"660.3\" text-anchor=\"middle\" style=\"opacity: 1; font-family: 'Open Sans', verdana, arial, sans-serif; font-size: 14px; fill: rgb(42, 63, 95); fill-opacity: 1; white-space: pre;\">Rating</text></g><g class=\"g-ytitle\"><text class=\"ytitle\" transform=\"rotate(-90,17.271874999999994,340)\" x=\"17.271874999999994\" y=\"340\" text-anchor=\"middle\" style=\"opacity: 1; font-family: 'Open Sans', verdana, arial, sans-serif; font-size: 14px; fill: rgb(42, 63, 95); fill-opacity: 1; white-space: pre;\">Difficulty</text></g></g></svg>"
      ]
     },
     "metadata": {},
     "output_type": "display_data"
    }
   ],
   "source": [
    "fig = px.box(\n",
    "    df, \n",
    "    y = \"course_difficulty\", \n",
    "    x=\"course_rating\", \n",
    "    color = \"course_Certificate_type\", \n",
    "    custom_data=[\"course_title\", \"course_students_enrolled\", \"course_organization\"],\n",
    "    width=1000, \n",
    "    height=700,\n",
    "    color_discrete_sequence=px.colors.qualitative.Prism\n",
    ")\n",
    "\n",
    "fig.update_layout(\n",
    "    title = \"Distribution of course ratings\",\n",
    "    xaxis=dict(\n",
    "        title=\"Rating\",\n",
    "        range=[0, 5] \n",
    "    ),\n",
    "    yaxis_title = \"Difficulty\",\n",
    "    legend_title = \"Certificate type\",\n",
    "    plot_bgcolor= \"white\",\n",
    "    hoverlabel=dict(\n",
    "        bgcolor=\"white\",\n",
    "        bordercolor = \"white\",\n",
    "        font=dict(\n",
    "            color=\"#494a5e\"\n",
    "        )\n",
    "    ),\n",
    "    legend=dict(\n",
    "    orientation=\"h\",\n",
    "    yanchor=\"bottom\",\n",
    "    y=1.02,\n",
    "    xanchor=\"right\",\n",
    "    x=1\n",
    "    )\n",
    ")   \n",
    "      \n",
    "fig.update_traces(\n",
    "    hovertemplate=\"Title: <b>%{customdata[0]}</b><br>\" + \n",
    "                \"Students Enrolled: %{customdata[1]:,.0f}<br>\" +\n",
    "                  \"Organization: %{customdata[2]}<br>\" +\n",
    "                  \"Rating: %{x}<br>\",\n",
    "    boxmean=True\n",
    ")\n",
    "\n",
    "fig.show()"
   ]
  },
  {
   "cell_type": "markdown",
   "metadata": {},
   "source": [
    "Most courses have higher than 4 stars ratings. I checked couple which have way lower ones like [\"How To Create A Website In A Weekend! (Project-Centered Course)\"](https://www.coursera.org/learn/how-to-create-a-website) and ratings are indeed correct to be this low. Thus, same as before, I will keep them for further analysis but will separate them."
   ]
  },
  {
   "cell_type": "code",
   "execution_count": 530,
   "metadata": {},
   "outputs": [
    {
     "data": {
      "text/plain": [
       "(17, 6)"
      ]
     },
     "execution_count": 530,
     "metadata": {},
     "output_type": "execute_result"
    }
   ],
   "source": [
    "Q1 = df[\"course_rating\"].quantile(0.25)\n",
    "Q3 = df[\"course_rating\"].quantile(0.75)\n",
    "IQR = Q3 - Q1\n",
    "threshold = 1.5\n",
    "\n",
    "outliers_ratings = df[(df[\"course_rating\"] < (Q1 - threshold * IQR)) | (df[\"course_rating\"] > (Q3 + threshold * IQR))]\n",
    "outliers_ratings.shape"
   ]
  },
  {
   "cell_type": "markdown",
   "metadata": {},
   "source": [
    "Now, will make separate version of dataset without them to be used for main analysis. Since data will be removed, need to remove unused_categories as well, otherwise it can affect analysis. "
   ]
  },
  {
   "cell_type": "code",
   "execution_count": 531,
   "metadata": {},
   "outputs": [
    {
     "data": {
      "text/plain": [
       "(797, 6)"
      ]
     },
     "execution_count": 531,
     "metadata": {},
     "output_type": "execute_result"
    }
   ],
   "source": [
    "outlier_index = outliers_enrollment.index.union(outliers_ratings.index)\n",
    "df_cleaned = df[~df.index.isin(outlier_index)]\n",
    "\n",
    "df_cleaned[category_columns] = df_cleaned[category_columns].apply(lambda col: col.cat.remove_unused_categories())\n",
    "\n",
    "df_cleaned.shape"
   ]
  },
  {
   "cell_type": "markdown",
   "metadata": {},
   "source": [
    "### Exploratory Data Analysis (EDA)\n",
    "\n",
    "#### Are there organizations that tend to attract more students to their courses?\n",
    "\n",
    "First, I checked number of courses per organization. "
   ]
  },
  {
   "cell_type": "code",
   "execution_count": 532,
   "metadata": {},
   "outputs": [],
   "source": [
    "df_grouped_per_organization = df_cleaned[\"course_students_enrolled\"].groupby(df_cleaned[\"course_organization\"], observed=True).agg([\"mean\", \"count\"])"
   ]
  },
  {
   "cell_type": "code",
   "execution_count": 533,
   "metadata": {},
   "outputs": [
    {
     "data": {
      "application/vnd.plotly.v1+json": {
       "config": {
        "plotlyServerURL": "https://plot.ly"
       },
       "data": [
        {
         "hovertemplate": "Number of courses: %{x}<br>AVG number of students per course: %{y}",
         "legendgroup": "",
         "marker": {
          "color": "#1D6996",
          "opacity": 0.5,
          "symbol": "circle"
         },
         "mode": "markers",
         "name": "",
         "orientation": "v",
         "showlegend": false,
         "type": "scatter",
         "x": [
          3,
          6,
          1,
          2,
          7,
          2,
          4,
          1,
          1,
          13,
          1,
          1,
          5,
          3,
          2,
          1,
          7,
          1,
          5,
          1,
          11,
          22,
          6,
          3,
          1,
          4,
          5,
          1,
          1,
          8,
          1,
          7,
          4,
          7,
          1,
          28,
          1,
          6,
          1,
          18,
          1,
          6,
          1,
          5,
          8,
          3,
          3,
          2,
          1,
          23,
          1,
          3,
          1,
          1,
          2,
          1,
          8,
          1,
          1,
          9,
          2,
          1,
          1,
          7,
          1,
          1,
          4,
          10,
          1,
          1,
          1,
          2,
          1,
          6,
          3,
          1,
          13,
          1,
          6,
          7,
          2,
          3,
          1,
          1,
          4,
          12,
          2,
          3,
          1,
          2,
          7,
          1,
          5,
          2,
          3,
          2,
          7,
          1,
          3,
          3,
          4,
          1,
          1,
          1,
          2,
          1,
          1,
          3,
          3,
          5,
          13,
          3,
          1,
          7,
          1,
          9,
          4,
          11,
          5,
          8,
          21,
          20,
          4,
          3,
          17,
          13,
          2,
          3,
          6,
          19,
          1,
          3,
          6,
          33,
          11,
          1,
          52,
          3,
          10,
          18,
          3,
          2,
          7,
          3,
          2,
          1,
          5,
          2,
          14,
          3,
          1,
          1,
          4
         ],
         "xaxis": "x",
         "y": [
          3300,
          60666.666666666664,
          11000,
          15000,
          84214.28571428571,
          40000,
          12050,
          2200,
          20000,
          74461.53846153847,
          47000,
          14000,
          56000,
          61833.333333333336,
          46500,
          14000,
          46457.142857142855,
          31000,
          48400,
          8800,
          62127.27272727273,
          89436.36363636363,
          55000,
          9533.333333333334,
          39000,
          52750,
          37360,
          34000,
          6500,
          21562.5,
          9200,
          71857.14285714286,
          64750,
          74714.28571428571,
          210000,
          38546.42857142857,
          95000,
          34083.333333333336,
          16000,
          88133.33333333333,
          48000,
          41700,
          43000,
          41400,
          47525,
          65000,
          12866.666666666666,
          8550,
          37000,
          69082.60869565218,
          22000,
          16433.333333333332,
          57000,
          35000,
          38500,
          18000,
          53737.5,
          52000,
          10000,
          75888.88888888889,
          43500,
          47000,
          15000,
          61857.142857142855,
          13000,
          4900,
          20750,
          47500,
          8200,
          32000,
          9100,
          32500,
          2400,
          48500,
          133333.33333333334,
          53000,
          56615.38461538462,
          32000,
          32900,
          14342.857142857143,
          12300,
          21333.333333333332,
          12000,
          39000,
          59500,
          62833.333333333336,
          42500,
          37000,
          49000,
          10050,
          75428.57142857143,
          13000,
          97800,
          34000,
          27000,
          84000,
          72142.85714285714,
          9500,
          43000,
          114666.66666666667,
          38500,
          52000,
          54000,
          22000,
          42500,
          7800,
          6100,
          63500,
          38000,
          61080,
          69069.23076923077,
          68500,
          17000,
          40542.857142857145,
          78000,
          56666.666666666664,
          45250,
          41800,
          65580,
          114500,
          60890.47619047619,
          77800,
          42250,
          53666.666666666664,
          35370.58823529412,
          21892.30769230769,
          17700,
          27000,
          38066.666666666664,
          51421.05263157895,
          31000,
          25666.666666666668,
          50333.333333333336,
          60839.393939393936,
          48000,
          5500,
          60101.92307692308,
          23000,
          66960,
          73111.11111111111,
          102333.33333333333,
          16500,
          49428.57142857143,
          48666.666666666664,
          81000,
          17000,
          118600,
          23800,
          50857.142857142855,
          54333.333333333336,
          14000,
          190000,
          117750
         ],
         "yaxis": "y"
        },
        {
         "alignmentgroup": "True",
         "bingroup": "x",
         "hovertemplate": "Number of courses=%{x}<br>count=%{y}<extra></extra>",
         "legendgroup": "",
         "marker": {
          "color": "#1D6996"
         },
         "name": "",
         "offsetgroup": "",
         "opacity": 0.5,
         "showlegend": false,
         "type": "histogram",
         "x": [
          3,
          6,
          1,
          2,
          7,
          2,
          4,
          1,
          1,
          13,
          1,
          1,
          5,
          3,
          2,
          1,
          7,
          1,
          5,
          1,
          11,
          22,
          6,
          3,
          1,
          4,
          5,
          1,
          1,
          8,
          1,
          7,
          4,
          7,
          1,
          28,
          1,
          6,
          1,
          18,
          1,
          6,
          1,
          5,
          8,
          3,
          3,
          2,
          1,
          23,
          1,
          3,
          1,
          1,
          2,
          1,
          8,
          1,
          1,
          9,
          2,
          1,
          1,
          7,
          1,
          1,
          4,
          10,
          1,
          1,
          1,
          2,
          1,
          6,
          3,
          1,
          13,
          1,
          6,
          7,
          2,
          3,
          1,
          1,
          4,
          12,
          2,
          3,
          1,
          2,
          7,
          1,
          5,
          2,
          3,
          2,
          7,
          1,
          3,
          3,
          4,
          1,
          1,
          1,
          2,
          1,
          1,
          3,
          3,
          5,
          13,
          3,
          1,
          7,
          1,
          9,
          4,
          11,
          5,
          8,
          21,
          20,
          4,
          3,
          17,
          13,
          2,
          3,
          6,
          19,
          1,
          3,
          6,
          33,
          11,
          1,
          52,
          3,
          10,
          18,
          3,
          2,
          7,
          3,
          2,
          1,
          5,
          2,
          14,
          3,
          1,
          1,
          4
         ],
         "xaxis": "x3",
         "yaxis": "y3"
        },
        {
         "alignmentgroup": "True",
         "bingroup": "y",
         "hovertemplate": "Average student enrollment=%{y}<br>count=%{x}<extra></extra>",
         "legendgroup": "",
         "marker": {
          "color": "#1D6996"
         },
         "name": "",
         "offsetgroup": "",
         "opacity": 0.5,
         "showlegend": false,
         "type": "histogram",
         "xaxis": "x2",
         "y": [
          3300,
          60666.666666666664,
          11000,
          15000,
          84214.28571428571,
          40000,
          12050,
          2200,
          20000,
          74461.53846153847,
          47000,
          14000,
          56000,
          61833.333333333336,
          46500,
          14000,
          46457.142857142855,
          31000,
          48400,
          8800,
          62127.27272727273,
          89436.36363636363,
          55000,
          9533.333333333334,
          39000,
          52750,
          37360,
          34000,
          6500,
          21562.5,
          9200,
          71857.14285714286,
          64750,
          74714.28571428571,
          210000,
          38546.42857142857,
          95000,
          34083.333333333336,
          16000,
          88133.33333333333,
          48000,
          41700,
          43000,
          41400,
          47525,
          65000,
          12866.666666666666,
          8550,
          37000,
          69082.60869565218,
          22000,
          16433.333333333332,
          57000,
          35000,
          38500,
          18000,
          53737.5,
          52000,
          10000,
          75888.88888888889,
          43500,
          47000,
          15000,
          61857.142857142855,
          13000,
          4900,
          20750,
          47500,
          8200,
          32000,
          9100,
          32500,
          2400,
          48500,
          133333.33333333334,
          53000,
          56615.38461538462,
          32000,
          32900,
          14342.857142857143,
          12300,
          21333.333333333332,
          12000,
          39000,
          59500,
          62833.333333333336,
          42500,
          37000,
          49000,
          10050,
          75428.57142857143,
          13000,
          97800,
          34000,
          27000,
          84000,
          72142.85714285714,
          9500,
          43000,
          114666.66666666667,
          38500,
          52000,
          54000,
          22000,
          42500,
          7800,
          6100,
          63500,
          38000,
          61080,
          69069.23076923077,
          68500,
          17000,
          40542.857142857145,
          78000,
          56666.666666666664,
          45250,
          41800,
          65580,
          114500,
          60890.47619047619,
          77800,
          42250,
          53666.666666666664,
          35370.58823529412,
          21892.30769230769,
          17700,
          27000,
          38066.666666666664,
          51421.05263157895,
          31000,
          25666.666666666668,
          50333.333333333336,
          60839.393939393936,
          48000,
          5500,
          60101.92307692308,
          23000,
          66960,
          73111.11111111111,
          102333.33333333333,
          16500,
          49428.57142857143,
          48666.666666666664,
          81000,
          17000,
          118600,
          23800,
          50857.142857142855,
          54333.333333333336,
          14000,
          190000,
          117750
         ],
         "yaxis": "y2"
        }
       ],
       "layout": {
        "barmode": "overlay",
        "height": 700,
        "hoverlabel": {
         "bgcolor": "white",
         "bordercolor": "white",
         "font": {
          "color": "#494a5e"
         }
        },
        "legend": {
         "tracegroupgap": 0
        },
        "margin": {
         "b": 60,
         "r": 5,
         "t": 70
        },
        "template": {
         "data": {
          "bar": [
           {
            "error_x": {
             "color": "rgb(36,36,36)"
            },
            "error_y": {
             "color": "rgb(36,36,36)"
            },
            "marker": {
             "line": {
              "color": "white",
              "width": 0.5
             },
             "pattern": {
              "fillmode": "overlay",
              "size": 10,
              "solidity": 0.2
             }
            },
            "type": "bar"
           }
          ],
          "barpolar": [
           {
            "marker": {
             "line": {
              "color": "white",
              "width": 0.5
             },
             "pattern": {
              "fillmode": "overlay",
              "size": 10,
              "solidity": 0.2
             }
            },
            "type": "barpolar"
           }
          ],
          "carpet": [
           {
            "aaxis": {
             "endlinecolor": "rgb(36,36,36)",
             "gridcolor": "white",
             "linecolor": "white",
             "minorgridcolor": "white",
             "startlinecolor": "rgb(36,36,36)"
            },
            "baxis": {
             "endlinecolor": "rgb(36,36,36)",
             "gridcolor": "white",
             "linecolor": "white",
             "minorgridcolor": "white",
             "startlinecolor": "rgb(36,36,36)"
            },
            "type": "carpet"
           }
          ],
          "choropleth": [
           {
            "colorbar": {
             "outlinewidth": 1,
             "tickcolor": "rgb(36,36,36)",
             "ticks": "outside"
            },
            "type": "choropleth"
           }
          ],
          "contour": [
           {
            "colorbar": {
             "outlinewidth": 1,
             "tickcolor": "rgb(36,36,36)",
             "ticks": "outside"
            },
            "colorscale": [
             [
              0,
              "#440154"
             ],
             [
              0.1111111111111111,
              "#482878"
             ],
             [
              0.2222222222222222,
              "#3e4989"
             ],
             [
              0.3333333333333333,
              "#31688e"
             ],
             [
              0.4444444444444444,
              "#26828e"
             ],
             [
              0.5555555555555556,
              "#1f9e89"
             ],
             [
              0.6666666666666666,
              "#35b779"
             ],
             [
              0.7777777777777778,
              "#6ece58"
             ],
             [
              0.8888888888888888,
              "#b5de2b"
             ],
             [
              1,
              "#fde725"
             ]
            ],
            "type": "contour"
           }
          ],
          "contourcarpet": [
           {
            "colorbar": {
             "outlinewidth": 1,
             "tickcolor": "rgb(36,36,36)",
             "ticks": "outside"
            },
            "type": "contourcarpet"
           }
          ],
          "heatmap": [
           {
            "colorbar": {
             "outlinewidth": 1,
             "tickcolor": "rgb(36,36,36)",
             "ticks": "outside"
            },
            "colorscale": [
             [
              0,
              "#440154"
             ],
             [
              0.1111111111111111,
              "#482878"
             ],
             [
              0.2222222222222222,
              "#3e4989"
             ],
             [
              0.3333333333333333,
              "#31688e"
             ],
             [
              0.4444444444444444,
              "#26828e"
             ],
             [
              0.5555555555555556,
              "#1f9e89"
             ],
             [
              0.6666666666666666,
              "#35b779"
             ],
             [
              0.7777777777777778,
              "#6ece58"
             ],
             [
              0.8888888888888888,
              "#b5de2b"
             ],
             [
              1,
              "#fde725"
             ]
            ],
            "type": "heatmap"
           }
          ],
          "heatmapgl": [
           {
            "colorbar": {
             "outlinewidth": 1,
             "tickcolor": "rgb(36,36,36)",
             "ticks": "outside"
            },
            "colorscale": [
             [
              0,
              "#440154"
             ],
             [
              0.1111111111111111,
              "#482878"
             ],
             [
              0.2222222222222222,
              "#3e4989"
             ],
             [
              0.3333333333333333,
              "#31688e"
             ],
             [
              0.4444444444444444,
              "#26828e"
             ],
             [
              0.5555555555555556,
              "#1f9e89"
             ],
             [
              0.6666666666666666,
              "#35b779"
             ],
             [
              0.7777777777777778,
              "#6ece58"
             ],
             [
              0.8888888888888888,
              "#b5de2b"
             ],
             [
              1,
              "#fde725"
             ]
            ],
            "type": "heatmapgl"
           }
          ],
          "histogram": [
           {
            "marker": {
             "line": {
              "color": "white",
              "width": 0.6
             }
            },
            "type": "histogram"
           }
          ],
          "histogram2d": [
           {
            "colorbar": {
             "outlinewidth": 1,
             "tickcolor": "rgb(36,36,36)",
             "ticks": "outside"
            },
            "colorscale": [
             [
              0,
              "#440154"
             ],
             [
              0.1111111111111111,
              "#482878"
             ],
             [
              0.2222222222222222,
              "#3e4989"
             ],
             [
              0.3333333333333333,
              "#31688e"
             ],
             [
              0.4444444444444444,
              "#26828e"
             ],
             [
              0.5555555555555556,
              "#1f9e89"
             ],
             [
              0.6666666666666666,
              "#35b779"
             ],
             [
              0.7777777777777778,
              "#6ece58"
             ],
             [
              0.8888888888888888,
              "#b5de2b"
             ],
             [
              1,
              "#fde725"
             ]
            ],
            "type": "histogram2d"
           }
          ],
          "histogram2dcontour": [
           {
            "colorbar": {
             "outlinewidth": 1,
             "tickcolor": "rgb(36,36,36)",
             "ticks": "outside"
            },
            "colorscale": [
             [
              0,
              "#440154"
             ],
             [
              0.1111111111111111,
              "#482878"
             ],
             [
              0.2222222222222222,
              "#3e4989"
             ],
             [
              0.3333333333333333,
              "#31688e"
             ],
             [
              0.4444444444444444,
              "#26828e"
             ],
             [
              0.5555555555555556,
              "#1f9e89"
             ],
             [
              0.6666666666666666,
              "#35b779"
             ],
             [
              0.7777777777777778,
              "#6ece58"
             ],
             [
              0.8888888888888888,
              "#b5de2b"
             ],
             [
              1,
              "#fde725"
             ]
            ],
            "type": "histogram2dcontour"
           }
          ],
          "mesh3d": [
           {
            "colorbar": {
             "outlinewidth": 1,
             "tickcolor": "rgb(36,36,36)",
             "ticks": "outside"
            },
            "type": "mesh3d"
           }
          ],
          "parcoords": [
           {
            "line": {
             "colorbar": {
              "outlinewidth": 1,
              "tickcolor": "rgb(36,36,36)",
              "ticks": "outside"
             }
            },
            "type": "parcoords"
           }
          ],
          "pie": [
           {
            "automargin": true,
            "type": "pie"
           }
          ],
          "scatter": [
           {
            "fillpattern": {
             "fillmode": "overlay",
             "size": 10,
             "solidity": 0.2
            },
            "type": "scatter"
           }
          ],
          "scatter3d": [
           {
            "line": {
             "colorbar": {
              "outlinewidth": 1,
              "tickcolor": "rgb(36,36,36)",
              "ticks": "outside"
             }
            },
            "marker": {
             "colorbar": {
              "outlinewidth": 1,
              "tickcolor": "rgb(36,36,36)",
              "ticks": "outside"
             }
            },
            "type": "scatter3d"
           }
          ],
          "scattercarpet": [
           {
            "marker": {
             "colorbar": {
              "outlinewidth": 1,
              "tickcolor": "rgb(36,36,36)",
              "ticks": "outside"
             }
            },
            "type": "scattercarpet"
           }
          ],
          "scattergeo": [
           {
            "marker": {
             "colorbar": {
              "outlinewidth": 1,
              "tickcolor": "rgb(36,36,36)",
              "ticks": "outside"
             }
            },
            "type": "scattergeo"
           }
          ],
          "scattergl": [
           {
            "marker": {
             "colorbar": {
              "outlinewidth": 1,
              "tickcolor": "rgb(36,36,36)",
              "ticks": "outside"
             }
            },
            "type": "scattergl"
           }
          ],
          "scattermapbox": [
           {
            "marker": {
             "colorbar": {
              "outlinewidth": 1,
              "tickcolor": "rgb(36,36,36)",
              "ticks": "outside"
             }
            },
            "type": "scattermapbox"
           }
          ],
          "scatterpolar": [
           {
            "marker": {
             "colorbar": {
              "outlinewidth": 1,
              "tickcolor": "rgb(36,36,36)",
              "ticks": "outside"
             }
            },
            "type": "scatterpolar"
           }
          ],
          "scatterpolargl": [
           {
            "marker": {
             "colorbar": {
              "outlinewidth": 1,
              "tickcolor": "rgb(36,36,36)",
              "ticks": "outside"
             }
            },
            "type": "scatterpolargl"
           }
          ],
          "scatterternary": [
           {
            "marker": {
             "colorbar": {
              "outlinewidth": 1,
              "tickcolor": "rgb(36,36,36)",
              "ticks": "outside"
             }
            },
            "type": "scatterternary"
           }
          ],
          "surface": [
           {
            "colorbar": {
             "outlinewidth": 1,
             "tickcolor": "rgb(36,36,36)",
             "ticks": "outside"
            },
            "colorscale": [
             [
              0,
              "#440154"
             ],
             [
              0.1111111111111111,
              "#482878"
             ],
             [
              0.2222222222222222,
              "#3e4989"
             ],
             [
              0.3333333333333333,
              "#31688e"
             ],
             [
              0.4444444444444444,
              "#26828e"
             ],
             [
              0.5555555555555556,
              "#1f9e89"
             ],
             [
              0.6666666666666666,
              "#35b779"
             ],
             [
              0.7777777777777778,
              "#6ece58"
             ],
             [
              0.8888888888888888,
              "#b5de2b"
             ],
             [
              1,
              "#fde725"
             ]
            ],
            "type": "surface"
           }
          ],
          "table": [
           {
            "cells": {
             "fill": {
              "color": "rgb(237,237,237)"
             },
             "line": {
              "color": "white"
             }
            },
            "header": {
             "fill": {
              "color": "rgb(217,217,217)"
             },
             "line": {
              "color": "white"
             }
            },
            "type": "table"
           }
          ]
         },
         "layout": {
          "annotationdefaults": {
           "arrowhead": 0,
           "arrowwidth": 1
          },
          "autotypenumbers": "strict",
          "coloraxis": {
           "colorbar": {
            "outlinewidth": 1,
            "tickcolor": "rgb(36,36,36)",
            "ticks": "outside"
           }
          },
          "colorscale": {
           "diverging": [
            [
             0,
             "rgb(103,0,31)"
            ],
            [
             0.1,
             "rgb(178,24,43)"
            ],
            [
             0.2,
             "rgb(214,96,77)"
            ],
            [
             0.3,
             "rgb(244,165,130)"
            ],
            [
             0.4,
             "rgb(253,219,199)"
            ],
            [
             0.5,
             "rgb(247,247,247)"
            ],
            [
             0.6,
             "rgb(209,229,240)"
            ],
            [
             0.7,
             "rgb(146,197,222)"
            ],
            [
             0.8,
             "rgb(67,147,195)"
            ],
            [
             0.9,
             "rgb(33,102,172)"
            ],
            [
             1,
             "rgb(5,48,97)"
            ]
           ],
           "sequential": [
            [
             0,
             "#440154"
            ],
            [
             0.1111111111111111,
             "#482878"
            ],
            [
             0.2222222222222222,
             "#3e4989"
            ],
            [
             0.3333333333333333,
             "#31688e"
            ],
            [
             0.4444444444444444,
             "#26828e"
            ],
            [
             0.5555555555555556,
             "#1f9e89"
            ],
            [
             0.6666666666666666,
             "#35b779"
            ],
            [
             0.7777777777777778,
             "#6ece58"
            ],
            [
             0.8888888888888888,
             "#b5de2b"
            ],
            [
             1,
             "#fde725"
            ]
           ],
           "sequentialminus": [
            [
             0,
             "#440154"
            ],
            [
             0.1111111111111111,
             "#482878"
            ],
            [
             0.2222222222222222,
             "#3e4989"
            ],
            [
             0.3333333333333333,
             "#31688e"
            ],
            [
             0.4444444444444444,
             "#26828e"
            ],
            [
             0.5555555555555556,
             "#1f9e89"
            ],
            [
             0.6666666666666666,
             "#35b779"
            ],
            [
             0.7777777777777778,
             "#6ece58"
            ],
            [
             0.8888888888888888,
             "#b5de2b"
            ],
            [
             1,
             "#fde725"
            ]
           ]
          },
          "colorway": [
           "#1F77B4",
           "#FF7F0E",
           "#2CA02C",
           "#D62728",
           "#9467BD",
           "#8C564B",
           "#E377C2",
           "#7F7F7F",
           "#BCBD22",
           "#17BECF"
          ],
          "font": {
           "color": "rgb(36,36,36)"
          },
          "geo": {
           "bgcolor": "white",
           "lakecolor": "white",
           "landcolor": "white",
           "showlakes": true,
           "showland": true,
           "subunitcolor": "white"
          },
          "hoverlabel": {
           "align": "left"
          },
          "hovermode": "closest",
          "mapbox": {
           "style": "light"
          },
          "paper_bgcolor": "white",
          "plot_bgcolor": "white",
          "polar": {
           "angularaxis": {
            "gridcolor": "rgb(232,232,232)",
            "linecolor": "rgb(36,36,36)",
            "showgrid": false,
            "showline": true,
            "ticks": "outside"
           },
           "bgcolor": "white",
           "radialaxis": {
            "gridcolor": "rgb(232,232,232)",
            "linecolor": "rgb(36,36,36)",
            "showgrid": false,
            "showline": true,
            "ticks": "outside"
           }
          },
          "scene": {
           "xaxis": {
            "backgroundcolor": "white",
            "gridcolor": "rgb(232,232,232)",
            "gridwidth": 2,
            "linecolor": "rgb(36,36,36)",
            "showbackground": true,
            "showgrid": false,
            "showline": true,
            "ticks": "outside",
            "zeroline": false,
            "zerolinecolor": "rgb(36,36,36)"
           },
           "yaxis": {
            "backgroundcolor": "white",
            "gridcolor": "rgb(232,232,232)",
            "gridwidth": 2,
            "linecolor": "rgb(36,36,36)",
            "showbackground": true,
            "showgrid": false,
            "showline": true,
            "ticks": "outside",
            "zeroline": false,
            "zerolinecolor": "rgb(36,36,36)"
           },
           "zaxis": {
            "backgroundcolor": "white",
            "gridcolor": "rgb(232,232,232)",
            "gridwidth": 2,
            "linecolor": "rgb(36,36,36)",
            "showbackground": true,
            "showgrid": false,
            "showline": true,
            "ticks": "outside",
            "zeroline": false,
            "zerolinecolor": "rgb(36,36,36)"
           }
          },
          "shapedefaults": {
           "fillcolor": "black",
           "line": {
            "width": 0
           },
           "opacity": 0.3
          },
          "ternary": {
           "aaxis": {
            "gridcolor": "rgb(232,232,232)",
            "linecolor": "rgb(36,36,36)",
            "showgrid": false,
            "showline": true,
            "ticks": "outside"
           },
           "baxis": {
            "gridcolor": "rgb(232,232,232)",
            "linecolor": "rgb(36,36,36)",
            "showgrid": false,
            "showline": true,
            "ticks": "outside"
           },
           "bgcolor": "white",
           "caxis": {
            "gridcolor": "rgb(232,232,232)",
            "linecolor": "rgb(36,36,36)",
            "showgrid": false,
            "showline": true,
            "ticks": "outside"
           }
          },
          "title": {
           "x": 0.05
          },
          "xaxis": {
           "automargin": true,
           "gridcolor": "rgb(232,232,232)",
           "linecolor": "rgb(36,36,36)",
           "showgrid": false,
           "showline": true,
           "ticks": "outside",
           "title": {
            "standoff": 15
           },
           "zeroline": false,
           "zerolinecolor": "rgb(36,36,36)"
          },
          "yaxis": {
           "automargin": true,
           "gridcolor": "rgb(232,232,232)",
           "linecolor": "rgb(36,36,36)",
           "showgrid": false,
           "showline": true,
           "ticks": "outside",
           "title": {
            "standoff": 15
           },
           "zeroline": false,
           "zerolinecolor": "rgb(36,36,36)"
          }
         }
        },
        "title": {
         "text": "Organization comparison: total courses offered vs. average student enrollment"
        },
        "width": 1000,
        "xaxis": {
         "anchor": "y",
         "domain": [
          0,
          0.7363
         ],
         "title": {
          "text": "Number of courses"
         }
        },
        "xaxis2": {
         "anchor": "y2",
         "domain": [
          0.7413,
          1
         ],
         "matches": "x2",
         "showline": false,
         "showticklabels": false,
         "ticks": ""
        },
        "xaxis3": {
         "anchor": "y3",
         "domain": [
          0,
          0.7363
         ],
         "matches": "x",
         "showticklabels": false
        },
        "xaxis4": {
         "anchor": "y4",
         "domain": [
          0.7413,
          1
         ],
         "matches": "x2",
         "showline": false,
         "showticklabels": false,
         "ticks": ""
        },
        "yaxis": {
         "anchor": "x",
         "domain": [
          0,
          0.7326
         ],
         "title": {
          "text": "Average student enrollment"
         }
        },
        "yaxis2": {
         "anchor": "x2",
         "domain": [
          0,
          0.7326
         ],
         "matches": "y",
         "showticklabels": false
        },
        "yaxis3": {
         "anchor": "x3",
         "domain": [
          0.7426,
          1
         ],
         "matches": "y3",
         "showline": false,
         "showticklabels": false,
         "ticks": ""
        },
        "yaxis4": {
         "anchor": "x4",
         "domain": [
          0.7426,
          1
         ],
         "matches": "y3",
         "showline": false,
         "showticklabels": false,
         "ticks": ""
        }
       }
      },
      "image/svg+xml": [
       "<svg class=\"main-svg\" xmlns=\"http://www.w3.org/2000/svg\" xmlns:xlink=\"http://www.w3.org/1999/xlink\" width=\"1000\" height=\"700\" style=\"\" viewBox=\"0 0 1000 700\"><rect x=\"0\" y=\"0\" width=\"1000\" height=\"700\" style=\"fill: rgb(255, 255, 255); fill-opacity: 1;\"/><defs id=\"defs-9e750a\"><g class=\"clips\"><clipPath id=\"clip9e750axyplot\" class=\"plotclip\"><rect width=\"673.7144999999999\" height=\"417.582\"/></clipPath><clipPath id=\"clip9e750ax2y2plot\" class=\"plotclip\"><rect width=\"236.71050000000002\" height=\"417.582\"/></clipPath><clipPath id=\"clip9e750ax3y3plot\" class=\"plotclip\"><rect width=\"673.7144999999999\" height=\"146.718\"/></clipPath><clipPath class=\"axesclip\" id=\"clip9e750ax\"><rect x=\"80\" y=\"0\" width=\"673.7144999999999\" height=\"700\"/></clipPath><clipPath class=\"axesclip\" id=\"clip9e750ay\"><rect x=\"0\" y=\"222.41799999999998\" width=\"1000\" height=\"417.582\"/></clipPath><clipPath class=\"axesclip\" id=\"clip9e750axy\"><rect x=\"80\" y=\"222.41799999999998\" width=\"673.7144999999999\" height=\"417.582\"/></clipPath><clipPath class=\"axesclip\" id=\"clip9e750ay2\"><rect x=\"0\" y=\"222.41799999999998\" width=\"1000\" height=\"417.582\"/></clipPath><clipPath class=\"axesclip\" id=\"clip9e750axy2\"><rect x=\"80\" y=\"222.41799999999998\" width=\"673.7144999999999\" height=\"417.582\"/></clipPath><clipPath class=\"axesclip\" id=\"clip9e750ay3\"><rect x=\"0\" y=\"70\" width=\"1000\" height=\"146.718\"/></clipPath><clipPath class=\"axesclip\" id=\"clip9e750axy3\"><rect x=\"80\" y=\"70\" width=\"673.7144999999999\" height=\"146.718\"/></clipPath><clipPath class=\"axesclip\" id=\"clip9e750ax2\"><rect x=\"758.2895\" y=\"0\" width=\"236.71050000000002\" height=\"700\"/></clipPath><clipPath class=\"axesclip\" id=\"clip9e750ax2y\"><rect x=\"758.2895\" y=\"222.41799999999998\" width=\"236.71050000000002\" height=\"417.582\"/></clipPath><clipPath class=\"axesclip\" id=\"clip9e750ax2y2\"><rect x=\"758.2895\" y=\"222.41799999999998\" width=\"236.71050000000002\" height=\"417.582\"/></clipPath><clipPath class=\"axesclip\" id=\"clip9e750ax2y3\"><rect x=\"758.2895\" y=\"70\" width=\"236.71050000000002\" height=\"146.718\"/></clipPath><clipPath class=\"axesclip\" id=\"clip9e750ax3\"><rect x=\"80\" y=\"0\" width=\"673.7144999999999\" height=\"700\"/></clipPath><clipPath class=\"axesclip\" id=\"clip9e750ax3y\"><rect x=\"80\" y=\"222.41799999999998\" width=\"673.7144999999999\" height=\"417.582\"/></clipPath><clipPath class=\"axesclip\" id=\"clip9e750ax3y2\"><rect x=\"80\" y=\"222.41799999999998\" width=\"673.7144999999999\" height=\"417.582\"/></clipPath><clipPath class=\"axesclip\" id=\"clip9e750ax3y3\"><rect x=\"80\" y=\"70\" width=\"673.7144999999999\" height=\"146.718\"/></clipPath></g><g class=\"gradients\"/><g class=\"patterns\"/></defs><g class=\"bglayer\"/><g class=\"layer-below\"><g class=\"imagelayer\"/><g class=\"shapelayer\"/></g><g class=\"cartesianlayer\"><g class=\"subplot xy\"><g class=\"layer-subplot\"><g class=\"shapelayer\"/><g class=\"imagelayer\"/></g><g class=\"minor-gridlayer\"><g class=\"x\"/><g class=\"y\"/></g><g class=\"gridlayer\"><g class=\"x\"/><g class=\"y\"/></g><g class=\"zerolinelayer\"/><g class=\"layer-between\"><g class=\"shapelayer\"/><g class=\"imagelayer\"/></g><path class=\"xlines-below\"/><path class=\"ylines-below\"/><g class=\"overlines-below\"/><g class=\"xaxislayer-below\"/><g class=\"yaxislayer-below\"/><g class=\"overaxes-below\"/><g class=\"overplot\"><g class=\"xy\" transform=\"translate(80,222.41799999999998)\" clip-path=\"url(#clip9e750axyplot)\"><g class=\"scatterlayer mlayer\"><g class=\"trace scatter traceee53e7\" style=\"stroke-miterlimit: 2; opacity: 1;\"><g class=\"fills\"/><g class=\"errorbars\"/><g class=\"lines\"/><g class=\"points\"><path class=\"point\" transform=\"translate(60.92,391)\" d=\"M3,0A3,3 0 1,1 0,-3A3,3 0 0,1 3,0Z\" style=\"opacity: 0.5; stroke-width: 0px; fill: rgb(29, 105, 150); fill-opacity: 1;\"/><path class=\"point\" transform=\"translate(96.15,289.32)\" d=\"M3,0A3,3 0 1,1 0,-3A3,3 0 0,1 3,0Z\" style=\"opacity: 0.5; stroke-width: 0px; fill: rgb(29, 105, 150); fill-opacity: 1;\"/><path class=\"point\" transform=\"translate(37.44,377.35)\" d=\"M3,0A3,3 0 1,1 0,-3A3,3 0 0,1 3,0Z\" style=\"opacity: 0.5; stroke-width: 0px; fill: rgb(29, 105, 150); fill-opacity: 1;\"/><path class=\"point\" transform=\"translate(49.18,370.27)\" d=\"M3,0A3,3 0 1,1 0,-3A3,3 0 0,1 3,0Z\" style=\"opacity: 0.5; stroke-width: 0px; fill: rgb(29, 105, 150); fill-opacity: 1;\"/><path class=\"point\" transform=\"translate(107.89,247.58)\" d=\"M3,0A3,3 0 1,1 0,-3A3,3 0 0,1 3,0Z\" style=\"opacity: 0.5; stroke-width: 0px; fill: rgb(29, 105, 150); fill-opacity: 1;\"/><path class=\"point\" transform=\"translate(49.18,325.95)\" d=\"M3,0A3,3 0 1,1 0,-3A3,3 0 0,1 3,0Z\" style=\"opacity: 0.5; stroke-width: 0px; fill: rgb(29, 105, 150); fill-opacity: 1;\"/><path class=\"point\" transform=\"translate(72.66,375.49)\" d=\"M3,0A3,3 0 1,1 0,-3A3,3 0 0,1 3,0Z\" style=\"opacity: 0.5; stroke-width: 0px; fill: rgb(29, 105, 150); fill-opacity: 1;\"/><path class=\"point\" transform=\"translate(37.44,392.95)\" d=\"M3,0A3,3 0 1,1 0,-3A3,3 0 0,1 3,0Z\" style=\"opacity: 0.5; stroke-width: 0px; fill: rgb(29, 105, 150); fill-opacity: 1;\"/><path class=\"point\" transform=\"translate(37.44,361.4)\" d=\"M3,0A3,3 0 1,1 0,-3A3,3 0 0,1 3,0Z\" style=\"opacity: 0.5; stroke-width: 0px; fill: rgb(29, 105, 150); fill-opacity: 1;\"/><path class=\"point\" transform=\"translate(178.34,264.87)\" d=\"M3,0A3,3 0 1,1 0,-3A3,3 0 0,1 3,0Z\" style=\"opacity: 0.5; stroke-width: 0px; fill: rgb(29, 105, 150); fill-opacity: 1;\"/><path class=\"point\" transform=\"translate(37.44,313.55)\" d=\"M3,0A3,3 0 1,1 0,-3A3,3 0 0,1 3,0Z\" style=\"opacity: 0.5; stroke-width: 0px; fill: rgb(29, 105, 150); fill-opacity: 1;\"/><path class=\"point\" transform=\"translate(37.44,372.04)\" d=\"M3,0A3,3 0 1,1 0,-3A3,3 0 0,1 3,0Z\" style=\"opacity: 0.5; stroke-width: 0px; fill: rgb(29, 105, 150); fill-opacity: 1;\"/><path class=\"point\" transform=\"translate(84.4,297.59)\" d=\"M3,0A3,3 0 1,1 0,-3A3,3 0 0,1 3,0Z\" style=\"opacity: 0.5; stroke-width: 0px; fill: rgb(29, 105, 150); fill-opacity: 1;\"/><path class=\"point\" transform=\"translate(60.92,287.25)\" d=\"M3,0A3,3 0 1,1 0,-3A3,3 0 0,1 3,0Z\" style=\"opacity: 0.5; stroke-width: 0px; fill: rgb(29, 105, 150); fill-opacity: 1;\"/><path class=\"point\" transform=\"translate(49.18,314.43)\" d=\"M3,0A3,3 0 1,1 0,-3A3,3 0 0,1 3,0Z\" style=\"opacity: 0.5; stroke-width: 0px; fill: rgb(29, 105, 150); fill-opacity: 1;\"/><path class=\"point\" transform=\"translate(37.44,372.04)\" d=\"M3,0A3,3 0 1,1 0,-3A3,3 0 0,1 3,0Z\" style=\"opacity: 0.5; stroke-width: 0px; fill: rgb(29, 105, 150); fill-opacity: 1;\"/><path class=\"point\" transform=\"translate(107.89,314.51)\" d=\"M3,0A3,3 0 1,1 0,-3A3,3 0 0,1 3,0Z\" style=\"opacity: 0.5; stroke-width: 0px; fill: rgb(29, 105, 150); fill-opacity: 1;\"/><path class=\"point\" transform=\"translate(37.44,341.91)\" d=\"M3,0A3,3 0 1,1 0,-3A3,3 0 0,1 3,0Z\" style=\"opacity: 0.5; stroke-width: 0px; fill: rgb(29, 105, 150); fill-opacity: 1;\"/><path class=\"point\" transform=\"translate(84.4,311.06)\" d=\"M3,0A3,3 0 1,1 0,-3A3,3 0 0,1 3,0Z\" style=\"opacity: 0.5; stroke-width: 0px; fill: rgb(29, 105, 150); fill-opacity: 1;\"/><path class=\"point\" transform=\"translate(37.44,381.25)\" d=\"M3,0A3,3 0 1,1 0,-3A3,3 0 0,1 3,0Z\" style=\"opacity: 0.5; stroke-width: 0px; fill: rgb(29, 105, 150); fill-opacity: 1;\"/><path class=\"point\" transform=\"translate(154.86,286.73)\" d=\"M3,0A3,3 0 1,1 0,-3A3,3 0 0,1 3,0Z\" style=\"opacity: 0.5; stroke-width: 0px; fill: rgb(29, 105, 150); fill-opacity: 1;\"/><path class=\"point\" transform=\"translate(284.02,238.33)\" d=\"M3,0A3,3 0 1,1 0,-3A3,3 0 0,1 3,0Z\" style=\"opacity: 0.5; stroke-width: 0px; fill: rgb(29, 105, 150); fill-opacity: 1;\"/><path class=\"point\" transform=\"translate(96.15,299.37)\" d=\"M3,0A3,3 0 1,1 0,-3A3,3 0 0,1 3,0Z\" style=\"opacity: 0.5; stroke-width: 0px; fill: rgb(29, 105, 150); fill-opacity: 1;\"/><path class=\"point\" transform=\"translate(60.92,379.95)\" d=\"M3,0A3,3 0 1,1 0,-3A3,3 0 0,1 3,0Z\" style=\"opacity: 0.5; stroke-width: 0px; fill: rgb(29, 105, 150); fill-opacity: 1;\"/><path class=\"point\" transform=\"translate(37.44,327.73)\" d=\"M3,0A3,3 0 1,1 0,-3A3,3 0 0,1 3,0Z\" style=\"opacity: 0.5; stroke-width: 0px; fill: rgb(29, 105, 150); fill-opacity: 1;\"/><path class=\"point\" transform=\"translate(72.66,303.35)\" d=\"M3,0A3,3 0 1,1 0,-3A3,3 0 0,1 3,0Z\" style=\"opacity: 0.5; stroke-width: 0px; fill: rgb(29, 105, 150); fill-opacity: 1;\"/><path class=\"point\" transform=\"translate(84.4,330.63)\" d=\"M3,0A3,3 0 1,1 0,-3A3,3 0 0,1 3,0Z\" style=\"opacity: 0.5; stroke-width: 0px; fill: rgb(29, 105, 150); fill-opacity: 1;\"/><path class=\"point\" transform=\"translate(37.44,336.59)\" d=\"M3,0A3,3 0 1,1 0,-3A3,3 0 0,1 3,0Z\" style=\"opacity: 0.5; stroke-width: 0px; fill: rgb(29, 105, 150); fill-opacity: 1;\"/><path class=\"point\" transform=\"translate(37.44,385.33)\" d=\"M3,0A3,3 0 1,1 0,-3A3,3 0 0,1 3,0Z\" style=\"opacity: 0.5; stroke-width: 0px; fill: rgb(29, 105, 150); fill-opacity: 1;\"/><path class=\"point\" transform=\"translate(119.63,358.63)\" d=\"M3,0A3,3 0 1,1 0,-3A3,3 0 0,1 3,0Z\" style=\"opacity: 0.5; stroke-width: 0px; fill: rgb(29, 105, 150); fill-opacity: 1;\"/><path class=\"point\" transform=\"translate(37.44,380.55)\" d=\"M3,0A3,3 0 1,1 0,-3A3,3 0 0,1 3,0Z\" style=\"opacity: 0.5; stroke-width: 0px; fill: rgb(29, 105, 150); fill-opacity: 1;\"/><path class=\"point\" transform=\"translate(107.89,269.49)\" d=\"M3,0A3,3 0 1,1 0,-3A3,3 0 0,1 3,0Z\" style=\"opacity: 0.5; stroke-width: 0px; fill: rgb(29, 105, 150); fill-opacity: 1;\"/><path class=\"point\" transform=\"translate(72.66,282.08)\" d=\"M3,0A3,3 0 1,1 0,-3A3,3 0 0,1 3,0Z\" style=\"opacity: 0.5; stroke-width: 0px; fill: rgb(29, 105, 150); fill-opacity: 1;\"/><path class=\"point\" transform=\"translate(107.89,264.42)\" d=\"M3,0A3,3 0 1,1 0,-3A3,3 0 0,1 3,0Z\" style=\"opacity: 0.5; stroke-width: 0px; fill: rgb(29, 105, 150); fill-opacity: 1;\"/><path class=\"point\" transform=\"translate(37.44,24.63)\" d=\"M3,0A3,3 0 1,1 0,-3A3,3 0 0,1 3,0Z\" style=\"opacity: 0.5; stroke-width: 0px; fill: rgb(29, 105, 150); fill-opacity: 1;\"/><path class=\"point\" transform=\"translate(354.47,328.53)\" d=\"M3,0A3,3 0 1,1 0,-3A3,3 0 0,1 3,0Z\" style=\"opacity: 0.5; stroke-width: 0px; fill: rgb(29, 105, 150); fill-opacity: 1;\"/><path class=\"point\" transform=\"translate(37.44,228.47)\" d=\"M3,0A3,3 0 1,1 0,-3A3,3 0 0,1 3,0Z\" style=\"opacity: 0.5; stroke-width: 0px; fill: rgb(29, 105, 150); fill-opacity: 1;\"/><path class=\"point\" transform=\"translate(96.15,336.44)\" d=\"M3,0A3,3 0 1,1 0,-3A3,3 0 0,1 3,0Z\" style=\"opacity: 0.5; stroke-width: 0px; fill: rgb(29, 105, 150); fill-opacity: 1;\"/><path class=\"point\" transform=\"translate(37.44,368.49)\" d=\"M3,0A3,3 0 1,1 0,-3A3,3 0 0,1 3,0Z\" style=\"opacity: 0.5; stroke-width: 0px; fill: rgb(29, 105, 150); fill-opacity: 1;\"/><path class=\"point\" transform=\"translate(237.05,240.64)\" d=\"M3,0A3,3 0 1,1 0,-3A3,3 0 0,1 3,0Z\" style=\"opacity: 0.5; stroke-width: 0px; fill: rgb(29, 105, 150); fill-opacity: 1;\"/><path class=\"point\" transform=\"translate(37.44,311.77)\" d=\"M3,0A3,3 0 1,1 0,-3A3,3 0 0,1 3,0Z\" style=\"opacity: 0.5; stroke-width: 0px; fill: rgb(29, 105, 150); fill-opacity: 1;\"/><path class=\"point\" transform=\"translate(96.15,322.94)\" d=\"M3,0A3,3 0 1,1 0,-3A3,3 0 0,1 3,0Z\" style=\"opacity: 0.5; stroke-width: 0px; fill: rgb(29, 105, 150); fill-opacity: 1;\"/><path class=\"point\" transform=\"translate(37.44,320.64)\" d=\"M3,0A3,3 0 1,1 0,-3A3,3 0 0,1 3,0Z\" style=\"opacity: 0.5; stroke-width: 0px; fill: rgb(29, 105, 150); fill-opacity: 1;\"/><path class=\"point\" transform=\"translate(84.4,323.47)\" d=\"M3,0A3,3 0 1,1 0,-3A3,3 0 0,1 3,0Z\" style=\"opacity: 0.5; stroke-width: 0px; fill: rgb(29, 105, 150); fill-opacity: 1;\"/><path class=\"point\" transform=\"translate(119.63,312.61)\" d=\"M3,0A3,3 0 1,1 0,-3A3,3 0 0,1 3,0Z\" style=\"opacity: 0.5; stroke-width: 0px; fill: rgb(29, 105, 150); fill-opacity: 1;\"/><path class=\"point\" transform=\"translate(60.92,281.64)\" d=\"M3,0A3,3 0 1,1 0,-3A3,3 0 0,1 3,0Z\" style=\"opacity: 0.5; stroke-width: 0px; fill: rgb(29, 105, 150); fill-opacity: 1;\"/><path class=\"point\" transform=\"translate(60.92,374.05)\" d=\"M3,0A3,3 0 1,1 0,-3A3,3 0 0,1 3,0Z\" style=\"opacity: 0.5; stroke-width: 0px; fill: rgb(29, 105, 150); fill-opacity: 1;\"/><path class=\"point\" transform=\"translate(49.18,381.7)\" d=\"M3,0A3,3 0 1,1 0,-3A3,3 0 0,1 3,0Z\" style=\"opacity: 0.5; stroke-width: 0px; fill: rgb(29, 105, 150); fill-opacity: 1;\"/><path class=\"point\" transform=\"translate(37.44,331.27)\" d=\"M3,0A3,3 0 1,1 0,-3A3,3 0 0,1 3,0Z\" style=\"opacity: 0.5; stroke-width: 0px; fill: rgb(29, 105, 150); fill-opacity: 1;\"/><path class=\"point\" transform=\"translate(295.76,274.4)\" d=\"M3,0A3,3 0 1,1 0,-3A3,3 0 0,1 3,0Z\" style=\"opacity: 0.5; stroke-width: 0px; fill: rgb(29, 105, 150); fill-opacity: 1;\"/><path class=\"point\" transform=\"translate(37.44,357.86)\" d=\"M3,0A3,3 0 1,1 0,-3A3,3 0 0,1 3,0Z\" style=\"opacity: 0.5; stroke-width: 0px; fill: rgb(29, 105, 150); fill-opacity: 1;\"/><path class=\"point\" transform=\"translate(60.92,367.72)\" d=\"M3,0A3,3 0 1,1 0,-3A3,3 0 0,1 3,0Z\" style=\"opacity: 0.5; stroke-width: 0px; fill: rgb(29, 105, 150); fill-opacity: 1;\"/><path class=\"point\" transform=\"translate(37.44,295.82)\" d=\"M3,0A3,3 0 1,1 0,-3A3,3 0 0,1 3,0Z\" style=\"opacity: 0.5; stroke-width: 0px; fill: rgb(29, 105, 150); fill-opacity: 1;\"/><path class=\"point\" transform=\"translate(37.44,334.82)\" d=\"M3,0A3,3 0 1,1 0,-3A3,3 0 0,1 3,0Z\" style=\"opacity: 0.5; stroke-width: 0px; fill: rgb(29, 105, 150); fill-opacity: 1;\"/><path class=\"point\" transform=\"translate(49.18,328.61)\" d=\"M3,0A3,3 0 1,1 0,-3A3,3 0 0,1 3,0Z\" style=\"opacity: 0.5; stroke-width: 0px; fill: rgb(29, 105, 150); fill-opacity: 1;\"/><path class=\"point\" transform=\"translate(37.44,364.95)\" d=\"M3,0A3,3 0 1,1 0,-3A3,3 0 0,1 3,0Z\" style=\"opacity: 0.5; stroke-width: 0px; fill: rgb(29, 105, 150); fill-opacity: 1;\"/><path class=\"point\" transform=\"translate(119.63,301.6)\" d=\"M3,0A3,3 0 1,1 0,-3A3,3 0 0,1 3,0Z\" style=\"opacity: 0.5; stroke-width: 0px; fill: rgb(29, 105, 150); fill-opacity: 1;\"/><path class=\"point\" transform=\"translate(37.44,304.68)\" d=\"M3,0A3,3 0 1,1 0,-3A3,3 0 0,1 3,0Z\" style=\"opacity: 0.5; stroke-width: 0px; fill: rgb(29, 105, 150); fill-opacity: 1;\"/><path class=\"point\" transform=\"translate(37.44,379.13)\" d=\"M3,0A3,3 0 1,1 0,-3A3,3 0 0,1 3,0Z\" style=\"opacity: 0.5; stroke-width: 0px; fill: rgb(29, 105, 150); fill-opacity: 1;\"/><path class=\"point\" transform=\"translate(131.37,262.34)\" d=\"M3,0A3,3 0 1,1 0,-3A3,3 0 0,1 3,0Z\" style=\"opacity: 0.5; stroke-width: 0px; fill: rgb(29, 105, 150); fill-opacity: 1;\"/><path class=\"point\" transform=\"translate(49.18,319.75)\" d=\"M3,0A3,3 0 1,1 0,-3A3,3 0 0,1 3,0Z\" style=\"opacity: 0.5; stroke-width: 0px; fill: rgb(29, 105, 150); fill-opacity: 1;\"/><path class=\"point\" transform=\"translate(37.44,313.55)\" d=\"M3,0A3,3 0 1,1 0,-3A3,3 0 0,1 3,0Z\" style=\"opacity: 0.5; stroke-width: 0px; fill: rgb(29, 105, 150); fill-opacity: 1;\"/><path class=\"point\" transform=\"translate(37.44,370.27)\" d=\"M3,0A3,3 0 1,1 0,-3A3,3 0 0,1 3,0Z\" style=\"opacity: 0.5; stroke-width: 0px; fill: rgb(29, 105, 150); fill-opacity: 1;\"/><path class=\"point\" transform=\"translate(107.89,287.21)\" d=\"M3,0A3,3 0 1,1 0,-3A3,3 0 0,1 3,0Z\" style=\"opacity: 0.5; stroke-width: 0px; fill: rgb(29, 105, 150); fill-opacity: 1;\"/><path class=\"point\" transform=\"translate(37.44,373.81)\" d=\"M3,0A3,3 0 1,1 0,-3A3,3 0 0,1 3,0Z\" style=\"opacity: 0.5; stroke-width: 0px; fill: rgb(29, 105, 150); fill-opacity: 1;\"/><path class=\"point\" transform=\"translate(37.44,388.17)\" d=\"M3,0A3,3 0 1,1 0,-3A3,3 0 0,1 3,0Z\" style=\"opacity: 0.5; stroke-width: 0px; fill: rgb(29, 105, 150); fill-opacity: 1;\"/><path class=\"point\" transform=\"translate(72.66,360.07)\" d=\"M3,0A3,3 0 1,1 0,-3A3,3 0 0,1 3,0Z\" style=\"opacity: 0.5; stroke-width: 0px; fill: rgb(29, 105, 150); fill-opacity: 1;\"/><path class=\"point\" transform=\"translate(143.11,312.66)\" d=\"M3,0A3,3 0 1,1 0,-3A3,3 0 0,1 3,0Z\" style=\"opacity: 0.5; stroke-width: 0px; fill: rgb(29, 105, 150); fill-opacity: 1;\"/><path class=\"point\" transform=\"translate(37.44,382.32)\" d=\"M3,0A3,3 0 1,1 0,-3A3,3 0 0,1 3,0Z\" style=\"opacity: 0.5; stroke-width: 0px; fill: rgb(29, 105, 150); fill-opacity: 1;\"/><path class=\"point\" transform=\"translate(37.44,340.13)\" d=\"M3,0A3,3 0 1,1 0,-3A3,3 0 0,1 3,0Z\" style=\"opacity: 0.5; stroke-width: 0px; fill: rgb(29, 105, 150); fill-opacity: 1;\"/><path class=\"point\" transform=\"translate(37.44,380.72)\" d=\"M3,0A3,3 0 1,1 0,-3A3,3 0 0,1 3,0Z\" style=\"opacity: 0.5; stroke-width: 0px; fill: rgb(29, 105, 150); fill-opacity: 1;\"/><path class=\"point\" transform=\"translate(49.18,339.25)\" d=\"M3,0A3,3 0 1,1 0,-3A3,3 0 0,1 3,0Z\" style=\"opacity: 0.5; stroke-width: 0px; fill: rgb(29, 105, 150); fill-opacity: 1;\"/><path class=\"point\" transform=\"translate(37.44,392.6)\" d=\"M3,0A3,3 0 1,1 0,-3A3,3 0 0,1 3,0Z\" style=\"opacity: 0.5; stroke-width: 0px; fill: rgb(29, 105, 150); fill-opacity: 1;\"/><path class=\"point\" transform=\"translate(96.15,310.89)\" d=\"M3,0A3,3 0 1,1 0,-3A3,3 0 0,1 3,0Z\" style=\"opacity: 0.5; stroke-width: 0px; fill: rgb(29, 105, 150); fill-opacity: 1;\"/><path class=\"point\" transform=\"translate(60.92,160.52)\" d=\"M3,0A3,3 0 1,1 0,-3A3,3 0 0,1 3,0Z\" style=\"opacity: 0.5; stroke-width: 0px; fill: rgb(29, 105, 150); fill-opacity: 1;\"/><path class=\"point\" transform=\"translate(37.44,302.91)\" d=\"M3,0A3,3 0 1,1 0,-3A3,3 0 0,1 3,0Z\" style=\"opacity: 0.5; stroke-width: 0px; fill: rgb(29, 105, 150); fill-opacity: 1;\"/><path class=\"point\" transform=\"translate(178.34,296.5)\" d=\"M3,0A3,3 0 1,1 0,-3A3,3 0 0,1 3,0Z\" style=\"opacity: 0.5; stroke-width: 0px; fill: rgb(29, 105, 150); fill-opacity: 1;\"/><path class=\"point\" transform=\"translate(37.44,340.13)\" d=\"M3,0A3,3 0 1,1 0,-3A3,3 0 0,1 3,0Z\" style=\"opacity: 0.5; stroke-width: 0px; fill: rgb(29, 105, 150); fill-opacity: 1;\"/><path class=\"point\" transform=\"translate(96.15,338.54)\" d=\"M3,0A3,3 0 1,1 0,-3A3,3 0 0,1 3,0Z\" style=\"opacity: 0.5; stroke-width: 0px; fill: rgb(29, 105, 150); fill-opacity: 1;\"/><path class=\"point\" transform=\"translate(107.89,371.43)\" d=\"M3,0A3,3 0 1,1 0,-3A3,3 0 0,1 3,0Z\" style=\"opacity: 0.5; stroke-width: 0px; fill: rgb(29, 105, 150); fill-opacity: 1;\"/><path class=\"point\" transform=\"translate(49.18,375.05)\" d=\"M3,0A3,3 0 1,1 0,-3A3,3 0 0,1 3,0Z\" style=\"opacity: 0.5; stroke-width: 0px; fill: rgb(29, 105, 150); fill-opacity: 1;\"/><path class=\"point\" transform=\"translate(60.92,359.04)\" d=\"M3,0A3,3 0 1,1 0,-3A3,3 0 0,1 3,0Z\" style=\"opacity: 0.5; stroke-width: 0px; fill: rgb(29, 105, 150); fill-opacity: 1;\"/><path class=\"point\" transform=\"translate(37.44,375.58)\" d=\"M3,0A3,3 0 1,1 0,-3A3,3 0 0,1 3,0Z\" style=\"opacity: 0.5; stroke-width: 0px; fill: rgb(29, 105, 150); fill-opacity: 1;\"/><path class=\"point\" transform=\"translate(37.44,327.73)\" d=\"M3,0A3,3 0 1,1 0,-3A3,3 0 0,1 3,0Z\" style=\"opacity: 0.5; stroke-width: 0px; fill: rgb(29, 105, 150); fill-opacity: 1;\"/><path class=\"point\" transform=\"translate(72.66,291.39)\" d=\"M3,0A3,3 0 1,1 0,-3A3,3 0 0,1 3,0Z\" style=\"opacity: 0.5; stroke-width: 0px; fill: rgb(29, 105, 150); fill-opacity: 1;\"/><path class=\"point\" transform=\"translate(166.6,285.48)\" d=\"M3,0A3,3 0 1,1 0,-3A3,3 0 0,1 3,0Z\" style=\"opacity: 0.5; stroke-width: 0px; fill: rgb(29, 105, 150); fill-opacity: 1;\"/><path class=\"point\" transform=\"translate(49.18,321.52)\" d=\"M3,0A3,3 0 1,1 0,-3A3,3 0 0,1 3,0Z\" style=\"opacity: 0.5; stroke-width: 0px; fill: rgb(29, 105, 150); fill-opacity: 1;\"/><path class=\"point\" transform=\"translate(60.92,331.27)\" d=\"M3,0A3,3 0 1,1 0,-3A3,3 0 0,1 3,0Z\" style=\"opacity: 0.5; stroke-width: 0px; fill: rgb(29, 105, 150); fill-opacity: 1;\"/><path class=\"point\" transform=\"translate(37.44,310)\" d=\"M3,0A3,3 0 1,1 0,-3A3,3 0 0,1 3,0Z\" style=\"opacity: 0.5; stroke-width: 0px; fill: rgb(29, 105, 150); fill-opacity: 1;\"/><path class=\"point\" transform=\"translate(49.18,379.04)\" d=\"M3,0A3,3 0 1,1 0,-3A3,3 0 0,1 3,0Z\" style=\"opacity: 0.5; stroke-width: 0px; fill: rgb(29, 105, 150); fill-opacity: 1;\"/><path class=\"point\" transform=\"translate(107.89,263.16)\" d=\"M3,0A3,3 0 1,1 0,-3A3,3 0 0,1 3,0Z\" style=\"opacity: 0.5; stroke-width: 0px; fill: rgb(29, 105, 150); fill-opacity: 1;\"/><path class=\"point\" transform=\"translate(37.44,373.81)\" d=\"M3,0A3,3 0 1,1 0,-3A3,3 0 0,1 3,0Z\" style=\"opacity: 0.5; stroke-width: 0px; fill: rgb(29, 105, 150); fill-opacity: 1;\"/><path class=\"point\" transform=\"translate(84.4,223.5)\" d=\"M3,0A3,3 0 1,1 0,-3A3,3 0 0,1 3,0Z\" style=\"opacity: 0.5; stroke-width: 0px; fill: rgb(29, 105, 150); fill-opacity: 1;\"/><path class=\"point\" transform=\"translate(49.18,336.59)\" d=\"M3,0A3,3 0 1,1 0,-3A3,3 0 0,1 3,0Z\" style=\"opacity: 0.5; stroke-width: 0px; fill: rgb(29, 105, 150); fill-opacity: 1;\"/><path class=\"point\" transform=\"translate(60.92,349)\" d=\"M3,0A3,3 0 1,1 0,-3A3,3 0 0,1 3,0Z\" style=\"opacity: 0.5; stroke-width: 0px; fill: rgb(29, 105, 150); fill-opacity: 1;\"/><path class=\"point\" transform=\"translate(49.18,247.96)\" d=\"M3,0A3,3 0 1,1 0,-3A3,3 0 0,1 3,0Z\" style=\"opacity: 0.5; stroke-width: 0px; fill: rgb(29, 105, 150); fill-opacity: 1;\"/><path class=\"point\" transform=\"translate(107.89,268.98)\" d=\"M3,0A3,3 0 1,1 0,-3A3,3 0 0,1 3,0Z\" style=\"opacity: 0.5; stroke-width: 0px; fill: rgb(29, 105, 150); fill-opacity: 1;\"/><path class=\"point\" transform=\"translate(37.44,380.01)\" d=\"M3,0A3,3 0 1,1 0,-3A3,3 0 0,1 3,0Z\" style=\"opacity: 0.5; stroke-width: 0px; fill: rgb(29, 105, 150); fill-opacity: 1;\"/><path class=\"point\" transform=\"translate(60.92,320.64)\" d=\"M3,0A3,3 0 1,1 0,-3A3,3 0 0,1 3,0Z\" style=\"opacity: 0.5; stroke-width: 0px; fill: rgb(29, 105, 150); fill-opacity: 1;\"/><path class=\"point\" transform=\"translate(60.92,193.61)\" d=\"M3,0A3,3 0 1,1 0,-3A3,3 0 0,1 3,0Z\" style=\"opacity: 0.5; stroke-width: 0px; fill: rgb(29, 105, 150); fill-opacity: 1;\"/><path class=\"point\" transform=\"translate(72.66,328.61)\" d=\"M3,0A3,3 0 1,1 0,-3A3,3 0 0,1 3,0Z\" style=\"opacity: 0.5; stroke-width: 0px; fill: rgb(29, 105, 150); fill-opacity: 1;\"/><path class=\"point\" transform=\"translate(37.44,304.68)\" d=\"M3,0A3,3 0 1,1 0,-3A3,3 0 0,1 3,0Z\" style=\"opacity: 0.5; stroke-width: 0px; fill: rgb(29, 105, 150); fill-opacity: 1;\"/><path class=\"point\" transform=\"translate(37.44,301.14)\" d=\"M3,0A3,3 0 1,1 0,-3A3,3 0 0,1 3,0Z\" style=\"opacity: 0.5; stroke-width: 0px; fill: rgb(29, 105, 150); fill-opacity: 1;\"/><path class=\"point\" transform=\"translate(37.44,357.86)\" d=\"M3,0A3,3 0 1,1 0,-3A3,3 0 0,1 3,0Z\" style=\"opacity: 0.5; stroke-width: 0px; fill: rgb(29, 105, 150); fill-opacity: 1;\"/><path class=\"point\" transform=\"translate(49.18,321.52)\" d=\"M3,0A3,3 0 1,1 0,-3A3,3 0 0,1 3,0Z\" style=\"opacity: 0.5; stroke-width: 0px; fill: rgb(29, 105, 150); fill-opacity: 1;\"/><path class=\"point\" transform=\"translate(37.44,383.03)\" d=\"M3,0A3,3 0 1,1 0,-3A3,3 0 0,1 3,0Z\" style=\"opacity: 0.5; stroke-width: 0px; fill: rgb(29, 105, 150); fill-opacity: 1;\"/><path class=\"point\" transform=\"translate(37.44,386.04)\" d=\"M3,0A3,3 0 1,1 0,-3A3,3 0 0,1 3,0Z\" style=\"opacity: 0.5; stroke-width: 0px; fill: rgb(29, 105, 150); fill-opacity: 1;\"/><path class=\"point\" transform=\"translate(60.92,284.3)\" d=\"M3,0A3,3 0 1,1 0,-3A3,3 0 0,1 3,0Z\" style=\"opacity: 0.5; stroke-width: 0px; fill: rgb(29, 105, 150); fill-opacity: 1;\"/><path class=\"point\" transform=\"translate(60.92,329.5)\" d=\"M3,0A3,3 0 1,1 0,-3A3,3 0 0,1 3,0Z\" style=\"opacity: 0.5; stroke-width: 0px; fill: rgb(29, 105, 150); fill-opacity: 1;\"/><path class=\"point\" transform=\"translate(84.4,288.59)\" d=\"M3,0A3,3 0 1,1 0,-3A3,3 0 0,1 3,0Z\" style=\"opacity: 0.5; stroke-width: 0px; fill: rgb(29, 105, 150); fill-opacity: 1;\"/><path class=\"point\" transform=\"translate(178.34,274.43)\" d=\"M3,0A3,3 0 1,1 0,-3A3,3 0 0,1 3,0Z\" style=\"opacity: 0.5; stroke-width: 0px; fill: rgb(29, 105, 150); fill-opacity: 1;\"/><path class=\"point\" transform=\"translate(60.92,275.44)\" d=\"M3,0A3,3 0 1,1 0,-3A3,3 0 0,1 3,0Z\" style=\"opacity: 0.5; stroke-width: 0px; fill: rgb(29, 105, 150); fill-opacity: 1;\"/><path class=\"point\" transform=\"translate(37.44,366.72)\" d=\"M3,0A3,3 0 1,1 0,-3A3,3 0 0,1 3,0Z\" style=\"opacity: 0.5; stroke-width: 0px; fill: rgb(29, 105, 150); fill-opacity: 1;\"/><path class=\"point\" transform=\"translate(107.89,324.99)\" d=\"M3,0A3,3 0 1,1 0,-3A3,3 0 0,1 3,0Z\" style=\"opacity: 0.5; stroke-width: 0px; fill: rgb(29, 105, 150); fill-opacity: 1;\"/><path class=\"point\" transform=\"translate(37.44,258.6)\" d=\"M3,0A3,3 0 1,1 0,-3A3,3 0 0,1 3,0Z\" style=\"opacity: 0.5; stroke-width: 0px; fill: rgb(29, 105, 150); fill-opacity: 1;\"/><path class=\"point\" transform=\"translate(131.37,296.41)\" d=\"M3,0A3,3 0 1,1 0,-3A3,3 0 0,1 3,0Z\" style=\"opacity: 0.5; stroke-width: 0px; fill: rgb(29, 105, 150); fill-opacity: 1;\"/><path class=\"point\" transform=\"translate(72.66,316.65)\" d=\"M3,0A3,3 0 1,1 0,-3A3,3 0 0,1 3,0Z\" style=\"opacity: 0.5; stroke-width: 0px; fill: rgb(29, 105, 150); fill-opacity: 1;\"/><path class=\"point\" transform=\"translate(154.86,322.76)\" d=\"M3,0A3,3 0 1,1 0,-3A3,3 0 0,1 3,0Z\" style=\"opacity: 0.5; stroke-width: 0px; fill: rgb(29, 105, 150); fill-opacity: 1;\"/><path class=\"point\" transform=\"translate(84.4,280.61)\" d=\"M3,0A3,3 0 1,1 0,-3A3,3 0 0,1 3,0Z\" style=\"opacity: 0.5; stroke-width: 0px; fill: rgb(29, 105, 150); fill-opacity: 1;\"/><path class=\"point\" transform=\"translate(119.63,193.9)\" d=\"M3,0A3,3 0 1,1 0,-3A3,3 0 0,1 3,0Z\" style=\"opacity: 0.5; stroke-width: 0px; fill: rgb(29, 105, 150); fill-opacity: 1;\"/><path class=\"point\" transform=\"translate(272.28,288.92)\" d=\"M3,0A3,3 0 1,1 0,-3A3,3 0 0,1 3,0Z\" style=\"opacity: 0.5; stroke-width: 0px; fill: rgb(29, 105, 150); fill-opacity: 1;\"/><path class=\"point\" transform=\"translate(260.53,258.95)\" d=\"M3,0A3,3 0 1,1 0,-3A3,3 0 0,1 3,0Z\" style=\"opacity: 0.5; stroke-width: 0px; fill: rgb(29, 105, 150); fill-opacity: 1;\"/><path class=\"point\" transform=\"translate(72.66,321.96)\" d=\"M3,0A3,3 0 1,1 0,-3A3,3 0 0,1 3,0Z\" style=\"opacity: 0.5; stroke-width: 0px; fill: rgb(29, 105, 150); fill-opacity: 1;\"/><path class=\"point\" transform=\"translate(60.92,301.73)\" d=\"M3,0A3,3 0 1,1 0,-3A3,3 0 0,1 3,0Z\" style=\"opacity: 0.5; stroke-width: 0px; fill: rgb(29, 105, 150); fill-opacity: 1;\"/><path class=\"point\" transform=\"translate(225.31,334.16)\" d=\"M3,0A3,3 0 1,1 0,-3A3,3 0 0,1 3,0Z\" style=\"opacity: 0.5; stroke-width: 0px; fill: rgb(29, 105, 150); fill-opacity: 1;\"/><path class=\"point\" transform=\"translate(178.34,358.05)\" d=\"M3,0A3,3 0 1,1 0,-3A3,3 0 0,1 3,0Z\" style=\"opacity: 0.5; stroke-width: 0px; fill: rgb(29, 105, 150); fill-opacity: 1;\"/><path class=\"point\" transform=\"translate(49.18,365.48)\" d=\"M3,0A3,3 0 1,1 0,-3A3,3 0 0,1 3,0Z\" style=\"opacity: 0.5; stroke-width: 0px; fill: rgb(29, 105, 150); fill-opacity: 1;\"/><path class=\"point\" transform=\"translate(60.92,349)\" d=\"M3,0A3,3 0 1,1 0,-3A3,3 0 0,1 3,0Z\" style=\"opacity: 0.5; stroke-width: 0px; fill: rgb(29, 105, 150); fill-opacity: 1;\"/><path class=\"point\" transform=\"translate(96.15,329.38)\" d=\"M3,0A3,3 0 1,1 0,-3A3,3 0 0,1 3,0Z\" style=\"opacity: 0.5; stroke-width: 0px; fill: rgb(29, 105, 150); fill-opacity: 1;\"/><path class=\"point\" transform=\"translate(248.79,305.71)\" d=\"M3,0A3,3 0 1,1 0,-3A3,3 0 0,1 3,0Z\" style=\"opacity: 0.5; stroke-width: 0px; fill: rgb(29, 105, 150); fill-opacity: 1;\"/><path class=\"point\" transform=\"translate(37.44,341.91)\" d=\"M3,0A3,3 0 1,1 0,-3A3,3 0 0,1 3,0Z\" style=\"opacity: 0.5; stroke-width: 0px; fill: rgb(29, 105, 150); fill-opacity: 1;\"/><path class=\"point\" transform=\"translate(60.92,351.36)\" d=\"M3,0A3,3 0 1,1 0,-3A3,3 0 0,1 3,0Z\" style=\"opacity: 0.5; stroke-width: 0px; fill: rgb(29, 105, 150); fill-opacity: 1;\"/><path class=\"point\" transform=\"translate(96.15,307.64)\" d=\"M3,0A3,3 0 1,1 0,-3A3,3 0 0,1 3,0Z\" style=\"opacity: 0.5; stroke-width: 0px; fill: rgb(29, 105, 150); fill-opacity: 1;\"/><path class=\"point\" transform=\"translate(413.18,289.02)\" d=\"M3,0A3,3 0 1,1 0,-3A3,3 0 0,1 3,0Z\" style=\"opacity: 0.5; stroke-width: 0px; fill: rgb(29, 105, 150); fill-opacity: 1;\"/><path class=\"point\" transform=\"translate(154.86,311.77)\" d=\"M3,0A3,3 0 1,1 0,-3A3,3 0 0,1 3,0Z\" style=\"opacity: 0.5; stroke-width: 0px; fill: rgb(29, 105, 150); fill-opacity: 1;\"/><path class=\"point\" transform=\"translate(37.44,387.1)\" d=\"M3,0A3,3 0 1,1 0,-3A3,3 0 0,1 3,0Z\" style=\"opacity: 0.5; stroke-width: 0px; fill: rgb(29, 105, 150); fill-opacity: 1;\"/><path class=\"point\" transform=\"translate(636.28,290.32)\" d=\"M3,0A3,3 0 1,1 0,-3A3,3 0 0,1 3,0Z\" style=\"opacity: 0.5; stroke-width: 0px; fill: rgb(29, 105, 150); fill-opacity: 1;\"/><path class=\"point\" transform=\"translate(60.92,356.09)\" d=\"M3,0A3,3 0 1,1 0,-3A3,3 0 0,1 3,0Z\" style=\"opacity: 0.5; stroke-width: 0px; fill: rgb(29, 105, 150); fill-opacity: 1;\"/><path class=\"point\" transform=\"translate(143.11,278.17)\" d=\"M3,0A3,3 0 1,1 0,-3A3,3 0 0,1 3,0Z\" style=\"opacity: 0.5; stroke-width: 0px; fill: rgb(29, 105, 150); fill-opacity: 1;\"/><path class=\"point\" transform=\"translate(237.05,267.26)\" d=\"M3,0A3,3 0 1,1 0,-3A3,3 0 0,1 3,0Z\" style=\"opacity: 0.5; stroke-width: 0px; fill: rgb(29, 105, 150); fill-opacity: 1;\"/><path class=\"point\" transform=\"translate(60.92,215.47)\" d=\"M3,0A3,3 0 1,1 0,-3A3,3 0 0,1 3,0Z\" style=\"opacity: 0.5; stroke-width: 0px; fill: rgb(29, 105, 150); fill-opacity: 1;\"/><path class=\"point\" transform=\"translate(49.18,367.61)\" d=\"M3,0A3,3 0 1,1 0,-3A3,3 0 0,1 3,0Z\" style=\"opacity: 0.5; stroke-width: 0px; fill: rgb(29, 105, 150); fill-opacity: 1;\"/><path class=\"point\" transform=\"translate(107.89,309.24)\" d=\"M3,0A3,3 0 1,1 0,-3A3,3 0 0,1 3,0Z\" style=\"opacity: 0.5; stroke-width: 0px; fill: rgb(29, 105, 150); fill-opacity: 1;\"/><path class=\"point\" transform=\"translate(60.92,310.59)\" d=\"M3,0A3,3 0 1,1 0,-3A3,3 0 0,1 3,0Z\" style=\"opacity: 0.5; stroke-width: 0px; fill: rgb(29, 105, 150); fill-opacity: 1;\"/><path class=\"point\" transform=\"translate(49.18,253.28)\" d=\"M3,0A3,3 0 1,1 0,-3A3,3 0 0,1 3,0Z\" style=\"opacity: 0.5; stroke-width: 0px; fill: rgb(29, 105, 150); fill-opacity: 1;\"/><path class=\"point\" transform=\"translate(37.44,366.72)\" d=\"M3,0A3,3 0 1,1 0,-3A3,3 0 0,1 3,0Z\" style=\"opacity: 0.5; stroke-width: 0px; fill: rgb(29, 105, 150); fill-opacity: 1;\"/><path class=\"point\" transform=\"translate(84.4,186.63)\" d=\"M3,0A3,3 0 1,1 0,-3A3,3 0 0,1 3,0Z\" style=\"opacity: 0.5; stroke-width: 0px; fill: rgb(29, 105, 150); fill-opacity: 1;\"/><path class=\"point\" transform=\"translate(49.18,354.67)\" d=\"M3,0A3,3 0 1,1 0,-3A3,3 0 0,1 3,0Z\" style=\"opacity: 0.5; stroke-width: 0px; fill: rgb(29, 105, 150); fill-opacity: 1;\"/><path class=\"point\" transform=\"translate(190.08,306.71)\" d=\"M3,0A3,3 0 1,1 0,-3A3,3 0 0,1 3,0Z\" style=\"opacity: 0.5; stroke-width: 0px; fill: rgb(29, 105, 150); fill-opacity: 1;\"/><path class=\"point\" transform=\"translate(60.92,300.55)\" d=\"M3,0A3,3 0 1,1 0,-3A3,3 0 0,1 3,0Z\" style=\"opacity: 0.5; stroke-width: 0px; fill: rgb(29, 105, 150); fill-opacity: 1;\"/><path class=\"point\" transform=\"translate(37.44,372.04)\" d=\"M3,0A3,3 0 1,1 0,-3A3,3 0 0,1 3,0Z\" style=\"opacity: 0.5; stroke-width: 0px; fill: rgb(29, 105, 150); fill-opacity: 1;\"/><path class=\"point\" transform=\"translate(37.44,60.08)\" d=\"M3,0A3,3 0 1,1 0,-3A3,3 0 0,1 3,0Z\" style=\"opacity: 0.5; stroke-width: 0px; fill: rgb(29, 105, 150); fill-opacity: 1;\"/><path class=\"point\" transform=\"translate(72.66,188.14)\" d=\"M3,0A3,3 0 1,1 0,-3A3,3 0 0,1 3,0Z\" style=\"opacity: 0.5; stroke-width: 0px; fill: rgb(29, 105, 150); fill-opacity: 1;\"/></g><g class=\"text\"/></g></g></g></g><path class=\"xlines-above crisp\" d=\"M79,640.5H753.7144999999999\" style=\"fill: none; stroke-width: 1px; stroke: rgb(36, 36, 36); stroke-opacity: 1;\"/><path class=\"ylines-above crisp\" d=\"M79.5,222.41799999999998V640\" style=\"fill: none; stroke-width: 1px; stroke: rgb(36, 36, 36); stroke-opacity: 1;\"/><g class=\"overlines-above\"/><g class=\"xaxislayer-above\"><path class=\"xtick ticks crisp\" d=\"M0,641v5\" transform=\"translate(105.69,0)\" style=\"stroke: rgb(68, 68, 68); stroke-opacity: 1; stroke-width: 1px;\"/><path class=\"xtick ticks crisp\" d=\"M0,641v5\" transform=\"translate(223.11,0)\" style=\"stroke: rgb(68, 68, 68); stroke-opacity: 1; stroke-width: 1px;\"/><path class=\"xtick ticks crisp\" d=\"M0,641v5\" transform=\"translate(340.53,0)\" style=\"stroke: rgb(68, 68, 68); stroke-opacity: 1; stroke-width: 1px;\"/><path class=\"xtick ticks crisp\" d=\"M0,641v5\" transform=\"translate(457.95,0)\" style=\"stroke: rgb(68, 68, 68); stroke-opacity: 1; stroke-width: 1px;\"/><path class=\"xtick ticks crisp\" d=\"M0,641v5\" transform=\"translate(575.37,0)\" style=\"stroke: rgb(68, 68, 68); stroke-opacity: 1; stroke-width: 1px;\"/><path class=\"xtick ticks crisp\" d=\"M0,641v5\" transform=\"translate(692.79,0)\" style=\"stroke: rgb(68, 68, 68); stroke-opacity: 1; stroke-width: 1px;\"/><g class=\"xtick\"><text text-anchor=\"middle\" x=\"0\" y=\"660.4\" transform=\"translate(105.69,0)\" style=\"font-family: 'Open Sans', verdana, arial, sans-serif; font-size: 12px; fill: rgb(36, 36, 36); fill-opacity: 1; white-space: pre; opacity: 1;\">0</text></g><g class=\"xtick\"><text text-anchor=\"middle\" x=\"0\" y=\"660.4\" style=\"font-family: 'Open Sans', verdana, arial, sans-serif; font-size: 12px; fill: rgb(36, 36, 36); fill-opacity: 1; white-space: pre; opacity: 1;\" transform=\"translate(223.11,0)\">10</text></g><g class=\"xtick\"><text text-anchor=\"middle\" x=\"0\" y=\"660.4\" style=\"font-family: 'Open Sans', verdana, arial, sans-serif; font-size: 12px; fill: rgb(36, 36, 36); fill-opacity: 1; white-space: pre; opacity: 1;\" transform=\"translate(340.53,0)\">20</text></g><g class=\"xtick\"><text text-anchor=\"middle\" x=\"0\" y=\"660.4\" style=\"font-family: 'Open Sans', verdana, arial, sans-serif; font-size: 12px; fill: rgb(36, 36, 36); fill-opacity: 1; white-space: pre; opacity: 1;\" transform=\"translate(457.95,0)\">30</text></g><g class=\"xtick\"><text text-anchor=\"middle\" x=\"0\" y=\"660.4\" style=\"font-family: 'Open Sans', verdana, arial, sans-serif; font-size: 12px; fill: rgb(36, 36, 36); fill-opacity: 1; white-space: pre; opacity: 1;\" transform=\"translate(575.37,0)\">40</text></g><g class=\"xtick\"><text text-anchor=\"middle\" x=\"0\" y=\"660.4\" style=\"font-family: 'Open Sans', verdana, arial, sans-serif; font-size: 12px; fill: rgb(36, 36, 36); fill-opacity: 1; white-space: pre; opacity: 1;\" transform=\"translate(692.79,0)\">50</text></g></g><g class=\"yaxislayer-above\"><path class=\"ytick ticks crisp\" d=\"M79,0h-5\" transform=\"translate(0,619.268)\" style=\"stroke: rgb(68, 68, 68); stroke-opacity: 1; stroke-width: 1px;\"/><path class=\"ytick ticks crisp\" d=\"M79,0h-5\" transform=\"translate(0,530.648)\" style=\"stroke: rgb(68, 68, 68); stroke-opacity: 1; stroke-width: 1px;\"/><path class=\"ytick ticks crisp\" d=\"M79,0h-5\" transform=\"translate(0,442.018)\" style=\"stroke: rgb(68, 68, 68); stroke-opacity: 1; stroke-width: 1px;\"/><path class=\"ytick ticks crisp\" d=\"M79,0h-5\" transform=\"translate(0,353.39799999999997)\" style=\"stroke: rgb(68, 68, 68); stroke-opacity: 1; stroke-width: 1px;\"/><path class=\"ytick ticks crisp\" d=\"M79,0h-5\" transform=\"translate(0,264.768)\" style=\"stroke: rgb(68, 68, 68); stroke-opacity: 1; stroke-width: 1px;\"/><g class=\"ytick\"><text text-anchor=\"end\" x=\"71.6\" y=\"4.199999999999999\" transform=\"translate(0,619.268)\" style=\"font-family: 'Open Sans', verdana, arial, sans-serif; font-size: 12px; fill: rgb(36, 36, 36); fill-opacity: 1; white-space: pre; opacity: 1;\">0</text></g><g class=\"ytick\"><text text-anchor=\"end\" x=\"71.6\" y=\"4.199999999999999\" style=\"font-family: 'Open Sans', verdana, arial, sans-serif; font-size: 12px; fill: rgb(36, 36, 36); fill-opacity: 1; white-space: pre; opacity: 1;\" transform=\"translate(0,530.648)\">50k</text></g><g class=\"ytick\"><text text-anchor=\"end\" x=\"71.6\" y=\"4.199999999999999\" style=\"font-family: 'Open Sans', verdana, arial, sans-serif; font-size: 12px; fill: rgb(36, 36, 36); fill-opacity: 1; white-space: pre; opacity: 1;\" transform=\"translate(0,442.018)\">100k</text></g><g class=\"ytick\"><text text-anchor=\"end\" x=\"71.6\" y=\"4.199999999999999\" style=\"font-family: 'Open Sans', verdana, arial, sans-serif; font-size: 12px; fill: rgb(36, 36, 36); fill-opacity: 1; white-space: pre; opacity: 1;\" transform=\"translate(0,353.39799999999997)\">150k</text></g><g class=\"ytick\"><text text-anchor=\"end\" x=\"71.6\" y=\"4.199999999999999\" style=\"font-family: 'Open Sans', verdana, arial, sans-serif; font-size: 12px; fill: rgb(36, 36, 36); fill-opacity: 1; white-space: pre; opacity: 1;\" transform=\"translate(0,264.768)\">200k</text></g></g><g class=\"overaxes-above\"/></g><g class=\"subplot x2y2\"><g class=\"layer-subplot\"><g class=\"shapelayer\"/><g class=\"imagelayer\"/></g><g class=\"minor-gridlayer\"><g class=\"x2\"/><g class=\"y2\"/></g><g class=\"gridlayer\"><g class=\"x2\"/><g class=\"y2\"/></g><g class=\"zerolinelayer\"/><g class=\"layer-between\"><g class=\"shapelayer\"/><g class=\"imagelayer\"/></g><path class=\"xlines-below\"/><path class=\"ylines-below\"/><g class=\"overlines-below\"/><g class=\"xaxislayer-below\"/><g class=\"yaxislayer-below\"/><g class=\"overaxes-below\"/><g class=\"overplot\"><g class=\"x2y2\" transform=\"translate(758.2895,222.41799999999998)\" clip-path=\"url(#clip9e750ax2y2plot)\"><g class=\"barlayer mlayer\"><g class=\"trace bars\" style=\"opacity: 0.5;\"><g class=\"points\"><g class=\"point\"><path d=\"M0,405.71V387.99H35.98V405.71Z\" style=\"vector-effect: none; opacity: 1; stroke-width: 0.6px; fill: rgb(29, 105, 150); fill-opacity: 1; stroke: rgb(255, 255, 255); stroke-opacity: 1;\"/></g><g class=\"point\"><path d=\"M0,387.99V370.27H215.88V387.99Z\" style=\"vector-effect: none; opacity: 1; stroke-width: 0.6px; fill: rgb(29, 105, 150); fill-opacity: 1; stroke: rgb(255, 255, 255); stroke-opacity: 1;\"/></g><g class=\"point\"><path d=\"M0,370.27V352.54H161.91V370.27Z\" style=\"vector-effect: none; opacity: 1; stroke-width: 0.6px; fill: rgb(29, 105, 150); fill-opacity: 1; stroke: rgb(255, 255, 255); stroke-opacity: 1;\"/></g><g class=\"point\"><path d=\"M0,352.54V334.82H107.94V352.54Z\" style=\"vector-effect: none; opacity: 1; stroke-width: 0.6px; fill: rgb(29, 105, 150); fill-opacity: 1; stroke: rgb(255, 255, 255); stroke-opacity: 1;\"/></g><g class=\"point\"><path d=\"M0,334.82V317.09H206.88V334.82Z\" style=\"vector-effect: none; opacity: 1; stroke-width: 0.6px; fill: rgb(29, 105, 150); fill-opacity: 1; stroke: rgb(255, 255, 255); stroke-opacity: 1;\"/></g><g class=\"point\"><path d=\"M0,317.09V299.37H224.87V317.09Z\" style=\"vector-effect: none; opacity: 1; stroke-width: 0.6px; fill: rgb(29, 105, 150); fill-opacity: 1; stroke: rgb(255, 255, 255); stroke-opacity: 1;\"/></g><g class=\"point\"><path d=\"M0,299.37V281.64H152.91V299.37Z\" style=\"vector-effect: none; opacity: 1; stroke-width: 0.6px; fill: rgb(29, 105, 150); fill-opacity: 1; stroke: rgb(255, 255, 255); stroke-opacity: 1;\"/></g><g class=\"point\"><path d=\"M0,281.64V263.92H98.94V281.64Z\" style=\"vector-effect: none; opacity: 1; stroke-width: 0.6px; fill: rgb(29, 105, 150); fill-opacity: 1; stroke: rgb(255, 255, 255); stroke-opacity: 1;\"/></g><g class=\"point\"><path d=\"M0,263.92V246.19H62.96V263.92Z\" style=\"vector-effect: none; opacity: 1; stroke-width: 0.6px; fill: rgb(29, 105, 150); fill-opacity: 1; stroke: rgb(255, 255, 255); stroke-opacity: 1;\"/></g><g class=\"point\"><path d=\"M0,246.19V228.47H17.99V246.19Z\" style=\"vector-effect: none; opacity: 1; stroke-width: 0.6px; fill: rgb(29, 105, 150); fill-opacity: 1; stroke: rgb(255, 255, 255); stroke-opacity: 1;\"/></g><g class=\"point\"><path d=\"M0,228.47V210.74H26.98V228.47Z\" style=\"vector-effect: none; opacity: 1; stroke-width: 0.6px; fill: rgb(29, 105, 150); fill-opacity: 1; stroke: rgb(255, 255, 255); stroke-opacity: 1;\"/></g><g class=\"point\"><path d=\"M0,210.74V193.02H17.99V210.74Z\" style=\"vector-effect: none; opacity: 1; stroke-width: 0.6px; fill: rgb(29, 105, 150); fill-opacity: 1; stroke: rgb(255, 255, 255); stroke-opacity: 1;\"/></g><g class=\"point\"><path d=\"M0,193.02V175.29H17.99V193.02Z\" style=\"vector-effect: none; opacity: 1; stroke-width: 0.6px; fill: rgb(29, 105, 150); fill-opacity: 1; stroke: rgb(255, 255, 255); stroke-opacity: 1;\"/></g><g class=\"point\"><path d=\"M0,175.29V157.57H8.99V175.29Z\" style=\"vector-effect: none; opacity: 1; stroke-width: 0.6px; fill: rgb(29, 105, 150); fill-opacity: 1; stroke: rgb(255, 255, 255); stroke-opacity: 1;\"/></g><g class=\"point\"><path d=\"M0,0Z\" style=\"vector-effect: none; opacity: 1; stroke-width: 0px; fill: rgb(29, 105, 150); fill-opacity: 1; stroke: rgb(255, 255, 255); stroke-opacity: 1;\"/></g><g class=\"point\"><path d=\"M0,0Z\" style=\"vector-effect: none; opacity: 1; stroke-width: 0px; fill: rgb(29, 105, 150); fill-opacity: 1; stroke: rgb(255, 255, 255); stroke-opacity: 1;\"/></g><g class=\"point\"><path d=\"M0,0Z\" style=\"vector-effect: none; opacity: 1; stroke-width: 0px; fill: rgb(29, 105, 150); fill-opacity: 1; stroke: rgb(255, 255, 255); stroke-opacity: 1;\"/></g><g class=\"point\"><path d=\"M0,0Z\" style=\"vector-effect: none; opacity: 1; stroke-width: 0px; fill: rgb(29, 105, 150); fill-opacity: 1; stroke: rgb(255, 255, 255); stroke-opacity: 1;\"/></g><g class=\"point\"><path d=\"M0,0Z\" style=\"vector-effect: none; opacity: 1; stroke-width: 0px; fill: rgb(29, 105, 150); fill-opacity: 1; stroke: rgb(255, 255, 255); stroke-opacity: 1;\"/></g><g class=\"point\"><path d=\"M0,68.94V51.22H8.99V68.94Z\" style=\"vector-effect: none; opacity: 1; stroke-width: 0.6px; fill: rgb(29, 105, 150); fill-opacity: 1; stroke: rgb(255, 255, 255); stroke-opacity: 1;\"/></g><g class=\"point\"><path d=\"M0,0Z\" style=\"vector-effect: none; opacity: 1; stroke-width: 0px; fill: rgb(29, 105, 150); fill-opacity: 1; stroke: rgb(255, 255, 255); stroke-opacity: 1;\"/></g><g class=\"point\"><path d=\"M0,33.49V15.77H8.99V33.49Z\" style=\"vector-effect: none; opacity: 1; stroke-width: 0.6px; fill: rgb(29, 105, 150); fill-opacity: 1; stroke: rgb(255, 255, 255); stroke-opacity: 1;\"/></g></g></g></g></g></g><path class=\"xlines-above crisp\" d=\"M0,0\" style=\"fill: none;\"/><path class=\"ylines-above crisp\" d=\"M757.7895,222.41799999999998V640\" style=\"fill: none; stroke-width: 1px; stroke: rgb(36, 36, 36); stroke-opacity: 1;\"/><g class=\"overlines-above\"/><g class=\"xaxislayer-above\"/><g class=\"yaxislayer-above\"><path class=\"y2tick ticks crisp\" d=\"M757.2895,0h-5\" transform=\"translate(0,619.268)\" style=\"stroke: rgb(68, 68, 68); stroke-opacity: 1; stroke-width: 1px;\"/><path class=\"y2tick ticks crisp\" d=\"M757.2895,0h-5\" transform=\"translate(0,530.648)\" style=\"stroke: rgb(68, 68, 68); stroke-opacity: 1; stroke-width: 1px;\"/><path class=\"y2tick ticks crisp\" d=\"M757.2895,0h-5\" transform=\"translate(0,442.018)\" style=\"stroke: rgb(68, 68, 68); stroke-opacity: 1; stroke-width: 1px;\"/><path class=\"y2tick ticks crisp\" d=\"M757.2895,0h-5\" transform=\"translate(0,353.39799999999997)\" style=\"stroke: rgb(68, 68, 68); stroke-opacity: 1; stroke-width: 1px;\"/><path class=\"y2tick ticks crisp\" d=\"M757.2895,0h-5\" transform=\"translate(0,264.768)\" style=\"stroke: rgb(68, 68, 68); stroke-opacity: 1; stroke-width: 1px;\"/></g><g class=\"overaxes-above\"/></g><g class=\"subplot x3y3\"><g class=\"layer-subplot\"><g class=\"shapelayer\"/><g class=\"imagelayer\"/></g><g class=\"minor-gridlayer\"><g class=\"x3\"/><g class=\"y3\"/></g><g class=\"gridlayer\"><g class=\"x3\"/><g class=\"y3\"/></g><g class=\"zerolinelayer\"/><g class=\"layer-between\"><g class=\"shapelayer\"/><g class=\"imagelayer\"/></g><path class=\"xlines-below\"/><path class=\"ylines-below\"/><g class=\"overlines-below\"/><g class=\"xaxislayer-below\"/><g class=\"yaxislayer-below\"/><g class=\"overaxes-below\"/><g class=\"overplot\"><g class=\"x3y3\" transform=\"translate(80,70)\" clip-path=\"url(#clip9e750ax3y3plot)\"><g class=\"barlayer mlayer\"><g class=\"trace bars\" style=\"opacity: 0.5;\"><g class=\"points\"><g class=\"point\"><path d=\"M19.82,146.72V7.34H43.31V146.72Z\" style=\"vector-effect: none; opacity: 1; stroke-width: 0.6px; fill: rgb(29, 105, 150); fill-opacity: 1; stroke: rgb(255, 255, 255); stroke-opacity: 1;\"/></g><g class=\"point\"><path d=\"M43.31,146.72V40.13H66.79V146.72Z\" style=\"vector-effect: none; opacity: 1; stroke-width: 0.6px; fill: rgb(29, 105, 150); fill-opacity: 1; stroke: rgb(255, 255, 255); stroke-opacity: 1;\"/></g><g class=\"point\"><path d=\"M66.79,146.72V100.26H90.27V146.72Z\" style=\"vector-effect: none; opacity: 1; stroke-width: 0.6px; fill: rgb(29, 105, 150); fill-opacity: 1; stroke: rgb(255, 255, 255); stroke-opacity: 1;\"/></g><g class=\"point\"><path d=\"M90.27,146.72V97.52H113.76V146.72Z\" style=\"vector-effect: none; opacity: 1; stroke-width: 0.6px; fill: rgb(29, 105, 150); fill-opacity: 1; stroke: rgb(255, 255, 255); stroke-opacity: 1;\"/></g><g class=\"point\"><path d=\"M113.76,146.72V130.32H137.24V146.72Z\" style=\"vector-effect: none; opacity: 1; stroke-width: 0.6px; fill: rgb(29, 105, 150); fill-opacity: 1; stroke: rgb(255, 255, 255); stroke-opacity: 1;\"/></g><g class=\"point\"><path d=\"M137.24,146.72V133.05H160.73V146.72Z\" style=\"vector-effect: none; opacity: 1; stroke-width: 0.6px; fill: rgb(29, 105, 150); fill-opacity: 1; stroke: rgb(255, 255, 255); stroke-opacity: 1;\"/></g><g class=\"point\"><path d=\"M160.73,146.72V133.05H184.21V146.72Z\" style=\"vector-effect: none; opacity: 1; stroke-width: 0.6px; fill: rgb(29, 105, 150); fill-opacity: 1; stroke: rgb(255, 255, 255); stroke-opacity: 1;\"/></g><g class=\"point\"><path d=\"M184.21,146.72V143.99H207.7V146.72Z\" style=\"vector-effect: none; opacity: 1; stroke-width: 0.6px; fill: rgb(29, 105, 150); fill-opacity: 1; stroke: rgb(255, 255, 255); stroke-opacity: 1;\"/></g><g class=\"point\"><path d=\"M207.7,146.72V143.99H231.18V146.72Z\" style=\"vector-effect: none; opacity: 1; stroke-width: 0.6px; fill: rgb(29, 105, 150); fill-opacity: 1; stroke: rgb(255, 255, 255); stroke-opacity: 1;\"/></g><g class=\"point\"><path d=\"M231.18,146.72V138.52H254.66V146.72Z\" style=\"vector-effect: none; opacity: 1; stroke-width: 0.6px; fill: rgb(29, 105, 150); fill-opacity: 1; stroke: rgb(255, 255, 255); stroke-opacity: 1;\"/></g><g class=\"point\"><path d=\"M254.66,146.72V141.25H278.15V146.72Z\" style=\"vector-effect: none; opacity: 1; stroke-width: 0.6px; fill: rgb(29, 105, 150); fill-opacity: 1; stroke: rgb(255, 255, 255); stroke-opacity: 1;\"/></g><g class=\"point\"><path d=\"M278.15,146.72V141.25H301.63V146.72Z\" style=\"vector-effect: none; opacity: 1; stroke-width: 0.6px; fill: rgb(29, 105, 150); fill-opacity: 1; stroke: rgb(255, 255, 255); stroke-opacity: 1;\"/></g><g class=\"point\"><path d=\"M0,0Z\" style=\"vector-effect: none; opacity: 1; stroke-width: 0px; fill: rgb(29, 105, 150); fill-opacity: 1; stroke: rgb(255, 255, 255); stroke-opacity: 1;\"/></g><g class=\"point\"><path d=\"M0,0Z\" style=\"vector-effect: none; opacity: 1; stroke-width: 0px; fill: rgb(29, 105, 150); fill-opacity: 1; stroke: rgb(255, 255, 255); stroke-opacity: 1;\"/></g><g class=\"point\"><path d=\"M348.6,146.72V143.99H372.08V146.72Z\" style=\"vector-effect: none; opacity: 1; stroke-width: 0.6px; fill: rgb(29, 105, 150); fill-opacity: 1; stroke: rgb(255, 255, 255); stroke-opacity: 1;\"/></g><g class=\"point\"><path d=\"M0,0Z\" style=\"vector-effect: none; opacity: 1; stroke-width: 0px; fill: rgb(29, 105, 150); fill-opacity: 1; stroke: rgb(255, 255, 255); stroke-opacity: 1;\"/></g><g class=\"point\"><path d=\"M395.57,146.72V143.99H419.05V146.72Z\" style=\"vector-effect: none; opacity: 1; stroke-width: 0.6px; fill: rgb(29, 105, 150); fill-opacity: 1; stroke: rgb(255, 255, 255); stroke-opacity: 1;\"/></g><g class=\"point\"><path d=\"M0,0Z\" style=\"vector-effect: none; opacity: 1; stroke-width: 0px; fill: rgb(29, 105, 150); fill-opacity: 1; stroke: rgb(255, 255, 255); stroke-opacity: 1;\"/></g><g class=\"point\"><path d=\"M0,0Z\" style=\"vector-effect: none; opacity: 1; stroke-width: 0px; fill: rgb(29, 105, 150); fill-opacity: 1; stroke: rgb(255, 255, 255); stroke-opacity: 1;\"/></g><g class=\"point\"><path d=\"M0,0Z\" style=\"vector-effect: none; opacity: 1; stroke-width: 0px; fill: rgb(29, 105, 150); fill-opacity: 1; stroke: rgb(255, 255, 255); stroke-opacity: 1;\"/></g><g class=\"point\"><path d=\"M0,0Z\" style=\"vector-effect: none; opacity: 1; stroke-width: 0px; fill: rgb(29, 105, 150); fill-opacity: 1; stroke: rgb(255, 255, 255); stroke-opacity: 1;\"/></g><g class=\"point\"><path d=\"M0,0Z\" style=\"vector-effect: none; opacity: 1; stroke-width: 0px; fill: rgb(29, 105, 150); fill-opacity: 1; stroke: rgb(255, 255, 255); stroke-opacity: 1;\"/></g><g class=\"point\"><path d=\"M0,0Z\" style=\"vector-effect: none; opacity: 1; stroke-width: 0px; fill: rgb(29, 105, 150); fill-opacity: 1; stroke: rgb(255, 255, 255); stroke-opacity: 1;\"/></g><g class=\"point\"><path d=\"M0,0Z\" style=\"vector-effect: none; opacity: 1; stroke-width: 0px; fill: rgb(29, 105, 150); fill-opacity: 1; stroke: rgb(255, 255, 255); stroke-opacity: 1;\"/></g><g class=\"point\"><path d=\"M0,0Z\" style=\"vector-effect: none; opacity: 1; stroke-width: 0px; fill: rgb(29, 105, 150); fill-opacity: 1; stroke: rgb(255, 255, 255); stroke-opacity: 1;\"/></g><g class=\"point\"><path d=\"M0,0Z\" style=\"vector-effect: none; opacity: 1; stroke-width: 0px; fill: rgb(29, 105, 150); fill-opacity: 1; stroke: rgb(255, 255, 255); stroke-opacity: 1;\"/></g><g class=\"point\"><path d=\"M630.41,146.72V143.99H653.89V146.72Z\" style=\"vector-effect: none; opacity: 1; stroke-width: 0.6px; fill: rgb(29, 105, 150); fill-opacity: 1; stroke: rgb(255, 255, 255); stroke-opacity: 1;\"/></g></g></g></g></g></g><path class=\"xlines-above crisp\" d=\"M80,217.218H753.7144999999999\" style=\"fill: none; stroke-width: 1px; stroke: rgb(36, 36, 36); stroke-opacity: 1;\"/><path class=\"ylines-above crisp\" d=\"M0,0\" style=\"fill: none;\"/><g class=\"overlines-above\"/><g class=\"xaxislayer-above\"><path class=\"x3tick ticks crisp\" d=\"M0,217.718v5\" transform=\"translate(105.69,0)\" style=\"stroke: rgb(68, 68, 68); stroke-opacity: 1; stroke-width: 1px;\"/><path class=\"x3tick ticks crisp\" d=\"M0,217.718v5\" transform=\"translate(223.11,0)\" style=\"stroke: rgb(68, 68, 68); stroke-opacity: 1; stroke-width: 1px;\"/><path class=\"x3tick ticks crisp\" d=\"M0,217.718v5\" transform=\"translate(340.53,0)\" style=\"stroke: rgb(68, 68, 68); stroke-opacity: 1; stroke-width: 1px;\"/><path class=\"x3tick ticks crisp\" d=\"M0,217.718v5\" transform=\"translate(457.95,0)\" style=\"stroke: rgb(68, 68, 68); stroke-opacity: 1; stroke-width: 1px;\"/><path class=\"x3tick ticks crisp\" d=\"M0,217.718v5\" transform=\"translate(575.37,0)\" style=\"stroke: rgb(68, 68, 68); stroke-opacity: 1; stroke-width: 1px;\"/><path class=\"x3tick ticks crisp\" d=\"M0,217.718v5\" transform=\"translate(692.79,0)\" style=\"stroke: rgb(68, 68, 68); stroke-opacity: 1; stroke-width: 1px;\"/></g><g class=\"yaxislayer-above\"/><g class=\"overaxes-above\"/></g></g><g class=\"polarlayer\"/><g class=\"smithlayer\"/><g class=\"ternarylayer\"/><g class=\"geolayer\"/><g class=\"funnelarealayer\"/><g class=\"pielayer\"/><g class=\"iciclelayer\"/><g class=\"treemaplayer\"/><g class=\"sunburstlayer\"/><g class=\"glimages\"/><defs id=\"topdefs-9e750a\"><g class=\"clips\"/></defs><g class=\"layer-above\"><g class=\"imagelayer\"/><g class=\"shapelayer\"/></g><g class=\"infolayer\"><g class=\"g-gtitle\"><text class=\"gtitle\" x=\"50\" y=\"35\" text-anchor=\"start\" dy=\"0em\" style=\"opacity: 1; font-family: 'Open Sans', verdana, arial, sans-serif; font-size: 17px; fill: rgb(36, 36, 36); fill-opacity: 1; white-space: pre;\">Organization comparison: total courses offered vs. average student enrollment</text></g><g class=\"g-xtitle\"><text class=\"xtitle\" x=\"416.85724999999996\" y=\"687.70625\" text-anchor=\"middle\" style=\"opacity: 1; font-family: 'Open Sans', verdana, arial, sans-serif; font-size: 14px; fill: rgb(36, 36, 36); fill-opacity: 1; white-space: pre;\">Number of courses</text></g><g class=\"g-x2title\"/><g class=\"g-x3title\"/><g class=\"g-ytitle\"><text class=\"ytitle\" transform=\"rotate(-90,22.209375,431.20899999999995)\" x=\"22.209375\" y=\"431.20899999999995\" text-anchor=\"middle\" style=\"opacity: 1; font-family: 'Open Sans', verdana, arial, sans-serif; font-size: 14px; fill: rgb(36, 36, 36); fill-opacity: 1; white-space: pre;\">Average student enrollment</text></g><g class=\"g-y2title\"/><g class=\"g-y3title\"/></g></svg>"
      ]
     },
     "metadata": {},
     "output_type": "display_data"
    }
   ],
   "source": [
    "fig = px.scatter(\n",
    "    df_grouped_per_organization, \n",
    "    x = \"count\", \n",
    "    y = \"mean\", \n",
    "    marginal_x=\"histogram\", \n",
    "    marginal_y=\"histogram\", \n",
    "    template=\"simple_white\",\n",
    "    height=700,\n",
    "    width=1000,\n",
    "    color_discrete_sequence = [\"#1D6996\"],\n",
    "    title=\"Organization comparison: total courses offered vs. average student enrollment\",\n",
    "        labels={\n",
    "        \"count\": \"Number of courses\",\n",
    "        \"mean\": \"Average student enrollment\"\n",
    "    }\n",
    ")\n",
    "\n",
    "fig.update_layout(\n",
    "    hoverlabel=dict(\n",
    "        bgcolor=\"white\",\n",
    "        bordercolor = \"white\",\n",
    "        font=dict(\n",
    "            color=\"#494a5e\"\n",
    "        )\n",
    "    ),\n",
    "    margin=dict(r = 5, t = 70, b = 60)\n",
    ")\n",
    "\n",
    "fig.update_traces(\n",
    "    marker=dict(color=\"#1D6996\", opacity=0.5),\n",
    "    selector=dict(type=\"scatter\"),\n",
    "    hovertemplate=\"Number of courses: %{x}<br>\" + \n",
    "    \"AVG number of students per course: %{y}\"\n",
    ")\n",
    "\n",
    "fig.show()"
   ]
  },
  {
   "cell_type": "code",
   "execution_count": 534,
   "metadata": {},
   "outputs": [
    {
     "name": "stdout",
     "output_type": "stream",
     "text": [
      "The correlation coefficient is: 0.23.\n"
     ]
    }
   ],
   "source": [
    "correlation = df_grouped_per_organization['count'].corr(df_grouped_per_organization['mean']).round(2)\n",
    "print(f\"The correlation coefficient is: {correlation}.\")"
   ]
  },
  {
   "cell_type": "markdown",
   "metadata": {},
   "source": [
    "In literature up to 0.3 is considered weak positive correlation. Thus, correlation between average number of students enrolled and number of courses per organization is week positive one. This indicates that focusing on this most likely would not be very effective to increase student enrolment. \n",
    "\n",
    "*Method chosen was Pearson correlation, because of comparison of values, not ranks. Also, it can be done mainly only if data is normal distributed. In this case that's not fully correct. However, since it's needed to calculate a correlation coefficient, not to it's it's statistical significance, it is okay to be used.*\n",
    "\n",
    "#### How do course ratings correlate with the number of students enrolled?"
   ]
  },
  {
   "cell_type": "code",
   "execution_count": 535,
   "metadata": {},
   "outputs": [
    {
     "data": {
      "application/vnd.plotly.v1+json": {
       "config": {
        "plotlyServerURL": "https://plot.ly"
       },
       "data": [
        {
         "colorscale": [
          [
           0,
           "rgb(247,251,255)"
          ],
          [
           0.125,
           "rgb(222,235,247)"
          ],
          [
           0.25,
           "rgb(198,219,239)"
          ],
          [
           0.375,
           "rgb(158,202,225)"
          ],
          [
           0.5,
           "rgb(107,174,214)"
          ],
          [
           0.625,
           "rgb(66,146,198)"
          ],
          [
           0.75,
           "rgb(33,113,181)"
          ],
          [
           0.875,
           "rgb(8,81,156)"
          ],
          [
           1,
           "rgb(8,48,107)"
          ]
         ],
         "contours": {
          "coloring": "fill"
         },
         "hovertemplate": "Students Enrolled: %{y:,.0f}<br>Rating: %{x}<br>Density: %{z}<br>",
         "legendgroup": "",
         "line": {
          "color": "#1F77B4"
         },
         "name": "",
         "showlegend": false,
         "type": "histogram2dcontour",
         "x": [
          4.6,
          4.5,
          4.6,
          4.7,
          4.8,
          4.8,
          4.7,
          4.6,
          4.6,
          4.7,
          4.7,
          4.6,
          4.7,
          4.7,
          4.7,
          4.7,
          4.6,
          4.7,
          4.6,
          4.7,
          4.7,
          4.6,
          4.6,
          4.6,
          4.9,
          4.5,
          4.6,
          4.7,
          4.4,
          4.8,
          4.8,
          4.7,
          4.8,
          4.7,
          4.7,
          4.7,
          4.7,
          4.7,
          4.8,
          4.7,
          4.7,
          4.8,
          4.5,
          4.5,
          4.7,
          4.7,
          4.7,
          4.6,
          4.7,
          4.7,
          4.8,
          4.8,
          4.8,
          4.8,
          4.8,
          4.5,
          4.7,
          4.6,
          4.5,
          4.7,
          4.8,
          4.7,
          4.7,
          4.7,
          4.5,
          4.6,
          4.7,
          4.7,
          4.8,
          4.6,
          4.4,
          4.7,
          4.7,
          4.7,
          4.8,
          4.9,
          4.7,
          4.8,
          4.7,
          4.7,
          4.7,
          4.7,
          4.8,
          4.7,
          4.6,
          4.7,
          4.8,
          4.7,
          4.7,
          4.6,
          4.8,
          4.7,
          4.5,
          4.4,
          4.8,
          4.7,
          4.6,
          4.8,
          4.7,
          4.6,
          4.8,
          4.4,
          4.8,
          4.5,
          4.5,
          4.3,
          4.7,
          4.8,
          4.7,
          4.7,
          4.5,
          4.9,
          4.5,
          4.6,
          4.6,
          4.4,
          4.8,
          4.5,
          4.8,
          4.5,
          4.6,
          4.6,
          4.3,
          4.3,
          4.5,
          4.7,
          4.7,
          4.8,
          4.5,
          4.7,
          4.8,
          4.5,
          4.5,
          4.5,
          4.7,
          4.7,
          4.6,
          4.8,
          4.3,
          4.6,
          4.8,
          4.7,
          4.4,
          4.7,
          4.5,
          4.7,
          4.7,
          4.8,
          4.8,
          4.6,
          4.8,
          4.3,
          4.8,
          4.4,
          4.6,
          4.7,
          4.8,
          4.6,
          4.4,
          4.8,
          4.6,
          4.5,
          4.7,
          4.5,
          4.5,
          4.5,
          4.6,
          4.5,
          5,
          4.6,
          4.5,
          4.7,
          4.7,
          4.4,
          4.4,
          4.7,
          4.6,
          4.8,
          4.4,
          4.6,
          4.5,
          4.3,
          4.5,
          4.5,
          4.6,
          4.7,
          4.6,
          4.8,
          4.5,
          4.4,
          4.7,
          4.6,
          4.6,
          4.5,
          4.6,
          4.7,
          4.7,
          4.8,
          4.6,
          4.6,
          4.6,
          4.5,
          4.6,
          4.3,
          4.7,
          4.3,
          4.4,
          4.5,
          4.8,
          4.6,
          4.5,
          4.6,
          4.4,
          4.5,
          4.7,
          4.6,
          4.6,
          4.6,
          4.6,
          4.8,
          4.3,
          4.7,
          4.8,
          4.6,
          4.4,
          4.8,
          4.5,
          4.8,
          4.7,
          4.7,
          4.8,
          4.6,
          4.5,
          4.6,
          4.5,
          4.9,
          4.6,
          4.4,
          4.6,
          4.6,
          4.8,
          4.8,
          4.7,
          4.3,
          4.7,
          4.8,
          4.7,
          4.4,
          4.6,
          4.6,
          4.4,
          4.6,
          4.5,
          4.6,
          4.6,
          4.8,
          4.8,
          4.4
         ],
         "xaxis": "x",
         "xbingroup": "x",
         "y": [
          220000,
          160000,
          120000,
          170000,
          89000,
          110000,
          13000,
          220000,
          130000,
          68000,
          61000,
          130000,
          82000,
          110000,
          98000,
          140000,
          150000,
          61000,
          140000,
          31000,
          220000,
          110000,
          22000,
          20000,
          100000,
          96000,
          160000,
          94000,
          80000,
          150000,
          97000,
          99000,
          120000,
          23000,
          220000,
          140000,
          23000,
          100000,
          70000,
          57000,
          110000,
          84000,
          35000,
          190000,
          89000,
          160000,
          150000,
          80000,
          10000,
          92000,
          23000,
          30000,
          8700,
          110000,
          56000,
          72000,
          24000,
          34000,
          150000,
          20000,
          14000,
          77000,
          23000,
          5300,
          170000,
          93000,
          22000,
          21000,
          9400,
          14000,
          210000,
          76000,
          220000,
          39000,
          43000,
          68000,
          38000,
          200000,
          110000,
          18000,
          120000,
          16000,
          14000,
          120000,
          28000,
          7000,
          120000,
          32000,
          97000,
          60000,
          42000,
          82000,
          49000,
          75000,
          51000,
          68000,
          26000,
          54000,
          100000,
          18000,
          64000,
          57000,
          20000,
          12000,
          72000,
          68000,
          36000,
          22000,
          22000,
          43000,
          67000,
          62000,
          52000,
          37000,
          26000,
          9000,
          14000,
          8100,
          12000,
          78000,
          17000,
          68000,
          32000,
          13000,
          60000,
          63000,
          37000,
          52000,
          27000,
          37000,
          140000,
          140000,
          170000,
          7900,
          49000,
          28000,
          39000,
          14000,
          23000,
          47000,
          8800,
          31000,
          120000,
          10000,
          35000,
          39000,
          21000,
          4800,
          14000,
          16000,
          5300,
          45000,
          67000,
          110000,
          3800,
          6500,
          39000,
          30000,
          60000,
          9100,
          4900,
          99000,
          1700,
          22000,
          3900,
          120000,
          5800,
          78000,
          1600,
          34000,
          19000,
          37000,
          55000,
          13000,
          36000,
          6400,
          4900,
          16000,
          140000,
          54000,
          4200,
          66000,
          30000,
          22000,
          4800,
          5200,
          1600,
          9200,
          12000,
          48000,
          16000,
          14000,
          23000,
          8800,
          69000,
          83000,
          10000,
          3200,
          9100,
          13000,
          10000,
          30000,
          42000,
          29000,
          23000,
          52000,
          3500,
          3900,
          4200,
          66000,
          9200,
          5500,
          5600,
          69000,
          38000,
          43000,
          26000,
          27000,
          2200,
          4000,
          60000,
          17000,
          25000,
          4000,
          3000,
          12000,
          1800,
          23000,
          5500,
          15000,
          44000,
          8000,
          16000,
          17000,
          5400,
          4500,
          25000,
          18000,
          6300,
          7900,
          12000,
          3200,
          16000,
          22000,
          150000,
          30000,
          4200,
          100000,
          13000,
          1700,
          6400,
          56000,
          6100,
          7200,
          9800,
          13000,
          7300,
          11000
         ],
         "yaxis": "y",
         "ybingroup": "y",
         "zmax": 50,
         "zmin": 0
        },
        {
         "colorscale": [
          [
           0,
           "rgb(247,251,255)"
          ],
          [
           0.125,
           "rgb(222,235,247)"
          ],
          [
           0.25,
           "rgb(198,219,239)"
          ],
          [
           0.375,
           "rgb(158,202,225)"
          ],
          [
           0.5,
           "rgb(107,174,214)"
          ],
          [
           0.625,
           "rgb(66,146,198)"
          ],
          [
           0.75,
           "rgb(33,113,181)"
          ],
          [
           0.875,
           "rgb(8,81,156)"
          ],
          [
           1,
           "rgb(8,48,107)"
          ]
         ],
         "contours": {
          "coloring": "fill"
         },
         "hovertemplate": "Students Enrolled: %{y:,.0f}<br>Rating: %{x}<br>Density: %{z}<br>",
         "legendgroup": "",
         "line": {
          "color": "#1F77B4"
         },
         "name": "",
         "showlegend": false,
         "type": "histogram2dcontour",
         "x": [
          4.6,
          4.6,
          4.7,
          4.6,
          4.9,
          4.6,
          4.9,
          4.6
         ],
         "xaxis": "x2",
         "xbingroup": "x",
         "y": [
          220000,
          120000,
          93000,
          140000,
          150000,
          44000,
          8800,
          2600
         ],
         "yaxis": "y2",
         "ybingroup": "y",
         "zmax": 50,
         "zmin": 0
        },
        {
         "colorscale": [
          [
           0,
           "rgb(247,251,255)"
          ],
          [
           0.125,
           "rgb(222,235,247)"
          ],
          [
           0.25,
           "rgb(198,219,239)"
          ],
          [
           0.375,
           "rgb(158,202,225)"
          ],
          [
           0.5,
           "rgb(107,174,214)"
          ],
          [
           0.625,
           "rgb(66,146,198)"
          ],
          [
           0.75,
           "rgb(33,113,181)"
          ],
          [
           0.875,
           "rgb(8,81,156)"
          ],
          [
           1,
           "rgb(8,48,107)"
          ]
         ],
         "contours": {
          "coloring": "fill"
         },
         "hovertemplate": "Students Enrolled: %{y:,.0f}<br>Rating: %{x}<br>Density: %{z}<br>",
         "legendgroup": "",
         "line": {
          "color": "#1F77B4"
         },
         "name": "",
         "showlegend": false,
         "type": "histogram2dcontour",
         "x": [
          4.9,
          4.8,
          4.9,
          4.7,
          4.9,
          4.7,
          4.7,
          4.7,
          4.8,
          4.7,
          4.9,
          4.8,
          4.8,
          4.9,
          4.7,
          4.8,
          4.8,
          4.8,
          4.7,
          4.7,
          4.8,
          4.5,
          4.7,
          4.7,
          4.6,
          4.6,
          4.6,
          4.8,
          4.7,
          4.6,
          4.7,
          4.8,
          4.7,
          4.8,
          4.8,
          4.8,
          4.8,
          4.8,
          4.6,
          4.9,
          4.8,
          4.6,
          4.7,
          4.8,
          4.7,
          4.6,
          4.7,
          4.9,
          4.8,
          4.9,
          4.8,
          4.7,
          4.6,
          4.8,
          4.9,
          4.7,
          4.7,
          4.8,
          4.8,
          4.8,
          4.9,
          4.8,
          4.8,
          4.8,
          4.8,
          4.8,
          4.8,
          4.5,
          4.7,
          4.6,
          4.7,
          4.7,
          4.8,
          4.4,
          4.6,
          4.8,
          4.8,
          4.7,
          4.9,
          4.8,
          4.8,
          4.7,
          4.6,
          4.6,
          4.7,
          4.8,
          4.8,
          4.7,
          4.8,
          4.7,
          4.6,
          4.8,
          4.8,
          4.5,
          4.8,
          4.6,
          4.7,
          4.9,
          4.8,
          4.8,
          4.6,
          4.9,
          4.8,
          4.7,
          4.9,
          4.8,
          4.8,
          4.4,
          4.8,
          4.8,
          4.5,
          4.6,
          4.6,
          4.8,
          4.6,
          4.8,
          4.7,
          4.8,
          4.6,
          4.8,
          4.7,
          4.8,
          4.7,
          4.5,
          4.8,
          4.5,
          4.6,
          4.6,
          4.7,
          4.4,
          4.5,
          4.6,
          4.9,
          4.8,
          4.6,
          4.7,
          4.8,
          4.7,
          4.7,
          4.9,
          4.8,
          4.8,
          4.6,
          4.9,
          4.5,
          4.7,
          4.7,
          4.5,
          4.7,
          4.7,
          4.8,
          4.7,
          4.8,
          4.7,
          4.6,
          4.8,
          4.7,
          4.9,
          4.7,
          4.8,
          4.8,
          4.8,
          4.6,
          4.9,
          4.5,
          4.6,
          4.8,
          4.7,
          4.5,
          4.6,
          4.6,
          4.6,
          4.7,
          4.9,
          4.6,
          4.6,
          4.8,
          4.8,
          4.8,
          4.7,
          4.5,
          4.6,
          4.7,
          4.8,
          4.8,
          4.7,
          4.7,
          4.8,
          4.6,
          4.8,
          4.6,
          4.8,
          4.3,
          4.7,
          4.7,
          4.8,
          4.9,
          4.5,
          4.7,
          4.7,
          4.8,
          4.8,
          4.7,
          4.7,
          4.8,
          4.9,
          4.7,
          4.7,
          4.7,
          4.7,
          4.8,
          4.9,
          4.5,
          4.6,
          4.8,
          4.8,
          4.7,
          4.8,
          4.8,
          4.9,
          4.8,
          4.6,
          4.8,
          4.8,
          4.8,
          4.8,
          4.8,
          4.7,
          4.8,
          4.8,
          4.8,
          4.8,
          4.7,
          4.7,
          4.6,
          4.8,
          4.5,
          4.7,
          4.7,
          4.9,
          4.7,
          4.8,
          4.7,
          4.8,
          4.7,
          4.7,
          4.5,
          4.7,
          4.8,
          4.6,
          4.9,
          4.8,
          4.7,
          4.7,
          4.4,
          4.8,
          4.8,
          4.7,
          4.7,
          4.6,
          4.9,
          4.8,
          4.8,
          4.7,
          4.8,
          4.5,
          4.9,
          4.7,
          4.7,
          4.7,
          4.4,
          4.7,
          4.8,
          4.5,
          4.7,
          4.5,
          4.6,
          4.9,
          4.7,
          4.6,
          4.8,
          4.8,
          4.7,
          4.6,
          4.6,
          4.6,
          4.5,
          4.9,
          4.8,
          4.8,
          4.7,
          4.7,
          4.6,
          4.6,
          4.8,
          4.8,
          4.8,
          4.8,
          4.8,
          4.8,
          4.7,
          4.5,
          4.8,
          4.8,
          4.7,
          4.3,
          4.6,
          4.6,
          4.7,
          4.8,
          4.9,
          4.9,
          4.8,
          4.8,
          4.8,
          4.7,
          4.8,
          4.4,
          4.7,
          4.7,
          4.6,
          4.3,
          4.9,
          4.6,
          4.7,
          4.9,
          4.7,
          4.9,
          4.6,
          4.7,
          4.6,
          4.5,
          4.9,
          4.6,
          4.9,
          4.5,
          4.7,
          4.6,
          4.9,
          4.5,
          4.7,
          4.8,
          4.9,
          4.7,
          4.6,
          4.7,
          4.5,
          4.5,
          4.8,
          4.7,
          4.8,
          4.7,
          4.9,
          4.8,
          4.5,
          4.8,
          4.8,
          4.6,
          4.8,
          4.6,
          4.8,
          4.7,
          4.5,
          4.7,
          4.4,
          4.8,
          4.7,
          4.6,
          4.9,
          4.8,
          4.7,
          4.6,
          4.6,
          4.3,
          4.7,
          4.8,
          4.9,
          4.8,
          4.4,
          4.7,
          4.6,
          4.7,
          4.6,
          4.6,
          4.7,
          4.8,
          4.7,
          4.9,
          4.7,
          4.7,
          4.8,
          4.6,
          4.7,
          4.7,
          4.7,
          4.8,
          4.7,
          4.7,
          4.8,
          4.7,
          4.8,
          4.7,
          4.8,
          4.8,
          4.7,
          4.6,
          4.8,
          4.8,
          4.8,
          4.7,
          4.8,
          4.7,
          4.8,
          4.7,
          4.8,
          4.8,
          4.6,
          4.8,
          4.7,
          4.7,
          4.8,
          4.8,
          4.7,
          4.8,
          4.8,
          4.6,
          4.6,
          4.8,
          4.8,
          4.7,
          4.7,
          4.7,
          4.4,
          4.8,
          4.8,
          4.9,
          4.5,
          4.8,
          4.7,
          4.5,
          4.4,
          4.3,
          4.8,
          4.7,
          4.9,
          4.8,
          4.8,
          4.8,
          5,
          4.8,
          4.6,
          4.7,
          4.8,
          4.7,
          4.6,
          4.8,
          4.6,
          4.8,
          4.7,
          4.7,
          4.8,
          4.4,
          4.7,
          4.4,
          4.7,
          4.6,
          4.8,
          4.6,
          4.8,
          4.8,
          4.6,
          4.6,
          4.7,
          4.6,
          4.7,
          4.7,
          4.5,
          4.8,
          4.9,
          4.5,
          4.7,
          4.8,
          4.8,
          4.7,
          4.8,
          4.6,
          4.6,
          4.8,
          4.5,
          4.7,
          4.9,
          4.8,
          4.6,
          4.8,
          4.8,
          4.9,
          4.7,
          4.8,
          4.7,
          4.8,
          4.9,
          4.4,
          4.7,
          4.8,
          4.5,
          4.9,
          4.7,
          4.7,
          4.5,
          4.7,
          4.6,
          4.7,
          4.8,
          4.9,
          4.7,
          4.7,
          4.8,
          4.7,
          4.5,
          4.5,
          4.6,
          4.9,
          4.6,
          4.8,
          4.8,
          4.8,
          4.8,
          4.6,
          4.7,
          4.7,
          4.9
         ],
         "xaxis": "x3",
         "xbingroup": "x",
         "y": [
          220000,
          190000,
          140000,
          150000,
          57000,
          120000,
          120000,
          220000,
          65000,
          68000,
          200000,
          180000,
          57000,
          210000,
          36000,
          51000,
          79000,
          140000,
          12000,
          130000,
          220000,
          100000,
          67000,
          120000,
          120000,
          170000,
          100000,
          23000,
          30000,
          110000,
          180000,
          24000,
          42000,
          100000,
          81000,
          190000,
          220000,
          190000,
          79000,
          35000,
          110000,
          89000,
          12000,
          71000,
          200000,
          56000,
          40000,
          170000,
          72000,
          76000,
          33000,
          140000,
          120000,
          41000,
          83000,
          150000,
          32000,
          50000,
          81000,
          86000,
          130000,
          67000,
          100000,
          25000,
          11000,
          69000,
          180000,
          120000,
          110000,
          58000,
          69000,
          29000,
          110000,
          55000,
          180000,
          84000,
          32000,
          110000,
          86000,
          110000,
          19000,
          110000,
          47000,
          4000,
          190000,
          14000,
          43000,
          180000,
          90000,
          220000,
          10000,
          36000,
          130000,
          16000,
          43000,
          29000,
          220000,
          120000,
          69000,
          4100,
          76000,
          79000,
          31000,
          120000,
          18000,
          57000,
          15000,
          100000,
          50000,
          9200,
          33000,
          160000,
          130000,
          95000,
          39000,
          20000,
          83000,
          220000,
          130000,
          78000,
          34000,
          130000,
          46000,
          17000,
          26000,
          84000,
          40000,
          56000,
          120000,
          41000,
          73000,
          120000,
          47000,
          130000,
          94000,
          58000,
          24000,
          42000,
          66000,
          17000,
          110000,
          68000,
          150000,
          95000,
          10000,
          54000,
          80000,
          140000,
          29000,
          62000,
          22000,
          43000,
          3300,
          13000,
          18000,
          53000,
          91000,
          36000,
          18000,
          82000,
          54000,
          39000,
          66000,
          150000,
          75000,
          52000,
          86000,
          44000,
          87000,
          39000,
          19000,
          40000,
          43000,
          5400,
          78000,
          30000,
          9700,
          85000,
          7200,
          68000,
          2200,
          26000,
          49000,
          32000,
          31000,
          12000,
          14000,
          38000,
          2300,
          56000,
          130000,
          14000,
          140000,
          34000,
          30000,
          49000,
          11000,
          30000,
          41000,
          160000,
          22000,
          62000,
          34000,
          10000,
          79000,
          40000,
          69000,
          7900,
          84000,
          17000,
          2400,
          73000,
          35000,
          97000,
          91000,
          18000,
          140000,
          38000,
          74000,
          89000,
          89000,
          71000,
          130000,
          42000,
          47000,
          20000,
          18000,
          21000,
          34000,
          200000,
          11000,
          17000,
          8000,
          120000,
          160000,
          150000,
          81000,
          97000,
          9100,
          13000,
          130000,
          45000,
          51000,
          45000,
          110000,
          24000,
          87000,
          120000,
          35000,
          82000,
          22000,
          48000,
          14000,
          10000,
          140000,
          6200,
          43000,
          37000,
          99000,
          32000,
          180000,
          170000,
          26000,
          71000,
          72000,
          27000,
          81000,
          23000,
          220000,
          57000,
          88000,
          18000,
          34000,
          73000,
          23000,
          34000,
          8400,
          9400,
          34000,
          22000,
          36000,
          16000,
          49000,
          9400,
          200000,
          19000,
          22000,
          29000,
          11000,
          40000,
          9700,
          39000,
          11000,
          2600,
          25000,
          59000,
          110000,
          44000,
          68000,
          29000,
          19000,
          80000,
          24000,
          23000,
          16000,
          24000,
          2900,
          200000,
          33000,
          11000,
          12000,
          27000,
          15000,
          20000,
          5600,
          76000,
          39000,
          8200,
          150000,
          47000,
          150000,
          11000,
          30000,
          180000,
          5200,
          46000,
          42000,
          3900,
          4400,
          110000,
          180000,
          10000,
          9500,
          40000,
          33000,
          41000,
          47000,
          15000,
          44000,
          7300,
          120000,
          16000,
          28000,
          35000,
          22000,
          39000,
          31000,
          11000,
          84000,
          79000,
          28000,
          36000,
          8900,
          58000,
          22000,
          47000,
          61000,
          17000,
          29000,
          19000,
          26000,
          17000,
          59000,
          68000,
          18000,
          21000,
          130000,
          35000,
          15000,
          6000,
          12000,
          75000,
          39000,
          19000,
          61000,
          59000,
          40000,
          52000,
          25000,
          22000,
          83000,
          31000,
          47000,
          36000,
          16000,
          35000,
          62000,
          21000,
          14000,
          14000,
          7800,
          36000,
          14000,
          23000,
          31000,
          63000,
          27000,
          150000,
          10000,
          19000,
          9900,
          19000,
          39000,
          22000,
          19000,
          59000,
          4100,
          31000,
          22000,
          77000,
          7600,
          17000,
          16000,
          110000,
          49000,
          10000,
          11000,
          1900,
          66000,
          5900,
          41000,
          210000,
          33000,
          11000,
          24000,
          3600,
          6500,
          6800,
          23000,
          12000,
          23000,
          14000,
          2400,
          7700,
          110000,
          3400,
          54000,
          62000,
          6500,
          37000,
          12000,
          20000,
          33000,
          19000,
          34000,
          62000,
          17000,
          53000,
          1500,
          170000,
          78000,
          15000,
          15000,
          12000,
          47000,
          8100,
          63000,
          55000,
          58000,
          14000,
          60000,
          12000,
          4500,
          8500,
          22000,
          12000,
          67000,
          31000,
          20000,
          49000,
          13000,
          50000,
          6600,
          5500,
          9500,
          69000,
          67000,
          14000,
          3000,
          13000,
          35000,
          60000,
          7100,
          3200,
          38000,
          37000,
          9700,
          23000,
          7200,
          48000,
          41000,
          17000,
          29000,
          46000,
          46000,
          12000,
          27000,
          51000,
          36000,
          79000,
          4400,
          57000,
          21000,
          15000,
          21000,
          1700,
          25000,
          60000,
          12000,
          27000,
          160000,
          45000,
          7200,
          120000,
          22000,
          21000,
          12000,
          18000,
          42000,
          130000,
          16000,
          10000,
          42000,
          46000,
          28000,
          9500,
          21000,
          5800,
          33000,
          45000,
          6400
         ],
         "yaxis": "y3",
         "ybingroup": "y",
         "zmax": 50,
         "zmin": 0
        },
        {
         "hoverinfo": "text",
         "hovertext": [
          "Title: <b>Ibm Applied Ai</b><br>Students Enrolled: 220,000<br>Organization: Ibm<br>Rating: 4.6",
          "Title: <b>Data Engineering With Google Cloud</b><br>Students Enrolled: 120,000<br>Organization: Google Cloud<br>Rating: 4.6",
          "Title: <b>Google It Automation With Python</b><br>Students Enrolled: 93,000<br>Organization: Google<br>Rating: 4.7",
          "Title: <b>Ibm Ai Engineering</b><br>Students Enrolled: 140,000<br>Organization: Ibm<br>Rating: 4.6",
          "Title: <b>Arizona State University Tesol</b><br>Students Enrolled: 150,000<br>Organization: Arizona State University<br>Rating: 4.9",
          "Title: <b>Uci Project Management</b><br>Students Enrolled: 44,000<br>Organization: University Of California, Irvine<br>Rating: 4.6",
          "Title: <b>Soporte De Tecnologías De La Información De Google</b><br>Students Enrolled: 8,800<br>Organization: Crece Con Google<br>Rating: 4.9",
          "Title: <b>Sas Visual Business Analytics</b><br>Students Enrolled: 2,600<br>Organization: Sas<br>Rating: 4.6"
         ],
         "marker": {
          "color": "#1D6996",
          "opacity": 0.4,
          "size": 5
         },
         "mode": "markers",
         "name": "Professional certificate",
         "type": "scatter",
         "x": [
          4.6,
          4.6,
          4.7,
          4.6,
          4.9,
          4.6,
          4.9,
          4.6
         ],
         "xaxis": "x2",
         "y": [
          220000,
          120000,
          93000,
          140000,
          150000,
          44000,
          8800,
          2600
         ],
         "yaxis": "y2"
        }
       ],
       "layout": {
        "annotations": [
         {
          "font": {},
          "showarrow": false,
          "text": "Specialization",
          "x": 0.15999999999999998,
          "xanchor": "center",
          "xref": "paper",
          "y": 1,
          "yanchor": "bottom",
          "yref": "paper"
         },
         {
          "font": {},
          "showarrow": false,
          "text": "Professional Certificate",
          "x": 0.49999999999999994,
          "xanchor": "center",
          "xref": "paper",
          "y": 1,
          "yanchor": "bottom",
          "yref": "paper"
         },
         {
          "font": {},
          "showarrow": false,
          "text": "Course",
          "x": 0.8399999999999999,
          "xanchor": "center",
          "xref": "paper",
          "y": 1,
          "yanchor": "bottom",
          "yref": "paper"
         }
        ],
        "height": 700,
        "hoverlabel": {
         "bgcolor": "white",
         "bordercolor": "white",
         "font": {
          "color": "#494a5e"
         }
        },
        "legend": {
         "tracegroupgap": 0
        },
        "margin": {
         "b": 5,
         "t": 70
        },
        "template": {
         "data": {
          "bar": [
           {
            "error_x": {
             "color": "rgb(36,36,36)"
            },
            "error_y": {
             "color": "rgb(36,36,36)"
            },
            "marker": {
             "line": {
              "color": "white",
              "width": 0.5
             },
             "pattern": {
              "fillmode": "overlay",
              "size": 10,
              "solidity": 0.2
             }
            },
            "type": "bar"
           }
          ],
          "barpolar": [
           {
            "marker": {
             "line": {
              "color": "white",
              "width": 0.5
             },
             "pattern": {
              "fillmode": "overlay",
              "size": 10,
              "solidity": 0.2
             }
            },
            "type": "barpolar"
           }
          ],
          "carpet": [
           {
            "aaxis": {
             "endlinecolor": "rgb(36,36,36)",
             "gridcolor": "white",
             "linecolor": "white",
             "minorgridcolor": "white",
             "startlinecolor": "rgb(36,36,36)"
            },
            "baxis": {
             "endlinecolor": "rgb(36,36,36)",
             "gridcolor": "white",
             "linecolor": "white",
             "minorgridcolor": "white",
             "startlinecolor": "rgb(36,36,36)"
            },
            "type": "carpet"
           }
          ],
          "choropleth": [
           {
            "colorbar": {
             "outlinewidth": 1,
             "tickcolor": "rgb(36,36,36)",
             "ticks": "outside"
            },
            "type": "choropleth"
           }
          ],
          "contour": [
           {
            "colorbar": {
             "outlinewidth": 1,
             "tickcolor": "rgb(36,36,36)",
             "ticks": "outside"
            },
            "colorscale": [
             [
              0,
              "#440154"
             ],
             [
              0.1111111111111111,
              "#482878"
             ],
             [
              0.2222222222222222,
              "#3e4989"
             ],
             [
              0.3333333333333333,
              "#31688e"
             ],
             [
              0.4444444444444444,
              "#26828e"
             ],
             [
              0.5555555555555556,
              "#1f9e89"
             ],
             [
              0.6666666666666666,
              "#35b779"
             ],
             [
              0.7777777777777778,
              "#6ece58"
             ],
             [
              0.8888888888888888,
              "#b5de2b"
             ],
             [
              1,
              "#fde725"
             ]
            ],
            "type": "contour"
           }
          ],
          "contourcarpet": [
           {
            "colorbar": {
             "outlinewidth": 1,
             "tickcolor": "rgb(36,36,36)",
             "ticks": "outside"
            },
            "type": "contourcarpet"
           }
          ],
          "heatmap": [
           {
            "colorbar": {
             "outlinewidth": 1,
             "tickcolor": "rgb(36,36,36)",
             "ticks": "outside"
            },
            "colorscale": [
             [
              0,
              "#440154"
             ],
             [
              0.1111111111111111,
              "#482878"
             ],
             [
              0.2222222222222222,
              "#3e4989"
             ],
             [
              0.3333333333333333,
              "#31688e"
             ],
             [
              0.4444444444444444,
              "#26828e"
             ],
             [
              0.5555555555555556,
              "#1f9e89"
             ],
             [
              0.6666666666666666,
              "#35b779"
             ],
             [
              0.7777777777777778,
              "#6ece58"
             ],
             [
              0.8888888888888888,
              "#b5de2b"
             ],
             [
              1,
              "#fde725"
             ]
            ],
            "type": "heatmap"
           }
          ],
          "heatmapgl": [
           {
            "colorbar": {
             "outlinewidth": 1,
             "tickcolor": "rgb(36,36,36)",
             "ticks": "outside"
            },
            "colorscale": [
             [
              0,
              "#440154"
             ],
             [
              0.1111111111111111,
              "#482878"
             ],
             [
              0.2222222222222222,
              "#3e4989"
             ],
             [
              0.3333333333333333,
              "#31688e"
             ],
             [
              0.4444444444444444,
              "#26828e"
             ],
             [
              0.5555555555555556,
              "#1f9e89"
             ],
             [
              0.6666666666666666,
              "#35b779"
             ],
             [
              0.7777777777777778,
              "#6ece58"
             ],
             [
              0.8888888888888888,
              "#b5de2b"
             ],
             [
              1,
              "#fde725"
             ]
            ],
            "type": "heatmapgl"
           }
          ],
          "histogram": [
           {
            "marker": {
             "line": {
              "color": "white",
              "width": 0.6
             }
            },
            "type": "histogram"
           }
          ],
          "histogram2d": [
           {
            "colorbar": {
             "outlinewidth": 1,
             "tickcolor": "rgb(36,36,36)",
             "ticks": "outside"
            },
            "colorscale": [
             [
              0,
              "#440154"
             ],
             [
              0.1111111111111111,
              "#482878"
             ],
             [
              0.2222222222222222,
              "#3e4989"
             ],
             [
              0.3333333333333333,
              "#31688e"
             ],
             [
              0.4444444444444444,
              "#26828e"
             ],
             [
              0.5555555555555556,
              "#1f9e89"
             ],
             [
              0.6666666666666666,
              "#35b779"
             ],
             [
              0.7777777777777778,
              "#6ece58"
             ],
             [
              0.8888888888888888,
              "#b5de2b"
             ],
             [
              1,
              "#fde725"
             ]
            ],
            "type": "histogram2d"
           }
          ],
          "histogram2dcontour": [
           {
            "colorbar": {
             "outlinewidth": 1,
             "tickcolor": "rgb(36,36,36)",
             "ticks": "outside"
            },
            "colorscale": [
             [
              0,
              "#440154"
             ],
             [
              0.1111111111111111,
              "#482878"
             ],
             [
              0.2222222222222222,
              "#3e4989"
             ],
             [
              0.3333333333333333,
              "#31688e"
             ],
             [
              0.4444444444444444,
              "#26828e"
             ],
             [
              0.5555555555555556,
              "#1f9e89"
             ],
             [
              0.6666666666666666,
              "#35b779"
             ],
             [
              0.7777777777777778,
              "#6ece58"
             ],
             [
              0.8888888888888888,
              "#b5de2b"
             ],
             [
              1,
              "#fde725"
             ]
            ],
            "type": "histogram2dcontour"
           }
          ],
          "mesh3d": [
           {
            "colorbar": {
             "outlinewidth": 1,
             "tickcolor": "rgb(36,36,36)",
             "ticks": "outside"
            },
            "type": "mesh3d"
           }
          ],
          "parcoords": [
           {
            "line": {
             "colorbar": {
              "outlinewidth": 1,
              "tickcolor": "rgb(36,36,36)",
              "ticks": "outside"
             }
            },
            "type": "parcoords"
           }
          ],
          "pie": [
           {
            "automargin": true,
            "type": "pie"
           }
          ],
          "scatter": [
           {
            "fillpattern": {
             "fillmode": "overlay",
             "size": 10,
             "solidity": 0.2
            },
            "type": "scatter"
           }
          ],
          "scatter3d": [
           {
            "line": {
             "colorbar": {
              "outlinewidth": 1,
              "tickcolor": "rgb(36,36,36)",
              "ticks": "outside"
             }
            },
            "marker": {
             "colorbar": {
              "outlinewidth": 1,
              "tickcolor": "rgb(36,36,36)",
              "ticks": "outside"
             }
            },
            "type": "scatter3d"
           }
          ],
          "scattercarpet": [
           {
            "marker": {
             "colorbar": {
              "outlinewidth": 1,
              "tickcolor": "rgb(36,36,36)",
              "ticks": "outside"
             }
            },
            "type": "scattercarpet"
           }
          ],
          "scattergeo": [
           {
            "marker": {
             "colorbar": {
              "outlinewidth": 1,
              "tickcolor": "rgb(36,36,36)",
              "ticks": "outside"
             }
            },
            "type": "scattergeo"
           }
          ],
          "scattergl": [
           {
            "marker": {
             "colorbar": {
              "outlinewidth": 1,
              "tickcolor": "rgb(36,36,36)",
              "ticks": "outside"
             }
            },
            "type": "scattergl"
           }
          ],
          "scattermapbox": [
           {
            "marker": {
             "colorbar": {
              "outlinewidth": 1,
              "tickcolor": "rgb(36,36,36)",
              "ticks": "outside"
             }
            },
            "type": "scattermapbox"
           }
          ],
          "scatterpolar": [
           {
            "marker": {
             "colorbar": {
              "outlinewidth": 1,
              "tickcolor": "rgb(36,36,36)",
              "ticks": "outside"
             }
            },
            "type": "scatterpolar"
           }
          ],
          "scatterpolargl": [
           {
            "marker": {
             "colorbar": {
              "outlinewidth": 1,
              "tickcolor": "rgb(36,36,36)",
              "ticks": "outside"
             }
            },
            "type": "scatterpolargl"
           }
          ],
          "scatterternary": [
           {
            "marker": {
             "colorbar": {
              "outlinewidth": 1,
              "tickcolor": "rgb(36,36,36)",
              "ticks": "outside"
             }
            },
            "type": "scatterternary"
           }
          ],
          "surface": [
           {
            "colorbar": {
             "outlinewidth": 1,
             "tickcolor": "rgb(36,36,36)",
             "ticks": "outside"
            },
            "colorscale": [
             [
              0,
              "#440154"
             ],
             [
              0.1111111111111111,
              "#482878"
             ],
             [
              0.2222222222222222,
              "#3e4989"
             ],
             [
              0.3333333333333333,
              "#31688e"
             ],
             [
              0.4444444444444444,
              "#26828e"
             ],
             [
              0.5555555555555556,
              "#1f9e89"
             ],
             [
              0.6666666666666666,
              "#35b779"
             ],
             [
              0.7777777777777778,
              "#6ece58"
             ],
             [
              0.8888888888888888,
              "#b5de2b"
             ],
             [
              1,
              "#fde725"
             ]
            ],
            "type": "surface"
           }
          ],
          "table": [
           {
            "cells": {
             "fill": {
              "color": "rgb(237,237,237)"
             },
             "line": {
              "color": "white"
             }
            },
            "header": {
             "fill": {
              "color": "rgb(217,217,217)"
             },
             "line": {
              "color": "white"
             }
            },
            "type": "table"
           }
          ]
         },
         "layout": {
          "annotationdefaults": {
           "arrowhead": 0,
           "arrowwidth": 1
          },
          "autotypenumbers": "strict",
          "coloraxis": {
           "colorbar": {
            "outlinewidth": 1,
            "tickcolor": "rgb(36,36,36)",
            "ticks": "outside"
           }
          },
          "colorscale": {
           "diverging": [
            [
             0,
             "rgb(103,0,31)"
            ],
            [
             0.1,
             "rgb(178,24,43)"
            ],
            [
             0.2,
             "rgb(214,96,77)"
            ],
            [
             0.3,
             "rgb(244,165,130)"
            ],
            [
             0.4,
             "rgb(253,219,199)"
            ],
            [
             0.5,
             "rgb(247,247,247)"
            ],
            [
             0.6,
             "rgb(209,229,240)"
            ],
            [
             0.7,
             "rgb(146,197,222)"
            ],
            [
             0.8,
             "rgb(67,147,195)"
            ],
            [
             0.9,
             "rgb(33,102,172)"
            ],
            [
             1,
             "rgb(5,48,97)"
            ]
           ],
           "sequential": [
            [
             0,
             "#440154"
            ],
            [
             0.1111111111111111,
             "#482878"
            ],
            [
             0.2222222222222222,
             "#3e4989"
            ],
            [
             0.3333333333333333,
             "#31688e"
            ],
            [
             0.4444444444444444,
             "#26828e"
            ],
            [
             0.5555555555555556,
             "#1f9e89"
            ],
            [
             0.6666666666666666,
             "#35b779"
            ],
            [
             0.7777777777777778,
             "#6ece58"
            ],
            [
             0.8888888888888888,
             "#b5de2b"
            ],
            [
             1,
             "#fde725"
            ]
           ],
           "sequentialminus": [
            [
             0,
             "#440154"
            ],
            [
             0.1111111111111111,
             "#482878"
            ],
            [
             0.2222222222222222,
             "#3e4989"
            ],
            [
             0.3333333333333333,
             "#31688e"
            ],
            [
             0.4444444444444444,
             "#26828e"
            ],
            [
             0.5555555555555556,
             "#1f9e89"
            ],
            [
             0.6666666666666666,
             "#35b779"
            ],
            [
             0.7777777777777778,
             "#6ece58"
            ],
            [
             0.8888888888888888,
             "#b5de2b"
            ],
            [
             1,
             "#fde725"
            ]
           ]
          },
          "colorway": [
           "#1F77B4",
           "#FF7F0E",
           "#2CA02C",
           "#D62728",
           "#9467BD",
           "#8C564B",
           "#E377C2",
           "#7F7F7F",
           "#BCBD22",
           "#17BECF"
          ],
          "font": {
           "color": "rgb(36,36,36)"
          },
          "geo": {
           "bgcolor": "white",
           "lakecolor": "white",
           "landcolor": "white",
           "showlakes": true,
           "showland": true,
           "subunitcolor": "white"
          },
          "hoverlabel": {
           "align": "left"
          },
          "hovermode": "closest",
          "mapbox": {
           "style": "light"
          },
          "paper_bgcolor": "white",
          "plot_bgcolor": "white",
          "polar": {
           "angularaxis": {
            "gridcolor": "rgb(232,232,232)",
            "linecolor": "rgb(36,36,36)",
            "showgrid": false,
            "showline": true,
            "ticks": "outside"
           },
           "bgcolor": "white",
           "radialaxis": {
            "gridcolor": "rgb(232,232,232)",
            "linecolor": "rgb(36,36,36)",
            "showgrid": false,
            "showline": true,
            "ticks": "outside"
           }
          },
          "scene": {
           "xaxis": {
            "backgroundcolor": "white",
            "gridcolor": "rgb(232,232,232)",
            "gridwidth": 2,
            "linecolor": "rgb(36,36,36)",
            "showbackground": true,
            "showgrid": false,
            "showline": true,
            "ticks": "outside",
            "zeroline": false,
            "zerolinecolor": "rgb(36,36,36)"
           },
           "yaxis": {
            "backgroundcolor": "white",
            "gridcolor": "rgb(232,232,232)",
            "gridwidth": 2,
            "linecolor": "rgb(36,36,36)",
            "showbackground": true,
            "showgrid": false,
            "showline": true,
            "ticks": "outside",
            "zeroline": false,
            "zerolinecolor": "rgb(36,36,36)"
           },
           "zaxis": {
            "backgroundcolor": "white",
            "gridcolor": "rgb(232,232,232)",
            "gridwidth": 2,
            "linecolor": "rgb(36,36,36)",
            "showbackground": true,
            "showgrid": false,
            "showline": true,
            "ticks": "outside",
            "zeroline": false,
            "zerolinecolor": "rgb(36,36,36)"
           }
          },
          "shapedefaults": {
           "fillcolor": "black",
           "line": {
            "width": 0
           },
           "opacity": 0.3
          },
          "ternary": {
           "aaxis": {
            "gridcolor": "rgb(232,232,232)",
            "linecolor": "rgb(36,36,36)",
            "showgrid": false,
            "showline": true,
            "ticks": "outside"
           },
           "baxis": {
            "gridcolor": "rgb(232,232,232)",
            "linecolor": "rgb(36,36,36)",
            "showgrid": false,
            "showline": true,
            "ticks": "outside"
           },
           "bgcolor": "white",
           "caxis": {
            "gridcolor": "rgb(232,232,232)",
            "linecolor": "rgb(36,36,36)",
            "showgrid": false,
            "showline": true,
            "ticks": "outside"
           }
          },
          "title": {
           "x": 0.05
          },
          "xaxis": {
           "automargin": true,
           "gridcolor": "rgb(232,232,232)",
           "linecolor": "rgb(36,36,36)",
           "showgrid": false,
           "showline": true,
           "ticks": "outside",
           "title": {
            "standoff": 15
           },
           "zeroline": false,
           "zerolinecolor": "rgb(36,36,36)"
          },
          "yaxis": {
           "automargin": true,
           "gridcolor": "rgb(232,232,232)",
           "linecolor": "rgb(36,36,36)",
           "showgrid": false,
           "showline": true,
           "ticks": "outside",
           "title": {
            "standoff": 15
           },
           "zeroline": false,
           "zerolinecolor": "rgb(36,36,36)"
          }
         }
        },
        "title": {
         "text": "Enrollments and ratings per course type"
        },
        "width": 1000,
        "xaxis": {
         "anchor": "y",
         "domain": [
          0,
          0.31999999999999995
         ],
         "title": {
          "text": ""
         }
        },
        "xaxis2": {
         "anchor": "y2",
         "domain": [
          0.33999999999999997,
          0.6599999999999999
         ],
         "matches": "x",
         "title": {
          "text": ""
         }
        },
        "xaxis3": {
         "anchor": "y3",
         "domain": [
          0.6799999999999999,
          0.9999999999999999
         ],
         "matches": "x",
         "title": {
          "text": ""
         }
        },
        "yaxis": {
         "anchor": "x",
         "domain": [
          0,
          1
         ],
         "title": {
          "text": "Students enrolled"
         }
        },
        "yaxis2": {
         "anchor": "x2",
         "domain": [
          0,
          1
         ],
         "matches": "y",
         "showticklabels": false
        },
        "yaxis3": {
         "anchor": "x3",
         "domain": [
          0,
          1
         ],
         "matches": "y",
         "showticklabels": false
        }
       }
      },
      "image/svg+xml": [
       "<svg class=\"main-svg\" xmlns=\"http://www.w3.org/2000/svg\" xmlns:xlink=\"http://www.w3.org/1999/xlink\" width=\"1000\" height=\"700\" style=\"\" viewBox=\"0 0 1000 700\"><rect x=\"0\" y=\"0\" width=\"1000\" height=\"700\" style=\"fill: rgb(255, 255, 255); fill-opacity: 1;\"/><defs id=\"defs-dd0a93\"><g class=\"clips\"><clipPath id=\"clipdd0a93xyplot\" class=\"plotclip\"><rect width=\"263.99999999999994\" height=\"577\"/></clipPath><clipPath id=\"clipdd0a93x2y2plot\" class=\"plotclip\"><rect width=\"263.99999999999994\" height=\"577\"/></clipPath><clipPath id=\"clipdd0a93x3y3plot\" class=\"plotclip\"><rect width=\"263.99999999999994\" height=\"577\"/></clipPath><clipPath class=\"axesclip\" id=\"clipdd0a93x\"><rect x=\"80\" y=\"0\" width=\"263.99999999999994\" height=\"700\"/></clipPath><clipPath class=\"axesclip\" id=\"clipdd0a93y\"><rect x=\"0\" y=\"70\" width=\"1000\" height=\"577\"/></clipPath><clipPath class=\"axesclip\" id=\"clipdd0a93xy\"><rect x=\"80\" y=\"70\" width=\"263.99999999999994\" height=\"577\"/></clipPath><clipPath class=\"axesclip\" id=\"clipdd0a93y2\"><rect x=\"0\" y=\"70\" width=\"1000\" height=\"577\"/></clipPath><clipPath class=\"axesclip\" id=\"clipdd0a93xy2\"><rect x=\"80\" y=\"70\" width=\"263.99999999999994\" height=\"577\"/></clipPath><clipPath class=\"axesclip\" id=\"clipdd0a93y3\"><rect x=\"0\" y=\"70\" width=\"1000\" height=\"577\"/></clipPath><clipPath class=\"axesclip\" id=\"clipdd0a93xy3\"><rect x=\"80\" y=\"70\" width=\"263.99999999999994\" height=\"577\"/></clipPath><clipPath class=\"axesclip\" id=\"clipdd0a93x2\"><rect x=\"360.5\" y=\"0\" width=\"263.99999999999994\" height=\"700\"/></clipPath><clipPath class=\"axesclip\" id=\"clipdd0a93x2y\"><rect x=\"360.5\" y=\"70\" width=\"263.99999999999994\" height=\"577\"/></clipPath><clipPath class=\"axesclip\" id=\"clipdd0a93x2y2\"><rect x=\"360.5\" y=\"70\" width=\"263.99999999999994\" height=\"577\"/></clipPath><clipPath class=\"axesclip\" id=\"clipdd0a93x2y3\"><rect x=\"360.5\" y=\"70\" width=\"263.99999999999994\" height=\"577\"/></clipPath><clipPath class=\"axesclip\" id=\"clipdd0a93x3\"><rect x=\"641\" y=\"0\" width=\"263.99999999999994\" height=\"700\"/></clipPath><clipPath class=\"axesclip\" id=\"clipdd0a93x3y\"><rect x=\"641\" y=\"70\" width=\"263.99999999999994\" height=\"577\"/></clipPath><clipPath class=\"axesclip\" id=\"clipdd0a93x3y2\"><rect x=\"641\" y=\"70\" width=\"263.99999999999994\" height=\"577\"/></clipPath><clipPath class=\"axesclip\" id=\"clipdd0a93x3y3\"><rect x=\"641\" y=\"70\" width=\"263.99999999999994\" height=\"577\"/></clipPath><clipPath class=\"contourclip\" id=\"clip350458\"/><clipPath class=\"contourclip\" id=\"clip13024a\"/><clipPath class=\"contourclip\" id=\"clip3f92e9\"/></g><g class=\"gradients\"/><g class=\"patterns\"/></defs><g class=\"bglayer\"/><g class=\"layer-below\"><g class=\"imagelayer\"/><g class=\"shapelayer\"/></g><g class=\"cartesianlayer\"><g class=\"subplot xy\"><g class=\"layer-subplot\"><g class=\"shapelayer\"/><g class=\"imagelayer\"/></g><g class=\"minor-gridlayer\"><g class=\"x\"/><g class=\"y\"/></g><g class=\"gridlayer\"><g class=\"x\"/><g class=\"y\"/></g><g class=\"zerolinelayer\"/><g class=\"layer-between\"><g class=\"shapelayer\"/><g class=\"imagelayer\"/></g><path class=\"xlines-below\"/><path class=\"ylines-below\"/><g class=\"overlines-below\"/><g class=\"xaxislayer-below\"/><g class=\"yaxislayer-below\"/><g class=\"overaxes-below\"/><g class=\"overplot\"><g class=\"xy\" transform=\"translate(80,70)\" clip-path=\"url(#clipdd0a93xyplot)\"><g class=\"contourlayer mlayer\"><g class=\"contour\" style=\"opacity: 1;\"><g class=\"heatmapcoloring\"/><g class=\"contourbg\"><path d=\"M0,0L264,0L264,573.04L0,573.04Z\" style=\"stroke: none; fill: rgb(247, 251, 255);\"/></g><g class=\"contourfill\"><path d=\"M58.67,545.49C52.81,541.02 46.28,534.72 46.1,528.96C45.91,522.94 53.88,516.73 58.67,510.07C64.35,502.18 73.05,492.72 78.22,484.88C82.33,478.65 83.19,473.3 88,467.25C94.74,458.78 106.72,444.38 117.33,440.8C126.49,437.71 139.55,443.83 146.67,443.25C150.84,442.91 155.64,442.86 156.44,440.8C157.49,438.08 150.49,431.84 146.67,426.1C141.27,417.98 130.16,408.09 127.11,396.72C123.7,384 126.77,367.1 129.9,352.64C133.14,337.7 140.66,308.72 146.67,308.56C152.75,308.4 163.9,337.63 166.22,352.64C168.45,367.04 158.47,384.95 161.33,396.72C163.54,405.81 172.1,411.19 176,418.76C179.68,425.91 182.5,432.02 184.38,440.8C186.96,452.81 184.49,470.33 187,484.88C189.55,499.72 201.94,515.68 199.75,528.96C197.66,541.59 185.93,558.31 176,563.02C167.65,566.98 156.44,560.59 146.67,560.79C136.88,560.99 127.06,564.78 117.33,564.22C107.5,563.65 97.66,560.36 88,557.29C78.1,554.15 65.9,551.01 58.67,545.49ZM88,414.35C83.17,413.74 76.27,402.6 76.27,396.72C76.27,390.84 83.17,379.7 88,379.09C93.38,378.41 107.56,390.84 107.56,396.72C107.56,402.6 93.38,415.03 88,414.35Z\" style=\"stroke: none; fill: rgb(225, 237, 248);\"/><path d=\"M88,541.55C80.67,537.48 69.39,534.53 68.44,528.96C67.33,522.44 82.32,511.66 88,503.77C92.79,497.11 95.87,491.09 100.57,484.88C105.58,478.26 110.15,470.13 117.33,465.29C125.2,459.99 137.97,453.08 146.67,455.49C156.4,458.19 167.05,478.59 171.81,484.88C173.91,487.66 174.31,488.09 176,491.17C179.96,498.38 193.81,518.04 192.76,528.96C191.88,538.16 183.65,549.72 176,553C168.31,556.3 156.41,548.17 146.67,548.55C136.85,548.94 126.93,556.42 117.33,555.4C107.36,554.34 96.65,546.35 88,541.55Z\" style=\"stroke: none; fill: rgb(203, 223, 241);\"/><path d=\"M117.33,546.59C107.93,545.42 92.29,537.16 90.67,528.96C88.62,518.62 108.68,497.5 119.16499999999999,486.88C127.68,478.25 139.27,466.78 146.67,467.73C152.74,468.51 156.62,478.65 161.33,484.88C166.43,491.63 171.86,499.39 176,506.92C179.95,514.1 186.39,522.59 185.78,528.96C185.26,534.32 181.03,541.04 176,542.98C169.33,545.56 156.37,535.75 146.67,536.3C136.81,536.86 126.61,547.74 117.33,546.59Z\" style=\"stroke: none; fill: rgb(171, 208, 230);\"/><path d=\"M117.33,537.77C112.24,537.3 104.82,533.02 104,528.96C102.99,523.97 111.97,509.51 117.33,508.92C123.21,508.27 139.19,524.06 138.29,528.96C137.49,533.3 123.4,538.34 117.33,537.77ZM176,532.96C173.18,533.98 161.45,530.65 161.33,528.96C161.21,527.23 173.21,521.56 176,522.66C177.83,523.38 178.97,527.14 178.79,528.96C178.64,530.49 177.6,532.38 176,532.96ZM146.67,506.92C144.74,507.05 137.81,489.32 139.33,484.88C140.27,482.14 144.66,479.7 146.67,479.98C148.39,480.22 150.21,482.44 150.86,484.88C152.07,489.43 148.57,506.79 146.67,506.92Z\" style=\"stroke: none; fill: rgb(130, 186, 219);\"/></g><g class=\"contourlines\"><g class=\"contourlevel\"><path class=\"closedline\" d=\"M58.67,545.49C52.81,541.02 46.28,534.72 46.1,528.96C45.91,522.94 53.88,516.73 58.67,510.07C64.35,502.18 73.05,492.72 78.22,484.88C82.33,478.65 83.19,473.3 88,467.25C94.74,458.78 106.72,444.38 117.33,440.8C126.49,437.71 139.55,443.83 146.67,443.25C150.84,442.91 155.64,442.86 156.44,440.8C157.49,438.08 150.49,431.84 146.67,426.1C141.27,417.98 130.16,408.09 127.11,396.72C123.7,384 126.77,367.1 129.9,352.64C133.14,337.7 140.66,308.72 146.67,308.56C152.75,308.4 163.9,337.63 166.22,352.64C168.45,367.04 158.47,384.95 161.33,396.72C163.54,405.81 172.1,411.19 176,418.76C179.68,425.91 182.5,432.02 184.38,440.8C186.96,452.81 184.49,470.33 187,484.88C189.55,499.72 201.94,515.68 199.75,528.96C197.66,541.59 185.93,558.31 176,563.02C167.65,566.98 156.44,560.59 146.67,560.79C136.88,560.99 127.06,564.78 117.33,564.22C107.5,563.65 97.66,560.36 88,557.29C78.1,554.15 65.9,551.01 58.67,545.49Z\" style=\"stroke-miterlimit: 1; vector-effect: none; fill: none; stroke: rgb(31, 119, 180); stroke-opacity: 1; stroke-width: 0.5px;\"/><path class=\"closedline\" d=\"M88,414.35C83.17,413.74 76.27,402.6 76.27,396.72C76.27,390.84 83.17,379.7 88,379.09C93.38,378.41 107.56,390.84 107.56,396.72C107.56,402.6 93.38,415.03 88,414.35Z\" style=\"stroke-miterlimit: 1; vector-effect: none; fill: none; stroke: rgb(31, 119, 180); stroke-opacity: 1; stroke-width: 0.5px;\"/></g><g class=\"contourlevel\"><path class=\"closedline\" d=\"M88,541.55C80.67,537.48 69.39,534.53 68.44,528.96C67.33,522.44 82.32,511.66 88,503.77C92.79,497.11 95.87,491.09 100.57,484.88C105.58,478.26 110.15,470.13 117.33,465.29C125.2,459.99 137.97,453.08 146.67,455.49C156.4,458.19 167.05,478.59 171.81,484.88C173.91,487.66 174.31,488.09 176,491.17C179.96,498.38 193.81,518.04 192.76,528.96C191.88,538.16 183.65,549.72 176,553C168.31,556.3 156.41,548.17 146.67,548.55C136.85,548.94 126.93,556.42 117.33,555.4C107.36,554.34 96.65,546.35 88,541.55Z\" style=\"stroke-miterlimit: 1; vector-effect: none; fill: none; stroke: rgb(31, 119, 180); stroke-opacity: 1; stroke-width: 0.5px;\"/></g><g class=\"contourlevel\"><path class=\"closedline\" d=\"M117.33,546.59C107.93,545.42 92.29,537.16 90.67,528.96C88.62,518.62 108.68,497.5 119.16499999999999,486.88C127.68,478.25 139.27,466.78 146.67,467.73C152.74,468.51 156.62,478.65 161.33,484.88C166.43,491.63 171.86,499.39 176,506.92C179.95,514.1 186.39,522.59 185.78,528.96C185.26,534.32 181.03,541.04 176,542.98C169.33,545.56 156.37,535.75 146.67,536.3C136.81,536.86 126.61,547.74 117.33,546.59Z\" style=\"stroke-miterlimit: 1; vector-effect: none; fill: none; stroke: rgb(31, 119, 180); stroke-opacity: 1; stroke-width: 0.5px;\"/></g><g class=\"contourlevel\"><path class=\"closedline\" d=\"M117.33,537.77C112.24,537.3 104.82,533.02 104,528.96C102.99,523.97 111.97,509.51 117.33,508.92C123.21,508.27 139.19,524.06 138.29,528.96C137.49,533.3 123.4,538.34 117.33,537.77Z\" style=\"stroke-miterlimit: 1; vector-effect: none; fill: none; stroke: rgb(31, 119, 180); stroke-opacity: 1; stroke-width: 0.5px;\"/><path class=\"closedline\" d=\"M176,532.96C173.18,533.98 161.45,530.65 161.33,528.96C161.21,527.23 173.21,521.56 176,522.66C177.83,523.38 178.97,527.14 178.79,528.96C178.64,530.49 177.6,532.38 176,532.96Z\" style=\"stroke-miterlimit: 1; vector-effect: none; fill: none; stroke: rgb(31, 119, 180); stroke-opacity: 1; stroke-width: 0.5px;\"/><path class=\"closedline\" d=\"M146.67,506.92C144.74,507.05 137.81,489.32 139.33,484.88C140.27,482.14 144.66,479.7 146.67,479.98C148.39,480.22 150.21,482.44 150.86,484.88C152.07,489.43 148.57,506.79 146.67,506.92Z\" style=\"stroke-miterlimit: 1; vector-effect: none; fill: none; stroke: rgb(31, 119, 180); stroke-opacity: 1; stroke-width: 0.5px;\"/></g><g class=\"contourlevel\"/><g class=\"contourlevel\"/><g class=\"contourlevel\"/><g class=\"contourlevel\"/><g class=\"contourlevel\"/></g></g></g></g></g><path class=\"xlines-above crisp\" d=\"M79,647.5H343.99999999999994\" style=\"fill: none; stroke-width: 1px; stroke: rgb(36, 36, 36); stroke-opacity: 1;\"/><path class=\"ylines-above crisp\" d=\"M79.5,70V647\" style=\"fill: none; stroke-width: 1px; stroke: rgb(36, 36, 36); stroke-opacity: 1;\"/><g class=\"overlines-above\"/><g class=\"xaxislayer-above\"><path class=\"xtick ticks crisp\" d=\"M0,648v5\" transform=\"translate(80,0)\" style=\"stroke: rgb(68, 68, 68); stroke-opacity: 1; stroke-width: 1px;\"/><path class=\"xtick ticks crisp\" d=\"M0,648v5\" transform=\"translate(138.67000000000002,0)\" style=\"stroke: rgb(68, 68, 68); stroke-opacity: 1; stroke-width: 1px;\"/><path class=\"xtick ticks crisp\" d=\"M0,648v5\" transform=\"translate(197.32999999999998,0)\" style=\"stroke: rgb(68, 68, 68); stroke-opacity: 1; stroke-width: 1px;\"/><path class=\"xtick ticks crisp\" d=\"M0,648v5\" transform=\"translate(256,0)\" style=\"stroke: rgb(68, 68, 68); stroke-opacity: 1; stroke-width: 1px;\"/><path class=\"xtick ticks crisp\" d=\"M0,648v5\" transform=\"translate(314.66999999999996,0)\" style=\"stroke: rgb(68, 68, 68); stroke-opacity: 1; stroke-width: 1px;\"/><g class=\"xtick\"><text text-anchor=\"middle\" x=\"0\" y=\"667.4\" transform=\"translate(80,0)\" style=\"font-family: 'Open Sans', verdana, arial, sans-serif; font-size: 12px; fill: rgb(36, 36, 36); fill-opacity: 1; white-space: pre; opacity: 1;\">4.2</text></g><g class=\"xtick\"><text text-anchor=\"middle\" x=\"0\" y=\"667.4\" style=\"font-family: 'Open Sans', verdana, arial, sans-serif; font-size: 12px; fill: rgb(36, 36, 36); fill-opacity: 1; white-space: pre; opacity: 1;\" transform=\"translate(138.67000000000002,0)\">4.4</text></g><g class=\"xtick\"><text text-anchor=\"middle\" x=\"0\" y=\"667.4\" style=\"font-family: 'Open Sans', verdana, arial, sans-serif; font-size: 12px; fill: rgb(36, 36, 36); fill-opacity: 1; white-space: pre; opacity: 1;\" transform=\"translate(197.32999999999998,0)\">4.6</text></g><g class=\"xtick\"><text text-anchor=\"middle\" x=\"0\" y=\"667.4\" style=\"font-family: 'Open Sans', verdana, arial, sans-serif; font-size: 12px; fill: rgb(36, 36, 36); fill-opacity: 1; white-space: pre; opacity: 1;\" transform=\"translate(256,0)\">4.8</text></g><g class=\"xtick\"><text text-anchor=\"middle\" x=\"0\" y=\"667.4\" style=\"font-family: 'Open Sans', verdana, arial, sans-serif; font-size: 12px; fill: rgb(36, 36, 36); fill-opacity: 1; white-space: pre; opacity: 1;\" transform=\"translate(314.66999999999996,0)\">5</text></g></g><g class=\"yaxislayer-above\"><path class=\"ytick ticks crisp\" d=\"M79,0h-5\" transform=\"translate(0,621)\" style=\"stroke: rgb(68, 68, 68); stroke-opacity: 1; stroke-width: 1px;\"/><path class=\"ytick ticks crisp\" d=\"M79,0h-5\" transform=\"translate(0,510.8)\" style=\"stroke: rgb(68, 68, 68); stroke-opacity: 1; stroke-width: 1px;\"/><path class=\"ytick ticks crisp\" d=\"M79,0h-5\" transform=\"translate(0,400.6)\" style=\"stroke: rgb(68, 68, 68); stroke-opacity: 1; stroke-width: 1px;\"/><path class=\"ytick ticks crisp\" d=\"M79,0h-5\" transform=\"translate(0,290.4)\" style=\"stroke: rgb(68, 68, 68); stroke-opacity: 1; stroke-width: 1px;\"/><path class=\"ytick ticks crisp\" d=\"M79,0h-5\" transform=\"translate(0,180.2)\" style=\"stroke: rgb(68, 68, 68); stroke-opacity: 1; stroke-width: 1px;\"/><path class=\"ytick ticks crisp\" d=\"M79,0h-5\" transform=\"translate(0,70)\" style=\"stroke: rgb(68, 68, 68); stroke-opacity: 1; stroke-width: 1px;\"/><g class=\"ytick\"><text text-anchor=\"end\" x=\"71.6\" y=\"4.199999999999999\" transform=\"translate(0,621)\" style=\"font-family: 'Open Sans', verdana, arial, sans-serif; font-size: 12px; fill: rgb(36, 36, 36); fill-opacity: 1; white-space: pre; opacity: 1;\">0</text></g><g class=\"ytick\"><text text-anchor=\"end\" x=\"71.6\" y=\"4.199999999999999\" style=\"font-family: 'Open Sans', verdana, arial, sans-serif; font-size: 12px; fill: rgb(36, 36, 36); fill-opacity: 1; white-space: pre; opacity: 1;\" transform=\"translate(0,510.8)\">50k</text></g><g class=\"ytick\"><text text-anchor=\"end\" x=\"71.6\" y=\"4.199999999999999\" style=\"font-family: 'Open Sans', verdana, arial, sans-serif; font-size: 12px; fill: rgb(36, 36, 36); fill-opacity: 1; white-space: pre; opacity: 1;\" transform=\"translate(0,400.6)\">100k</text></g><g class=\"ytick\"><text text-anchor=\"end\" x=\"71.6\" y=\"4.199999999999999\" style=\"font-family: 'Open Sans', verdana, arial, sans-serif; font-size: 12px; fill: rgb(36, 36, 36); fill-opacity: 1; white-space: pre; opacity: 1;\" transform=\"translate(0,290.4)\">150k</text></g><g class=\"ytick\"><text text-anchor=\"end\" x=\"71.6\" y=\"4.199999999999999\" style=\"font-family: 'Open Sans', verdana, arial, sans-serif; font-size: 12px; fill: rgb(36, 36, 36); fill-opacity: 1; white-space: pre; opacity: 1;\" transform=\"translate(0,180.2)\">200k</text></g><g class=\"ytick\"><text text-anchor=\"end\" x=\"71.6\" y=\"4.199999999999999\" style=\"font-family: 'Open Sans', verdana, arial, sans-serif; font-size: 12px; fill: rgb(36, 36, 36); fill-opacity: 1; white-space: pre; opacity: 1;\" transform=\"translate(0,70)\">250k</text></g></g><g class=\"overaxes-above\"/></g><g class=\"subplot x2y2\"><g class=\"layer-subplot\"><g class=\"shapelayer\"/><g class=\"imagelayer\"/></g><g class=\"minor-gridlayer\"><g class=\"x2\"/><g class=\"y2\"/></g><g class=\"gridlayer\"><g class=\"x2\"/><g class=\"y2\"/></g><g class=\"zerolinelayer\"/><g class=\"layer-between\"><g class=\"shapelayer\"/><g class=\"imagelayer\"/></g><path class=\"xlines-below\"/><path class=\"ylines-below\"/><g class=\"overlines-below\"/><g class=\"xaxislayer-below\"/><g class=\"yaxislayer-below\"/><g class=\"overaxes-below\"/><g class=\"overplot\"><g class=\"x2y2\" transform=\"translate(360.5,70)\" clip-path=\"url(#clipdd0a93x2y2plot)\"><g class=\"contourlayer mlayer\"><g class=\"contour\" style=\"opacity: 1;\"><g class=\"heatmapcoloring\"/><g class=\"contourbg\"><path d=\"M0,0L264,0L264,573.04L0,573.04Z\" style=\"stroke: none; fill: rgb(247, 251, 255);\"/></g><g class=\"contourfill\"/><g class=\"contourlines\"><g class=\"contourlevel\"/><g class=\"contourlevel\"/><g class=\"contourlevel\"/><g class=\"contourlevel\"/><g class=\"contourlevel\"/><g class=\"contourlevel\"/><g class=\"contourlevel\"/><g class=\"contourlevel\"/><g class=\"contourlevel\"/></g></g></g><g class=\"scatterlayer mlayer\"><g class=\"trace scatter tracee6c9c1\" style=\"stroke-miterlimit: 2; opacity: 1;\"><g class=\"fills\"/><g class=\"errorbars\"/><g class=\"lines\"/><g class=\"points\"><path class=\"point\" transform=\"translate(117.33,66.12)\" d=\"M2.5,0A2.5,2.5 0 1,1 0,-2.5A2.5,2.5 0 0,1 2.5,0Z\" style=\"opacity: 0.4; stroke-width: 0px; fill: rgb(29, 105, 150); fill-opacity: 1;\"/><path class=\"point\" transform=\"translate(117.33,286.52)\" d=\"M2.5,0A2.5,2.5 0 1,1 0,-2.5A2.5,2.5 0 0,1 2.5,0Z\" style=\"opacity: 0.4; stroke-width: 0px; fill: rgb(29, 105, 150); fill-opacity: 1;\"/><path class=\"point\" transform=\"translate(146.67,346.02)\" d=\"M2.5,0A2.5,2.5 0 1,1 0,-2.5A2.5,2.5 0 0,1 2.5,0Z\" style=\"opacity: 0.4; stroke-width: 0px; fill: rgb(29, 105, 150); fill-opacity: 1;\"/><path class=\"point\" transform=\"translate(117.33,242.44)\" d=\"M2.5,0A2.5,2.5 0 1,1 0,-2.5A2.5,2.5 0 0,1 2.5,0Z\" style=\"opacity: 0.4; stroke-width: 0px; fill: rgb(29, 105, 150); fill-opacity: 1;\"/><path class=\"point\" transform=\"translate(205.33,220.4)\" d=\"M2.5,0A2.5,2.5 0 1,1 0,-2.5A2.5,2.5 0 0,1 2.5,0Z\" style=\"opacity: 0.4; stroke-width: 0px; fill: rgb(29, 105, 150); fill-opacity: 1;\"/><path class=\"point\" transform=\"translate(117.33,454.02)\" d=\"M2.5,0A2.5,2.5 0 1,1 0,-2.5A2.5,2.5 0 0,1 2.5,0Z\" style=\"opacity: 0.4; stroke-width: 0px; fill: rgb(29, 105, 150); fill-opacity: 1;\"/><path class=\"point\" transform=\"translate(205.33,531.6)\" d=\"M2.5,0A2.5,2.5 0 1,1 0,-2.5A2.5,2.5 0 0,1 2.5,0Z\" style=\"opacity: 0.4; stroke-width: 0px; fill: rgb(29, 105, 150); fill-opacity: 1;\"/><path class=\"point\" transform=\"translate(117.33,545.27)\" d=\"M2.5,0A2.5,2.5 0 1,1 0,-2.5A2.5,2.5 0 0,1 2.5,0Z\" style=\"opacity: 0.4; stroke-width: 0px; fill: rgb(29, 105, 150); fill-opacity: 1;\"/></g><g class=\"text\"/></g></g></g></g><path class=\"xlines-above crisp\" d=\"M359.5,647.5H624.5\" style=\"fill: none; stroke-width: 1px; stroke: rgb(36, 36, 36); stroke-opacity: 1;\"/><path class=\"ylines-above crisp\" d=\"M360,70V647\" style=\"fill: none; stroke-width: 1px; stroke: rgb(36, 36, 36); stroke-opacity: 1;\"/><g class=\"overlines-above\"/><g class=\"xaxislayer-above\"><path class=\"x2tick ticks crisp\" d=\"M0,648v5\" transform=\"translate(360.5,0)\" style=\"stroke: rgb(68, 68, 68); stroke-opacity: 1; stroke-width: 1px;\"/><path class=\"x2tick ticks crisp\" d=\"M0,648v5\" transform=\"translate(419.17,0)\" style=\"stroke: rgb(68, 68, 68); stroke-opacity: 1; stroke-width: 1px;\"/><path class=\"x2tick ticks crisp\" d=\"M0,648v5\" transform=\"translate(477.83,0)\" style=\"stroke: rgb(68, 68, 68); stroke-opacity: 1; stroke-width: 1px;\"/><path class=\"x2tick ticks crisp\" d=\"M0,648v5\" transform=\"translate(536.5,0)\" style=\"stroke: rgb(68, 68, 68); stroke-opacity: 1; stroke-width: 1px;\"/><path class=\"x2tick ticks crisp\" d=\"M0,648v5\" transform=\"translate(595.17,0)\" style=\"stroke: rgb(68, 68, 68); stroke-opacity: 1; stroke-width: 1px;\"/><g class=\"x2tick\"><text text-anchor=\"middle\" x=\"0\" y=\"667.4\" transform=\"translate(360.5,0)\" style=\"font-family: 'Open Sans', verdana, arial, sans-serif; font-size: 12px; fill: rgb(36, 36, 36); fill-opacity: 1; white-space: pre; opacity: 1;\">4.2</text></g><g class=\"x2tick\"><text text-anchor=\"middle\" x=\"0\" y=\"667.4\" style=\"font-family: 'Open Sans', verdana, arial, sans-serif; font-size: 12px; fill: rgb(36, 36, 36); fill-opacity: 1; white-space: pre; opacity: 1;\" transform=\"translate(419.17,0)\">4.4</text></g><g class=\"x2tick\"><text text-anchor=\"middle\" x=\"0\" y=\"667.4\" style=\"font-family: 'Open Sans', verdana, arial, sans-serif; font-size: 12px; fill: rgb(36, 36, 36); fill-opacity: 1; white-space: pre; opacity: 1;\" transform=\"translate(477.83,0)\">4.6</text></g><g class=\"x2tick\"><text text-anchor=\"middle\" x=\"0\" y=\"667.4\" style=\"font-family: 'Open Sans', verdana, arial, sans-serif; font-size: 12px; fill: rgb(36, 36, 36); fill-opacity: 1; white-space: pre; opacity: 1;\" transform=\"translate(536.5,0)\">4.8</text></g><g class=\"x2tick\"><text text-anchor=\"middle\" x=\"0\" y=\"667.4\" style=\"font-family: 'Open Sans', verdana, arial, sans-serif; font-size: 12px; fill: rgb(36, 36, 36); fill-opacity: 1; white-space: pre; opacity: 1;\" transform=\"translate(595.17,0)\">5</text></g></g><g class=\"yaxislayer-above\"><path class=\"y2tick ticks crisp\" d=\"M359.5,0h-5\" transform=\"translate(0,621)\" style=\"stroke: rgb(68, 68, 68); stroke-opacity: 1; stroke-width: 1px;\"/><path class=\"y2tick ticks crisp\" d=\"M359.5,0h-5\" transform=\"translate(0,510.8)\" style=\"stroke: rgb(68, 68, 68); stroke-opacity: 1; stroke-width: 1px;\"/><path class=\"y2tick ticks crisp\" d=\"M359.5,0h-5\" transform=\"translate(0,400.6)\" style=\"stroke: rgb(68, 68, 68); stroke-opacity: 1; stroke-width: 1px;\"/><path class=\"y2tick ticks crisp\" d=\"M359.5,0h-5\" transform=\"translate(0,290.4)\" style=\"stroke: rgb(68, 68, 68); stroke-opacity: 1; stroke-width: 1px;\"/><path class=\"y2tick ticks crisp\" d=\"M359.5,0h-5\" transform=\"translate(0,180.2)\" style=\"stroke: rgb(68, 68, 68); stroke-opacity: 1; stroke-width: 1px;\"/><path class=\"y2tick ticks crisp\" d=\"M359.5,0h-5\" transform=\"translate(0,70)\" style=\"stroke: rgb(68, 68, 68); stroke-opacity: 1; stroke-width: 1px;\"/></g><g class=\"overaxes-above\"/></g><g class=\"subplot x3y3\"><g class=\"layer-subplot\"><g class=\"shapelayer\"/><g class=\"imagelayer\"/></g><g class=\"minor-gridlayer\"><g class=\"x3\"/><g class=\"y3\"/></g><g class=\"gridlayer\"><g class=\"x3\"/><g class=\"y3\"/></g><g class=\"zerolinelayer\"/><g class=\"layer-between\"><g class=\"shapelayer\"/><g class=\"imagelayer\"/></g><path class=\"xlines-below\"/><path class=\"ylines-below\"/><g class=\"overlines-below\"/><g class=\"xaxislayer-below\"/><g class=\"yaxislayer-below\"/><g class=\"overaxes-below\"/><g class=\"overplot\"><g class=\"x3y3\" transform=\"translate(641,70)\" clip-path=\"url(#clipdd0a93x3y3plot)\"><g class=\"contourlayer mlayer\"><g class=\"contour\" style=\"opacity: 1;\"><g class=\"heatmapcoloring\"/><g class=\"contourbg\"><path d=\"M0,0L264,0L264,573.04L0,573.04Z\" style=\"stroke: none; fill: rgb(247, 251, 255);\"/></g><g class=\"contourfill\"><path d=\"M58.67,536.3C55.12,533.74 51.45,531.58 51.33,528.96C51.2,526.21 56.24,524.34 58.67,520.14C63.07,512.53 66.91,496.68 71.7,484.88C76.65,472.68 84.64,455.71 88,448.14C89.5,444.76 90.33,444.39 91.26,440.8C93.45,432.38 91.25,411.04 95.33,396.72C99.63,381.61 110,367.33 117.33,352.64C124.66,337.95 140.16,321.98 139.33,308.56C138.58,296.51 122.7,283.57 117.33,275.5C114.23,270.84 110,268.15 110,264.48C110,260.81 114.23,258.12 117.33,253.46C122.7,245.39 133.81,227.81 139.33,220.4C142.3,216.42 144.22,211.58 146.67,211.58C149.11,211.58 151.4,216.05 154,220.4C159.29,229.25 167.96,254.67 171.81,264.48C173.73,269.36 174.33,270.82 176,275.5C178.87,283.55 182.62,296.83 187,308.56C192.13,322.29 202.88,337.65 205.33,352.64C207.69,367.06 201.83,384.57 202.25,396.72C202.55,405.35 203.47,411.52 205.33,418.76C207.24,426.22 211.45,432.04 213.71,440.8C216.81,452.83 217.66,470.21 220,484.88C222.34,499.59 230.66,515.98 227.76,528.96C225.06,541.06 214.73,554.36 205.33,560.79C197.05,566.45 185.85,566.9 176,568.03C166.29,569.15 156.43,568.35 146.67,567.66C136.87,566.96 126.92,566.52 117.33,563.85C107.35,561.08 97.72,555.56 88,551C78.16,546.38 64.97,540.85 58.67,536.3Z\" style=\"stroke: none; fill: rgb(225, 237, 248);\"/><path d=\"M117.33,554.67C106.85,549.12 93.04,540.08 88,528.96C82.64,517.14 84.95,499.26 88,484.88C91.19,469.84 102.32,453.7 107.56,440.8C111.57,430.94 114.4,422.28 117.33,414.35C119.72,407.88 120.29,402.96 123.85,396.72C128.79,388.07 138.96,376.41 146.67,368.67C153.12,362.2 161.31,359.09 166.22,352.64C171.01,346.34 172.96,330.52 176,330.6C179.01,330.68 181.73,343.93 184.38,352.64C188.05,364.71 191.58,381.98 194.53,396.72C197.47,411.37 200.27,426.06 202.07,440.8C203.86,455.45 202.55,470.35 205.33,484.88C208.17,499.74 220.93,517.54 219.14,528.96C217.85,537.19 211.67,543.13 205.33,548.55C197.92,554.88 186.06,560.81 176,563.02C166.47,565.12 156.37,563.65 146.67,562.29C136.81,560.91 126.57,559.56 117.33,554.67ZM146.67,273.29C144.97,273.41 140.8,267.42 140.8,264.48C140.8,261.54 144.97,255.54 146.67,255.66C148.3,255.78 150.86,261.54 150.86,264.48C150.86,267.42 148.3,273.17 146.67,273.29Z\" style=\"stroke: none; fill: rgb(203, 223, 241);\"/><path d=\"M117.33,545.49C109.89,540.98 100.22,536.62 98.48,528.96C96.07,518.37 112.95,499.84 117.33,484.88C121.55,470.44 120.94,455.33 124.67,440.8C128.49,425.94 135.36,405.29 140.15,396.72C142.4,392.69 143.47,391.84 146.67,388.7C152.74,382.75 169.29,363.88 176,365.86C182.3,367.71 183.58,385.41 186.81,396.72C190.6,410.01 194.23,426.04 196.64,440.8C199.03,455.42 199.62,471.92 201.26,484.88C202.56,495.15 203.51,504.47 205.33,512.43C206.77,518.7 211.18,524.68 210.51,528.96C210.03,532.04 208.09,533.47 205.33,536.3C199.76,542 186.37,554.8 176,558.01C166.7,560.89 156.28,558.9 146.67,556.91C136.71,554.85 125.66,550.55 117.33,545.49Z\" style=\"stroke: none; fill: rgb(171, 208, 230);\"/><path d=\"M117.33,536.3C113.48,533.67 109.72,532.36 108.95,528.96C107.88,524.26 114.9,516.35 117.33,509.37C119.98,501.75 120.77,494.1 124,484.88C128.44,472.19 139.24,450.65 143,440.8C144.85,435.95 144.72,434.33 146.67,429.78C150.18,421.6 158.17,403.85 164.27,396.72C168.09,392.26 173.55,387.16 176,387.9C177.96,388.49 177.81,392.63 179.09,396.72C181.92,405.77 188.19,426 191.21,440.8C194.19,455.39 195.21,470.19 197.19,484.88C199.17,499.57 207.41,517.32 203.08,528.96C199.18,539.46 185.99,549.49 176,553C167,556.16 156.18,554.1 146.67,551.53C136.58,548.8 123.97,540.83 117.33,536.3Z\" style=\"stroke: none; fill: rgb(130, 186, 219);\"/><path d=\"M146.67,546.16C136.91,543.04 122.55,537.75 119.06,528.96C114.93,518.55 125.71,498.3 130.67,484.88C135.12,472.83 141.65,459.68 146.67,451.82C149.8,446.92 152.27,445.61 155.69,440.8C161.33,432.87 170.93,407.07 176,407.74C180.77,408.37 183.04,428.9 185.78,440.8C188.9,454.35 191.16,470.15 193.11,484.88C195.05,499.54 201.72,518.04 197.44,528.96C194,537.75 184.39,545.1 176,547.99C167.5,550.92 155.95,549.13 146.67,546.16Z\" style=\"stroke: none; fill: rgb(89, 162, 207);\"/><path d=\"M146.67,540.78C139.32,538.38 130.47,535.55 127.69,528.96C123.74,519.61 133.34,496.4 137.33,484.88C140.08,476.94 142.47,472.17 146.67,465.59C151.81,457.55 161.74,448.15 166.97,440.8C170.81,435.41 173.75,425.8 176,426.1C178.12,426.38 178.81,434.54 180.35,440.8C182.99,451.51 187.13,470.12 189.04,484.88C190.93,499.51 195.92,518.96 191.79,528.96C188.94,535.88 182.65,540.74 176,542.98C168.15,545.63 155.1,543.54 146.67,540.78Z\" style=\"stroke: none; fill: rgb(55, 135, 192);\"/><path d=\"M146.67,535.41C142.1,533.89 138.09,533.04 136.31,528.96C132.79,520.89 138.78,496.16 145.33499999999998,482.125C151.95,467.97 169.41,442.91 176,444.47C182.08,445.91 183.25,471.03 184.96,484.88C186.72,499.17 189.93,520.24 186.15,528.96C184.05,533.8 180.7,536.42 176,537.97C169.08,540.26 153.76,537.78 146.67,535.41Z\" style=\"stroke: none; fill: rgb(27, 106, 175);\"/><path d=\"M145.805,529.495C143.61,526.84 145.79,522.72 146.67,517.94C148.18,509.69 151.21,494.3 156.44,484.88C161.27,476.17 171.96,461.79 176,462.84C179.53,463.76 179.98,476.21 180.89,484.88C182.16,496.99 183.51,522.36 180.51,528.96C179.4,531.4 178.42,532.2 176,532.96C170.56,534.68 149.36,533.79 145.805,529.495Z\" style=\"stroke: none; fill: rgb(8, 77, 151);\"/><path d=\"M176,506.92C175.32,506.96 171.51,489 172.74,484.88C173.32,482.94 175.33,481.03 176,481.2C176.59,481.35 176.65,483.12 176.81,484.88C177.19,489.13 176.67,506.88 176,506.92Z\" style=\"stroke: none; fill: rgb(8, 48, 107);\"/></g><g class=\"contourlines\"><g class=\"contourlevel\"><path class=\"closedline\" d=\"M58.67,536.3C55.12,533.74 51.45,531.58 51.33,528.96C51.2,526.21 56.24,524.34 58.67,520.14C63.07,512.53 66.91,496.68 71.7,484.88C76.65,472.68 84.64,455.71 88,448.14C89.5,444.76 90.33,444.39 91.26,440.8C93.45,432.38 91.25,411.04 95.33,396.72C99.63,381.61 110,367.33 117.33,352.64C124.66,337.95 140.16,321.98 139.33,308.56C138.58,296.51 122.7,283.57 117.33,275.5C114.23,270.84 110,268.15 110,264.48C110,260.81 114.23,258.12 117.33,253.46C122.7,245.39 133.81,227.81 139.33,220.4C142.3,216.42 144.22,211.58 146.67,211.58C149.11,211.58 151.4,216.05 154,220.4C159.29,229.25 167.96,254.67 171.81,264.48C173.73,269.36 174.33,270.82 176,275.5C178.87,283.55 182.62,296.83 187,308.56C192.13,322.29 202.88,337.65 205.33,352.64C207.69,367.06 201.83,384.57 202.25,396.72C202.55,405.35 203.47,411.52 205.33,418.76C207.24,426.22 211.45,432.04 213.71,440.8C216.81,452.83 217.66,470.21 220,484.88C222.34,499.59 230.66,515.98 227.76,528.96C225.06,541.06 214.73,554.36 205.33,560.79C197.05,566.45 185.85,566.9 176,568.03C166.29,569.15 156.43,568.35 146.67,567.66C136.87,566.96 126.92,566.52 117.33,563.85C107.35,561.08 97.72,555.56 88,551C78.16,546.38 64.97,540.85 58.67,536.3Z\" style=\"stroke-miterlimit: 1; vector-effect: none; fill: none; stroke: rgb(31, 119, 180); stroke-opacity: 1; stroke-width: 0.5px;\"/></g><g class=\"contourlevel\"><path class=\"closedline\" d=\"M117.33,554.67C106.85,549.12 93.04,540.08 88,528.96C82.64,517.14 84.95,499.26 88,484.88C91.19,469.84 102.32,453.7 107.56,440.8C111.57,430.94 114.4,422.28 117.33,414.35C119.72,407.88 120.29,402.96 123.85,396.72C128.79,388.07 138.96,376.41 146.67,368.67C153.12,362.2 161.31,359.09 166.22,352.64C171.01,346.34 172.96,330.52 176,330.6C179.01,330.68 181.73,343.93 184.38,352.64C188.05,364.71 191.58,381.98 194.53,396.72C197.47,411.37 200.27,426.06 202.07,440.8C203.86,455.45 202.55,470.35 205.33,484.88C208.17,499.74 220.93,517.54 219.14,528.96C217.85,537.19 211.67,543.13 205.33,548.55C197.92,554.88 186.06,560.81 176,563.02C166.47,565.12 156.37,563.65 146.67,562.29C136.81,560.91 126.57,559.56 117.33,554.67Z\" style=\"stroke-miterlimit: 1; vector-effect: none; fill: none; stroke: rgb(31, 119, 180); stroke-opacity: 1; stroke-width: 0.5px;\"/><path class=\"closedline\" d=\"M146.67,273.29C144.97,273.41 140.8,267.42 140.8,264.48C140.8,261.54 144.97,255.54 146.67,255.66C148.3,255.78 150.86,261.54 150.86,264.48C150.86,267.42 148.3,273.17 146.67,273.29Z\" style=\"stroke-miterlimit: 1; vector-effect: none; fill: none; stroke: rgb(31, 119, 180); stroke-opacity: 1; stroke-width: 0.5px;\"/></g><g class=\"contourlevel\"><path class=\"closedline\" d=\"M117.33,545.49C109.89,540.98 100.22,536.62 98.48,528.96C96.07,518.37 112.95,499.84 117.33,484.88C121.55,470.44 120.94,455.33 124.67,440.8C128.49,425.94 135.36,405.29 140.15,396.72C142.4,392.69 143.47,391.84 146.67,388.7C152.74,382.75 169.29,363.88 176,365.86C182.3,367.71 183.58,385.41 186.81,396.72C190.6,410.01 194.23,426.04 196.64,440.8C199.03,455.42 199.62,471.92 201.26,484.88C202.56,495.15 203.51,504.47 205.33,512.43C206.77,518.7 211.18,524.68 210.51,528.96C210.03,532.04 208.09,533.47 205.33,536.3C199.76,542 186.37,554.8 176,558.01C166.7,560.89 156.28,558.9 146.67,556.91C136.71,554.85 125.66,550.55 117.33,545.49Z\" style=\"stroke-miterlimit: 1; vector-effect: none; fill: none; stroke: rgb(31, 119, 180); stroke-opacity: 1; stroke-width: 0.5px;\"/></g><g class=\"contourlevel\"><path class=\"closedline\" d=\"M117.33,536.3C113.48,533.67 109.72,532.36 108.95,528.96C107.88,524.26 114.9,516.35 117.33,509.37C119.98,501.75 120.77,494.1 124,484.88C128.44,472.19 139.24,450.65 143,440.8C144.85,435.95 144.72,434.33 146.67,429.78C150.18,421.6 158.17,403.85 164.27,396.72C168.09,392.26 173.55,387.16 176,387.9C177.96,388.49 177.81,392.63 179.09,396.72C181.92,405.77 188.19,426 191.21,440.8C194.19,455.39 195.21,470.19 197.19,484.88C199.17,499.57 207.41,517.32 203.08,528.96C199.18,539.46 185.99,549.49 176,553C167,556.16 156.18,554.1 146.67,551.53C136.58,548.8 123.97,540.83 117.33,536.3Z\" style=\"stroke-miterlimit: 1; vector-effect: none; fill: none; stroke: rgb(31, 119, 180); stroke-opacity: 1; stroke-width: 0.5px;\"/></g><g class=\"contourlevel\"><path class=\"closedline\" d=\"M146.67,546.16C136.91,543.04 122.55,537.75 119.06,528.96C114.93,518.55 125.71,498.3 130.67,484.88C135.12,472.83 141.65,459.68 146.67,451.82C149.8,446.92 152.27,445.61 155.69,440.8C161.33,432.87 170.93,407.07 176,407.74C180.77,408.37 183.04,428.9 185.78,440.8C188.9,454.35 191.16,470.15 193.11,484.88C195.05,499.54 201.72,518.04 197.44,528.96C194,537.75 184.39,545.1 176,547.99C167.5,550.92 155.95,549.13 146.67,546.16Z\" style=\"stroke-miterlimit: 1; vector-effect: none; fill: none; stroke: rgb(31, 119, 180); stroke-opacity: 1; stroke-width: 0.5px;\"/></g><g class=\"contourlevel\"><path class=\"closedline\" d=\"M146.67,540.78C139.32,538.38 130.47,535.55 127.69,528.96C123.74,519.61 133.34,496.4 137.33,484.88C140.08,476.94 142.47,472.17 146.67,465.59C151.81,457.55 161.74,448.15 166.97,440.8C170.81,435.41 173.75,425.8 176,426.1C178.12,426.38 178.81,434.54 180.35,440.8C182.99,451.51 187.13,470.12 189.04,484.88C190.93,499.51 195.92,518.96 191.79,528.96C188.94,535.88 182.65,540.74 176,542.98C168.15,545.63 155.1,543.54 146.67,540.78Z\" style=\"stroke-miterlimit: 1; vector-effect: none; fill: none; stroke: rgb(31, 119, 180); stroke-opacity: 1; stroke-width: 0.5px;\"/></g><g class=\"contourlevel\"><path class=\"closedline\" d=\"M146.67,535.41C142.1,533.89 138.09,533.04 136.31,528.96C132.79,520.89 138.78,496.16 145.33499999999998,482.125C151.95,467.97 169.41,442.91 176,444.47C182.08,445.91 183.25,471.03 184.96,484.88C186.72,499.17 189.93,520.24 186.15,528.96C184.05,533.8 180.7,536.42 176,537.97C169.08,540.26 153.76,537.78 146.67,535.41Z\" style=\"stroke-miterlimit: 1; vector-effect: none; fill: none; stroke: rgb(31, 119, 180); stroke-opacity: 1; stroke-width: 0.5px;\"/></g><g class=\"contourlevel\"><path class=\"closedline\" d=\"M145.805,529.495C143.61,526.84 145.79,522.72 146.67,517.94C148.18,509.69 151.21,494.3 156.44,484.88C161.27,476.17 171.96,461.79 176,462.84C179.53,463.76 179.98,476.21 180.89,484.88C182.16,496.99 183.51,522.36 180.51,528.96C179.4,531.4 178.42,532.2 176,532.96C170.56,534.68 149.36,533.79 145.805,529.495Z\" style=\"stroke-miterlimit: 1; vector-effect: none; fill: none; stroke: rgb(31, 119, 180); stroke-opacity: 1; stroke-width: 0.5px;\"/></g><g class=\"contourlevel\"><path class=\"closedline\" d=\"M176,506.92C175.32,506.96 171.51,489 172.74,484.88C173.32,482.94 175.33,481.03 176,481.2C176.59,481.35 176.65,483.12 176.81,484.88C177.19,489.13 176.67,506.88 176,506.92Z\" style=\"stroke-miterlimit: 1; vector-effect: none; fill: none; stroke: rgb(31, 119, 180); stroke-opacity: 1; stroke-width: 0.5px;\"/></g></g></g></g></g></g><path class=\"xlines-above crisp\" d=\"M640,647.5H905\" style=\"fill: none; stroke-width: 1px; stroke: rgb(36, 36, 36); stroke-opacity: 1;\"/><path class=\"ylines-above crisp\" d=\"M640.5,70V647\" style=\"fill: none; stroke-width: 1px; stroke: rgb(36, 36, 36); stroke-opacity: 1;\"/><g class=\"overlines-above\"/><g class=\"xaxislayer-above\"><path class=\"x3tick ticks crisp\" d=\"M0,648v5\" transform=\"translate(641,0)\" style=\"stroke: rgb(68, 68, 68); stroke-opacity: 1; stroke-width: 1px;\"/><path class=\"x3tick ticks crisp\" d=\"M0,648v5\" transform=\"translate(699.67,0)\" style=\"stroke: rgb(68, 68, 68); stroke-opacity: 1; stroke-width: 1px;\"/><path class=\"x3tick ticks crisp\" d=\"M0,648v5\" transform=\"translate(758.33,0)\" style=\"stroke: rgb(68, 68, 68); stroke-opacity: 1; stroke-width: 1px;\"/><path class=\"x3tick ticks crisp\" d=\"M0,648v5\" transform=\"translate(817,0)\" style=\"stroke: rgb(68, 68, 68); stroke-opacity: 1; stroke-width: 1px;\"/><path class=\"x3tick ticks crisp\" d=\"M0,648v5\" transform=\"translate(875.67,0)\" style=\"stroke: rgb(68, 68, 68); stroke-opacity: 1; stroke-width: 1px;\"/><g class=\"x3tick\"><text text-anchor=\"middle\" x=\"0\" y=\"667.4\" transform=\"translate(641,0)\" style=\"font-family: 'Open Sans', verdana, arial, sans-serif; font-size: 12px; fill: rgb(36, 36, 36); fill-opacity: 1; white-space: pre; opacity: 1;\">4.2</text></g><g class=\"x3tick\"><text text-anchor=\"middle\" x=\"0\" y=\"667.4\" style=\"font-family: 'Open Sans', verdana, arial, sans-serif; font-size: 12px; fill: rgb(36, 36, 36); fill-opacity: 1; white-space: pre; opacity: 1;\" transform=\"translate(699.67,0)\">4.4</text></g><g class=\"x3tick\"><text text-anchor=\"middle\" x=\"0\" y=\"667.4\" style=\"font-family: 'Open Sans', verdana, arial, sans-serif; font-size: 12px; fill: rgb(36, 36, 36); fill-opacity: 1; white-space: pre; opacity: 1;\" transform=\"translate(758.33,0)\">4.6</text></g><g class=\"x3tick\"><text text-anchor=\"middle\" x=\"0\" y=\"667.4\" style=\"font-family: 'Open Sans', verdana, arial, sans-serif; font-size: 12px; fill: rgb(36, 36, 36); fill-opacity: 1; white-space: pre; opacity: 1;\" transform=\"translate(817,0)\">4.8</text></g><g class=\"x3tick\"><text text-anchor=\"middle\" x=\"0\" y=\"667.4\" style=\"font-family: 'Open Sans', verdana, arial, sans-serif; font-size: 12px; fill: rgb(36, 36, 36); fill-opacity: 1; white-space: pre; opacity: 1;\" transform=\"translate(875.67,0)\">5</text></g></g><g class=\"yaxislayer-above\"><path class=\"y3tick ticks crisp\" d=\"M640,0h-5\" transform=\"translate(0,621)\" style=\"stroke: rgb(68, 68, 68); stroke-opacity: 1; stroke-width: 1px;\"/><path class=\"y3tick ticks crisp\" d=\"M640,0h-5\" transform=\"translate(0,510.8)\" style=\"stroke: rgb(68, 68, 68); stroke-opacity: 1; stroke-width: 1px;\"/><path class=\"y3tick ticks crisp\" d=\"M640,0h-5\" transform=\"translate(0,400.6)\" style=\"stroke: rgb(68, 68, 68); stroke-opacity: 1; stroke-width: 1px;\"/><path class=\"y3tick ticks crisp\" d=\"M640,0h-5\" transform=\"translate(0,290.4)\" style=\"stroke: rgb(68, 68, 68); stroke-opacity: 1; stroke-width: 1px;\"/><path class=\"y3tick ticks crisp\" d=\"M640,0h-5\" transform=\"translate(0,180.2)\" style=\"stroke: rgb(68, 68, 68); stroke-opacity: 1; stroke-width: 1px;\"/><path class=\"y3tick ticks crisp\" d=\"M640,0h-5\" transform=\"translate(0,70)\" style=\"stroke: rgb(68, 68, 68); stroke-opacity: 1; stroke-width: 1px;\"/></g><g class=\"overaxes-above\"/></g></g><g class=\"polarlayer\"/><g class=\"smithlayer\"/><g class=\"ternarylayer\"/><g class=\"geolayer\"/><g class=\"funnelarealayer\"/><g class=\"pielayer\"/><g class=\"iciclelayer\"/><g class=\"treemaplayer\"/><g class=\"sunburstlayer\"/><g class=\"glimages\"/><defs id=\"topdefs-dd0a93\"><g class=\"clips\"/></defs><g class=\"layer-above\"><g class=\"imagelayer\"/><g class=\"shapelayer\"/></g><g class=\"infolayer\"><g class=\"cb350458 colorbar\" transform=\"translate(80,70)\"><rect class=\"cbbg\" x=\"841.5\" y=\"0\" width=\"73.671875\" height=\"578\" style=\"fill: rgb(0, 0, 0); fill-opacity: 0; stroke: rgb(68, 68, 68); stroke-opacity: 1; stroke-width: 0;\"/><g class=\"cbfills\" transform=\"translate(0,10)\"><rect class=\"cbfill\" style=\"\" x=\"852\" y=\"1\" width=\"30\" height=\"556\" fill=\"#f7fbff\"/><rect class=\"cbfill\" style=\"\" x=\"852\" y=\"1\" width=\"30\" height=\"500\" fill=\"#e1edf8\"/><rect class=\"cbfill\" style=\"\" x=\"852\" y=\"1\" width=\"30\" height=\"445\" fill=\"#cbdff1\"/><rect class=\"cbfill\" style=\"\" x=\"852\" y=\"1\" width=\"30\" height=\"389\" fill=\"#abd0e6\"/><rect class=\"cbfill\" style=\"\" x=\"852\" y=\"1\" width=\"30\" height=\"333\" fill=\"#82badb\"/><rect class=\"cbfill\" style=\"\" x=\"852\" y=\"1\" width=\"30\" height=\"278\" fill=\"#59a2cf\"/><rect class=\"cbfill\" style=\"\" x=\"852\" y=\"1\" width=\"30\" height=\"222\" fill=\"#3787c0\"/><rect class=\"cbfill\" style=\"\" x=\"852\" y=\"1\" width=\"30\" height=\"166\" fill=\"#1b6aaf\"/><rect class=\"cbfill\" style=\"\" x=\"852\" y=\"1\" width=\"30\" height=\"110\" fill=\"#084d97\"/><rect class=\"cbfill\" style=\"\" x=\"852\" y=\"0\" width=\"30\" height=\"56\" fill=\"#08306b\"/></g><g class=\"cblines\" transform=\"translate(0,10)\"><path class=\"cbline\" d=\"M852,501.25h30\" style=\"fill: none; stroke: rgb(31, 119, 180); stroke-opacity: 1; stroke-width: 0.5px;\"/><path class=\"cbline\" d=\"M852,446.25h30\" style=\"fill: none; stroke: rgb(31, 119, 180); stroke-opacity: 1; stroke-width: 0.5px;\"/><path class=\"cbline\" d=\"M852,390.25h30\" style=\"fill: none; stroke: rgb(31, 119, 180); stroke-opacity: 1; stroke-width: 0.5px;\"/><path class=\"cbline\" d=\"M852,334.25h30\" style=\"fill: none; stroke: rgb(31, 119, 180); stroke-opacity: 1; stroke-width: 0.5px;\"/><path class=\"cbline\" d=\"M852,279.25h30\" style=\"fill: none; stroke: rgb(31, 119, 180); stroke-opacity: 1; stroke-width: 0.5px;\"/><path class=\"cbline\" d=\"M852,223.25h30\" style=\"fill: none; stroke: rgb(31, 119, 180); stroke-opacity: 1; stroke-width: 0.5px;\"/><path class=\"cbline\" d=\"M852,167.25h30\" style=\"fill: none; stroke: rgb(31, 119, 180); stroke-opacity: 1; stroke-width: 0.5px;\"/><path class=\"cbline\" d=\"M852,111.25h30\" style=\"fill: none; stroke: rgb(31, 119, 180); stroke-opacity: 1; stroke-width: 0.5px;\"/><path class=\"cbline\" d=\"M852,56.25h30\" style=\"fill: none; stroke: rgb(31, 119, 180); stroke-opacity: 1; stroke-width: 0.5px;\"/></g><g class=\"cbaxis crisp\" transform=\"translate(0,-70)\"><path class=\"ycb350458tick ticks crisp\" d=\"M882,0h5\" transform=\"translate(0,637)\" style=\"stroke: rgb(36, 36, 36); stroke-opacity: 1; stroke-width: 1px;\"/><path class=\"ycb350458tick ticks crisp\" d=\"M882,0h5\" transform=\"translate(0,581.3)\" style=\"stroke: rgb(36, 36, 36); stroke-opacity: 1; stroke-width: 1px;\"/><path class=\"ycb350458tick ticks crisp\" d=\"M882,0h5\" transform=\"translate(0,525.6)\" style=\"stroke: rgb(36, 36, 36); stroke-opacity: 1; stroke-width: 1px;\"/><path class=\"ycb350458tick ticks crisp\" d=\"M882,0h5\" transform=\"translate(0,469.9)\" style=\"stroke: rgb(36, 36, 36); stroke-opacity: 1; stroke-width: 1px;\"/><path class=\"ycb350458tick ticks crisp\" d=\"M882,0h5\" transform=\"translate(0,414.2)\" style=\"stroke: rgb(36, 36, 36); stroke-opacity: 1; stroke-width: 1px;\"/><path class=\"ycb350458tick ticks crisp\" d=\"M882,0h5\" transform=\"translate(0,358.5)\" style=\"stroke: rgb(36, 36, 36); stroke-opacity: 1; stroke-width: 1px;\"/><path class=\"ycb350458tick ticks crisp\" d=\"M882,0h5\" transform=\"translate(0,302.8)\" style=\"stroke: rgb(36, 36, 36); stroke-opacity: 1; stroke-width: 1px;\"/><path class=\"ycb350458tick ticks crisp\" d=\"M882,0h5\" transform=\"translate(0,247.09999999999997)\" style=\"stroke: rgb(36, 36, 36); stroke-opacity: 1; stroke-width: 1px;\"/><path class=\"ycb350458tick ticks crisp\" d=\"M882,0h5\" transform=\"translate(0,191.39999999999998)\" style=\"stroke: rgb(36, 36, 36); stroke-opacity: 1; stroke-width: 1px;\"/><path class=\"ycb350458tick ticks crisp\" d=\"M882,0h5\" transform=\"translate(0,135.7)\" style=\"stroke: rgb(36, 36, 36); stroke-opacity: 1; stroke-width: 1px;\"/><path class=\"ycb350458tick ticks crisp\" d=\"M882,0h5\" transform=\"translate(0,79.99999999999999)\" style=\"stroke: rgb(36, 36, 36); stroke-opacity: 1; stroke-width: 1px;\"/><g class=\"ycb350458tick\"><text text-anchor=\"start\" x=\"889.4\" y=\"4.199999999999999\" transform=\"translate(0,637)\" style=\"font-family: 'Open Sans', verdana, arial, sans-serif; font-size: 12px; fill: rgb(36, 36, 36); fill-opacity: 1; white-space: pre; opacity: 1;\">0</text></g><g class=\"ycb350458tick\"><text text-anchor=\"start\" x=\"889.4\" y=\"4.199999999999999\" style=\"font-family: 'Open Sans', verdana, arial, sans-serif; font-size: 12px; fill: rgb(36, 36, 36); fill-opacity: 1; white-space: pre; opacity: 1;\" transform=\"translate(0,581.3)\">5</text></g><g class=\"ycb350458tick\"><text text-anchor=\"start\" x=\"889.4\" y=\"4.199999999999999\" style=\"font-family: 'Open Sans', verdana, arial, sans-serif; font-size: 12px; fill: rgb(36, 36, 36); fill-opacity: 1; white-space: pre; opacity: 1;\" transform=\"translate(0,525.6)\">10</text></g><g class=\"ycb350458tick\"><text text-anchor=\"start\" x=\"889.4\" y=\"4.199999999999999\" style=\"font-family: 'Open Sans', verdana, arial, sans-serif; font-size: 12px; fill: rgb(36, 36, 36); fill-opacity: 1; white-space: pre; opacity: 1;\" transform=\"translate(0,469.9)\">15</text></g><g class=\"ycb350458tick\"><text text-anchor=\"start\" x=\"889.4\" y=\"4.199999999999999\" style=\"font-family: 'Open Sans', verdana, arial, sans-serif; font-size: 12px; fill: rgb(36, 36, 36); fill-opacity: 1; white-space: pre; opacity: 1;\" transform=\"translate(0,414.2)\">20</text></g><g class=\"ycb350458tick\"><text text-anchor=\"start\" x=\"889.4\" y=\"4.199999999999999\" style=\"font-family: 'Open Sans', verdana, arial, sans-serif; font-size: 12px; fill: rgb(36, 36, 36); fill-opacity: 1; white-space: pre; opacity: 1;\" transform=\"translate(0,358.5)\">25</text></g><g class=\"ycb350458tick\"><text text-anchor=\"start\" x=\"889.4\" y=\"4.199999999999999\" style=\"font-family: 'Open Sans', verdana, arial, sans-serif; font-size: 12px; fill: rgb(36, 36, 36); fill-opacity: 1; white-space: pre; opacity: 1;\" transform=\"translate(0,302.8)\">30</text></g><g class=\"ycb350458tick\"><text text-anchor=\"start\" x=\"889.4\" y=\"4.199999999999999\" style=\"font-family: 'Open Sans', verdana, arial, sans-serif; font-size: 12px; fill: rgb(36, 36, 36); fill-opacity: 1; white-space: pre; opacity: 1;\" transform=\"translate(0,247.09999999999997)\">35</text></g><g class=\"ycb350458tick\"><text text-anchor=\"start\" x=\"889.4\" y=\"4.199999999999999\" style=\"font-family: 'Open Sans', verdana, arial, sans-serif; font-size: 12px; fill: rgb(36, 36, 36); fill-opacity: 1; white-space: pre; opacity: 1;\" transform=\"translate(0,191.39999999999998)\">40</text></g><g class=\"ycb350458tick\"><text text-anchor=\"start\" x=\"889.4\" y=\"4.199999999999999\" style=\"font-family: 'Open Sans', verdana, arial, sans-serif; font-size: 12px; fill: rgb(36, 36, 36); fill-opacity: 1; white-space: pre; opacity: 1;\" transform=\"translate(0,135.7)\">45</text></g><g class=\"ycb350458tick\"><text text-anchor=\"start\" x=\"889.4\" y=\"4.199999999999999\" style=\"font-family: 'Open Sans', verdana, arial, sans-serif; font-size: 12px; fill: rgb(36, 36, 36); fill-opacity: 1; white-space: pre; opacity: 1;\" transform=\"translate(0,79.99999999999999)\">50</text></g></g><g class=\"cbtitleunshift\" transform=\"translate(-80,-70)\"><g class=\"cbtitle\"/></g><rect class=\"cboutline\" x=\"852\" y=\"10\" width=\"30\" height=\"557\" style=\"stroke: rgb(68, 68, 68); stroke-opacity: 1; fill: none; stroke-width: 1;\"/></g><g class=\"cb13024a colorbar\" transform=\"translate(80,70)\"><rect class=\"cbbg\" x=\"841.5\" y=\"0\" width=\"73.671875\" height=\"578\" style=\"fill: rgb(0, 0, 0); fill-opacity: 0; stroke: rgb(68, 68, 68); stroke-opacity: 1; stroke-width: 0;\"/><g class=\"cbfills\" transform=\"translate(0,10)\"><rect class=\"cbfill\" style=\"\" x=\"852\" y=\"1\" width=\"30\" height=\"556\" fill=\"#f7fbff\"/><rect class=\"cbfill\" style=\"\" x=\"852\" y=\"1\" width=\"30\" height=\"500\" fill=\"#e1edf8\"/><rect class=\"cbfill\" style=\"\" x=\"852\" y=\"1\" width=\"30\" height=\"445\" fill=\"#cbdff1\"/><rect class=\"cbfill\" style=\"\" x=\"852\" y=\"1\" width=\"30\" height=\"389\" fill=\"#abd0e6\"/><rect class=\"cbfill\" style=\"\" x=\"852\" y=\"1\" width=\"30\" height=\"333\" fill=\"#82badb\"/><rect class=\"cbfill\" style=\"\" x=\"852\" y=\"1\" width=\"30\" height=\"278\" fill=\"#59a2cf\"/><rect class=\"cbfill\" style=\"\" x=\"852\" y=\"1\" width=\"30\" height=\"222\" fill=\"#3787c0\"/><rect class=\"cbfill\" style=\"\" x=\"852\" y=\"1\" width=\"30\" height=\"166\" fill=\"#1b6aaf\"/><rect class=\"cbfill\" style=\"\" x=\"852\" y=\"1\" width=\"30\" height=\"110\" fill=\"#084d97\"/><rect class=\"cbfill\" style=\"\" x=\"852\" y=\"0\" width=\"30\" height=\"56\" fill=\"#08306b\"/></g><g class=\"cblines\" transform=\"translate(0,10)\"><path class=\"cbline\" d=\"M852,501.25h30\" style=\"fill: none; stroke: rgb(31, 119, 180); stroke-opacity: 1; stroke-width: 0.5px;\"/><path class=\"cbline\" d=\"M852,446.25h30\" style=\"fill: none; stroke: rgb(31, 119, 180); stroke-opacity: 1; stroke-width: 0.5px;\"/><path class=\"cbline\" d=\"M852,390.25h30\" style=\"fill: none; stroke: rgb(31, 119, 180); stroke-opacity: 1; stroke-width: 0.5px;\"/><path class=\"cbline\" d=\"M852,334.25h30\" style=\"fill: none; stroke: rgb(31, 119, 180); stroke-opacity: 1; stroke-width: 0.5px;\"/><path class=\"cbline\" d=\"M852,279.25h30\" style=\"fill: none; stroke: rgb(31, 119, 180); stroke-opacity: 1; stroke-width: 0.5px;\"/><path class=\"cbline\" d=\"M852,223.25h30\" style=\"fill: none; stroke: rgb(31, 119, 180); stroke-opacity: 1; stroke-width: 0.5px;\"/><path class=\"cbline\" d=\"M852,167.25h30\" style=\"fill: none; stroke: rgb(31, 119, 180); stroke-opacity: 1; stroke-width: 0.5px;\"/><path class=\"cbline\" d=\"M852,111.25h30\" style=\"fill: none; stroke: rgb(31, 119, 180); stroke-opacity: 1; stroke-width: 0.5px;\"/><path class=\"cbline\" d=\"M852,56.25h30\" style=\"fill: none; stroke: rgb(31, 119, 180); stroke-opacity: 1; stroke-width: 0.5px;\"/></g><g class=\"cbaxis crisp\" transform=\"translate(0,-70)\"><path class=\"ycb13024atick ticks crisp\" d=\"M882,0h5\" transform=\"translate(0,637)\" style=\"stroke: rgb(36, 36, 36); stroke-opacity: 1; stroke-width: 1px;\"/><path class=\"ycb13024atick ticks crisp\" d=\"M882,0h5\" transform=\"translate(0,581.3)\" style=\"stroke: rgb(36, 36, 36); stroke-opacity: 1; stroke-width: 1px;\"/><path class=\"ycb13024atick ticks crisp\" d=\"M882,0h5\" transform=\"translate(0,525.6)\" style=\"stroke: rgb(36, 36, 36); stroke-opacity: 1; stroke-width: 1px;\"/><path class=\"ycb13024atick ticks crisp\" d=\"M882,0h5\" transform=\"translate(0,469.9)\" style=\"stroke: rgb(36, 36, 36); stroke-opacity: 1; stroke-width: 1px;\"/><path class=\"ycb13024atick ticks crisp\" d=\"M882,0h5\" transform=\"translate(0,414.2)\" style=\"stroke: rgb(36, 36, 36); stroke-opacity: 1; stroke-width: 1px;\"/><path class=\"ycb13024atick ticks crisp\" d=\"M882,0h5\" transform=\"translate(0,358.5)\" style=\"stroke: rgb(36, 36, 36); stroke-opacity: 1; stroke-width: 1px;\"/><path class=\"ycb13024atick ticks crisp\" d=\"M882,0h5\" transform=\"translate(0,302.8)\" style=\"stroke: rgb(36, 36, 36); stroke-opacity: 1; stroke-width: 1px;\"/><path class=\"ycb13024atick ticks crisp\" d=\"M882,0h5\" transform=\"translate(0,247.09999999999997)\" style=\"stroke: rgb(36, 36, 36); stroke-opacity: 1; stroke-width: 1px;\"/><path class=\"ycb13024atick ticks crisp\" d=\"M882,0h5\" transform=\"translate(0,191.39999999999998)\" style=\"stroke: rgb(36, 36, 36); stroke-opacity: 1; stroke-width: 1px;\"/><path class=\"ycb13024atick ticks crisp\" d=\"M882,0h5\" transform=\"translate(0,135.7)\" style=\"stroke: rgb(36, 36, 36); stroke-opacity: 1; stroke-width: 1px;\"/><path class=\"ycb13024atick ticks crisp\" d=\"M882,0h5\" transform=\"translate(0,79.99999999999999)\" style=\"stroke: rgb(36, 36, 36); stroke-opacity: 1; stroke-width: 1px;\"/><g class=\"ycb13024atick\"><text text-anchor=\"start\" x=\"889.4\" y=\"4.199999999999999\" transform=\"translate(0,637)\" style=\"font-family: 'Open Sans', verdana, arial, sans-serif; font-size: 12px; fill: rgb(36, 36, 36); fill-opacity: 1; white-space: pre; opacity: 1;\">0</text></g><g class=\"ycb13024atick\"><text text-anchor=\"start\" x=\"889.4\" y=\"4.199999999999999\" style=\"font-family: 'Open Sans', verdana, arial, sans-serif; font-size: 12px; fill: rgb(36, 36, 36); fill-opacity: 1; white-space: pre; opacity: 1;\" transform=\"translate(0,581.3)\">5</text></g><g class=\"ycb13024atick\"><text text-anchor=\"start\" x=\"889.4\" y=\"4.199999999999999\" style=\"font-family: 'Open Sans', verdana, arial, sans-serif; font-size: 12px; fill: rgb(36, 36, 36); fill-opacity: 1; white-space: pre; opacity: 1;\" transform=\"translate(0,525.6)\">10</text></g><g class=\"ycb13024atick\"><text text-anchor=\"start\" x=\"889.4\" y=\"4.199999999999999\" style=\"font-family: 'Open Sans', verdana, arial, sans-serif; font-size: 12px; fill: rgb(36, 36, 36); fill-opacity: 1; white-space: pre; opacity: 1;\" transform=\"translate(0,469.9)\">15</text></g><g class=\"ycb13024atick\"><text text-anchor=\"start\" x=\"889.4\" y=\"4.199999999999999\" style=\"font-family: 'Open Sans', verdana, arial, sans-serif; font-size: 12px; fill: rgb(36, 36, 36); fill-opacity: 1; white-space: pre; opacity: 1;\" transform=\"translate(0,414.2)\">20</text></g><g class=\"ycb13024atick\"><text text-anchor=\"start\" x=\"889.4\" y=\"4.199999999999999\" style=\"font-family: 'Open Sans', verdana, arial, sans-serif; font-size: 12px; fill: rgb(36, 36, 36); fill-opacity: 1; white-space: pre; opacity: 1;\" transform=\"translate(0,358.5)\">25</text></g><g class=\"ycb13024atick\"><text text-anchor=\"start\" x=\"889.4\" y=\"4.199999999999999\" style=\"font-family: 'Open Sans', verdana, arial, sans-serif; font-size: 12px; fill: rgb(36, 36, 36); fill-opacity: 1; white-space: pre; opacity: 1;\" transform=\"translate(0,302.8)\">30</text></g><g class=\"ycb13024atick\"><text text-anchor=\"start\" x=\"889.4\" y=\"4.199999999999999\" style=\"font-family: 'Open Sans', verdana, arial, sans-serif; font-size: 12px; fill: rgb(36, 36, 36); fill-opacity: 1; white-space: pre; opacity: 1;\" transform=\"translate(0,247.09999999999997)\">35</text></g><g class=\"ycb13024atick\"><text text-anchor=\"start\" x=\"889.4\" y=\"4.199999999999999\" style=\"font-family: 'Open Sans', verdana, arial, sans-serif; font-size: 12px; fill: rgb(36, 36, 36); fill-opacity: 1; white-space: pre; opacity: 1;\" transform=\"translate(0,191.39999999999998)\">40</text></g><g class=\"ycb13024atick\"><text text-anchor=\"start\" x=\"889.4\" y=\"4.199999999999999\" style=\"font-family: 'Open Sans', verdana, arial, sans-serif; font-size: 12px; fill: rgb(36, 36, 36); fill-opacity: 1; white-space: pre; opacity: 1;\" transform=\"translate(0,135.7)\">45</text></g><g class=\"ycb13024atick\"><text text-anchor=\"start\" x=\"889.4\" y=\"4.199999999999999\" style=\"font-family: 'Open Sans', verdana, arial, sans-serif; font-size: 12px; fill: rgb(36, 36, 36); fill-opacity: 1; white-space: pre; opacity: 1;\" transform=\"translate(0,79.99999999999999)\">50</text></g></g><g class=\"cbtitleunshift\" transform=\"translate(-80,-70)\"><g class=\"cbtitle\"/></g><rect class=\"cboutline\" x=\"852\" y=\"10\" width=\"30\" height=\"557\" style=\"stroke: rgb(68, 68, 68); stroke-opacity: 1; fill: none; stroke-width: 1;\"/></g><g class=\"cb3f92e9 colorbar\" transform=\"translate(80,70)\"><rect class=\"cbbg\" x=\"841.5\" y=\"0\" width=\"73.671875\" height=\"578\" style=\"fill: rgb(0, 0, 0); fill-opacity: 0; stroke: rgb(68, 68, 68); stroke-opacity: 1; stroke-width: 0;\"/><g class=\"cbfills\" transform=\"translate(0,10)\"><rect class=\"cbfill\" style=\"\" x=\"852\" y=\"1\" width=\"30\" height=\"556\" fill=\"#f7fbff\"/><rect class=\"cbfill\" style=\"\" x=\"852\" y=\"1\" width=\"30\" height=\"500\" fill=\"#e1edf8\"/><rect class=\"cbfill\" style=\"\" x=\"852\" y=\"1\" width=\"30\" height=\"445\" fill=\"#cbdff1\"/><rect class=\"cbfill\" style=\"\" x=\"852\" y=\"1\" width=\"30\" height=\"389\" fill=\"#abd0e6\"/><rect class=\"cbfill\" style=\"\" x=\"852\" y=\"1\" width=\"30\" height=\"333\" fill=\"#82badb\"/><rect class=\"cbfill\" style=\"\" x=\"852\" y=\"1\" width=\"30\" height=\"278\" fill=\"#59a2cf\"/><rect class=\"cbfill\" style=\"\" x=\"852\" y=\"1\" width=\"30\" height=\"222\" fill=\"#3787c0\"/><rect class=\"cbfill\" style=\"\" x=\"852\" y=\"1\" width=\"30\" height=\"166\" fill=\"#1b6aaf\"/><rect class=\"cbfill\" style=\"\" x=\"852\" y=\"1\" width=\"30\" height=\"110\" fill=\"#084d97\"/><rect class=\"cbfill\" style=\"\" x=\"852\" y=\"0\" width=\"30\" height=\"56\" fill=\"#08306b\"/></g><g class=\"cblines\" transform=\"translate(0,10)\"><path class=\"cbline\" d=\"M852,501.25h30\" style=\"fill: none; stroke: rgb(31, 119, 180); stroke-opacity: 1; stroke-width: 0.5px;\"/><path class=\"cbline\" d=\"M852,446.25h30\" style=\"fill: none; stroke: rgb(31, 119, 180); stroke-opacity: 1; stroke-width: 0.5px;\"/><path class=\"cbline\" d=\"M852,390.25h30\" style=\"fill: none; stroke: rgb(31, 119, 180); stroke-opacity: 1; stroke-width: 0.5px;\"/><path class=\"cbline\" d=\"M852,334.25h30\" style=\"fill: none; stroke: rgb(31, 119, 180); stroke-opacity: 1; stroke-width: 0.5px;\"/><path class=\"cbline\" d=\"M852,279.25h30\" style=\"fill: none; stroke: rgb(31, 119, 180); stroke-opacity: 1; stroke-width: 0.5px;\"/><path class=\"cbline\" d=\"M852,223.25h30\" style=\"fill: none; stroke: rgb(31, 119, 180); stroke-opacity: 1; stroke-width: 0.5px;\"/><path class=\"cbline\" d=\"M852,167.25h30\" style=\"fill: none; stroke: rgb(31, 119, 180); stroke-opacity: 1; stroke-width: 0.5px;\"/><path class=\"cbline\" d=\"M852,111.25h30\" style=\"fill: none; stroke: rgb(31, 119, 180); stroke-opacity: 1; stroke-width: 0.5px;\"/><path class=\"cbline\" d=\"M852,56.25h30\" style=\"fill: none; stroke: rgb(31, 119, 180); stroke-opacity: 1; stroke-width: 0.5px;\"/></g><g class=\"cbaxis crisp\" transform=\"translate(0,-70)\"><path class=\"ycb3f92e9tick ticks crisp\" d=\"M882,0h5\" transform=\"translate(0,637)\" style=\"stroke: rgb(36, 36, 36); stroke-opacity: 1; stroke-width: 1px;\"/><path class=\"ycb3f92e9tick ticks crisp\" d=\"M882,0h5\" transform=\"translate(0,581.3)\" style=\"stroke: rgb(36, 36, 36); stroke-opacity: 1; stroke-width: 1px;\"/><path class=\"ycb3f92e9tick ticks crisp\" d=\"M882,0h5\" transform=\"translate(0,525.6)\" style=\"stroke: rgb(36, 36, 36); stroke-opacity: 1; stroke-width: 1px;\"/><path class=\"ycb3f92e9tick ticks crisp\" d=\"M882,0h5\" transform=\"translate(0,469.9)\" style=\"stroke: rgb(36, 36, 36); stroke-opacity: 1; stroke-width: 1px;\"/><path class=\"ycb3f92e9tick ticks crisp\" d=\"M882,0h5\" transform=\"translate(0,414.2)\" style=\"stroke: rgb(36, 36, 36); stroke-opacity: 1; stroke-width: 1px;\"/><path class=\"ycb3f92e9tick ticks crisp\" d=\"M882,0h5\" transform=\"translate(0,358.5)\" style=\"stroke: rgb(36, 36, 36); stroke-opacity: 1; stroke-width: 1px;\"/><path class=\"ycb3f92e9tick ticks crisp\" d=\"M882,0h5\" transform=\"translate(0,302.8)\" style=\"stroke: rgb(36, 36, 36); stroke-opacity: 1; stroke-width: 1px;\"/><path class=\"ycb3f92e9tick ticks crisp\" d=\"M882,0h5\" transform=\"translate(0,247.09999999999997)\" style=\"stroke: rgb(36, 36, 36); stroke-opacity: 1; stroke-width: 1px;\"/><path class=\"ycb3f92e9tick ticks crisp\" d=\"M882,0h5\" transform=\"translate(0,191.39999999999998)\" style=\"stroke: rgb(36, 36, 36); stroke-opacity: 1; stroke-width: 1px;\"/><path class=\"ycb3f92e9tick ticks crisp\" d=\"M882,0h5\" transform=\"translate(0,135.7)\" style=\"stroke: rgb(36, 36, 36); stroke-opacity: 1; stroke-width: 1px;\"/><path class=\"ycb3f92e9tick ticks crisp\" d=\"M882,0h5\" transform=\"translate(0,79.99999999999999)\" style=\"stroke: rgb(36, 36, 36); stroke-opacity: 1; stroke-width: 1px;\"/><g class=\"ycb3f92e9tick\"><text text-anchor=\"start\" x=\"889.4\" y=\"4.199999999999999\" transform=\"translate(0,637)\" style=\"font-family: 'Open Sans', verdana, arial, sans-serif; font-size: 12px; fill: rgb(36, 36, 36); fill-opacity: 1; white-space: pre; opacity: 1;\">0</text></g><g class=\"ycb3f92e9tick\"><text text-anchor=\"start\" x=\"889.4\" y=\"4.199999999999999\" style=\"font-family: 'Open Sans', verdana, arial, sans-serif; font-size: 12px; fill: rgb(36, 36, 36); fill-opacity: 1; white-space: pre; opacity: 1;\" transform=\"translate(0,581.3)\">5</text></g><g class=\"ycb3f92e9tick\"><text text-anchor=\"start\" x=\"889.4\" y=\"4.199999999999999\" style=\"font-family: 'Open Sans', verdana, arial, sans-serif; font-size: 12px; fill: rgb(36, 36, 36); fill-opacity: 1; white-space: pre; opacity: 1;\" transform=\"translate(0,525.6)\">10</text></g><g class=\"ycb3f92e9tick\"><text text-anchor=\"start\" x=\"889.4\" y=\"4.199999999999999\" style=\"font-family: 'Open Sans', verdana, arial, sans-serif; font-size: 12px; fill: rgb(36, 36, 36); fill-opacity: 1; white-space: pre; opacity: 1;\" transform=\"translate(0,469.9)\">15</text></g><g class=\"ycb3f92e9tick\"><text text-anchor=\"start\" x=\"889.4\" y=\"4.199999999999999\" style=\"font-family: 'Open Sans', verdana, arial, sans-serif; font-size: 12px; fill: rgb(36, 36, 36); fill-opacity: 1; white-space: pre; opacity: 1;\" transform=\"translate(0,414.2)\">20</text></g><g class=\"ycb3f92e9tick\"><text text-anchor=\"start\" x=\"889.4\" y=\"4.199999999999999\" style=\"font-family: 'Open Sans', verdana, arial, sans-serif; font-size: 12px; fill: rgb(36, 36, 36); fill-opacity: 1; white-space: pre; opacity: 1;\" transform=\"translate(0,358.5)\">25</text></g><g class=\"ycb3f92e9tick\"><text text-anchor=\"start\" x=\"889.4\" y=\"4.199999999999999\" style=\"font-family: 'Open Sans', verdana, arial, sans-serif; font-size: 12px; fill: rgb(36, 36, 36); fill-opacity: 1; white-space: pre; opacity: 1;\" transform=\"translate(0,302.8)\">30</text></g><g class=\"ycb3f92e9tick\"><text text-anchor=\"start\" x=\"889.4\" y=\"4.199999999999999\" style=\"font-family: 'Open Sans', verdana, arial, sans-serif; font-size: 12px; fill: rgb(36, 36, 36); fill-opacity: 1; white-space: pre; opacity: 1;\" transform=\"translate(0,247.09999999999997)\">35</text></g><g class=\"ycb3f92e9tick\"><text text-anchor=\"start\" x=\"889.4\" y=\"4.199999999999999\" style=\"font-family: 'Open Sans', verdana, arial, sans-serif; font-size: 12px; fill: rgb(36, 36, 36); fill-opacity: 1; white-space: pre; opacity: 1;\" transform=\"translate(0,191.39999999999998)\">40</text></g><g class=\"ycb3f92e9tick\"><text text-anchor=\"start\" x=\"889.4\" y=\"4.199999999999999\" style=\"font-family: 'Open Sans', verdana, arial, sans-serif; font-size: 12px; fill: rgb(36, 36, 36); fill-opacity: 1; white-space: pre; opacity: 1;\" transform=\"translate(0,135.7)\">45</text></g><g class=\"ycb3f92e9tick\"><text text-anchor=\"start\" x=\"889.4\" y=\"4.199999999999999\" style=\"font-family: 'Open Sans', verdana, arial, sans-serif; font-size: 12px; fill: rgb(36, 36, 36); fill-opacity: 1; white-space: pre; opacity: 1;\" transform=\"translate(0,79.99999999999999)\">50</text></g></g><g class=\"cbtitleunshift\" transform=\"translate(-80,-70)\"><g class=\"cbtitle\"/></g><rect class=\"cboutline\" x=\"852\" y=\"10\" width=\"30\" height=\"557\" style=\"stroke: rgb(68, 68, 68); stroke-opacity: 1; fill: none; stroke-width: 1;\"/></g><g class=\"g-gtitle\"><text class=\"gtitle\" x=\"50\" y=\"35\" text-anchor=\"start\" dy=\"0em\" style=\"opacity: 1; font-family: 'Open Sans', verdana, arial, sans-serif; font-size: 17px; fill: rgb(36, 36, 36); fill-opacity: 1; white-space: pre;\">Enrollments and ratings per course type</text></g><g class=\"g-xtitle\"/><g class=\"g-x2title\"/><g class=\"g-x3title\"/><g class=\"g-ytitle\"><text class=\"ytitle\" transform=\"rotate(-90,22.209375,358.5)\" x=\"22.209375\" y=\"358.5\" text-anchor=\"middle\" style=\"opacity: 1; font-family: 'Open Sans', verdana, arial, sans-serif; font-size: 14px; fill: rgb(36, 36, 36); fill-opacity: 1; white-space: pre;\">Students enrolled</text></g><g class=\"g-y2title\"/><g class=\"g-y3title\"/><g class=\"annotation\" data-index=\"0\" style=\"opacity: 1;\"><g class=\"annotation-text-g\" transform=\"rotate(0,211.99999999999997,60.5)\"><g class=\"cursor-pointer\" transform=\"translate(168,51)\"><rect class=\"bg\" x=\"0.5\" y=\"0.5\" width=\"86\" height=\"18\" style=\"stroke-width: 1px; stroke: rgb(0, 0, 0); stroke-opacity: 0; fill: rgb(0, 0, 0); fill-opacity: 0;\"/><text class=\"annotation-text\" text-anchor=\"middle\" x=\"43.296875\" y=\"14\" style=\"font-family: 'Open Sans', verdana, arial, sans-serif; font-size: 12px; fill: rgb(36, 36, 36); fill-opacity: 1; white-space: pre;\">Specialization</text></g></g></g><g class=\"annotation\" data-index=\"1\" style=\"opacity: 1;\"><g class=\"annotation-text-g\" transform=\"rotate(0,492.49999999999994,60.5)\"><g class=\"cursor-pointer\" transform=\"translate(421,51)\"><rect class=\"bg\" x=\"0.5\" y=\"0.5\" width=\"141\" height=\"18\" style=\"stroke-width: 1px; stroke: rgb(0, 0, 0); stroke-opacity: 0; fill: rgb(0, 0, 0); fill-opacity: 0;\"/><text class=\"annotation-text\" text-anchor=\"middle\" x=\"70.96875\" y=\"14\" style=\"font-family: 'Open Sans', verdana, arial, sans-serif; font-size: 12px; fill: rgb(36, 36, 36); fill-opacity: 1; white-space: pre;\">Professional Certificate</text></g></g></g><g class=\"annotation\" data-index=\"2\" style=\"opacity: 1;\"><g class=\"annotation-text-g\" transform=\"rotate(0,772.9999999999999,60.5)\"><g class=\"cursor-pointer\" transform=\"translate(750,51)\"><rect class=\"bg\" x=\"0.5\" y=\"0.5\" width=\"45\" height=\"18\" style=\"stroke-width: 1px; stroke: rgb(0, 0, 0); stroke-opacity: 0; fill: rgb(0, 0, 0); fill-opacity: 0;\"/><text class=\"annotation-text\" text-anchor=\"middle\" x=\"22.890625\" y=\"14\" style=\"font-family: 'Open Sans', verdana, arial, sans-serif; font-size: 12px; fill: rgb(36, 36, 36); fill-opacity: 1; white-space: pre;\">Course</text></g></g></g></g></svg>"
      ]
     },
     "metadata": {},
     "output_type": "display_data"
    }
   ],
   "source": [
    "fig = px.density_contour(\n",
    "    df_cleaned, \n",
    "    x=\"course_rating\", \n",
    "    y=\"course_students_enrolled\", \n",
    "    facet_col=\"course_Certificate_type\", \n",
    "    template=\"simple_white\",\n",
    "    width=1000, \n",
    "    height=700\n",
    ")\n",
    "\n",
    "fig.update_traces(\n",
    "    contours_coloring=\"fill\", \n",
    "    colorscale=\"Blues\",\n",
    "    zmin=0,\n",
    "    zmax=50,\n",
    "    hovertemplate=\n",
    "        \"Students Enrolled: %{y:,.0f}<br>\" + \n",
    "        \"Rating: %{x}<br>\" + \n",
    "        \"Density: %{z}<br>\" \n",
    ")\n",
    "\n",
    "fig.update_layout(\n",
    "    title = \"Enrollments and ratings per course type\",\n",
    "    yaxis_title = \"Students enrolled\",\n",
    "    xaxis_title = False,\n",
    "    hoverlabel=dict(\n",
    "        bgcolor=\"white\",\n",
    "        bordercolor = \"white\",\n",
    "        font=dict(\n",
    "            color=\"#494a5e\"\n",
    "        )\n",
    "    ),\n",
    "    margin=dict(t=70, b=5)\n",
    ")\n",
    "\n",
    "second_facet_data = df_cleaned[df_cleaned['course_Certificate_type'] == \"Professional Certificate\"]\n",
    "fig.add_trace(go.Scatter(\n",
    "    x=second_facet_data['course_rating'],\n",
    "    y=second_facet_data['course_students_enrolled'],\n",
    "    mode='markers',\n",
    "    marker=dict(\n",
    "        color=\"#1D6996\",\n",
    "        size=5,\n",
    "        opacity=0.4\n",
    "        ),\n",
    "        name=\"Professional certificate\",\n",
    "        hovertext=(\n",
    "            \"Title: \" + \"<b>\" + second_facet_data[\"course_title\"].astype(str) + \"</b>\" +\"<br>\" + \n",
    "            \"Students Enrolled: \" + second_facet_data[\"course_students_enrolled\"].map(lambda x: f\"{x:,.0f}\").astype(str) + \"<br>\" + \n",
    "            \"Organization: \"+ second_facet_data['course_organization'].astype(str) + \"<br>\" + \n",
    "            \"Rating: \" + second_facet_data['course_rating'].astype(str)\n",
    "        ),  \n",
    "    hoverinfo=\"text\"\n",
    "    ), \n",
    "    row=1, \n",
    "    col=2,\n",
    ")\n",
    "\n",
    "fig.for_each_annotation(lambda a: a.update(text=a.text.split(\"=\")[-1]))\n",
    "fig.update_xaxes(title='')\n",
    "\n",
    "fig.show()"
   ]
  },
  {
   "cell_type": "code",
   "execution_count": 536,
   "metadata": {},
   "outputs": [
    {
     "data": {
      "application/vnd.plotly.v1+json": {
       "config": {
        "plotlyServerURL": "https://plot.ly"
       },
       "data": [
        {
         "colorscale": [
          [
           0,
           "rgb(247,251,255)"
          ],
          [
           0.125,
           "rgb(222,235,247)"
          ],
          [
           0.25,
           "rgb(198,219,239)"
          ],
          [
           0.375,
           "rgb(158,202,225)"
          ],
          [
           0.5,
           "rgb(107,174,214)"
          ],
          [
           0.625,
           "rgb(66,146,198)"
          ],
          [
           0.75,
           "rgb(33,113,181)"
          ],
          [
           0.875,
           "rgb(8,81,156)"
          ],
          [
           1,
           "rgb(8,48,107)"
          ]
         ],
         "contours": {
          "coloring": "fill"
         },
         "hovertemplate": "Students Enrolled: %{y:,.0f}<br>Rating: %{x}<br>Density: %{z}<br>",
         "legendgroup": "",
         "line": {
          "color": "#1F77B4"
         },
         "name": "",
         "showlegend": false,
         "type": "histogram2dcontour",
         "x": [
          4.6,
          4.6,
          4.9,
          4.5,
          4.7,
          4.8,
          4.8,
          4.6,
          4.6,
          4.7,
          4.7,
          4.6,
          4.7,
          4.7,
          4.7,
          4.7,
          4.6,
          4.9,
          4.7,
          4.6,
          4.7,
          4.7,
          4.6,
          4.6,
          4.6,
          4.9,
          4.9,
          4.5,
          4.9,
          4.6,
          4.7,
          4.7,
          4.8,
          4.7,
          4.8,
          4.7,
          4.7,
          4.8,
          4.7,
          4.7,
          4.9,
          4.7,
          4.8,
          4.7,
          4.7,
          4.8,
          4.5,
          4.8,
          4.7,
          4.7,
          4.7,
          4.6,
          4.7,
          4.8,
          4.8,
          4.8,
          4.8,
          4.7,
          4.6,
          4.8,
          4.7,
          4.7,
          4.7,
          4.5,
          4.6,
          4.7,
          4.7,
          4.8,
          4.6,
          4.6,
          4.6,
          4.6,
          4.8,
          4.8,
          4.7,
          4.7,
          4.8,
          4.7,
          4.7,
          4.8,
          4.8,
          4.6,
          4.8,
          4.7,
          4.7,
          4.6,
          4.8,
          4.8,
          4.7,
          4.9,
          4.8,
          4.5,
          4.4,
          4.8,
          4.6,
          4.7,
          4.6,
          4.8,
          4.8,
          4.4,
          4.7,
          4.8,
          4.5,
          4.3,
          4.8,
          4.7,
          4.7,
          4.8,
          4.7,
          4.7,
          4.7,
          4.5,
          4.9,
          4.6,
          4.6,
          4.4,
          4.8,
          4.8,
          4.5,
          4.6,
          4.9,
          4.8,
          4.8,
          4.3,
          4.8,
          4.8,
          4.3,
          4.5,
          4.8,
          4.7,
          4.7,
          4.7,
          4.5,
          4.8,
          4.7,
          4.9,
          4.8,
          4.7,
          4.7,
          4.8,
          4.5,
          4.8,
          4.7,
          4.7,
          4.6,
          4.8,
          4.3,
          4.8,
          4.6,
          4.7,
          4.8,
          4.8,
          4.9,
          4.7,
          4.4,
          4.6,
          4.9,
          4.7,
          4.9,
          4.7,
          4.4,
          4.8,
          4.6,
          4.8,
          4.8,
          4.6,
          4.8,
          4.3,
          4.8,
          4.7,
          4.6,
          4.7,
          4.8,
          4.8,
          4.8,
          4.9,
          4.6,
          4.8,
          4.6,
          4.6,
          4.5,
          4.6,
          4.5,
          4.7,
          4.7,
          4.7,
          4.5,
          4.8,
          4.5,
          4.6,
          4.6,
          4.5,
          4.5,
          4.7,
          4.7,
          4.8,
          4.7,
          4.7,
          4.8,
          4.7,
          4.6,
          4.4,
          4.8,
          4.4,
          4.6,
          4.8,
          4.7,
          4.7,
          4.5,
          4.7,
          4.3,
          4.6,
          4.6,
          4.8,
          4.8,
          4.5,
          4.6,
          4.8,
          4.7,
          4.7,
          4.8,
          4.6,
          4.7,
          4.6,
          4.8,
          4.6,
          4.7,
          4.8,
          4.9,
          4.5,
          4.7,
          4.8,
          4.7,
          4.7,
          4.5,
          4.7,
          4.7,
          4.7,
          4.7,
          4.9,
          4.5,
          4.6,
          4.7,
          4.6,
          4.5,
          4.9,
          4.6,
          4.7,
          4.6,
          4.8,
          4.8,
          4.7,
          4.8,
          4.8,
          4.7,
          4.7,
          4.6,
          4.8,
          4.5,
          4.8,
          4.9,
          4.6,
          4.7,
          4.7,
          4.6,
          4.7,
          4.6,
          4.9,
          4.8,
          4.7,
          4.7,
          4.4,
          4.6,
          4.9,
          4.8,
          4.8,
          4.5,
          4.7,
          4.7,
          4.3,
          4.4,
          4.7,
          4.5,
          4.5,
          4.8,
          4.6,
          4.6,
          4.6,
          4.6,
          4.5,
          4.8,
          4.6,
          4.6,
          4.8,
          4.6,
          4.8,
          4.8,
          4.8,
          4.4,
          4.7,
          4.8,
          4.8,
          4.5,
          4.7,
          4.6,
          4.6,
          4.6,
          4.9,
          4.6,
          4.8,
          4.8,
          4.7,
          4.4,
          4.3,
          4.9,
          4.6,
          4.7,
          4.9,
          4.6,
          4.6,
          4.6,
          4.5,
          4.9,
          4.6,
          4.7,
          4.7,
          4.8,
          4.6,
          4.7,
          4.5,
          4.8,
          4.7,
          4.9,
          4.5,
          4.8,
          4.8,
          4.8,
          4.6,
          4.6,
          4.8,
          4.7,
          4.5,
          4.4,
          4.6,
          4.9,
          4.8,
          4.6,
          4.5,
          4.7,
          4.8,
          4.8,
          4.7,
          4.6,
          4.7,
          4.6,
          4.7,
          4.9,
          4.7,
          4.8,
          4.6,
          4.7,
          4.7,
          4.7,
          4.8,
          4.5,
          4.7,
          4.7,
          4.7,
          4.7,
          4.6,
          4.8,
          4.8,
          4.8,
          4.9,
          4.6,
          4.8,
          4.8,
          4.8,
          4.4,
          4.6,
          4.6,
          4.6,
          4.8,
          4.8,
          4.6,
          4.8,
          4.7,
          4.7,
          4.4,
          4.8,
          4.8,
          4.5,
          4.7,
          4.5,
          4.3,
          4.7,
          4.3,
          5,
          4.6,
          4.7,
          4.8,
          4.7,
          4.6,
          4.8,
          4.7,
          4.8,
          4.7,
          4.7,
          4.6,
          4.8,
          4.4,
          4.8,
          4.6,
          4.6,
          4.6,
          4.7,
          4.6,
          4.9,
          4.8,
          4.7,
          4.9,
          4.7,
          4.7,
          4.8,
          4.5,
          4.9,
          4.6,
          4.7,
          4.7,
          4.9,
          4.7,
          4.6,
          4.8,
          4.7,
          4.9,
          4.8,
          4.8,
          4.8,
          4.8,
          4.9
         ],
         "xaxis": "x",
         "xbingroup": "x",
         "y": [
          220000,
          220000,
          220000,
          160000,
          93000,
          89000,
          110000,
          220000,
          130000,
          68000,
          61000,
          130000,
          82000,
          110000,
          98000,
          140000,
          150000,
          150000,
          61000,
          140000,
          31000,
          220000,
          110000,
          22000,
          20000,
          100000,
          140000,
          96000,
          57000,
          160000,
          94000,
          120000,
          97000,
          99000,
          120000,
          220000,
          220000,
          65000,
          68000,
          23000,
          200000,
          100000,
          70000,
          57000,
          110000,
          84000,
          35000,
          180000,
          89000,
          160000,
          36000,
          80000,
          10000,
          23000,
          30000,
          140000,
          56000,
          24000,
          34000,
          14000,
          23000,
          5300,
          130000,
          170000,
          93000,
          21000,
          120000,
          9400,
          120000,
          14000,
          170000,
          44000,
          43000,
          23000,
          30000,
          38000,
          200000,
          110000,
          16000,
          14000,
          24000,
          28000,
          81000,
          7000,
          32000,
          60000,
          42000,
          220000,
          82000,
          35000,
          110000,
          49000,
          75000,
          51000,
          89000,
          68000,
          26000,
          54000,
          64000,
          57000,
          40000,
          20000,
          72000,
          68000,
          33000,
          36000,
          140000,
          22000,
          22000,
          43000,
          32000,
          67000,
          62000,
          37000,
          26000,
          9000,
          50000,
          81000,
          8100,
          17000,
          130000,
          100000,
          25000,
          32000,
          11000,
          69000,
          13000,
          60000,
          180000,
          110000,
          69000,
          37000,
          27000,
          32000,
          110000,
          86000,
          110000,
          110000,
          190000,
          140000,
          170000,
          43000,
          49000,
          28000,
          39000,
          14000,
          23000,
          90000,
          47000,
          220000,
          43000,
          8800,
          120000,
          31000,
          120000,
          76000,
          79000,
          10000,
          18000,
          39000,
          100000,
          9200,
          160000,
          4800,
          14000,
          39000,
          5300,
          45000,
          20000,
          34000,
          3800,
          6500,
          130000,
          39000,
          26000,
          8800,
          40000,
          9100,
          56000,
          4900,
          73000,
          120000,
          22000,
          58000,
          42000,
          66000,
          3900,
          110000,
          120000,
          5800,
          2600,
          10000,
          140000,
          29000,
          62000,
          22000,
          43000,
          37000,
          3300,
          55000,
          18000,
          13000,
          54000,
          36000,
          52000,
          86000,
          6400,
          44000,
          87000,
          43000,
          66000,
          78000,
          30000,
          9700,
          7200,
          2200,
          26000,
          32000,
          12000,
          14000,
          38000,
          4800,
          5200,
          130000,
          14000,
          1600,
          30000,
          49000,
          11000,
          30000,
          160000,
          62000,
          34000,
          10000,
          12000,
          69000,
          7900,
          16000,
          17000,
          73000,
          35000,
          14000,
          140000,
          23000,
          8800,
          89000,
          69000,
          83000,
          71000,
          20000,
          18000,
          10000,
          11000,
          17000,
          8000,
          120000,
          160000,
          150000,
          81000,
          3200,
          13000,
          9100,
          51000,
          110000,
          13000,
          24000,
          10000,
          22000,
          48000,
          14000,
          10000,
          140000,
          32000,
          180000,
          26000,
          72000,
          27000,
          23000,
          23000,
          52000,
          88000,
          18000,
          34000,
          3900,
          4200,
          8400,
          9400,
          200000,
          19000,
          22000,
          11000,
          11000,
          2600,
          25000,
          5500,
          110000,
          44000,
          68000,
          5600,
          19000,
          24000,
          23000,
          69000,
          16000,
          2900,
          200000,
          26000,
          12000,
          27000,
          20000,
          5600,
          76000,
          8200,
          11000,
          30000,
          180000,
          5200,
          46000,
          4400,
          2200,
          180000,
          10000,
          9500,
          40000,
          17000,
          120000,
          16000,
          22000,
          39000,
          31000,
          28000,
          36000,
          8900,
          22000,
          47000,
          61000,
          25000,
          17000,
          4000,
          29000,
          17000,
          59000,
          18000,
          35000,
          15000,
          6000,
          75000,
          1800,
          61000,
          59000,
          52000,
          5500,
          83000,
          31000,
          47000,
          15000,
          21000,
          14000,
          7800,
          36000,
          14000,
          23000,
          31000,
          63000,
          16000,
          27000,
          150000,
          19000,
          19000,
          17000,
          4100,
          31000,
          22000,
          4500,
          25000,
          16000,
          49000,
          10000,
          18000,
          11000,
          6300,
          7900,
          11000,
          24000,
          6500,
          3200,
          12000,
          14000,
          2400,
          7700,
          110000,
          54000,
          6500,
          37000,
          20000,
          16000,
          22000,
          1500,
          78000,
          150000,
          15000,
          12000,
          47000,
          55000,
          14000,
          60000,
          4500,
          22000,
          12000,
          67000,
          100000,
          20000,
          13000,
          13000,
          5500,
          9500,
          1700,
          3000,
          7100,
          3200,
          12000,
          27000,
          21000,
          15000,
          21000,
          1700,
          56000,
          25000,
          27000,
          120000,
          22000,
          7200,
          12000,
          18000,
          10000,
          46000,
          28000,
          13000,
          9500,
          6400
         ],
         "yaxis": "y",
         "ybingroup": "y",
         "zmax": 50,
         "zmin": 0
        },
        {
         "colorscale": [
          [
           0,
           "rgb(247,251,255)"
          ],
          [
           0.125,
           "rgb(222,235,247)"
          ],
          [
           0.25,
           "rgb(198,219,239)"
          ],
          [
           0.375,
           "rgb(158,202,225)"
          ],
          [
           0.5,
           "rgb(107,174,214)"
          ],
          [
           0.625,
           "rgb(66,146,198)"
          ],
          [
           0.75,
           "rgb(33,113,181)"
          ],
          [
           0.875,
           "rgb(8,81,156)"
          ],
          [
           1,
           "rgb(8,48,107)"
          ]
         ],
         "contours": {
          "coloring": "fill"
         },
         "hovertemplate": "Students Enrolled: %{y:,.0f}<br>Rating: %{x}<br>Density: %{z}<br>",
         "legendgroup": "",
         "line": {
          "color": "#1F77B4"
         },
         "name": "",
         "showlegend": false,
         "type": "histogram2dcontour",
         "x": [
          4.6,
          4.6,
          4.7,
          4.6,
          4.7,
          4.4,
          4.8,
          4.7,
          4.7,
          4.7,
          4.7,
          4.8,
          4.8,
          4.5,
          4.5,
          4.7,
          4.7,
          4.7,
          4.5,
          4.7,
          4.4,
          4.7,
          4.7,
          4.9,
          4.7,
          4.7,
          4.7,
          4.8,
          4.7,
          4.8,
          4.7,
          4.7,
          4.6,
          4.5,
          4.9,
          4.6,
          4.7,
          4.5,
          4.8,
          4.8,
          4.5,
          4.6,
          4.7,
          4.6,
          4.7,
          4.6,
          4.8,
          4.5,
          4.8,
          4.8,
          4.7,
          4.7,
          4.6,
          4.7,
          4.8,
          4.4,
          4.7,
          4.6,
          4.4,
          4.5,
          4.7,
          4.4,
          4.8,
          4.9,
          4.5,
          5,
          4.6,
          4.5,
          4.8,
          4.7,
          4.8,
          4.6,
          4.5,
          4.6,
          4.6,
          4.6,
          4.8,
          4.4,
          4.6,
          4.5,
          4.9,
          4.5,
          4.7,
          4.7,
          4.5,
          4.8,
          4.8,
          4.4,
          4.8,
          4.6,
          4.8,
          4.8,
          4.8,
          4.8,
          4.7,
          4.7,
          4.8,
          4.8,
          4.5,
          4.7,
          4.6,
          4.3,
          4.8,
          4.7,
          4.7,
          4.5,
          4.9,
          4.6,
          4.6,
          4.7,
          4.5,
          4.8,
          4.8,
          4.3,
          4.7,
          4.6,
          4.8,
          4.6,
          4.7,
          4.9,
          4.8,
          4.5,
          4.5,
          4.9,
          4.7,
          4.8,
          4.4,
          4.8,
          4.7,
          4.6,
          4.9,
          4.8,
          4.7,
          4.7,
          4.8,
          4.6,
          4.8,
          4.8,
          4.8,
          4.6,
          4.7,
          4.5,
          4.7,
          4.8,
          4.7,
          4.6,
          4.8,
          4.7,
          4.4,
          4.8,
          4.7,
          4.8,
          4.8,
          4.7,
          4.8,
          4.6,
          4.4,
          4.4,
          4.7,
          4.5,
          4.4,
          4.6,
          4.5,
          4.9,
          4.8,
          4.7,
          4.9,
          4.7,
          4.5,
          4.7,
          4.6,
          4.6,
          4.8,
          4.4,
          4.7,
          4.7
         ],
         "xaxis": "x2",
         "xbingroup": "x",
         "y": [
          120000,
          120000,
          170000,
          140000,
          13000,
          80000,
          150000,
          23000,
          140000,
          150000,
          92000,
          8700,
          110000,
          72000,
          150000,
          12000,
          20000,
          77000,
          100000,
          22000,
          210000,
          76000,
          220000,
          68000,
          18000,
          120000,
          120000,
          120000,
          97000,
          190000,
          12000,
          100000,
          18000,
          12000,
          76000,
          120000,
          150000,
          52000,
          14000,
          12000,
          78000,
          68000,
          63000,
          58000,
          37000,
          4000,
          14000,
          7900,
          36000,
          4100,
          120000,
          21000,
          16000,
          83000,
          67000,
          110000,
          46000,
          30000,
          60000,
          99000,
          1700,
          41000,
          130000,
          17000,
          78000,
          1600,
          34000,
          19000,
          53000,
          18000,
          39000,
          66000,
          75000,
          19000,
          40000,
          4900,
          16000,
          140000,
          54000,
          4200,
          5400,
          30000,
          68000,
          49000,
          22000,
          9200,
          22000,
          48000,
          2400,
          97000,
          91000,
          18000,
          89000,
          47000,
          21000,
          9100,
          35000,
          43000,
          30000,
          37000,
          42000,
          29000,
          170000,
          220000,
          57000,
          73000,
          9400,
          22000,
          66000,
          39000,
          9200,
          59000,
          29000,
          24000,
          38000,
          43000,
          39000,
          150000,
          42000,
          3900,
          4000,
          41000,
          7300,
          28000,
          79000,
          26000,
          3000,
          12000,
          12000,
          39000,
          40000,
          23000,
          16000,
          14000,
          44000,
          8000,
          10000,
          9900,
          22000,
          59000,
          77000,
          5400,
          17000,
          1900,
          5900,
          3600,
          6800,
          23000,
          12000,
          33000,
          19000,
          17000,
          170000,
          15000,
          30000,
          63000,
          12000,
          8500,
          4200,
          13000,
          6400,
          9700,
          7200,
          41000,
          17000,
          36000,
          4400,
          45000,
          6100,
          21000,
          9800,
          5800,
          7300,
          11000,
          33000,
          45000
         ],
         "yaxis": "y2",
         "ybingroup": "y",
         "zmax": 50,
         "zmin": 0
        },
        {
         "colorscale": [
          [
           0,
           "rgb(247,251,255)"
          ],
          [
           0.125,
           "rgb(222,235,247)"
          ],
          [
           0.25,
           "rgb(198,219,239)"
          ],
          [
           0.375,
           "rgb(158,202,225)"
          ],
          [
           0.5,
           "rgb(107,174,214)"
          ],
          [
           0.625,
           "rgb(66,146,198)"
          ],
          [
           0.75,
           "rgb(33,113,181)"
          ],
          [
           0.875,
           "rgb(8,81,156)"
          ],
          [
           1,
           "rgb(8,48,107)"
          ]
         ],
         "contours": {
          "coloring": "fill"
         },
         "hovertemplate": "Students Enrolled: %{y:,.0f}<br>Rating: %{x}<br>Density: %{z}<br>",
         "legendgroup": "",
         "line": {
          "color": "#1F77B4"
         },
         "name": "",
         "showlegend": false,
         "type": "histogram2dcontour",
         "x": [
          4.8,
          4.7,
          4.7,
          4.8,
          4.9,
          4.8,
          4.8,
          4.8,
          4.7,
          4.6,
          4.6,
          4.7,
          4.7,
          4.8,
          4.8,
          4.6,
          4.8,
          4.7,
          4.6,
          4.8,
          4.8,
          4.9,
          4.8,
          4.8,
          4.5,
          4.8,
          4.4,
          4.6,
          4.8,
          4.8,
          4.6,
          4.7,
          4.6,
          4.8,
          4.6,
          4.7,
          4.8,
          4.8,
          4.8,
          4.8,
          4.8,
          4.5,
          4.6,
          4.8,
          4.8,
          4.6,
          4.8,
          4.5,
          4.5,
          4.7,
          4.9,
          4.6,
          4.8,
          4.8,
          4.6,
          4.9,
          4.7,
          4.7,
          4.7,
          4.7,
          4.9,
          4.8,
          4.9,
          4.6,
          4.8,
          4.8,
          4.6,
          4.8,
          4.3,
          4.7,
          4.7,
          4.8,
          4.9,
          4.7,
          4.8,
          4.8,
          4.8,
          4.8,
          4.8,
          4.7,
          4.7,
          4.8,
          4.8,
          4.5,
          4.7,
          4.6,
          4.8,
          4.7,
          4.7,
          4.9,
          4.8,
          4.7,
          4.7,
          4.8,
          4.8,
          4.7,
          4.9,
          4.8,
          4.5,
          4.7,
          4.8,
          4.9,
          4.8,
          4.7,
          4.7,
          4.7,
          4.9,
          4.7,
          4.6,
          4.9,
          4.7,
          4.8,
          4.8,
          4.6,
          4.8,
          4.7,
          4.3,
          4.4,
          4.6,
          4.8,
          4.7,
          4.7,
          4.8,
          4.7,
          4.7,
          4.8,
          4.8,
          4.7,
          4.8,
          4.9,
          4.8,
          4.9,
          4.8,
          4.8,
          4.8,
          4.7,
          4.6,
          4.8,
          4.6,
          4.7,
          4.7,
          4.5,
          4.8,
          4.7,
          4.8,
          4.8,
          4.6,
          4.8,
          4.7,
          4.6,
          4.8,
          4.8,
          4.8,
          4.8,
          4.4,
          4.7,
          4.5,
          4.6,
          4.8,
          4.5,
          4.5,
          4.6,
          4.6,
          4.8
         ],
         "xaxis": "x3",
         "xbingroup": "x",
         "y": [
          190000,
          150000,
          120000,
          57000,
          210000,
          51000,
          79000,
          220000,
          67000,
          100000,
          110000,
          180000,
          42000,
          100000,
          190000,
          79000,
          71000,
          200000,
          56000,
          72000,
          41000,
          83000,
          86000,
          67000,
          120000,
          110000,
          55000,
          180000,
          84000,
          19000,
          47000,
          180000,
          10000,
          130000,
          29000,
          220000,
          69000,
          31000,
          57000,
          15000,
          50000,
          33000,
          130000,
          95000,
          220000,
          130000,
          78000,
          17000,
          84000,
          120000,
          47000,
          94000,
          24000,
          68000,
          150000,
          95000,
          54000,
          80000,
          13000,
          91000,
          36000,
          82000,
          150000,
          39000,
          85000,
          31000,
          2300,
          56000,
          140000,
          34000,
          41000,
          79000,
          40000,
          84000,
          38000,
          74000,
          130000,
          34000,
          200000,
          97000,
          130000,
          45000,
          45000,
          87000,
          120000,
          82000,
          6200,
          99000,
          71000,
          81000,
          34000,
          23000,
          34000,
          36000,
          16000,
          49000,
          29000,
          40000,
          80000,
          33000,
          11000,
          27000,
          15000,
          150000,
          47000,
          110000,
          33000,
          47000,
          15000,
          44000,
          35000,
          84000,
          58000,
          19000,
          21000,
          130000,
          19000,
          25000,
          36000,
          35000,
          62000,
          19000,
          7600,
          110000,
          66000,
          41000,
          210000,
          33000,
          23000,
          3400,
          62000,
          34000,
          62000,
          53000,
          8100,
          58000,
          31000,
          49000,
          50000,
          6600,
          69000,
          67000,
          14000,
          35000,
          60000,
          38000,
          37000,
          23000,
          48000,
          29000,
          46000,
          46000,
          51000,
          79000,
          57000,
          60000,
          12000,
          160000,
          7200,
          42000,
          130000,
          16000,
          42000,
          21000
         ],
         "yaxis": "y3",
         "ybingroup": "y",
         "zmax": 50,
         "zmin": 0
        },
        {
         "colorscale": [
          [
           0,
           "rgb(247,251,255)"
          ],
          [
           0.125,
           "rgb(222,235,247)"
          ],
          [
           0.25,
           "rgb(198,219,239)"
          ],
          [
           0.375,
           "rgb(158,202,225)"
          ],
          [
           0.5,
           "rgb(107,174,214)"
          ],
          [
           0.625,
           "rgb(66,146,198)"
          ],
          [
           0.75,
           "rgb(33,113,181)"
          ],
          [
           0.875,
           "rgb(8,81,156)"
          ],
          [
           1,
           "rgb(8,48,107)"
          ]
         ],
         "contours": {
          "coloring": "fill"
         },
         "hovertemplate": "Students Enrolled: %{y:,.0f}<br>Rating: %{x}<br>Density: %{z}<br>",
         "legendgroup": "",
         "line": {
          "color": "#1F77B4"
         },
         "name": "",
         "showlegend": false,
         "type": "histogram2dcontour",
         "x": [
          4.5,
          4.7,
          4.9,
          4.7,
          4.8,
          4.5,
          4.5,
          4.5,
          4.8,
          4.4,
          4.7,
          4.3,
          4.5,
          4.7,
          4.7,
          4.8,
          4.8
         ],
         "xaxis": "x4",
         "xbingroup": "x",
         "y": [
          190000,
          39000,
          170000,
          29000,
          52000,
          140000,
          16000,
          35000,
          42000,
          3500,
          9700,
          60000,
          11000,
          68000,
          22000,
          39000,
          12000
         ],
         "yaxis": "y4",
         "ybingroup": "y",
         "zmax": 50,
         "zmin": 0
        },
        {
         "hoverinfo": "text",
         "hovertext": [
          "Title: <b>Advanced Machine Learning</b><br>Students Enrolled: 190,000<br>Organization: National Research University Higher School Of Economics<br>Rating: 4.5",
          "Title: <b>Self-Driving Cars</b><br>Students Enrolled: 39,000<br>Organization: University Of Toronto<br>Rating: 4.7",
          "Title: <b>Medical Neuroscience</b><br>Students Enrolled: 170,000<br>Organization: Duke University<br>Rating: 4.9",
          "Title: <b>Advanced Valuation And Strategy - M&A, Private Equity, And Venture Capital</b><br>Students Enrolled: 29,000<br>Organization: Erasmus University Rotterdam<br>Rating: 4.7",
          "Title: <b>Learn English: Advanced Grammar And Punctuation</b><br>Students Enrolled: 52,000<br>Organization: University Of California, Irvine<br>Rating: 4.8",
          "Title: <b>Data Warehousing For Business Intelligence</b><br>Students Enrolled: 140,000<br>Organization: University Of Colorado System<br>Rating: 4.5",
          "Title: <b>Site Reliability Engineering: Measuring And Managing Reliability</b><br>Students Enrolled: 16,000<br>Organization: Google Cloud<br>Rating: 4.5",
          "Title: <b>Advanced Machine Learning With Tensorflow On Google Cloud Platform</b><br>Students Enrolled: 35,000<br>Organization: Google Cloud<br>Rating: 4.5",
          "Title: <b>Social And Economic Networks:  Models And Analysis</b><br>Students Enrolled: 42,000<br>Organization: Stanford University<br>Rating: 4.8",
          "Title: <b>Ibm Ai Enterprise Workflow</b><br>Students Enrolled: 3,500<br>Organization: Ibm<br>Rating: 4.4",
          "Title: <b>Autodesk Certified Professional: Revit For Architectural Design Exam Prep</b><br>Students Enrolled: 9,700<br>Organization: Autodesk<br>Rating: 4.7",
          "Title: <b>Strategic Business Analytics</b><br>Students Enrolled: 60,000<br>Organization: Essec Business School<br>Rating: 4.3",
          "Title: <b>Antibiotic Stewardship</b><br>Students Enrolled: 11,000<br>Organization: Stanford University<br>Rating: 4.5",
          "Title: <b>Probabilistic Graphical Models 1: Representation</b><br>Students Enrolled: 68,000<br>Organization: Stanford University<br>Rating: 4.7",
          "Title: <b>Autodesk Certified Professional: Autocad For Design And Drafting Exam Prep</b><br>Students Enrolled: 22,000<br>Organization: Autodesk<br>Rating: 4.7",
          "Title: <b>Introduction To Self-Driving Cars</b><br>Students Enrolled: 39,000<br>Organization: University Of Toronto<br>Rating: 4.8",
          "Title: <b>Spacecraft Dynamics And Control</b><br>Students Enrolled: 12,000<br>Organization: University Of Colorado Boulder<br>Rating: 4.8"
         ],
         "marker": {
          "color": "#1D6996",
          "opacity": 0.4,
          "size": 5
         },
         "mode": "markers",
         "name": "Professional certificate",
         "type": "scatter",
         "x": [
          4.5,
          4.7,
          4.9,
          4.7,
          4.8,
          4.5,
          4.5,
          4.5,
          4.8,
          4.4,
          4.7,
          4.3,
          4.5,
          4.7,
          4.7,
          4.8,
          4.8
         ],
         "xaxis": "x4",
         "y": [
          190000,
          39000,
          170000,
          29000,
          52000,
          140000,
          16000,
          35000,
          42000,
          3500,
          9700,
          60000,
          11000,
          68000,
          22000,
          39000,
          12000
         ],
         "yaxis": "y4"
        }
       ],
       "layout": {
        "annotations": [
         {
          "font": {},
          "showarrow": false,
          "text": "Beginner",
          "x": 0.1175,
          "xanchor": "center",
          "xref": "paper",
          "y": 1,
          "yanchor": "bottom",
          "yref": "paper"
         },
         {
          "font": {},
          "showarrow": false,
          "text": "Intermediate",
          "x": 0.3725,
          "xanchor": "center",
          "xref": "paper",
          "y": 1,
          "yanchor": "bottom",
          "yref": "paper"
         },
         {
          "font": {},
          "showarrow": false,
          "text": "Mixed",
          "x": 0.6275,
          "xanchor": "center",
          "xref": "paper",
          "y": 1,
          "yanchor": "bottom",
          "yref": "paper"
         },
         {
          "font": {},
          "showarrow": false,
          "text": "Advanced",
          "x": 0.8824999999999998,
          "xanchor": "center",
          "xref": "paper",
          "y": 1,
          "yanchor": "bottom",
          "yref": "paper"
         }
        ],
        "height": 700,
        "hoverlabel": {
         "bgcolor": "white",
         "bordercolor": "white",
         "font": {
          "color": "#494a5e"
         }
        },
        "legend": {
         "tracegroupgap": 0
        },
        "margin": {
         "b": 5,
         "t": 70
        },
        "template": {
         "data": {
          "bar": [
           {
            "error_x": {
             "color": "rgb(36,36,36)"
            },
            "error_y": {
             "color": "rgb(36,36,36)"
            },
            "marker": {
             "line": {
              "color": "white",
              "width": 0.5
             },
             "pattern": {
              "fillmode": "overlay",
              "size": 10,
              "solidity": 0.2
             }
            },
            "type": "bar"
           }
          ],
          "barpolar": [
           {
            "marker": {
             "line": {
              "color": "white",
              "width": 0.5
             },
             "pattern": {
              "fillmode": "overlay",
              "size": 10,
              "solidity": 0.2
             }
            },
            "type": "barpolar"
           }
          ],
          "carpet": [
           {
            "aaxis": {
             "endlinecolor": "rgb(36,36,36)",
             "gridcolor": "white",
             "linecolor": "white",
             "minorgridcolor": "white",
             "startlinecolor": "rgb(36,36,36)"
            },
            "baxis": {
             "endlinecolor": "rgb(36,36,36)",
             "gridcolor": "white",
             "linecolor": "white",
             "minorgridcolor": "white",
             "startlinecolor": "rgb(36,36,36)"
            },
            "type": "carpet"
           }
          ],
          "choropleth": [
           {
            "colorbar": {
             "outlinewidth": 1,
             "tickcolor": "rgb(36,36,36)",
             "ticks": "outside"
            },
            "type": "choropleth"
           }
          ],
          "contour": [
           {
            "colorbar": {
             "outlinewidth": 1,
             "tickcolor": "rgb(36,36,36)",
             "ticks": "outside"
            },
            "colorscale": [
             [
              0,
              "#440154"
             ],
             [
              0.1111111111111111,
              "#482878"
             ],
             [
              0.2222222222222222,
              "#3e4989"
             ],
             [
              0.3333333333333333,
              "#31688e"
             ],
             [
              0.4444444444444444,
              "#26828e"
             ],
             [
              0.5555555555555556,
              "#1f9e89"
             ],
             [
              0.6666666666666666,
              "#35b779"
             ],
             [
              0.7777777777777778,
              "#6ece58"
             ],
             [
              0.8888888888888888,
              "#b5de2b"
             ],
             [
              1,
              "#fde725"
             ]
            ],
            "type": "contour"
           }
          ],
          "contourcarpet": [
           {
            "colorbar": {
             "outlinewidth": 1,
             "tickcolor": "rgb(36,36,36)",
             "ticks": "outside"
            },
            "type": "contourcarpet"
           }
          ],
          "heatmap": [
           {
            "colorbar": {
             "outlinewidth": 1,
             "tickcolor": "rgb(36,36,36)",
             "ticks": "outside"
            },
            "colorscale": [
             [
              0,
              "#440154"
             ],
             [
              0.1111111111111111,
              "#482878"
             ],
             [
              0.2222222222222222,
              "#3e4989"
             ],
             [
              0.3333333333333333,
              "#31688e"
             ],
             [
              0.4444444444444444,
              "#26828e"
             ],
             [
              0.5555555555555556,
              "#1f9e89"
             ],
             [
              0.6666666666666666,
              "#35b779"
             ],
             [
              0.7777777777777778,
              "#6ece58"
             ],
             [
              0.8888888888888888,
              "#b5de2b"
             ],
             [
              1,
              "#fde725"
             ]
            ],
            "type": "heatmap"
           }
          ],
          "heatmapgl": [
           {
            "colorbar": {
             "outlinewidth": 1,
             "tickcolor": "rgb(36,36,36)",
             "ticks": "outside"
            },
            "colorscale": [
             [
              0,
              "#440154"
             ],
             [
              0.1111111111111111,
              "#482878"
             ],
             [
              0.2222222222222222,
              "#3e4989"
             ],
             [
              0.3333333333333333,
              "#31688e"
             ],
             [
              0.4444444444444444,
              "#26828e"
             ],
             [
              0.5555555555555556,
              "#1f9e89"
             ],
             [
              0.6666666666666666,
              "#35b779"
             ],
             [
              0.7777777777777778,
              "#6ece58"
             ],
             [
              0.8888888888888888,
              "#b5de2b"
             ],
             [
              1,
              "#fde725"
             ]
            ],
            "type": "heatmapgl"
           }
          ],
          "histogram": [
           {
            "marker": {
             "line": {
              "color": "white",
              "width": 0.6
             }
            },
            "type": "histogram"
           }
          ],
          "histogram2d": [
           {
            "colorbar": {
             "outlinewidth": 1,
             "tickcolor": "rgb(36,36,36)",
             "ticks": "outside"
            },
            "colorscale": [
             [
              0,
              "#440154"
             ],
             [
              0.1111111111111111,
              "#482878"
             ],
             [
              0.2222222222222222,
              "#3e4989"
             ],
             [
              0.3333333333333333,
              "#31688e"
             ],
             [
              0.4444444444444444,
              "#26828e"
             ],
             [
              0.5555555555555556,
              "#1f9e89"
             ],
             [
              0.6666666666666666,
              "#35b779"
             ],
             [
              0.7777777777777778,
              "#6ece58"
             ],
             [
              0.8888888888888888,
              "#b5de2b"
             ],
             [
              1,
              "#fde725"
             ]
            ],
            "type": "histogram2d"
           }
          ],
          "histogram2dcontour": [
           {
            "colorbar": {
             "outlinewidth": 1,
             "tickcolor": "rgb(36,36,36)",
             "ticks": "outside"
            },
            "colorscale": [
             [
              0,
              "#440154"
             ],
             [
              0.1111111111111111,
              "#482878"
             ],
             [
              0.2222222222222222,
              "#3e4989"
             ],
             [
              0.3333333333333333,
              "#31688e"
             ],
             [
              0.4444444444444444,
              "#26828e"
             ],
             [
              0.5555555555555556,
              "#1f9e89"
             ],
             [
              0.6666666666666666,
              "#35b779"
             ],
             [
              0.7777777777777778,
              "#6ece58"
             ],
             [
              0.8888888888888888,
              "#b5de2b"
             ],
             [
              1,
              "#fde725"
             ]
            ],
            "type": "histogram2dcontour"
           }
          ],
          "mesh3d": [
           {
            "colorbar": {
             "outlinewidth": 1,
             "tickcolor": "rgb(36,36,36)",
             "ticks": "outside"
            },
            "type": "mesh3d"
           }
          ],
          "parcoords": [
           {
            "line": {
             "colorbar": {
              "outlinewidth": 1,
              "tickcolor": "rgb(36,36,36)",
              "ticks": "outside"
             }
            },
            "type": "parcoords"
           }
          ],
          "pie": [
           {
            "automargin": true,
            "type": "pie"
           }
          ],
          "scatter": [
           {
            "fillpattern": {
             "fillmode": "overlay",
             "size": 10,
             "solidity": 0.2
            },
            "type": "scatter"
           }
          ],
          "scatter3d": [
           {
            "line": {
             "colorbar": {
              "outlinewidth": 1,
              "tickcolor": "rgb(36,36,36)",
              "ticks": "outside"
             }
            },
            "marker": {
             "colorbar": {
              "outlinewidth": 1,
              "tickcolor": "rgb(36,36,36)",
              "ticks": "outside"
             }
            },
            "type": "scatter3d"
           }
          ],
          "scattercarpet": [
           {
            "marker": {
             "colorbar": {
              "outlinewidth": 1,
              "tickcolor": "rgb(36,36,36)",
              "ticks": "outside"
             }
            },
            "type": "scattercarpet"
           }
          ],
          "scattergeo": [
           {
            "marker": {
             "colorbar": {
              "outlinewidth": 1,
              "tickcolor": "rgb(36,36,36)",
              "ticks": "outside"
             }
            },
            "type": "scattergeo"
           }
          ],
          "scattergl": [
           {
            "marker": {
             "colorbar": {
              "outlinewidth": 1,
              "tickcolor": "rgb(36,36,36)",
              "ticks": "outside"
             }
            },
            "type": "scattergl"
           }
          ],
          "scattermapbox": [
           {
            "marker": {
             "colorbar": {
              "outlinewidth": 1,
              "tickcolor": "rgb(36,36,36)",
              "ticks": "outside"
             }
            },
            "type": "scattermapbox"
           }
          ],
          "scatterpolar": [
           {
            "marker": {
             "colorbar": {
              "outlinewidth": 1,
              "tickcolor": "rgb(36,36,36)",
              "ticks": "outside"
             }
            },
            "type": "scatterpolar"
           }
          ],
          "scatterpolargl": [
           {
            "marker": {
             "colorbar": {
              "outlinewidth": 1,
              "tickcolor": "rgb(36,36,36)",
              "ticks": "outside"
             }
            },
            "type": "scatterpolargl"
           }
          ],
          "scatterternary": [
           {
            "marker": {
             "colorbar": {
              "outlinewidth": 1,
              "tickcolor": "rgb(36,36,36)",
              "ticks": "outside"
             }
            },
            "type": "scatterternary"
           }
          ],
          "surface": [
           {
            "colorbar": {
             "outlinewidth": 1,
             "tickcolor": "rgb(36,36,36)",
             "ticks": "outside"
            },
            "colorscale": [
             [
              0,
              "#440154"
             ],
             [
              0.1111111111111111,
              "#482878"
             ],
             [
              0.2222222222222222,
              "#3e4989"
             ],
             [
              0.3333333333333333,
              "#31688e"
             ],
             [
              0.4444444444444444,
              "#26828e"
             ],
             [
              0.5555555555555556,
              "#1f9e89"
             ],
             [
              0.6666666666666666,
              "#35b779"
             ],
             [
              0.7777777777777778,
              "#6ece58"
             ],
             [
              0.8888888888888888,
              "#b5de2b"
             ],
             [
              1,
              "#fde725"
             ]
            ],
            "type": "surface"
           }
          ],
          "table": [
           {
            "cells": {
             "fill": {
              "color": "rgb(237,237,237)"
             },
             "line": {
              "color": "white"
             }
            },
            "header": {
             "fill": {
              "color": "rgb(217,217,217)"
             },
             "line": {
              "color": "white"
             }
            },
            "type": "table"
           }
          ]
         },
         "layout": {
          "annotationdefaults": {
           "arrowhead": 0,
           "arrowwidth": 1
          },
          "autotypenumbers": "strict",
          "coloraxis": {
           "colorbar": {
            "outlinewidth": 1,
            "tickcolor": "rgb(36,36,36)",
            "ticks": "outside"
           }
          },
          "colorscale": {
           "diverging": [
            [
             0,
             "rgb(103,0,31)"
            ],
            [
             0.1,
             "rgb(178,24,43)"
            ],
            [
             0.2,
             "rgb(214,96,77)"
            ],
            [
             0.3,
             "rgb(244,165,130)"
            ],
            [
             0.4,
             "rgb(253,219,199)"
            ],
            [
             0.5,
             "rgb(247,247,247)"
            ],
            [
             0.6,
             "rgb(209,229,240)"
            ],
            [
             0.7,
             "rgb(146,197,222)"
            ],
            [
             0.8,
             "rgb(67,147,195)"
            ],
            [
             0.9,
             "rgb(33,102,172)"
            ],
            [
             1,
             "rgb(5,48,97)"
            ]
           ],
           "sequential": [
            [
             0,
             "#440154"
            ],
            [
             0.1111111111111111,
             "#482878"
            ],
            [
             0.2222222222222222,
             "#3e4989"
            ],
            [
             0.3333333333333333,
             "#31688e"
            ],
            [
             0.4444444444444444,
             "#26828e"
            ],
            [
             0.5555555555555556,
             "#1f9e89"
            ],
            [
             0.6666666666666666,
             "#35b779"
            ],
            [
             0.7777777777777778,
             "#6ece58"
            ],
            [
             0.8888888888888888,
             "#b5de2b"
            ],
            [
             1,
             "#fde725"
            ]
           ],
           "sequentialminus": [
            [
             0,
             "#440154"
            ],
            [
             0.1111111111111111,
             "#482878"
            ],
            [
             0.2222222222222222,
             "#3e4989"
            ],
            [
             0.3333333333333333,
             "#31688e"
            ],
            [
             0.4444444444444444,
             "#26828e"
            ],
            [
             0.5555555555555556,
             "#1f9e89"
            ],
            [
             0.6666666666666666,
             "#35b779"
            ],
            [
             0.7777777777777778,
             "#6ece58"
            ],
            [
             0.8888888888888888,
             "#b5de2b"
            ],
            [
             1,
             "#fde725"
            ]
           ]
          },
          "colorway": [
           "#1F77B4",
           "#FF7F0E",
           "#2CA02C",
           "#D62728",
           "#9467BD",
           "#8C564B",
           "#E377C2",
           "#7F7F7F",
           "#BCBD22",
           "#17BECF"
          ],
          "font": {
           "color": "rgb(36,36,36)"
          },
          "geo": {
           "bgcolor": "white",
           "lakecolor": "white",
           "landcolor": "white",
           "showlakes": true,
           "showland": true,
           "subunitcolor": "white"
          },
          "hoverlabel": {
           "align": "left"
          },
          "hovermode": "closest",
          "mapbox": {
           "style": "light"
          },
          "paper_bgcolor": "white",
          "plot_bgcolor": "white",
          "polar": {
           "angularaxis": {
            "gridcolor": "rgb(232,232,232)",
            "linecolor": "rgb(36,36,36)",
            "showgrid": false,
            "showline": true,
            "ticks": "outside"
           },
           "bgcolor": "white",
           "radialaxis": {
            "gridcolor": "rgb(232,232,232)",
            "linecolor": "rgb(36,36,36)",
            "showgrid": false,
            "showline": true,
            "ticks": "outside"
           }
          },
          "scene": {
           "xaxis": {
            "backgroundcolor": "white",
            "gridcolor": "rgb(232,232,232)",
            "gridwidth": 2,
            "linecolor": "rgb(36,36,36)",
            "showbackground": true,
            "showgrid": false,
            "showline": true,
            "ticks": "outside",
            "zeroline": false,
            "zerolinecolor": "rgb(36,36,36)"
           },
           "yaxis": {
            "backgroundcolor": "white",
            "gridcolor": "rgb(232,232,232)",
            "gridwidth": 2,
            "linecolor": "rgb(36,36,36)",
            "showbackground": true,
            "showgrid": false,
            "showline": true,
            "ticks": "outside",
            "zeroline": false,
            "zerolinecolor": "rgb(36,36,36)"
           },
           "zaxis": {
            "backgroundcolor": "white",
            "gridcolor": "rgb(232,232,232)",
            "gridwidth": 2,
            "linecolor": "rgb(36,36,36)",
            "showbackground": true,
            "showgrid": false,
            "showline": true,
            "ticks": "outside",
            "zeroline": false,
            "zerolinecolor": "rgb(36,36,36)"
           }
          },
          "shapedefaults": {
           "fillcolor": "black",
           "line": {
            "width": 0
           },
           "opacity": 0.3
          },
          "ternary": {
           "aaxis": {
            "gridcolor": "rgb(232,232,232)",
            "linecolor": "rgb(36,36,36)",
            "showgrid": false,
            "showline": true,
            "ticks": "outside"
           },
           "baxis": {
            "gridcolor": "rgb(232,232,232)",
            "linecolor": "rgb(36,36,36)",
            "showgrid": false,
            "showline": true,
            "ticks": "outside"
           },
           "bgcolor": "white",
           "caxis": {
            "gridcolor": "rgb(232,232,232)",
            "linecolor": "rgb(36,36,36)",
            "showgrid": false,
            "showline": true,
            "ticks": "outside"
           }
          },
          "title": {
           "x": 0.05
          },
          "xaxis": {
           "automargin": true,
           "gridcolor": "rgb(232,232,232)",
           "linecolor": "rgb(36,36,36)",
           "showgrid": false,
           "showline": true,
           "ticks": "outside",
           "title": {
            "standoff": 15
           },
           "zeroline": false,
           "zerolinecolor": "rgb(36,36,36)"
          },
          "yaxis": {
           "automargin": true,
           "gridcolor": "rgb(232,232,232)",
           "linecolor": "rgb(36,36,36)",
           "showgrid": false,
           "showline": true,
           "ticks": "outside",
           "title": {
            "standoff": 15
           },
           "zeroline": false,
           "zerolinecolor": "rgb(36,36,36)"
          }
         }
        },
        "title": {
         "text": "Enrollments and ratings per course difficulty"
        },
        "width": 1000,
        "xaxis": {
         "anchor": "y",
         "domain": [
          0,
          0.235
         ],
         "title": {
          "text": ""
         }
        },
        "xaxis2": {
         "anchor": "y2",
         "domain": [
          0.255,
          0.49
         ],
         "matches": "x",
         "title": {
          "text": ""
         }
        },
        "xaxis3": {
         "anchor": "y3",
         "domain": [
          0.51,
          0.745
         ],
         "matches": "x",
         "title": {
          "text": ""
         }
        },
        "xaxis4": {
         "anchor": "y4",
         "domain": [
          0.7649999999999999,
          0.9999999999999999
         ],
         "matches": "x",
         "title": {
          "text": ""
         }
        },
        "yaxis": {
         "anchor": "x",
         "domain": [
          0,
          1
         ],
         "title": {
          "text": "Students enrolled"
         }
        },
        "yaxis2": {
         "anchor": "x2",
         "domain": [
          0,
          1
         ],
         "matches": "y",
         "showticklabels": false
        },
        "yaxis3": {
         "anchor": "x3",
         "domain": [
          0,
          1
         ],
         "matches": "y",
         "showticklabels": false
        },
        "yaxis4": {
         "anchor": "x4",
         "domain": [
          0,
          1
         ],
         "matches": "y",
         "showticklabels": false
        }
       }
      },
      "image/svg+xml": [
       "<svg class=\"main-svg\" xmlns=\"http://www.w3.org/2000/svg\" xmlns:xlink=\"http://www.w3.org/1999/xlink\" width=\"1000\" height=\"700\" style=\"\" viewBox=\"0 0 1000 700\"><rect x=\"0\" y=\"0\" width=\"1000\" height=\"700\" style=\"fill: rgb(255, 255, 255); fill-opacity: 1;\"/><defs id=\"defs-4f95cf\"><g class=\"clips\"><clipPath id=\"clip4f95cfxyplot\" class=\"plotclip\"><rect width=\"193.875\" height=\"577\"/></clipPath><clipPath id=\"clip4f95cfx2y2plot\" class=\"plotclip\"><rect width=\"193.875\" height=\"577\"/></clipPath><clipPath id=\"clip4f95cfx3y3plot\" class=\"plotclip\"><rect width=\"193.875\" height=\"577\"/></clipPath><clipPath id=\"clip4f95cfx4y4plot\" class=\"plotclip\"><rect width=\"193.875\" height=\"577\"/></clipPath><clipPath class=\"axesclip\" id=\"clip4f95cfx\"><rect x=\"80\" y=\"0\" width=\"193.875\" height=\"700\"/></clipPath><clipPath class=\"axesclip\" id=\"clip4f95cfy\"><rect x=\"0\" y=\"70\" width=\"1000\" height=\"577\"/></clipPath><clipPath class=\"axesclip\" id=\"clip4f95cfxy\"><rect x=\"80\" y=\"70\" width=\"193.875\" height=\"577\"/></clipPath><clipPath class=\"axesclip\" id=\"clip4f95cfy2\"><rect x=\"0\" y=\"70\" width=\"1000\" height=\"577\"/></clipPath><clipPath class=\"axesclip\" id=\"clip4f95cfxy2\"><rect x=\"80\" y=\"70\" width=\"193.875\" height=\"577\"/></clipPath><clipPath class=\"axesclip\" id=\"clip4f95cfy3\"><rect x=\"0\" y=\"70\" width=\"1000\" height=\"577\"/></clipPath><clipPath class=\"axesclip\" id=\"clip4f95cfxy3\"><rect x=\"80\" y=\"70\" width=\"193.875\" height=\"577\"/></clipPath><clipPath class=\"axesclip\" id=\"clip4f95cfy4\"><rect x=\"0\" y=\"70\" width=\"1000\" height=\"577\"/></clipPath><clipPath class=\"axesclip\" id=\"clip4f95cfxy4\"><rect x=\"80\" y=\"70\" width=\"193.875\" height=\"577\"/></clipPath><clipPath class=\"axesclip\" id=\"clip4f95cfx2\"><rect x=\"290.375\" y=\"0\" width=\"193.875\" height=\"700\"/></clipPath><clipPath class=\"axesclip\" id=\"clip4f95cfx2y\"><rect x=\"290.375\" y=\"70\" width=\"193.875\" height=\"577\"/></clipPath><clipPath class=\"axesclip\" id=\"clip4f95cfx2y2\"><rect x=\"290.375\" y=\"70\" width=\"193.875\" height=\"577\"/></clipPath><clipPath class=\"axesclip\" id=\"clip4f95cfx2y3\"><rect x=\"290.375\" y=\"70\" width=\"193.875\" height=\"577\"/></clipPath><clipPath class=\"axesclip\" id=\"clip4f95cfx2y4\"><rect x=\"290.375\" y=\"70\" width=\"193.875\" height=\"577\"/></clipPath><clipPath class=\"axesclip\" id=\"clip4f95cfx3\"><rect x=\"500.75\" y=\"0\" width=\"193.875\" height=\"700\"/></clipPath><clipPath class=\"axesclip\" id=\"clip4f95cfx3y\"><rect x=\"500.75\" y=\"70\" width=\"193.875\" height=\"577\"/></clipPath><clipPath class=\"axesclip\" id=\"clip4f95cfx3y2\"><rect x=\"500.75\" y=\"70\" width=\"193.875\" height=\"577\"/></clipPath><clipPath class=\"axesclip\" id=\"clip4f95cfx3y3\"><rect x=\"500.75\" y=\"70\" width=\"193.875\" height=\"577\"/></clipPath><clipPath class=\"axesclip\" id=\"clip4f95cfx3y4\"><rect x=\"500.75\" y=\"70\" width=\"193.875\" height=\"577\"/></clipPath><clipPath class=\"axesclip\" id=\"clip4f95cfx4\"><rect x=\"711.1249999999999\" y=\"0\" width=\"193.875\" height=\"700\"/></clipPath><clipPath class=\"axesclip\" id=\"clip4f95cfx4y\"><rect x=\"711.1249999999999\" y=\"70\" width=\"193.875\" height=\"577\"/></clipPath><clipPath class=\"axesclip\" id=\"clip4f95cfx4y2\"><rect x=\"711.1249999999999\" y=\"70\" width=\"193.875\" height=\"577\"/></clipPath><clipPath class=\"axesclip\" id=\"clip4f95cfx4y3\"><rect x=\"711.1249999999999\" y=\"70\" width=\"193.875\" height=\"577\"/></clipPath><clipPath class=\"axesclip\" id=\"clip4f95cfx4y4\"><rect x=\"711.1249999999999\" y=\"70\" width=\"193.875\" height=\"577\"/></clipPath><clipPath class=\"contourclip\" id=\"clip19825c\"/><clipPath class=\"contourclip\" id=\"clip28db59\"/><clipPath class=\"contourclip\" id=\"clipab3f0a\"/><clipPath class=\"contourclip\" id=\"clipd8058b\"/></g><g class=\"gradients\"/><g class=\"patterns\"/></defs><g class=\"bglayer\"/><g class=\"layer-below\"><g class=\"imagelayer\"/><g class=\"shapelayer\"/></g><g class=\"cartesianlayer\"><g class=\"subplot xy\"><g class=\"layer-subplot\"><g class=\"shapelayer\"/><g class=\"imagelayer\"/></g><g class=\"minor-gridlayer\"><g class=\"x\"/><g class=\"y\"/></g><g class=\"gridlayer\"><g class=\"x\"/><g class=\"y\"/></g><g class=\"zerolinelayer\"/><g class=\"layer-between\"><g class=\"shapelayer\"/><g class=\"imagelayer\"/></g><path class=\"xlines-below\"/><path class=\"ylines-below\"/><g class=\"overlines-below\"/><g class=\"xaxislayer-below\"/><g class=\"yaxislayer-below\"/><g class=\"overaxes-below\"/><g class=\"overplot\"><g class=\"xy\" transform=\"translate(80,70)\" clip-path=\"url(#clip4f95cfxyplot)\"><g class=\"contourlayer mlayer\"><g class=\"contour\" style=\"opacity: 1;\"><g class=\"heatmapcoloring\"/><g class=\"contourbg\"><path d=\"M0,0L193.87,0L193.87,575.13L0,575.13Z\" style=\"stroke: none; fill: rgb(247, 251, 255);\"/></g><g class=\"contourfill\"><path d=\"M43.08,543.53C38.91,540.06 34.62,535.32 34.47,530.89C34.31,526.21 40.6,522.1 43.08,516.14C46.39,508.17 47.58,496.76 50.92,486.65C54.6,475.52 60.3,460.05 64.62,452.24C67.1,447.76 70.66,447.2 71.81,442.41C74.01,433.22 61.58,410.89 64.62,398.17C67.37,386.69 81.67,377.09 86.17,368.67C89.12,363.15 89.92,360.26 91.55,353.93C94.31,343.23 95.79,324.4 98.48,309.68C101.18,294.9 101.86,266.86 107.71,265.44C112.79,264.21 124.35,283.69 129.25,291.99C132.91,298.19 134.86,302.28 136.43,309.68C138.82,320.95 136.39,339.23 137.87,353.93C139.36,368.73 143.93,383.37 145.41,398.17C146.88,412.87 145.94,427.49 146.75,442.41C147.58,457.71 147.13,473.98 150.36,488.86C153.53,503.45 166.54,518.41 165.71,530.89C165.01,541.47 157.59,552.9 150.79,559.33C144.95,564.85 136.61,567.47 129.25,569.15C122.23,570.75 114.89,569.66 107.71,569.6C100.53,569.54 93.01,571.19 86.17,568.81C78.56,566.16 72.04,557.3 64.62,553.01C57.65,548.99 48.26,547.83 43.08,543.53Z\" style=\"stroke: none; fill: rgb(225, 237, 248);\"/><path d=\"M86.17,562.49C77.63,557.57 68.93,542.94 64.62,530.89C59.98,517.9 59.34,496 60.71,486.65C61.38,482.09 62.43,480.82 64.62,476.82C68.71,469.35 79.49,452.11 86.17,446.83C89.92,443.87 94.25,445.93 96.94,442.41C102.19,435.51 99.75,408.86 102.32,398.17C103.84,391.82 103.95,385.6 107.71,383.42C112.15,380.85 125.52,383.63 129.25,387.11C131.94,389.62 130.89,393.23 131.94,398.17C134.03,407.98 137.74,427.63 140.02,442.41C142.29,457.13 143.56,473.81 145.62,486.65C147.23,496.65 148.57,505.32 150.79,513.19C152.65,519.77 157.75,525.55 157.42,530.89C157.13,535.53 154.16,539.17 150.79,543.53C145.98,549.77 137.06,559.96 129.25,563.17C122.53,565.93 114.89,564.18 107.71,564.07C100.53,563.96 92.59,566.19 86.17,562.49Z\" style=\"stroke: none; fill: rgb(203, 223, 241);\"/><path d=\"M86.17,556.17C78.91,551.81 71.45,541.04 68.93,530.89C65.89,518.65 69.71,497.7 73.86,486.65C76.75,478.96 81.1,474.71 86.17,468.95C92.05,462.27 101.3,454.15 107.71,449.49C112.19,446.23 116.63,446.04 120.02,442.41C124.15,437.98 127.03,423.18 129.25,423.45C131.38,423.71 131.78,434.76 133.29,442.41C135.59,454.06 138.55,471.91 141.31,486.65C144.07,501.4 152.83,518.6 149.86,530.89C147.3,541.48 137.26,552.97 129.25,557.19C122.81,560.58 114.88,558.71 107.71,558.54C100.52,558.37 92.28,559.84 86.17,556.17Z\" style=\"stroke: none; fill: rgb(171, 208, 230);\"/><path d=\"M86.17,549.85C80.31,546.18 74.41,538.83 73.24,530.89C71.61,519.78 80.58,500.59 86.80000000000001,488.03C92.39,476.74 99.59,464.56 107.71,458.33C114.16,453.38 124.34,447.74 129.25,450.45C135.49,453.9 134.48,473.96 137.01,486.65C139.8,500.64 147.98,519.45 145.17,530.89C143.04,539.56 135.88,547.63 129.25,551.21C123.18,554.48 114.88,553.23 107.71,553.01C100.52,552.79 91.88,553.42 86.17,549.85Z\" style=\"stroke: none; fill: rgb(130, 186, 219);\"/><path d=\"M86.17,543.53C81.87,540.73 78.33,536.15 77.55,530.89C76.47,523.65 83.12,511.2 86.17,503.24C88.59,496.92 90.53,492.24 93.77,486.65C97.49,480.24 101.59,469.74 107.71,467.18C113.55,464.73 125.2,466.73 129.25,470.56C132.77,473.89 131.39,479.94 132.7,486.65C134.86,497.73 143.07,520.56 140.49,530.89C138.84,537.47 134.36,542.42 129.25,545.24C123.68,548.32 114.87,547.76 107.71,547.48C100.51,547.2 91.31,546.88 86.17,543.53Z\" style=\"stroke: none; fill: rgb(89, 162, 207);\"/><path d=\"M86.17,537.21C83.7,535.54 82.25,533.52 81.86,530.89C81.32,527.27 84.09,522.49 86.17,517.06C89.33,508.81 95.83,494.04 100.11,486.65C102.79,482.04 104.17,476.8 107.71,476.03C112.23,475.05 122.78,483.21 126.17,486.65C128.02,488.52 128.27,489.38 129.25,492.18C131.7,499.15 137.82,522.95 135.81,530.89C134.76,535.02 132.61,537.36 129.25,539.26C124.46,541.97 114.86,542.28 107.71,541.95C100.5,541.62 90.37,540.05 86.17,537.21Z\" style=\"stroke: none; fill: rgb(55, 135, 192);\"/><path d=\"M107.71,536.42C100.43,536.2 88.61,536.03 86.17,530.89C82.53,523.21 102.06,488.2 107.07499999999999,485.765C108.46,485.09 109.38,485.58 110.79,486.65C115.24,490.02 126.67,511.24 129.25,519.83C130.72,524.72 132.33,529.28 130.185,532.085C127.26,535.91 115.1,536.64 107.71,536.42Z\" style=\"stroke: none; fill: rgb(27, 106, 175);\"/></g><g class=\"contourlines\"><g class=\"contourlevel\"><path class=\"closedline\" d=\"M43.08,543.53C38.91,540.06 34.62,535.32 34.47,530.89C34.31,526.21 40.6,522.1 43.08,516.14C46.39,508.17 47.58,496.76 50.92,486.65C54.6,475.52 60.3,460.05 64.62,452.24C67.1,447.76 70.66,447.2 71.81,442.41C74.01,433.22 61.58,410.89 64.62,398.17C67.37,386.69 81.67,377.09 86.17,368.67C89.12,363.15 89.92,360.26 91.55,353.93C94.31,343.23 95.79,324.4 98.48,309.68C101.18,294.9 101.86,266.86 107.71,265.44C112.79,264.21 124.35,283.69 129.25,291.99C132.91,298.19 134.86,302.28 136.43,309.68C138.82,320.95 136.39,339.23 137.87,353.93C139.36,368.73 143.93,383.37 145.41,398.17C146.88,412.87 145.94,427.49 146.75,442.41C147.58,457.71 147.13,473.98 150.36,488.86C153.53,503.45 166.54,518.41 165.71,530.89C165.01,541.47 157.59,552.9 150.79,559.33C144.95,564.85 136.61,567.47 129.25,569.15C122.23,570.75 114.89,569.66 107.71,569.6C100.53,569.54 93.01,571.19 86.17,568.81C78.56,566.16 72.04,557.3 64.62,553.01C57.65,548.99 48.26,547.83 43.08,543.53Z\" style=\"stroke-miterlimit: 1; vector-effect: none; fill: none; stroke: rgb(31, 119, 180); stroke-opacity: 1; stroke-width: 0.5px;\"/></g><g class=\"contourlevel\"><path class=\"closedline\" d=\"M86.17,562.49C77.63,557.57 68.93,542.94 64.62,530.89C59.98,517.9 59.34,496 60.71,486.65C61.38,482.09 62.43,480.82 64.62,476.82C68.71,469.35 79.49,452.11 86.17,446.83C89.92,443.87 94.25,445.93 96.94,442.41C102.19,435.51 99.75,408.86 102.32,398.17C103.84,391.82 103.95,385.6 107.71,383.42C112.15,380.85 125.52,383.63 129.25,387.11C131.94,389.62 130.89,393.23 131.94,398.17C134.03,407.98 137.74,427.63 140.02,442.41C142.29,457.13 143.56,473.81 145.62,486.65C147.23,496.65 148.57,505.32 150.79,513.19C152.65,519.77 157.75,525.55 157.42,530.89C157.13,535.53 154.16,539.17 150.79,543.53C145.98,549.77 137.06,559.96 129.25,563.17C122.53,565.93 114.89,564.18 107.71,564.07C100.53,563.96 92.59,566.19 86.17,562.49Z\" style=\"stroke-miterlimit: 1; vector-effect: none; fill: none; stroke: rgb(31, 119, 180); stroke-opacity: 1; stroke-width: 0.5px;\"/></g><g class=\"contourlevel\"><path class=\"closedline\" d=\"M86.17,556.17C78.91,551.81 71.45,541.04 68.93,530.89C65.89,518.65 69.71,497.7 73.86,486.65C76.75,478.96 81.1,474.71 86.17,468.95C92.05,462.27 101.3,454.15 107.71,449.49C112.19,446.23 116.63,446.04 120.02,442.41C124.15,437.98 127.03,423.18 129.25,423.45C131.38,423.71 131.78,434.76 133.29,442.41C135.59,454.06 138.55,471.91 141.31,486.65C144.07,501.4 152.83,518.6 149.86,530.89C147.3,541.48 137.26,552.97 129.25,557.19C122.81,560.58 114.88,558.71 107.71,558.54C100.52,558.37 92.28,559.84 86.17,556.17Z\" style=\"stroke-miterlimit: 1; vector-effect: none; fill: none; stroke: rgb(31, 119, 180); stroke-opacity: 1; stroke-width: 0.5px;\"/></g><g class=\"contourlevel\"><path class=\"closedline\" d=\"M86.17,549.85C80.31,546.18 74.41,538.83 73.24,530.89C71.61,519.78 80.58,500.59 86.80000000000001,488.03C92.39,476.74 99.59,464.56 107.71,458.33C114.16,453.38 124.34,447.74 129.25,450.45C135.49,453.9 134.48,473.96 137.01,486.65C139.8,500.64 147.98,519.45 145.17,530.89C143.04,539.56 135.88,547.63 129.25,551.21C123.18,554.48 114.88,553.23 107.71,553.01C100.52,552.79 91.88,553.42 86.17,549.85Z\" style=\"stroke-miterlimit: 1; vector-effect: none; fill: none; stroke: rgb(31, 119, 180); stroke-opacity: 1; stroke-width: 0.5px;\"/></g><g class=\"contourlevel\"><path class=\"closedline\" d=\"M86.17,543.53C81.87,540.73 78.33,536.15 77.55,530.89C76.47,523.65 83.12,511.2 86.17,503.24C88.59,496.92 90.53,492.24 93.77,486.65C97.49,480.24 101.59,469.74 107.71,467.18C113.55,464.73 125.2,466.73 129.25,470.56C132.77,473.89 131.39,479.94 132.7,486.65C134.86,497.73 143.07,520.56 140.49,530.89C138.84,537.47 134.36,542.42 129.25,545.24C123.68,548.32 114.87,547.76 107.71,547.48C100.51,547.2 91.31,546.88 86.17,543.53Z\" style=\"stroke-miterlimit: 1; vector-effect: none; fill: none; stroke: rgb(31, 119, 180); stroke-opacity: 1; stroke-width: 0.5px;\"/></g><g class=\"contourlevel\"><path class=\"closedline\" d=\"M86.17,537.21C83.7,535.54 82.25,533.52 81.86,530.89C81.32,527.27 84.09,522.49 86.17,517.06C89.33,508.81 95.83,494.04 100.11,486.65C102.79,482.04 104.17,476.8 107.71,476.03C112.23,475.05 122.78,483.21 126.17,486.65C128.02,488.52 128.27,489.38 129.25,492.18C131.7,499.15 137.82,522.95 135.81,530.89C134.76,535.02 132.61,537.36 129.25,539.26C124.46,541.97 114.86,542.28 107.71,541.95C100.5,541.62 90.37,540.05 86.17,537.21Z\" style=\"stroke-miterlimit: 1; vector-effect: none; fill: none; stroke: rgb(31, 119, 180); stroke-opacity: 1; stroke-width: 0.5px;\"/></g><g class=\"contourlevel\"><path class=\"closedline\" d=\"M107.71,536.42C100.43,536.2 88.61,536.03 86.17,530.89C82.53,523.21 102.06,488.2 107.07499999999999,485.765C108.46,485.09 109.38,485.58 110.79,486.65C115.24,490.02 126.67,511.24 129.25,519.83C130.72,524.72 132.33,529.28 130.185,532.085C127.26,535.91 115.1,536.64 107.71,536.42Z\" style=\"stroke-miterlimit: 1; vector-effect: none; fill: none; stroke: rgb(31, 119, 180); stroke-opacity: 1; stroke-width: 0.5px;\"/></g><g class=\"contourlevel\"/><g class=\"contourlevel\"/></g></g></g></g></g><path class=\"xlines-above crisp\" d=\"M79,647.5H273.875\" style=\"fill: none; stroke-width: 1px; stroke: rgb(36, 36, 36); stroke-opacity: 1;\"/><path class=\"ylines-above crisp\" d=\"M79.5,70V647\" style=\"fill: none; stroke-width: 1px; stroke: rgb(36, 36, 36); stroke-opacity: 1;\"/><g class=\"overlines-above\"/><g class=\"xaxislayer-above\"><path class=\"xtick ticks crisp\" d=\"M0,648v5\" transform=\"translate(80,0)\" style=\"stroke: rgb(68, 68, 68); stroke-opacity: 1; stroke-width: 1px;\"/><path class=\"xtick ticks crisp\" d=\"M0,648v5\" transform=\"translate(123.08,0)\" style=\"stroke: rgb(68, 68, 68); stroke-opacity: 1; stroke-width: 1px;\"/><path class=\"xtick ticks crisp\" d=\"M0,648v5\" transform=\"translate(166.17000000000002,0)\" style=\"stroke: rgb(68, 68, 68); stroke-opacity: 1; stroke-width: 1px;\"/><path class=\"xtick ticks crisp\" d=\"M0,648v5\" transform=\"translate(209.25,0)\" style=\"stroke: rgb(68, 68, 68); stroke-opacity: 1; stroke-width: 1px;\"/><path class=\"xtick ticks crisp\" d=\"M0,648v5\" transform=\"translate(252.33,0)\" style=\"stroke: rgb(68, 68, 68); stroke-opacity: 1; stroke-width: 1px;\"/><g class=\"xtick\"><text text-anchor=\"middle\" x=\"0\" y=\"667.4\" transform=\"translate(80,0)\" style=\"font-family: 'Open Sans', verdana, arial, sans-serif; font-size: 12px; fill: rgb(36, 36, 36); fill-opacity: 1; white-space: pre; opacity: 1;\">4.2</text></g><g class=\"xtick\"><text text-anchor=\"middle\" x=\"0\" y=\"667.4\" style=\"font-family: 'Open Sans', verdana, arial, sans-serif; font-size: 12px; fill: rgb(36, 36, 36); fill-opacity: 1; white-space: pre; opacity: 1;\" transform=\"translate(123.08,0)\">4.4</text></g><g class=\"xtick\"><text text-anchor=\"middle\" x=\"0\" y=\"667.4\" style=\"font-family: 'Open Sans', verdana, arial, sans-serif; font-size: 12px; fill: rgb(36, 36, 36); fill-opacity: 1; white-space: pre; opacity: 1;\" transform=\"translate(166.17000000000002,0)\">4.6</text></g><g class=\"xtick\"><text text-anchor=\"middle\" x=\"0\" y=\"667.4\" style=\"font-family: 'Open Sans', verdana, arial, sans-serif; font-size: 12px; fill: rgb(36, 36, 36); fill-opacity: 1; white-space: pre; opacity: 1;\" transform=\"translate(209.25,0)\">4.8</text></g><g class=\"xtick\"><text text-anchor=\"middle\" x=\"0\" y=\"667.4\" style=\"font-family: 'Open Sans', verdana, arial, sans-serif; font-size: 12px; fill: rgb(36, 36, 36); fill-opacity: 1; white-space: pre; opacity: 1;\" transform=\"translate(252.33,0)\">5</text></g></g><g class=\"yaxislayer-above\"><path class=\"ytick ticks crisp\" d=\"M79,0h-5\" transform=\"translate(0,623.01)\" style=\"stroke: rgb(68, 68, 68); stroke-opacity: 1; stroke-width: 1px;\"/><path class=\"ytick ticks crisp\" d=\"M79,0h-5\" transform=\"translate(0,512.4100000000001)\" style=\"stroke: rgb(68, 68, 68); stroke-opacity: 1; stroke-width: 1px;\"/><path class=\"ytick ticks crisp\" d=\"M79,0h-5\" transform=\"translate(0,401.8)\" style=\"stroke: rgb(68, 68, 68); stroke-opacity: 1; stroke-width: 1px;\"/><path class=\"ytick ticks crisp\" d=\"M79,0h-5\" transform=\"translate(0,291.2)\" style=\"stroke: rgb(68, 68, 68); stroke-opacity: 1; stroke-width: 1px;\"/><path class=\"ytick ticks crisp\" d=\"M79,0h-5\" transform=\"translate(0,180.6)\" style=\"stroke: rgb(68, 68, 68); stroke-opacity: 1; stroke-width: 1px;\"/><path class=\"ytick ticks crisp\" d=\"M79,0h-5\" transform=\"translate(0,70)\" style=\"stroke: rgb(68, 68, 68); stroke-opacity: 1; stroke-width: 1px;\"/><g class=\"ytick\"><text text-anchor=\"end\" x=\"71.6\" y=\"4.199999999999999\" transform=\"translate(0,623.01)\" style=\"font-family: 'Open Sans', verdana, arial, sans-serif; font-size: 12px; fill: rgb(36, 36, 36); fill-opacity: 1; white-space: pre; opacity: 1;\">0</text></g><g class=\"ytick\"><text text-anchor=\"end\" x=\"71.6\" y=\"4.199999999999999\" style=\"font-family: 'Open Sans', verdana, arial, sans-serif; font-size: 12px; fill: rgb(36, 36, 36); fill-opacity: 1; white-space: pre; opacity: 1;\" transform=\"translate(0,512.4100000000001)\">50k</text></g><g class=\"ytick\"><text text-anchor=\"end\" x=\"71.6\" y=\"4.199999999999999\" style=\"font-family: 'Open Sans', verdana, arial, sans-serif; font-size: 12px; fill: rgb(36, 36, 36); fill-opacity: 1; white-space: pre; opacity: 1;\" transform=\"translate(0,401.8)\">100k</text></g><g class=\"ytick\"><text text-anchor=\"end\" x=\"71.6\" y=\"4.199999999999999\" style=\"font-family: 'Open Sans', verdana, arial, sans-serif; font-size: 12px; fill: rgb(36, 36, 36); fill-opacity: 1; white-space: pre; opacity: 1;\" transform=\"translate(0,291.2)\">150k</text></g><g class=\"ytick\"><text text-anchor=\"end\" x=\"71.6\" y=\"4.199999999999999\" style=\"font-family: 'Open Sans', verdana, arial, sans-serif; font-size: 12px; fill: rgb(36, 36, 36); fill-opacity: 1; white-space: pre; opacity: 1;\" transform=\"translate(0,180.6)\">200k</text></g><g class=\"ytick\"><text text-anchor=\"end\" x=\"71.6\" y=\"4.199999999999999\" style=\"font-family: 'Open Sans', verdana, arial, sans-serif; font-size: 12px; fill: rgb(36, 36, 36); fill-opacity: 1; white-space: pre; opacity: 1;\" transform=\"translate(0,70)\">250k</text></g></g><g class=\"overaxes-above\"/></g><g class=\"subplot x2y2\"><g class=\"layer-subplot\"><g class=\"shapelayer\"/><g class=\"imagelayer\"/></g><g class=\"minor-gridlayer\"><g class=\"x2\"/><g class=\"y2\"/></g><g class=\"gridlayer\"><g class=\"x2\"/><g class=\"y2\"/></g><g class=\"zerolinelayer\"/><g class=\"layer-between\"><g class=\"shapelayer\"/><g class=\"imagelayer\"/></g><path class=\"xlines-below\"/><path class=\"ylines-below\"/><g class=\"overlines-below\"/><g class=\"xaxislayer-below\"/><g class=\"yaxislayer-below\"/><g class=\"overaxes-below\"/><g class=\"overplot\"><g class=\"x2y2\" transform=\"translate(290.375,70)\" clip-path=\"url(#clip4f95cfx2y2plot)\"><g class=\"contourlayer mlayer\"><g class=\"contour\" style=\"opacity: 1;\"><g class=\"heatmapcoloring\"/><g class=\"contourbg\"><path d=\"M0,0L193.87,0L193.87,575.13L0,575.13Z\" style=\"stroke: none; fill: rgb(247, 251, 255);\"/></g><g class=\"contourfill\"><path d=\"M43.08,538.26C40.87,535.7 39.49,533.35 39.49,530.89C39.49,528.43 41.07,526.51 43.08,523.51C47.07,517.56 56.62,504.11 64.62,499.29C71.24,495.3 82.65,497.29 86.17,494.02C88.25,492.09 88.23,489.81 88.56,486.65C89.11,481.3 87.45,471.86 86.17,464.53C84.87,457.11 80.78,449.78 80.78,442.41C80.78,435.04 83.56,427.53 86.17,420.29C88.88,412.77 93.04,404.65 96.94,398.17C100.3,392.59 105.18,382.98 107.71,383.42C110.03,383.83 109.92,391.99 112.02,398.17C115.71,409.03 124.2,427.55 129.25,442.41C134.23,457.05 138.57,471.82 142.17,486.65C145.73,501.32 153.44,517.82 150.79,530.89C148.34,542.97 137.8,558.9 129.25,562.84C122.84,565.8 114.8,561.98 107.71,560.38C100.44,558.74 93.45,554.22 86.17,553.01C79.08,551.83 71.49,555.14 64.62,553.01C57.06,550.67 47.03,542.84 43.08,538.26Z\" style=\"stroke: none; fill: rgb(225, 237, 248);\"/><path d=\"M107.71,545.63C100.21,542.35 88.74,538.43 86.17,530.89C82.74,520.82 96.44,498.28 100.53,486.65C103.23,478.97 103.34,469.32 107.71,467.69C112.51,465.9 125.85,475.07 129.25,479.27C131.16,481.62 130.45,483.14 131.4,486.65C133.72,495.19 144.52,519.43 142.51,530.89C141.06,539.15 135.21,548.2 129.25,550.55C123.5,552.82 114.61,548.65 107.71,545.63Z\" style=\"stroke: none; fill: rgb(203, 223, 241);\"/><path d=\"M129.25,538.26C124.86,539.73 108.49,534.84 107.71,530.89C106.83,526.45 124.9,510.6 129.25,511.93C132.84,513.03 135.02,526.17 134.22,530.89C133.68,534.07 131.99,537.34 129.25,538.26Z\" style=\"stroke: none; fill: rgb(171, 208, 230);\"/></g><g class=\"contourlines\"><g class=\"contourlevel\"><path class=\"closedline\" d=\"M43.08,538.26C40.87,535.7 39.49,533.35 39.49,530.89C39.49,528.43 41.07,526.51 43.08,523.51C47.07,517.56 56.62,504.11 64.62,499.29C71.24,495.3 82.65,497.29 86.17,494.02C88.25,492.09 88.23,489.81 88.56,486.65C89.11,481.3 87.45,471.86 86.17,464.53C84.87,457.11 80.78,449.78 80.78,442.41C80.78,435.04 83.56,427.53 86.17,420.29C88.88,412.77 93.04,404.65 96.94,398.17C100.3,392.59 105.18,382.98 107.71,383.42C110.03,383.83 109.92,391.99 112.02,398.17C115.71,409.03 124.2,427.55 129.25,442.41C134.23,457.05 138.57,471.82 142.17,486.65C145.73,501.32 153.44,517.82 150.79,530.89C148.34,542.97 137.8,558.9 129.25,562.84C122.84,565.8 114.8,561.98 107.71,560.38C100.44,558.74 93.45,554.22 86.17,553.01C79.08,551.83 71.49,555.14 64.62,553.01C57.06,550.67 47.03,542.84 43.08,538.26Z\" style=\"stroke-miterlimit: 1; vector-effect: none; fill: none; stroke: rgb(31, 119, 180); stroke-opacity: 1; stroke-width: 0.5px;\"/></g><g class=\"contourlevel\"><path class=\"closedline\" d=\"M107.71,545.63C100.21,542.35 88.74,538.43 86.17,530.89C82.74,520.82 96.44,498.28 100.53,486.65C103.23,478.97 103.34,469.32 107.71,467.69C112.51,465.9 125.85,475.07 129.25,479.27C131.16,481.62 130.45,483.14 131.4,486.65C133.72,495.19 144.52,519.43 142.51,530.89C141.06,539.15 135.21,548.2 129.25,550.55C123.5,552.82 114.61,548.65 107.71,545.63Z\" style=\"stroke-miterlimit: 1; vector-effect: none; fill: none; stroke: rgb(31, 119, 180); stroke-opacity: 1; stroke-width: 0.5px;\"/></g><g class=\"contourlevel\"><path class=\"closedline\" d=\"M129.25,538.26C124.86,539.73 108.49,534.84 107.71,530.89C106.83,526.45 124.9,510.6 129.25,511.93C132.84,513.03 135.02,526.17 134.22,530.89C133.68,534.07 131.99,537.34 129.25,538.26Z\" style=\"stroke-miterlimit: 1; vector-effect: none; fill: none; stroke: rgb(31, 119, 180); stroke-opacity: 1; stroke-width: 0.5px;\"/></g><g class=\"contourlevel\"/><g class=\"contourlevel\"/><g class=\"contourlevel\"/><g class=\"contourlevel\"/><g class=\"contourlevel\"/><g class=\"contourlevel\"/></g></g></g></g></g><path class=\"xlines-above crisp\" d=\"M289.375,647.5H484.25\" style=\"fill: none; stroke-width: 1px; stroke: rgb(36, 36, 36); stroke-opacity: 1;\"/><path class=\"ylines-above crisp\" d=\"M289.875,70V647\" style=\"fill: none; stroke-width: 1px; stroke: rgb(36, 36, 36); stroke-opacity: 1;\"/><g class=\"overlines-above\"/><g class=\"xaxislayer-above\"><path class=\"x2tick ticks crisp\" d=\"M0,648v5\" transform=\"translate(290.375,0)\" style=\"stroke: rgb(68, 68, 68); stroke-opacity: 1; stroke-width: 1px;\"/><path class=\"x2tick ticks crisp\" d=\"M0,648v5\" transform=\"translate(333.455,0)\" style=\"stroke: rgb(68, 68, 68); stroke-opacity: 1; stroke-width: 1px;\"/><path class=\"x2tick ticks crisp\" d=\"M0,648v5\" transform=\"translate(376.545,0)\" style=\"stroke: rgb(68, 68, 68); stroke-opacity: 1; stroke-width: 1px;\"/><path class=\"x2tick ticks crisp\" d=\"M0,648v5\" transform=\"translate(419.625,0)\" style=\"stroke: rgb(68, 68, 68); stroke-opacity: 1; stroke-width: 1px;\"/><path class=\"x2tick ticks crisp\" d=\"M0,648v5\" transform=\"translate(462.70500000000004,0)\" style=\"stroke: rgb(68, 68, 68); stroke-opacity: 1; stroke-width: 1px;\"/><g class=\"x2tick\"><text text-anchor=\"middle\" x=\"0\" y=\"667.4\" transform=\"translate(290.375,0)\" style=\"font-family: 'Open Sans', verdana, arial, sans-serif; font-size: 12px; fill: rgb(36, 36, 36); fill-opacity: 1; white-space: pre; opacity: 1;\">4.2</text></g><g class=\"x2tick\"><text text-anchor=\"middle\" x=\"0\" y=\"667.4\" style=\"font-family: 'Open Sans', verdana, arial, sans-serif; font-size: 12px; fill: rgb(36, 36, 36); fill-opacity: 1; white-space: pre; opacity: 1;\" transform=\"translate(333.455,0)\">4.4</text></g><g class=\"x2tick\"><text text-anchor=\"middle\" x=\"0\" y=\"667.4\" style=\"font-family: 'Open Sans', verdana, arial, sans-serif; font-size: 12px; fill: rgb(36, 36, 36); fill-opacity: 1; white-space: pre; opacity: 1;\" transform=\"translate(376.545,0)\">4.6</text></g><g class=\"x2tick\"><text text-anchor=\"middle\" x=\"0\" y=\"667.4\" style=\"font-family: 'Open Sans', verdana, arial, sans-serif; font-size: 12px; fill: rgb(36, 36, 36); fill-opacity: 1; white-space: pre; opacity: 1;\" transform=\"translate(419.625,0)\">4.8</text></g><g class=\"x2tick\"><text text-anchor=\"middle\" x=\"0\" y=\"667.4\" style=\"font-family: 'Open Sans', verdana, arial, sans-serif; font-size: 12px; fill: rgb(36, 36, 36); fill-opacity: 1; white-space: pre; opacity: 1;\" transform=\"translate(462.70500000000004,0)\">5</text></g></g><g class=\"yaxislayer-above\"><path class=\"y2tick ticks crisp\" d=\"M289.375,0h-5\" transform=\"translate(0,623.01)\" style=\"stroke: rgb(68, 68, 68); stroke-opacity: 1; stroke-width: 1px;\"/><path class=\"y2tick ticks crisp\" d=\"M289.375,0h-5\" transform=\"translate(0,512.4100000000001)\" style=\"stroke: rgb(68, 68, 68); stroke-opacity: 1; stroke-width: 1px;\"/><path class=\"y2tick ticks crisp\" d=\"M289.375,0h-5\" transform=\"translate(0,401.8)\" style=\"stroke: rgb(68, 68, 68); stroke-opacity: 1; stroke-width: 1px;\"/><path class=\"y2tick ticks crisp\" d=\"M289.375,0h-5\" transform=\"translate(0,291.2)\" style=\"stroke: rgb(68, 68, 68); stroke-opacity: 1; stroke-width: 1px;\"/><path class=\"y2tick ticks crisp\" d=\"M289.375,0h-5\" transform=\"translate(0,180.6)\" style=\"stroke: rgb(68, 68, 68); stroke-opacity: 1; stroke-width: 1px;\"/><path class=\"y2tick ticks crisp\" d=\"M289.375,0h-5\" transform=\"translate(0,70)\" style=\"stroke: rgb(68, 68, 68); stroke-opacity: 1; stroke-width: 1px;\"/></g><g class=\"overaxes-above\"/></g><g class=\"subplot x3y3\"><g class=\"layer-subplot\"><g class=\"shapelayer\"/><g class=\"imagelayer\"/></g><g class=\"minor-gridlayer\"><g class=\"x3\"/><g class=\"y3\"/></g><g class=\"gridlayer\"><g class=\"x3\"/><g class=\"y3\"/></g><g class=\"zerolinelayer\"/><g class=\"layer-between\"><g class=\"shapelayer\"/><g class=\"imagelayer\"/></g><path class=\"xlines-below\"/><path class=\"ylines-below\"/><g class=\"overlines-below\"/><g class=\"xaxislayer-below\"/><g class=\"yaxislayer-below\"/><g class=\"overaxes-below\"/><g class=\"overplot\"><g class=\"x3y3\" transform=\"translate(500.75,70)\" clip-path=\"url(#clip4f95cfx3y3plot)\"><g class=\"contourlayer mlayer\"><g class=\"contour\" style=\"opacity: 1;\"><g class=\"heatmapcoloring\"/><g class=\"contourbg\"><path d=\"M0,0L193.87,0L193.87,575.13L0,575.13Z\" style=\"stroke: none; fill: rgb(247, 251, 255);\"/></g><g class=\"contourfill\"><path d=\"M129.25,553.01C124.63,553.27 117.48,538.58 113.86,530.89C110.52,523.79 111.68,509.79 107.71,508.77C103.11,507.59 90.63,532.46 86.17,530.89C80.82,529.01 81.28,498.83 81.86,486.65C82.27,477.98 84.56,471.88 86.17,464.53C87.79,457.14 89.35,451.03 91.55,442.41C94.68,430.18 100.71,413.03 103.4,398.17C106.05,383.53 101.5,363.07 107.71,353.93C112.29,347.19 124.34,341.56 129.25,342.87C132.88,343.84 134.49,348.72 136.43,353.93C140,363.52 140.67,383.41 142.51,398.17C144.35,412.91 146.1,427.65 147.48,442.41C148.86,457.14 151.81,471.98 150.79,486.65C149.76,501.47 145.65,518.93 141.22,530.89C137.92,539.81 133.71,552.76 129.25,553.01Z\" style=\"stroke: none; fill: rgb(225, 237, 248);\"/><path d=\"M129.25,530.89C126.1,530.98 121.18,501.48 118.48,486.65C115.81,471.98 112.84,457.14 113.09,442.41C113.34,427.65 116.42,409.63 120.02,398.17C122.49,390.3 126.86,378.97 129.25,379.21C131.55,379.44 132.79,390.47 134.22,398.17C136.38,409.78 138.67,427.64 139.19,442.41C139.7,457.14 138.97,471.96 137.33,486.65C135.67,501.45 132.38,530.8 129.25,530.89Z\" style=\"stroke: none; fill: rgb(203, 223, 241);\"/><path d=\"M129.25,457.15C128.52,457.17 126.56,447.32 126.56,442.41C126.56,437.49 128.52,427.64 129.25,427.66C129.97,427.68 130.91,437.49 130.91,442.41C130.91,447.32 129.97,457.13 129.25,457.15Z\" style=\"stroke: none; fill: rgb(171, 208, 230);\"/></g><g class=\"contourlines\"><g class=\"contourlevel\"><path class=\"closedline\" d=\"M129.25,553.01C124.63,553.27 117.48,538.58 113.86,530.89C110.52,523.79 111.68,509.79 107.71,508.77C103.11,507.59 90.63,532.46 86.17,530.89C80.82,529.01 81.28,498.83 81.86,486.65C82.27,477.98 84.56,471.88 86.17,464.53C87.79,457.14 89.35,451.03 91.55,442.41C94.68,430.18 100.71,413.03 103.4,398.17C106.05,383.53 101.5,363.07 107.71,353.93C112.29,347.19 124.34,341.56 129.25,342.87C132.88,343.84 134.49,348.72 136.43,353.93C140,363.52 140.67,383.41 142.51,398.17C144.35,412.91 146.1,427.65 147.48,442.41C148.86,457.14 151.81,471.98 150.79,486.65C149.76,501.47 145.65,518.93 141.22,530.89C137.92,539.81 133.71,552.76 129.25,553.01Z\" style=\"stroke-miterlimit: 1; vector-effect: none; fill: none; stroke: rgb(31, 119, 180); stroke-opacity: 1; stroke-width: 0.5px;\"/></g><g class=\"contourlevel\"><path class=\"closedline\" d=\"M129.25,530.89C126.1,530.98 121.18,501.48 118.48,486.65C115.81,471.98 112.84,457.14 113.09,442.41C113.34,427.65 116.42,409.63 120.02,398.17C122.49,390.3 126.86,378.97 129.25,379.21C131.55,379.44 132.79,390.47 134.22,398.17C136.38,409.78 138.67,427.64 139.19,442.41C139.7,457.14 138.97,471.96 137.33,486.65C135.67,501.45 132.38,530.8 129.25,530.89Z\" style=\"stroke-miterlimit: 1; vector-effect: none; fill: none; stroke: rgb(31, 119, 180); stroke-opacity: 1; stroke-width: 0.5px;\"/></g><g class=\"contourlevel\"><path class=\"closedline\" d=\"M129.25,457.15C128.52,457.17 126.56,447.32 126.56,442.41C126.56,437.49 128.52,427.64 129.25,427.66C129.97,427.68 130.91,437.49 130.91,442.41C130.91,447.32 129.97,457.13 129.25,457.15Z\" style=\"stroke-miterlimit: 1; vector-effect: none; fill: none; stroke: rgb(31, 119, 180); stroke-opacity: 1; stroke-width: 0.5px;\"/></g><g class=\"contourlevel\"/><g class=\"contourlevel\"/><g class=\"contourlevel\"/><g class=\"contourlevel\"/><g class=\"contourlevel\"/><g class=\"contourlevel\"/></g></g></g></g></g><path class=\"xlines-above crisp\" d=\"M499.75,647.5H694.625\" style=\"fill: none; stroke-width: 1px; stroke: rgb(36, 36, 36); stroke-opacity: 1;\"/><path class=\"ylines-above crisp\" d=\"M500.25,70V647\" style=\"fill: none; stroke-width: 1px; stroke: rgb(36, 36, 36); stroke-opacity: 1;\"/><g class=\"overlines-above\"/><g class=\"xaxislayer-above\"><path class=\"x3tick ticks crisp\" d=\"M0,648v5\" transform=\"translate(500.75,0)\" style=\"stroke: rgb(68, 68, 68); stroke-opacity: 1; stroke-width: 1px;\"/><path class=\"x3tick ticks crisp\" d=\"M0,648v5\" transform=\"translate(543.83,0)\" style=\"stroke: rgb(68, 68, 68); stroke-opacity: 1; stroke-width: 1px;\"/><path class=\"x3tick ticks crisp\" d=\"M0,648v5\" transform=\"translate(586.92,0)\" style=\"stroke: rgb(68, 68, 68); stroke-opacity: 1; stroke-width: 1px;\"/><path class=\"x3tick ticks crisp\" d=\"M0,648v5\" transform=\"translate(630,0)\" style=\"stroke: rgb(68, 68, 68); stroke-opacity: 1; stroke-width: 1px;\"/><path class=\"x3tick ticks crisp\" d=\"M0,648v5\" transform=\"translate(673.08,0)\" style=\"stroke: rgb(68, 68, 68); stroke-opacity: 1; stroke-width: 1px;\"/><g class=\"x3tick\"><text text-anchor=\"middle\" x=\"0\" y=\"667.4\" transform=\"translate(500.75,0)\" style=\"font-family: 'Open Sans', verdana, arial, sans-serif; font-size: 12px; fill: rgb(36, 36, 36); fill-opacity: 1; white-space: pre; opacity: 1;\">4.2</text></g><g class=\"x3tick\"><text text-anchor=\"middle\" x=\"0\" y=\"667.4\" style=\"font-family: 'Open Sans', verdana, arial, sans-serif; font-size: 12px; fill: rgb(36, 36, 36); fill-opacity: 1; white-space: pre; opacity: 1;\" transform=\"translate(543.83,0)\">4.4</text></g><g class=\"x3tick\"><text text-anchor=\"middle\" x=\"0\" y=\"667.4\" style=\"font-family: 'Open Sans', verdana, arial, sans-serif; font-size: 12px; fill: rgb(36, 36, 36); fill-opacity: 1; white-space: pre; opacity: 1;\" transform=\"translate(586.92,0)\">4.6</text></g><g class=\"x3tick\"><text text-anchor=\"middle\" x=\"0\" y=\"667.4\" style=\"font-family: 'Open Sans', verdana, arial, sans-serif; font-size: 12px; fill: rgb(36, 36, 36); fill-opacity: 1; white-space: pre; opacity: 1;\" transform=\"translate(630,0)\">4.8</text></g><g class=\"x3tick\"><text text-anchor=\"middle\" x=\"0\" y=\"667.4\" style=\"font-family: 'Open Sans', verdana, arial, sans-serif; font-size: 12px; fill: rgb(36, 36, 36); fill-opacity: 1; white-space: pre; opacity: 1;\" transform=\"translate(673.08,0)\">5</text></g></g><g class=\"yaxislayer-above\"><path class=\"y3tick ticks crisp\" d=\"M499.75,0h-5\" transform=\"translate(0,623.01)\" style=\"stroke: rgb(68, 68, 68); stroke-opacity: 1; stroke-width: 1px;\"/><path class=\"y3tick ticks crisp\" d=\"M499.75,0h-5\" transform=\"translate(0,512.4100000000001)\" style=\"stroke: rgb(68, 68, 68); stroke-opacity: 1; stroke-width: 1px;\"/><path class=\"y3tick ticks crisp\" d=\"M499.75,0h-5\" transform=\"translate(0,401.8)\" style=\"stroke: rgb(68, 68, 68); stroke-opacity: 1; stroke-width: 1px;\"/><path class=\"y3tick ticks crisp\" d=\"M499.75,0h-5\" transform=\"translate(0,291.2)\" style=\"stroke: rgb(68, 68, 68); stroke-opacity: 1; stroke-width: 1px;\"/><path class=\"y3tick ticks crisp\" d=\"M499.75,0h-5\" transform=\"translate(0,180.6)\" style=\"stroke: rgb(68, 68, 68); stroke-opacity: 1; stroke-width: 1px;\"/><path class=\"y3tick ticks crisp\" d=\"M499.75,0h-5\" transform=\"translate(0,70)\" style=\"stroke: rgb(68, 68, 68); stroke-opacity: 1; stroke-width: 1px;\"/></g><g class=\"overaxes-above\"/></g><g class=\"subplot x4y4\"><g class=\"layer-subplot\"><g class=\"shapelayer\"/><g class=\"imagelayer\"/></g><g class=\"minor-gridlayer\"><g class=\"x4\"/><g class=\"y4\"/></g><g class=\"gridlayer\"><g class=\"x4\"/><g class=\"y4\"/></g><g class=\"zerolinelayer\"/><g class=\"layer-between\"><g class=\"shapelayer\"/><g class=\"imagelayer\"/></g><path class=\"xlines-below\"/><path class=\"ylines-below\"/><g class=\"overlines-below\"/><g class=\"xaxislayer-below\"/><g class=\"yaxislayer-below\"/><g class=\"overaxes-below\"/><g class=\"overplot\"><g class=\"x4y4\" transform=\"translate(711.1249999999999,70)\" clip-path=\"url(#clip4f95cfx4y4plot)\"><g class=\"contourlayer mlayer\"><g class=\"contour\" style=\"opacity: 1;\"><g class=\"heatmapcoloring\"/><g class=\"contourbg\"><path d=\"M0,0L193.87,0L193.87,575.13L0,575.13Z\" style=\"stroke: none; fill: rgb(247, 251, 255);\"/></g><g class=\"contourfill\"/><g class=\"contourlines\"><g class=\"contourlevel\"/><g class=\"contourlevel\"/><g class=\"contourlevel\"/><g class=\"contourlevel\"/><g class=\"contourlevel\"/><g class=\"contourlevel\"/><g class=\"contourlevel\"/><g class=\"contourlevel\"/><g class=\"contourlevel\"/></g></g></g><g class=\"scatterlayer mlayer\"><g class=\"trace scatter tracedfb0d0\" style=\"stroke-miterlimit: 2; opacity: 1;\"><g class=\"fills\"/><g class=\"errorbars\"/><g class=\"lines\"/><g class=\"points\"><path class=\"point\" transform=\"translate(64.62,132.72)\" d=\"M2.5,0A2.5,2.5 0 1,1 0,-2.5A2.5,2.5 0 0,1 2.5,0Z\" style=\"opacity: 0.4; stroke-width: 0px; fill: rgb(29, 105, 150); fill-opacity: 1;\"/><path class=\"point\" transform=\"translate(107.71,466.74)\" d=\"M2.5,0A2.5,2.5 0 1,1 0,-2.5A2.5,2.5 0 0,1 2.5,0Z\" style=\"opacity: 0.4; stroke-width: 0px; fill: rgb(29, 105, 150); fill-opacity: 1;\"/><path class=\"point\" transform=\"translate(150.79,176.96)\" d=\"M2.5,0A2.5,2.5 0 1,1 0,-2.5A2.5,2.5 0 0,1 2.5,0Z\" style=\"opacity: 0.4; stroke-width: 0px; fill: rgb(29, 105, 150); fill-opacity: 1;\"/><path class=\"point\" transform=\"translate(107.71,488.86)\" d=\"M2.5,0A2.5,2.5 0 1,1 0,-2.5A2.5,2.5 0 0,1 2.5,0Z\" style=\"opacity: 0.4; stroke-width: 0px; fill: rgb(29, 105, 150); fill-opacity: 1;\"/><path class=\"point\" transform=\"translate(129.25,437.98)\" d=\"M2.5,0A2.5,2.5 0 1,1 0,-2.5A2.5,2.5 0 0,1 2.5,0Z\" style=\"opacity: 0.4; stroke-width: 0px; fill: rgb(29, 105, 150); fill-opacity: 1;\"/><path class=\"point\" transform=\"translate(64.62,243.32)\" d=\"M2.5,0A2.5,2.5 0 1,1 0,-2.5A2.5,2.5 0 0,1 2.5,0Z\" style=\"opacity: 0.4; stroke-width: 0px; fill: rgb(29, 105, 150); fill-opacity: 1;\"/><path class=\"point\" transform=\"translate(64.62,517.61)\" d=\"M2.5,0A2.5,2.5 0 1,1 0,-2.5A2.5,2.5 0 0,1 2.5,0Z\" style=\"opacity: 0.4; stroke-width: 0px; fill: rgb(29, 105, 150); fill-opacity: 1;\"/><path class=\"point\" transform=\"translate(64.62,475.59)\" d=\"M2.5,0A2.5,2.5 0 1,1 0,-2.5A2.5,2.5 0 0,1 2.5,0Z\" style=\"opacity: 0.4; stroke-width: 0px; fill: rgb(29, 105, 150); fill-opacity: 1;\"/><path class=\"point\" transform=\"translate(129.25,460.1)\" d=\"M2.5,0A2.5,2.5 0 1,1 0,-2.5A2.5,2.5 0 0,1 2.5,0Z\" style=\"opacity: 0.4; stroke-width: 0px; fill: rgb(29, 105, 150); fill-opacity: 1;\"/><path class=\"point\" transform=\"translate(43.08,545.27)\" d=\"M2.5,0A2.5,2.5 0 1,1 0,-2.5A2.5,2.5 0 0,1 2.5,0Z\" style=\"opacity: 0.4; stroke-width: 0px; fill: rgb(29, 105, 150); fill-opacity: 1;\"/><path class=\"point\" transform=\"translate(107.71,531.55)\" d=\"M2.5,0A2.5,2.5 0 1,1 0,-2.5A2.5,2.5 0 0,1 2.5,0Z\" style=\"opacity: 0.4; stroke-width: 0px; fill: rgb(29, 105, 150); fill-opacity: 1;\"/><path class=\"point\" transform=\"translate(21.54,420.29)\" d=\"M2.5,0A2.5,2.5 0 1,1 0,-2.5A2.5,2.5 0 0,1 2.5,0Z\" style=\"opacity: 0.4; stroke-width: 0px; fill: rgb(29, 105, 150); fill-opacity: 1;\"/><path class=\"point\" transform=\"translate(64.62,528.67)\" d=\"M2.5,0A2.5,2.5 0 1,1 0,-2.5A2.5,2.5 0 0,1 2.5,0Z\" style=\"opacity: 0.4; stroke-width: 0px; fill: rgb(29, 105, 150); fill-opacity: 1;\"/><path class=\"point\" transform=\"translate(107.71,402.59)\" d=\"M2.5,0A2.5,2.5 0 1,1 0,-2.5A2.5,2.5 0 0,1 2.5,0Z\" style=\"opacity: 0.4; stroke-width: 0px; fill: rgb(29, 105, 150); fill-opacity: 1;\"/><path class=\"point\" transform=\"translate(107.71,504.34)\" d=\"M2.5,0A2.5,2.5 0 1,1 0,-2.5A2.5,2.5 0 0,1 2.5,0Z\" style=\"opacity: 0.4; stroke-width: 0px; fill: rgb(29, 105, 150); fill-opacity: 1;\"/><path class=\"point\" transform=\"translate(129.25,466.74)\" d=\"M2.5,0A2.5,2.5 0 1,1 0,-2.5A2.5,2.5 0 0,1 2.5,0Z\" style=\"opacity: 0.4; stroke-width: 0px; fill: rgb(29, 105, 150); fill-opacity: 1;\"/><path class=\"point\" transform=\"translate(129.25,526.46)\" d=\"M2.5,0A2.5,2.5 0 1,1 0,-2.5A2.5,2.5 0 0,1 2.5,0Z\" style=\"opacity: 0.4; stroke-width: 0px; fill: rgb(29, 105, 150); fill-opacity: 1;\"/></g><g class=\"text\"/></g></g></g></g><path class=\"xlines-above crisp\" d=\"M710.1249999999999,647.5H904.9999999999999\" style=\"fill: none; stroke-width: 1px; stroke: rgb(36, 36, 36); stroke-opacity: 1;\"/><path class=\"ylines-above crisp\" d=\"M710.6249999999999,70V647\" style=\"fill: none; stroke-width: 1px; stroke: rgb(36, 36, 36); stroke-opacity: 1;\"/><g class=\"overlines-above\"/><g class=\"xaxislayer-above\"><path class=\"x4tick ticks crisp\" d=\"M0,648v5\" transform=\"translate(711.1249999999999,0)\" style=\"stroke: rgb(68, 68, 68); stroke-opacity: 1; stroke-width: 1px;\"/><path class=\"x4tick ticks crisp\" d=\"M0,648v5\" transform=\"translate(754.2049999999999,0)\" style=\"stroke: rgb(68, 68, 68); stroke-opacity: 1; stroke-width: 1px;\"/><path class=\"x4tick ticks crisp\" d=\"M0,648v5\" transform=\"translate(797.2949999999998,0)\" style=\"stroke: rgb(68, 68, 68); stroke-opacity: 1; stroke-width: 1px;\"/><path class=\"x4tick ticks crisp\" d=\"M0,648v5\" transform=\"translate(840.3749999999999,0)\" style=\"stroke: rgb(68, 68, 68); stroke-opacity: 1; stroke-width: 1px;\"/><path class=\"x4tick ticks crisp\" d=\"M0,648v5\" transform=\"translate(883.4549999999999,0)\" style=\"stroke: rgb(68, 68, 68); stroke-opacity: 1; stroke-width: 1px;\"/><g class=\"x4tick\"><text text-anchor=\"middle\" x=\"0\" y=\"667.4\" transform=\"translate(711.1249999999999,0)\" style=\"font-family: 'Open Sans', verdana, arial, sans-serif; font-size: 12px; fill: rgb(36, 36, 36); fill-opacity: 1; white-space: pre; opacity: 1;\">4.2</text></g><g class=\"x4tick\"><text text-anchor=\"middle\" x=\"0\" y=\"667.4\" style=\"font-family: 'Open Sans', verdana, arial, sans-serif; font-size: 12px; fill: rgb(36, 36, 36); fill-opacity: 1; white-space: pre; opacity: 1;\" transform=\"translate(754.2049999999999,0)\">4.4</text></g><g class=\"x4tick\"><text text-anchor=\"middle\" x=\"0\" y=\"667.4\" style=\"font-family: 'Open Sans', verdana, arial, sans-serif; font-size: 12px; fill: rgb(36, 36, 36); fill-opacity: 1; white-space: pre; opacity: 1;\" transform=\"translate(797.2949999999998,0)\">4.6</text></g><g class=\"x4tick\"><text text-anchor=\"middle\" x=\"0\" y=\"667.4\" style=\"font-family: 'Open Sans', verdana, arial, sans-serif; font-size: 12px; fill: rgb(36, 36, 36); fill-opacity: 1; white-space: pre; opacity: 1;\" transform=\"translate(840.3749999999999,0)\">4.8</text></g><g class=\"x4tick\"><text text-anchor=\"middle\" x=\"0\" y=\"667.4\" style=\"font-family: 'Open Sans', verdana, arial, sans-serif; font-size: 12px; fill: rgb(36, 36, 36); fill-opacity: 1; white-space: pre; opacity: 1;\" transform=\"translate(883.4549999999999,0)\">5</text></g></g><g class=\"yaxislayer-above\"><path class=\"y4tick ticks crisp\" d=\"M710.1249999999999,0h-5\" transform=\"translate(0,623.01)\" style=\"stroke: rgb(68, 68, 68); stroke-opacity: 1; stroke-width: 1px;\"/><path class=\"y4tick ticks crisp\" d=\"M710.1249999999999,0h-5\" transform=\"translate(0,512.4100000000001)\" style=\"stroke: rgb(68, 68, 68); stroke-opacity: 1; stroke-width: 1px;\"/><path class=\"y4tick ticks crisp\" d=\"M710.1249999999999,0h-5\" transform=\"translate(0,401.8)\" style=\"stroke: rgb(68, 68, 68); stroke-opacity: 1; stroke-width: 1px;\"/><path class=\"y4tick ticks crisp\" d=\"M710.1249999999999,0h-5\" transform=\"translate(0,291.2)\" style=\"stroke: rgb(68, 68, 68); stroke-opacity: 1; stroke-width: 1px;\"/><path class=\"y4tick ticks crisp\" d=\"M710.1249999999999,0h-5\" transform=\"translate(0,180.6)\" style=\"stroke: rgb(68, 68, 68); stroke-opacity: 1; stroke-width: 1px;\"/><path class=\"y4tick ticks crisp\" d=\"M710.1249999999999,0h-5\" transform=\"translate(0,70)\" style=\"stroke: rgb(68, 68, 68); stroke-opacity: 1; stroke-width: 1px;\"/></g><g class=\"overaxes-above\"/></g></g><g class=\"polarlayer\"/><g class=\"smithlayer\"/><g class=\"ternarylayer\"/><g class=\"geolayer\"/><g class=\"funnelarealayer\"/><g class=\"pielayer\"/><g class=\"iciclelayer\"/><g class=\"treemaplayer\"/><g class=\"sunburstlayer\"/><g class=\"glimages\"/><defs id=\"topdefs-4f95cf\"><g class=\"clips\"/></defs><g class=\"layer-above\"><g class=\"imagelayer\"/><g class=\"shapelayer\"/></g><g class=\"infolayer\"><g class=\"cb19825c colorbar\" transform=\"translate(80,70)\"><rect class=\"cbbg\" x=\"841.5\" y=\"0\" width=\"73.671875\" height=\"578\" style=\"fill: rgb(0, 0, 0); fill-opacity: 0; stroke: rgb(68, 68, 68); stroke-opacity: 1; stroke-width: 0;\"/><g class=\"cbfills\" transform=\"translate(0,10)\"><rect class=\"cbfill\" style=\"\" x=\"852\" y=\"1\" width=\"30\" height=\"556\" fill=\"#f7fbff\"/><rect class=\"cbfill\" style=\"\" x=\"852\" y=\"1\" width=\"30\" height=\"500\" fill=\"#e1edf8\"/><rect class=\"cbfill\" style=\"\" x=\"852\" y=\"1\" width=\"30\" height=\"445\" fill=\"#cbdff1\"/><rect class=\"cbfill\" style=\"\" x=\"852\" y=\"1\" width=\"30\" height=\"389\" fill=\"#abd0e6\"/><rect class=\"cbfill\" style=\"\" x=\"852\" y=\"1\" width=\"30\" height=\"333\" fill=\"#82badb\"/><rect class=\"cbfill\" style=\"\" x=\"852\" y=\"1\" width=\"30\" height=\"278\" fill=\"#59a2cf\"/><rect class=\"cbfill\" style=\"\" x=\"852\" y=\"1\" width=\"30\" height=\"222\" fill=\"#3787c0\"/><rect class=\"cbfill\" style=\"\" x=\"852\" y=\"1\" width=\"30\" height=\"166\" fill=\"#1b6aaf\"/><rect class=\"cbfill\" style=\"\" x=\"852\" y=\"1\" width=\"30\" height=\"110\" fill=\"#084d97\"/><rect class=\"cbfill\" style=\"\" x=\"852\" y=\"0\" width=\"30\" height=\"56\" fill=\"#08306b\"/></g><g class=\"cblines\" transform=\"translate(0,10)\"><path class=\"cbline\" d=\"M852,501.25h30\" style=\"fill: none; stroke: rgb(31, 119, 180); stroke-opacity: 1; stroke-width: 0.5px;\"/><path class=\"cbline\" d=\"M852,446.25h30\" style=\"fill: none; stroke: rgb(31, 119, 180); stroke-opacity: 1; stroke-width: 0.5px;\"/><path class=\"cbline\" d=\"M852,390.25h30\" style=\"fill: none; stroke: rgb(31, 119, 180); stroke-opacity: 1; stroke-width: 0.5px;\"/><path class=\"cbline\" d=\"M852,334.25h30\" style=\"fill: none; stroke: rgb(31, 119, 180); stroke-opacity: 1; stroke-width: 0.5px;\"/><path class=\"cbline\" d=\"M852,279.25h30\" style=\"fill: none; stroke: rgb(31, 119, 180); stroke-opacity: 1; stroke-width: 0.5px;\"/><path class=\"cbline\" d=\"M852,223.25h30\" style=\"fill: none; stroke: rgb(31, 119, 180); stroke-opacity: 1; stroke-width: 0.5px;\"/><path class=\"cbline\" d=\"M852,167.25h30\" style=\"fill: none; stroke: rgb(31, 119, 180); stroke-opacity: 1; stroke-width: 0.5px;\"/><path class=\"cbline\" d=\"M852,111.25h30\" style=\"fill: none; stroke: rgb(31, 119, 180); stroke-opacity: 1; stroke-width: 0.5px;\"/><path class=\"cbline\" d=\"M852,56.25h30\" style=\"fill: none; stroke: rgb(31, 119, 180); stroke-opacity: 1; stroke-width: 0.5px;\"/></g><g class=\"cbaxis crisp\" transform=\"translate(0,-70)\"><path class=\"ycb19825ctick ticks crisp\" d=\"M882,0h5\" transform=\"translate(0,637)\" style=\"stroke: rgb(36, 36, 36); stroke-opacity: 1; stroke-width: 1px;\"/><path class=\"ycb19825ctick ticks crisp\" d=\"M882,0h5\" transform=\"translate(0,581.3)\" style=\"stroke: rgb(36, 36, 36); stroke-opacity: 1; stroke-width: 1px;\"/><path class=\"ycb19825ctick ticks crisp\" d=\"M882,0h5\" transform=\"translate(0,525.6)\" style=\"stroke: rgb(36, 36, 36); stroke-opacity: 1; stroke-width: 1px;\"/><path class=\"ycb19825ctick ticks crisp\" d=\"M882,0h5\" transform=\"translate(0,469.9)\" style=\"stroke: rgb(36, 36, 36); stroke-opacity: 1; stroke-width: 1px;\"/><path class=\"ycb19825ctick ticks crisp\" d=\"M882,0h5\" transform=\"translate(0,414.2)\" style=\"stroke: rgb(36, 36, 36); stroke-opacity: 1; stroke-width: 1px;\"/><path class=\"ycb19825ctick ticks crisp\" d=\"M882,0h5\" transform=\"translate(0,358.5)\" style=\"stroke: rgb(36, 36, 36); stroke-opacity: 1; stroke-width: 1px;\"/><path class=\"ycb19825ctick ticks crisp\" d=\"M882,0h5\" transform=\"translate(0,302.8)\" style=\"stroke: rgb(36, 36, 36); stroke-opacity: 1; stroke-width: 1px;\"/><path class=\"ycb19825ctick ticks crisp\" d=\"M882,0h5\" transform=\"translate(0,247.09999999999997)\" style=\"stroke: rgb(36, 36, 36); stroke-opacity: 1; stroke-width: 1px;\"/><path class=\"ycb19825ctick ticks crisp\" d=\"M882,0h5\" transform=\"translate(0,191.39999999999998)\" style=\"stroke: rgb(36, 36, 36); stroke-opacity: 1; stroke-width: 1px;\"/><path class=\"ycb19825ctick ticks crisp\" d=\"M882,0h5\" transform=\"translate(0,135.7)\" style=\"stroke: rgb(36, 36, 36); stroke-opacity: 1; stroke-width: 1px;\"/><path class=\"ycb19825ctick ticks crisp\" d=\"M882,0h5\" transform=\"translate(0,79.99999999999999)\" style=\"stroke: rgb(36, 36, 36); stroke-opacity: 1; stroke-width: 1px;\"/><g class=\"ycb19825ctick\"><text text-anchor=\"start\" x=\"889.4\" y=\"4.199999999999999\" transform=\"translate(0,637)\" style=\"font-family: 'Open Sans', verdana, arial, sans-serif; font-size: 12px; fill: rgb(36, 36, 36); fill-opacity: 1; white-space: pre; opacity: 1;\">0</text></g><g class=\"ycb19825ctick\"><text text-anchor=\"start\" x=\"889.4\" y=\"4.199999999999999\" style=\"font-family: 'Open Sans', verdana, arial, sans-serif; font-size: 12px; fill: rgb(36, 36, 36); fill-opacity: 1; white-space: pre; opacity: 1;\" transform=\"translate(0,581.3)\">5</text></g><g class=\"ycb19825ctick\"><text text-anchor=\"start\" x=\"889.4\" y=\"4.199999999999999\" style=\"font-family: 'Open Sans', verdana, arial, sans-serif; font-size: 12px; fill: rgb(36, 36, 36); fill-opacity: 1; white-space: pre; opacity: 1;\" transform=\"translate(0,525.6)\">10</text></g><g class=\"ycb19825ctick\"><text text-anchor=\"start\" x=\"889.4\" y=\"4.199999999999999\" style=\"font-family: 'Open Sans', verdana, arial, sans-serif; font-size: 12px; fill: rgb(36, 36, 36); fill-opacity: 1; white-space: pre; opacity: 1;\" transform=\"translate(0,469.9)\">15</text></g><g class=\"ycb19825ctick\"><text text-anchor=\"start\" x=\"889.4\" y=\"4.199999999999999\" style=\"font-family: 'Open Sans', verdana, arial, sans-serif; font-size: 12px; fill: rgb(36, 36, 36); fill-opacity: 1; white-space: pre; opacity: 1;\" transform=\"translate(0,414.2)\">20</text></g><g class=\"ycb19825ctick\"><text text-anchor=\"start\" x=\"889.4\" y=\"4.199999999999999\" style=\"font-family: 'Open Sans', verdana, arial, sans-serif; font-size: 12px; fill: rgb(36, 36, 36); fill-opacity: 1; white-space: pre; opacity: 1;\" transform=\"translate(0,358.5)\">25</text></g><g class=\"ycb19825ctick\"><text text-anchor=\"start\" x=\"889.4\" y=\"4.199999999999999\" style=\"font-family: 'Open Sans', verdana, arial, sans-serif; font-size: 12px; fill: rgb(36, 36, 36); fill-opacity: 1; white-space: pre; opacity: 1;\" transform=\"translate(0,302.8)\">30</text></g><g class=\"ycb19825ctick\"><text text-anchor=\"start\" x=\"889.4\" y=\"4.199999999999999\" style=\"font-family: 'Open Sans', verdana, arial, sans-serif; font-size: 12px; fill: rgb(36, 36, 36); fill-opacity: 1; white-space: pre; opacity: 1;\" transform=\"translate(0,247.09999999999997)\">35</text></g><g class=\"ycb19825ctick\"><text text-anchor=\"start\" x=\"889.4\" y=\"4.199999999999999\" style=\"font-family: 'Open Sans', verdana, arial, sans-serif; font-size: 12px; fill: rgb(36, 36, 36); fill-opacity: 1; white-space: pre; opacity: 1;\" transform=\"translate(0,191.39999999999998)\">40</text></g><g class=\"ycb19825ctick\"><text text-anchor=\"start\" x=\"889.4\" y=\"4.199999999999999\" style=\"font-family: 'Open Sans', verdana, arial, sans-serif; font-size: 12px; fill: rgb(36, 36, 36); fill-opacity: 1; white-space: pre; opacity: 1;\" transform=\"translate(0,135.7)\">45</text></g><g class=\"ycb19825ctick\"><text text-anchor=\"start\" x=\"889.4\" y=\"4.199999999999999\" style=\"font-family: 'Open Sans', verdana, arial, sans-serif; font-size: 12px; fill: rgb(36, 36, 36); fill-opacity: 1; white-space: pre; opacity: 1;\" transform=\"translate(0,79.99999999999999)\">50</text></g></g><g class=\"cbtitleunshift\" transform=\"translate(-80,-70)\"><g class=\"cbtitle\"/></g><rect class=\"cboutline\" x=\"852\" y=\"10\" width=\"30\" height=\"557\" style=\"stroke: rgb(68, 68, 68); stroke-opacity: 1; fill: none; stroke-width: 1;\"/></g><g class=\"cb28db59 colorbar\" transform=\"translate(80,70)\"><rect class=\"cbbg\" x=\"841.5\" y=\"0\" width=\"73.671875\" height=\"578\" style=\"fill: rgb(0, 0, 0); fill-opacity: 0; stroke: rgb(68, 68, 68); stroke-opacity: 1; stroke-width: 0;\"/><g class=\"cbfills\" transform=\"translate(0,10)\"><rect class=\"cbfill\" style=\"\" x=\"852\" y=\"1\" width=\"30\" height=\"556\" fill=\"#f7fbff\"/><rect class=\"cbfill\" style=\"\" x=\"852\" y=\"1\" width=\"30\" height=\"500\" fill=\"#e1edf8\"/><rect class=\"cbfill\" style=\"\" x=\"852\" y=\"1\" width=\"30\" height=\"445\" fill=\"#cbdff1\"/><rect class=\"cbfill\" style=\"\" x=\"852\" y=\"1\" width=\"30\" height=\"389\" fill=\"#abd0e6\"/><rect class=\"cbfill\" style=\"\" x=\"852\" y=\"1\" width=\"30\" height=\"333\" fill=\"#82badb\"/><rect class=\"cbfill\" style=\"\" x=\"852\" y=\"1\" width=\"30\" height=\"278\" fill=\"#59a2cf\"/><rect class=\"cbfill\" style=\"\" x=\"852\" y=\"1\" width=\"30\" height=\"222\" fill=\"#3787c0\"/><rect class=\"cbfill\" style=\"\" x=\"852\" y=\"1\" width=\"30\" height=\"166\" fill=\"#1b6aaf\"/><rect class=\"cbfill\" style=\"\" x=\"852\" y=\"1\" width=\"30\" height=\"110\" fill=\"#084d97\"/><rect class=\"cbfill\" style=\"\" x=\"852\" y=\"0\" width=\"30\" height=\"56\" fill=\"#08306b\"/></g><g class=\"cblines\" transform=\"translate(0,10)\"><path class=\"cbline\" d=\"M852,501.25h30\" style=\"fill: none; stroke: rgb(31, 119, 180); stroke-opacity: 1; stroke-width: 0.5px;\"/><path class=\"cbline\" d=\"M852,446.25h30\" style=\"fill: none; stroke: rgb(31, 119, 180); stroke-opacity: 1; stroke-width: 0.5px;\"/><path class=\"cbline\" d=\"M852,390.25h30\" style=\"fill: none; stroke: rgb(31, 119, 180); stroke-opacity: 1; stroke-width: 0.5px;\"/><path class=\"cbline\" d=\"M852,334.25h30\" style=\"fill: none; stroke: rgb(31, 119, 180); stroke-opacity: 1; stroke-width: 0.5px;\"/><path class=\"cbline\" d=\"M852,279.25h30\" style=\"fill: none; stroke: rgb(31, 119, 180); stroke-opacity: 1; stroke-width: 0.5px;\"/><path class=\"cbline\" d=\"M852,223.25h30\" style=\"fill: none; stroke: rgb(31, 119, 180); stroke-opacity: 1; stroke-width: 0.5px;\"/><path class=\"cbline\" d=\"M852,167.25h30\" style=\"fill: none; stroke: rgb(31, 119, 180); stroke-opacity: 1; stroke-width: 0.5px;\"/><path class=\"cbline\" d=\"M852,111.25h30\" style=\"fill: none; stroke: rgb(31, 119, 180); stroke-opacity: 1; stroke-width: 0.5px;\"/><path class=\"cbline\" d=\"M852,56.25h30\" style=\"fill: none; stroke: rgb(31, 119, 180); stroke-opacity: 1; stroke-width: 0.5px;\"/></g><g class=\"cbaxis crisp\" transform=\"translate(0,-70)\"><path class=\"ycb28db59tick ticks crisp\" d=\"M882,0h5\" transform=\"translate(0,637)\" style=\"stroke: rgb(36, 36, 36); stroke-opacity: 1; stroke-width: 1px;\"/><path class=\"ycb28db59tick ticks crisp\" d=\"M882,0h5\" transform=\"translate(0,581.3)\" style=\"stroke: rgb(36, 36, 36); stroke-opacity: 1; stroke-width: 1px;\"/><path class=\"ycb28db59tick ticks crisp\" d=\"M882,0h5\" transform=\"translate(0,525.6)\" style=\"stroke: rgb(36, 36, 36); stroke-opacity: 1; stroke-width: 1px;\"/><path class=\"ycb28db59tick ticks crisp\" d=\"M882,0h5\" transform=\"translate(0,469.9)\" style=\"stroke: rgb(36, 36, 36); stroke-opacity: 1; stroke-width: 1px;\"/><path class=\"ycb28db59tick ticks crisp\" d=\"M882,0h5\" transform=\"translate(0,414.2)\" style=\"stroke: rgb(36, 36, 36); stroke-opacity: 1; stroke-width: 1px;\"/><path class=\"ycb28db59tick ticks crisp\" d=\"M882,0h5\" transform=\"translate(0,358.5)\" style=\"stroke: rgb(36, 36, 36); stroke-opacity: 1; stroke-width: 1px;\"/><path class=\"ycb28db59tick ticks crisp\" d=\"M882,0h5\" transform=\"translate(0,302.8)\" style=\"stroke: rgb(36, 36, 36); stroke-opacity: 1; stroke-width: 1px;\"/><path class=\"ycb28db59tick ticks crisp\" d=\"M882,0h5\" transform=\"translate(0,247.09999999999997)\" style=\"stroke: rgb(36, 36, 36); stroke-opacity: 1; stroke-width: 1px;\"/><path class=\"ycb28db59tick ticks crisp\" d=\"M882,0h5\" transform=\"translate(0,191.39999999999998)\" style=\"stroke: rgb(36, 36, 36); stroke-opacity: 1; stroke-width: 1px;\"/><path class=\"ycb28db59tick ticks crisp\" d=\"M882,0h5\" transform=\"translate(0,135.7)\" style=\"stroke: rgb(36, 36, 36); stroke-opacity: 1; stroke-width: 1px;\"/><path class=\"ycb28db59tick ticks crisp\" d=\"M882,0h5\" transform=\"translate(0,79.99999999999999)\" style=\"stroke: rgb(36, 36, 36); stroke-opacity: 1; stroke-width: 1px;\"/><g class=\"ycb28db59tick\"><text text-anchor=\"start\" x=\"889.4\" y=\"4.199999999999999\" transform=\"translate(0,637)\" style=\"font-family: 'Open Sans', verdana, arial, sans-serif; font-size: 12px; fill: rgb(36, 36, 36); fill-opacity: 1; white-space: pre; opacity: 1;\">0</text></g><g class=\"ycb28db59tick\"><text text-anchor=\"start\" x=\"889.4\" y=\"4.199999999999999\" style=\"font-family: 'Open Sans', verdana, arial, sans-serif; font-size: 12px; fill: rgb(36, 36, 36); fill-opacity: 1; white-space: pre; opacity: 1;\" transform=\"translate(0,581.3)\">5</text></g><g class=\"ycb28db59tick\"><text text-anchor=\"start\" x=\"889.4\" y=\"4.199999999999999\" style=\"font-family: 'Open Sans', verdana, arial, sans-serif; font-size: 12px; fill: rgb(36, 36, 36); fill-opacity: 1; white-space: pre; opacity: 1;\" transform=\"translate(0,525.6)\">10</text></g><g class=\"ycb28db59tick\"><text text-anchor=\"start\" x=\"889.4\" y=\"4.199999999999999\" style=\"font-family: 'Open Sans', verdana, arial, sans-serif; font-size: 12px; fill: rgb(36, 36, 36); fill-opacity: 1; white-space: pre; opacity: 1;\" transform=\"translate(0,469.9)\">15</text></g><g class=\"ycb28db59tick\"><text text-anchor=\"start\" x=\"889.4\" y=\"4.199999999999999\" style=\"font-family: 'Open Sans', verdana, arial, sans-serif; font-size: 12px; fill: rgb(36, 36, 36); fill-opacity: 1; white-space: pre; opacity: 1;\" transform=\"translate(0,414.2)\">20</text></g><g class=\"ycb28db59tick\"><text text-anchor=\"start\" x=\"889.4\" y=\"4.199999999999999\" style=\"font-family: 'Open Sans', verdana, arial, sans-serif; font-size: 12px; fill: rgb(36, 36, 36); fill-opacity: 1; white-space: pre; opacity: 1;\" transform=\"translate(0,358.5)\">25</text></g><g class=\"ycb28db59tick\"><text text-anchor=\"start\" x=\"889.4\" y=\"4.199999999999999\" style=\"font-family: 'Open Sans', verdana, arial, sans-serif; font-size: 12px; fill: rgb(36, 36, 36); fill-opacity: 1; white-space: pre; opacity: 1;\" transform=\"translate(0,302.8)\">30</text></g><g class=\"ycb28db59tick\"><text text-anchor=\"start\" x=\"889.4\" y=\"4.199999999999999\" style=\"font-family: 'Open Sans', verdana, arial, sans-serif; font-size: 12px; fill: rgb(36, 36, 36); fill-opacity: 1; white-space: pre; opacity: 1;\" transform=\"translate(0,247.09999999999997)\">35</text></g><g class=\"ycb28db59tick\"><text text-anchor=\"start\" x=\"889.4\" y=\"4.199999999999999\" style=\"font-family: 'Open Sans', verdana, arial, sans-serif; font-size: 12px; fill: rgb(36, 36, 36); fill-opacity: 1; white-space: pre; opacity: 1;\" transform=\"translate(0,191.39999999999998)\">40</text></g><g class=\"ycb28db59tick\"><text text-anchor=\"start\" x=\"889.4\" y=\"4.199999999999999\" style=\"font-family: 'Open Sans', verdana, arial, sans-serif; font-size: 12px; fill: rgb(36, 36, 36); fill-opacity: 1; white-space: pre; opacity: 1;\" transform=\"translate(0,135.7)\">45</text></g><g class=\"ycb28db59tick\"><text text-anchor=\"start\" x=\"889.4\" y=\"4.199999999999999\" style=\"font-family: 'Open Sans', verdana, arial, sans-serif; font-size: 12px; fill: rgb(36, 36, 36); fill-opacity: 1; white-space: pre; opacity: 1;\" transform=\"translate(0,79.99999999999999)\">50</text></g></g><g class=\"cbtitleunshift\" transform=\"translate(-80,-70)\"><g class=\"cbtitle\"/></g><rect class=\"cboutline\" x=\"852\" y=\"10\" width=\"30\" height=\"557\" style=\"stroke: rgb(68, 68, 68); stroke-opacity: 1; fill: none; stroke-width: 1;\"/></g><g class=\"cbab3f0a colorbar\" transform=\"translate(80,70)\"><rect class=\"cbbg\" x=\"841.5\" y=\"0\" width=\"73.671875\" height=\"578\" style=\"fill: rgb(0, 0, 0); fill-opacity: 0; stroke: rgb(68, 68, 68); stroke-opacity: 1; stroke-width: 0;\"/><g class=\"cbfills\" transform=\"translate(0,10)\"><rect class=\"cbfill\" style=\"\" x=\"852\" y=\"1\" width=\"30\" height=\"556\" fill=\"#f7fbff\"/><rect class=\"cbfill\" style=\"\" x=\"852\" y=\"1\" width=\"30\" height=\"500\" fill=\"#e1edf8\"/><rect class=\"cbfill\" style=\"\" x=\"852\" y=\"1\" width=\"30\" height=\"445\" fill=\"#cbdff1\"/><rect class=\"cbfill\" style=\"\" x=\"852\" y=\"1\" width=\"30\" height=\"389\" fill=\"#abd0e6\"/><rect class=\"cbfill\" style=\"\" x=\"852\" y=\"1\" width=\"30\" height=\"333\" fill=\"#82badb\"/><rect class=\"cbfill\" style=\"\" x=\"852\" y=\"1\" width=\"30\" height=\"278\" fill=\"#59a2cf\"/><rect class=\"cbfill\" style=\"\" x=\"852\" y=\"1\" width=\"30\" height=\"222\" fill=\"#3787c0\"/><rect class=\"cbfill\" style=\"\" x=\"852\" y=\"1\" width=\"30\" height=\"166\" fill=\"#1b6aaf\"/><rect class=\"cbfill\" style=\"\" x=\"852\" y=\"1\" width=\"30\" height=\"110\" fill=\"#084d97\"/><rect class=\"cbfill\" style=\"\" x=\"852\" y=\"0\" width=\"30\" height=\"56\" fill=\"#08306b\"/></g><g class=\"cblines\" transform=\"translate(0,10)\"><path class=\"cbline\" d=\"M852,501.25h30\" style=\"fill: none; stroke: rgb(31, 119, 180); stroke-opacity: 1; stroke-width: 0.5px;\"/><path class=\"cbline\" d=\"M852,446.25h30\" style=\"fill: none; stroke: rgb(31, 119, 180); stroke-opacity: 1; stroke-width: 0.5px;\"/><path class=\"cbline\" d=\"M852,390.25h30\" style=\"fill: none; stroke: rgb(31, 119, 180); stroke-opacity: 1; stroke-width: 0.5px;\"/><path class=\"cbline\" d=\"M852,334.25h30\" style=\"fill: none; stroke: rgb(31, 119, 180); stroke-opacity: 1; stroke-width: 0.5px;\"/><path class=\"cbline\" d=\"M852,279.25h30\" style=\"fill: none; stroke: rgb(31, 119, 180); stroke-opacity: 1; stroke-width: 0.5px;\"/><path class=\"cbline\" d=\"M852,223.25h30\" style=\"fill: none; stroke: rgb(31, 119, 180); stroke-opacity: 1; stroke-width: 0.5px;\"/><path class=\"cbline\" d=\"M852,167.25h30\" style=\"fill: none; stroke: rgb(31, 119, 180); stroke-opacity: 1; stroke-width: 0.5px;\"/><path class=\"cbline\" d=\"M852,111.25h30\" style=\"fill: none; stroke: rgb(31, 119, 180); stroke-opacity: 1; stroke-width: 0.5px;\"/><path class=\"cbline\" d=\"M852,56.25h30\" style=\"fill: none; stroke: rgb(31, 119, 180); stroke-opacity: 1; stroke-width: 0.5px;\"/></g><g class=\"cbaxis crisp\" transform=\"translate(0,-70)\"><path class=\"ycbab3f0atick ticks crisp\" d=\"M882,0h5\" transform=\"translate(0,637)\" style=\"stroke: rgb(36, 36, 36); stroke-opacity: 1; stroke-width: 1px;\"/><path class=\"ycbab3f0atick ticks crisp\" d=\"M882,0h5\" transform=\"translate(0,581.3)\" style=\"stroke: rgb(36, 36, 36); stroke-opacity: 1; stroke-width: 1px;\"/><path class=\"ycbab3f0atick ticks crisp\" d=\"M882,0h5\" transform=\"translate(0,525.6)\" style=\"stroke: rgb(36, 36, 36); stroke-opacity: 1; stroke-width: 1px;\"/><path class=\"ycbab3f0atick ticks crisp\" d=\"M882,0h5\" transform=\"translate(0,469.9)\" style=\"stroke: rgb(36, 36, 36); stroke-opacity: 1; stroke-width: 1px;\"/><path class=\"ycbab3f0atick ticks crisp\" d=\"M882,0h5\" transform=\"translate(0,414.2)\" style=\"stroke: rgb(36, 36, 36); stroke-opacity: 1; stroke-width: 1px;\"/><path class=\"ycbab3f0atick ticks crisp\" d=\"M882,0h5\" transform=\"translate(0,358.5)\" style=\"stroke: rgb(36, 36, 36); stroke-opacity: 1; stroke-width: 1px;\"/><path class=\"ycbab3f0atick ticks crisp\" d=\"M882,0h5\" transform=\"translate(0,302.8)\" style=\"stroke: rgb(36, 36, 36); stroke-opacity: 1; stroke-width: 1px;\"/><path class=\"ycbab3f0atick ticks crisp\" d=\"M882,0h5\" transform=\"translate(0,247.09999999999997)\" style=\"stroke: rgb(36, 36, 36); stroke-opacity: 1; stroke-width: 1px;\"/><path class=\"ycbab3f0atick ticks crisp\" d=\"M882,0h5\" transform=\"translate(0,191.39999999999998)\" style=\"stroke: rgb(36, 36, 36); stroke-opacity: 1; stroke-width: 1px;\"/><path class=\"ycbab3f0atick ticks crisp\" d=\"M882,0h5\" transform=\"translate(0,135.7)\" style=\"stroke: rgb(36, 36, 36); stroke-opacity: 1; stroke-width: 1px;\"/><path class=\"ycbab3f0atick ticks crisp\" d=\"M882,0h5\" transform=\"translate(0,79.99999999999999)\" style=\"stroke: rgb(36, 36, 36); stroke-opacity: 1; stroke-width: 1px;\"/><g class=\"ycbab3f0atick\"><text text-anchor=\"start\" x=\"889.4\" y=\"4.199999999999999\" transform=\"translate(0,637)\" style=\"font-family: 'Open Sans', verdana, arial, sans-serif; font-size: 12px; fill: rgb(36, 36, 36); fill-opacity: 1; white-space: pre; opacity: 1;\">0</text></g><g class=\"ycbab3f0atick\"><text text-anchor=\"start\" x=\"889.4\" y=\"4.199999999999999\" style=\"font-family: 'Open Sans', verdana, arial, sans-serif; font-size: 12px; fill: rgb(36, 36, 36); fill-opacity: 1; white-space: pre; opacity: 1;\" transform=\"translate(0,581.3)\">5</text></g><g class=\"ycbab3f0atick\"><text text-anchor=\"start\" x=\"889.4\" y=\"4.199999999999999\" style=\"font-family: 'Open Sans', verdana, arial, sans-serif; font-size: 12px; fill: rgb(36, 36, 36); fill-opacity: 1; white-space: pre; opacity: 1;\" transform=\"translate(0,525.6)\">10</text></g><g class=\"ycbab3f0atick\"><text text-anchor=\"start\" x=\"889.4\" y=\"4.199999999999999\" style=\"font-family: 'Open Sans', verdana, arial, sans-serif; font-size: 12px; fill: rgb(36, 36, 36); fill-opacity: 1; white-space: pre; opacity: 1;\" transform=\"translate(0,469.9)\">15</text></g><g class=\"ycbab3f0atick\"><text text-anchor=\"start\" x=\"889.4\" y=\"4.199999999999999\" style=\"font-family: 'Open Sans', verdana, arial, sans-serif; font-size: 12px; fill: rgb(36, 36, 36); fill-opacity: 1; white-space: pre; opacity: 1;\" transform=\"translate(0,414.2)\">20</text></g><g class=\"ycbab3f0atick\"><text text-anchor=\"start\" x=\"889.4\" y=\"4.199999999999999\" style=\"font-family: 'Open Sans', verdana, arial, sans-serif; font-size: 12px; fill: rgb(36, 36, 36); fill-opacity: 1; white-space: pre; opacity: 1;\" transform=\"translate(0,358.5)\">25</text></g><g class=\"ycbab3f0atick\"><text text-anchor=\"start\" x=\"889.4\" y=\"4.199999999999999\" style=\"font-family: 'Open Sans', verdana, arial, sans-serif; font-size: 12px; fill: rgb(36, 36, 36); fill-opacity: 1; white-space: pre; opacity: 1;\" transform=\"translate(0,302.8)\">30</text></g><g class=\"ycbab3f0atick\"><text text-anchor=\"start\" x=\"889.4\" y=\"4.199999999999999\" style=\"font-family: 'Open Sans', verdana, arial, sans-serif; font-size: 12px; fill: rgb(36, 36, 36); fill-opacity: 1; white-space: pre; opacity: 1;\" transform=\"translate(0,247.09999999999997)\">35</text></g><g class=\"ycbab3f0atick\"><text text-anchor=\"start\" x=\"889.4\" y=\"4.199999999999999\" style=\"font-family: 'Open Sans', verdana, arial, sans-serif; font-size: 12px; fill: rgb(36, 36, 36); fill-opacity: 1; white-space: pre; opacity: 1;\" transform=\"translate(0,191.39999999999998)\">40</text></g><g class=\"ycbab3f0atick\"><text text-anchor=\"start\" x=\"889.4\" y=\"4.199999999999999\" style=\"font-family: 'Open Sans', verdana, arial, sans-serif; font-size: 12px; fill: rgb(36, 36, 36); fill-opacity: 1; white-space: pre; opacity: 1;\" transform=\"translate(0,135.7)\">45</text></g><g class=\"ycbab3f0atick\"><text text-anchor=\"start\" x=\"889.4\" y=\"4.199999999999999\" style=\"font-family: 'Open Sans', verdana, arial, sans-serif; font-size: 12px; fill: rgb(36, 36, 36); fill-opacity: 1; white-space: pre; opacity: 1;\" transform=\"translate(0,79.99999999999999)\">50</text></g></g><g class=\"cbtitleunshift\" transform=\"translate(-80,-70)\"><g class=\"cbtitle\"/></g><rect class=\"cboutline\" x=\"852\" y=\"10\" width=\"30\" height=\"557\" style=\"stroke: rgb(68, 68, 68); stroke-opacity: 1; fill: none; stroke-width: 1;\"/></g><g class=\"cbd8058b colorbar\" transform=\"translate(80,70)\"><rect class=\"cbbg\" x=\"841.5\" y=\"0\" width=\"73.671875\" height=\"578\" style=\"fill: rgb(0, 0, 0); fill-opacity: 0; stroke: rgb(68, 68, 68); stroke-opacity: 1; stroke-width: 0;\"/><g class=\"cbfills\" transform=\"translate(0,10)\"><rect class=\"cbfill\" style=\"\" x=\"852\" y=\"1\" width=\"30\" height=\"556\" fill=\"#f7fbff\"/><rect class=\"cbfill\" style=\"\" x=\"852\" y=\"1\" width=\"30\" height=\"500\" fill=\"#e1edf8\"/><rect class=\"cbfill\" style=\"\" x=\"852\" y=\"1\" width=\"30\" height=\"445\" fill=\"#cbdff1\"/><rect class=\"cbfill\" style=\"\" x=\"852\" y=\"1\" width=\"30\" height=\"389\" fill=\"#abd0e6\"/><rect class=\"cbfill\" style=\"\" x=\"852\" y=\"1\" width=\"30\" height=\"333\" fill=\"#82badb\"/><rect class=\"cbfill\" style=\"\" x=\"852\" y=\"1\" width=\"30\" height=\"278\" fill=\"#59a2cf\"/><rect class=\"cbfill\" style=\"\" x=\"852\" y=\"1\" width=\"30\" height=\"222\" fill=\"#3787c0\"/><rect class=\"cbfill\" style=\"\" x=\"852\" y=\"1\" width=\"30\" height=\"166\" fill=\"#1b6aaf\"/><rect class=\"cbfill\" style=\"\" x=\"852\" y=\"1\" width=\"30\" height=\"110\" fill=\"#084d97\"/><rect class=\"cbfill\" style=\"\" x=\"852\" y=\"0\" width=\"30\" height=\"56\" fill=\"#08306b\"/></g><g class=\"cblines\" transform=\"translate(0,10)\"><path class=\"cbline\" d=\"M852,501.25h30\" style=\"fill: none; stroke: rgb(31, 119, 180); stroke-opacity: 1; stroke-width: 0.5px;\"/><path class=\"cbline\" d=\"M852,446.25h30\" style=\"fill: none; stroke: rgb(31, 119, 180); stroke-opacity: 1; stroke-width: 0.5px;\"/><path class=\"cbline\" d=\"M852,390.25h30\" style=\"fill: none; stroke: rgb(31, 119, 180); stroke-opacity: 1; stroke-width: 0.5px;\"/><path class=\"cbline\" d=\"M852,334.25h30\" style=\"fill: none; stroke: rgb(31, 119, 180); stroke-opacity: 1; stroke-width: 0.5px;\"/><path class=\"cbline\" d=\"M852,279.25h30\" style=\"fill: none; stroke: rgb(31, 119, 180); stroke-opacity: 1; stroke-width: 0.5px;\"/><path class=\"cbline\" d=\"M852,223.25h30\" style=\"fill: none; stroke: rgb(31, 119, 180); stroke-opacity: 1; stroke-width: 0.5px;\"/><path class=\"cbline\" d=\"M852,167.25h30\" style=\"fill: none; stroke: rgb(31, 119, 180); stroke-opacity: 1; stroke-width: 0.5px;\"/><path class=\"cbline\" d=\"M852,111.25h30\" style=\"fill: none; stroke: rgb(31, 119, 180); stroke-opacity: 1; stroke-width: 0.5px;\"/><path class=\"cbline\" d=\"M852,56.25h30\" style=\"fill: none; stroke: rgb(31, 119, 180); stroke-opacity: 1; stroke-width: 0.5px;\"/></g><g class=\"cbaxis crisp\" transform=\"translate(0,-70)\"><path class=\"ycbd8058btick ticks crisp\" d=\"M882,0h5\" transform=\"translate(0,637)\" style=\"stroke: rgb(36, 36, 36); stroke-opacity: 1; stroke-width: 1px;\"/><path class=\"ycbd8058btick ticks crisp\" d=\"M882,0h5\" transform=\"translate(0,581.3)\" style=\"stroke: rgb(36, 36, 36); stroke-opacity: 1; stroke-width: 1px;\"/><path class=\"ycbd8058btick ticks crisp\" d=\"M882,0h5\" transform=\"translate(0,525.6)\" style=\"stroke: rgb(36, 36, 36); stroke-opacity: 1; stroke-width: 1px;\"/><path class=\"ycbd8058btick ticks crisp\" d=\"M882,0h5\" transform=\"translate(0,469.9)\" style=\"stroke: rgb(36, 36, 36); stroke-opacity: 1; stroke-width: 1px;\"/><path class=\"ycbd8058btick ticks crisp\" d=\"M882,0h5\" transform=\"translate(0,414.2)\" style=\"stroke: rgb(36, 36, 36); stroke-opacity: 1; stroke-width: 1px;\"/><path class=\"ycbd8058btick ticks crisp\" d=\"M882,0h5\" transform=\"translate(0,358.5)\" style=\"stroke: rgb(36, 36, 36); stroke-opacity: 1; stroke-width: 1px;\"/><path class=\"ycbd8058btick ticks crisp\" d=\"M882,0h5\" transform=\"translate(0,302.8)\" style=\"stroke: rgb(36, 36, 36); stroke-opacity: 1; stroke-width: 1px;\"/><path class=\"ycbd8058btick ticks crisp\" d=\"M882,0h5\" transform=\"translate(0,247.09999999999997)\" style=\"stroke: rgb(36, 36, 36); stroke-opacity: 1; stroke-width: 1px;\"/><path class=\"ycbd8058btick ticks crisp\" d=\"M882,0h5\" transform=\"translate(0,191.39999999999998)\" style=\"stroke: rgb(36, 36, 36); stroke-opacity: 1; stroke-width: 1px;\"/><path class=\"ycbd8058btick ticks crisp\" d=\"M882,0h5\" transform=\"translate(0,135.7)\" style=\"stroke: rgb(36, 36, 36); stroke-opacity: 1; stroke-width: 1px;\"/><path class=\"ycbd8058btick ticks crisp\" d=\"M882,0h5\" transform=\"translate(0,79.99999999999999)\" style=\"stroke: rgb(36, 36, 36); stroke-opacity: 1; stroke-width: 1px;\"/><g class=\"ycbd8058btick\"><text text-anchor=\"start\" x=\"889.4\" y=\"4.199999999999999\" transform=\"translate(0,637)\" style=\"font-family: 'Open Sans', verdana, arial, sans-serif; font-size: 12px; fill: rgb(36, 36, 36); fill-opacity: 1; white-space: pre; opacity: 1;\">0</text></g><g class=\"ycbd8058btick\"><text text-anchor=\"start\" x=\"889.4\" y=\"4.199999999999999\" style=\"font-family: 'Open Sans', verdana, arial, sans-serif; font-size: 12px; fill: rgb(36, 36, 36); fill-opacity: 1; white-space: pre; opacity: 1;\" transform=\"translate(0,581.3)\">5</text></g><g class=\"ycbd8058btick\"><text text-anchor=\"start\" x=\"889.4\" y=\"4.199999999999999\" style=\"font-family: 'Open Sans', verdana, arial, sans-serif; font-size: 12px; fill: rgb(36, 36, 36); fill-opacity: 1; white-space: pre; opacity: 1;\" transform=\"translate(0,525.6)\">10</text></g><g class=\"ycbd8058btick\"><text text-anchor=\"start\" x=\"889.4\" y=\"4.199999999999999\" style=\"font-family: 'Open Sans', verdana, arial, sans-serif; font-size: 12px; fill: rgb(36, 36, 36); fill-opacity: 1; white-space: pre; opacity: 1;\" transform=\"translate(0,469.9)\">15</text></g><g class=\"ycbd8058btick\"><text text-anchor=\"start\" x=\"889.4\" y=\"4.199999999999999\" style=\"font-family: 'Open Sans', verdana, arial, sans-serif; font-size: 12px; fill: rgb(36, 36, 36); fill-opacity: 1; white-space: pre; opacity: 1;\" transform=\"translate(0,414.2)\">20</text></g><g class=\"ycbd8058btick\"><text text-anchor=\"start\" x=\"889.4\" y=\"4.199999999999999\" style=\"font-family: 'Open Sans', verdana, arial, sans-serif; font-size: 12px; fill: rgb(36, 36, 36); fill-opacity: 1; white-space: pre; opacity: 1;\" transform=\"translate(0,358.5)\">25</text></g><g class=\"ycbd8058btick\"><text text-anchor=\"start\" x=\"889.4\" y=\"4.199999999999999\" style=\"font-family: 'Open Sans', verdana, arial, sans-serif; font-size: 12px; fill: rgb(36, 36, 36); fill-opacity: 1; white-space: pre; opacity: 1;\" transform=\"translate(0,302.8)\">30</text></g><g class=\"ycbd8058btick\"><text text-anchor=\"start\" x=\"889.4\" y=\"4.199999999999999\" style=\"font-family: 'Open Sans', verdana, arial, sans-serif; font-size: 12px; fill: rgb(36, 36, 36); fill-opacity: 1; white-space: pre; opacity: 1;\" transform=\"translate(0,247.09999999999997)\">35</text></g><g class=\"ycbd8058btick\"><text text-anchor=\"start\" x=\"889.4\" y=\"4.199999999999999\" style=\"font-family: 'Open Sans', verdana, arial, sans-serif; font-size: 12px; fill: rgb(36, 36, 36); fill-opacity: 1; white-space: pre; opacity: 1;\" transform=\"translate(0,191.39999999999998)\">40</text></g><g class=\"ycbd8058btick\"><text text-anchor=\"start\" x=\"889.4\" y=\"4.199999999999999\" style=\"font-family: 'Open Sans', verdana, arial, sans-serif; font-size: 12px; fill: rgb(36, 36, 36); fill-opacity: 1; white-space: pre; opacity: 1;\" transform=\"translate(0,135.7)\">45</text></g><g class=\"ycbd8058btick\"><text text-anchor=\"start\" x=\"889.4\" y=\"4.199999999999999\" style=\"font-family: 'Open Sans', verdana, arial, sans-serif; font-size: 12px; fill: rgb(36, 36, 36); fill-opacity: 1; white-space: pre; opacity: 1;\" transform=\"translate(0,79.99999999999999)\">50</text></g></g><g class=\"cbtitleunshift\" transform=\"translate(-80,-70)\"><g class=\"cbtitle\"/></g><rect class=\"cboutline\" x=\"852\" y=\"10\" width=\"30\" height=\"557\" style=\"stroke: rgb(68, 68, 68); stroke-opacity: 1; fill: none; stroke-width: 1;\"/></g><g class=\"g-gtitle\"><text class=\"gtitle\" x=\"50\" y=\"35\" text-anchor=\"start\" dy=\"0em\" style=\"opacity: 1; font-family: 'Open Sans', verdana, arial, sans-serif; font-size: 17px; fill: rgb(36, 36, 36); fill-opacity: 1; white-space: pre;\">Enrollments and ratings per course difficulty</text></g><g class=\"g-xtitle\"/><g class=\"g-x2title\"/><g class=\"g-x3title\"/><g class=\"g-x4title\"/><g class=\"g-ytitle\"><text class=\"ytitle\" transform=\"rotate(-90,22.209375,358.5)\" x=\"22.209375\" y=\"358.5\" text-anchor=\"middle\" style=\"opacity: 1; font-family: 'Open Sans', verdana, arial, sans-serif; font-size: 14px; fill: rgb(36, 36, 36); fill-opacity: 1; white-space: pre;\">Students enrolled</text></g><g class=\"g-y2title\"/><g class=\"g-y3title\"/><g class=\"g-y4title\"/><g class=\"annotation\" data-index=\"0\" style=\"opacity: 1;\"><g class=\"annotation-text-g\" transform=\"rotate(0,176.9375,60.5)\"><g class=\"cursor-pointer\" transform=\"translate(147,51)\"><rect class=\"bg\" x=\"0.5\" y=\"0.5\" width=\"58\" height=\"18\" style=\"stroke-width: 1px; stroke: rgb(0, 0, 0); stroke-opacity: 0; fill: rgb(0, 0, 0); fill-opacity: 0;\"/><text class=\"annotation-text\" text-anchor=\"middle\" x=\"28.8125\" y=\"14\" style=\"font-family: 'Open Sans', verdana, arial, sans-serif; font-size: 12px; fill: rgb(36, 36, 36); fill-opacity: 1; white-space: pre;\">Beginner</text></g></g></g><g class=\"annotation\" data-index=\"1\" style=\"opacity: 1;\"><g class=\"annotation-text-g\" transform=\"rotate(0,387.3125,60.5)\"><g class=\"cursor-pointer\" transform=\"translate(346,51)\"><rect class=\"bg\" x=\"0.5\" y=\"0.5\" width=\"81\" height=\"18\" style=\"stroke-width: 1px; stroke: rgb(0, 0, 0); stroke-opacity: 0; fill: rgb(0, 0, 0); fill-opacity: 0;\"/><text class=\"annotation-text\" text-anchor=\"middle\" x=\"41.171875\" y=\"14\" style=\"font-family: 'Open Sans', verdana, arial, sans-serif; font-size: 12px; fill: rgb(36, 36, 36); fill-opacity: 1; white-space: pre;\">Intermediate</text></g></g></g><g class=\"annotation\" data-index=\"2\" style=\"opacity: 1;\"><g class=\"annotation-text-g\" transform=\"rotate(0,597.6875,60.5)\"><g class=\"cursor-pointer\" transform=\"translate(578,51)\"><rect class=\"bg\" x=\"0.5\" y=\"0.5\" width=\"38\" height=\"18\" style=\"stroke-width: 1px; stroke: rgb(0, 0, 0); stroke-opacity: 0; fill: rgb(0, 0, 0); fill-opacity: 0;\"/><text class=\"annotation-text\" text-anchor=\"middle\" x=\"19.5\" y=\"14\" style=\"font-family: 'Open Sans', verdana, arial, sans-serif; font-size: 12px; fill: rgb(36, 36, 36); fill-opacity: 1; white-space: pre;\">Mixed</text></g></g></g><g class=\"annotation\" data-index=\"3\" style=\"opacity: 1;\"><g class=\"annotation-text-g\" transform=\"rotate(0,808.0624999999999,60.5)\"><g class=\"cursor-pointer\" transform=\"translate(777,51)\"><rect class=\"bg\" x=\"0.5\" y=\"0.5\" width=\"61\" height=\"18\" style=\"stroke-width: 1px; stroke: rgb(0, 0, 0); stroke-opacity: 0; fill: rgb(0, 0, 0); fill-opacity: 0;\"/><text class=\"annotation-text\" text-anchor=\"middle\" x=\"31.125\" y=\"14\" style=\"font-family: 'Open Sans', verdana, arial, sans-serif; font-size: 12px; fill: rgb(36, 36, 36); fill-opacity: 1; white-space: pre;\">Advanced</text></g></g></g></g></svg>"
      ]
     },
     "metadata": {},
     "output_type": "display_data"
    }
   ],
   "source": [
    "fig = px.density_contour(\n",
    "    df_cleaned, \n",
    "    x=\"course_rating\", \n",
    "    y=\"course_students_enrolled\", \n",
    "    facet_col=\"course_difficulty\", \n",
    "    template=\"simple_white\",\n",
    "    width=1000, \n",
    "    height=700\n",
    ")\n",
    "\n",
    "fig.update_traces(\n",
    "    contours_coloring=\"fill\", \n",
    "    colorscale=\"Blues\",\n",
    "    zmin=0,\n",
    "    zmax=50,\n",
    "    hovertemplate=\n",
    "        \"Students Enrolled: %{y:,.0f}<br>\" + \n",
    "        \"Rating: %{x}<br>\" + \n",
    "        \"Density: %{z}<br>\" \n",
    ")\n",
    "\n",
    "fig.update_layout(\n",
    "    title = \"Enrollments and ratings per course difficulty\",\n",
    "    yaxis_title = \"Students enrolled\",\n",
    "    xaxis_title = False,\n",
    "    hoverlabel=dict(\n",
    "        bgcolor=\"white\",\n",
    "        bordercolor = \"white\",\n",
    "        font=dict(\n",
    "            color=\"#494a5e\"\n",
    "        )\n",
    "    ),\n",
    "    margin=dict(t=70, b=5)\n",
    ")\n",
    "\n",
    "forth_facet_data = df_cleaned[df_cleaned['course_difficulty'] == \"Advanced\"]\n",
    "fig.add_trace(go.Scatter(\n",
    "    x=forth_facet_data['course_rating'],\n",
    "    y=forth_facet_data['course_students_enrolled'],\n",
    "    mode='markers',\n",
    "    marker=dict(\n",
    "        color=\"#1D6996\",\n",
    "        size=5,\n",
    "        opacity=0.4\n",
    "        ),\n",
    "        name=\"Professional certificate\",\n",
    "        hovertext=(\n",
    "            \"Title: \" + \"<b>\" + forth_facet_data[\"course_title\"].astype(str) + \"</b>\" +\"<br>\" + \n",
    "            \"Students Enrolled: \" + forth_facet_data[\"course_students_enrolled\"].map(lambda x: f\"{x:,.0f}\").astype(str) + \"<br>\" + \n",
    "            \"Organization: \"+ forth_facet_data['course_organization'].astype(str) + \"<br>\" + \n",
    "            \"Rating: \" + forth_facet_data['course_rating'].astype(str)\n",
    "        ),  \n",
    "    hoverinfo=\"text\"\n",
    "    ), \n",
    "    row=1, \n",
    "    col=4,\n",
    ")\n",
    "\n",
    "fig.for_each_annotation(lambda a: a.update(text=a.text.split(\"=\")[-1]))\n",
    "fig.update_xaxes(title='')\n",
    "\n",
    "fig.show()"
   ]
  },
  {
   "cell_type": "code",
   "execution_count": 537,
   "metadata": {},
   "outputs": [
    {
     "data": {
      "application/vnd.plotly.v1+json": {
       "config": {
        "plotlyServerURL": "https://plot.ly"
       },
       "data": [
        {
         "colorscale": [
          [
           0,
           "rgb(247,251,255)"
          ],
          [
           0.125,
           "rgb(222,235,247)"
          ],
          [
           0.25,
           "rgb(198,219,239)"
          ],
          [
           0.375,
           "rgb(158,202,225)"
          ],
          [
           0.5,
           "rgb(107,174,214)"
          ],
          [
           0.625,
           "rgb(66,146,198)"
          ],
          [
           0.75,
           "rgb(33,113,181)"
          ],
          [
           0.875,
           "rgb(8,81,156)"
          ],
          [
           1,
           "rgb(8,48,107)"
          ]
         ],
         "contours": {
          "coloring": "fill",
          "showlines": false
         },
         "nbinsx": 40,
         "nbinsy": 40,
         "type": "histogram2dcontour",
         "x": [
          4.6,
          4.6,
          4.9,
          4.6,
          4.5,
          4.6,
          4.7,
          4.7,
          4.8,
          4.8,
          4.6,
          4.7,
          4.8,
          4.6,
          4.6,
          4.7,
          4.7,
          4.6,
          4.7,
          4.7,
          4.7,
          4.7,
          4.6,
          4.9,
          4.7,
          4.6,
          4.7,
          4.7,
          4.6,
          4.6,
          4.6,
          4.9,
          4.9,
          4.5,
          4.7,
          4.9,
          4.7,
          4.6,
          4.7,
          4.4,
          4.7,
          4.8,
          4.8,
          4.7,
          4.8,
          4.7,
          4.7,
          4.7,
          4.8,
          4.7,
          4.7,
          4.7,
          4.9,
          4.7,
          4.8,
          4.7,
          4.7,
          4.8,
          4.5,
          4.8,
          4.8,
          4.5,
          4.7,
          4.7,
          4.9,
          4.7,
          4.7,
          4.8,
          4.6,
          4.8,
          4.7,
          4.7,
          4.8,
          4.8,
          4.8,
          4.8,
          4.8,
          4.8,
          4.5,
          4.7,
          4.6,
          4.5,
          4.7,
          4.7,
          4.8,
          4.7,
          4.7,
          4.7,
          4.7,
          4.8,
          4.5,
          4.5,
          4.7,
          4.6,
          4.7,
          4.7,
          4.7,
          4.8,
          4.6,
          4.6,
          4.4,
          4.7,
          4.7,
          4.6,
          4.6,
          4.7,
          4.8,
          4.9,
          4.6,
          4.8,
          4.7,
          4.7,
          4.8,
          4.6,
          4.7,
          4.7,
          4.7,
          4.7,
          4.7,
          4.8,
          4.7,
          4.8,
          4.7,
          4.8,
          4.6,
          4.8,
          4.7,
          4.8,
          4.7,
          4.7,
          4.8,
          4.6,
          4.8,
          4.8,
          4.7,
          4.8,
          4.6,
          4.9,
          4.8,
          4.5,
          4.4,
          4.8,
          4.6,
          4.7,
          4.8,
          4.7,
          4.6,
          4.7,
          4.8,
          4.7,
          4.6,
          4.8,
          4.6,
          4.4,
          4.7,
          4.9,
          4.8,
          4.8,
          4.5,
          4.9,
          4.5,
          4.3,
          4.8,
          4.7,
          4.7,
          4.8,
          4.7,
          4.6,
          4.8,
          4.9,
          4.7,
          4.7,
          4.7,
          4.5,
          4.9,
          4.5,
          4.6,
          4.6,
          4.4,
          4.8,
          4.8,
          4.8,
          4.5,
          4.8,
          4.8,
          4.5,
          4.6,
          4.9,
          4.8,
          4.6,
          4.8,
          4.8,
          4.3,
          4.8,
          4.8,
          4.3,
          4.5,
          4.8,
          4.5,
          4.7,
          4.7,
          4.6,
          4.7,
          4.7,
          4.7,
          4.8,
          4.4,
          4.8,
          4.6,
          4.5,
          4.8,
          4.8,
          4.7,
          4.7,
          4.9,
          4.8,
          4.8,
          4.7,
          4.6,
          4.6,
          4.7,
          4.8,
          4.8,
          4.5,
          4.5,
          4.8,
          4.7,
          4.5,
          4.7,
          4.7,
          4.6,
          4.8,
          4.3,
          4.8,
          4.6,
          4.7,
          4.6,
          4.8,
          4.8,
          4.5,
          4.8,
          4.6,
          4.7,
          4.8,
          4.9,
          4.8,
          4.7,
          4.8,
          4.4,
          4.6,
          4.9,
          4.8,
          4.7,
          4.7,
          4.9,
          4.8,
          4.5,
          4.7,
          4.8,
          4.4,
          4.8,
          4.8,
          4.5,
          4.6,
          4.7,
          4.8,
          4.6,
          4.8,
          4.6,
          4.8,
          4.6,
          4.8,
          4.3,
          4.8,
          4.7,
          4.8,
          4.4,
          4.8,
          4.6,
          4.8,
          4.7,
          4.6,
          4.7,
          4.8,
          4.7,
          4.5,
          4.8,
          4.8,
          4.5,
          4.9,
          4.6,
          4.6,
          4.4,
          4.8,
          4.6,
          4.6,
          4.7,
          4.5,
          4.7,
          4.4,
          4.5,
          4.6,
          4.9,
          4.8,
          4.6,
          4.5,
          4.7,
          4.8,
          4.7,
          4.7,
          4.9,
          4.5,
          4.8,
          4.8,
          4.5,
          4.6,
          4.6,
          4.6,
          4.5,
          4.9,
          4.5,
          4.7,
          4.7,
          4.5,
          4.7,
          5,
          4.6,
          4.7,
          4.8,
          4.5,
          4.7,
          4.7,
          4.8,
          4.7,
          4.7,
          4.6,
          4.8,
          4.7,
          4.9,
          4.7,
          4.4,
          4.8,
          4.8,
          4.8,
          4.6,
          4.9,
          4.5,
          4.4,
          4.6,
          4.8,
          4.7,
          4.7,
          4.5,
          4.6,
          4.6,
          4.6,
          4.6,
          4.8,
          4.4,
          4.7,
          4.6,
          4.5,
          4.9,
          4.3,
          4.6,
          4.6,
          4.8,
          4.8,
          4.8,
          4.5,
          4.7,
          4.5,
          4.6,
          4.7,
          4.8,
          4.5,
          4.8,
          4.7,
          4.7,
          4.8,
          4.6,
          4.6,
          4.8,
          4.7,
          4.6,
          4.8,
          4.6,
          4.3,
          4.7,
          4.7,
          4.8,
          4.9,
          4.8,
          4.5,
          4.7,
          4.7,
          4.8,
          4.8,
          4.7,
          4.7,
          4.8,
          4.5,
          4.9,
          4.7,
          4.7,
          4.4,
          4.7,
          4.7,
          4.7,
          4.8,
          4.9,
          4.5,
          4.6,
          4.6,
          4.8,
          4.8,
          4.7,
          4.8,
          4.6,
          4.5,
          4.8,
          4.9,
          4.8,
          4.6,
          4.7,
          4.6,
          4.8,
          4.8,
          4.8,
          4.8,
          4.8,
          4.7,
          4.8,
          4.8,
          4.7,
          4.8,
          4.8,
          4.7,
          4.7,
          4.6,
          4.8,
          4.5,
          4.8,
          4.7,
          4.7,
          4.9,
          4.7,
          4.6,
          4.8,
          4.7,
          4.8,
          4.7,
          4.6,
          4.7,
          4.5,
          4.7,
          4.8,
          4.6,
          4.6,
          4.9,
          4.8,
          4.7,
          4.7,
          4.4,
          4.8,
          4.8,
          4.5,
          4.7,
          4.6,
          4.7,
          4.6,
          4.9,
          4.3,
          4.8,
          4.8,
          4.7,
          4.8,
          4.5,
          4.9,
          4.7,
          4.7,
          4.7,
          4.3,
          4.7,
          4.4,
          4.7,
          4.8,
          4.5,
          4.7,
          4.4,
          4.5,
          4.5,
          4.8,
          4.6,
          4.9,
          4.7,
          4.6,
          4.8,
          4.8,
          4.7,
          4.6,
          4.6,
          4.6,
          4.6,
          4.5,
          4.9,
          4.8,
          4.8,
          4.7,
          4.7,
          4.5,
          4.6,
          4.6,
          4.8,
          4.6,
          4.8,
          4.8,
          4.8,
          4.8,
          4.4,
          4.8,
          4.7,
          4.5,
          4.8,
          4.8,
          4.5,
          4.7,
          4.3,
          4.7,
          4.6,
          4.6,
          4.6,
          4.6,
          4.7,
          4.8,
          4.9,
          4.9,
          4.6,
          4.8,
          4.8,
          4.8,
          4.7,
          4.8,
          4.4,
          4.7,
          4.7,
          4.6,
          4.3,
          4.9,
          4.6,
          4.7,
          4.9,
          4.7,
          4.9,
          4.6,
          4.6,
          4.7,
          4.6,
          4.5,
          4.8,
          4.9,
          4.6,
          4.9,
          4.3,
          4.5,
          4.7,
          4.6,
          4.9,
          4.5,
          4.7,
          4.7,
          4.8,
          4.9,
          4.7,
          4.6,
          4.7,
          4.5,
          4.5,
          4.8,
          4.7,
          4.8,
          4.7,
          4.9,
          4.8,
          4.5,
          4.8,
          4.8,
          4.8,
          4.6,
          4.6,
          4.8,
          4.6,
          4.8,
          4.4,
          4.7,
          4.5,
          4.8,
          4.7,
          4.4,
          4.8,
          4.7,
          4.6,
          4.9,
          4.8,
          4.7,
          4.6,
          4.6,
          4.5,
          4.3,
          4.7,
          4.8,
          4.9,
          4.8,
          4.8,
          4.7,
          4.4,
          4.7,
          4.6,
          4.7,
          4.6,
          4.6,
          4.7,
          4.8,
          4.7,
          4.7,
          4.9,
          4.7,
          4.7,
          4.8,
          4.6,
          4.7,
          4.8,
          4.7,
          4.7,
          4.6,
          4.8,
          4.5,
          4.7,
          4.7,
          4.8,
          4.7,
          4.8,
          4.7,
          4.8,
          4.8,
          4.7,
          4.6,
          4.6,
          4.8,
          4.8,
          4.8,
          4.7,
          4.5,
          4.8,
          4.9,
          4.6,
          4.7,
          4.8,
          4.7,
          4.8,
          4.8,
          4.4,
          4.6,
          4.6,
          4.8,
          4.6,
          4.7,
          4.8,
          4.7,
          4.8,
          4.8,
          4.7,
          4.8,
          4.8,
          4.6,
          4.6,
          4.8,
          4.8,
          4.8,
          4.7,
          4.7,
          4.7,
          4.4,
          4.8,
          4.8,
          4.9,
          4.5,
          4.8,
          4.7,
          4.5,
          4.4,
          4.3,
          4.7,
          4.8,
          4.7,
          4.9,
          4.8,
          4.3,
          4.8,
          4.8,
          5,
          4.8,
          4.6,
          4.7,
          4.7,
          4.8,
          4.7,
          4.6,
          4.8,
          4.8,
          4.6,
          4.8,
          4.7,
          4.7,
          4.8,
          4.4,
          4.7,
          4.4,
          4.7,
          4.7,
          4.6,
          4.8,
          4.4,
          4.6,
          4.8,
          4.8,
          4.6,
          4.6,
          4.6,
          4.7,
          4.6,
          4.7,
          4.7,
          4.5,
          4.8,
          4.6,
          4.9,
          4.5,
          4.7,
          4.8,
          4.8,
          4.7,
          4.8,
          4.6,
          4.4,
          4.6,
          4.8,
          4.5,
          4.7,
          4.9,
          4.8,
          4.6,
          4.8,
          4.8,
          4.9,
          4.7,
          4.8,
          4.7,
          4.8,
          4.9,
          4.4,
          4.7,
          4.8,
          4.5,
          4.9,
          4.6,
          4.7,
          4.7,
          4.5,
          4.7,
          4.6,
          4.7,
          4.8,
          4.5,
          4.9,
          4.7,
          4.6,
          4.7,
          4.8,
          4.7,
          4.5,
          4.5,
          4.6,
          4.6,
          4.9,
          4.6,
          4.8,
          4.8,
          4.8,
          4.8,
          4.8,
          4.6,
          4.8,
          4.4,
          4.7,
          4.7,
          4.9
         ],
         "y": [
          220000,
          220000,
          220000,
          120000,
          160000,
          120000,
          93000,
          170000,
          89000,
          110000,
          140000,
          13000,
          190000,
          220000,
          130000,
          68000,
          61000,
          130000,
          82000,
          110000,
          98000,
          140000,
          150000,
          150000,
          61000,
          140000,
          31000,
          220000,
          110000,
          22000,
          20000,
          100000,
          140000,
          96000,
          150000,
          57000,
          120000,
          160000,
          94000,
          80000,
          120000,
          150000,
          97000,
          99000,
          120000,
          23000,
          220000,
          220000,
          65000,
          140000,
          68000,
          23000,
          200000,
          100000,
          70000,
          57000,
          110000,
          84000,
          35000,
          180000,
          57000,
          190000,
          89000,
          160000,
          210000,
          150000,
          36000,
          51000,
          80000,
          79000,
          10000,
          92000,
          23000,
          30000,
          8700,
          140000,
          110000,
          56000,
          72000,
          24000,
          34000,
          150000,
          12000,
          20000,
          14000,
          77000,
          23000,
          5300,
          130000,
          220000,
          170000,
          100000,
          67000,
          93000,
          22000,
          21000,
          120000,
          9400,
          120000,
          14000,
          210000,
          76000,
          220000,
          170000,
          44000,
          39000,
          43000,
          68000,
          100000,
          23000,
          30000,
          38000,
          200000,
          110000,
          110000,
          18000,
          120000,
          180000,
          16000,
          14000,
          120000,
          24000,
          42000,
          100000,
          28000,
          81000,
          7000,
          120000,
          32000,
          97000,
          190000,
          60000,
          42000,
          220000,
          82000,
          190000,
          79000,
          35000,
          110000,
          49000,
          75000,
          51000,
          89000,
          12000,
          71000,
          68000,
          26000,
          200000,
          54000,
          100000,
          18000,
          64000,
          56000,
          57000,
          40000,
          170000,
          20000,
          72000,
          12000,
          76000,
          72000,
          68000,
          33000,
          36000,
          140000,
          22000,
          22000,
          120000,
          41000,
          83000,
          150000,
          43000,
          32000,
          67000,
          62000,
          52000,
          37000,
          26000,
          9000,
          50000,
          81000,
          14000,
          8100,
          12000,
          86000,
          78000,
          17000,
          130000,
          67000,
          68000,
          100000,
          25000,
          32000,
          11000,
          69000,
          13000,
          60000,
          180000,
          120000,
          63000,
          110000,
          58000,
          69000,
          29000,
          37000,
          110000,
          55000,
          52000,
          180000,
          27000,
          84000,
          32000,
          37000,
          110000,
          86000,
          110000,
          19000,
          110000,
          47000,
          4000,
          190000,
          14000,
          140000,
          140000,
          170000,
          43000,
          180000,
          7900,
          49000,
          28000,
          39000,
          14000,
          23000,
          90000,
          47000,
          220000,
          10000,
          36000,
          130000,
          16000,
          43000,
          29000,
          220000,
          8800,
          120000,
          69000,
          31000,
          4100,
          120000,
          76000,
          79000,
          31000,
          10000,
          120000,
          18000,
          57000,
          35000,
          39000,
          15000,
          100000,
          50000,
          9200,
          33000,
          160000,
          21000,
          4800,
          130000,
          14000,
          16000,
          95000,
          39000,
          5300,
          45000,
          20000,
          83000,
          67000,
          110000,
          220000,
          130000,
          78000,
          34000,
          3800,
          6500,
          130000,
          46000,
          17000,
          39000,
          26000,
          84000,
          8800,
          40000,
          30000,
          60000,
          9100,
          56000,
          4900,
          120000,
          99000,
          1700,
          41000,
          73000,
          120000,
          47000,
          130000,
          94000,
          22000,
          58000,
          24000,
          42000,
          66000,
          17000,
          3900,
          110000,
          68000,
          120000,
          5800,
          150000,
          2600,
          78000,
          95000,
          10000,
          54000,
          80000,
          140000,
          29000,
          1600,
          34000,
          62000,
          22000,
          19000,
          43000,
          37000,
          3300,
          55000,
          13000,
          18000,
          53000,
          91000,
          36000,
          18000,
          13000,
          82000,
          54000,
          39000,
          66000,
          150000,
          75000,
          36000,
          52000,
          86000,
          6400,
          44000,
          87000,
          39000,
          19000,
          40000,
          4900,
          16000,
          140000,
          43000,
          54000,
          4200,
          5400,
          66000,
          78000,
          30000,
          9700,
          85000,
          7200,
          30000,
          68000,
          2200,
          26000,
          49000,
          32000,
          22000,
          31000,
          12000,
          14000,
          38000,
          2300,
          4800,
          56000,
          5200,
          130000,
          14000,
          1600,
          140000,
          34000,
          30000,
          49000,
          11000,
          9200,
          30000,
          41000,
          160000,
          22000,
          62000,
          34000,
          10000,
          79000,
          12000,
          40000,
          69000,
          7900,
          48000,
          16000,
          84000,
          17000,
          2400,
          73000,
          35000,
          97000,
          14000,
          91000,
          18000,
          140000,
          38000,
          23000,
          8800,
          74000,
          89000,
          89000,
          69000,
          83000,
          71000,
          130000,
          42000,
          47000,
          20000,
          18000,
          21000,
          34000,
          200000,
          10000,
          11000,
          17000,
          8000,
          120000,
          160000,
          150000,
          81000,
          3200,
          97000,
          9100,
          13000,
          130000,
          9100,
          45000,
          51000,
          45000,
          110000,
          13000,
          24000,
          87000,
          120000,
          35000,
          82000,
          10000,
          22000,
          48000,
          14000,
          10000,
          140000,
          6200,
          43000,
          30000,
          37000,
          42000,
          99000,
          32000,
          180000,
          29000,
          170000,
          26000,
          71000,
          72000,
          27000,
          81000,
          23000,
          220000,
          23000,
          52000,
          57000,
          88000,
          18000,
          34000,
          73000,
          23000,
          3500,
          34000,
          3900,
          4200,
          8400,
          9400,
          34000,
          22000,
          36000,
          16000,
          49000,
          66000,
          9400,
          200000,
          19000,
          22000,
          29000,
          11000,
          40000,
          9700,
          39000,
          9200,
          11000,
          2600,
          25000,
          5500,
          59000,
          110000,
          44000,
          68000,
          5600,
          29000,
          19000,
          80000,
          24000,
          23000,
          69000,
          16000,
          24000,
          38000,
          2900,
          200000,
          43000,
          26000,
          33000,
          11000,
          12000,
          27000,
          27000,
          15000,
          20000,
          5600,
          76000,
          39000,
          8200,
          150000,
          47000,
          150000,
          11000,
          30000,
          180000,
          5200,
          46000,
          42000,
          3900,
          4400,
          2200,
          110000,
          180000,
          10000,
          4000,
          9500,
          40000,
          33000,
          60000,
          41000,
          47000,
          15000,
          44000,
          7300,
          17000,
          120000,
          16000,
          28000,
          35000,
          22000,
          39000,
          31000,
          11000,
          84000,
          79000,
          28000,
          36000,
          8900,
          58000,
          22000,
          47000,
          61000,
          25000,
          17000,
          4000,
          29000,
          19000,
          26000,
          3000,
          17000,
          59000,
          12000,
          68000,
          18000,
          21000,
          130000,
          35000,
          15000,
          6000,
          12000,
          75000,
          39000,
          1800,
          19000,
          61000,
          59000,
          40000,
          52000,
          23000,
          5500,
          25000,
          22000,
          83000,
          31000,
          47000,
          36000,
          16000,
          35000,
          15000,
          62000,
          21000,
          14000,
          14000,
          7800,
          36000,
          14000,
          44000,
          23000,
          31000,
          8000,
          63000,
          16000,
          27000,
          150000,
          10000,
          19000,
          9900,
          19000,
          39000,
          22000,
          19000,
          17000,
          59000,
          4100,
          31000,
          22000,
          77000,
          5400,
          7600,
          4500,
          25000,
          17000,
          16000,
          110000,
          49000,
          10000,
          18000,
          11000,
          6300,
          1900,
          7900,
          66000,
          12000,
          5900,
          41000,
          210000,
          33000,
          11000,
          24000,
          3600,
          6500,
          6800,
          23000,
          3200,
          12000,
          23000,
          14000,
          2400,
          7700,
          110000,
          3400,
          54000,
          62000,
          6500,
          37000,
          12000,
          20000,
          16000,
          33000,
          19000,
          34000,
          62000,
          22000,
          17000,
          53000,
          1500,
          170000,
          78000,
          15000,
          150000,
          15000,
          12000,
          47000,
          8100,
          30000,
          63000,
          55000,
          58000,
          14000,
          60000,
          12000,
          4500,
          8500,
          22000,
          4200,
          12000,
          67000,
          100000,
          31000,
          20000,
          49000,
          13000,
          13000,
          50000,
          6600,
          5500,
          9500,
          69000,
          67000,
          14000,
          1700,
          3000,
          13000,
          35000,
          60000,
          7100,
          3200,
          38000,
          37000,
          6400,
          9700,
          23000,
          7200,
          48000,
          41000,
          17000,
          29000,
          46000,
          46000,
          12000,
          27000,
          51000,
          36000,
          79000,
          4400,
          57000,
          21000,
          15000,
          21000,
          1700,
          56000,
          25000,
          60000,
          12000,
          27000,
          160000,
          45000,
          7200,
          6100,
          120000,
          22000,
          7200,
          21000,
          12000,
          18000,
          42000,
          130000,
          9800,
          16000,
          10000,
          42000,
          46000,
          28000,
          13000,
          9500,
          21000,
          5800,
          7300,
          11000,
          33000,
          45000,
          6400
         ]
        }
       ],
       "layout": {
        "coloraxis": {
         "colorbar": {
          "title": {
           "side": "right",
           "text": "Density"
          }
         }
        },
        "height": 700,
        "template": {
         "data": {
          "bar": [
           {
            "error_x": {
             "color": "rgb(36,36,36)"
            },
            "error_y": {
             "color": "rgb(36,36,36)"
            },
            "marker": {
             "line": {
              "color": "white",
              "width": 0.5
             },
             "pattern": {
              "fillmode": "overlay",
              "size": 10,
              "solidity": 0.2
             }
            },
            "type": "bar"
           }
          ],
          "barpolar": [
           {
            "marker": {
             "line": {
              "color": "white",
              "width": 0.5
             },
             "pattern": {
              "fillmode": "overlay",
              "size": 10,
              "solidity": 0.2
             }
            },
            "type": "barpolar"
           }
          ],
          "carpet": [
           {
            "aaxis": {
             "endlinecolor": "rgb(36,36,36)",
             "gridcolor": "white",
             "linecolor": "white",
             "minorgridcolor": "white",
             "startlinecolor": "rgb(36,36,36)"
            },
            "baxis": {
             "endlinecolor": "rgb(36,36,36)",
             "gridcolor": "white",
             "linecolor": "white",
             "minorgridcolor": "white",
             "startlinecolor": "rgb(36,36,36)"
            },
            "type": "carpet"
           }
          ],
          "choropleth": [
           {
            "colorbar": {
             "outlinewidth": 1,
             "tickcolor": "rgb(36,36,36)",
             "ticks": "outside"
            },
            "type": "choropleth"
           }
          ],
          "contour": [
           {
            "colorbar": {
             "outlinewidth": 1,
             "tickcolor": "rgb(36,36,36)",
             "ticks": "outside"
            },
            "colorscale": [
             [
              0,
              "#440154"
             ],
             [
              0.1111111111111111,
              "#482878"
             ],
             [
              0.2222222222222222,
              "#3e4989"
             ],
             [
              0.3333333333333333,
              "#31688e"
             ],
             [
              0.4444444444444444,
              "#26828e"
             ],
             [
              0.5555555555555556,
              "#1f9e89"
             ],
             [
              0.6666666666666666,
              "#35b779"
             ],
             [
              0.7777777777777778,
              "#6ece58"
             ],
             [
              0.8888888888888888,
              "#b5de2b"
             ],
             [
              1,
              "#fde725"
             ]
            ],
            "type": "contour"
           }
          ],
          "contourcarpet": [
           {
            "colorbar": {
             "outlinewidth": 1,
             "tickcolor": "rgb(36,36,36)",
             "ticks": "outside"
            },
            "type": "contourcarpet"
           }
          ],
          "heatmap": [
           {
            "colorbar": {
             "outlinewidth": 1,
             "tickcolor": "rgb(36,36,36)",
             "ticks": "outside"
            },
            "colorscale": [
             [
              0,
              "#440154"
             ],
             [
              0.1111111111111111,
              "#482878"
             ],
             [
              0.2222222222222222,
              "#3e4989"
             ],
             [
              0.3333333333333333,
              "#31688e"
             ],
             [
              0.4444444444444444,
              "#26828e"
             ],
             [
              0.5555555555555556,
              "#1f9e89"
             ],
             [
              0.6666666666666666,
              "#35b779"
             ],
             [
              0.7777777777777778,
              "#6ece58"
             ],
             [
              0.8888888888888888,
              "#b5de2b"
             ],
             [
              1,
              "#fde725"
             ]
            ],
            "type": "heatmap"
           }
          ],
          "heatmapgl": [
           {
            "colorbar": {
             "outlinewidth": 1,
             "tickcolor": "rgb(36,36,36)",
             "ticks": "outside"
            },
            "colorscale": [
             [
              0,
              "#440154"
             ],
             [
              0.1111111111111111,
              "#482878"
             ],
             [
              0.2222222222222222,
              "#3e4989"
             ],
             [
              0.3333333333333333,
              "#31688e"
             ],
             [
              0.4444444444444444,
              "#26828e"
             ],
             [
              0.5555555555555556,
              "#1f9e89"
             ],
             [
              0.6666666666666666,
              "#35b779"
             ],
             [
              0.7777777777777778,
              "#6ece58"
             ],
             [
              0.8888888888888888,
              "#b5de2b"
             ],
             [
              1,
              "#fde725"
             ]
            ],
            "type": "heatmapgl"
           }
          ],
          "histogram": [
           {
            "marker": {
             "line": {
              "color": "white",
              "width": 0.6
             }
            },
            "type": "histogram"
           }
          ],
          "histogram2d": [
           {
            "colorbar": {
             "outlinewidth": 1,
             "tickcolor": "rgb(36,36,36)",
             "ticks": "outside"
            },
            "colorscale": [
             [
              0,
              "#440154"
             ],
             [
              0.1111111111111111,
              "#482878"
             ],
             [
              0.2222222222222222,
              "#3e4989"
             ],
             [
              0.3333333333333333,
              "#31688e"
             ],
             [
              0.4444444444444444,
              "#26828e"
             ],
             [
              0.5555555555555556,
              "#1f9e89"
             ],
             [
              0.6666666666666666,
              "#35b779"
             ],
             [
              0.7777777777777778,
              "#6ece58"
             ],
             [
              0.8888888888888888,
              "#b5de2b"
             ],
             [
              1,
              "#fde725"
             ]
            ],
            "type": "histogram2d"
           }
          ],
          "histogram2dcontour": [
           {
            "colorbar": {
             "outlinewidth": 1,
             "tickcolor": "rgb(36,36,36)",
             "ticks": "outside"
            },
            "colorscale": [
             [
              0,
              "#440154"
             ],
             [
              0.1111111111111111,
              "#482878"
             ],
             [
              0.2222222222222222,
              "#3e4989"
             ],
             [
              0.3333333333333333,
              "#31688e"
             ],
             [
              0.4444444444444444,
              "#26828e"
             ],
             [
              0.5555555555555556,
              "#1f9e89"
             ],
             [
              0.6666666666666666,
              "#35b779"
             ],
             [
              0.7777777777777778,
              "#6ece58"
             ],
             [
              0.8888888888888888,
              "#b5de2b"
             ],
             [
              1,
              "#fde725"
             ]
            ],
            "type": "histogram2dcontour"
           }
          ],
          "mesh3d": [
           {
            "colorbar": {
             "outlinewidth": 1,
             "tickcolor": "rgb(36,36,36)",
             "ticks": "outside"
            },
            "type": "mesh3d"
           }
          ],
          "parcoords": [
           {
            "line": {
             "colorbar": {
              "outlinewidth": 1,
              "tickcolor": "rgb(36,36,36)",
              "ticks": "outside"
             }
            },
            "type": "parcoords"
           }
          ],
          "pie": [
           {
            "automargin": true,
            "type": "pie"
           }
          ],
          "scatter": [
           {
            "fillpattern": {
             "fillmode": "overlay",
             "size": 10,
             "solidity": 0.2
            },
            "type": "scatter"
           }
          ],
          "scatter3d": [
           {
            "line": {
             "colorbar": {
              "outlinewidth": 1,
              "tickcolor": "rgb(36,36,36)",
              "ticks": "outside"
             }
            },
            "marker": {
             "colorbar": {
              "outlinewidth": 1,
              "tickcolor": "rgb(36,36,36)",
              "ticks": "outside"
             }
            },
            "type": "scatter3d"
           }
          ],
          "scattercarpet": [
           {
            "marker": {
             "colorbar": {
              "outlinewidth": 1,
              "tickcolor": "rgb(36,36,36)",
              "ticks": "outside"
             }
            },
            "type": "scattercarpet"
           }
          ],
          "scattergeo": [
           {
            "marker": {
             "colorbar": {
              "outlinewidth": 1,
              "tickcolor": "rgb(36,36,36)",
              "ticks": "outside"
             }
            },
            "type": "scattergeo"
           }
          ],
          "scattergl": [
           {
            "marker": {
             "colorbar": {
              "outlinewidth": 1,
              "tickcolor": "rgb(36,36,36)",
              "ticks": "outside"
             }
            },
            "type": "scattergl"
           }
          ],
          "scattermapbox": [
           {
            "marker": {
             "colorbar": {
              "outlinewidth": 1,
              "tickcolor": "rgb(36,36,36)",
              "ticks": "outside"
             }
            },
            "type": "scattermapbox"
           }
          ],
          "scatterpolar": [
           {
            "marker": {
             "colorbar": {
              "outlinewidth": 1,
              "tickcolor": "rgb(36,36,36)",
              "ticks": "outside"
             }
            },
            "type": "scatterpolar"
           }
          ],
          "scatterpolargl": [
           {
            "marker": {
             "colorbar": {
              "outlinewidth": 1,
              "tickcolor": "rgb(36,36,36)",
              "ticks": "outside"
             }
            },
            "type": "scatterpolargl"
           }
          ],
          "scatterternary": [
           {
            "marker": {
             "colorbar": {
              "outlinewidth": 1,
              "tickcolor": "rgb(36,36,36)",
              "ticks": "outside"
             }
            },
            "type": "scatterternary"
           }
          ],
          "surface": [
           {
            "colorbar": {
             "outlinewidth": 1,
             "tickcolor": "rgb(36,36,36)",
             "ticks": "outside"
            },
            "colorscale": [
             [
              0,
              "#440154"
             ],
             [
              0.1111111111111111,
              "#482878"
             ],
             [
              0.2222222222222222,
              "#3e4989"
             ],
             [
              0.3333333333333333,
              "#31688e"
             ],
             [
              0.4444444444444444,
              "#26828e"
             ],
             [
              0.5555555555555556,
              "#1f9e89"
             ],
             [
              0.6666666666666666,
              "#35b779"
             ],
             [
              0.7777777777777778,
              "#6ece58"
             ],
             [
              0.8888888888888888,
              "#b5de2b"
             ],
             [
              1,
              "#fde725"
             ]
            ],
            "type": "surface"
           }
          ],
          "table": [
           {
            "cells": {
             "fill": {
              "color": "rgb(237,237,237)"
             },
             "line": {
              "color": "white"
             }
            },
            "header": {
             "fill": {
              "color": "rgb(217,217,217)"
             },
             "line": {
              "color": "white"
             }
            },
            "type": "table"
           }
          ]
         },
         "layout": {
          "annotationdefaults": {
           "arrowhead": 0,
           "arrowwidth": 1
          },
          "autotypenumbers": "strict",
          "coloraxis": {
           "colorbar": {
            "outlinewidth": 1,
            "tickcolor": "rgb(36,36,36)",
            "ticks": "outside"
           }
          },
          "colorscale": {
           "diverging": [
            [
             0,
             "rgb(103,0,31)"
            ],
            [
             0.1,
             "rgb(178,24,43)"
            ],
            [
             0.2,
             "rgb(214,96,77)"
            ],
            [
             0.3,
             "rgb(244,165,130)"
            ],
            [
             0.4,
             "rgb(253,219,199)"
            ],
            [
             0.5,
             "rgb(247,247,247)"
            ],
            [
             0.6,
             "rgb(209,229,240)"
            ],
            [
             0.7,
             "rgb(146,197,222)"
            ],
            [
             0.8,
             "rgb(67,147,195)"
            ],
            [
             0.9,
             "rgb(33,102,172)"
            ],
            [
             1,
             "rgb(5,48,97)"
            ]
           ],
           "sequential": [
            [
             0,
             "#440154"
            ],
            [
             0.1111111111111111,
             "#482878"
            ],
            [
             0.2222222222222222,
             "#3e4989"
            ],
            [
             0.3333333333333333,
             "#31688e"
            ],
            [
             0.4444444444444444,
             "#26828e"
            ],
            [
             0.5555555555555556,
             "#1f9e89"
            ],
            [
             0.6666666666666666,
             "#35b779"
            ],
            [
             0.7777777777777778,
             "#6ece58"
            ],
            [
             0.8888888888888888,
             "#b5de2b"
            ],
            [
             1,
             "#fde725"
            ]
           ],
           "sequentialminus": [
            [
             0,
             "#440154"
            ],
            [
             0.1111111111111111,
             "#482878"
            ],
            [
             0.2222222222222222,
             "#3e4989"
            ],
            [
             0.3333333333333333,
             "#31688e"
            ],
            [
             0.4444444444444444,
             "#26828e"
            ],
            [
             0.5555555555555556,
             "#1f9e89"
            ],
            [
             0.6666666666666666,
             "#35b779"
            ],
            [
             0.7777777777777778,
             "#6ece58"
            ],
            [
             0.8888888888888888,
             "#b5de2b"
            ],
            [
             1,
             "#fde725"
            ]
           ]
          },
          "colorway": [
           "#1F77B4",
           "#FF7F0E",
           "#2CA02C",
           "#D62728",
           "#9467BD",
           "#8C564B",
           "#E377C2",
           "#7F7F7F",
           "#BCBD22",
           "#17BECF"
          ],
          "font": {
           "color": "rgb(36,36,36)"
          },
          "geo": {
           "bgcolor": "white",
           "lakecolor": "white",
           "landcolor": "white",
           "showlakes": true,
           "showland": true,
           "subunitcolor": "white"
          },
          "hoverlabel": {
           "align": "left"
          },
          "hovermode": "closest",
          "mapbox": {
           "style": "light"
          },
          "paper_bgcolor": "white",
          "plot_bgcolor": "white",
          "polar": {
           "angularaxis": {
            "gridcolor": "rgb(232,232,232)",
            "linecolor": "rgb(36,36,36)",
            "showgrid": false,
            "showline": true,
            "ticks": "outside"
           },
           "bgcolor": "white",
           "radialaxis": {
            "gridcolor": "rgb(232,232,232)",
            "linecolor": "rgb(36,36,36)",
            "showgrid": false,
            "showline": true,
            "ticks": "outside"
           }
          },
          "scene": {
           "xaxis": {
            "backgroundcolor": "white",
            "gridcolor": "rgb(232,232,232)",
            "gridwidth": 2,
            "linecolor": "rgb(36,36,36)",
            "showbackground": true,
            "showgrid": false,
            "showline": true,
            "ticks": "outside",
            "zeroline": false,
            "zerolinecolor": "rgb(36,36,36)"
           },
           "yaxis": {
            "backgroundcolor": "white",
            "gridcolor": "rgb(232,232,232)",
            "gridwidth": 2,
            "linecolor": "rgb(36,36,36)",
            "showbackground": true,
            "showgrid": false,
            "showline": true,
            "ticks": "outside",
            "zeroline": false,
            "zerolinecolor": "rgb(36,36,36)"
           },
           "zaxis": {
            "backgroundcolor": "white",
            "gridcolor": "rgb(232,232,232)",
            "gridwidth": 2,
            "linecolor": "rgb(36,36,36)",
            "showbackground": true,
            "showgrid": false,
            "showline": true,
            "ticks": "outside",
            "zeroline": false,
            "zerolinecolor": "rgb(36,36,36)"
           }
          },
          "shapedefaults": {
           "fillcolor": "black",
           "line": {
            "width": 0
           },
           "opacity": 0.3
          },
          "ternary": {
           "aaxis": {
            "gridcolor": "rgb(232,232,232)",
            "linecolor": "rgb(36,36,36)",
            "showgrid": false,
            "showline": true,
            "ticks": "outside"
           },
           "baxis": {
            "gridcolor": "rgb(232,232,232)",
            "linecolor": "rgb(36,36,36)",
            "showgrid": false,
            "showline": true,
            "ticks": "outside"
           },
           "bgcolor": "white",
           "caxis": {
            "gridcolor": "rgb(232,232,232)",
            "linecolor": "rgb(36,36,36)",
            "showgrid": false,
            "showline": true,
            "ticks": "outside"
           }
          },
          "title": {
           "x": 0.05
          },
          "xaxis": {
           "automargin": true,
           "gridcolor": "rgb(232,232,232)",
           "linecolor": "rgb(36,36,36)",
           "showgrid": false,
           "showline": true,
           "ticks": "outside",
           "title": {
            "standoff": 15
           },
           "zeroline": false,
           "zerolinecolor": "rgb(36,36,36)"
          },
          "yaxis": {
           "automargin": true,
           "gridcolor": "rgb(232,232,232)",
           "linecolor": "rgb(36,36,36)",
           "showgrid": false,
           "showline": true,
           "ticks": "outside",
           "title": {
            "standoff": 15
           },
           "zeroline": false,
           "zerolinecolor": "rgb(36,36,36)"
          }
         }
        },
        "width": 1000
       }
      },
      "image/svg+xml": [
       "<svg class=\"main-svg\" xmlns=\"http://www.w3.org/2000/svg\" xmlns:xlink=\"http://www.w3.org/1999/xlink\" width=\"1000\" height=\"700\" style=\"\" viewBox=\"0 0 1000 700\"><rect x=\"0\" y=\"0\" width=\"1000\" height=\"700\" style=\"fill: rgb(255, 255, 255); fill-opacity: 1;\"/><defs id=\"defs-5bd446\"><g class=\"clips\"><clipPath id=\"clip5bd446xyplot\" class=\"plotclip\"><rect width=\"818\" height=\"520\"/></clipPath><clipPath class=\"axesclip\" id=\"clip5bd446x\"><rect x=\"80\" y=\"0\" width=\"818\" height=\"700\"/></clipPath><clipPath class=\"axesclip\" id=\"clip5bd446y\"><rect x=\"0\" y=\"100\" width=\"1000\" height=\"520\"/></clipPath><clipPath class=\"axesclip\" id=\"clip5bd446xy\"><rect x=\"80\" y=\"100\" width=\"818\" height=\"520\"/></clipPath><clipPath class=\"contourclip\" id=\"clip5d4251\"/></g><g class=\"gradients\"/><g class=\"patterns\"/></defs><g class=\"bglayer\"/><g class=\"layer-below\"><g class=\"imagelayer\"/><g class=\"shapelayer\"/></g><g class=\"cartesianlayer\"><g class=\"subplot xy\"><g class=\"layer-subplot\"><g class=\"shapelayer\"/><g class=\"imagelayer\"/></g><g class=\"minor-gridlayer\"><g class=\"x\"/><g class=\"y\"/></g><g class=\"gridlayer\"><g class=\"x\"/><g class=\"y\"/></g><g class=\"zerolinelayer\"/><g class=\"layer-between\"><g class=\"shapelayer\"/><g class=\"imagelayer\"/></g><path class=\"xlines-below\"/><path class=\"ylines-below\"/><g class=\"overlines-below\"/><g class=\"xaxislayer-below\"/><g class=\"yaxislayer-below\"/><g class=\"overaxes-below\"/><g class=\"overplot\"><g class=\"xy\" transform=\"translate(80,100)\" clip-path=\"url(#clip5bd446xyplot)\"><g class=\"contourlayer mlayer\"><g class=\"contour\" style=\"opacity: 1;\"><g class=\"heatmapcoloring\"/><g class=\"contourbg\"><path d=\"M0,0L818,0L818,520L0,520Z\" style=\"stroke: none; fill: rgb(247, 251, 255);\"/></g><g class=\"contourfill\"><path d=\"M132.65,506.46C129.89,506.46 125.5,502.1 124.36,498.33C122.79,493.13 126.84,480.99 128.96,476.67C130.04,474.48 131.42,472.33 132.65,472.33C133.88,472.33 135.25,474.48 136.33,476.67C138.45,480.99 142.51,493.13 140.94,498.33C139.8,502.1 135.41,506.46 132.65,506.46ZM243.19,511.67C238.65,511.67 231.69,503.9 229.58,498.33C227.33,492.39 229.94,483.84 231.13,476.67C232.34,469.39 236.71,462.24 236.87,455C237.03,447.8 230.83,439.69 232.14,433.33C233.35,427.44 239.51,417.86 243.19,417.86C246.87,417.86 253.03,427.44 254.24,433.33C255.55,439.69 249.35,447.8 249.51,455C249.67,462.24 254.04,469.39 255.25,476.67C256.44,483.84 259.04,492.39 256.79,498.33C254.68,503.9 247.72,511.67 243.19,511.67ZM353.73,516.26C347.63,516.26 338.08,505.28 335.43,498.33C332.99,491.93 336.21,483.88 336.89,476.67C337.57,469.44 339.17,462.24 339.52,455C339.87,447.79 338.63,440.54 338.99,433.33C339.35,426.1 340.6,418.88 341.67,411.67C342.75,404.43 344.05,397.21 345.44,390C346.84,382.76 349.29,375.59 350.05,368.33C350.81,361.15 349.07,352.59 350.05,346.67C350.76,342.37 352.5,335.83 353.73,335.83C354.96,335.83 356.7,342.37 357.41,346.67C358.39,352.59 356.65,361.15 357.41,368.33C358.17,375.59 360.62,382.76 362.02,390C363.41,397.21 364.71,404.43 365.79,411.67C366.86,418.88 368.11,426.1 368.47,433.33C368.83,440.54 367.59,447.79 367.94,455C368.29,462.24 369.89,469.44 370.57,476.67C371.25,483.88 374.47,491.93 372.03,498.33C369.38,505.28 359.83,516.26 353.73,516.26ZM464.27,514.3C458.84,514.3 451.19,504.69 447.98,498.33C444.84,492.1 445.24,483.91 444.93,476.67C444.62,469.46 445.98,462.23 446.11,455C446.24,447.78 445.37,440.54 445.73,433.33C446.09,426.1 446.35,418.75 448.3,411.67C450.33,404.29 457.95,397.22 457.95,390C457.95,382.78 447.95,375.47 448.3,368.33C448.66,361.02 459.09,354.15 460.59,346.67C461.99,339.67 458.97,332.21 457.95,325C456.92,317.77 452.89,309.28 454.44,303.33C455.76,298.28 460.99,290.95 464.27,290.95C467.55,290.95 472.78,298.28 474.1,303.33C475.65,309.28 471.62,317.77 470.59,325C469.57,332.21 466.55,339.67 467.95,346.67C469.45,354.15 479.88,361.02 480.24,368.33C480.59,375.47 470.59,382.78 470.59,390C470.59,397.22 478.21,404.29 480.24,411.67C482.19,418.75 482.45,426.1 482.81,433.33C483.17,440.54 482.3,447.78 482.43,455C482.56,462.23 483.92,469.46 483.61,476.67C483.3,483.91 483.7,492.1 480.56,498.33C477.35,504.69 469.7,514.3 464.27,514.3ZM574.81,516.61C568.59,516.61 559.16,505.38 556.16,498.33C553.42,491.91 555.95,483.89 555.95,476.67C555.95,469.45 555.86,462.22 556.16,455C556.46,447.77 557.47,440.56 557.73,433.33C557.99,426.11 557.6,418.89 557.73,411.67C557.86,404.45 558.21,397.22 558.52,390C558.83,382.78 558.55,375.5 559.61,368.33C560.68,361.06 564.47,353.94 564.98,346.67C565.49,339.49 561.14,331.68 562.75,325C564.38,318.26 570.79,306.43 574.81,306.43C578.83,306.43 585.24,318.26 586.87,325C588.48,331.68 584.13,339.49 584.64,346.67C585.15,353.94 588.94,361.06 590.01,368.33C591.07,375.5 590.79,382.78 591.1,390C591.41,397.22 591.76,404.45 591.89,411.67C592.02,418.89 591.63,426.11 591.89,433.33C592.15,440.56 593.16,447.77 593.46,455C593.76,462.22 593.67,469.45 593.67,476.67C593.67,483.89 596.2,491.91 593.46,498.33C590.46,505.38 581.03,516.61 574.81,516.61ZM685.35,510.97C681.05,510.97 674.05,503.64 672.45,498.33C670.68,492.45 674.95,483.81 677.06,476.67C679.22,469.36 682.59,455 685.35,455C688.11,455 691.48,469.36 693.64,476.67C695.75,483.81 700.02,492.45 698.25,498.33C696.65,503.64 689.65,510.97 685.35,510.97ZM685.35,433.33C684.12,433.33 680.49,415.99 681.67,411.67C682.27,409.47 684.12,407.33 685.35,407.33C686.58,407.33 688.44,409.47 689.04,411.67C690.23,415.99 686.58,433.33 685.35,433.33ZM243.19,361.11C241.08,361.11 237.22,352.04 236.87,346.67C236.46,340.24 241.08,325 243.19,325C245.3,325 249.92,340.24 249.51,346.67C249.16,352.04 245.3,361.11 243.19,361.11ZM464.27,272.38C460.99,272.38 456.37,265.07 454.44,260C452.18,254.07 451.38,244.67 453.22,238.33C454.94,232.4 460.59,222.86 464.27,222.86C467.95,222.86 473.6,232.4 475.32,238.33C477.16,244.67 476.36,254.07 474.1,260C472.17,265.07 467.55,272.38 464.27,272.38ZM574.81,270.83C572.05,270.83 566.52,263.61 566.52,260C566.52,256.39 572.05,249.17 574.81,249.17C577.57,249.17 583.1,256.39 583.1,260C583.1,263.61 577.57,270.83 574.81,270.83ZM464.27,184.17C463.04,184.17 460.19,176.24 460.59,173.33C460.89,171.13 463.04,167.92 464.27,167.92C465.5,167.92 467.65,171.13 467.95,173.33C468.35,176.24 465.5,184.17 464.27,184.17ZM464.27,27.86C462.16,27.86 457.95,23.73 457.95,21.67C457.95,19.61 462.16,15.48 464.27,15.48C466.38,15.48 470.59,19.61 470.59,21.67C470.59,23.73 466.38,27.86 464.27,27.86Z\" style=\"stroke: none; fill: rgb(219, 233, 246);\"/><path d=\"M243.19,503.33C241.49,503.33 238.96,500.89 238.09,498.33C236.57,493.85 239.97,481.44 241.18,476.67C241.8,474.22 242.52,471.25 243.19,471.25C243.86,471.25 244.58,474.22 245.2,476.67C246.41,481.44 249.81,493.85 248.29,498.33C247.42,500.89 244.89,503.33 243.19,503.33ZM353.73,512.53C348.9,512.53 341.25,504.15 339.25,498.33C337.17,492.28 340.8,483.86 342.15,476.67C343.51,469.41 346.72,462.27 347.41,455C348.09,447.83 345.66,440.5 346.36,433.33C347.07,426.06 350.33,416.95 351.72,411.67C352.52,408.61 353.06,404.44 353.73,404.44C354.4,404.44 354.94,408.61 355.74,411.67C357.13,416.95 360.39,426.06 361.1,433.33C361.8,440.5 359.37,447.83 360.05,455C360.74,462.27 363.95,469.41 365.31,476.67C366.66,483.86 370.29,492.28 368.21,498.33C366.21,504.15 358.56,512.53 353.73,512.53ZM464.27,508.6C460.78,508.6 456.47,502.83 453.8,498.33C450.5,492.76 448.3,483.95 447.69,476.67C447.09,469.5 449.79,462.23 450.06,455C450.32,447.79 448.58,440.5 449.29,433.33C450.01,426.06 451.75,418.12 454.44,411.67C456.9,405.78 460.99,395.91 464.27,395.91C467.55,395.91 471.64,405.78 474.1,411.67C476.79,418.12 478.53,426.06 479.25,433.33C479.96,440.5 478.22,447.79 478.48,455C478.75,462.23 481.45,469.5 480.85,476.67C480.24,483.95 478.04,492.76 474.74,498.33C472.07,502.83 467.76,508.6 464.27,508.6ZM574.81,513.23C569.74,513.23 562.22,504.39 559.61,498.33C556.98,492.22 559.21,483.89 559.21,476.67C559.21,469.45 559.02,462.2 559.61,455C560.2,447.76 562.23,440.57 562.75,433.33C563.27,426.13 562.49,418.89 562.75,411.67C563.01,404.44 563.71,397.22 564.34,390C564.97,382.77 564.71,375.14 566.52,368.33C568.27,361.75 572.05,349.76 574.81,349.76C577.57,349.76 581.35,361.75 583.1,368.33C584.91,375.14 584.65,382.77 585.28,390C585.91,397.22 586.61,404.44 586.87,411.67C587.13,418.89 586.35,426.13 586.87,433.33C587.39,440.57 589.42,447.76 590.01,455C590.6,462.2 590.42,469.45 590.42,476.67C590.42,483.89 592.65,492.22 590.01,498.33C587.4,504.39 579.88,513.23 574.81,513.23ZM685.35,501.94C684.12,501.94 682.07,500.02 681.67,498.33C681.07,495.81 684.12,487.5 685.35,487.5C686.58,487.5 689.64,495.81 689.04,498.33C688.64,500.02 686.58,501.94 685.35,501.94ZM464.27,384.09C460.99,384.09 454.34,373.44 454.44,368.33C454.54,363.38 460.99,353.89 464.27,353.89C467.55,353.89 474,363.38 474.1,368.33C474.2,373.44 467.55,384.09 464.27,384.09ZM574.81,335.83C574.14,335.83 572.31,327.45 572.8,325C573.08,323.58 574.14,321.9 574.81,321.9C575.48,321.9 576.54,323.58 576.82,325C577.31,327.45 575.48,335.83 574.81,335.83Z\" style=\"stroke: none; fill: rgb(187, 214, 235);\"/><path d=\"M353.73,508.79C350.17,508.79 344.47,502.92 343.06,498.33C341.34,492.75 345.56,483.55 347.41,476.67C349.16,470.18 351.62,458.1 353.73,458.1C355.84,458.1 358.3,470.18 360.05,476.67C361.9,483.55 366.12,492.75 364.4,498.33C362.99,502.92 357.29,508.79 353.73,508.79ZM464.27,502.89C462.72,502.89 461.19,500.64 459.62,498.33C456.64,493.95 451.33,484.02 450.45,476.67C449.6,469.57 453.61,462.24 454.01,455C454.41,447.8 451.82,440.45 452.86,433.33C453.93,426 458.24,416.54 460.59,411.67C461.88,408.99 463.04,405.76 464.27,405.76C465.5,405.76 466.66,408.99 467.95,411.67C470.3,416.54 474.61,426 475.68,433.33C476.72,440.45 474.13,447.8 474.53,455C474.93,462.24 478.94,469.57 478.09,476.67C477.21,484.02 471.9,493.95 468.92,498.33C467.35,500.64 465.82,502.89 464.27,502.89ZM574.81,509.84C570.9,509.84 565.24,503.31 563.07,498.33C560.57,492.61 562.46,483.89 562.46,476.67C562.46,469.45 562.2,462.18 563.07,455C563.95,447.74 567,440.59 567.78,433.33C568.55,426.15 567.39,418.88 567.78,411.67C568.18,404.44 569.07,397.26 570.16,390C571.28,382.56 572.92,367.58 574.4649999999999,367.5575C576.02,367.53 578.23,382.55 579.47,390C580.67,397.25 581.45,404.44 581.85,411.67C582.24,418.88 581.08,426.15 581.85,433.33C582.63,440.59 585.68,447.74 586.56,455C587.43,462.18 587.17,469.45 587.17,476.67C587.17,483.89 589.06,492.62 586.56,498.33C584.38,503.31 578.73,509.84 574.81,509.84ZM464.27,374.24C463.04,374.24 460.55,370.24 460.59,368.33C460.63,366.47 463.04,362.92 464.27,362.92C465.5,362.92 467.91,366.47 467.95,368.33C467.99,370.24 465.5,374.24 464.27,374.24Z\" style=\"stroke: none; fill: rgb(136, 190, 220);\"/><path d=\"M353.73,505.06C351.44,505.06 347.75,501.56 346.87,498.33C345.53,493.4 351.48,480.62 352.68,476.67C353.14,475.16 353.38,473.57 353.73,473.57C354.08,473.57 354.32,475.16 354.78,476.67C355.98,480.62 361.93,493.4 360.59,498.33C359.71,501.56 356.02,505.06 353.73,505.06ZM574.81,506.46C572.05,506.46 568.2,502.13 566.52,498.33C564.23,493.14 565.71,483.89 565.71,476.67C565.71,469.45 565.37,462.15 566.52,455C567.7,447.7 571.76,440.63 572.8,433.33C573.82,426.18 572.35,418.15 572.8,411.67C573.17,406.35 574.14,397.22 574.81,397.22C575.48,397.22 576.45,406.35 576.82,411.67C577.27,418.15 575.8,426.18 576.82,433.33C577.86,440.63 581.92,447.7 583.1,455C584.25,462.15 583.91,469.45 583.91,476.67C583.91,483.89 585.39,493.14 583.1,498.33C581.42,502.13 577.57,506.46 574.81,506.46ZM464.27,497.3C460.59,497.3 454.22,483.82 453.22,476.67C452.25,469.71 457.42,462.26 457.95,455C458.47,447.81 455.28,440.12 456.43,433.33C457.53,426.82 461.66,415 464.27,415C466.89,415 471.02,426.82 472.12,433.33C473.27,440.12 470.07,447.81 470.59,455C471.12,462.26 476.29,469.71 475.32,476.67C474.32,483.82 467.95,497.3 464.27,497.3Z\" style=\"stroke: none; fill: rgb(84, 158, 205);\"/><path d=\"M353.73,501.32C352.71,501.32 351.07,499.79 350.68,498.33C350.05,495.95 352.71,487.5 353.73,487.5C354.75,487.5 357.41,495.95 356.78,498.33C356.39,499.79 354.75,501.32 353.73,501.32ZM574.81,503.07C573.2,503.07 571.07,500.79 569.97,498.33C568,493.93 568.96,483.89 568.96,476.67C568.96,469.45 568.8,461.51 569.97,455C570.97,449.42 573.2,439.83 574.81,439.83C576.42,439.83 578.65,449.42 579.65,455C580.82,461.51 580.66,469.45 580.66,476.67C580.66,483.89 581.62,493.93 579.65,498.33C578.55,500.79 576.42,503.07 574.81,503.07ZM464.27,492.14C461.51,492.14 456.63,482.4 455.98,476.67C455.25,470.18 461.25,462.28 461.9,455C462.54,447.83 459.07,439.08 459.99,433.33C460.64,429.26 462.84,423.33 464.27,423.33C465.7,423.33 467.9,429.26 468.55,433.33C469.47,439.08 466,447.83 466.64,455C467.29,462.28 473.29,470.18 472.56,476.67C471.91,482.4 467.03,492.14 464.27,492.14Z\" style=\"stroke: none; fill: rgb(42, 122, 186);\"/><path d=\"M574.1199999999999,499.01C573.26,498.98 572.32,484.06 572.21,476.67C572.1,469.4 572.61,459.43 573.43,455C573.8,452.97 574.35,450.67 574.81,450.67C575.27,450.67 575.82,452.97 576.19,455C577.01,459.43 577.74,469.41 577.41,476.67C577.08,484.08 574.99,499.04 574.1199999999999,499.01ZM464.27,486.98C462.43,486.98 459.13,480.68 458.74,476.67C458.24,471.58 462.43,458.61 464.27,458.61C466.11,458.61 470.3,471.58 469.8,476.67C469.41,480.68 466.11,486.98 464.27,486.98ZM464.27,440.56C464.03,440.56 463.32,434.87 463.56,433.33C463.68,432.56 464.03,431.67 464.27,431.67C464.51,431.67 464.86,432.56 464.98,433.33C465.22,434.87 464.51,440.56 464.27,440.56Z\" style=\"stroke: none; fill: rgb(12, 86, 160);\"/><path d=\"M464.27,481.83C463.35,481.83 461.71,478.68 461.51,476.67C461.26,474.12 463.35,467.64 464.27,467.64C465.19,467.64 467.28,474.12 467.03,476.67C466.83,478.68 465.19,481.83 464.27,481.83Z\" style=\"stroke: none; fill: rgb(8, 48, 107);\"/></g><g class=\"contourlines\"/></g></g></g></g><path class=\"xlines-above crisp\" d=\"M79,620.5H898\" style=\"fill: none; stroke-width: 1px; stroke: rgb(36, 36, 36); stroke-opacity: 1;\"/><path class=\"ylines-above crisp\" d=\"M79.5,100V620\" style=\"fill: none; stroke-width: 1px; stroke: rgb(36, 36, 36); stroke-opacity: 1;\"/><g class=\"overlines-above\"/><g class=\"xaxislayer-above\"><path class=\"xtick ticks crisp\" d=\"M0,621v5\" transform=\"translate(102.11,0)\" style=\"stroke: rgb(68, 68, 68); stroke-opacity: 1; stroke-width: 1px;\"/><path class=\"xtick ticks crisp\" d=\"M0,621v5\" transform=\"translate(212.65,0)\" style=\"stroke: rgb(68, 68, 68); stroke-opacity: 1; stroke-width: 1px;\"/><path class=\"xtick ticks crisp\" d=\"M0,621v5\" transform=\"translate(323.19,0)\" style=\"stroke: rgb(68, 68, 68); stroke-opacity: 1; stroke-width: 1px;\"/><path class=\"xtick ticks crisp\" d=\"M0,621v5\" transform=\"translate(433.73,0)\" style=\"stroke: rgb(68, 68, 68); stroke-opacity: 1; stroke-width: 1px;\"/><path class=\"xtick ticks crisp\" d=\"M0,621v5\" transform=\"translate(544.27,0)\" style=\"stroke: rgb(68, 68, 68); stroke-opacity: 1; stroke-width: 1px;\"/><path class=\"xtick ticks crisp\" d=\"M0,621v5\" transform=\"translate(654.81,0)\" style=\"stroke: rgb(68, 68, 68); stroke-opacity: 1; stroke-width: 1px;\"/><path class=\"xtick ticks crisp\" d=\"M0,621v5\" transform=\"translate(765.35,0)\" style=\"stroke: rgb(68, 68, 68); stroke-opacity: 1; stroke-width: 1px;\"/><path class=\"xtick ticks crisp\" d=\"M0,621v5\" transform=\"translate(875.89,0)\" style=\"stroke: rgb(68, 68, 68); stroke-opacity: 1; stroke-width: 1px;\"/><g class=\"xtick\"><text text-anchor=\"middle\" x=\"0\" y=\"640.4\" transform=\"translate(102.11,0)\" style=\"font-family: 'Open Sans', verdana, arial, sans-serif; font-size: 12px; fill: rgb(36, 36, 36); fill-opacity: 1; white-space: pre; opacity: 1;\">4.3</text></g><g class=\"xtick\"><text text-anchor=\"middle\" x=\"0\" y=\"640.4\" style=\"font-family: 'Open Sans', verdana, arial, sans-serif; font-size: 12px; fill: rgb(36, 36, 36); fill-opacity: 1; white-space: pre; opacity: 1;\" transform=\"translate(212.65,0)\">4.4</text></g><g class=\"xtick\"><text text-anchor=\"middle\" x=\"0\" y=\"640.4\" style=\"font-family: 'Open Sans', verdana, arial, sans-serif; font-size: 12px; fill: rgb(36, 36, 36); fill-opacity: 1; white-space: pre; opacity: 1;\" transform=\"translate(323.19,0)\">4.5</text></g><g class=\"xtick\"><text text-anchor=\"middle\" x=\"0\" y=\"640.4\" style=\"font-family: 'Open Sans', verdana, arial, sans-serif; font-size: 12px; fill: rgb(36, 36, 36); fill-opacity: 1; white-space: pre; opacity: 1;\" transform=\"translate(433.73,0)\">4.6</text></g><g class=\"xtick\"><text text-anchor=\"middle\" x=\"0\" y=\"640.4\" style=\"font-family: 'Open Sans', verdana, arial, sans-serif; font-size: 12px; fill: rgb(36, 36, 36); fill-opacity: 1; white-space: pre; opacity: 1;\" transform=\"translate(544.27,0)\">4.7</text></g><g class=\"xtick\"><text text-anchor=\"middle\" x=\"0\" y=\"640.4\" style=\"font-family: 'Open Sans', verdana, arial, sans-serif; font-size: 12px; fill: rgb(36, 36, 36); fill-opacity: 1; white-space: pre; opacity: 1;\" transform=\"translate(654.81,0)\">4.8</text></g><g class=\"xtick\"><text text-anchor=\"middle\" x=\"0\" y=\"640.4\" style=\"font-family: 'Open Sans', verdana, arial, sans-serif; font-size: 12px; fill: rgb(36, 36, 36); fill-opacity: 1; white-space: pre; opacity: 1;\" transform=\"translate(765.35,0)\">4.9</text></g><g class=\"xtick\"><text text-anchor=\"middle\" x=\"0\" y=\"640.4\" style=\"font-family: 'Open Sans', verdana, arial, sans-serif; font-size: 12px; fill: rgb(36, 36, 36); fill-opacity: 1; white-space: pre; opacity: 1;\" transform=\"translate(875.89,0)\">5</text></g></g><g class=\"yaxislayer-above\"><path class=\"ytick ticks crisp\" d=\"M79,0h-5\" transform=\"translate(0,609.1700000000001)\" style=\"stroke: rgb(68, 68, 68); stroke-opacity: 1; stroke-width: 1px;\"/><path class=\"ytick ticks crisp\" d=\"M79,0h-5\" transform=\"translate(0,500.83)\" style=\"stroke: rgb(68, 68, 68); stroke-opacity: 1; stroke-width: 1px;\"/><path class=\"ytick ticks crisp\" d=\"M79,0h-5\" transform=\"translate(0,392.5)\" style=\"stroke: rgb(68, 68, 68); stroke-opacity: 1; stroke-width: 1px;\"/><path class=\"ytick ticks crisp\" d=\"M79,0h-5\" transform=\"translate(0,284.16999999999996)\" style=\"stroke: rgb(68, 68, 68); stroke-opacity: 1; stroke-width: 1px;\"/><path class=\"ytick ticks crisp\" d=\"M79,0h-5\" transform=\"translate(0,175.82999999999998)\" style=\"stroke: rgb(68, 68, 68); stroke-opacity: 1; stroke-width: 1px;\"/><g class=\"ytick\"><text text-anchor=\"end\" x=\"71.6\" y=\"4.199999999999999\" transform=\"translate(0,609.1700000000001)\" style=\"font-family: 'Open Sans', verdana, arial, sans-serif; font-size: 12px; fill: rgb(36, 36, 36); fill-opacity: 1; white-space: pre; opacity: 1;\">0</text></g><g class=\"ytick\"><text text-anchor=\"end\" x=\"71.6\" y=\"4.199999999999999\" style=\"font-family: 'Open Sans', verdana, arial, sans-serif; font-size: 12px; fill: rgb(36, 36, 36); fill-opacity: 1; white-space: pre; opacity: 1;\" transform=\"translate(0,500.83)\">50k</text></g><g class=\"ytick\"><text text-anchor=\"end\" x=\"71.6\" y=\"4.199999999999999\" style=\"font-family: 'Open Sans', verdana, arial, sans-serif; font-size: 12px; fill: rgb(36, 36, 36); fill-opacity: 1; white-space: pre; opacity: 1;\" transform=\"translate(0,392.5)\">100k</text></g><g class=\"ytick\"><text text-anchor=\"end\" x=\"71.6\" y=\"4.199999999999999\" style=\"font-family: 'Open Sans', verdana, arial, sans-serif; font-size: 12px; fill: rgb(36, 36, 36); fill-opacity: 1; white-space: pre; opacity: 1;\" transform=\"translate(0,284.16999999999996)\">150k</text></g><g class=\"ytick\"><text text-anchor=\"end\" x=\"71.6\" y=\"4.199999999999999\" style=\"font-family: 'Open Sans', verdana, arial, sans-serif; font-size: 12px; fill: rgb(36, 36, 36); fill-opacity: 1; white-space: pre; opacity: 1;\" transform=\"translate(0,175.82999999999998)\">200k</text></g></g><g class=\"overaxes-above\"/></g></g><g class=\"polarlayer\"/><g class=\"smithlayer\"/><g class=\"ternarylayer\"/><g class=\"geolayer\"/><g class=\"funnelarealayer\"/><g class=\"pielayer\"/><g class=\"iciclelayer\"/><g class=\"treemaplayer\"/><g class=\"sunburstlayer\"/><g class=\"glimages\"/><defs id=\"topdefs-5bd446\"><g class=\"clips\"/></defs><g class=\"layer-above\"><g class=\"imagelayer\"/><g class=\"shapelayer\"/></g><g class=\"infolayer\"><g class=\"cb5d4251 colorbar\" transform=\"translate(80,100)\"><rect class=\"cbbg\" x=\"833.5\" y=\"0\" width=\"73.671875\" height=\"521\" style=\"fill: rgb(0, 0, 0); fill-opacity: 0; stroke: rgb(68, 68, 68); stroke-opacity: 1; stroke-width: 0;\"/><g class=\"cbfills\" transform=\"translate(0,10)\"><rect class=\"cbfill\" style=\"\" x=\"844\" y=\"1\" width=\"30\" height=\"499\" fill=\"#f7fbff\"/><rect class=\"cbfill\" style=\"\" x=\"844\" y=\"1\" width=\"30\" height=\"437\" fill=\"#dbe9f6\"/><rect class=\"cbfill\" style=\"\" x=\"844\" y=\"1\" width=\"30\" height=\"374\" fill=\"#bbd6eb\"/><rect class=\"cbfill\" style=\"\" x=\"844\" y=\"1\" width=\"30\" height=\"312\" fill=\"#88bedc\"/><rect class=\"cbfill\" style=\"\" x=\"844\" y=\"1\" width=\"30\" height=\"249\" fill=\"#549ecd\"/><rect class=\"cbfill\" style=\"\" x=\"844\" y=\"1\" width=\"30\" height=\"187\" fill=\"#2a7aba\"/><rect class=\"cbfill\" style=\"\" x=\"844\" y=\"1\" width=\"30\" height=\"124\" fill=\"#0c56a0\"/><rect class=\"cbfill\" style=\"\" x=\"844\" y=\"0\" width=\"30\" height=\"63\" fill=\"#08306b\"/></g><g class=\"cblines\" transform=\"translate(0,10)\"/><g class=\"cbaxis crisp\" transform=\"translate(0,-100)\"><path class=\"ycb5d4251tick ticks crisp\" d=\"M874,0h5\" transform=\"translate(0,610)\" style=\"stroke: rgb(36, 36, 36); stroke-opacity: 1; stroke-width: 1px;\"/><path class=\"ycb5d4251tick ticks crisp\" d=\"M874,0h5\" transform=\"translate(0,547.5)\" style=\"stroke: rgb(36, 36, 36); stroke-opacity: 1; stroke-width: 1px;\"/><path class=\"ycb5d4251tick ticks crisp\" d=\"M874,0h5\" transform=\"translate(0,485)\" style=\"stroke: rgb(36, 36, 36); stroke-opacity: 1; stroke-width: 1px;\"/><path class=\"ycb5d4251tick ticks crisp\" d=\"M874,0h5\" transform=\"translate(0,422.5)\" style=\"stroke: rgb(36, 36, 36); stroke-opacity: 1; stroke-width: 1px;\"/><path class=\"ycb5d4251tick ticks crisp\" d=\"M874,0h5\" transform=\"translate(0,360)\" style=\"stroke: rgb(36, 36, 36); stroke-opacity: 1; stroke-width: 1px;\"/><path class=\"ycb5d4251tick ticks crisp\" d=\"M874,0h5\" transform=\"translate(0,297.5)\" style=\"stroke: rgb(36, 36, 36); stroke-opacity: 1; stroke-width: 1px;\"/><path class=\"ycb5d4251tick ticks crisp\" d=\"M874,0h5\" transform=\"translate(0,235.00000000000003)\" style=\"stroke: rgb(36, 36, 36); stroke-opacity: 1; stroke-width: 1px;\"/><path class=\"ycb5d4251tick ticks crisp\" d=\"M874,0h5\" transform=\"translate(0,172.50000000000003)\" style=\"stroke: rgb(36, 36, 36); stroke-opacity: 1; stroke-width: 1px;\"/><path class=\"ycb5d4251tick ticks crisp\" d=\"M874,0h5\" transform=\"translate(0,110.00000000000003)\" style=\"stroke: rgb(36, 36, 36); stroke-opacity: 1; stroke-width: 1px;\"/><g class=\"ycb5d4251tick\"><text text-anchor=\"start\" x=\"881.4\" y=\"4.199999999999999\" transform=\"translate(0,610)\" style=\"font-family: 'Open Sans', verdana, arial, sans-serif; font-size: 12px; fill: rgb(36, 36, 36); fill-opacity: 1; white-space: pre; opacity: 1;\">0</text></g><g class=\"ycb5d4251tick\"><text text-anchor=\"start\" x=\"881.4\" y=\"4.199999999999999\" style=\"font-family: 'Open Sans', verdana, arial, sans-serif; font-size: 12px; fill: rgb(36, 36, 36); fill-opacity: 1; white-space: pre; opacity: 1;\" transform=\"translate(0,547.5)\">5</text></g><g class=\"ycb5d4251tick\"><text text-anchor=\"start\" x=\"881.4\" y=\"4.199999999999999\" style=\"font-family: 'Open Sans', verdana, arial, sans-serif; font-size: 12px; fill: rgb(36, 36, 36); fill-opacity: 1; white-space: pre; opacity: 1;\" transform=\"translate(0,485)\">10</text></g><g class=\"ycb5d4251tick\"><text text-anchor=\"start\" x=\"881.4\" y=\"4.199999999999999\" style=\"font-family: 'Open Sans', verdana, arial, sans-serif; font-size: 12px; fill: rgb(36, 36, 36); fill-opacity: 1; white-space: pre; opacity: 1;\" transform=\"translate(0,422.5)\">15</text></g><g class=\"ycb5d4251tick\"><text text-anchor=\"start\" x=\"881.4\" y=\"4.199999999999999\" style=\"font-family: 'Open Sans', verdana, arial, sans-serif; font-size: 12px; fill: rgb(36, 36, 36); fill-opacity: 1; white-space: pre; opacity: 1;\" transform=\"translate(0,360)\">20</text></g><g class=\"ycb5d4251tick\"><text text-anchor=\"start\" x=\"881.4\" y=\"4.199999999999999\" style=\"font-family: 'Open Sans', verdana, arial, sans-serif; font-size: 12px; fill: rgb(36, 36, 36); fill-opacity: 1; white-space: pre; opacity: 1;\" transform=\"translate(0,297.5)\">25</text></g><g class=\"ycb5d4251tick\"><text text-anchor=\"start\" x=\"881.4\" y=\"4.199999999999999\" style=\"font-family: 'Open Sans', verdana, arial, sans-serif; font-size: 12px; fill: rgb(36, 36, 36); fill-opacity: 1; white-space: pre; opacity: 1;\" transform=\"translate(0,235.00000000000003)\">30</text></g><g class=\"ycb5d4251tick\"><text text-anchor=\"start\" x=\"881.4\" y=\"4.199999999999999\" style=\"font-family: 'Open Sans', verdana, arial, sans-serif; font-size: 12px; fill: rgb(36, 36, 36); fill-opacity: 1; white-space: pre; opacity: 1;\" transform=\"translate(0,172.50000000000003)\">35</text></g><g class=\"ycb5d4251tick\"><text text-anchor=\"start\" x=\"881.4\" y=\"4.199999999999999\" style=\"font-family: 'Open Sans', verdana, arial, sans-serif; font-size: 12px; fill: rgb(36, 36, 36); fill-opacity: 1; white-space: pre; opacity: 1;\" transform=\"translate(0,110.00000000000003)\">40</text></g></g><g class=\"cbtitleunshift\" transform=\"translate(-80,-100)\"><g class=\"cbtitle\"/></g><rect class=\"cboutline\" x=\"844\" y=\"10\" width=\"30\" height=\"500\" style=\"stroke: rgb(68, 68, 68); stroke-opacity: 1; fill: none; stroke-width: 1;\"/></g><g class=\"g-gtitle\"/><g class=\"g-xtitle\"/><g class=\"g-ytitle\"/></g></svg>"
      ]
     },
     "metadata": {},
     "output_type": "display_data"
    }
   ],
   "source": [
    "fig = go.Figure()\n",
    "\n",
    "# Add the contour plot with explicit control over bins\n",
    "fig.add_trace(go.Histogram2dContour(\n",
    "    x=df_cleaned['course_rating'],\n",
    "    y=df_cleaned['course_students_enrolled'],\n",
    "    colorscale=\"Blues\",\n",
    "    contours=dict(\n",
    "        coloring='fill',\n",
    "        showlines=False  # Disable lines, if you want only filled contours\n",
    "    ),\n",
    "    nbinsx=40,  # Number of bins for x-axis (course_rating)\n",
    "    nbinsy=40   # Number of bins for y-axis (course_students_enrolled)\n",
    "))\n",
    "\n",
    "# Add color bar for better visual understanding\n",
    "fig.update_layout(\n",
    "    template=\"simple_white\",\n",
    "    width=1000,\n",
    "    height=700,\n",
    "    coloraxis_colorbar=dict(\n",
    "        title=\"Density\",\n",
    "        titleside=\"right\"\n",
    "    )\n",
    ")\n",
    "\n",
    "# Show plot\n",
    "fig.show()"
   ]
  }
 ],
 "metadata": {
  "kernelspec": {
   "display_name": "turing",
   "language": "python",
   "name": "python3"
  },
  "language_info": {
   "codemirror_mode": {
    "name": "ipython",
    "version": 3
   },
   "file_extension": ".py",
   "mimetype": "text/x-python",
   "name": "python",
   "nbconvert_exporter": "python",
   "pygments_lexer": "ipython3",
   "version": "3.12.4"
  }
 },
 "nbformat": 4,
 "nbformat_minor": 2
}
